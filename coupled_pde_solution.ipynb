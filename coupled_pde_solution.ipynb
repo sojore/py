{
 "cells": [
  {
   "cell_type": "code",
   "execution_count": 15,
   "metadata": {},
   "outputs": [
    {
     "data": {
      "text/plain": [
       "<function matplotlib.pyplot.show(close=None, block=None)>"
      ]
     },
     "execution_count": 15,
     "metadata": {},
     "output_type": "execute_result"
    },
    {
     "data": {
      "image/png": "[encoded data removed]",
      "text/plain": [
       "<Figure size 432x288 with 1 Axes>"
      ]
     },
     "metadata": {
      "needs_background": "light"
     },
     "output_type": "display_data"
    }
   ],
   "source": [
    "# -*- coding: utf-8 -*-\n",
    "\"\"\"\n",
    "Created on Mon Jul 12 10:41:09 2021\n",
    "\n",
    "@author: sojore\n",
    "\"\"\"\n",
    "#importing important libraries\n",
    "import numpy as np\n",
    "import matplotlib.pyplot as plt\n",
    "from scipy.integrate import odeint\n",
    "import pandas as pd\n",
    "\n",
    "def coupled_pde_func(x,t):\n",
    "    #defining constants\n",
    "    Co2=0.1889\n",
    "    k1=60\n",
    "    k2=12\n",
    "    k3=19.6\n",
    "    k4=75.1\n",
    "    k5=19.8\n",
    "    kCo2=375.3\n",
    "    ohmCo2=0.038\n",
    "    N=20\n",
    "    L=1\n",
    "    dx=L/N\n",
    "    DCo2=0.549\n",
    "    DH20=0.873\n",
    "    dt=0.1\n",
    "    t_final=150\n",
    "    T0=0\n",
    "    \n",
    "    #assinging each ODE a vector element\n",
    "    A=x[0]\n",
    "    B=x[1]\n",
    "    C=x[2]\n",
    "    P=x[3]\n",
    "    \n",
    "    t = np.linspace(0, 10, 150)\n",
    "    dt = np.diff(t)\n",
    "    x=np.linspace(dx/2,L-dx/2,N)\n",
    "    A=np.ones(N)*T0\n",
    "    B=np.ones(N)*T0\n",
    "    C=np.ones(N)*T0\n",
    "    P=np.ones(N)*T0\n",
    "    dAdt=np.empty(N)\n",
    "    dBdt=np.empty(N)\n",
    "    dCdt=np.empty(N)\n",
    "    dPdt=np.empty(N)\n",
    "    t1=np.arange(0,150,0.1)\n",
    "    #t2=t1.all()\n",
    "    #t1=np.logical_and(t1)\n",
    "    \n",
    "    \n",
    "    #defining the ODES\n",
    "    for j in range(1,len(t1)):\n",
    "        for i in range(1,N-1):\n",
    "            dAdt[i]=-(A[i+1]-A[i-1])/2*dx+(DCo2*(A[i+1]-2*A[i]+A[i-1]))/dx**2-(k1-Co2)*(1-C[i]-P[i])\n",
    "            dBdt[i]=-(B[i+1]-B[i-1])/2*dx+(DH20*(B[i+1]-2*B[i]+B[i+1]))/dx**2+k2*A[i]*P[i]-k3*(1-C[i]-P[i])-(k4*B[i])/(1+Co2*A[i])\n",
    "            dCdt[i]=-((k1*Co2)*(1-C[i]-P[i]))/ohmCo2\n",
    "            dPdt=(k2*A*P)-k3*(1-C-P)-(k4*B*C)/(1+kCo2*A)+k5*A*C*P\n",
    "            \n",
    "            #the function returns several outputs,so you can run each to see the output\n",
    "            df0=[dAdt[0],dBdt[0],dCdt[0],dPdt[0]]\n",
    "#             df1=[dAdt[1],dBdt[1],dCdt[1],dPdt[1]]\n",
    "#             df2=[dAdt[2],dBdt[2],dCdt[2],dPdt[2]]\n",
    "#             df3=[dAdt[3],dBdt[3],dCdt[3],dPdt[3]]\n",
    "            \n",
    "    return df0\n",
    "\n",
    "#printing out some initial conditions\n",
    "x0=[0.83,0.59,0.8,150]\n",
    "\n",
    "#print(coupled_pde_func(x=x0,t=0))  \n",
    "s=(coupled_pde_func(x=x0,t=0)) \n",
    "#for k in s:\n",
    "    #print (k[0],k[1],k[2])\n",
    "    \n",
    "##solving the system using odeint ----declaring a time vector\n",
    "\n",
    "t=np.linspace(0,3,10)  #you can change the values of the parameter depending on the choice\n",
    "x=odeint(coupled_pde_func,x0,t)\n",
    "\n",
    "A=x[:,0]\n",
    "B=x[:,1]\n",
    "C=x[:,2]\n",
    "P=x[:,3]\n",
    "\n",
    "#ploting the results\n",
    "\n",
    "plt.semilogy(t,A,label='Cco2')\n",
    "plt.semilogy(t,B,label='CH2o')\n",
    "plt.semilogy(t,C,label='0Co2')\n",
    "plt.semilogy(t,P,label='0H2o')\n",
    "plt.ylabel('States(log scale)')\n",
    "plt.title('Adsorption')\n",
    "plt.xlabel('Time')\n",
    "plt.legend('best')\n",
    "plt.show\n",
    "\n",
    "            "
   ]
  },
  {
   "cell_type": "code",
   "execution_count": null,
   "metadata": {},
   "outputs": [],
   "source": []
  }
 ],
 "metadata": {
  "kernelspec": {
   "display_name": "Python 3",
   "language": "python",
   "name": "python3"
  },
  "language_info": {
   "codemirror_mode": {
    "name": "ipython",
    "version": 3
   },
   "file_extension": ".py",
   "mimetype": "text/x-python",
   "name": "python",
   "nbconvert_exporter": "python",
   "pygments_lexer": "ipython3",
   "version": "3.8.5"
  }
 },
 "nbformat": 4,
 "nbformat_minor": 4
}
