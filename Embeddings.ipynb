{
  "cells": [
    {
      "cell_type": "code",
      "execution_count": null,
      "metadata": {
        "id": "XGZBKOH9eV01"
      },
      "outputs": [],
      "source": [
        "#Adapted from the Keras Example https://keras.io/examples/structured_data/collaborative_filtering_movielens/"
      ]
    },
    {
      "cell_type": "code",
      "execution_count": null,
      "metadata": {
        "id": "1Qk0XFYSeV02"
      },
      "outputs": [],
      "source": [
        "#to clean up the code we import warnings\n",
        "import warnings\n",
        "warnings.filterwarnings('ignore')\n",
        "\n",
        "import pandas as pd\n",
        "import numpy as np\n",
        "import tensorflow as tf\n",
        "from tensorflow import keras\n",
        "from tensorflow.keras import layers\n",
        "from pathlib import Path\n",
        "import matplotlib.pyplot as plt\n",
        "from sklearn.decomposition import PCA\n",
        "from sklearn.preprocessing import StandardScaler\n"
      ]
    },
    {
      "cell_type": "code",
      "execution_count": null,
      "metadata": {
        "id": "Dz7ptBw7eV04"
      },
      "outputs": [],
      "source": [
        "df = pd.read_csv(\"ratings.csv\")"
      ]
    },
    {
      "cell_type": "code",
      "execution_count": null,
      "metadata": {
        "colab": {
          "base_uri": "https://localhost:8080/"
        },
        "id": "3oiWOXZieV05",
        "outputId": "d9f7d823-22ce-467d-fe28-bdce5fe755fc"
      },
      "outputs": [
        {
          "output_type": "execute_result",
          "data": {
            "text/plain": [
              "100004"
            ]
          },
          "metadata": {},
          "execution_count": 5
        }
      ],
      "source": [
        "len(df)"
      ]
    },
    {
      "cell_type": "code",
      "execution_count": null,
      "metadata": {
        "colab": {
          "base_uri": "https://localhost:8080/",
          "height": 175
        },
        "id": "kzNxnNpqeV06",
        "outputId": "931bc58c-9055-4642-9bdf-e0c573762a11"
      },
      "outputs": [
        {
          "output_type": "execute_result",
          "data": {
            "text/plain": [
              "        userId  movieId  rating   timestamp\n",
              "100000     671     6269     4.0  1065149201\n",
              "100001     671     6365     4.0  1070940363\n",
              "100002     671     6385     2.5  1070979663\n",
              "100003     671     6565     3.5  1074784724"
            ],
            "text/html": [
              "\n",
              "  <div id=\"df-15a7dab4-b8d6-4702-b50b-16349cabadf8\">\n",
              "    <div class=\"colab-df-container\">\n",
              "      <div>\n",
              "<style scoped>\n",
              "    .dataframe tbody tr th:only-of-type {\n",
              "        vertical-align: middle;\n",
              "    }\n",
              "\n",
              "    .dataframe tbody tr th {\n",
              "        vertical-align: top;\n",
              "    }\n",
              "\n",
              "    .dataframe thead th {\n",
              "        text-align: right;\n",
              "    }\n",
              "</style>\n",
              "<table border=\"1\" class=\"dataframe\">\n",
              "  <thead>\n",
              "    <tr style=\"text-align: right;\">\n",
              "      <th></th>\n",
              "      <th>userId</th>\n",
              "      <th>movieId</th>\n",
              "      <th>rating</th>\n",
              "      <th>timestamp</th>\n",
              "    </tr>\n",
              "  </thead>\n",
              "  <tbody>\n",
              "    <tr>\n",
              "      <th>100000</th>\n",
              "      <td>671</td>\n",
              "      <td>6269</td>\n",
              "      <td>4.0</td>\n",
              "      <td>1065149201</td>\n",
              "    </tr>\n",
              "    <tr>\n",
              "      <th>100001</th>\n",
              "      <td>671</td>\n",
              "      <td>6365</td>\n",
              "      <td>4.0</td>\n",
              "      <td>1070940363</td>\n",
              "    </tr>\n",
              "    <tr>\n",
              "      <th>100002</th>\n",
              "      <td>671</td>\n",
              "      <td>6385</td>\n",
              "      <td>2.5</td>\n",
              "      <td>1070979663</td>\n",
              "    </tr>\n",
              "    <tr>\n",
              "      <th>100003</th>\n",
              "      <td>671</td>\n",
              "      <td>6565</td>\n",
              "      <td>3.5</td>\n",
              "      <td>1074784724</td>\n",
              "    </tr>\n",
              "  </tbody>\n",
              "</table>\n",
              "</div>\n",
              "      <button class=\"colab-df-convert\" onclick=\"convertToInteractive('df-15a7dab4-b8d6-4702-b50b-16349cabadf8')\"\n",
              "              title=\"Convert this dataframe to an interactive table.\"\n",
              "              style=\"display:none;\">\n",
              "        \n",
              "  <svg xmlns=\"http://www.w3.org/2000/svg\" height=\"24px\"viewBox=\"0 0 24 24\"\n",
              "       width=\"24px\">\n",
              "    <path d=\"M0 0h24v24H0V0z\" fill=\"none\"/>\n",
              "    <path d=\"M18.56 5.44l.94 2.06.94-2.06 2.06-.94-2.06-.94-.94-2.06-.94 2.06-2.06.94zm-11 1L8.5 8.5l.94-2.06 2.06-.94-2.06-.94L8.5 2.5l-.94 2.06-2.06.94zm10 10l.94 2.06.94-2.06 2.06-.94-2.06-.94-.94-2.06-.94 2.06-2.06.94z\"/><path d=\"M17.41 7.96l-1.37-1.37c-.4-.4-.92-.59-1.43-.59-.52 0-1.04.2-1.43.59L10.3 9.45l-7.72 7.72c-.78.78-.78 2.05 0 2.83L4 21.41c.39.39.9.59 1.41.59.51 0 1.02-.2 1.41-.59l7.78-7.78 2.81-2.81c.8-.78.8-2.07 0-2.86zM5.41 20L4 18.59l7.72-7.72 1.47 1.35L5.41 20z\"/>\n",
              "  </svg>\n",
              "      </button>\n",
              "      \n",
              "  <style>\n",
              "    .colab-df-container {\n",
              "      display:flex;\n",
              "      flex-wrap:wrap;\n",
              "      gap: 12px;\n",
              "    }\n",
              "\n",
              "    .colab-df-convert {\n",
              "      background-color: #E8F0FE;\n",
              "      border: none;\n",
              "      border-radius: 50%;\n",
              "      cursor: pointer;\n",
              "      display: none;\n",
              "      fill: #1967D2;\n",
              "      height: 32px;\n",
              "      padding: 0 0 0 0;\n",
              "      width: 32px;\n",
              "    }\n",
              "\n",
              "    .colab-df-convert:hover {\n",
              "      background-color: #E2EBFA;\n",
              "      box-shadow: 0px 1px 2px rgba(60, 64, 67, 0.3), 0px 1px 3px 1px rgba(60, 64, 67, 0.15);\n",
              "      fill: #174EA6;\n",
              "    }\n",
              "\n",
              "    [theme=dark] .colab-df-convert {\n",
              "      background-color: #3B4455;\n",
              "      fill: #D2E3FC;\n",
              "    }\n",
              "\n",
              "    [theme=dark] .colab-df-convert:hover {\n",
              "      background-color: #434B5C;\n",
              "      box-shadow: 0px 1px 3px 1px rgba(0, 0, 0, 0.15);\n",
              "      filter: drop-shadow(0px 1px 2px rgba(0, 0, 0, 0.3));\n",
              "      fill: #FFFFFF;\n",
              "    }\n",
              "  </style>\n",
              "\n",
              "      <script>\n",
              "        const buttonEl =\n",
              "          document.querySelector('#df-15a7dab4-b8d6-4702-b50b-16349cabadf8 button.colab-df-convert');\n",
              "        buttonEl.style.display =\n",
              "          google.colab.kernel.accessAllowed ? 'block' : 'none';\n",
              "\n",
              "        async function convertToInteractive(key) {\n",
              "          const element = document.querySelector('#df-15a7dab4-b8d6-4702-b50b-16349cabadf8');\n",
              "          const dataTable =\n",
              "            await google.colab.kernel.invokeFunction('convertToInteractive',\n",
              "                                                     [key], {});\n",
              "          if (!dataTable) return;\n",
              "\n",
              "          const docLinkHtml = 'Like what you see? Visit the ' +\n",
              "            '<a target=\"_blank\" href=https://colab.research.google.com/notebooks/data_table.ipynb>data table notebook</a>'\n",
              "            + ' to learn more about interactive tables.';\n",
              "          element.innerHTML = '';\n",
              "          dataTable['output_type'] = 'display_data';\n",
              "          await google.colab.output.renderOutput(dataTable, element);\n",
              "          const docLink = document.createElement('div');\n",
              "          docLink.innerHTML = docLinkHtml;\n",
              "          element.appendChild(docLink);\n",
              "        }\n",
              "      </script>\n",
              "    </div>\n",
              "  </div>\n",
              "  "
            ]
          },
          "metadata": {},
          "execution_count": 6
        }
      ],
      "source": [
        "df.tail(4)"
      ]
    },
    {
      "cell_type": "code",
      "execution_count": null,
      "metadata": {
        "id": "8w8pfBxieV06"
      },
      "outputs": [],
      "source": [
        "user_ids = df[\"userId\"].unique().tolist()\n",
        "movie_ids = df[\"movieId\"].unique().tolist()"
      ]
    },
    {
      "cell_type": "code",
      "execution_count": null,
      "metadata": {
        "id": "i4wcage-eV08"
      },
      "outputs": [],
      "source": [
        "#Make a dictionary mapping ids (keys) to indexes (values)\n",
        "user_id_to_index = {x: i for i, x in enumerate(user_ids)}\n",
        "movie_id_to_index = {x: i for i, x in enumerate(movie_ids)}"
      ]
    },
    {
      "cell_type": "code",
      "execution_count": null,
      "metadata": {
        "id": "XNHKTjvXeV08"
      },
      "outputs": [],
      "source": [
        "#Make a new column in the dataframe which contains the appropriate index for each user and movie\n",
        "df[\"user_index\"] = [user_id_to_index[i] for i in df[\"userId\"]]\n",
        "df[\"movie_index\"] = [movie_id_to_index[i] for i in df[\"movieId\"]]"
      ]
    },
    {
      "cell_type": "code",
      "execution_count": null,
      "metadata": {
        "colab": {
          "base_uri": "https://localhost:8080/",
          "height": 175
        },
        "id": "yDEgwb6meV09",
        "outputId": "79d54124-7656-45b0-8245-acb8a6122a50"
      },
      "outputs": [
        {
          "output_type": "execute_result",
          "data": {
            "text/plain": [
              "       userId  movieId  rating   timestamp  user_index  movie_index\n",
              "68286     475     4270     2.5  1447239392         474         1156\n",
              "15139      99      928     4.0   938587795          98         1950\n",
              "29974     213    69526     3.0  1462634530         212         1607\n",
              "43648     311     1099     2.0   897414235         310         4743"
            ],
            "text/html": [
              "\n",
              "  <div id=\"df-3b6e3150-de77-43e3-8d0a-ca0592b39e93\">\n",
              "    <div class=\"colab-df-container\">\n",
              "      <div>\n",
              "<style scoped>\n",
              "    .dataframe tbody tr th:only-of-type {\n",
              "        vertical-align: middle;\n",
              "    }\n",
              "\n",
              "    .dataframe tbody tr th {\n",
              "        vertical-align: top;\n",
              "    }\n",
              "\n",
              "    .dataframe thead th {\n",
              "        text-align: right;\n",
              "    }\n",
              "</style>\n",
              "<table border=\"1\" class=\"dataframe\">\n",
              "  <thead>\n",
              "    <tr style=\"text-align: right;\">\n",
              "      <th></th>\n",
              "      <th>userId</th>\n",
              "      <th>movieId</th>\n",
              "      <th>rating</th>\n",
              "      <th>timestamp</th>\n",
              "      <th>user_index</th>\n",
              "      <th>movie_index</th>\n",
              "    </tr>\n",
              "  </thead>\n",
              "  <tbody>\n",
              "    <tr>\n",
              "      <th>68286</th>\n",
              "      <td>475</td>\n",
              "      <td>4270</td>\n",
              "      <td>2.5</td>\n",
              "      <td>1447239392</td>\n",
              "      <td>474</td>\n",
              "      <td>1156</td>\n",
              "    </tr>\n",
              "    <tr>\n",
              "      <th>15139</th>\n",
              "      <td>99</td>\n",
              "      <td>928</td>\n",
              "      <td>4.0</td>\n",
              "      <td>938587795</td>\n",
              "      <td>98</td>\n",
              "      <td>1950</td>\n",
              "    </tr>\n",
              "    <tr>\n",
              "      <th>29974</th>\n",
              "      <td>213</td>\n",
              "      <td>69526</td>\n",
              "      <td>3.0</td>\n",
              "      <td>1462634530</td>\n",
              "      <td>212</td>\n",
              "      <td>1607</td>\n",
              "    </tr>\n",
              "    <tr>\n",
              "      <th>43648</th>\n",
              "      <td>311</td>\n",
              "      <td>1099</td>\n",
              "      <td>2.0</td>\n",
              "      <td>897414235</td>\n",
              "      <td>310</td>\n",
              "      <td>4743</td>\n",
              "    </tr>\n",
              "  </tbody>\n",
              "</table>\n",
              "</div>\n",
              "      <button class=\"colab-df-convert\" onclick=\"convertToInteractive('df-3b6e3150-de77-43e3-8d0a-ca0592b39e93')\"\n",
              "              title=\"Convert this dataframe to an interactive table.\"\n",
              "              style=\"display:none;\">\n",
              "        \n",
              "  <svg xmlns=\"http://www.w3.org/2000/svg\" height=\"24px\"viewBox=\"0 0 24 24\"\n",
              "       width=\"24px\">\n",
              "    <path d=\"M0 0h24v24H0V0z\" fill=\"none\"/>\n",
              "    <path d=\"M18.56 5.44l.94 2.06.94-2.06 2.06-.94-2.06-.94-.94-2.06-.94 2.06-2.06.94zm-11 1L8.5 8.5l.94-2.06 2.06-.94-2.06-.94L8.5 2.5l-.94 2.06-2.06.94zm10 10l.94 2.06.94-2.06 2.06-.94-2.06-.94-.94-2.06-.94 2.06-2.06.94z\"/><path d=\"M17.41 7.96l-1.37-1.37c-.4-.4-.92-.59-1.43-.59-.52 0-1.04.2-1.43.59L10.3 9.45l-7.72 7.72c-.78.78-.78 2.05 0 2.83L4 21.41c.39.39.9.59 1.41.59.51 0 1.02-.2 1.41-.59l7.78-7.78 2.81-2.81c.8-.78.8-2.07 0-2.86zM5.41 20L4 18.59l7.72-7.72 1.47 1.35L5.41 20z\"/>\n",
              "  </svg>\n",
              "      </button>\n",
              "      \n",
              "  <style>\n",
              "    .colab-df-container {\n",
              "      display:flex;\n",
              "      flex-wrap:wrap;\n",
              "      gap: 12px;\n",
              "    }\n",
              "\n",
              "    .colab-df-convert {\n",
              "      background-color: #E8F0FE;\n",
              "      border: none;\n",
              "      border-radius: 50%;\n",
              "      cursor: pointer;\n",
              "      display: none;\n",
              "      fill: #1967D2;\n",
              "      height: 32px;\n",
              "      padding: 0 0 0 0;\n",
              "      width: 32px;\n",
              "    }\n",
              "\n",
              "    .colab-df-convert:hover {\n",
              "      background-color: #E2EBFA;\n",
              "      box-shadow: 0px 1px 2px rgba(60, 64, 67, 0.3), 0px 1px 3px 1px rgba(60, 64, 67, 0.15);\n",
              "      fill: #174EA6;\n",
              "    }\n",
              "\n",
              "    [theme=dark] .colab-df-convert {\n",
              "      background-color: #3B4455;\n",
              "      fill: #D2E3FC;\n",
              "    }\n",
              "\n",
              "    [theme=dark] .colab-df-convert:hover {\n",
              "      background-color: #434B5C;\n",
              "      box-shadow: 0px 1px 3px 1px rgba(0, 0, 0, 0.15);\n",
              "      filter: drop-shadow(0px 1px 2px rgba(0, 0, 0, 0.3));\n",
              "      fill: #FFFFFF;\n",
              "    }\n",
              "  </style>\n",
              "\n",
              "      <script>\n",
              "        const buttonEl =\n",
              "          document.querySelector('#df-3b6e3150-de77-43e3-8d0a-ca0592b39e93 button.colab-df-convert');\n",
              "        buttonEl.style.display =\n",
              "          google.colab.kernel.accessAllowed ? 'block' : 'none';\n",
              "\n",
              "        async function convertToInteractive(key) {\n",
              "          const element = document.querySelector('#df-3b6e3150-de77-43e3-8d0a-ca0592b39e93');\n",
              "          const dataTable =\n",
              "            await google.colab.kernel.invokeFunction('convertToInteractive',\n",
              "                                                     [key], {});\n",
              "          if (!dataTable) return;\n",
              "\n",
              "          const docLinkHtml = 'Like what you see? Visit the ' +\n",
              "            '<a target=\"_blank\" href=https://colab.research.google.com/notebooks/data_table.ipynb>data table notebook</a>'\n",
              "            + ' to learn more about interactive tables.';\n",
              "          element.innerHTML = '';\n",
              "          dataTable['output_type'] = 'display_data';\n",
              "          await google.colab.output.renderOutput(dataTable, element);\n",
              "          const docLink = document.createElement('div');\n",
              "          docLink.innerHTML = docLinkHtml;\n",
              "          element.appendChild(docLink);\n",
              "        }\n",
              "      </script>\n",
              "    </div>\n",
              "  </div>\n",
              "  "
            ]
          },
          "metadata": {},
          "execution_count": 10
        }
      ],
      "source": [
        "df.sample(4)"
      ]
    },
    {
      "cell_type": "code",
      "execution_count": null,
      "metadata": {
        "id": "i9yiUqomeV09"
      },
      "outputs": [],
      "source": [
        "from sklearn.preprocessing import MinMaxScaler\n",
        "##Pick the range\n",
        "df[\"rating\"] = MinMaxScaler().fit_transform(df[\"rating\"].values.reshape(-1, 1))"
      ]
    },
    {
      "cell_type": "code",
      "execution_count": null,
      "metadata": {
        "colab": {
          "base_uri": "https://localhost:8080/"
        },
        "id": "KimSanZTeV0-",
        "outputId": "eee7153c-a4f4-45e9-9821-a7eedfd2ee67"
      },
      "outputs": [
        {
          "output_type": "execute_result",
          "data": {
            "text/plain": [
              "count    100004.000000\n",
              "mean          0.676357\n",
              "std           0.235125\n",
              "min           0.000000\n",
              "25%           0.555556\n",
              "50%           0.777778\n",
              "75%           0.777778\n",
              "max           1.000000\n",
              "Name: rating, dtype: float64"
            ]
          },
          "metadata": {},
          "execution_count": 12
        }
      ],
      "source": [
        "df[\"rating\"].describe()"
      ]
    },
    {
      "cell_type": "code",
      "source": [
        "#Inputs\n",
        "x = df[[\"user_index\", \"movie_index\"]]\n",
        "#Outputs/target\n",
        "y = df[\"rating\"]"
      ],
      "metadata": {
        "id": "AoShnq3NDipm"
      },
      "execution_count": null,
      "outputs": []
    },
    {
      "cell_type": "code",
      "source": [
        "#scaling the x_train to obtain a better performing trained model and lesser time to train\n",
        "x['user_index']=x['user_index']/670\n",
        "x['movie_index']=x['movie_index']/9065"
      ],
      "metadata": {
        "id": "xXJYGDKw__oy"
      },
      "execution_count": null,
      "outputs": []
    },
    {
      "cell_type": "code",
      "execution_count": null,
      "metadata": {
        "id": "FCICTTuveV0-"
      },
      "outputs": [],
      "source": [
        "from sklearn.model_selection import train_test_split\n",
        "#Get train-test split\n",
        "# obtain a high test_size (20%) to get better metrics of the model\n",
        "x_train, x_test, y_train, y_test = train_test_split(x, y, test_size=0.2, random_state=10)"
      ]
    },
    {
      "cell_type": "code",
      "source": [
        "x_train.sample(5)"
      ],
      "metadata": {
        "colab": {
          "base_uri": "https://localhost:8080/",
          "height": 206
        },
        "id": "9Mny9x529PaO",
        "outputId": "e7ccdd79-575b-49b9-e29b-195d1a375179"
      },
      "execution_count": null,
      "outputs": [
        {
          "output_type": "execute_result",
          "data": {
            "text/plain": [
              "       user_index  movie_index\n",
              "99897    1.000000     0.006398\n",
              "2349     0.020896     0.180916\n",
              "67254    0.702985     0.046001\n",
              "28526    0.314925     0.018202\n",
              "83249    0.840299     0.467512"
            ],
            "text/html": [
              "\n",
              "  <div id=\"df-7b48b2c0-73fc-480b-bdae-374b89628a15\">\n",
              "    <div class=\"colab-df-container\">\n",
              "      <div>\n",
              "<style scoped>\n",
              "    .dataframe tbody tr th:only-of-type {\n",
              "        vertical-align: middle;\n",
              "    }\n",
              "\n",
              "    .dataframe tbody tr th {\n",
              "        vertical-align: top;\n",
              "    }\n",
              "\n",
              "    .dataframe thead th {\n",
              "        text-align: right;\n",
              "    }\n",
              "</style>\n",
              "<table border=\"1\" class=\"dataframe\">\n",
              "  <thead>\n",
              "    <tr style=\"text-align: right;\">\n",
              "      <th></th>\n",
              "      <th>user_index</th>\n",
              "      <th>movie_index</th>\n",
              "    </tr>\n",
              "  </thead>\n",
              "  <tbody>\n",
              "    <tr>\n",
              "      <th>99897</th>\n",
              "      <td>1.000000</td>\n",
              "      <td>0.006398</td>\n",
              "    </tr>\n",
              "    <tr>\n",
              "      <th>2349</th>\n",
              "      <td>0.020896</td>\n",
              "      <td>0.180916</td>\n",
              "    </tr>\n",
              "    <tr>\n",
              "      <th>67254</th>\n",
              "      <td>0.702985</td>\n",
              "      <td>0.046001</td>\n",
              "    </tr>\n",
              "    <tr>\n",
              "      <th>28526</th>\n",
              "      <td>0.314925</td>\n",
              "      <td>0.018202</td>\n",
              "    </tr>\n",
              "    <tr>\n",
              "      <th>83249</th>\n",
              "      <td>0.840299</td>\n",
              "      <td>0.467512</td>\n",
              "    </tr>\n",
              "  </tbody>\n",
              "</table>\n",
              "</div>\n",
              "      <button class=\"colab-df-convert\" onclick=\"convertToInteractive('df-7b48b2c0-73fc-480b-bdae-374b89628a15')\"\n",
              "              title=\"Convert this dataframe to an interactive table.\"\n",
              "              style=\"display:none;\">\n",
              "        \n",
              "  <svg xmlns=\"http://www.w3.org/2000/svg\" height=\"24px\"viewBox=\"0 0 24 24\"\n",
              "       width=\"24px\">\n",
              "    <path d=\"M0 0h24v24H0V0z\" fill=\"none\"/>\n",
              "    <path d=\"M18.56 5.44l.94 2.06.94-2.06 2.06-.94-2.06-.94-.94-2.06-.94 2.06-2.06.94zm-11 1L8.5 8.5l.94-2.06 2.06-.94-2.06-.94L8.5 2.5l-.94 2.06-2.06.94zm10 10l.94 2.06.94-2.06 2.06-.94-2.06-.94-.94-2.06-.94 2.06-2.06.94z\"/><path d=\"M17.41 7.96l-1.37-1.37c-.4-.4-.92-.59-1.43-.59-.52 0-1.04.2-1.43.59L10.3 9.45l-7.72 7.72c-.78.78-.78 2.05 0 2.83L4 21.41c.39.39.9.59 1.41.59.51 0 1.02-.2 1.41-.59l7.78-7.78 2.81-2.81c.8-.78.8-2.07 0-2.86zM5.41 20L4 18.59l7.72-7.72 1.47 1.35L5.41 20z\"/>\n",
              "  </svg>\n",
              "      </button>\n",
              "      \n",
              "  <style>\n",
              "    .colab-df-container {\n",
              "      display:flex;\n",
              "      flex-wrap:wrap;\n",
              "      gap: 12px;\n",
              "    }\n",
              "\n",
              "    .colab-df-convert {\n",
              "      background-color: #E8F0FE;\n",
              "      border: none;\n",
              "      border-radius: 50%;\n",
              "      cursor: pointer;\n",
              "      display: none;\n",
              "      fill: #1967D2;\n",
              "      height: 32px;\n",
              "      padding: 0 0 0 0;\n",
              "      width: 32px;\n",
              "    }\n",
              "\n",
              "    .colab-df-convert:hover {\n",
              "      background-color: #E2EBFA;\n",
              "      box-shadow: 0px 1px 2px rgba(60, 64, 67, 0.3), 0px 1px 3px 1px rgba(60, 64, 67, 0.15);\n",
              "      fill: #174EA6;\n",
              "    }\n",
              "\n",
              "    [theme=dark] .colab-df-convert {\n",
              "      background-color: #3B4455;\n",
              "      fill: #D2E3FC;\n",
              "    }\n",
              "\n",
              "    [theme=dark] .colab-df-convert:hover {\n",
              "      background-color: #434B5C;\n",
              "      box-shadow: 0px 1px 3px 1px rgba(0, 0, 0, 0.15);\n",
              "      filter: drop-shadow(0px 1px 2px rgba(0, 0, 0, 0.3));\n",
              "      fill: #FFFFFF;\n",
              "    }\n",
              "  </style>\n",
              "\n",
              "      <script>\n",
              "        const buttonEl =\n",
              "          document.querySelector('#df-7b48b2c0-73fc-480b-bdae-374b89628a15 button.colab-df-convert');\n",
              "        buttonEl.style.display =\n",
              "          google.colab.kernel.accessAllowed ? 'block' : 'none';\n",
              "\n",
              "        async function convertToInteractive(key) {\n",
              "          const element = document.querySelector('#df-7b48b2c0-73fc-480b-bdae-374b89628a15');\n",
              "          const dataTable =\n",
              "            await google.colab.kernel.invokeFunction('convertToInteractive',\n",
              "                                                     [key], {});\n",
              "          if (!dataTable) return;\n",
              "\n",
              "          const docLinkHtml = 'Like what you see? Visit the ' +\n",
              "            '<a target=\"_blank\" href=https://colab.research.google.com/notebooks/data_table.ipynb>data table notebook</a>'\n",
              "            + ' to learn more about interactive tables.';\n",
              "          element.innerHTML = '';\n",
              "          dataTable['output_type'] = 'display_data';\n",
              "          await google.colab.output.renderOutput(dataTable, element);\n",
              "          const docLink = document.createElement('div');\n",
              "          docLink.innerHTML = docLinkHtml;\n",
              "          element.appendChild(docLink);\n",
              "        }\n",
              "      </script>\n",
              "    </div>\n",
              "  </div>\n",
              "  "
            ]
          },
          "metadata": {},
          "execution_count": 16
        }
      ]
    },
    {
      "cell_type": "code",
      "execution_count": null,
      "metadata": {
        "id": "FI74uzW6eV1A"
      },
      "outputs": [],
      "source": [
        "#Define the new class\n",
        "class RecommenderNet(keras.Model):\n",
        "    \n",
        "    #Override init with new arguments \n",
        "    def __init__(self, num_users, num_movies, embedding_size, **kwargs):\n",
        "        super(RecommenderNet, self).__init__(**kwargs)\n",
        "        #Make an embedding layer for users\n",
        "        self.user_embedding = layers.Embedding(\n",
        "            num_users,\n",
        "            embedding_size,\n",
        "            embeddings_initializer=\"he_normal\",\n",
        "            embeddings_regularizer=keras.regularizers.l2(1e-6),\n",
        "        )\n",
        "        #Make an embedding layer for user bias\n",
        "        self.user_bias = layers.Embedding(num_users, 1)\n",
        "        #Make an embedding layer for movies\n",
        "        self.movie_embedding = layers.Embedding(\n",
        "            num_movies,\n",
        "            embedding_size,\n",
        "            embeddings_initializer=\"he_normal\",\n",
        "            embeddings_regularizer=keras.regularizers.l2(1e-6),\n",
        "        )\n",
        "        #Make an embedding layer for movie bias\n",
        "        self.movie_bias = layers.Embedding(num_movies, 1)\n",
        "\n",
        "    def call(self, inputs):\n",
        "        #inputs contains [[user,movie],[user,movie],[user,movie]...]\n",
        "        user_vector = self.user_embedding(inputs[:, 0])\n",
        "        user_bias = self.user_bias(inputs[:, 0])\n",
        "        movie_vector = self.movie_embedding(inputs[:, 1])\n",
        "        movie_bias = self.movie_bias(inputs[:, 1])\n",
        "        #Dot product \n",
        "        dot_user_movie = tf.tensordot(user_vector, movie_vector, 2)\n",
        "        # Add all the components (including bias)\n",
        "        x = dot_user_movie + user_bias + movie_bias\n",
        "        # The sigmoid activation forces the rating to between 0 and 1\n",
        "        return tf.nn.sigmoid(x)"
      ]
    },
    {
      "cell_type": "code",
      "execution_count": null,
      "metadata": {
        "id": "Bjg-jRXreV1B"
      },
      "outputs": [],
      "source": [
        "#Pick Embedding size\n",
        "EMBEDDING_SIZE = 20\n",
        "#Make new object (calls __init__())\n",
        "num_users = len(user_ids)\n",
        "num_movies = len(movie_ids)\n",
        "model = RecommenderNet(num_users, num_movies, EMBEDDING_SIZE)\n",
        "model.compile(\n",
        "    loss=tf.keras.losses.MeanSquaredError(), optimizer=keras.optimizers.Adam(lr=0.001)\n",
        ")\n"
      ]
    },
    {
      "cell_type": "code",
      "execution_count": null,
      "metadata": {
        "colab": {
          "base_uri": "https://localhost:8080/"
        },
        "id": "_zMpNJkReV1B",
        "outputId": "6b778ca4-368a-4dba-fef9-a8046531a05c"
      },
      "outputs": [
        {
          "output_type": "stream",
          "name": "stdout",
          "text": [
            "Epoch 1/20\n",
            "1251/1251 [==============================] - 16s 11ms/step - loss: 0.0560 - val_loss: 0.0560\n",
            "Epoch 2/20\n",
            "1251/1251 [==============================] - 12s 10ms/step - loss: 0.0555 - val_loss: 0.0552\n",
            "Epoch 3/20\n",
            "1251/1251 [==============================] - 12s 10ms/step - loss: 0.0554 - val_loss: 0.0552\n",
            "Epoch 4/20\n",
            "1251/1251 [==============================] - 7s 6ms/step - loss: 0.0554 - val_loss: 0.0553\n",
            "Epoch 5/20\n",
            "1251/1251 [==============================] - 7s 6ms/step - loss: 0.0554 - val_loss: 0.0552\n",
            "Epoch 6/20\n",
            "1251/1251 [==============================] - 8s 6ms/step - loss: 0.0554 - val_loss: 0.0553\n",
            "Epoch 7/20\n",
            "1251/1251 [==============================] - 7s 6ms/step - loss: 0.0554 - val_loss: 0.0552\n",
            "Epoch 8/20\n",
            "1251/1251 [==============================] - 7s 6ms/step - loss: 0.0553 - val_loss: 0.0552\n",
            "Epoch 9/20\n",
            "1251/1251 [==============================] - 8s 6ms/step - loss: 0.0554 - val_loss: 0.0552\n",
            "Epoch 10/20\n",
            "1251/1251 [==============================] - 7s 6ms/step - loss: 0.0554 - val_loss: 0.0552\n",
            "Epoch 11/20\n",
            "1251/1251 [==============================] - 7s 6ms/step - loss: 0.0554 - val_loss: 0.0552\n",
            "Epoch 12/20\n",
            "1251/1251 [==============================] - 8s 6ms/step - loss: 0.0553 - val_loss: 0.0553\n",
            "Epoch 13/20\n",
            "1251/1251 [==============================] - 9s 8ms/step - loss: 0.0554 - val_loss: 0.0552\n",
            "Epoch 14/20\n",
            "1251/1251 [==============================] - 7s 6ms/step - loss: 0.0553 - val_loss: 0.0552\n",
            "Epoch 15/20\n",
            "1251/1251 [==============================] - 7s 6ms/step - loss: 0.0554 - val_loss: 0.0552\n",
            "Epoch 16/20\n",
            "1251/1251 [==============================] - 7s 6ms/step - loss: 0.0553 - val_loss: 0.0552\n",
            "Epoch 17/20\n",
            "1251/1251 [==============================] - 8s 6ms/step - loss: 0.0553 - val_loss: 0.0552\n",
            "Epoch 18/20\n",
            "1251/1251 [==============================] - 8s 6ms/step - loss: 0.0553 - val_loss: 0.0552\n",
            "Epoch 19/20\n",
            "1251/1251 [==============================] - 7s 6ms/step - loss: 0.0554 - val_loss: 0.0552\n",
            "Epoch 20/20\n",
            "1251/1251 [==============================] - 8s 6ms/step - loss: 0.0553 - val_loss: 0.0552\n"
          ]
        }
      ],
      "source": [
        "#TRAIN\n",
        "history = model.fit(\n",
        "    x=x_train,\n",
        "    y=y_train,\n",
        "    batch_size=64,\n",
        "    epochs=20,\n",
        "    validation_data=(x_test, y_test)\n",
        ")"
      ]
    },
    {
      "cell_type": "code",
      "execution_count": null,
      "metadata": {
        "scrolled": false,
        "colab": {
          "base_uri": "https://localhost:8080/"
        },
        "id": "TU9jsciSeV1C",
        "outputId": "e86c9d52-1e79-474d-b299-28fae5f55b29"
      },
      "outputs": [
        {
          "output_type": "execute_result",
          "data": {
            "text/plain": [
              "array([[-2.3408090e-03,  2.4463711e-03,  9.1342971e-02, ...,\n",
              "         1.2082976e-03, -9.0303971e-04,  4.0937057e-03],\n",
              "       [-3.7118573e-02,  2.4850855e-02,  1.7433754e-01, ...,\n",
              "         1.7154716e-02,  1.7971825e-02,  4.3392878e-02],\n",
              "       [-4.5668644e-30,  4.5261189e-30,  4.5999291e-30, ...,\n",
              "        -4.5879296e-30,  4.6935184e-30, -4.6387155e-30],\n",
              "       ...,\n",
              "       [-4.5300250e-30, -4.6695815e-30,  4.6122264e-30, ...,\n",
              "         4.5343339e-30,  4.6241033e-30, -4.5025684e-30],\n",
              "       [-4.6129152e-30,  4.5623622e-30, -4.5360789e-30, ...,\n",
              "         4.5302085e-30, -4.6482127e-30, -4.5658646e-30],\n",
              "       [ 4.6285998e-30,  4.5030379e-30, -4.6468800e-30, ...,\n",
              "         4.5922927e-30,  4.6586436e-30,  4.6435574e-30]], dtype=float32)"
            ]
          },
          "metadata": {},
          "execution_count": 20
        }
      ],
      "source": [
        "model.user_embedding.trainable_weights[0].numpy()"
      ]
    },
    {
      "cell_type": "code",
      "execution_count": null,
      "metadata": {
        "id": "XGELSmyUeV1C"
      },
      "outputs": [],
      "source": [
        "#Get the movie data so we can map back to names\n",
        "movie_data = pd.read_csv(\"movies.csv\")"
      ]
    },
    {
      "cell_type": "markdown",
      "metadata": {
        "id": "RaKHTFfaeV1D"
      },
      "source": [
        "### Making predictions and `argsort()`\n",
        "\n",
        "Once we have the predicted ratings for each film, we need to get the **Top N**\n",
        "\n",
        "Here we use `np.argsort()`, which does the sort based on the **ratings** but returns the **indexes** rather than the **ratings themselves**. We can then use this to look up the `movie_ids` and then the `title`."
      ]
    },
    {
      "cell_type": "code",
      "execution_count": null,
      "metadata": {
        "id": "Z1cBs0gteV1D"
      },
      "outputs": [],
      "source": [
        "user = 3\n",
        "n = 10\n",
        "#For one user, make a pair with every movie index\n",
        "x = [[user, i] for i in np.arange(num_movies)]"
      ]
    },
    {
      "cell_type": "code",
      "execution_count": null,
      "metadata": {
        "id": "pVAUEFOQeV1D"
      },
      "outputs": [],
      "source": [
        "#Predict\n",
        "predicted_ratings = model.predict(x).flatten()\n",
        "#Get Top-N indexes\n",
        "top_n_indexes = predicted_ratings.argsort()[-n:]\n",
        "#Get Movie Names\n",
        "top_n = [movie_data[movie_data[\"movieId\"]==movie_ids[i]][\"title\"] for i in top_n_indexes]"
      ]
    },
    {
      "cell_type": "code",
      "execution_count": null,
      "metadata": {
        "colab": {
          "base_uri": "https://localhost:8080/"
        },
        "id": "3oQmEjUdeV1D",
        "outputId": "bf9e4e3d-6eb4-4d7d-8b4a-bcdb8b325dcc"
      },
      "outputs": [
        {
          "output_type": "execute_result",
          "data": {
            "text/plain": [
              "[3655    Scenes from the Class Struggle in Beverly Hill...\n",
              " Name: title, dtype: object, 4643    This Boy's Life (1993)\n",
              " Name: title, dtype: object, 407    Geronimo: An American Legend (1993)\n",
              " Name: title, dtype: object, 7901    The Artist (2011)\n",
              " Name: title, dtype: object, 8084    Magic Mike (2012)\n",
              " Name: title, dtype: object, 4884    Love Actually (2003)\n",
              " Name: title, dtype: object, 3919    Mrs. Soffel (1984)\n",
              " Name: title, dtype: object, 5901    Sound and Fury (2000)\n",
              " Name: title, dtype: object, 2260    Hamlet (1964)\n",
              " Name: title, dtype: object, 30    Dangerous Minds (1995)\n",
              " Name: title, dtype: object]"
            ]
          },
          "metadata": {},
          "execution_count": 24
        }
      ],
      "source": [
        "top_n"
      ]
    },
    {
      "cell_type": "markdown",
      "metadata": {
        "id": "CbmuiZgweV1D"
      },
      "source": [
        "# Practice\n",
        "\n",
        "Personal note dont forget to comment code\n",
        "\n",
        "## Task 1\n",
        "\n",
        "We're going to ask you take the trained model and write the code to make two metrics - **Diversity** and **Novelty**. You should end up with **one statistic** for each that tells you something about the recommendations of the trained model based on the **whole dataset**.\n",
        "\n",
        "\n",
        "#### Pro Tip\n",
        "\n",
        "This will take quite a long time to run on the whole dataset, so start off by trying to get the code to work for **one user**, then expand to **two users**, then **every user**.\n",
        "\n",
        "### Diversity \n",
        "\n",
        "This tells us what the mean diversity (1-similarity, based on movie embeddings) between each film in every users Top 10 films is. \n",
        "\n",
        "1. Calculate every user's top 10\n",
        "\n",
        "\n",
        "2. For each top 10, calculate the similarity matrix\n",
        "\n",
        "\n",
        "3. 1-similarity to get the difference\n",
        "\n",
        "\n",
        "4. Get mean difference for each top 10 \n",
        "\n",
        "\n",
        "5. Report the mean for whole dataset (every top 10)\n",
        "\n",
        "\n",
        "### Novelty \n",
        "\n",
        "This tells us what the mean popularity (e.g. mean rating) of the films in every users Top 10 films is \n",
        "\n",
        "1. Calculate every user's top 10\n",
        "\n",
        "\n",
        "2. For each top 10, get the mean rating for each film (based on the original **MovieLens Small** dataset (``df = pd.read_csv(\"ratings.csv\")``). \n",
        "\n",
        "\n",
        "3. Get the mean rating for each top 10.\n",
        "\n",
        "\n",
        "4. Report the mean for the whole dataset (every top 10).\n",
        "\n",
        "\n",
        "\n",
        "## Task 2\n",
        "\n",
        "Using a dimensionality reduction approach, plot the top 30 best rated films on a 2-D graph based on their movie embeddings. Label each point with the title.\n",
        "\n"
      ]
    },
    {
      "cell_type": "code",
      "execution_count": null,
      "metadata": {
        "colab": {
          "base_uri": "https://localhost:8080/"
        },
        "id": "wfxFfJDAeV1E",
        "outputId": "77dd7d1e-df51-4069-e313-40bbdc920dad"
      },
      "outputs": [
        {
          "output_type": "stream",
          "name": "stdout",
          "text": [
            "[array([2943, 4472, 4750, 7738,  370, 2851, 7383, 4425,   16,    0]), array([4750, 7738,  370, 2851, 7383, 4425,    7,    9,   16,    0]), array([6785, 2943, 4472, 4750, 7738,  370, 2851, 7383, 4425,    0]), array([6785, 2943, 4472, 4750, 7738,  370, 2851, 7383, 4425,    0]), array([6785, 2943, 4472, 4750, 7738,  370, 2851, 7383, 4425,    0]), array([6785, 2943, 4472, 4750, 7738,  370, 2851, 7383, 4425,    0]), array([6785, 2943, 4472, 4750, 7738,  370, 2851, 7383, 4425,    0]), array([6785, 2943, 4472, 4750, 7738,  370, 2851, 7383, 4425,    0]), array([6785, 2943, 4472, 4750, 7738,  370, 2851, 7383, 4425,    0]), array([6785, 2943, 4472, 4750, 7738,  370, 2851, 7383, 4425,    0]), array([6785, 2943, 4472, 4750, 7738,  370, 2851, 7383, 4425,    0]), array([6785, 2943, 4472, 4750, 7738,  370, 2851, 7383, 4425,    0]), array([6785, 2943, 4472, 4750, 7738,  370, 2851, 7383, 4425,    0]), array([6785, 2943, 4472, 4750, 7738,  370, 2851, 7383, 4425,    0]), array([6785, 2943, 4472, 4750, 7738,  370, 2851, 7383, 4425,    0]), array([6785, 2943, 4472, 4750, 7738,  370, 2851, 7383, 4425,    0]), array([6785, 2943, 4472, 4750, 7738,  370, 2851, 7383, 4425,    0]), array([6785, 2943, 4472, 4750, 7738,  370, 2851, 7383, 4425,    0]), array([6785, 2943, 4472, 4750, 7738,  370, 2851, 7383, 4425,    0]), array([6785, 2943, 4472, 4750, 7738,  370, 2851, 7383, 4425,    0]), array([6785, 2943, 4472, 4750, 7738,  370, 2851, 7383, 4425,    0]), array([6785, 2943, 4472, 4750, 7738,  370, 2851, 7383, 4425,    0]), array([6785, 2943, 4472, 4750, 7738,  370, 2851, 7383, 4425,    0]), array([6785, 2943, 4472, 4750, 7738,  370, 2851, 7383, 4425,    0]), array([6785, 2943, 4472, 4750, 7738,  370, 2851, 7383, 4425,    0]), array([6785, 2943, 4472, 4750, 7738,  370, 2851, 7383, 4425,    0]), array([6785, 2943, 4472, 4750, 7738,  370, 2851, 7383, 4425,    0]), array([6785, 2943, 4472, 4750, 7738,  370, 2851, 7383, 4425,    0]), array([6785, 2943, 4472, 4750, 7738,  370, 2851, 7383, 4425,    0]), array([6785, 2943, 4472, 4750, 7738,  370, 2851, 7383, 4425,    0]), array([6785, 2943, 4472, 4750, 7738,  370, 2851, 7383, 4425,    0]), array([6785, 2943, 4472, 4750, 7738,  370, 2851, 7383, 4425,    0]), array([6785, 2943, 4472, 4750, 7738,  370, 2851, 7383, 4425,    0]), array([6785, 2943, 4472, 4750, 7738,  370, 2851, 7383, 4425,    0]), array([6785, 2943, 4472, 4750, 7738,  370, 2851, 7383, 4425,    0]), array([6785, 2943, 4472, 4750, 7738,  370, 2851, 7383, 4425,    0]), array([6785, 2943, 4472, 4750, 7738,  370, 2851, 7383, 4425,    0]), array([6785, 2943, 4472, 4750, 7738,  370, 2851, 7383, 4425,    0]), array([6785, 2943, 4472, 4750, 7738,  370, 2851, 7383, 4425,    0]), array([6785, 2943, 4472, 4750, 7738,  370, 2851, 7383, 4425,    0]), array([6785, 2943, 4472, 4750, 7738,  370, 2851, 7383, 4425,    0]), array([6785, 2943, 4472, 4750, 7738,  370, 2851, 7383, 4425,    0]), array([6785, 2943, 4472, 4750, 7738,  370, 2851, 7383, 4425,    0]), array([6785, 2943, 4472, 4750, 7738,  370, 2851, 7383, 4425,    0]), array([6785, 2943, 4472, 4750, 7738,  370, 2851, 7383, 4425,    0]), array([6785, 2943, 4472, 4750, 7738,  370, 2851, 7383, 4425,    0]), array([6785, 2943, 4472, 4750, 7738,  370, 2851, 7383, 4425,    0]), array([6785, 2943, 4472, 4750, 7738,  370, 2851, 7383, 4425,    0]), array([6785, 2943, 4472, 4750, 7738,  370, 2851, 7383, 4425,    0]), array([6785, 2943, 4472, 4750, 7738,  370, 2851, 7383, 4425,    0]), array([6785, 2943, 4472, 4750, 7738,  370, 2851, 7383, 4425,    0]), array([6785, 2943, 4472, 4750, 7738,  370, 2851, 7383, 4425,    0]), array([6785, 2943, 4472, 4750, 7738,  370, 2851, 7383, 4425,    0]), array([6785, 2943, 4472, 4750, 7738,  370, 2851, 7383, 4425,    0]), array([6785, 2943, 4472, 4750, 7738,  370, 2851, 7383, 4425,    0]), array([6785, 2943, 4472, 4750, 7738,  370, 2851, 7383, 4425,    0]), array([6785, 2943, 4472, 4750, 7738,  370, 2851, 7383, 4425,    0]), array([6785, 2943, 4472, 4750, 7738,  370, 2851, 7383, 4425,    0]), array([6785, 2943, 4472, 4750, 7738,  370, 2851, 7383, 4425,    0]), array([6785, 2943, 4472, 4750, 7738,  370, 2851, 7383, 4425,    0]), array([6785, 2943, 4472, 4750, 7738,  370, 2851, 7383, 4425,    0]), array([6785, 2943, 4472, 4750, 7738,  370, 2851, 7383, 4425,    0]), array([6785, 2943, 4472, 4750, 7738,  370, 2851, 7383, 4425,    0]), array([6785, 2943, 4472, 4750, 7738,  370, 2851, 7383, 4425,    0]), array([6785, 2943, 4472, 4750, 7738,  370, 2851, 7383, 4425,    0]), array([6785, 2943, 4472, 4750, 7738,  370, 2851, 7383, 4425,    0]), array([6785, 2943, 4472, 4750, 7738,  370, 2851, 7383, 4425,    0]), array([6785, 2943, 4472, 4750, 7738,  370, 2851, 7383, 4425,    0]), array([6785, 2943, 4472, 4750, 7738,  370, 2851, 7383, 4425,    0]), array([6785, 2943, 4472, 4750, 7738,  370, 2851, 7383, 4425,    0]), array([6785, 2943, 4472, 4750, 7738,  370, 2851, 7383, 4425,    0]), array([6785, 2943, 4472, 4750, 7738,  370, 2851, 7383, 4425,    0]), array([6785, 2943, 4472, 4750, 7738,  370, 2851, 7383, 4425,    0]), array([6785, 2943, 4472, 4750, 7738,  370, 2851, 7383, 4425,    0]), array([6785, 2943, 4472, 4750, 7738,  370, 2851, 7383, 4425,    0]), array([6785, 2943, 4472, 4750, 7738,  370, 2851, 7383, 4425,    0]), array([6785, 2943, 4472, 4750, 7738,  370, 2851, 7383, 4425,    0]), array([6785, 2943, 4472, 4750, 7738,  370, 2851, 7383, 4425,    0]), array([6785, 2943, 4472, 4750, 7738,  370, 2851, 7383, 4425,    0]), array([6785, 2943, 4472, 4750, 7738,  370, 2851, 7383, 4425,    0]), array([6785, 2943, 4472, 4750, 7738,  370, 2851, 7383, 4425,    0]), array([6785, 2943, 4472, 4750, 7738,  370, 2851, 7383, 4425,    0]), array([6785, 2943, 4472, 4750, 7738,  370, 2851, 7383, 4425,    0]), array([6785, 2943, 4472, 4750, 7738,  370, 2851, 7383, 4425,    0]), array([6785, 2943, 4472, 4750, 7738,  370, 2851, 7383, 4425,    0]), array([6785, 2943, 4472, 4750, 7738,  370, 2851, 7383, 4425,    0]), array([6785, 2943, 4472, 4750, 7738,  370, 2851, 7383, 4425,    0]), array([6785, 2943, 4472, 4750, 7738,  370, 2851, 7383, 4425,    0]), array([6785, 2943, 4472, 4750, 7738,  370, 2851, 7383, 4425,    0]), array([6785, 2943, 4472, 4750, 7738,  370, 2851, 7383, 4425,    0]), array([6785, 2943, 4472, 4750, 7738,  370, 2851, 7383, 4425,    0]), array([6785, 2943, 4472, 4750, 7738,  370, 2851, 7383, 4425,    0]), array([6785, 2943, 4472, 4750, 7738,  370, 2851, 7383, 4425,    0]), array([6785, 2943, 4472, 4750, 7738,  370, 2851, 7383, 4425,    0]), array([6785, 2943, 4472, 4750, 7738,  370, 2851, 7383, 4425,    0]), array([6785, 2943, 4472, 4750, 7738,  370, 2851, 7383, 4425,    0]), array([6785, 2943, 4472, 4750, 7738,  370, 2851, 7383, 4425,    0]), array([6785, 2943, 4472, 4750, 7738,  370, 2851, 7383, 4425,    0]), array([6785, 2943, 4472, 4750, 7738,  370, 2851, 7383, 4425,    0]), array([6785, 2943, 4472, 4750, 7738,  370, 2851, 7383, 4425,    0]), array([6785, 2943, 4472, 4750, 7738,  370, 2851, 7383, 4425,    0]), array([6785, 2943, 4472, 4750, 7738,  370, 2851, 7383, 4425,    0]), array([6785, 2943, 4472, 4750, 7738,  370, 2851, 7383, 4425,    0]), array([6785, 2943, 4472, 4750, 7738,  370, 2851, 7383, 4425,    0]), array([6785, 2943, 4472, 4750, 7738,  370, 2851, 7383, 4425,    0]), array([6785, 2943, 4472, 4750, 7738,  370, 2851, 7383, 4425,    0]), array([6785, 2943, 4472, 4750, 7738,  370, 2851, 7383, 4425,    0]), array([6785, 2943, 4472, 4750, 7738,  370, 2851, 7383, 4425,    0]), array([6785, 2943, 4472, 4750, 7738,  370, 2851, 7383, 4425,    0]), array([6785, 2943, 4472, 4750, 7738,  370, 2851, 7383, 4425,    0]), array([6785, 2943, 4472, 4750, 7738,  370, 2851, 7383, 4425,    0]), array([6785, 2943, 4472, 4750, 7738,  370, 2851, 7383, 4425,    0]), array([6785, 2943, 4472, 4750, 7738,  370, 2851, 7383, 4425,    0]), array([6785, 2943, 4472, 4750, 7738,  370, 2851, 7383, 4425,    0]), array([6785, 2943, 4472, 4750, 7738,  370, 2851, 7383, 4425,    0]), array([6785, 2943, 4472, 4750, 7738,  370, 2851, 7383, 4425,    0]), array([6785, 2943, 4472, 4750, 7738,  370, 2851, 7383, 4425,    0]), array([6785, 2943, 4472, 4750, 7738,  370, 2851, 7383, 4425,    0]), array([6785, 2943, 4472, 4750, 7738,  370, 2851, 7383, 4425,    0]), array([6785, 2943, 4472, 4750, 7738,  370, 2851, 7383, 4425,    0]), array([6785, 2943, 4472, 4750, 7738,  370, 2851, 7383, 4425,    0]), array([6785, 2943, 4472, 4750, 7738,  370, 2851, 7383, 4425,    0]), array([6785, 2943, 4472, 4750, 7738,  370, 2851, 7383, 4425,    0]), array([6785, 2943, 4472, 4750, 7738,  370, 2851, 7383, 4425,    0]), array([6785, 2943, 4472, 4750, 7738,  370, 2851, 7383, 4425,    0]), array([6785, 2943, 4472, 4750, 7738,  370, 2851, 7383, 4425,    0]), array([6785, 2943, 4472, 4750, 7738,  370, 2851, 7383, 4425,    0]), array([6785, 2943, 4472, 4750, 7738,  370, 2851, 7383, 4425,    0]), array([6785, 2943, 4472, 4750, 7738,  370, 2851, 7383, 4425,    0]), array([6785, 2943, 4472, 4750, 7738,  370, 2851, 7383, 4425,    0]), array([6785, 2943, 4472, 4750, 7738,  370, 2851, 7383, 4425,    0]), array([6785, 2943, 4472, 4750, 7738,  370, 2851, 7383, 4425,    0]), array([6785, 2943, 4472, 4750, 7738,  370, 2851, 7383, 4425,    0]), array([6785, 2943, 4472, 4750, 7738,  370, 2851, 7383, 4425,    0]), array([6785, 2943, 4472, 4750, 7738,  370, 2851, 7383, 4425,    0]), array([6785, 2943, 4472, 4750, 7738,  370, 2851, 7383, 4425,    0]), array([6785, 2943, 4472, 4750, 7738,  370, 2851, 7383, 4425,    0]), array([6785, 2943, 4472, 4750, 7738,  370, 2851, 7383, 4425,    0]), array([6785, 2943, 4472, 4750, 7738,  370, 2851, 7383, 4425,    0]), array([6785, 2943, 4472, 4750, 7738,  370, 2851, 7383, 4425,    0]), array([6785, 2943, 4472, 4750, 7738,  370, 2851, 7383, 4425,    0]), array([6785, 2943, 4472, 4750, 7738,  370, 2851, 7383, 4425,    0]), array([6785, 2943, 4472, 4750, 7738,  370, 2851, 7383, 4425,    0]), array([6785, 2943, 4472, 4750, 7738,  370, 2851, 7383, 4425,    0]), array([6785, 2943, 4472, 4750, 7738,  370, 2851, 7383, 4425,    0]), array([6785, 2943, 4472, 4750, 7738,  370, 2851, 7383, 4425,    0]), array([6785, 2943, 4472, 4750, 7738,  370, 2851, 7383, 4425,    0]), array([6785, 2943, 4472, 4750, 7738,  370, 2851, 7383, 4425,    0]), array([6785, 2943, 4472, 4750, 7738,  370, 2851, 7383, 4425,    0]), array([6785, 2943, 4472, 4750, 7738,  370, 2851, 7383, 4425,    0]), array([6785, 2943, 4472, 4750, 7738,  370, 2851, 7383, 4425,    0]), array([6785, 2943, 4472, 4750, 7738,  370, 2851, 7383, 4425,    0]), array([6785, 2943, 4472, 4750, 7738,  370, 2851, 7383, 4425,    0]), array([6785, 2943, 4472, 4750, 7738,  370, 2851, 7383, 4425,    0]), array([6785, 2943, 4472, 4750, 7738,  370, 2851, 7383, 4425,    0]), array([6785, 2943, 4472, 4750, 7738,  370, 2851, 7383, 4425,    0]), array([6785, 2943, 4472, 4750, 7738,  370, 2851, 7383, 4425,    0]), array([6785, 2943, 4472, 4750, 7738,  370, 2851, 7383, 4425,    0]), array([6785, 2943, 4472, 4750, 7738,  370, 2851, 7383, 4425,    0]), array([6785, 2943, 4472, 4750, 7738,  370, 2851, 7383, 4425,    0]), array([6785, 2943, 4472, 4750, 7738,  370, 2851, 7383, 4425,    0]), array([6785, 2943, 4472, 4750, 7738,  370, 2851, 7383, 4425,    0]), array([6785, 2943, 4472, 4750, 7738,  370, 2851, 7383, 4425,    0]), array([6785, 2943, 4472, 4750, 7738,  370, 2851, 7383, 4425,    0]), array([6785, 2943, 4472, 4750, 7738,  370, 2851, 7383, 4425,    0]), array([6785, 2943, 4472, 4750, 7738,  370, 2851, 7383, 4425,    0]), array([6785, 2943, 4472, 4750, 7738,  370, 2851, 7383, 4425,    0]), array([6785, 2943, 4472, 4750, 7738,  370, 2851, 7383, 4425,    0]), array([6785, 2943, 4472, 4750, 7738,  370, 2851, 7383, 4425,    0]), array([6785, 2943, 4472, 4750, 7738,  370, 2851, 7383, 4425,    0]), array([6785, 2943, 4472, 4750, 7738,  370, 2851, 7383, 4425,    0]), array([6785, 2943, 4472, 4750, 7738,  370, 2851, 7383, 4425,    0]), array([6785, 2943, 4472, 4750, 7738,  370, 2851, 7383, 4425,    0]), array([6785, 2943, 4472, 4750, 7738,  370, 2851, 7383, 4425,    0]), array([6785, 2943, 4472, 4750, 7738,  370, 2851, 7383, 4425,    0]), array([6785, 2943, 4472, 4750, 7738,  370, 2851, 7383, 4425,    0]), array([6785, 2943, 4472, 4750, 7738,  370, 2851, 7383, 4425,    0]), array([6785, 2943, 4472, 4750, 7738,  370, 2851, 7383, 4425,    0]), array([6785, 2943, 4472, 4750, 7738,  370, 2851, 7383, 4425,    0]), array([6785, 2943, 4472, 4750, 7738,  370, 2851, 7383, 4425,    0]), array([6785, 2943, 4472, 4750, 7738,  370, 2851, 7383, 4425,    0]), array([6785, 2943, 4472, 4750, 7738,  370, 2851, 7383, 4425,    0]), array([6785, 2943, 4472, 4750, 7738,  370, 2851, 7383, 4425,    0]), array([6785, 2943, 4472, 4750, 7738,  370, 2851, 7383, 4425,    0]), array([6785, 2943, 4472, 4750, 7738,  370, 2851, 7383, 4425,    0]), array([6785, 2943, 4472, 4750, 7738,  370, 2851, 7383, 4425,    0]), array([6785, 2943, 4472, 4750, 7738,  370, 2851, 7383, 4425,    0]), array([6785, 2943, 4472, 4750, 7738,  370, 2851, 7383, 4425,    0]), array([6785, 2943, 4472, 4750, 7738,  370, 2851, 7383, 4425,    0]), array([6785, 2943, 4472, 4750, 7738,  370, 2851, 7383, 4425,    0]), array([6785, 2943, 4472, 4750, 7738,  370, 2851, 7383, 4425,    0]), array([6785, 2943, 4472, 4750, 7738,  370, 2851, 7383, 4425,    0]), array([6785, 2943, 4472, 4750, 7738,  370, 2851, 7383, 4425,    0]), array([6785, 2943, 4472, 4750, 7738,  370, 2851, 7383, 4425,    0]), array([6785, 2943, 4472, 4750, 7738,  370, 2851, 7383, 4425,    0]), array([6785, 2943, 4472, 4750, 7738,  370, 2851, 7383, 4425,    0]), array([6785, 2943, 4472, 4750, 7738,  370, 2851, 7383, 4425,    0]), array([6785, 2943, 4472, 4750, 7738,  370, 2851, 7383, 4425,    0]), array([6785, 2943, 4472, 4750, 7738,  370, 2851, 7383, 4425,    0]), array([6785, 2943, 4472, 4750, 7738,  370, 2851, 7383, 4425,    0]), array([6785, 2943, 4472, 4750, 7738,  370, 2851, 7383, 4425,    0]), array([6785, 2943, 4472, 4750, 7738,  370, 2851, 7383, 4425,    0]), array([6785, 2943, 4472, 4750, 7738,  370, 2851, 7383, 4425,    0]), array([6785, 2943, 4472, 4750, 7738,  370, 2851, 7383, 4425,    0]), array([6785, 2943, 4472, 4750, 7738,  370, 2851, 7383, 4425,    0]), array([6785, 2943, 4472, 4750, 7738,  370, 2851, 7383, 4425,    0]), array([6785, 2943, 4472, 4750, 7738,  370, 2851, 7383, 4425,    0]), array([6785, 2943, 4472, 4750, 7738,  370, 2851, 7383, 4425,    0]), array([6785, 2943, 4472, 4750, 7738,  370, 2851, 7383, 4425,    0]), array([6785, 2943, 4472, 4750, 7738,  370, 2851, 7383, 4425,    0]), array([6785, 2943, 4472, 4750, 7738,  370, 2851, 7383, 4425,    0]), array([6785, 2943, 4472, 4750, 7738,  370, 2851, 7383, 4425,    0]), array([6785, 2943, 4472, 4750, 7738,  370, 2851, 7383, 4425,    0]), array([6785, 2943, 4472, 4750, 7738,  370, 2851, 7383, 4425,    0]), array([6785, 2943, 4472, 4750, 7738,  370, 2851, 7383, 4425,    0]), array([6785, 2943, 4472, 4750, 7738,  370, 2851, 7383, 4425,    0]), array([6785, 2943, 4472, 4750, 7738,  370, 2851, 7383, 4425,    0]), array([6785, 2943, 4472, 4750, 7738,  370, 2851, 7383, 4425,    0]), array([6785, 2943, 4472, 4750, 7738,  370, 2851, 7383, 4425,    0]), array([6785, 2943, 4472, 4750, 7738,  370, 2851, 7383, 4425,    0]), array([6785, 2943, 4472, 4750, 7738,  370, 2851, 7383, 4425,    0]), array([6785, 2943, 4472, 4750, 7738,  370, 2851, 7383, 4425,    0]), array([6785, 2943, 4472, 4750, 7738,  370, 2851, 7383, 4425,    0]), array([6785, 2943, 4472, 4750, 7738,  370, 2851, 7383, 4425,    0]), array([6785, 2943, 4472, 4750, 7738,  370, 2851, 7383, 4425,    0]), array([6785, 2943, 4472, 4750, 7738,  370, 2851, 7383, 4425,    0]), array([6785, 2943, 4472, 4750, 7738,  370, 2851, 7383, 4425,    0]), array([6785, 2943, 4472, 4750, 7738,  370, 2851, 7383, 4425,    0]), array([6785, 2943, 4472, 4750, 7738,  370, 2851, 7383, 4425,    0]), array([6785, 2943, 4472, 4750, 7738,  370, 2851, 7383, 4425,    0]), array([6785, 2943, 4472, 4750, 7738,  370, 2851, 7383, 4425,    0]), array([6785, 2943, 4472, 4750, 7738,  370, 2851, 7383, 4425,    0]), array([6785, 2943, 4472, 4750, 7738,  370, 2851, 7383, 4425,    0]), array([6785, 2943, 4472, 4750, 7738,  370, 2851, 7383, 4425,    0]), array([6785, 2943, 4472, 4750, 7738,  370, 2851, 7383, 4425,    0]), array([6785, 2943, 4472, 4750, 7738,  370, 2851, 7383, 4425,    0]), array([6785, 2943, 4472, 4750, 7738,  370, 2851, 7383, 4425,    0]), array([6785, 2943, 4472, 4750, 7738,  370, 2851, 7383, 4425,    0]), array([6785, 2943, 4472, 4750, 7738,  370, 2851, 7383, 4425,    0]), array([6785, 2943, 4472, 4750, 7738,  370, 2851, 7383, 4425,    0]), array([6785, 2943, 4472, 4750, 7738,  370, 2851, 7383, 4425,    0]), array([6785, 2943, 4472, 4750, 7738,  370, 2851, 7383, 4425,    0]), array([6785, 2943, 4472, 4750, 7738,  370, 2851, 7383, 4425,    0]), array([6785, 2943, 4472, 4750, 7738,  370, 2851, 7383, 4425,    0]), array([6785, 2943, 4472, 4750, 7738,  370, 2851, 7383, 4425,    0]), array([6785, 2943, 4472, 4750, 7738,  370, 2851, 7383, 4425,    0]), array([6785, 2943, 4472, 4750, 7738,  370, 2851, 7383, 4425,    0]), array([6785, 2943, 4472, 4750, 7738,  370, 2851, 7383, 4425,    0]), array([6785, 2943, 4472, 4750, 7738,  370, 2851, 7383, 4425,    0]), array([6785, 2943, 4472, 4750, 7738,  370, 2851, 7383, 4425,    0]), array([6785, 2943, 4472, 4750, 7738,  370, 2851, 7383, 4425,    0]), array([6785, 2943, 4472, 4750, 7738,  370, 2851, 7383, 4425,    0]), array([6785, 2943, 4472, 4750, 7738,  370, 2851, 7383, 4425,    0]), array([6785, 2943, 4472, 4750, 7738,  370, 2851, 7383, 4425,    0]), array([6785, 2943, 4472, 4750, 7738,  370, 2851, 7383, 4425,    0]), array([6785, 2943, 4472, 4750, 7738,  370, 2851, 7383, 4425,    0]), array([6785, 2943, 4472, 4750, 7738,  370, 2851, 7383, 4425,    0]), array([6785, 2943, 4472, 4750, 7738,  370, 2851, 7383, 4425,    0]), array([6785, 2943, 4472, 4750, 7738,  370, 2851, 7383, 4425,    0]), array([6785, 2943, 4472, 4750, 7738,  370, 2851, 7383, 4425,    0]), array([6785, 2943, 4472, 4750, 7738,  370, 2851, 7383, 4425,    0]), array([6785, 2943, 4472, 4750, 7738,  370, 2851, 7383, 4425,    0]), array([6785, 2943, 4472, 4750, 7738,  370, 2851, 7383, 4425,    0]), array([6785, 2943, 4472, 4750, 7738,  370, 2851, 7383, 4425,    0]), array([6785, 2943, 4472, 4750, 7738,  370, 2851, 7383, 4425,    0]), array([6785, 2943, 4472, 4750, 7738,  370, 2851, 7383, 4425,    0]), array([6785, 2943, 4472, 4750, 7738,  370, 2851, 7383, 4425,    0]), array([6785, 2943, 4472, 4750, 7738,  370, 2851, 7383, 4425,    0]), array([6785, 2943, 4472, 4750, 7738,  370, 2851, 7383, 4425,    0]), array([6785, 2943, 4472, 4750, 7738,  370, 2851, 7383, 4425,    0]), array([6785, 2943, 4472, 4750, 7738,  370, 2851, 7383, 4425,    0]), array([6785, 2943, 4472, 4750, 7738,  370, 2851, 7383, 4425,    0]), array([6785, 2943, 4472, 4750, 7738,  370, 2851, 7383, 4425,    0]), array([6785, 2943, 4472, 4750, 7738,  370, 2851, 7383, 4425,    0]), array([6785, 2943, 4472, 4750, 7738,  370, 2851, 7383, 4425,    0]), array([6785, 2943, 4472, 4750, 7738,  370, 2851, 7383, 4425,    0]), array([6785, 2943, 4472, 4750, 7738,  370, 2851, 7383, 4425,    0]), array([6785, 2943, 4472, 4750, 7738,  370, 2851, 7383, 4425,    0]), array([6785, 2943, 4472, 4750, 7738,  370, 2851, 7383, 4425,    0]), array([6785, 2943, 4472, 4750, 7738,  370, 2851, 7383, 4425,    0]), array([6785, 2943, 4472, 4750, 7738,  370, 2851, 7383, 4425,    0]), array([6785, 2943, 4472, 4750, 7738,  370, 2851, 7383, 4425,    0]), array([6785, 2943, 4472, 4750, 7738,  370, 2851, 7383, 4425,    0]), array([6785, 2943, 4472, 4750, 7738,  370, 2851, 7383, 4425,    0]), array([6785, 2943, 4472, 4750, 7738,  370, 2851, 7383, 4425,    0]), array([6785, 2943, 4472, 4750, 7738,  370, 2851, 7383, 4425,    0]), array([6785, 2943, 4472, 4750, 7738,  370, 2851, 7383, 4425,    0]), array([6785, 2943, 4472, 4750, 7738,  370, 2851, 7383, 4425,    0]), array([6785, 2943, 4472, 4750, 7738,  370, 2851, 7383, 4425,    0]), array([6785, 2943, 4472, 4750, 7738,  370, 2851, 7383, 4425,    0]), array([6785, 2943, 4472, 4750, 7738,  370, 2851, 7383, 4425,    0]), array([6785, 2943, 4472, 4750, 7738,  370, 2851, 7383, 4425,    0]), array([6785, 2943, 4472, 4750, 7738,  370, 2851, 7383, 4425,    0]), array([6785, 2943, 4472, 4750, 7738,  370, 2851, 7383, 4425,    0]), array([6785, 2943, 4472, 4750, 7738,  370, 2851, 7383, 4425,    0]), array([6785, 2943, 4472, 4750, 7738,  370, 2851, 7383, 4425,    0]), array([6785, 2943, 4472, 4750, 7738,  370, 2851, 7383, 4425,    0]), array([6785, 2943, 4472, 4750, 7738,  370, 2851, 7383, 4425,    0]), array([6785, 2943, 4472, 4750, 7738,  370, 2851, 7383, 4425,    0]), array([6785, 2943, 4472, 4750, 7738,  370, 2851, 7383, 4425,    0]), array([6785, 2943, 4472, 4750, 7738,  370, 2851, 7383, 4425,    0]), array([6785, 2943, 4472, 4750, 7738,  370, 2851, 7383, 4425,    0]), array([6785, 2943, 4472, 4750, 7738,  370, 2851, 7383, 4425,    0]), array([6785, 2943, 4472, 4750, 7738,  370, 2851, 7383, 4425,    0]), array([6785, 2943, 4472, 4750, 7738,  370, 2851, 7383, 4425,    0]), array([6785, 2943, 4472, 4750, 7738,  370, 2851, 7383, 4425,    0]), array([6785, 2943, 4472, 4750, 7738,  370, 2851, 7383, 4425,    0]), array([6785, 2943, 4472, 4750, 7738,  370, 2851, 7383, 4425,    0]), array([6785, 2943, 4472, 4750, 7738,  370, 2851, 7383, 4425,    0]), array([6785, 2943, 4472, 4750, 7738,  370, 2851, 7383, 4425,    0]), array([6785, 2943, 4472, 4750, 7738,  370, 2851, 7383, 4425,    0]), array([6785, 2943, 4472, 4750, 7738,  370, 2851, 7383, 4425,    0]), array([6785, 2943, 4472, 4750, 7738,  370, 2851, 7383, 4425,    0]), array([6785, 2943, 4472, 4750, 7738,  370, 2851, 7383, 4425,    0]), array([6785, 2943, 4472, 4750, 7738,  370, 2851, 7383, 4425,    0]), array([6785, 2943, 4472, 4750, 7738,  370, 2851, 7383, 4425,    0]), array([6785, 2943, 4472, 4750, 7738,  370, 2851, 7383, 4425,    0]), array([6785, 2943, 4472, 4750, 7738,  370, 2851, 7383, 4425,    0]), array([6785, 2943, 4472, 4750, 7738,  370, 2851, 7383, 4425,    0]), array([6785, 2943, 4472, 4750, 7738,  370, 2851, 7383, 4425,    0]), array([6785, 2943, 4472, 4750, 7738,  370, 2851, 7383, 4425,    0]), array([6785, 2943, 4472, 4750, 7738,  370, 2851, 7383, 4425,    0]), array([6785, 2943, 4472, 4750, 7738,  370, 2851, 7383, 4425,    0]), array([6785, 2943, 4472, 4750, 7738,  370, 2851, 7383, 4425,    0]), array([6785, 2943, 4472, 4750, 7738,  370, 2851, 7383, 4425,    0]), array([6785, 2943, 4472, 4750, 7738,  370, 2851, 7383, 4425,    0]), array([6785, 2943, 4472, 4750, 7738,  370, 2851, 7383, 4425,    0]), array([6785, 2943, 4472, 4750, 7738,  370, 2851, 7383, 4425,    0]), array([6785, 2943, 4472, 4750, 7738,  370, 2851, 7383, 4425,    0]), array([6785, 2943, 4472, 4750, 7738,  370, 2851, 7383, 4425,    0]), array([6785, 2943, 4472, 4750, 7738,  370, 2851, 7383, 4425,    0]), array([6785, 2943, 4472, 4750, 7738,  370, 2851, 7383, 4425,    0]), array([6785, 2943, 4472, 4750, 7738,  370, 2851, 7383, 4425,    0]), array([6785, 2943, 4472, 4750, 7738,  370, 2851, 7383, 4425,    0]), array([6785, 2943, 4472, 4750, 7738,  370, 2851, 7383, 4425,    0]), array([6785, 2943, 4472, 4750, 7738,  370, 2851, 7383, 4425,    0]), array([6785, 2943, 4472, 4750, 7738,  370, 2851, 7383, 4425,    0]), array([6785, 2943, 4472, 4750, 7738,  370, 2851, 7383, 4425,    0]), array([6785, 2943, 4472, 4750, 7738,  370, 2851, 7383, 4425,    0]), array([6785, 2943, 4472, 4750, 7738,  370, 2851, 7383, 4425,    0]), array([6785, 2943, 4472, 4750, 7738,  370, 2851, 7383, 4425,    0]), array([6785, 2943, 4472, 4750, 7738,  370, 2851, 7383, 4425,    0]), array([6785, 2943, 4472, 4750, 7738,  370, 2851, 7383, 4425,    0]), array([6785, 2943, 4472, 4750, 7738,  370, 2851, 7383, 4425,    0]), array([6785, 2943, 4472, 4750, 7738,  370, 2851, 7383, 4425,    0]), array([6785, 2943, 4472, 4750, 7738,  370, 2851, 7383, 4425,    0]), array([6785, 2943, 4472, 4750, 7738,  370, 2851, 7383, 4425,    0]), array([6785, 2943, 4472, 4750, 7738,  370, 2851, 7383, 4425,    0]), array([6785, 2943, 4472, 4750, 7738,  370, 2851, 7383, 4425,    0]), array([6785, 2943, 4472, 4750, 7738,  370, 2851, 7383, 4425,    0]), array([6785, 2943, 4472, 4750, 7738,  370, 2851, 7383, 4425,    0]), array([6785, 2943, 4472, 4750, 7738,  370, 2851, 7383, 4425,    0]), array([6785, 2943, 4472, 4750, 7738,  370, 2851, 7383, 4425,    0]), array([6785, 2943, 4472, 4750, 7738,  370, 2851, 7383, 4425,    0]), array([6785, 2943, 4472, 4750, 7738,  370, 2851, 7383, 4425,    0]), array([6785, 2943, 4472, 4750, 7738,  370, 2851, 7383, 4425,    0]), array([6785, 2943, 4472, 4750, 7738,  370, 2851, 7383, 4425,    0]), array([6785, 2943, 4472, 4750, 7738,  370, 2851, 7383, 4425,    0]), array([6785, 2943, 4472, 4750, 7738,  370, 2851, 7383, 4425,    0]), array([6785, 2943, 4472, 4750, 7738,  370, 2851, 7383, 4425,    0]), array([6785, 2943, 4472, 4750, 7738,  370, 2851, 7383, 4425,    0]), array([6785, 2943, 4472, 4750, 7738,  370, 2851, 7383, 4425,    0]), array([6785, 2943, 4472, 4750, 7738,  370, 2851, 7383, 4425,    0]), array([6785, 2943, 4472, 4750, 7738,  370, 2851, 7383, 4425,    0]), array([6785, 2943, 4472, 4750, 7738,  370, 2851, 7383, 4425,    0]), array([6785, 2943, 4472, 4750, 7738,  370, 2851, 7383, 4425,    0]), array([6785, 2943, 4472, 4750, 7738,  370, 2851, 7383, 4425,    0]), array([6785, 2943, 4472, 4750, 7738,  370, 2851, 7383, 4425,    0]), array([6785, 2943, 4472, 4750, 7738,  370, 2851, 7383, 4425,    0]), array([6785, 2943, 4472, 4750, 7738,  370, 2851, 7383, 4425,    0]), array([6785, 2943, 4472, 4750, 7738,  370, 2851, 7383, 4425,    0]), array([6785, 2943, 4472, 4750, 7738,  370, 2851, 7383, 4425,    0]), array([6785, 2943, 4472, 4750, 7738,  370, 2851, 7383, 4425,    0]), array([6785, 2943, 4472, 4750, 7738,  370, 2851, 7383, 4425,    0]), array([6785, 2943, 4472, 4750, 7738,  370, 2851, 7383, 4425,    0]), array([6785, 2943, 4472, 4750, 7738,  370, 2851, 7383, 4425,    0]), array([6785, 2943, 4472, 4750, 7738,  370, 2851, 7383, 4425,    0]), array([6785, 2943, 4472, 4750, 7738,  370, 2851, 7383, 4425,    0]), array([6785, 2943, 4472, 4750, 7738,  370, 2851, 7383, 4425,    0]), array([6785, 2943, 4472, 4750, 7738,  370, 2851, 7383, 4425,    0]), array([6785, 2943, 4472, 4750, 7738,  370, 2851, 7383, 4425,    0]), array([6785, 2943, 4472, 4750, 7738,  370, 2851, 7383, 4425,    0]), array([6785, 2943, 4472, 4750, 7738,  370, 2851, 7383, 4425,    0]), array([6785, 2943, 4472, 4750, 7738,  370, 2851, 7383, 4425,    0]), array([6785, 2943, 4472, 4750, 7738,  370, 2851, 7383, 4425,    0]), array([6785, 2943, 4472, 4750, 7738,  370, 2851, 7383, 4425,    0]), array([6785, 2943, 4472, 4750, 7738,  370, 2851, 7383, 4425,    0]), array([6785, 2943, 4472, 4750, 7738,  370, 2851, 7383, 4425,    0]), array([6785, 2943, 4472, 4750, 7738,  370, 2851, 7383, 4425,    0]), array([6785, 2943, 4472, 4750, 7738,  370, 2851, 7383, 4425,    0]), array([6785, 2943, 4472, 4750, 7738,  370, 2851, 7383, 4425,    0]), array([6785, 2943, 4472, 4750, 7738,  370, 2851, 7383, 4425,    0]), array([6785, 2943, 4472, 4750, 7738,  370, 2851, 7383, 4425,    0]), array([6785, 2943, 4472, 4750, 7738,  370, 2851, 7383, 4425,    0]), array([6785, 2943, 4472, 4750, 7738,  370, 2851, 7383, 4425,    0]), array([6785, 2943, 4472, 4750, 7738,  370, 2851, 7383, 4425,    0]), array([6785, 2943, 4472, 4750, 7738,  370, 2851, 7383, 4425,    0]), array([6785, 2943, 4472, 4750, 7738,  370, 2851, 7383, 4425,    0]), array([6785, 2943, 4472, 4750, 7738,  370, 2851, 7383, 4425,    0]), array([6785, 2943, 4472, 4750, 7738,  370, 2851, 7383, 4425,    0]), array([6785, 2943, 4472, 4750, 7738,  370, 2851, 7383, 4425,    0]), array([6785, 2943, 4472, 4750, 7738,  370, 2851, 7383, 4425,    0]), array([6785, 2943, 4472, 4750, 7738,  370, 2851, 7383, 4425,    0]), array([6785, 2943, 4472, 4750, 7738,  370, 2851, 7383, 4425,    0]), array([6785, 2943, 4472, 4750, 7738,  370, 2851, 7383, 4425,    0]), array([6785, 2943, 4472, 4750, 7738,  370, 2851, 7383, 4425,    0]), array([6785, 2943, 4472, 4750, 7738,  370, 2851, 7383, 4425,    0]), array([6785, 2943, 4472, 4750, 7738,  370, 2851, 7383, 4425,    0]), array([6785, 2943, 4472, 4750, 7738,  370, 2851, 7383, 4425,    0]), array([6785, 2943, 4472, 4750, 7738,  370, 2851, 7383, 4425,    0]), array([6785, 2943, 4472, 4750, 7738,  370, 2851, 7383, 4425,    0]), array([6785, 2943, 4472, 4750, 7738,  370, 2851, 7383, 4425,    0]), array([6785, 2943, 4472, 4750, 7738,  370, 2851, 7383, 4425,    0]), array([6785, 2943, 4472, 4750, 7738,  370, 2851, 7383, 4425,    0]), array([6785, 2943, 4472, 4750, 7738,  370, 2851, 7383, 4425,    0]), array([6785, 2943, 4472, 4750, 7738,  370, 2851, 7383, 4425,    0]), array([6785, 2943, 4472, 4750, 7738,  370, 2851, 7383, 4425,    0]), array([6785, 2943, 4472, 4750, 7738,  370, 2851, 7383, 4425,    0]), array([6785, 2943, 4472, 4750, 7738,  370, 2851, 7383, 4425,    0]), array([6785, 2943, 4472, 4750, 7738,  370, 2851, 7383, 4425,    0]), array([6785, 2943, 4472, 4750, 7738,  370, 2851, 7383, 4425,    0]), array([6785, 2943, 4472, 4750, 7738,  370, 2851, 7383, 4425,    0]), array([6785, 2943, 4472, 4750, 7738,  370, 2851, 7383, 4425,    0]), array([6785, 2943, 4472, 4750, 7738,  370, 2851, 7383, 4425,    0]), array([6785, 2943, 4472, 4750, 7738,  370, 2851, 7383, 4425,    0]), array([6785, 2943, 4472, 4750, 7738,  370, 2851, 7383, 4425,    0]), array([6785, 2943, 4472, 4750, 7738,  370, 2851, 7383, 4425,    0]), array([6785, 2943, 4472, 4750, 7738,  370, 2851, 7383, 4425,    0]), array([6785, 2943, 4472, 4750, 7738,  370, 2851, 7383, 4425,    0]), array([6785, 2943, 4472, 4750, 7738,  370, 2851, 7383, 4425,    0]), array([6785, 2943, 4472, 4750, 7738,  370, 2851, 7383, 4425,    0]), array([6785, 2943, 4472, 4750, 7738,  370, 2851, 7383, 4425,    0]), array([6785, 2943, 4472, 4750, 7738,  370, 2851, 7383, 4425,    0]), array([6785, 2943, 4472, 4750, 7738,  370, 2851, 7383, 4425,    0]), array([6785, 2943, 4472, 4750, 7738,  370, 2851, 7383, 4425,    0]), array([6785, 2943, 4472, 4750, 7738,  370, 2851, 7383, 4425,    0]), array([6785, 2943, 4472, 4750, 7738,  370, 2851, 7383, 4425,    0]), array([6785, 2943, 4472, 4750, 7738,  370, 2851, 7383, 4425,    0]), array([6785, 2943, 4472, 4750, 7738,  370, 2851, 7383, 4425,    0]), array([6785, 2943, 4472, 4750, 7738,  370, 2851, 7383, 4425,    0]), array([6785, 2943, 4472, 4750, 7738,  370, 2851, 7383, 4425,    0]), array([6785, 2943, 4472, 4750, 7738,  370, 2851, 7383, 4425,    0]), array([6785, 2943, 4472, 4750, 7738,  370, 2851, 7383, 4425,    0]), array([6785, 2943, 4472, 4750, 7738,  370, 2851, 7383, 4425,    0]), array([6785, 2943, 4472, 4750, 7738,  370, 2851, 7383, 4425,    0]), array([6785, 2943, 4472, 4750, 7738,  370, 2851, 7383, 4425,    0]), array([6785, 2943, 4472, 4750, 7738,  370, 2851, 7383, 4425,    0]), array([6785, 2943, 4472, 4750, 7738,  370, 2851, 7383, 4425,    0]), array([6785, 2943, 4472, 4750, 7738,  370, 2851, 7383, 4425,    0]), array([6785, 2943, 4472, 4750, 7738,  370, 2851, 7383, 4425,    0]), array([6785, 2943, 4472, 4750, 7738,  370, 2851, 7383, 4425,    0]), array([6785, 2943, 4472, 4750, 7738,  370, 2851, 7383, 4425,    0]), array([6785, 2943, 4472, 4750, 7738,  370, 2851, 7383, 4425,    0]), array([6785, 2943, 4472, 4750, 7738,  370, 2851, 7383, 4425,    0]), array([6785, 2943, 4472, 4750, 7738,  370, 2851, 7383, 4425,    0]), array([6785, 2943, 4472, 4750, 7738,  370, 2851, 7383, 4425,    0]), array([6785, 2943, 4472, 4750, 7738,  370, 2851, 7383, 4425,    0]), array([6785, 2943, 4472, 4750, 7738,  370, 2851, 7383, 4425,    0]), array([6785, 2943, 4472, 4750, 7738,  370, 2851, 7383, 4425,    0]), array([6785, 2943, 4472, 4750, 7738,  370, 2851, 7383, 4425,    0]), array([6785, 2943, 4472, 4750, 7738,  370, 2851, 7383, 4425,    0]), array([6785, 2943, 4472, 4750, 7738,  370, 2851, 7383, 4425,    0]), array([6785, 2943, 4472, 4750, 7738,  370, 2851, 7383, 4425,    0]), array([6785, 2943, 4472, 4750, 7738,  370, 2851, 7383, 4425,    0]), array([6785, 2943, 4472, 4750, 7738,  370, 2851, 7383, 4425,    0]), array([6785, 2943, 4472, 4750, 7738,  370, 2851, 7383, 4425,    0]), array([6785, 2943, 4472, 4750, 7738,  370, 2851, 7383, 4425,    0]), array([6785, 2943, 4472, 4750, 7738,  370, 2851, 7383, 4425,    0]), array([6785, 2943, 4472, 4750, 7738,  370, 2851, 7383, 4425,    0]), array([6785, 2943, 4472, 4750, 7738,  370, 2851, 7383, 4425,    0]), array([6785, 2943, 4472, 4750, 7738,  370, 2851, 7383, 4425,    0]), array([6785, 2943, 4472, 4750, 7738,  370, 2851, 7383, 4425,    0]), array([6785, 2943, 4472, 4750, 7738,  370, 2851, 7383, 4425,    0]), array([6785, 2943, 4472, 4750, 7738,  370, 2851, 7383, 4425,    0]), array([6785, 2943, 4472, 4750, 7738,  370, 2851, 7383, 4425,    0]), array([6785, 2943, 4472, 4750, 7738,  370, 2851, 7383, 4425,    0]), array([6785, 2943, 4472, 4750, 7738,  370, 2851, 7383, 4425,    0]), array([6785, 2943, 4472, 4750, 7738,  370, 2851, 7383, 4425,    0]), array([6785, 2943, 4472, 4750, 7738,  370, 2851, 7383, 4425,    0]), array([6785, 2943, 4472, 4750, 7738,  370, 2851, 7383, 4425,    0]), array([6785, 2943, 4472, 4750, 7738,  370, 2851, 7383, 4425,    0]), array([6785, 2943, 4472, 4750, 7738,  370, 2851, 7383, 4425,    0]), array([6785, 2943, 4472, 4750, 7738,  370, 2851, 7383, 4425,    0]), array([6785, 2943, 4472, 4750, 7738,  370, 2851, 7383, 4425,    0]), array([6785, 2943, 4472, 4750, 7738,  370, 2851, 7383, 4425,    0]), array([6785, 2943, 4472, 4750, 7738,  370, 2851, 7383, 4425,    0]), array([6785, 2943, 4472, 4750, 7738,  370, 2851, 7383, 4425,    0]), array([6785, 2943, 4472, 4750, 7738,  370, 2851, 7383, 4425,    0]), array([6785, 2943, 4472, 4750, 7738,  370, 2851, 7383, 4425,    0]), array([6785, 2943, 4472, 4750, 7738,  370, 2851, 7383, 4425,    0]), array([6785, 2943, 4472, 4750, 7738,  370, 2851, 7383, 4425,    0]), array([6785, 2943, 4472, 4750, 7738,  370, 2851, 7383, 4425,    0]), array([6785, 2943, 4472, 4750, 7738,  370, 2851, 7383, 4425,    0]), array([6785, 2943, 4472, 4750, 7738,  370, 2851, 7383, 4425,    0]), array([6785, 2943, 4472, 4750, 7738,  370, 2851, 7383, 4425,    0]), array([6785, 2943, 4472, 4750, 7738,  370, 2851, 7383, 4425,    0]), array([6785, 2943, 4472, 4750, 7738,  370, 2851, 7383, 4425,    0]), array([6785, 2943, 4472, 4750, 7738,  370, 2851, 7383, 4425,    0]), array([6785, 2943, 4472, 4750, 7738,  370, 2851, 7383, 4425,    0]), array([6785, 2943, 4472, 4750, 7738,  370, 2851, 7383, 4425,    0]), array([6785, 2943, 4472, 4750, 7738,  370, 2851, 7383, 4425,    0]), array([6785, 2943, 4472, 4750, 7738,  370, 2851, 7383, 4425,    0]), array([6785, 2943, 4472, 4750, 7738,  370, 2851, 7383, 4425,    0]), array([6785, 2943, 4472, 4750, 7738,  370, 2851, 7383, 4425,    0]), array([6785, 2943, 4472, 4750, 7738,  370, 2851, 7383, 4425,    0]), array([6785, 2943, 4472, 4750, 7738,  370, 2851, 7383, 4425,    0]), array([6785, 2943, 4472, 4750, 7738,  370, 2851, 7383, 4425,    0]), array([6785, 2943, 4472, 4750, 7738,  370, 2851, 7383, 4425,    0]), array([6785, 2943, 4472, 4750, 7738,  370, 2851, 7383, 4425,    0]), array([6785, 2943, 4472, 4750, 7738,  370, 2851, 7383, 4425,    0]), array([6785, 2943, 4472, 4750, 7738,  370, 2851, 7383, 4425,    0]), array([6785, 2943, 4472, 4750, 7738,  370, 2851, 7383, 4425,    0]), array([6785, 2943, 4472, 4750, 7738,  370, 2851, 7383, 4425,    0]), array([6785, 2943, 4472, 4750, 7738,  370, 2851, 7383, 4425,    0]), array([6785, 2943, 4472, 4750, 7738,  370, 2851, 7383, 4425,    0]), array([6785, 2943, 4472, 4750, 7738,  370, 2851, 7383, 4425,    0]), array([6785, 2943, 4472, 4750, 7738,  370, 2851, 7383, 4425,    0]), array([6785, 2943, 4472, 4750, 7738,  370, 2851, 7383, 4425,    0]), array([6785, 2943, 4472, 4750, 7738,  370, 2851, 7383, 4425,    0]), array([6785, 2943, 4472, 4750, 7738,  370, 2851, 7383, 4425,    0]), array([6785, 2943, 4472, 4750, 7738,  370, 2851, 7383, 4425,    0]), array([6785, 2943, 4472, 4750, 7738,  370, 2851, 7383, 4425,    0]), array([6785, 2943, 4472, 4750, 7738,  370, 2851, 7383, 4425,    0]), array([6785, 2943, 4472, 4750, 7738,  370, 2851, 7383, 4425,    0]), array([6785, 2943, 4472, 4750, 7738,  370, 2851, 7383, 4425,    0]), array([6785, 2943, 4472, 4750, 7738,  370, 2851, 7383, 4425,    0]), array([6785, 2943, 4472, 4750, 7738,  370, 2851, 7383, 4425,    0]), array([6785, 2943, 4472, 4750, 7738,  370, 2851, 7383, 4425,    0]), array([6785, 2943, 4472, 4750, 7738,  370, 2851, 7383, 4425,    0]), array([6785, 2943, 4472, 4750, 7738,  370, 2851, 7383, 4425,    0]), array([6785, 2943, 4472, 4750, 7738,  370, 2851, 7383, 4425,    0]), array([6785, 2943, 4472, 4750, 7738,  370, 2851, 7383, 4425,    0]), array([6785, 2943, 4472, 4750, 7738,  370, 2851, 7383, 4425,    0]), array([6785, 2943, 4472, 4750, 7738,  370, 2851, 7383, 4425,    0]), array([6785, 2943, 4472, 4750, 7738,  370, 2851, 7383, 4425,    0]), array([6785, 2943, 4472, 4750, 7738,  370, 2851, 7383, 4425,    0]), array([6785, 2943, 4472, 4750, 7738,  370, 2851, 7383, 4425,    0]), array([6785, 2943, 4472, 4750, 7738,  370, 2851, 7383, 4425,    0]), array([6785, 2943, 4472, 4750, 7738,  370, 2851, 7383, 4425,    0]), array([6785, 2943, 4472, 4750, 7738,  370, 2851, 7383, 4425,    0]), array([6785, 2943, 4472, 4750, 7738,  370, 2851, 7383, 4425,    0]), array([6785, 2943, 4472, 4750, 7738,  370, 2851, 7383, 4425,    0]), array([6785, 2943, 4472, 4750, 7738,  370, 2851, 7383, 4425,    0]), array([6785, 2943, 4472, 4750, 7738,  370, 2851, 7383, 4425,    0]), array([6785, 2943, 4472, 4750, 7738,  370, 2851, 7383, 4425,    0]), array([6785, 2943, 4472, 4750, 7738,  370, 2851, 7383, 4425,    0]), array([6785, 2943, 4472, 4750, 7738,  370, 2851, 7383, 4425,    0]), array([6785, 2943, 4472, 4750, 7738,  370, 2851, 7383, 4425,    0]), array([6785, 2943, 4472, 4750, 7738,  370, 2851, 7383, 4425,    0]), array([6785, 2943, 4472, 4750, 7738,  370, 2851, 7383, 4425,    0]), array([6785, 2943, 4472, 4750, 7738,  370, 2851, 7383, 4425,    0]), array([6785, 2943, 4472, 4750, 7738,  370, 2851, 7383, 4425,    0]), array([6785, 2943, 4472, 4750, 7738,  370, 2851, 7383, 4425,    0]), array([6785, 2943, 4472, 4750, 7738,  370, 2851, 7383, 4425,    0]), array([6785, 2943, 4472, 4750, 7738,  370, 2851, 7383, 4425,    0]), array([6785, 2943, 4472, 4750, 7738,  370, 2851, 7383, 4425,    0]), array([6785, 2943, 4472, 4750, 7738,  370, 2851, 7383, 4425,    0]), array([6785, 2943, 4472, 4750, 7738,  370, 2851, 7383, 4425,    0]), array([6785, 2943, 4472, 4750, 7738,  370, 2851, 7383, 4425,    0]), array([6785, 2943, 4472, 4750, 7738,  370, 2851, 7383, 4425,    0]), array([6785, 2943, 4472, 4750, 7738,  370, 2851, 7383, 4425,    0]), array([6785, 2943, 4472, 4750, 7738,  370, 2851, 7383, 4425,    0]), array([6785, 2943, 4472, 4750, 7738,  370, 2851, 7383, 4425,    0]), array([6785, 2943, 4472, 4750, 7738,  370, 2851, 7383, 4425,    0]), array([6785, 2943, 4472, 4750, 7738,  370, 2851, 7383, 4425,    0]), array([6785, 2943, 4472, 4750, 7738,  370, 2851, 7383, 4425,    0]), array([6785, 2943, 4472, 4750, 7738,  370, 2851, 7383, 4425,    0]), array([6785, 2943, 4472, 4750, 7738,  370, 2851, 7383, 4425,    0]), array([6785, 2943, 4472, 4750, 7738,  370, 2851, 7383, 4425,    0]), array([6785, 2943, 4472, 4750, 7738,  370, 2851, 7383, 4425,    0]), array([6785, 2943, 4472, 4750, 7738,  370, 2851, 7383, 4425,    0]), array([6785, 2943, 4472, 4750, 7738,  370, 2851, 7383, 4425,    0]), array([6785, 2943, 4472, 4750, 7738,  370, 2851, 7383, 4425,    0]), array([6785, 2943, 4472, 4750, 7738,  370, 2851, 7383, 4425,    0]), array([6785, 2943, 4472, 4750, 7738,  370, 2851, 7383, 4425,    0]), array([6785, 2943, 4472, 4750, 7738,  370, 2851, 7383, 4425,    0]), array([6785, 2943, 4472, 4750, 7738,  370, 2851, 7383, 4425,    0]), array([6785, 2943, 4472, 4750, 7738,  370, 2851, 7383, 4425,    0]), array([6785, 2943, 4472, 4750, 7738,  370, 2851, 7383, 4425,    0]), array([6785, 2943, 4472, 4750, 7738,  370, 2851, 7383, 4425,    0]), array([6785, 2943, 4472, 4750, 7738,  370, 2851, 7383, 4425,    0]), array([6785, 2943, 4472, 4750, 7738,  370, 2851, 7383, 4425,    0]), array([6785, 2943, 4472, 4750, 7738,  370, 2851, 7383, 4425,    0]), array([6785, 2943, 4472, 4750, 7738,  370, 2851, 7383, 4425,    0]), array([6785, 2943, 4472, 4750, 7738,  370, 2851, 7383, 4425,    0]), array([6785, 2943, 4472, 4750, 7738,  370, 2851, 7383, 4425,    0]), array([6785, 2943, 4472, 4750, 7738,  370, 2851, 7383, 4425,    0]), array([6785, 2943, 4472, 4750, 7738,  370, 2851, 7383, 4425,    0]), array([6785, 2943, 4472, 4750, 7738,  370, 2851, 7383, 4425,    0]), array([6785, 2943, 4472, 4750, 7738,  370, 2851, 7383, 4425,    0]), array([6785, 2943, 4472, 4750, 7738,  370, 2851, 7383, 4425,    0]), array([6785, 2943, 4472, 4750, 7738,  370, 2851, 7383, 4425,    0]), array([6785, 2943, 4472, 4750, 7738,  370, 2851, 7383, 4425,    0]), array([6785, 2943, 4472, 4750, 7738,  370, 2851, 7383, 4425,    0]), array([6785, 2943, 4472, 4750, 7738,  370, 2851, 7383, 4425,    0]), array([6785, 2943, 4472, 4750, 7738,  370, 2851, 7383, 4425,    0]), array([6785, 2943, 4472, 4750, 7738,  370, 2851, 7383, 4425,    0]), array([6785, 2943, 4472, 4750, 7738,  370, 2851, 7383, 4425,    0]), array([6785, 2943, 4472, 4750, 7738,  370, 2851, 7383, 4425,    0]), array([6785, 2943, 4472, 4750, 7738,  370, 2851, 7383, 4425,    0]), array([6785, 2943, 4472, 4750, 7738,  370, 2851, 7383, 4425,    0]), array([6785, 2943, 4472, 4750, 7738,  370, 2851, 7383, 4425,    0]), array([6785, 2943, 4472, 4750, 7738,  370, 2851, 7383, 4425,    0]), array([6785, 2943, 4472, 4750, 7738,  370, 2851, 7383, 4425,    0]), array([6785, 2943, 4472, 4750, 7738,  370, 2851, 7383, 4425,    0]), array([6785, 2943, 4472, 4750, 7738,  370, 2851, 7383, 4425,    0]), array([6785, 2943, 4472, 4750, 7738,  370, 2851, 7383, 4425,    0]), array([6785, 2943, 4472, 4750, 7738,  370, 2851, 7383, 4425,    0]), array([6785, 2943, 4472, 4750, 7738,  370, 2851, 7383, 4425,    0]), array([6785, 2943, 4472, 4750, 7738,  370, 2851, 7383, 4425,    0]), array([6785, 2943, 4472, 4750, 7738,  370, 2851, 7383, 4425,    0]), array([6785, 2943, 4472, 4750, 7738,  370, 2851, 7383, 4425,    0]), array([6785, 2943, 4472, 4750, 7738,  370, 2851, 7383, 4425,    0]), array([6785, 2943, 4472, 4750, 7738,  370, 2851, 7383, 4425,    0]), array([6785, 2943, 4472, 4750, 7738,  370, 2851, 7383, 4425,    0]), array([6785, 2943, 4472, 4750, 7738,  370, 2851, 7383, 4425,    0]), array([6785, 2943, 4472, 4750, 7738,  370, 2851, 7383, 4425,    0]), array([6785, 2943, 4472, 4750, 7738,  370, 2851, 7383, 4425,    0]), array([6785, 2943, 4472, 4750, 7738,  370, 2851, 7383, 4425,    0]), array([6785, 2943, 4472, 4750, 7738,  370, 2851, 7383, 4425,    0]), array([6785, 2943, 4472, 4750, 7738,  370, 2851, 7383, 4425,    0]), array([6785, 2943, 4472, 4750, 7738,  370, 2851, 7383, 4425,    0]), array([6785, 2943, 4472, 4750, 7738,  370, 2851, 7383, 4425,    0]), array([6785, 2943, 4472, 4750, 7738,  370, 2851, 7383, 4425,    0]), array([6785, 2943, 4472, 4750, 7738,  370, 2851, 7383, 4425,    0]), array([6785, 2943, 4472, 4750, 7738,  370, 2851, 7383, 4425,    0]), array([6785, 2943, 4472, 4750, 7738,  370, 2851, 7383, 4425,    0]), array([6785, 2943, 4472, 4750, 7738,  370, 2851, 7383, 4425,    0]), array([6785, 2943, 4472, 4750, 7738,  370, 2851, 7383, 4425,    0]), array([6785, 2943, 4472, 4750, 7738,  370, 2851, 7383, 4425,    0]), array([6785, 2943, 4472, 4750, 7738,  370, 2851, 7383, 4425,    0]), array([6785, 2943, 4472, 4750, 7738,  370, 2851, 7383, 4425,    0]), array([6785, 2943, 4472, 4750, 7738,  370, 2851, 7383, 4425,    0]), array([6785, 2943, 4472, 4750, 7738,  370, 2851, 7383, 4425,    0]), array([6785, 2943, 4472, 4750, 7738,  370, 2851, 7383, 4425,    0]), array([6785, 2943, 4472, 4750, 7738,  370, 2851, 7383, 4425,    0]), array([6785, 2943, 4472, 4750, 7738,  370, 2851, 7383, 4425,    0]), array([6785, 2943, 4472, 4750, 7738,  370, 2851, 7383, 4425,    0]), array([6785, 2943, 4472, 4750, 7738,  370, 2851, 7383, 4425,    0]), array([6785, 2943, 4472, 4750, 7738,  370, 2851, 7383, 4425,    0]), array([6785, 2943, 4472, 4750, 7738,  370, 2851, 7383, 4425,    0]), array([6785, 2943, 4472, 4750, 7738,  370, 2851, 7383, 4425,    0]), array([6785, 2943, 4472, 4750, 7738,  370, 2851, 7383, 4425,    0]), array([6785, 2943, 4472, 4750, 7738,  370, 2851, 7383, 4425,    0]), array([6785, 2943, 4472, 4750, 7738,  370, 2851, 7383, 4425,    0]), array([6785, 2943, 4472, 4750, 7738,  370, 2851, 7383, 4425,    0]), array([6785, 2943, 4472, 4750, 7738,  370, 2851, 7383, 4425,    0]), array([6785, 2943, 4472, 4750, 7738,  370, 2851, 7383, 4425,    0]), array([6785, 2943, 4472, 4750, 7738,  370, 2851, 7383, 4425,    0]), array([6785, 2943, 4472, 4750, 7738,  370, 2851, 7383, 4425,    0]), array([6785, 2943, 4472, 4750, 7738,  370, 2851, 7383, 4425,    0]), array([6785, 2943, 4472, 4750, 7738,  370, 2851, 7383, 4425,    0]), array([6785, 2943, 4472, 4750, 7738,  370, 2851, 7383, 4425,    0]), array([6785, 2943, 4472, 4750, 7738,  370, 2851, 7383, 4425,    0]), array([6785, 2943, 4472, 4750, 7738,  370, 2851, 7383, 4425,    0]), array([6785, 2943, 4472, 4750, 7738,  370, 2851, 7383, 4425,    0]), array([6785, 2943, 4472, 4750, 7738,  370, 2851, 7383, 4425,    0]), array([6785, 2943, 4472, 4750, 7738,  370, 2851, 7383, 4425,    0]), array([6785, 2943, 4472, 4750, 7738,  370, 2851, 7383, 4425,    0]), array([6785, 2943, 4472, 4750, 7738,  370, 2851, 7383, 4425,    0]), array([6785, 2943, 4472, 4750, 7738,  370, 2851, 7383, 4425,    0]), array([6785, 2943, 4472, 4750, 7738,  370, 2851, 7383, 4425,    0]), array([6785, 2943, 4472, 4750, 7738,  370, 2851, 7383, 4425,    0]), array([6785, 2943, 4472, 4750, 7738,  370, 2851, 7383, 4425,    0]), array([6785, 2943, 4472, 4750, 7738,  370, 2851, 7383, 4425,    0]), array([6785, 2943, 4472, 4750, 7738,  370, 2851, 7383, 4425,    0]), array([6785, 2943, 4472, 4750, 7738,  370, 2851, 7383, 4425,    0]), array([6785, 2943, 4472, 4750, 7738,  370, 2851, 7383, 4425,    0]), array([6785, 2943, 4472, 4750, 7738,  370, 2851, 7383, 4425,    0]), array([6785, 2943, 4472, 4750, 7738,  370, 2851, 7383, 4425,    0]), array([6785, 2943, 4472, 4750, 7738,  370, 2851, 7383, 4425,    0])]\n"
          ]
        }
      ],
      "source": [
        "# Specify 'n' to limit movies to top 10 only\n",
        "n = 10\n",
        "\n",
        "# Create a list to store indexes of all users top 10 movies.\n",
        "top_n_indexes = []\n",
        "\n",
        "# Loops each user (p) from length of user_ids and predicts their ratings for each movie.\n",
        "# Sorts in ascending order and takes the last 10 (-n)\n",
        "for p in range(len(user_ids)):\n",
        "    x = [[p, i] for i in np.arange(num_movies)]\n",
        "    predicted_ratings = model.predict(x).flatten()\n",
        "    indexes = predicted_ratings.argsort()[-n:]\n",
        "    top_n_indexes.append(indexes)\n",
        "\n",
        "print(top_n_indexes)"
      ]
    },
    {
      "cell_type": "code",
      "source": [
        "# Create variable for accessing movie embedding weights\n",
        "movie_weights = model.movie_embedding.trainable_weights[0].numpy()"
      ],
      "metadata": {
        "id": "-uSZZXBBfv7E"
      },
      "execution_count": null,
      "outputs": []
    },
    {
      "cell_type": "code",
      "source": [
        "\n",
        "# Create a list to store embedding weights for each movie (671 users, 10 movies per user, 20 weights per movie)\n",
        "top_n_weights = []\n",
        "\n",
        "# Loops each user's top 10 movies (row) from the index list\n",
        "# Matches movie index with relevant embedding weights\n",
        "for row in top_n_indexes:\n",
        "    top_n_weights.append(movie_weights[row])"
      ],
      "metadata": {
        "id": "xNwXQtPcf2KM"
      },
      "execution_count": null,
      "outputs": []
    },
    {
      "cell_type": "markdown",
      "source": [
        "Novelty"
      ],
      "metadata": {
        "id": "jOrkW9Ppf6IB"
      }
    },
    {
      "cell_type": "code",
      "source": [
        "# Create list to store all ratings for each movie\n",
        "movie_ratings =[]\n",
        "\n",
        "# Finds ratings and matches them to their movie based on movie index\n",
        "for each_movie in df['movie_index']:\n",
        "    find_rating = df.loc[df['movie_index'] == each_movie, 'rating']\n",
        "    movie_ratings.append(find_rating)"
      ],
      "metadata": {
        "id": "2GaGxhmFf7yH"
      },
      "execution_count": null,
      "outputs": []
    },
    {
      "cell_type": "code",
      "source": [
        "movie_ratings_array = np.array(movie_ratings)"
      ],
      "metadata": {
        "id": "IoGsOD_Rf-Az"
      },
      "execution_count": null,
      "outputs": []
    },
    {
      "cell_type": "code",
      "source": [
        "# Create a list to store all the movie ratings from each user's top movies. (671 users, 10 movies per user, all ratings per movie)\n",
        "top_n_ratings = []\n",
        "\n",
        "# Loops each user's top 10 movies (row) from the index list\n",
        "# Matches movie index with relevant movie rating\n",
        "for row in top_n_indexes:\n",
        "    top_n_ratings.append(movie_ratings_array[row])\n",
        "\n",
        "# Prints all ratings from user0, movie1\n",
        "print(top_n_ratings[0][1])"
      ],
      "metadata": {
        "colab": {
          "base_uri": "https://localhost:8080/"
        },
        "id": "XtFJ2ftRgA4-",
        "outputId": "bd36cd48-04cd-4d43-e22e-c92c0479c32b"
      },
      "execution_count": null,
      "outputs": [
        {
          "output_type": "stream",
          "name": "stdout",
          "text": [
            "4472     0.333333\n",
            "18339    0.777778\n",
            "41722    0.777778\n",
            "Name: rating, dtype: float64\n"
          ]
        }
      ]
    },
    {
      "cell_type": "code",
      "source": [
        "# Create a list to store popularity scores for each user\n",
        "pop_per_user = []\n",
        "\n",
        "# Loops each user, then each movie from the list of ratings\n",
        "# Calculates mean novelty\n",
        "for each_user in top_n_ratings:\n",
        "    for each_movie in each_user:\n",
        "        novelty = each_movie.mean()\n",
        "        pop_per_user.append(novelty)\n",
        "\n",
        "# Condense scores from all users into one total mean score\n",
        "total_pop = np.array(pop_per_user).mean()\n",
        "print(total_pop)"
      ],
      "metadata": {
        "colab": {
          "base_uri": "https://localhost:8080/"
        },
        "id": "dhxtWCCVgC8Z",
        "outputId": "1a95db46-26bd-45a0-b680-942e79d5dbc7"
      },
      "execution_count": null,
      "outputs": [
        {
          "output_type": "stream",
          "name": "stdout",
          "text": [
            "0.6764583915776125\n"
          ]
        }
      ]
    },
    {
      "cell_type": "code",
      "source": [
        "#Task 2\n",
        "# Remove all movies with only 1 rating\n",
        "# for loop will take lesser time than a while loop in this aspect\n",
        "filtered_movie_ratings = []\n",
        "for i in movie_ratings:\n",
        "    if len(i) != 1:\n",
        "        filtered_movie_ratings.append(i)"
      ],
      "metadata": {
        "id": "LpnjO5vygDvI"
      },
      "execution_count": null,
      "outputs": []
    },
    {
      "cell_type": "code",
      "source": [
        "\n",
        "# Create a list to store the average rating for each movie\n",
        "avg_rating = []\n",
        "\n",
        "for row in filtered_movie_ratings:\n",
        "    avg = row.mean()\n",
        "    avg_rating.append(avg)\n",
        "\n",
        "# Sort the ratings and return indexes\n",
        "top_30_ratings = np.array(avg_rating).argsort()[-30:]\n",
        "print(top_30_ratings)"
      ],
      "metadata": {
        "colab": {
          "base_uri": "https://localhost:8080/"
        },
        "id": "MJzKS5y7gGxT",
        "outputId": "954b231a-e68f-48d7-87ec-bd26d7a94f1f"
      },
      "execution_count": null,
      "outputs": [
        {
          "output_type": "stream",
          "name": "stdout",
          "text": [
            "[14422 32066 79416   804 81929 77875  1348 37536 55524 89825 89355 58840\n",
            "  8453 52466 37345 77261 40556  4497 23089  5519 86086 14436 73042 45220\n",
            " 31485 90854 52278 55289 72908 56153]\n"
          ]
        }
      ]
    },
    {
      "cell_type": "code",
      "source": [
        "#Load movie data\n",
        "movie_data = pd.read_csv(\"movies.csv\")"
      ],
      "metadata": {
        "id": "AmefwujcgIq8"
      },
      "execution_count": null,
      "outputs": []
    },
    {
      "cell_type": "code",
      "source": [
        "# Convert movie index back to ID\n",
        "top_30_movies = [df['movie_index'][i] for i in top_30_ratings]\n",
        "\n",
        "# Map ID to title\n",
        "movie_names = [movie_data[movie_data[\"movieId\"]==movie_ids[i]][\"title\"] for i in top_30_movies]"
      ],
      "metadata": {
        "id": "EzCk644JgKC-"
      },
      "execution_count": null,
      "outputs": []
    },
    {
      "cell_type": "code",
      "source": [
        "# Create a list to store embeding weights for each movie (30 movies, 20 weights per movie)\n",
        "top_30_weights = []\n",
        "\n",
        "# Loops each movie and matches it to its embedding weight\n",
        "for i in top_30_movies:\n",
        "    top_30_weights.append(movie_weights[i])"
      ],
      "metadata": {
        "id": "2VNiNL1ogL8P"
      },
      "execution_count": null,
      "outputs": []
    },
    {
      "cell_type": "code",
      "source": [
        "# Fit array of weights and condense to 2d\n",
        "x = StandardScaler().fit_transform(top_30_weights)\n",
        "pca = PCA(n_components=2)\n",
        "x_2d = pca.fit_transform(x)\n",
        "\n",
        "# Plot\n",
        "x = x_2d[:,0]\n",
        "y = x_2d[:,1]\n",
        "plt.scatter(x,y, c=np.arange(0,30), cmap='prism')"
      ],
      "metadata": {
        "colab": {
          "base_uri": "https://localhost:8080/",
          "height": 282
        },
        "id": "JQriE5gOgPJU",
        "outputId": "76714fd5-4a71-45e5-f71e-7047d0b40688"
      },
      "execution_count": null,
      "outputs": [
        {
          "output_type": "execute_result",
          "data": {
            "text/plain": [
              "<matplotlib.collections.PathCollection at 0x7f3f7008ff10>"
            ]
          },
          "metadata": {},
          "execution_count": 37
        },
        {
          "output_type": "display_data",
          "data": {
            "text/plain": [
              "<Figure size 432x288 with 1 Axes>"
            ],
            "image/png": "[encoded data removed]"
          },
          "metadata": {
            "needs_background": "light"
          }
        }
      ]
    },
    {
      "cell_type": "code",
      "source": [
        "# Plot with movie names\n",
        "fig,ax = plt.subplots(figsize = (20,10)) #better visibility\n",
        "plt.title('Top 30 best rated films ')\n",
        "ax.scatter(x,y, c=np.arange(0,30), cmap='prism')\n",
        "annotations = pd.Series(movie_names).astype(str)\n",
        "for i, label in enumerate(annotations):\n",
        "    ax.annotate(label, (x[i], y[i]))"
      ],
      "metadata": {
        "colab": {
          "base_uri": "https://localhost:8080/",
          "height": 495
        },
        "id": "6U-s7EgggQ1T",
        "outputId": "4baa57f4-a29a-4f3b-f3f1-3731136723cc"
      },
      "execution_count": null,
      "outputs": [
        {
          "output_type": "display_data",
          "data": {
            "text/plain": [
              "<Figure size 1440x720 with 1 Axes>"
            ],
            "image/png": "[encoded data removed]"
          },
          "metadata": {
            "needs_background": "light"
          }
        }
      ]
    },
    {
      "cell_type": "code",
      "source": [
        ""
      ],
      "metadata": {
        "id": "_U56SFKWCHDj"
      },
      "execution_count": null,
      "outputs": []
    }
  ],
  "metadata": {
    "kernelspec": {
      "display_name": "Python 3 (ipykernel)",
      "language": "python",
      "name": "python3"
    },
    "language_info": {
      "codemirror_mode": {
        "name": "ipython",
        "version": 3
      },
      "file_extension": ".py",
      "mimetype": "text/x-python",
      "name": "python",
      "nbconvert_exporter": "python",
      "pygments_lexer": "ipython3",
      "version": "3.9.9"
    },
    "colab": {
      "name": "Embeddings.ipynb",
      "provenance": [],
      "collapsed_sections": []
    },
    "accelerator": "GPU"
  },
  "nbformat": 4,
  "nbformat_minor": 0
}