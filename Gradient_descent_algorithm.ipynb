{
  "nbformat": 4,
  "nbformat_minor": 0,
  "metadata": {
    "colab": {
      "name": "Gradient descent algorithm.ipynb",
      "provenance": []
    },
    "kernelspec": {
      "name": "python3",
      "display_name": "Python 3"
    },
    "language_info": {
      "name": "python"
    }
  },
  "cells": [
    {
      "cell_type": "code",
      "execution_count": 1,
      "metadata": {
        "colab": {
          "base_uri": "https://localhost:8080/",
          "height": 0
        },
        "id": "RmXq0kgLpExH",
        "outputId": "a0e8e335-32fc-4da2-f7d2-403675d63078"
      },
      "outputs": [
        {
          "output_type": "stream",
          "name": "stdout",
          "text": [
            "The calculated l∞ norm of the matrix is =9.399744096164651 \n"
          ]
        }
      ],
      "source": [
        "#calculating the norm of a matrix\n",
        "#function to generate random matrix A\n",
        "import numpy as np\n",
        "\n",
        "matrix_val=np.random.random((23,11)) #this can be adjusted to fit the 23*11 rule\n",
        "#writing a function to calculate the norm of the above matrix\n",
        "\n",
        "#this function calculaetes the l_infinity_norm of the matrix\n",
        "matrix__val_norm = np.linalg.norm(matrix_val)\n",
        "\n",
        "print(f'The calculated l∞ norm of the matrix is ={matrix__val_norm} ')\n",
        "\n"
      ]
    },
    {
      "cell_type": "code",
      "source": [
        "import numpy as np #neccesary libraries\n",
        "import matplotlib.pyplot as plt\n",
        "\n",
        "#defining the gradient descent mean value function\n",
        "def mse(init_val, final_val):\n",
        "     \n",
        "    Xk_vals = np.sum((init_val-final_val)**2) / len(init_val)\n",
        "    return Xk_vals\n",
        "\n",
        "#defining the gradient descent function with the given stopping criterion\n",
        "def gradient_descent_function(A,b, iterations = 100, rate = 0.001,stopping_criterion = 1e-4):\n",
        "    #defining and initializing the parameters\n",
        "    start_iter_val = 0.1\n",
        "    b_val = 0.01\n",
        "    iterations = iterations\n",
        "    rate = rate\n",
        "    n = float(len(A))\n",
        "    Xk = []\n",
        "    iter_var = []\n",
        "    Xk_prev = None\n",
        "    for i in range(iterations):\n",
        "         \n",
        "        #updating the Xk values\n",
        "        b_up = (start_iter_val * A) + b_val\n",
        "        Xk_new = mse(b, b_up)\n",
        " \n",
        "        # defining the stopping criterion\n",
        "        if Xk_prev and abs(Xk_prev-Xk_new)<=stopping_criterion:\n",
        "            break\n",
        "         \n",
        "        Xk_prev = Xk_new\n",
        "        Xk.append(Xk_new)\n",
        "        iter_var.append(start_iter_val)\n",
        "         \n",
        "        #finding the values of gradients\n",
        "        iter_val_der = -(2/n) * sum(A * (b-b_up))\n",
        "        b_val_der = -(2/n) * sum(b-b_up)\n",
        "        start_iter_val = start_iter_val - (rate * iter_val_der)\n",
        "        b_val = b_val - (rate * b_val_der)\n",
        "                \n",
        "    plt.plot(iter_var, Xk)\n",
        "    plt.scatter(iter_var, Xk,marker='*')\n",
        "    plt.title(\"iterations and Xk values\")\n",
        "    plt.ylabel(\"XK values\")\n",
        "    plt.xlabel(\"iterations\") \n",
        "    return Xk_new\n",
        "\n",
        "#initializing the random marix\n",
        "A=np.random.random((12))\n",
        "b=np.random.random((12))\n",
        "\n",
        "minimum_val = gradient_descent_function(A, b, iterations=100)\n",
        "print(f\"The minimum occurs at  {minimum_val}\")\n"
      ],
      "metadata": {
        "colab": {
          "base_uri": "https://localhost:8080/",
          "height": 313
        },
        "id": "tLSG5K7luBHw",
        "outputId": "7255d7c9-cd3d-4b86-8e6f-fc4599bc406e"
      },
      "execution_count": 2,
      "outputs": [
        {
          "output_type": "stream",
          "name": "stdout",
          "text": [
            "The minimum occurs at  0.22988247923006125\n"
          ]
        },
        {
          "output_type": "display_data",
          "data": {
            "image/png": "[encoded data removed]",
            "text/plain": [
              "<Figure size 432x288 with 1 Axes>"
            ]
          },
          "metadata": {
            "needs_background": "light"
          }
        }
      ]
    },
    {
      "cell_type": "code",
      "source": [
        ""
      ],
      "metadata": {
        "id": "SsJQ2eyeBAx7"
      },
      "execution_count": 2,
      "outputs": []
    }
  ]
}