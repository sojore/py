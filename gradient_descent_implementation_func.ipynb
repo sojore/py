{
  "cells": [
    {
      "cell_type": "code",
      "execution_count": 1,
      "metadata": {
        "id": "gCAYI-9aQvfS"
      },
      "outputs": [],
      "source": [
        "#in this project we will be implementing gradient descent algorithm for the given function,**see attached pdf\n",
        "#so we proceed as below\n",
        "\n",
        "#first we import some important libraries we gonna be using for implementation\n",
        "import numpy as np\n",
        "from numpy import asarray,arange\n",
        "import matplotlib.pyplot as plt\n",
        "from numpy.random import rand"
      ]
    },
    {
      "cell_type": "code",
      "execution_count": 2,
      "metadata": {
        "colab": {
          "base_uri": "https://localhost:8080/",
          "height": 474
        },
        "id": "KlE-dncVQwjc",
        "outputId": "68f4cc95-d3d2-408e-c642-243afb71b9b2"
      },
      "outputs": [
        {
          "output_type": "stream",
          "name": "stdout",
          "text": [
            ">0 reducing minimum point([0.50166869]) = 2.73112\n",
            ">1 reducing minimum point([0.2586025]) = 1.91142\n",
            ">2 reducing minimum point([0.13037762]) = 1.35381\n",
            ">3 reducing minimum point([0.06532718]) = 1.14730\n",
            ">4 reducing minimum point([0.03268101]) = 1.08946\n",
            ">5 reducing minimum point([0.01634269]) = 1.07456\n",
            ">6 reducing minimum point([0.00817162]) = 1.07081\n",
            ">7 reducing minimum point([0.00408584]) = 1.06987\n",
            ">8 reducing minimum point([0.00204293]) = 1.06964\n",
            ">9 reducing minimum point([0.00102146]) = 1.06958\n",
            ">10 reducing minimum point([0.00051073]) = 1.06957\n",
            "The above last array([****]) point represents the obtained minimum point!\n"
          ]
        },
        {
          "output_type": "display_data",
          "data": {
            "image/png": "[encoded data removed]",
            "text/plain": [
              "<Figure size 432x288 with 1 Axes>"
            ]
          },
          "metadata": {
            "needs_background": "light"
          }
        }
      ],
      "source": [
        "#gradient descent implementation of one-dimensional function \n",
        "#defining the problem function **see attached pdf\n",
        "def function_problem_def(x):\n",
        "\treturn (-20*(np.exp(1)**(-0.125*(x**2))))-(np.exp(1)**(0.5*np.cos(2*np.pi*x)))+20+np.exp(1)\n",
        " \n",
        "# calculating the derivertive of the given function ***see attached pdf for its derivatition\n",
        "def function_derivertive(x):\n",
        "\treturn (5*x*(np.exp(1)**(-0.125*(x**2))))\n",
        " \n",
        "# defing the gradient descent algorithm itself\n",
        "def gradient_descent_algorithm(function_problem_def, function_derivertive, stopping_val, number_of_iter, step_size):\n",
        "\tpoints, score_val = list(), list() ##this will be storing the values of the outcome \n",
        "\tsol = stopping_val[:, 0] + rand(len(stopping_val)) * (stopping_val[:, 1] - stopping_val[:, 0]) #getting the initial starting point of the algorithm \n",
        "\tfor i in range(number_of_iter):\n",
        "\t\tgradient_value = function_derivertive(sol)  #this calculates the gradient of the given function \n",
        "\n",
        "\t\tsol = sol - step_size * gradient_value  ##taking a step size during the gradient values approximation \n",
        "\t\tsolution_eval = function_problem_def(sol)\n",
        "  \n",
        "    #we will be appending the obtained soltuions into our list defined earlier\n",
        "\t\tpoints.append(sol)\n",
        "\t\tscore_val.append(solution_eval)\n",
        "\n",
        "\t\tprint('>%d reducing minimum point(%s) = %.5f' % (i, sol, solution_eval))\n",
        "  \n",
        "  \n",
        "\treturn [points, score_val]\n",
        " \n",
        "\n",
        "\n",
        "#initializing the number of iterations\n",
        "number_of_iter = 11\n",
        "\n",
        "#initializing the step size for the gradient descent  1e-5\n",
        "step_size = 0.1\n",
        "\n",
        "#determing our stopping criterian to be bound on the said domain\n",
        "stopping_val = asarray([[-1.0, 1.0]])\n",
        "\n",
        "#running the gradient descent algorithm to get the minimum point\n",
        "points, score_val = gradient_descent_algorithm(function_problem_def, function_derivertive, stopping_val, number_of_iter, step_size)\n",
        "\n",
        "inputs = arange(stopping_val[0,0], stopping_val[0,1]+0.1, 0.1)#increamenting the inputs from  bound ranges by a value of 0.1\n",
        "final_val = function_problem_def(inputs)\n",
        "\n",
        "print('The above last array([****]) point represents the obtained minimum point!')\n",
        "#plotting the graph for a better visualization of the local minimum point to be obtained\n",
        "plt.plot(inputs, final_val,color='green')\n",
        "plt.plot(points, score_val, '.-', color='red')\n",
        "plt.grid()\n",
        "plt.show()"
      ]
    },
    {
      "cell_type": "code",
      "execution_count": 3,
      "metadata": {
        "id": "lmCdN-teQ4bo"
      },
      "outputs": [],
      "source": [
        "#make sure to compare the average outcome to obtain the local minimum point\n",
        "#as found on the function derivertive, minimum point for this function is at aound the  0.0 value mark"
      ]
    },
    {
      "cell_type": "markdown",
      "source": [
        "END OF GRADIENT DESCENT ALGORITHM IMPLEMETATION AND EVALUATION  ****THANK YOU!!!***"
      ],
      "metadata": {
        "id": "1UrW13jGv-Nw"
      }
    },
    {
      "cell_type": "code",
      "source": [
        ""
      ],
      "metadata": {
        "id": "UntzCvcfwVZN"
      },
      "execution_count": null,
      "outputs": []
    }
  ],
  "metadata": {
    "colab": {
      "name": "gradient_descent_implementation_func.ipynb",
      "provenance": []
    },
    "kernelspec": {
      "display_name": "Python 3",
      "name": "python3"
    },
    "language_info": {
      "name": "python"
    }
  },
  "nbformat": 4,
  "nbformat_minor": 0
}