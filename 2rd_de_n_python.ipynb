{
  "nbformat": 4,
  "nbformat_minor": 0,
  "metadata": {
    "colab": {
      "name": "2rd_de_n_python.ipynb",
      "provenance": []
    },
    "kernelspec": {
      "name": "python3",
      "display_name": "Python 3"
    },
    "language_info": {
      "name": "python"
    }
  },
  "cells": [
    {
      "cell_type": "markdown",
      "source": [
        "WElcome! Let's get started!!!"
      ],
      "metadata": {
        "id": "q41EZG2K2Jzy"
      }
    },
    {
      "cell_type": "code",
      "execution_count": 1,
      "metadata": {
        "id": "bWuzXpCxY4OZ"
      },
      "outputs": [],
      "source": [
        "#importing important libraries\n",
        "import numpy as np\n",
        "import matplotlib.pyplot as plt"
      ]
    },
    {
      "cell_type": "code",
      "source": [
        "#solution using the euler method"
      ],
      "metadata": {
        "id": "tPjMXnSWoe-m"
      },
      "execution_count": 2,
      "outputs": []
    },
    {
      "cell_type": "code",
      "source": [
        "#system of odes function\n",
        "def func(y, t):\n",
        "    return np.array([y[1], np.sin(y[0])])"
      ],
      "metadata": {
        "id": "xPoQdM_4bETc"
      },
      "execution_count": 3,
      "outputs": []
    },
    {
      "cell_type": "code",
      "source": [
        "#setting the initial conditions\n",
        "y0 = np.array([np.pi /4, 0.0])"
      ],
      "metadata": {
        "id": "R4Gzqu5AbkRa"
      },
      "execution_count": 4,
      "outputs": []
    },
    {
      "cell_type": "code",
      "source": [
        "#setting the value for n (we are to input various values to test the output)\n",
        "P=int(input('Enter the value of power(p) e.g 2**1 => P=1 P: '))\n",
        "n=2**P"
      ],
      "metadata": {
        "colab": {
          "base_uri": "https://localhost:8080/"
        },
        "id": "tsH9XaLbbq4W",
        "outputId": "30d810a7-ee07-450a-ee1d-281e00b8d2b6"
      },
      "execution_count": 5,
      "outputs": [
        {
          "name": "stdout",
          "output_type": "stream",
          "text": [
            "Enter the value of power(p) e.g 2**1 => P=1 P: 17\n"
          ]
        }
      ]
    },
    {
      "cell_type": "code",
      "source": [
        "#setting the range of t values\n",
        "t = np.linspace(0, 10, n)"
      ],
      "metadata": {
        "id": "JOCQqrDXb1Ap"
      },
      "execution_count": 6,
      "outputs": []
    },
    {
      "cell_type": "code",
      "source": [
        "#function for euler method\n",
        "def euler_method(f, y0, t):\n",
        "    n = len(t)\n",
        "    y = np.zeros((n, len(y0)))\n",
        "    y[0] = y0\n",
        "    for i in range(n - 1):\n",
        "        y[i+1] =(t[i+1] - t[i]) * f(y[i], t[i])+ y[i] \n",
        "    return y\n"
      ],
      "metadata": {
        "id": "jywd4Cwdb3uJ"
      },
      "execution_count": 7,
      "outputs": []
    },
    {
      "cell_type": "code",
      "source": [
        "euler_solution = euler_method(func, y0, t)"
      ],
      "metadata": {
        "id": "uLhLUkGxcBYa"
      },
      "execution_count": 8,
      "outputs": []
    },
    {
      "cell_type": "code",
      "source": [
        "plt.plot(t, euler_solution[:, 0],label=r\"$\\theta(t)$\")\n",
        "plt.plot(t, euler_solution[:, 1],label=r\"$\\theta(t)$'\")\n",
        "plt.ylabel(\"theta and theta' values\" )\n",
        "plt.xlabel('t vals')\n",
        "plt.legend()\n",
        "plt.grid()"
      ],
      "metadata": {
        "colab": {
          "base_uri": "https://localhost:8080/",
          "height": 279
        },
        "id": "hxROTCeycKWQ",
        "outputId": "52db4b9b-0b32-4af0-bcbf-30c6b8a1e388"
      },
      "execution_count": 9,
      "outputs": [
        {
          "output_type": "display_data",
          "data": {
            "text/plain": [
              "<Figure size 432x288 with 1 Axes>"
            ],
            "image/png": "[encoded data removed]"
          },
          "metadata": {
            "needs_background": "light"
          }
        }
      ]
    },
    {
      "cell_type": "code",
      "source": [
        "#finding the solution at a=30\n",
        "np.interp(30, t,euler_solution[:, 0])"
      ],
      "metadata": {
        "colab": {
          "base_uri": "https://localhost:8080/"
        },
        "id": "mKQydLA7kabN",
        "outputId": "2a6dba30-2559-42b7-c3bb-a9a4a367ad53"
      },
      "execution_count": 10,
      "outputs": [
        {
          "output_type": "execute_result",
          "data": {
            "text/plain": [
              "0.8412440520647136"
            ]
          },
          "metadata": {},
          "execution_count": 10
        }
      ]
    },
    {
      "cell_type": "code",
      "source": [
        "#solution using the runger kutta method"
      ],
      "metadata": {
        "id": "-MEL3NRfkafK"
      },
      "execution_count": 11,
      "outputs": []
    },
    {
      "cell_type": "code",
      "source": [
        "##the system of odes function\n",
        "def func(y, t):\n",
        "    return np.array([y[1], np.sin(y[0])])"
      ],
      "metadata": {
        "id": "u278Ywk5cOKe"
      },
      "execution_count": 12,
      "outputs": []
    },
    {
      "cell_type": "code",
      "source": [
        "#initial conditions\n",
        "y0 = np.array([np.pi /4, 0.0])"
      ],
      "metadata": {
        "id": "S9BvKFL_denO"
      },
      "execution_count": 13,
      "outputs": []
    },
    {
      "cell_type": "code",
      "source": [
        "#n values param\n",
        "P=int(input('Enter the value of power(p) e.g 2**1 => P=1 P: '))\n",
        "n=2**P"
      ],
      "metadata": {
        "colab": {
          "base_uri": "https://localhost:8080/"
        },
        "id": "vfxhzEoUdm8I",
        "outputId": "968a0490-b47f-465c-b751-dce63e7d38a2"
      },
      "execution_count": 14,
      "outputs": [
        {
          "name": "stdout",
          "output_type": "stream",
          "text": [
            "Enter the value of power(p) e.g 2**1 => P=1 P: 17\n"
          ]
        }
      ]
    },
    {
      "cell_type": "code",
      "source": [
        "#set range val\n",
        "t = np.linspace(0, 10, n)"
      ],
      "metadata": {
        "id": "0LhNcF8qdesr"
      },
      "execution_count": 15,
      "outputs": []
    },
    {
      "cell_type": "code",
      "source": [
        "#runge kutta function\n",
        "def rungekutta4(f, y0, t):\n",
        "    n = len(t)\n",
        "    y = np.zeros((n, len(y0)))\n",
        "    y[0] = y0\n",
        "    for i in range(n - 1):\n",
        "        h = t[i+1] - t[i]\n",
        "        k1 = f(y[i], t[i])\n",
        "        k2 = f(y[i] + k1 * h / 2, t[i] + h / 2)\n",
        "        k3 = f(y[i] + k2 * h / 2, t[i] + h / 2)\n",
        "        k4 = f(y[i] + k3 * h, t[i] + h)\n",
        "        y[i+1] = (k1 + 2*k2 + 2*k3 + k4)*(h / 6) +y[i] \n",
        "    return y"
      ],
      "metadata": {
        "id": "rImuBQUZdRpY"
      },
      "execution_count": 16,
      "outputs": []
    },
    {
      "cell_type": "code",
      "source": [
        "runge_kutta_solution= rungekutta4(func, y0, t)"
      ],
      "metadata": {
        "id": "LNbvSnthdZiq"
      },
      "execution_count": 17,
      "outputs": []
    },
    {
      "cell_type": "code",
      "source": [
        "plt.plot(t, runge_kutta_solution[:, 0], label=r'$\\theta(t)$')\n",
        "plt.plot(t, runge_kutta_solution[:, 1], label=r\"$\\theta(t)$'\")\n",
        "plt.ylabel(\"theta and theta' values\" )\n",
        "plt.xlabel('t vals')\n",
        "plt.legend()\n",
        "plt.grid()"
      ],
      "metadata": {
        "colab": {
          "base_uri": "https://localhost:8080/",
          "height": 279
        },
        "id": "orpRzXlOeBxm",
        "outputId": "76ba7e97-61b4-4c7a-fa0e-8a7410dfc6d2"
      },
      "execution_count": 18,
      "outputs": [
        {
          "output_type": "display_data",
          "data": {
            "text/plain": [
              "<Figure size 432x288 with 1 Axes>"
            ],
            "image/png": "[encoded data removed]"
          },
          "metadata": {
            "needs_background": "light"
          }
        }
      ]
    },
    {
      "cell_type": "code",
      "source": [
        "#finding the solution at a=30\n",
        "np.interp(30, t,runge_kutta_solution[:, 0]) #runge_kutta_solution"
      ],
      "metadata": {
        "colab": {
          "base_uri": "https://localhost:8080/"
        },
        "id": "gYf9UrHShG50",
        "outputId": "7c97f9fe-4369-4094-872e-9e11ec3bf855"
      },
      "execution_count": 19,
      "outputs": [
        {
          "output_type": "execute_result",
          "data": {
            "text/plain": [
              "0.8423870795918288"
            ]
          },
          "metadata": {},
          "execution_count": 19
        }
      ]
    },
    {
      "cell_type": "code",
      "source": [
        "#approximations\n",
        "\n",
        "#at n=2\n",
        "# ==> euler approximation=0.7853981633974483\n",
        "# ==>runge kutta approximation=18.073324066944718\n",
        "\n",
        "#at n=4\n",
        "# ==> euler approximation=24.35562420294903\n",
        "# ==>runge kutta approximation=0.8052655530761057\n",
        "\n",
        "#at n=2**3\n",
        "# ==> euler approximation=16.054823723316375\n",
        "# ==>runge kutta approximation=1.1606909441616713\n",
        "\n",
        "#at n=2**4\n",
        "# ==> euler approximation=19.820698268921404\n",
        "# ==>runge kutta approximation=0.8676538756766228\n",
        "\n",
        "#at n=2**5\n",
        "# ==> euler approximation=16.075593415171607\n",
        "# ==>runge kutta approximation=0.8431265571542572\n",
        "\n",
        "#at n=2**6\n",
        "# ==> euler approximation=12.718831843250436\n",
        "# ==>runge kutta approximation=0.8424053570533903\n",
        "\n",
        "#at n=2**7\n",
        "# ==> euler approximation=1.0645903661879352\n",
        "# ==>runge kutta approximation=0.8423873972247754\n",
        "\n",
        "#at n=2**8\n",
        "# ==> euler approximation=0.47770105361226567\n",
        "# ==>runge kutta approximation=0.842387074801793\n",
        "\n",
        "#at n=2**9\n",
        "# ==> euler approximation=0.5984810341734176\n",
        "# ==>runge kutta approximation=0.8423870785425398\n",
        "\n",
        "#at n=2**10\n",
        "# ==> euler approximation=0.7074986452365337\n",
        "# ==>runge kutta approximation=0.8423870795032059\n",
        "\n",
        "#at n=2**11\n",
        "# ==> euler approximation=0.7719783125579635\n",
        "# ==>runge kutta approximation=0.842387079585641\n",
        "\n",
        "#at n=2**12\n",
        "# ==> euler approximation=0.8064747915345457\n",
        "# ==>runge kutta approximation=0.8423870795915009\n",
        "\n",
        "#at n=2**13\n",
        "# ==> euler approximation=0.8242581226090757\n",
        "# ==>runge kutta approximation=0.8423870795918872\n",
        "\n",
        "#at n=2**14\n",
        "# ==> euler approximation=0.8332799196878087\n",
        "# ==>runge kutta approximation=0.8423870795918822\n",
        "\n",
        "#at n=2**15\n",
        "# ==> euler approximation=0.8378228946275429\n",
        "# ==>runge kutta approximation=0.8423870795920042\n",
        "\n",
        "#at n=2**16\n",
        "# ==> euler approximation=0.8401023440318409\n",
        "# ==>runge kutta approximation=0.8423870795919647\n",
        "\n",
        "#at n=2**17\n",
        "# ==> euler approximation=0.8412440520647136\n",
        "# ==>runge kutta approximation=0.8423870795918288"
      ],
      "metadata": {
        "id": "wYKP4QJhh0lP"
      },
      "execution_count": 20,
      "outputs": []
    },
    {
      "cell_type": "code",
      "source": [
        "#it's very clear that runge kutta method produces an accurate approximation quicker with a value of 0.8423870795918288"
      ],
      "metadata": {
        "id": "5IkAhdeAvPNf"
      },
      "execution_count": 21,
      "outputs": []
    },
    {
      "cell_type": "markdown",
      "source": [
        "THANK YOU!!!"
      ],
      "metadata": {
        "id": "R7fjo7Wu0XJj"
      }
    }
  ]
}