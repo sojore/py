{
 "cells": [
  {
   "cell_type": "code",
   "execution_count": 2,
   "metadata": {},
   "outputs": [],
   "source": [
    "#Task\n",
    "#building an end to end project for the apartments price prediction in kenya(done on mothly basis)\n",
    "#credits to kaggle for the dataset..link https://www.kaggle.com/beverlyneakoth/apartment-prices-in-kenya"
   ]
  },
  {
   "cell_type": "code",
   "execution_count": 3,
   "metadata": {},
   "outputs": [],
   "source": [
    "#import import libraries\n",
    "import pandas as pd\n",
    "import numpy as np\n",
    "import matplotlib\n",
    "import matplotlib.pyplot as plt\n",
    "matplotlib.rcParams['figure.figsize']==(20,15)\n",
    "%matplotlib inline"
   ]
  },
  {
   "cell_type": "code",
   "execution_count": 4,
   "metadata": {},
   "outputs": [
    {
     "data": {
      "text/html": [
       "<div>\n",
       "<style scoped>\n",
       "    .dataframe tbody tr th:only-of-type {\n",
       "        vertical-align: middle;\n",
       "    }\n",
       "\n",
       "    .dataframe tbody tr th {\n",
       "        vertical-align: top;\n",
       "    }\n",
       "\n",
       "    .dataframe thead th {\n",
       "        text-align: right;\n",
       "    }\n",
       "</style>\n",
       "<table border=\"1\" class=\"dataframe\">\n",
       "  <thead>\n",
       "    <tr style=\"text-align: right;\">\n",
       "      <th></th>\n",
       "      <th>Unnamed: 0</th>\n",
       "      <th>title</th>\n",
       "      <th>location</th>\n",
       "      <th>bedrooms</th>\n",
       "      <th>bathrooms</th>\n",
       "      <th>price</th>\n",
       "      <th>rate</th>\n",
       "    </tr>\n",
       "  </thead>\n",
       "  <tbody>\n",
       "    <tr>\n",
       "      <th>0</th>\n",
       "      <td>0</td>\n",
       "      <td>3 Bedroom Apartment / Flat to rent in Riverside</td>\n",
       "      <td>Riverside Dr Nairobi, Riverside, Nairobi</td>\n",
       "      <td>3</td>\n",
       "      <td>3</td>\n",
       "      <td>200 000</td>\n",
       "      <td>Per Month</td>\n",
       "    </tr>\n",
       "    <tr>\n",
       "      <th>1</th>\n",
       "      <td>1</td>\n",
       "      <td>3 Bedroom Apartment / Flat to rent in Kileleshwa</td>\n",
       "      <td>Kileleshwa, Nairobi</td>\n",
       "      <td>3</td>\n",
       "      <td>4</td>\n",
       "      <td>70 000</td>\n",
       "      <td>Per Month</td>\n",
       "    </tr>\n",
       "    <tr>\n",
       "      <th>2</th>\n",
       "      <td>2</td>\n",
       "      <td>3 Bedroom Apartment / Flat to rent in Nyali</td>\n",
       "      <td>Links Rd Mombasa, Nyali, Mombasa</td>\n",
       "      <td>3</td>\n",
       "      <td>2</td>\n",
       "      <td>38 000</td>\n",
       "      <td>Per Month</td>\n",
       "    </tr>\n",
       "    <tr>\n",
       "      <th>3</th>\n",
       "      <td>3</td>\n",
       "      <td>3 Bedroom Apartment / Flat to rent in Lavington</td>\n",
       "      <td>Near Valley Arcade, Lavington, Nairobi</td>\n",
       "      <td>3</td>\n",
       "      <td>3</td>\n",
       "      <td>80 000</td>\n",
       "      <td>Per Month</td>\n",
       "    </tr>\n",
       "    <tr>\n",
       "      <th>4</th>\n",
       "      <td>4</td>\n",
       "      <td>1 Bedroom Apartment / Flat to rent in Kileleshwa</td>\n",
       "      <td>Kileleshwa, Nairobi</td>\n",
       "      <td>1</td>\n",
       "      <td>1</td>\n",
       "      <td>110 000</td>\n",
       "      <td>Per Month</td>\n",
       "    </tr>\n",
       "  </tbody>\n",
       "</table>\n",
       "</div>"
      ],
      "text/plain": [
       "   Unnamed: 0                                             title  \\\n",
       "0           0   3 Bedroom Apartment / Flat to rent in Riverside   \n",
       "1           1  3 Bedroom Apartment / Flat to rent in Kileleshwa   \n",
       "2           2       3 Bedroom Apartment / Flat to rent in Nyali   \n",
       "3           3   3 Bedroom Apartment / Flat to rent in Lavington   \n",
       "4           4  1 Bedroom Apartment / Flat to rent in Kileleshwa   \n",
       "\n",
       "                                   location  bedrooms  bathrooms     price  \\\n",
       "0  Riverside Dr Nairobi, Riverside, Nairobi         3          3   200 000   \n",
       "1                       Kileleshwa, Nairobi         3          4    70 000   \n",
       "2          Links Rd Mombasa, Nyali, Mombasa         3          2    38 000   \n",
       "3    Near Valley Arcade, Lavington, Nairobi         3          3    80 000   \n",
       "4                       Kileleshwa, Nairobi         1          1   110 000   \n",
       "\n",
       "        rate  \n",
       "0  Per Month  \n",
       "1  Per Month  \n",
       "2  Per Month  \n",
       "3  Per Month  \n",
       "4  Per Month  "
      ]
     },
     "execution_count": 4,
     "metadata": {},
     "output_type": "execute_result"
    }
   ],
   "source": [
    "#loading the dataset\n",
    "df=pd.read_csv('C://Users/sojore/Documents/apartments.csv')\n",
    "df.head()"
   ]
  },
  {
   "cell_type": "code",
   "execution_count": 5,
   "metadata": {},
   "outputs": [
    {
     "data": {
      "text/plain": [
       "(2520, 7)"
      ]
     },
     "execution_count": 5,
     "metadata": {},
     "output_type": "execute_result"
    }
   ],
   "source": [
    "#exploring the dataset\n",
    "df.shape"
   ]
  },
  {
   "cell_type": "code",
   "execution_count": 6,
   "metadata": {},
   "outputs": [
    {
     "data": {
      "text/plain": [
       "Unnamed: 0     int64\n",
       "title         object\n",
       "location      object\n",
       "bedrooms       int64\n",
       "bathrooms      int64\n",
       "price         object\n",
       "rate          object\n",
       "dtype: object"
      ]
     },
     "execution_count": 6,
     "metadata": {},
     "output_type": "execute_result"
    }
   ],
   "source": [
    "df.dtypes"
   ]
  },
  {
   "cell_type": "code",
   "execution_count": 7,
   "metadata": {},
   "outputs": [
    {
     "data": {
      "text/plain": [
       "title\n",
       "1 Bedroom Apartment / Flat to rent in Kileleshwa    127\n",
       "1 Bedroom Apartment / Flat to rent in Nyali         125\n",
       "1 Bedroom Apartment / Flat to rent in Shanzu        129\n",
       "Name: title, dtype: int64"
      ]
     },
     "execution_count": 7,
     "metadata": {},
     "output_type": "execute_result"
    }
   ],
   "source": [
    "df.groupby('title')['title'].agg('count').head(3)"
   ]
  },
  {
   "cell_type": "code",
   "execution_count": 8,
   "metadata": {},
   "outputs": [
    {
     "data": {
      "text/plain": [
       "location\n",
       "Grevillea Grove Spring Valley, Spring Valley, Nairobi    125\n",
       "Jabavu court, Kilimani, Nairobi                           12\n",
       "Kikuyu Town Bus park Kikuyu, Kikuyu, Kikuyu              128\n",
       "Kileleshwa Nairobi, Kileleshwa, Nairobi                  125\n",
       "Kileleshwa, Nairobi                                      257\n",
       "Kilimani, Nairobi                                        251\n",
       "Links Rd Mombasa, Nyali, Mombasa                         126\n",
       "Muthaiga, Nairobi                                        126\n",
       "Near Valley Arcade, Lavington, Nairobi                    35\n",
       "Nyali, Mombasa                                           125\n",
       "Off Othaya road, Lavington, Nairobi                       20\n",
       "Riverside Dr Nairobi, Riverside, Nairobi                 125\n",
       "Shanzu, Mombasa                                          129\n",
       "Thika Rd Nairobi, Kahawa Wendani, Nairobi                125\n",
       "Vihiga road, Kileleshwa, Nairobi                          56\n",
       "Westlands downtown, Westlands, Nairobi                   127\n",
       "Westlands, Nairobi                                       252\n",
       "Name: location, dtype: int64"
      ]
     },
     "execution_count": 8,
     "metadata": {},
     "output_type": "execute_result"
    }
   ],
   "source": [
    "df.groupby('location')['location'].agg('count')"
   ]
  },
  {
   "cell_type": "code",
   "execution_count": 9,
   "metadata": {},
   "outputs": [
    {
     "data": {
      "text/html": [
       "<div>\n",
       "<style scoped>\n",
       "    .dataframe tbody tr th:only-of-type {\n",
       "        vertical-align: middle;\n",
       "    }\n",
       "\n",
       "    .dataframe tbody tr th {\n",
       "        vertical-align: top;\n",
       "    }\n",
       "\n",
       "    .dataframe thead th {\n",
       "        text-align: right;\n",
       "    }\n",
       "</style>\n",
       "<table border=\"1\" class=\"dataframe\">\n",
       "  <thead>\n",
       "    <tr style=\"text-align: right;\">\n",
       "      <th></th>\n",
       "      <th>Unnamed: 0</th>\n",
       "      <th>title</th>\n",
       "      <th>location</th>\n",
       "      <th>bedrooms</th>\n",
       "      <th>bathrooms</th>\n",
       "      <th>price</th>\n",
       "      <th>rate</th>\n",
       "    </tr>\n",
       "  </thead>\n",
       "  <tbody>\n",
       "    <tr>\n",
       "      <th>0</th>\n",
       "      <td>0</td>\n",
       "      <td>3 Bedroom Apartment / Flat to rent in Riverside</td>\n",
       "      <td>Riverside Dr Nairobi, Riverside, Nairobi</td>\n",
       "      <td>3</td>\n",
       "      <td>3</td>\n",
       "      <td>200 000</td>\n",
       "      <td>Per Month</td>\n",
       "    </tr>\n",
       "    <tr>\n",
       "      <th>1</th>\n",
       "      <td>1</td>\n",
       "      <td>3 Bedroom Apartment / Flat to rent in Kileleshwa</td>\n",
       "      <td>Kileleshwa, Nairobi</td>\n",
       "      <td>3</td>\n",
       "      <td>4</td>\n",
       "      <td>70 000</td>\n",
       "      <td>Per Month</td>\n",
       "    </tr>\n",
       "  </tbody>\n",
       "</table>\n",
       "</div>"
      ],
      "text/plain": [
       "   Unnamed: 0                                             title  \\\n",
       "0           0   3 Bedroom Apartment / Flat to rent in Riverside   \n",
       "1           1  3 Bedroom Apartment / Flat to rent in Kileleshwa   \n",
       "\n",
       "                                   location  bedrooms  bathrooms     price  \\\n",
       "0  Riverside Dr Nairobi, Riverside, Nairobi         3          3   200 000   \n",
       "1                       Kileleshwa, Nairobi         3          4    70 000   \n",
       "\n",
       "        rate  \n",
       "0  Per Month  \n",
       "1  Per Month  "
      ]
     },
     "execution_count": 9,
     "metadata": {},
     "output_type": "execute_result"
    }
   ],
   "source": [
    "df.head(2)"
   ]
  },
  {
   "cell_type": "code",
   "execution_count": 10,
   "metadata": {},
   "outputs": [
    {
     "data": {
      "text/html": [
       "<div>\n",
       "<style scoped>\n",
       "    .dataframe tbody tr th:only-of-type {\n",
       "        vertical-align: middle;\n",
       "    }\n",
       "\n",
       "    .dataframe tbody tr th {\n",
       "        vertical-align: top;\n",
       "    }\n",
       "\n",
       "    .dataframe thead th {\n",
       "        text-align: right;\n",
       "    }\n",
       "</style>\n",
       "<table border=\"1\" class=\"dataframe\">\n",
       "  <thead>\n",
       "    <tr style=\"text-align: right;\">\n",
       "      <th></th>\n",
       "      <th>location</th>\n",
       "      <th>bedrooms</th>\n",
       "      <th>bathrooms</th>\n",
       "      <th>price</th>\n",
       "      <th>rate</th>\n",
       "    </tr>\n",
       "  </thead>\n",
       "  <tbody>\n",
       "    <tr>\n",
       "      <th>0</th>\n",
       "      <td>Riverside Dr Nairobi, Riverside, Nairobi</td>\n",
       "      <td>3</td>\n",
       "      <td>3</td>\n",
       "      <td>200 000</td>\n",
       "      <td>Per Month</td>\n",
       "    </tr>\n",
       "    <tr>\n",
       "      <th>1</th>\n",
       "      <td>Kileleshwa, Nairobi</td>\n",
       "      <td>3</td>\n",
       "      <td>4</td>\n",
       "      <td>70 000</td>\n",
       "      <td>Per Month</td>\n",
       "    </tr>\n",
       "    <tr>\n",
       "      <th>2</th>\n",
       "      <td>Links Rd Mombasa, Nyali, Mombasa</td>\n",
       "      <td>3</td>\n",
       "      <td>2</td>\n",
       "      <td>38 000</td>\n",
       "      <td>Per Month</td>\n",
       "    </tr>\n",
       "    <tr>\n",
       "      <th>3</th>\n",
       "      <td>Near Valley Arcade, Lavington, Nairobi</td>\n",
       "      <td>3</td>\n",
       "      <td>3</td>\n",
       "      <td>80 000</td>\n",
       "      <td>Per Month</td>\n",
       "    </tr>\n",
       "  </tbody>\n",
       "</table>\n",
       "</div>"
      ],
      "text/plain": [
       "                                   location  bedrooms  bathrooms     price  \\\n",
       "0  Riverside Dr Nairobi, Riverside, Nairobi         3          3   200 000   \n",
       "1                       Kileleshwa, Nairobi         3          4    70 000   \n",
       "2          Links Rd Mombasa, Nyali, Mombasa         3          2    38 000   \n",
       "3    Near Valley Arcade, Lavington, Nairobi         3          3    80 000   \n",
       "\n",
       "        rate  \n",
       "0  Per Month  \n",
       "1  Per Month  \n",
       "2  Per Month  \n",
       "3  Per Month  "
      ]
     },
     "execution_count": 10,
     "metadata": {},
     "output_type": "execute_result"
    }
   ],
   "source": [
    "#droping the unnamed and title columns ,they will have minimal influence towards the  price prediction\n",
    "df1=df.drop(['Unnamed: 0','title'],axis='columns')\n",
    "df1.head(4)"
   ]
  },
  {
   "cell_type": "code",
   "execution_count": 11,
   "metadata": {},
   "outputs": [
    {
     "data": {
      "text/plain": [
       "array(['Per Month', 'Per Day'], dtype=object)"
      ]
     },
     "execution_count": 11,
     "metadata": {},
     "output_type": "execute_result"
    }
   ],
   "source": [
    "df1.rate.unique()#we will need this column to specify the rate at which one might be interested to know the price"
   ]
  },
  {
   "cell_type": "code",
   "execution_count": 12,
   "metadata": {},
   "outputs": [
    {
     "data": {
      "text/plain": [
       "location     376\n",
       "bedrooms       0\n",
       "bathrooms      0\n",
       "price          0\n",
       "rate           0\n",
       "dtype: int64"
      ]
     },
     "execution_count": 12,
     "metadata": {},
     "output_type": "execute_result"
    }
   ],
   "source": [
    "#lets see any missing values\n",
    "df1.isna().sum()"
   ]
  },
  {
   "cell_type": "code",
   "execution_count": 13,
   "metadata": {},
   "outputs": [
    {
     "data": {
      "text/plain": [
       "(2144, 5)"
      ]
     },
     "execution_count": 13,
     "metadata": {},
     "output_type": "execute_result"
    }
   ],
   "source": [
    "#i can simply drop all locations which a missing value\n",
    "df2=df1.dropna()\n",
    "df2.shape"
   ]
  },
  {
   "cell_type": "code",
   "execution_count": 14,
   "metadata": {},
   "outputs": [
    {
     "data": {
      "text/plain": [
       "location     False\n",
       "bedrooms     False\n",
       "bathrooms    False\n",
       "price        False\n",
       "rate         False\n",
       "dtype: bool"
      ]
     },
     "execution_count": 14,
     "metadata": {},
     "output_type": "execute_result"
    }
   ],
   "source": [
    "#lets confirm no more missing values on our dataset\n",
    "df2.isna().any()"
   ]
  },
  {
   "cell_type": "code",
   "execution_count": 15,
   "metadata": {},
   "outputs": [
    {
     "name": "stderr",
     "output_type": "stream",
     "text": [
      "<ipython-input-15-7a946bd9478e>:3: SettingWithCopyWarning: \n",
      "A value is trying to be set on a copy of a slice from a DataFrame.\n",
      "Try using .loc[row_indexer,col_indexer] = value instead\n",
      "\n",
      "See the caveats in the documentation: https://pandas.pydata.org/pandas-docs/stable/user_guide/indexing.html#returning-a-view-versus-a-copy\n",
      "  df2['rateN']=df2.rate.apply(lambda x: 1 if x=='Per Month' else 0)\n"
     ]
    }
   ],
   "source": [
    "#i wanna create another column based on the rate such that the rate per month will be equal to value 1\n",
    "#n 0 for per day rate\n",
    "df2['rateN']=df2.rate.apply(lambda x: 1 if x=='Per Month' else 0)"
   ]
  },
  {
   "cell_type": "code",
   "execution_count": 16,
   "metadata": {},
   "outputs": [
    {
     "data": {
      "text/html": [
       "<div>\n",
       "<style scoped>\n",
       "    .dataframe tbody tr th:only-of-type {\n",
       "        vertical-align: middle;\n",
       "    }\n",
       "\n",
       "    .dataframe tbody tr th {\n",
       "        vertical-align: top;\n",
       "    }\n",
       "\n",
       "    .dataframe thead th {\n",
       "        text-align: right;\n",
       "    }\n",
       "</style>\n",
       "<table border=\"1\" class=\"dataframe\">\n",
       "  <thead>\n",
       "    <tr style=\"text-align: right;\">\n",
       "      <th></th>\n",
       "      <th>location</th>\n",
       "      <th>bedrooms</th>\n",
       "      <th>bathrooms</th>\n",
       "      <th>price</th>\n",
       "      <th>rate</th>\n",
       "      <th>rateN</th>\n",
       "    </tr>\n",
       "  </thead>\n",
       "  <tbody>\n",
       "    <tr>\n",
       "      <th>2048</th>\n",
       "      <td>Kikuyu Town Bus park Kikuyu, Kikuyu, Kikuyu</td>\n",
       "      <td>3</td>\n",
       "      <td>3</td>\n",
       "      <td>55 000</td>\n",
       "      <td>Per Month</td>\n",
       "      <td>1</td>\n",
       "    </tr>\n",
       "    <tr>\n",
       "      <th>1694</th>\n",
       "      <td>Westlands downtown, Westlands, Nairobi</td>\n",
       "      <td>2</td>\n",
       "      <td>2</td>\n",
       "      <td>75 000</td>\n",
       "      <td>Per Month</td>\n",
       "      <td>1</td>\n",
       "    </tr>\n",
       "    <tr>\n",
       "      <th>2138</th>\n",
       "      <td>Kilimani, Nairobi</td>\n",
       "      <td>3</td>\n",
       "      <td>3</td>\n",
       "      <td>75 000</td>\n",
       "      <td>Per Month</td>\n",
       "      <td>1</td>\n",
       "    </tr>\n",
       "    <tr>\n",
       "      <th>1153</th>\n",
       "      <td>Grevillea Grove Spring Valley, Spring Valley, ...</td>\n",
       "      <td>2</td>\n",
       "      <td>3</td>\n",
       "      <td>65 000</td>\n",
       "      <td>Per Month</td>\n",
       "      <td>1</td>\n",
       "    </tr>\n",
       "  </tbody>\n",
       "</table>\n",
       "</div>"
      ],
      "text/plain": [
       "                                               location  bedrooms  bathrooms  \\\n",
       "2048        Kikuyu Town Bus park Kikuyu, Kikuyu, Kikuyu         3          3   \n",
       "1694             Westlands downtown, Westlands, Nairobi         2          2   \n",
       "2138                                  Kilimani, Nairobi         3          3   \n",
       "1153  Grevillea Grove Spring Valley, Spring Valley, ...         2          3   \n",
       "\n",
       "        price       rate  rateN  \n",
       "2048   55 000  Per Month      1  \n",
       "1694   75 000  Per Month      1  \n",
       "2138   75 000  Per Month      1  \n",
       "1153   65 000  Per Month      1  "
      ]
     },
     "execution_count": 16,
     "metadata": {},
     "output_type": "execute_result"
    }
   ],
   "source": [
    "df2.sample(4)"
   ]
  },
  {
   "cell_type": "code",
   "execution_count": 17,
   "metadata": {},
   "outputs": [
    {
     "data": {
      "text/plain": [
       "array([3, 1, 4, 2], dtype=int64)"
      ]
     },
     "execution_count": 17,
     "metadata": {},
     "output_type": "execute_result"
    }
   ],
   "source": [
    "df2.bedrooms.unique()"
   ]
  },
  {
   "cell_type": "code",
   "execution_count": 18,
   "metadata": {},
   "outputs": [
    {
     "data": {
      "text/plain": [
       "array([3, 4, 2, 1, 5], dtype=int64)"
      ]
     },
     "execution_count": 18,
     "metadata": {},
     "output_type": "execute_result"
    }
   ],
   "source": [
    "df2.bathrooms.unique()"
   ]
  },
  {
   "cell_type": "code",
   "execution_count": 19,
   "metadata": {},
   "outputs": [
    {
     "data": {
      "text/plain": [
       "array([' 200 000', ' 70 000', ' 38 000', ' 80 000', ' 110 000', ' 57 750',\n",
       "       ' 65 000', ' 5 000', ' 300 000', ' 165 000', ' 55 000', ' 75 000',\n",
       "       ' 100 000', ' 125 000'], dtype=object)"
      ]
     },
     "execution_count": 19,
     "metadata": {},
     "output_type": "execute_result"
    }
   ],
   "source": [
    "df2.price.unique()"
   ]
  },
  {
   "cell_type": "code",
   "execution_count": 20,
   "metadata": {},
   "outputs": [
    {
     "data": {
      "text/plain": [
       "dtype('O')"
      ]
     },
     "execution_count": 20,
     "metadata": {},
     "output_type": "execute_result"
    }
   ],
   "source": [
    "df2.price.dtypes"
   ]
  },
  {
   "cell_type": "code",
   "execution_count": 21,
   "metadata": {},
   "outputs": [],
   "source": [
    "##the prices are kinda separated by a space thus not properly well read,\n",
    "#i will convert them into float value\n",
    "\n",
    "#how this function  works is that the price values are strings separated by 2 space,so we write a function to split the strings\n",
    "#into 3 characters ,n then return a float of the second index and 3rd index\n",
    "def convert_float(x):\n",
    "    y=str(x)\n",
    "    res=y.split(' ')\n",
    "    if len(res)==3:\n",
    "        return float(res[1]+res[2])\n",
    "\n",
    "    \n",
    "        "
   ]
  },
  {
   "cell_type": "code",
   "execution_count": 22,
   "metadata": {},
   "outputs": [
    {
     "data": {
      "text/plain": [
       "'224'"
      ]
     },
     "execution_count": 22,
     "metadata": {},
     "output_type": "execute_result"
    }
   ],
   "source": [
    "#this is how i need the function to do in the end,concatenate 2 strings and return  a float of this value\n",
    "'22'+'4'"
   ]
  },
  {
   "cell_type": "code",
   "execution_count": 23,
   "metadata": {},
   "outputs": [
    {
     "data": {
      "text/plain": [
       "224.0"
      ]
     },
     "execution_count": 23,
     "metadata": {},
     "output_type": "execute_result"
    }
   ],
   "source": [
    "float('22'+'4')"
   ]
  },
  {
   "cell_type": "code",
   "execution_count": 24,
   "metadata": {},
   "outputs": [
    {
     "data": {
      "text/plain": [
       "75750.0"
      ]
     },
     "execution_count": 24,
     "metadata": {},
     "output_type": "execute_result"
    }
   ],
   "source": [
    "#now lets test our function if it works\n",
    "convert_float(' 75 750')"
   ]
  },
  {
   "cell_type": "code",
   "execution_count": 25,
   "metadata": {},
   "outputs": [
    {
     "name": "stderr",
     "output_type": "stream",
     "text": [
      "C:\\Users\\sojore\\anaconda3\\lib\\site-packages\\pandas\\core\\generic.py:5168: SettingWithCopyWarning: \n",
      "A value is trying to be set on a copy of a slice from a DataFrame.\n",
      "Try using .loc[row_indexer,col_indexer] = value instead\n",
      "\n",
      "See the caveats in the documentation: https://pandas.pydata.org/pandas-docs/stable/user_guide/indexing.html#returning-a-view-versus-a-copy\n",
      "  self[name] = value\n"
     ]
    },
    {
     "data": {
      "text/html": [
       "<div>\n",
       "<style scoped>\n",
       "    .dataframe tbody tr th:only-of-type {\n",
       "        vertical-align: middle;\n",
       "    }\n",
       "\n",
       "    .dataframe tbody tr th {\n",
       "        vertical-align: top;\n",
       "    }\n",
       "\n",
       "    .dataframe thead th {\n",
       "        text-align: right;\n",
       "    }\n",
       "</style>\n",
       "<table border=\"1\" class=\"dataframe\">\n",
       "  <thead>\n",
       "    <tr style=\"text-align: right;\">\n",
       "      <th></th>\n",
       "      <th>location</th>\n",
       "      <th>bedrooms</th>\n",
       "      <th>bathrooms</th>\n",
       "      <th>price</th>\n",
       "      <th>rate</th>\n",
       "      <th>rateN</th>\n",
       "    </tr>\n",
       "  </thead>\n",
       "  <tbody>\n",
       "    <tr>\n",
       "      <th>0</th>\n",
       "      <td>Riverside Dr Nairobi, Riverside, Nairobi</td>\n",
       "      <td>3</td>\n",
       "      <td>3</td>\n",
       "      <td>200000.0</td>\n",
       "      <td>Per Month</td>\n",
       "      <td>1</td>\n",
       "    </tr>\n",
       "    <tr>\n",
       "      <th>1</th>\n",
       "      <td>Kileleshwa, Nairobi</td>\n",
       "      <td>3</td>\n",
       "      <td>4</td>\n",
       "      <td>70000.0</td>\n",
       "      <td>Per Month</td>\n",
       "      <td>1</td>\n",
       "    </tr>\n",
       "    <tr>\n",
       "      <th>2</th>\n",
       "      <td>Links Rd Mombasa, Nyali, Mombasa</td>\n",
       "      <td>3</td>\n",
       "      <td>2</td>\n",
       "      <td>38000.0</td>\n",
       "      <td>Per Month</td>\n",
       "      <td>1</td>\n",
       "    </tr>\n",
       "    <tr>\n",
       "      <th>3</th>\n",
       "      <td>Near Valley Arcade, Lavington, Nairobi</td>\n",
       "      <td>3</td>\n",
       "      <td>3</td>\n",
       "      <td>80000.0</td>\n",
       "      <td>Per Month</td>\n",
       "      <td>1</td>\n",
       "    </tr>\n",
       "    <tr>\n",
       "      <th>4</th>\n",
       "      <td>Kileleshwa, Nairobi</td>\n",
       "      <td>1</td>\n",
       "      <td>1</td>\n",
       "      <td>110000.0</td>\n",
       "      <td>Per Month</td>\n",
       "      <td>1</td>\n",
       "    </tr>\n",
       "  </tbody>\n",
       "</table>\n",
       "</div>"
      ],
      "text/plain": [
       "                                   location  bedrooms  bathrooms     price  \\\n",
       "0  Riverside Dr Nairobi, Riverside, Nairobi         3          3  200000.0   \n",
       "1                       Kileleshwa, Nairobi         3          4   70000.0   \n",
       "2          Links Rd Mombasa, Nyali, Mombasa         3          2   38000.0   \n",
       "3    Near Valley Arcade, Lavington, Nairobi         3          3   80000.0   \n",
       "4                       Kileleshwa, Nairobi         1          1  110000.0   \n",
       "\n",
       "        rate  rateN  \n",
       "0  Per Month      1  \n",
       "1  Per Month      1  \n",
       "2  Per Month      1  \n",
       "3  Per Month      1  \n",
       "4  Per Month      1  "
      ]
     },
     "execution_count": 25,
     "metadata": {},
     "output_type": "execute_result"
    }
   ],
   "source": [
    "#now we apply the function on the price column\n",
    "df2.price=df2.price.apply(convert_float)\n",
    "df2.head()"
   ]
  },
  {
   "cell_type": "code",
   "execution_count": 26,
   "metadata": {},
   "outputs": [
    {
     "data": {
      "text/plain": [
       "dtype('float64')"
      ]
     },
     "execution_count": 26,
     "metadata": {},
     "output_type": "execute_result"
    }
   ],
   "source": [
    "#we can look quickly at the price column dtypes\n",
    "df2.price.dtypes"
   ]
  },
  {
   "cell_type": "code",
   "execution_count": 27,
   "metadata": {},
   "outputs": [
    {
     "data": {
      "text/html": [
       "<div>\n",
       "<style scoped>\n",
       "    .dataframe tbody tr th:only-of-type {\n",
       "        vertical-align: middle;\n",
       "    }\n",
       "\n",
       "    .dataframe tbody tr th {\n",
       "        vertical-align: top;\n",
       "    }\n",
       "\n",
       "    .dataframe thead th {\n",
       "        text-align: right;\n",
       "    }\n",
       "</style>\n",
       "<table border=\"1\" class=\"dataframe\">\n",
       "  <thead>\n",
       "    <tr style=\"text-align: right;\">\n",
       "      <th></th>\n",
       "      <th>bedrooms</th>\n",
       "      <th>bathrooms</th>\n",
       "      <th>price</th>\n",
       "      <th>rateN</th>\n",
       "    </tr>\n",
       "  </thead>\n",
       "  <tbody>\n",
       "    <tr>\n",
       "      <th>count</th>\n",
       "      <td>2144.000000</td>\n",
       "      <td>2144.000000</td>\n",
       "      <td>2144.000000</td>\n",
       "      <td>2144.000000</td>\n",
       "    </tr>\n",
       "    <tr>\n",
       "      <th>mean</th>\n",
       "      <td>2.529851</td>\n",
       "      <td>2.470616</td>\n",
       "      <td>93363.689366</td>\n",
       "      <td>0.941698</td>\n",
       "    </tr>\n",
       "    <tr>\n",
       "      <th>std</th>\n",
       "      <td>0.979512</td>\n",
       "      <td>1.038716</td>\n",
       "      <td>68227.778336</td>\n",
       "      <td>0.234369</td>\n",
       "    </tr>\n",
       "    <tr>\n",
       "      <th>min</th>\n",
       "      <td>1.000000</td>\n",
       "      <td>1.000000</td>\n",
       "      <td>5000.000000</td>\n",
       "      <td>0.000000</td>\n",
       "    </tr>\n",
       "    <tr>\n",
       "      <th>25%</th>\n",
       "      <td>2.000000</td>\n",
       "      <td>2.000000</td>\n",
       "      <td>55000.000000</td>\n",
       "      <td>1.000000</td>\n",
       "    </tr>\n",
       "    <tr>\n",
       "      <th>50%</th>\n",
       "      <td>3.000000</td>\n",
       "      <td>2.000000</td>\n",
       "      <td>70000.000000</td>\n",
       "      <td>1.000000</td>\n",
       "    </tr>\n",
       "    <tr>\n",
       "      <th>75%</th>\n",
       "      <td>3.000000</td>\n",
       "      <td>3.000000</td>\n",
       "      <td>100000.000000</td>\n",
       "      <td>1.000000</td>\n",
       "    </tr>\n",
       "    <tr>\n",
       "      <th>max</th>\n",
       "      <td>4.000000</td>\n",
       "      <td>5.000000</td>\n",
       "      <td>300000.000000</td>\n",
       "      <td>1.000000</td>\n",
       "    </tr>\n",
       "  </tbody>\n",
       "</table>\n",
       "</div>"
      ],
      "text/plain": [
       "          bedrooms    bathrooms          price        rateN\n",
       "count  2144.000000  2144.000000    2144.000000  2144.000000\n",
       "mean      2.529851     2.470616   93363.689366     0.941698\n",
       "std       0.979512     1.038716   68227.778336     0.234369\n",
       "min       1.000000     1.000000    5000.000000     0.000000\n",
       "25%       2.000000     2.000000   55000.000000     1.000000\n",
       "50%       3.000000     2.000000   70000.000000     1.000000\n",
       "75%       3.000000     3.000000  100000.000000     1.000000\n",
       "max       4.000000     5.000000  300000.000000     1.000000"
      ]
     },
     "execution_count": 27,
     "metadata": {},
     "output_type": "execute_result"
    }
   ],
   "source": [
    "df2.describe()"
   ]
  },
  {
   "cell_type": "code",
   "execution_count": 28,
   "metadata": {},
   "outputs": [
    {
     "data": {
      "text/plain": [
       "location      object\n",
       "bedrooms       int64\n",
       "bathrooms      int64\n",
       "price        float64\n",
       "rate          object\n",
       "rateN          int64\n",
       "dtype: object"
      ]
     },
     "execution_count": 28,
     "metadata": {},
     "output_type": "execute_result"
    }
   ],
   "source": [
    "df2.dtypes"
   ]
  },
  {
   "cell_type": "code",
   "execution_count": 29,
   "metadata": {},
   "outputs": [
    {
     "data": {
      "text/html": [
       "<div>\n",
       "<style scoped>\n",
       "    .dataframe tbody tr th:only-of-type {\n",
       "        vertical-align: middle;\n",
       "    }\n",
       "\n",
       "    .dataframe tbody tr th {\n",
       "        vertical-align: top;\n",
       "    }\n",
       "\n",
       "    .dataframe thead th {\n",
       "        text-align: right;\n",
       "    }\n",
       "</style>\n",
       "<table border=\"1\" class=\"dataframe\">\n",
       "  <thead>\n",
       "    <tr style=\"text-align: right;\">\n",
       "      <th></th>\n",
       "      <th>location</th>\n",
       "      <th>bedrooms</th>\n",
       "      <th>bathrooms</th>\n",
       "      <th>price</th>\n",
       "      <th>rate</th>\n",
       "      <th>rateN</th>\n",
       "    </tr>\n",
       "  </thead>\n",
       "  <tbody>\n",
       "    <tr>\n",
       "      <th>0</th>\n",
       "      <td>Riverside Dr Nairobi, Riverside, Nairobi</td>\n",
       "      <td>3</td>\n",
       "      <td>3</td>\n",
       "      <td>200000.0</td>\n",
       "      <td>Per Month</td>\n",
       "      <td>1</td>\n",
       "    </tr>\n",
       "    <tr>\n",
       "      <th>1</th>\n",
       "      <td>Kileleshwa, Nairobi</td>\n",
       "      <td>3</td>\n",
       "      <td>4</td>\n",
       "      <td>70000.0</td>\n",
       "      <td>Per Month</td>\n",
       "      <td>1</td>\n",
       "    </tr>\n",
       "    <tr>\n",
       "      <th>2</th>\n",
       "      <td>Links Rd Mombasa, Nyali, Mombasa</td>\n",
       "      <td>3</td>\n",
       "      <td>2</td>\n",
       "      <td>38000.0</td>\n",
       "      <td>Per Month</td>\n",
       "      <td>1</td>\n",
       "    </tr>\n",
       "  </tbody>\n",
       "</table>\n",
       "</div>"
      ],
      "text/plain": [
       "                                   location  bedrooms  bathrooms     price  \\\n",
       "0  Riverside Dr Nairobi, Riverside, Nairobi         3          3  200000.0   \n",
       "1                       Kileleshwa, Nairobi         3          4   70000.0   \n",
       "2          Links Rd Mombasa, Nyali, Mombasa         3          2   38000.0   \n",
       "\n",
       "        rate  rateN  \n",
       "0  Per Month      1  \n",
       "1  Per Month      1  \n",
       "2  Per Month      1  "
      ]
     },
     "execution_count": 29,
     "metadata": {},
     "output_type": "execute_result"
    }
   ],
   "source": [
    "df3=df2.copy()\n",
    "df3.head(3)"
   ]
  },
  {
   "cell_type": "code",
   "execution_count": 30,
   "metadata": {},
   "outputs": [
    {
     "data": {
      "text/plain": [
       "count      2144.000000\n",
       "mean      93363.689366\n",
       "std       68227.778336\n",
       "min        5000.000000\n",
       "25%       55000.000000\n",
       "50%       70000.000000\n",
       "75%      100000.000000\n",
       "max      300000.000000\n",
       "Name: price, dtype: float64"
      ]
     },
     "execution_count": 30,
     "metadata": {},
     "output_type": "execute_result"
    }
   ],
   "source": [
    "df3.price.describe()"
   ]
  },
  {
   "cell_type": "code",
   "execution_count": 31,
   "metadata": {},
   "outputs": [
    {
     "data": {
      "text/plain": [
       "array(['Riverside Dr Nairobi, Riverside, Nairobi', 'Kileleshwa, Nairobi',\n",
       "       'Links Rd Mombasa, Nyali, Mombasa',\n",
       "       'Near Valley Arcade, Lavington, Nairobi',\n",
       "       'Thika Rd Nairobi, Kahawa Wendani, Nairobi', 'Kilimani, Nairobi',\n",
       "       'Nyali, Mombasa', 'Muthaiga, Nairobi', 'Westlands, Nairobi',\n",
       "       'Kikuyu Town Bus park Kikuyu, Kikuyu, Kikuyu', 'Shanzu, Mombasa',\n",
       "       'Westlands downtown, Westlands, Nairobi',\n",
       "       'Kileleshwa Nairobi, Kileleshwa, Nairobi',\n",
       "       'Grevillea Grove Spring Valley, Spring Valley, Nairobi',\n",
       "       'Vihiga road, Kileleshwa, Nairobi',\n",
       "       'Off Othaya road, Lavington, Nairobi',\n",
       "       'Jabavu court, Kilimani, Nairobi'], dtype=object)"
      ]
     },
     "execution_count": 31,
     "metadata": {},
     "output_type": "execute_result"
    }
   ],
   "source": [
    "df3.location.unique()"
   ]
  },
  {
   "cell_type": "code",
   "execution_count": 32,
   "metadata": {},
   "outputs": [
    {
     "data": {
      "text/plain": [
       "'Links Rd Mombasa Nyali Mombasa'"
      ]
     },
     "execution_count": 32,
     "metadata": {},
     "output_type": "execute_result"
    }
   ],
   "source": [
    "#i will next write a function to remove the comma in the locations n return only a string spaced by a space only\n",
    "def convert_comma_to_string(x):\n",
    "    res=x.split(',')\n",
    "    y=len(res)\n",
    "    if y==4:\n",
    "        return res[0]+res[1]+res[2]+res[3]\n",
    "    elif y==3:\n",
    "        return res[0]+res[1]+res[2]\n",
    "    elif y==2:\n",
    "        return res[0]+res[1]\n",
    "    elif y==1:\n",
    "        return res[0]\n",
    "    else:\n",
    "        return None\n",
    "        \n",
    "convert_comma_to_string('Links Rd Mombasa, Nyali, Mombasa')"
   ]
  },
  {
   "cell_type": "code",
   "execution_count": 33,
   "metadata": {},
   "outputs": [
    {
     "data": {
      "text/plain": [
       "'Off Othaya road'"
      ]
     },
     "execution_count": 33,
     "metadata": {},
     "output_type": "execute_result"
    }
   ],
   "source": [
    "#lets test to see if the function works\n",
    "convert_comma_to_string('Off Othaya road')"
   ]
  },
  {
   "cell_type": "code",
   "execution_count": 34,
   "metadata": {},
   "outputs": [
    {
     "data": {
      "text/plain": [
       "'Jabavu court Kilimani Nairobi'"
      ]
     },
     "execution_count": 34,
     "metadata": {},
     "output_type": "execute_result"
    }
   ],
   "source": [
    "convert_comma_to_string('Jabavu court, Kilimani, Nairobi')"
   ]
  },
  {
   "cell_type": "code",
   "execution_count": 35,
   "metadata": {},
   "outputs": [
    {
     "data": {
      "text/plain": [
       "'Kileleshwa Nairobi'"
      ]
     },
     "execution_count": 35,
     "metadata": {},
     "output_type": "execute_result"
    }
   ],
   "source": [
    "convert_comma_to_string('Kileleshwa, Nairobi')"
   ]
  },
  {
   "cell_type": "code",
   "execution_count": 36,
   "metadata": {},
   "outputs": [
    {
     "data": {
      "text/plain": [
       "(2144, 6)"
      ]
     },
     "execution_count": 36,
     "metadata": {},
     "output_type": "execute_result"
    }
   ],
   "source": [
    "#my function seems to working pretty good\n",
    "#i now apply it to the ddf3.location column to have locations with no commas in it\n",
    "df3.location=df3.location.apply(convert_comma_to_string)\n",
    "df3.shape"
   ]
  },
  {
   "cell_type": "code",
   "execution_count": 37,
   "metadata": {},
   "outputs": [
    {
     "data": {
      "text/html": [
       "<div>\n",
       "<style scoped>\n",
       "    .dataframe tbody tr th:only-of-type {\n",
       "        vertical-align: middle;\n",
       "    }\n",
       "\n",
       "    .dataframe tbody tr th {\n",
       "        vertical-align: top;\n",
       "    }\n",
       "\n",
       "    .dataframe thead th {\n",
       "        text-align: right;\n",
       "    }\n",
       "</style>\n",
       "<table border=\"1\" class=\"dataframe\">\n",
       "  <thead>\n",
       "    <tr style=\"text-align: right;\">\n",
       "      <th></th>\n",
       "      <th>location</th>\n",
       "      <th>bedrooms</th>\n",
       "      <th>bathrooms</th>\n",
       "      <th>price</th>\n",
       "      <th>rate</th>\n",
       "      <th>rateN</th>\n",
       "    </tr>\n",
       "  </thead>\n",
       "  <tbody>\n",
       "    <tr>\n",
       "      <th>1483</th>\n",
       "      <td>Shanzu Mombasa</td>\n",
       "      <td>1</td>\n",
       "      <td>1</td>\n",
       "      <td>55000.0</td>\n",
       "      <td>Per Month</td>\n",
       "      <td>1</td>\n",
       "    </tr>\n",
       "    <tr>\n",
       "      <th>160</th>\n",
       "      <td>Westlands downtown Westlands Nairobi</td>\n",
       "      <td>2</td>\n",
       "      <td>2</td>\n",
       "      <td>75000.0</td>\n",
       "      <td>Per Month</td>\n",
       "      <td>1</td>\n",
       "    </tr>\n",
       "    <tr>\n",
       "      <th>1811</th>\n",
       "      <td>Nyali Mombasa</td>\n",
       "      <td>1</td>\n",
       "      <td>1</td>\n",
       "      <td>5000.0</td>\n",
       "      <td>Per Day</td>\n",
       "      <td>0</td>\n",
       "    </tr>\n",
       "    <tr>\n",
       "      <th>1584</th>\n",
       "      <td>Nyali Mombasa</td>\n",
       "      <td>1</td>\n",
       "      <td>1</td>\n",
       "      <td>5000.0</td>\n",
       "      <td>Per Day</td>\n",
       "      <td>0</td>\n",
       "    </tr>\n",
       "    <tr>\n",
       "      <th>620</th>\n",
       "      <td>Kikuyu Town Bus park Kikuyu Kikuyu Kikuyu</td>\n",
       "      <td>3</td>\n",
       "      <td>3</td>\n",
       "      <td>55000.0</td>\n",
       "      <td>Per Month</td>\n",
       "      <td>1</td>\n",
       "    </tr>\n",
       "  </tbody>\n",
       "</table>\n",
       "</div>"
      ],
      "text/plain": [
       "                                       location  bedrooms  bathrooms    price  \\\n",
       "1483                             Shanzu Mombasa         1          1  55000.0   \n",
       "160        Westlands downtown Westlands Nairobi         2          2  75000.0   \n",
       "1811                              Nyali Mombasa         1          1   5000.0   \n",
       "1584                              Nyali Mombasa         1          1   5000.0   \n",
       "620   Kikuyu Town Bus park Kikuyu Kikuyu Kikuyu         3          3  55000.0   \n",
       "\n",
       "           rate  rateN  \n",
       "1483  Per Month      1  \n",
       "160   Per Month      1  \n",
       "1811    Per Day      0  \n",
       "1584    Per Day      0  \n",
       "620   Per Month      1  "
      ]
     },
     "execution_count": 37,
     "metadata": {},
     "output_type": "execute_result"
    }
   ],
   "source": [
    "df3.sample(5)"
   ]
  },
  {
   "cell_type": "code",
   "execution_count": 38,
   "metadata": {},
   "outputs": [
    {
     "data": {
      "text/plain": [
       "location\n",
       "Kileleshwa Nairobi                                     257\n",
       "Westlands Nairobi                                      252\n",
       "Kilimani Nairobi                                       251\n",
       "Shanzu Mombasa                                         129\n",
       "Kikuyu Town Bus park Kikuyu Kikuyu Kikuyu              128\n",
       "Westlands downtown Westlands Nairobi                   127\n",
       "Muthaiga Nairobi                                       126\n",
       "Links Rd Mombasa Nyali Mombasa                         126\n",
       "Kileleshwa Nairobi Kileleshwa Nairobi                  125\n",
       "Grevillea Grove Spring Valley Spring Valley Nairobi    125\n",
       "Nyali Mombasa                                          125\n",
       "Riverside Dr Nairobi Riverside Nairobi                 125\n",
       "Thika Rd Nairobi Kahawa Wendani Nairobi                125\n",
       "Vihiga road Kileleshwa Nairobi                          56\n",
       "Near Valley Arcade Lavington Nairobi                    35\n",
       "Off Othaya road Lavington Nairobi                       20\n",
       "Jabavu court Kilimani Nairobi                           12\n",
       "Name: location, dtype: int64"
      ]
     },
     "execution_count": 38,
     "metadata": {},
     "output_type": "execute_result"
    }
   ],
   "source": [
    "df4=df3.copy()\n",
    "df4.groupby('location')['location'].agg('count').sort_values(ascending=False)"
   ]
  },
  {
   "cell_type": "code",
   "execution_count": 39,
   "metadata": {},
   "outputs": [
    {
     "data": {
      "text/html": [
       "<div>\n",
       "<style scoped>\n",
       "    .dataframe tbody tr th:only-of-type {\n",
       "        vertical-align: middle;\n",
       "    }\n",
       "\n",
       "    .dataframe tbody tr th {\n",
       "        vertical-align: top;\n",
       "    }\n",
       "\n",
       "    .dataframe thead th {\n",
       "        text-align: right;\n",
       "    }\n",
       "</style>\n",
       "<table border=\"1\" class=\"dataframe\">\n",
       "  <thead>\n",
       "    <tr style=\"text-align: right;\">\n",
       "      <th></th>\n",
       "      <th>location</th>\n",
       "      <th>bedrooms</th>\n",
       "      <th>bathrooms</th>\n",
       "      <th>price</th>\n",
       "      <th>rate</th>\n",
       "      <th>rateN</th>\n",
       "    </tr>\n",
       "  </thead>\n",
       "  <tbody>\n",
       "    <tr>\n",
       "      <th>8</th>\n",
       "      <td>Nyali Mombasa</td>\n",
       "      <td>1</td>\n",
       "      <td>1</td>\n",
       "      <td>5000.0</td>\n",
       "      <td>Per Day</td>\n",
       "      <td>0</td>\n",
       "    </tr>\n",
       "    <tr>\n",
       "      <th>10</th>\n",
       "      <td>Nyali Mombasa</td>\n",
       "      <td>1</td>\n",
       "      <td>1</td>\n",
       "      <td>5000.0</td>\n",
       "      <td>Per Day</td>\n",
       "      <td>0</td>\n",
       "    </tr>\n",
       "    <tr>\n",
       "      <th>31</th>\n",
       "      <td>Nyali Mombasa</td>\n",
       "      <td>1</td>\n",
       "      <td>1</td>\n",
       "      <td>5000.0</td>\n",
       "      <td>Per Day</td>\n",
       "      <td>0</td>\n",
       "    </tr>\n",
       "    <tr>\n",
       "      <th>51</th>\n",
       "      <td>Nyali Mombasa</td>\n",
       "      <td>1</td>\n",
       "      <td>1</td>\n",
       "      <td>5000.0</td>\n",
       "      <td>Per Day</td>\n",
       "      <td>0</td>\n",
       "    </tr>\n",
       "    <tr>\n",
       "      <th>72</th>\n",
       "      <td>Nyali Mombasa</td>\n",
       "      <td>1</td>\n",
       "      <td>1</td>\n",
       "      <td>5000.0</td>\n",
       "      <td>Per Day</td>\n",
       "      <td>0</td>\n",
       "    </tr>\n",
       "  </tbody>\n",
       "</table>\n",
       "</div>"
      ],
      "text/plain": [
       "         location  bedrooms  bathrooms   price     rate  rateN\n",
       "8   Nyali Mombasa         1          1  5000.0  Per Day      0\n",
       "10  Nyali Mombasa         1          1  5000.0  Per Day      0\n",
       "31  Nyali Mombasa         1          1  5000.0  Per Day      0\n",
       "51  Nyali Mombasa         1          1  5000.0  Per Day      0\n",
       "72  Nyali Mombasa         1          1  5000.0  Per Day      0"
      ]
     },
     "execution_count": 39,
     "metadata": {},
     "output_type": "execute_result"
    }
   ],
   "source": [
    "#we now handle the outlier detection and removal\n",
    "df4[df4.rateN==0].head(5)\n"
   ]
  },
  {
   "cell_type": "code",
   "execution_count": 40,
   "metadata": {},
   "outputs": [
    {
     "data": {
      "text/html": [
       "<div>\n",
       "<style scoped>\n",
       "    .dataframe tbody tr th:only-of-type {\n",
       "        vertical-align: middle;\n",
       "    }\n",
       "\n",
       "    .dataframe tbody tr th {\n",
       "        vertical-align: top;\n",
       "    }\n",
       "\n",
       "    .dataframe thead th {\n",
       "        text-align: right;\n",
       "    }\n",
       "</style>\n",
       "<table border=\"1\" class=\"dataframe\">\n",
       "  <thead>\n",
       "    <tr style=\"text-align: right;\">\n",
       "      <th></th>\n",
       "      <th>location</th>\n",
       "      <th>bedrooms</th>\n",
       "      <th>bathrooms</th>\n",
       "      <th>price</th>\n",
       "      <th>rate</th>\n",
       "      <th>rateN</th>\n",
       "    </tr>\n",
       "  </thead>\n",
       "  <tbody>\n",
       "    <tr>\n",
       "      <th>0</th>\n",
       "      <td>Riverside Dr Nairobi Riverside Nairobi</td>\n",
       "      <td>3</td>\n",
       "      <td>3</td>\n",
       "      <td>200000.0</td>\n",
       "      <td>Per Month</td>\n",
       "      <td>1</td>\n",
       "    </tr>\n",
       "    <tr>\n",
       "      <th>1</th>\n",
       "      <td>Kileleshwa Nairobi</td>\n",
       "      <td>3</td>\n",
       "      <td>4</td>\n",
       "      <td>70000.0</td>\n",
       "      <td>Per Month</td>\n",
       "      <td>1</td>\n",
       "    </tr>\n",
       "    <tr>\n",
       "      <th>2</th>\n",
       "      <td>Links Rd Mombasa Nyali Mombasa</td>\n",
       "      <td>3</td>\n",
       "      <td>2</td>\n",
       "      <td>38000.0</td>\n",
       "      <td>Per Month</td>\n",
       "      <td>1</td>\n",
       "    </tr>\n",
       "    <tr>\n",
       "      <th>3</th>\n",
       "      <td>Near Valley Arcade Lavington Nairobi</td>\n",
       "      <td>3</td>\n",
       "      <td>3</td>\n",
       "      <td>80000.0</td>\n",
       "      <td>Per Month</td>\n",
       "      <td>1</td>\n",
       "    </tr>\n",
       "    <tr>\n",
       "      <th>4</th>\n",
       "      <td>Kileleshwa Nairobi</td>\n",
       "      <td>1</td>\n",
       "      <td>1</td>\n",
       "      <td>110000.0</td>\n",
       "      <td>Per Month</td>\n",
       "      <td>1</td>\n",
       "    </tr>\n",
       "  </tbody>\n",
       "</table>\n",
       "</div>"
      ],
      "text/plain": [
       "                                 location  bedrooms  bathrooms     price  \\\n",
       "0  Riverside Dr Nairobi Riverside Nairobi         3          3  200000.0   \n",
       "1                      Kileleshwa Nairobi         3          4   70000.0   \n",
       "2          Links Rd Mombasa Nyali Mombasa         3          2   38000.0   \n",
       "3    Near Valley Arcade Lavington Nairobi         3          3   80000.0   \n",
       "4                      Kileleshwa Nairobi         1          1  110000.0   \n",
       "\n",
       "        rate  rateN  \n",
       "0  Per Month      1  \n",
       "1  Per Month      1  \n",
       "2  Per Month      1  \n",
       "3  Per Month      1  \n",
       "4  Per Month      1  "
      ]
     },
     "execution_count": 40,
     "metadata": {},
     "output_type": "execute_result"
    }
   ],
   "source": [
    "#so these per day rates are only for one location (nyali mombasa) ,n these values might affect my model perfoamnce\n",
    "#so am gonna mark them as outliers and simply get rid of them\n",
    "df5=df4[df4.rateN==1]\n",
    "df5.head()"
   ]
  },
  {
   "cell_type": "code",
   "execution_count": 41,
   "metadata": {},
   "outputs": [
    {
     "data": {
      "text/plain": [
       "(2019, 6)"
      ]
     },
     "execution_count": 41,
     "metadata": {},
     "output_type": "execute_result"
    }
   ],
   "source": [
    "df5.shape"
   ]
  },
  {
   "cell_type": "code",
   "execution_count": 42,
   "metadata": {},
   "outputs": [],
   "source": [
    "#now im gonna plot some scatter charts for the price against bedrooms and bathrooms\n",
    "def plot_scatter_chart(df,location):\n",
    "    matplotlib.rcParams['figure.figsize']==(20,10)\n",
    "    plt.scatter(df.bedrooms,df.price,color='blue',label='bedrooms',s=50)\n",
    "    plt.scatter(df.bathrooms,df.price,marker='+',color='green',label='bathrooms',s=50)\n",
    "    plt.xlabel('Bed & Bath count')\n",
    "    plt.ylabel('Price')\n",
    "    plt.title(location)\n",
    "    plt.legend()"
   ]
  },
  {
   "cell_type": "code",
   "execution_count": 43,
   "metadata": {},
   "outputs": [
    {
     "data": {
      "image/png": "[encoded data removed]",
      "text/plain": [
       "<Figure size 432x288 with 1 Axes>"
      ]
     },
     "metadata": {
      "needs_background": "light"
     },
     "output_type": "display_data"
    }
   ],
   "source": [
    "plot_scatter_chart(df5,'Kileleshwa Nairobi')"
   ]
  },
  {
   "cell_type": "code",
   "execution_count": 44,
   "metadata": {},
   "outputs": [
    {
     "data": {
      "image/png": "[encoded data removed]",
      "text/plain": [
       "<Figure size 432x288 with 1 Axes>"
      ]
     },
     "metadata": {
      "needs_background": "light"
     },
     "output_type": "display_data"
    }
   ],
   "source": [
    "plot_scatter_chart(df5,'Near Valley Arcade Lavington Nairobi')"
   ]
  },
  {
   "cell_type": "code",
   "execution_count": 45,
   "metadata": {},
   "outputs": [],
   "source": [
    "#we can use some feature engineering techniques to filter some outliers\n",
    "#i will create a price per bedroom and price per bathroom columns to see if we can detect some outliers"
   ]
  },
  {
   "cell_type": "code",
   "execution_count": 46,
   "metadata": {},
   "outputs": [
    {
     "name": "stderr",
     "output_type": "stream",
     "text": [
      "<ipython-input-46-0f0c64d623b5>:1: SettingWithCopyWarning: \n",
      "A value is trying to be set on a copy of a slice from a DataFrame.\n",
      "Try using .loc[row_indexer,col_indexer] = value instead\n",
      "\n",
      "See the caveats in the documentation: https://pandas.pydata.org/pandas-docs/stable/user_guide/indexing.html#returning-a-view-versus-a-copy\n",
      "  df5['price_per_bd']=df5['price']/df5['bedrooms']\n",
      "<ipython-input-46-0f0c64d623b5>:2: SettingWithCopyWarning: \n",
      "A value is trying to be set on a copy of a slice from a DataFrame.\n",
      "Try using .loc[row_indexer,col_indexer] = value instead\n",
      "\n",
      "See the caveats in the documentation: https://pandas.pydata.org/pandas-docs/stable/user_guide/indexing.html#returning-a-view-versus-a-copy\n",
      "  df5['price_per_bt']=df5['price']/df5['bathrooms']\n"
     ]
    },
    {
     "data": {
      "text/html": [
       "<div>\n",
       "<style scoped>\n",
       "    .dataframe tbody tr th:only-of-type {\n",
       "        vertical-align: middle;\n",
       "    }\n",
       "\n",
       "    .dataframe tbody tr th {\n",
       "        vertical-align: top;\n",
       "    }\n",
       "\n",
       "    .dataframe thead th {\n",
       "        text-align: right;\n",
       "    }\n",
       "</style>\n",
       "<table border=\"1\" class=\"dataframe\">\n",
       "  <thead>\n",
       "    <tr style=\"text-align: right;\">\n",
       "      <th></th>\n",
       "      <th>location</th>\n",
       "      <th>bedrooms</th>\n",
       "      <th>bathrooms</th>\n",
       "      <th>price</th>\n",
       "      <th>rate</th>\n",
       "      <th>rateN</th>\n",
       "      <th>price_per_bd</th>\n",
       "      <th>price_per_bt</th>\n",
       "    </tr>\n",
       "  </thead>\n",
       "  <tbody>\n",
       "    <tr>\n",
       "      <th>0</th>\n",
       "      <td>Riverside Dr Nairobi Riverside Nairobi</td>\n",
       "      <td>3</td>\n",
       "      <td>3</td>\n",
       "      <td>200000.0</td>\n",
       "      <td>Per Month</td>\n",
       "      <td>1</td>\n",
       "      <td>66666.666667</td>\n",
       "      <td>66666.666667</td>\n",
       "    </tr>\n",
       "    <tr>\n",
       "      <th>1</th>\n",
       "      <td>Kileleshwa Nairobi</td>\n",
       "      <td>3</td>\n",
       "      <td>4</td>\n",
       "      <td>70000.0</td>\n",
       "      <td>Per Month</td>\n",
       "      <td>1</td>\n",
       "      <td>23333.333333</td>\n",
       "      <td>17500.000000</td>\n",
       "    </tr>\n",
       "    <tr>\n",
       "      <th>2</th>\n",
       "      <td>Links Rd Mombasa Nyali Mombasa</td>\n",
       "      <td>3</td>\n",
       "      <td>2</td>\n",
       "      <td>38000.0</td>\n",
       "      <td>Per Month</td>\n",
       "      <td>1</td>\n",
       "      <td>12666.666667</td>\n",
       "      <td>19000.000000</td>\n",
       "    </tr>\n",
       "    <tr>\n",
       "      <th>3</th>\n",
       "      <td>Near Valley Arcade Lavington Nairobi</td>\n",
       "      <td>3</td>\n",
       "      <td>3</td>\n",
       "      <td>80000.0</td>\n",
       "      <td>Per Month</td>\n",
       "      <td>1</td>\n",
       "      <td>26666.666667</td>\n",
       "      <td>26666.666667</td>\n",
       "    </tr>\n",
       "    <tr>\n",
       "      <th>4</th>\n",
       "      <td>Kileleshwa Nairobi</td>\n",
       "      <td>1</td>\n",
       "      <td>1</td>\n",
       "      <td>110000.0</td>\n",
       "      <td>Per Month</td>\n",
       "      <td>1</td>\n",
       "      <td>110000.000000</td>\n",
       "      <td>110000.000000</td>\n",
       "    </tr>\n",
       "  </tbody>\n",
       "</table>\n",
       "</div>"
      ],
      "text/plain": [
       "                                 location  bedrooms  bathrooms     price  \\\n",
       "0  Riverside Dr Nairobi Riverside Nairobi         3          3  200000.0   \n",
       "1                      Kileleshwa Nairobi         3          4   70000.0   \n",
       "2          Links Rd Mombasa Nyali Mombasa         3          2   38000.0   \n",
       "3    Near Valley Arcade Lavington Nairobi         3          3   80000.0   \n",
       "4                      Kileleshwa Nairobi         1          1  110000.0   \n",
       "\n",
       "        rate  rateN   price_per_bd   price_per_bt  \n",
       "0  Per Month      1   66666.666667   66666.666667  \n",
       "1  Per Month      1   23333.333333   17500.000000  \n",
       "2  Per Month      1   12666.666667   19000.000000  \n",
       "3  Per Month      1   26666.666667   26666.666667  \n",
       "4  Per Month      1  110000.000000  110000.000000  "
      ]
     },
     "execution_count": 46,
     "metadata": {},
     "output_type": "execute_result"
    }
   ],
   "source": [
    "df5['price_per_bd']=df5['price']/df5['bedrooms']\n",
    "df5['price_per_bt']=df5['price']/df5['bathrooms']\n",
    "df5.head()"
   ]
  },
  {
   "cell_type": "code",
   "execution_count": 47,
   "metadata": {},
   "outputs": [
    {
     "name": "stderr",
     "output_type": "stream",
     "text": [
      "<ipython-input-47-f0b6d76aefb1>:2: SettingWithCopyWarning: \n",
      "A value is trying to be set on a copy of a slice from a DataFrame.\n",
      "Try using .loc[row_indexer,col_indexer] = value instead\n",
      "\n",
      "See the caveats in the documentation: https://pandas.pydata.org/pandas-docs/stable/user_guide/indexing.html#returning-a-view-versus-a-copy\n",
      "  df5['price_per_bt']=df5['price_per_bt']/10000\n",
      "<ipython-input-47-f0b6d76aefb1>:3: SettingWithCopyWarning: \n",
      "A value is trying to be set on a copy of a slice from a DataFrame.\n",
      "Try using .loc[row_indexer,col_indexer] = value instead\n",
      "\n",
      "See the caveats in the documentation: https://pandas.pydata.org/pandas-docs/stable/user_guide/indexing.html#returning-a-view-versus-a-copy\n",
      "  df5['price_per_bd']=df5['price_per_bd']/10000\n"
     ]
    },
    {
     "data": {
      "text/html": [
       "<div>\n",
       "<style scoped>\n",
       "    .dataframe tbody tr th:only-of-type {\n",
       "        vertical-align: middle;\n",
       "    }\n",
       "\n",
       "    .dataframe tbody tr th {\n",
       "        vertical-align: top;\n",
       "    }\n",
       "\n",
       "    .dataframe thead th {\n",
       "        text-align: right;\n",
       "    }\n",
       "</style>\n",
       "<table border=\"1\" class=\"dataframe\">\n",
       "  <thead>\n",
       "    <tr style=\"text-align: right;\">\n",
       "      <th></th>\n",
       "      <th>location</th>\n",
       "      <th>bedrooms</th>\n",
       "      <th>bathrooms</th>\n",
       "      <th>price</th>\n",
       "      <th>rate</th>\n",
       "      <th>rateN</th>\n",
       "      <th>price_per_bd</th>\n",
       "      <th>price_per_bt</th>\n",
       "    </tr>\n",
       "  </thead>\n",
       "  <tbody>\n",
       "    <tr>\n",
       "      <th>0</th>\n",
       "      <td>Riverside Dr Nairobi Riverside Nairobi</td>\n",
       "      <td>3</td>\n",
       "      <td>3</td>\n",
       "      <td>200000.0</td>\n",
       "      <td>Per Month</td>\n",
       "      <td>1</td>\n",
       "      <td>6.666667</td>\n",
       "      <td>6.666667</td>\n",
       "    </tr>\n",
       "    <tr>\n",
       "      <th>1</th>\n",
       "      <td>Kileleshwa Nairobi</td>\n",
       "      <td>3</td>\n",
       "      <td>4</td>\n",
       "      <td>70000.0</td>\n",
       "      <td>Per Month</td>\n",
       "      <td>1</td>\n",
       "      <td>2.333333</td>\n",
       "      <td>1.750000</td>\n",
       "    </tr>\n",
       "    <tr>\n",
       "      <th>2</th>\n",
       "      <td>Links Rd Mombasa Nyali Mombasa</td>\n",
       "      <td>3</td>\n",
       "      <td>2</td>\n",
       "      <td>38000.0</td>\n",
       "      <td>Per Month</td>\n",
       "      <td>1</td>\n",
       "      <td>1.266667</td>\n",
       "      <td>1.900000</td>\n",
       "    </tr>\n",
       "    <tr>\n",
       "      <th>3</th>\n",
       "      <td>Near Valley Arcade Lavington Nairobi</td>\n",
       "      <td>3</td>\n",
       "      <td>3</td>\n",
       "      <td>80000.0</td>\n",
       "      <td>Per Month</td>\n",
       "      <td>1</td>\n",
       "      <td>2.666667</td>\n",
       "      <td>2.666667</td>\n",
       "    </tr>\n",
       "    <tr>\n",
       "      <th>4</th>\n",
       "      <td>Kileleshwa Nairobi</td>\n",
       "      <td>1</td>\n",
       "      <td>1</td>\n",
       "      <td>110000.0</td>\n",
       "      <td>Per Month</td>\n",
       "      <td>1</td>\n",
       "      <td>11.000000</td>\n",
       "      <td>11.000000</td>\n",
       "    </tr>\n",
       "  </tbody>\n",
       "</table>\n",
       "</div>"
      ],
      "text/plain": [
       "                                 location  bedrooms  bathrooms     price  \\\n",
       "0  Riverside Dr Nairobi Riverside Nairobi         3          3  200000.0   \n",
       "1                      Kileleshwa Nairobi         3          4   70000.0   \n",
       "2          Links Rd Mombasa Nyali Mombasa         3          2   38000.0   \n",
       "3    Near Valley Arcade Lavington Nairobi         3          3   80000.0   \n",
       "4                      Kileleshwa Nairobi         1          1  110000.0   \n",
       "\n",
       "        rate  rateN  price_per_bd  price_per_bt  \n",
       "0  Per Month      1      6.666667      6.666667  \n",
       "1  Per Month      1      2.333333      1.750000  \n",
       "2  Per Month      1      1.266667      1.900000  \n",
       "3  Per Month      1      2.666667      2.666667  \n",
       "4  Per Month      1     11.000000     11.000000  "
      ]
     },
     "execution_count": 47,
     "metadata": {},
     "output_type": "execute_result"
    }
   ],
   "source": [
    "#i will do some price scaling to get a better interval\n",
    "df5['price_per_bt']=df5['price_per_bt']/10000\n",
    "df5['price_per_bd']=df5['price_per_bd']/10000\n",
    "df5.head()"
   ]
  },
  {
   "cell_type": "code",
   "execution_count": 48,
   "metadata": {},
   "outputs": [
    {
     "data": {
      "text/plain": [
       "Text(0, 0.5, 'count')"
      ]
     },
     "execution_count": 48,
     "metadata": {},
     "output_type": "execute_result"
    },
    {
     "data": {
      "image/png": "[encoded data removed]",
      "text/plain": [
       "<Figure size 432x288 with 1 Axes>"
      ]
     },
     "metadata": {
      "needs_background": "light"
     },
     "output_type": "display_data"
    }
   ],
   "source": [
    "#i will plot a histogram to see my distribution\n",
    "import matplotlib\n",
    "matplotlib.rcParams['figure.figsize']==(10,15)\n",
    "plt.hist(df5.price_per_bd,rwidth=0.8)\n",
    "plt.xlabel('price_per_bd')\n",
    "plt.ylabel('count')"
   ]
  },
  {
   "cell_type": "code",
   "execution_count": 49,
   "metadata": {},
   "outputs": [],
   "source": [
    "#the above kinda looks like a normal distribution(looking pretty good)"
   ]
  },
  {
   "cell_type": "code",
   "execution_count": 50,
   "metadata": {},
   "outputs": [
    {
     "data": {
      "text/html": [
       "<div>\n",
       "<style scoped>\n",
       "    .dataframe tbody tr th:only-of-type {\n",
       "        vertical-align: middle;\n",
       "    }\n",
       "\n",
       "    .dataframe tbody tr th {\n",
       "        vertical-align: top;\n",
       "    }\n",
       "\n",
       "    .dataframe thead th {\n",
       "        text-align: right;\n",
       "    }\n",
       "</style>\n",
       "<table border=\"1\" class=\"dataframe\">\n",
       "  <thead>\n",
       "    <tr style=\"text-align: right;\">\n",
       "      <th></th>\n",
       "      <th>location</th>\n",
       "      <th>bedrooms</th>\n",
       "      <th>bathrooms</th>\n",
       "      <th>price</th>\n",
       "    </tr>\n",
       "  </thead>\n",
       "  <tbody>\n",
       "    <tr>\n",
       "      <th>0</th>\n",
       "      <td>Riverside Dr Nairobi Riverside Nairobi</td>\n",
       "      <td>3</td>\n",
       "      <td>3</td>\n",
       "      <td>200000.0</td>\n",
       "    </tr>\n",
       "    <tr>\n",
       "      <th>1</th>\n",
       "      <td>Kileleshwa Nairobi</td>\n",
       "      <td>3</td>\n",
       "      <td>4</td>\n",
       "      <td>70000.0</td>\n",
       "    </tr>\n",
       "    <tr>\n",
       "      <th>2</th>\n",
       "      <td>Links Rd Mombasa Nyali Mombasa</td>\n",
       "      <td>3</td>\n",
       "      <td>2</td>\n",
       "      <td>38000.0</td>\n",
       "    </tr>\n",
       "    <tr>\n",
       "      <th>3</th>\n",
       "      <td>Near Valley Arcade Lavington Nairobi</td>\n",
       "      <td>3</td>\n",
       "      <td>3</td>\n",
       "      <td>80000.0</td>\n",
       "    </tr>\n",
       "    <tr>\n",
       "      <th>4</th>\n",
       "      <td>Kileleshwa Nairobi</td>\n",
       "      <td>1</td>\n",
       "      <td>1</td>\n",
       "      <td>110000.0</td>\n",
       "    </tr>\n",
       "  </tbody>\n",
       "</table>\n",
       "</div>"
      ],
      "text/plain": [
       "                                 location  bedrooms  bathrooms     price\n",
       "0  Riverside Dr Nairobi Riverside Nairobi         3          3  200000.0\n",
       "1                      Kileleshwa Nairobi         3          4   70000.0\n",
       "2          Links Rd Mombasa Nyali Mombasa         3          2   38000.0\n",
       "3    Near Valley Arcade Lavington Nairobi         3          3   80000.0\n",
       "4                      Kileleshwa Nairobi         1          1  110000.0"
      ]
     },
     "execution_count": 50,
     "metadata": {},
     "output_type": "execute_result"
    }
   ],
   "source": [
    "#next i will drop some columns which are nolonger needed anylonger\n",
    "df6=df5.drop(['rate','rateN','price_per_bt','price_per_bd'],axis='columns')\n",
    "df6.head()"
   ]
  },
  {
   "cell_type": "code",
   "execution_count": 53,
   "metadata": {},
   "outputs": [
    {
     "data": {
      "text/html": [
       "<div>\n",
       "<style scoped>\n",
       "    .dataframe tbody tr th:only-of-type {\n",
       "        vertical-align: middle;\n",
       "    }\n",
       "\n",
       "    .dataframe tbody tr th {\n",
       "        vertical-align: top;\n",
       "    }\n",
       "\n",
       "    .dataframe thead th {\n",
       "        text-align: right;\n",
       "    }\n",
       "</style>\n",
       "<table border=\"1\" class=\"dataframe\">\n",
       "  <thead>\n",
       "    <tr style=\"text-align: right;\">\n",
       "      <th></th>\n",
       "      <th>Grevillea Grove Spring Valley Spring Valley Nairobi</th>\n",
       "      <th>Jabavu court Kilimani Nairobi</th>\n",
       "      <th>Kikuyu Town Bus park Kikuyu Kikuyu Kikuyu</th>\n",
       "      <th>Kileleshwa Nairobi</th>\n",
       "      <th>Kileleshwa Nairobi Kileleshwa Nairobi</th>\n",
       "      <th>Kilimani Nairobi</th>\n",
       "      <th>Links Rd Mombasa Nyali Mombasa</th>\n",
       "      <th>Muthaiga Nairobi</th>\n",
       "      <th>Near Valley Arcade Lavington Nairobi</th>\n",
       "      <th>Off Othaya road Lavington Nairobi</th>\n",
       "      <th>Riverside Dr Nairobi Riverside Nairobi</th>\n",
       "      <th>Shanzu Mombasa</th>\n",
       "      <th>Thika Rd Nairobi Kahawa Wendani Nairobi</th>\n",
       "      <th>Vihiga road Kileleshwa Nairobi</th>\n",
       "      <th>Westlands Nairobi</th>\n",
       "      <th>Westlands downtown Westlands Nairobi</th>\n",
       "    </tr>\n",
       "  </thead>\n",
       "  <tbody>\n",
       "    <tr>\n",
       "      <th>0</th>\n",
       "      <td>0</td>\n",
       "      <td>0</td>\n",
       "      <td>0</td>\n",
       "      <td>0</td>\n",
       "      <td>0</td>\n",
       "      <td>0</td>\n",
       "      <td>0</td>\n",
       "      <td>0</td>\n",
       "      <td>0</td>\n",
       "      <td>0</td>\n",
       "      <td>1</td>\n",
       "      <td>0</td>\n",
       "      <td>0</td>\n",
       "      <td>0</td>\n",
       "      <td>0</td>\n",
       "      <td>0</td>\n",
       "    </tr>\n",
       "    <tr>\n",
       "      <th>1</th>\n",
       "      <td>0</td>\n",
       "      <td>0</td>\n",
       "      <td>0</td>\n",
       "      <td>1</td>\n",
       "      <td>0</td>\n",
       "      <td>0</td>\n",
       "      <td>0</td>\n",
       "      <td>0</td>\n",
       "      <td>0</td>\n",
       "      <td>0</td>\n",
       "      <td>0</td>\n",
       "      <td>0</td>\n",
       "      <td>0</td>\n",
       "      <td>0</td>\n",
       "      <td>0</td>\n",
       "      <td>0</td>\n",
       "    </tr>\n",
       "    <tr>\n",
       "      <th>2</th>\n",
       "      <td>0</td>\n",
       "      <td>0</td>\n",
       "      <td>0</td>\n",
       "      <td>0</td>\n",
       "      <td>0</td>\n",
       "      <td>0</td>\n",
       "      <td>1</td>\n",
       "      <td>0</td>\n",
       "      <td>0</td>\n",
       "      <td>0</td>\n",
       "      <td>0</td>\n",
       "      <td>0</td>\n",
       "      <td>0</td>\n",
       "      <td>0</td>\n",
       "      <td>0</td>\n",
       "      <td>0</td>\n",
       "    </tr>\n",
       "    <tr>\n",
       "      <th>3</th>\n",
       "      <td>0</td>\n",
       "      <td>0</td>\n",
       "      <td>0</td>\n",
       "      <td>0</td>\n",
       "      <td>0</td>\n",
       "      <td>0</td>\n",
       "      <td>0</td>\n",
       "      <td>0</td>\n",
       "      <td>1</td>\n",
       "      <td>0</td>\n",
       "      <td>0</td>\n",
       "      <td>0</td>\n",
       "      <td>0</td>\n",
       "      <td>0</td>\n",
       "      <td>0</td>\n",
       "      <td>0</td>\n",
       "    </tr>\n",
       "    <tr>\n",
       "      <th>4</th>\n",
       "      <td>0</td>\n",
       "      <td>0</td>\n",
       "      <td>0</td>\n",
       "      <td>1</td>\n",
       "      <td>0</td>\n",
       "      <td>0</td>\n",
       "      <td>0</td>\n",
       "      <td>0</td>\n",
       "      <td>0</td>\n",
       "      <td>0</td>\n",
       "      <td>0</td>\n",
       "      <td>0</td>\n",
       "      <td>0</td>\n",
       "      <td>0</td>\n",
       "      <td>0</td>\n",
       "      <td>0</td>\n",
       "    </tr>\n",
       "    <tr>\n",
       "      <th>5</th>\n",
       "      <td>0</td>\n",
       "      <td>0</td>\n",
       "      <td>0</td>\n",
       "      <td>0</td>\n",
       "      <td>0</td>\n",
       "      <td>0</td>\n",
       "      <td>0</td>\n",
       "      <td>0</td>\n",
       "      <td>0</td>\n",
       "      <td>0</td>\n",
       "      <td>0</td>\n",
       "      <td>0</td>\n",
       "      <td>1</td>\n",
       "      <td>0</td>\n",
       "      <td>0</td>\n",
       "      <td>0</td>\n",
       "    </tr>\n",
       "    <tr>\n",
       "      <th>6</th>\n",
       "      <td>0</td>\n",
       "      <td>0</td>\n",
       "      <td>0</td>\n",
       "      <td>0</td>\n",
       "      <td>0</td>\n",
       "      <td>1</td>\n",
       "      <td>0</td>\n",
       "      <td>0</td>\n",
       "      <td>0</td>\n",
       "      <td>0</td>\n",
       "      <td>0</td>\n",
       "      <td>0</td>\n",
       "      <td>0</td>\n",
       "      <td>0</td>\n",
       "      <td>0</td>\n",
       "      <td>0</td>\n",
       "    </tr>\n",
       "    <tr>\n",
       "      <th>9</th>\n",
       "      <td>0</td>\n",
       "      <td>0</td>\n",
       "      <td>0</td>\n",
       "      <td>0</td>\n",
       "      <td>0</td>\n",
       "      <td>0</td>\n",
       "      <td>0</td>\n",
       "      <td>1</td>\n",
       "      <td>0</td>\n",
       "      <td>0</td>\n",
       "      <td>0</td>\n",
       "      <td>0</td>\n",
       "      <td>0</td>\n",
       "      <td>0</td>\n",
       "      <td>0</td>\n",
       "      <td>0</td>\n",
       "    </tr>\n",
       "    <tr>\n",
       "      <th>11</th>\n",
       "      <td>0</td>\n",
       "      <td>0</td>\n",
       "      <td>0</td>\n",
       "      <td>0</td>\n",
       "      <td>0</td>\n",
       "      <td>0</td>\n",
       "      <td>0</td>\n",
       "      <td>0</td>\n",
       "      <td>0</td>\n",
       "      <td>0</td>\n",
       "      <td>0</td>\n",
       "      <td>0</td>\n",
       "      <td>0</td>\n",
       "      <td>0</td>\n",
       "      <td>1</td>\n",
       "      <td>0</td>\n",
       "    </tr>\n",
       "    <tr>\n",
       "      <th>12</th>\n",
       "      <td>0</td>\n",
       "      <td>0</td>\n",
       "      <td>1</td>\n",
       "      <td>0</td>\n",
       "      <td>0</td>\n",
       "      <td>0</td>\n",
       "      <td>0</td>\n",
       "      <td>0</td>\n",
       "      <td>0</td>\n",
       "      <td>0</td>\n",
       "      <td>0</td>\n",
       "      <td>0</td>\n",
       "      <td>0</td>\n",
       "      <td>0</td>\n",
       "      <td>0</td>\n",
       "      <td>0</td>\n",
       "    </tr>\n",
       "  </tbody>\n",
       "</table>\n",
       "</div>"
      ],
      "text/plain": [
       "    Grevillea Grove Spring Valley Spring Valley Nairobi  \\\n",
       "0                                                   0     \n",
       "1                                                   0     \n",
       "2                                                   0     \n",
       "3                                                   0     \n",
       "4                                                   0     \n",
       "5                                                   0     \n",
       "6                                                   0     \n",
       "9                                                   0     \n",
       "11                                                  0     \n",
       "12                                                  0     \n",
       "\n",
       "    Jabavu court Kilimani Nairobi  Kikuyu Town Bus park Kikuyu Kikuyu Kikuyu  \\\n",
       "0                               0                                          0   \n",
       "1                               0                                          0   \n",
       "2                               0                                          0   \n",
       "3                               0                                          0   \n",
       "4                               0                                          0   \n",
       "5                               0                                          0   \n",
       "6                               0                                          0   \n",
       "9                               0                                          0   \n",
       "11                              0                                          0   \n",
       "12                              0                                          1   \n",
       "\n",
       "    Kileleshwa Nairobi  Kileleshwa Nairobi Kileleshwa Nairobi  \\\n",
       "0                    0                                      0   \n",
       "1                    1                                      0   \n",
       "2                    0                                      0   \n",
       "3                    0                                      0   \n",
       "4                    1                                      0   \n",
       "5                    0                                      0   \n",
       "6                    0                                      0   \n",
       "9                    0                                      0   \n",
       "11                   0                                      0   \n",
       "12                   0                                      0   \n",
       "\n",
       "    Kilimani Nairobi  Links Rd Mombasa Nyali Mombasa  Muthaiga Nairobi  \\\n",
       "0                  0                               0                 0   \n",
       "1                  0                               0                 0   \n",
       "2                  0                               1                 0   \n",
       "3                  0                               0                 0   \n",
       "4                  0                               0                 0   \n",
       "5                  0                               0                 0   \n",
       "6                  1                               0                 0   \n",
       "9                  0                               0                 1   \n",
       "11                 0                               0                 0   \n",
       "12                 0                               0                 0   \n",
       "\n",
       "    Near Valley Arcade Lavington Nairobi  Off Othaya road Lavington Nairobi  \\\n",
       "0                                      0                                  0   \n",
       "1                                      0                                  0   \n",
       "2                                      0                                  0   \n",
       "3                                      1                                  0   \n",
       "4                                      0                                  0   \n",
       "5                                      0                                  0   \n",
       "6                                      0                                  0   \n",
       "9                                      0                                  0   \n",
       "11                                     0                                  0   \n",
       "12                                     0                                  0   \n",
       "\n",
       "    Riverside Dr Nairobi Riverside Nairobi  Shanzu Mombasa  \\\n",
       "0                                        1               0   \n",
       "1                                        0               0   \n",
       "2                                        0               0   \n",
       "3                                        0               0   \n",
       "4                                        0               0   \n",
       "5                                        0               0   \n",
       "6                                        0               0   \n",
       "9                                        0               0   \n",
       "11                                       0               0   \n",
       "12                                       0               0   \n",
       "\n",
       "    Thika Rd Nairobi Kahawa Wendani Nairobi  Vihiga road Kileleshwa Nairobi  \\\n",
       "0                                         0                               0   \n",
       "1                                         0                               0   \n",
       "2                                         0                               0   \n",
       "3                                         0                               0   \n",
       "4                                         0                               0   \n",
       "5                                         1                               0   \n",
       "6                                         0                               0   \n",
       "9                                         0                               0   \n",
       "11                                        0                               0   \n",
       "12                                        0                               0   \n",
       "\n",
       "    Westlands Nairobi  Westlands downtown Westlands Nairobi  \n",
       "0                   0                                     0  \n",
       "1                   0                                     0  \n",
       "2                   0                                     0  \n",
       "3                   0                                     0  \n",
       "4                   0                                     0  \n",
       "5                   0                                     0  \n",
       "6                   0                                     0  \n",
       "9                   0                                     0  \n",
       "11                  1                                     0  \n",
       "12                  0                                     0  "
      ]
     },
     "execution_count": 53,
     "metadata": {},
     "output_type": "execute_result"
    }
   ],
   "source": [
    "#getting dummy variables for the location column\n",
    "dummies=pd.get_dummies(df6.location)\n",
    "dummies.head(10)"
   ]
  },
  {
   "cell_type": "code",
   "execution_count": 55,
   "metadata": {},
   "outputs": [
    {
     "data": {
      "text/html": [
       "<div>\n",
       "<style scoped>\n",
       "    .dataframe tbody tr th:only-of-type {\n",
       "        vertical-align: middle;\n",
       "    }\n",
       "\n",
       "    .dataframe tbody tr th {\n",
       "        vertical-align: top;\n",
       "    }\n",
       "\n",
       "    .dataframe thead th {\n",
       "        text-align: right;\n",
       "    }\n",
       "</style>\n",
       "<table border=\"1\" class=\"dataframe\">\n",
       "  <thead>\n",
       "    <tr style=\"text-align: right;\">\n",
       "      <th></th>\n",
       "      <th>location</th>\n",
       "      <th>bedrooms</th>\n",
       "      <th>bathrooms</th>\n",
       "      <th>price</th>\n",
       "      <th>Grevillea Grove Spring Valley Spring Valley Nairobi</th>\n",
       "      <th>Jabavu court Kilimani Nairobi</th>\n",
       "      <th>Kikuyu Town Bus park Kikuyu Kikuyu Kikuyu</th>\n",
       "      <th>Kileleshwa Nairobi</th>\n",
       "      <th>Kileleshwa Nairobi Kileleshwa Nairobi</th>\n",
       "      <th>Kilimani Nairobi</th>\n",
       "      <th>Links Rd Mombasa Nyali Mombasa</th>\n",
       "      <th>Muthaiga Nairobi</th>\n",
       "      <th>Near Valley Arcade Lavington Nairobi</th>\n",
       "      <th>Off Othaya road Lavington Nairobi</th>\n",
       "      <th>Riverside Dr Nairobi Riverside Nairobi</th>\n",
       "      <th>Shanzu Mombasa</th>\n",
       "      <th>Thika Rd Nairobi Kahawa Wendani Nairobi</th>\n",
       "      <th>Vihiga road Kileleshwa Nairobi</th>\n",
       "      <th>Westlands Nairobi</th>\n",
       "      <th>Westlands downtown Westlands Nairobi</th>\n",
       "    </tr>\n",
       "  </thead>\n",
       "  <tbody>\n",
       "    <tr>\n",
       "      <th>0</th>\n",
       "      <td>Riverside Dr Nairobi Riverside Nairobi</td>\n",
       "      <td>3</td>\n",
       "      <td>3</td>\n",
       "      <td>200000.0</td>\n",
       "      <td>0</td>\n",
       "      <td>0</td>\n",
       "      <td>0</td>\n",
       "      <td>0</td>\n",
       "      <td>0</td>\n",
       "      <td>0</td>\n",
       "      <td>0</td>\n",
       "      <td>0</td>\n",
       "      <td>0</td>\n",
       "      <td>0</td>\n",
       "      <td>1</td>\n",
       "      <td>0</td>\n",
       "      <td>0</td>\n",
       "      <td>0</td>\n",
       "      <td>0</td>\n",
       "      <td>0</td>\n",
       "    </tr>\n",
       "    <tr>\n",
       "      <th>1</th>\n",
       "      <td>Kileleshwa Nairobi</td>\n",
       "      <td>3</td>\n",
       "      <td>4</td>\n",
       "      <td>70000.0</td>\n",
       "      <td>0</td>\n",
       "      <td>0</td>\n",
       "      <td>0</td>\n",
       "      <td>1</td>\n",
       "      <td>0</td>\n",
       "      <td>0</td>\n",
       "      <td>0</td>\n",
       "      <td>0</td>\n",
       "      <td>0</td>\n",
       "      <td>0</td>\n",
       "      <td>0</td>\n",
       "      <td>0</td>\n",
       "      <td>0</td>\n",
       "      <td>0</td>\n",
       "      <td>0</td>\n",
       "      <td>0</td>\n",
       "    </tr>\n",
       "    <tr>\n",
       "      <th>2</th>\n",
       "      <td>Links Rd Mombasa Nyali Mombasa</td>\n",
       "      <td>3</td>\n",
       "      <td>2</td>\n",
       "      <td>38000.0</td>\n",
       "      <td>0</td>\n",
       "      <td>0</td>\n",
       "      <td>0</td>\n",
       "      <td>0</td>\n",
       "      <td>0</td>\n",
       "      <td>0</td>\n",
       "      <td>1</td>\n",
       "      <td>0</td>\n",
       "      <td>0</td>\n",
       "      <td>0</td>\n",
       "      <td>0</td>\n",
       "      <td>0</td>\n",
       "      <td>0</td>\n",
       "      <td>0</td>\n",
       "      <td>0</td>\n",
       "      <td>0</td>\n",
       "    </tr>\n",
       "    <tr>\n",
       "      <th>3</th>\n",
       "      <td>Near Valley Arcade Lavington Nairobi</td>\n",
       "      <td>3</td>\n",
       "      <td>3</td>\n",
       "      <td>80000.0</td>\n",
       "      <td>0</td>\n",
       "      <td>0</td>\n",
       "      <td>0</td>\n",
       "      <td>0</td>\n",
       "      <td>0</td>\n",
       "      <td>0</td>\n",
       "      <td>0</td>\n",
       "      <td>0</td>\n",
       "      <td>1</td>\n",
       "      <td>0</td>\n",
       "      <td>0</td>\n",
       "      <td>0</td>\n",
       "      <td>0</td>\n",
       "      <td>0</td>\n",
       "      <td>0</td>\n",
       "      <td>0</td>\n",
       "    </tr>\n",
       "    <tr>\n",
       "      <th>4</th>\n",
       "      <td>Kileleshwa Nairobi</td>\n",
       "      <td>1</td>\n",
       "      <td>1</td>\n",
       "      <td>110000.0</td>\n",
       "      <td>0</td>\n",
       "      <td>0</td>\n",
       "      <td>0</td>\n",
       "      <td>1</td>\n",
       "      <td>0</td>\n",
       "      <td>0</td>\n",
       "      <td>0</td>\n",
       "      <td>0</td>\n",
       "      <td>0</td>\n",
       "      <td>0</td>\n",
       "      <td>0</td>\n",
       "      <td>0</td>\n",
       "      <td>0</td>\n",
       "      <td>0</td>\n",
       "      <td>0</td>\n",
       "      <td>0</td>\n",
       "    </tr>\n",
       "  </tbody>\n",
       "</table>\n",
       "</div>"
      ],
      "text/plain": [
       "                                 location  bedrooms  bathrooms     price  \\\n",
       "0  Riverside Dr Nairobi Riverside Nairobi         3          3  200000.0   \n",
       "1                      Kileleshwa Nairobi         3          4   70000.0   \n",
       "2          Links Rd Mombasa Nyali Mombasa         3          2   38000.0   \n",
       "3    Near Valley Arcade Lavington Nairobi         3          3   80000.0   \n",
       "4                      Kileleshwa Nairobi         1          1  110000.0   \n",
       "\n",
       "   Grevillea Grove Spring Valley Spring Valley Nairobi  \\\n",
       "0                                                  0     \n",
       "1                                                  0     \n",
       "2                                                  0     \n",
       "3                                                  0     \n",
       "4                                                  0     \n",
       "\n",
       "   Jabavu court Kilimani Nairobi  Kikuyu Town Bus park Kikuyu Kikuyu Kikuyu  \\\n",
       "0                              0                                          0   \n",
       "1                              0                                          0   \n",
       "2                              0                                          0   \n",
       "3                              0                                          0   \n",
       "4                              0                                          0   \n",
       "\n",
       "   Kileleshwa Nairobi  Kileleshwa Nairobi Kileleshwa Nairobi  \\\n",
       "0                   0                                      0   \n",
       "1                   1                                      0   \n",
       "2                   0                                      0   \n",
       "3                   0                                      0   \n",
       "4                   1                                      0   \n",
       "\n",
       "   Kilimani Nairobi  Links Rd Mombasa Nyali Mombasa  Muthaiga Nairobi  \\\n",
       "0                 0                               0                 0   \n",
       "1                 0                               0                 0   \n",
       "2                 0                               1                 0   \n",
       "3                 0                               0                 0   \n",
       "4                 0                               0                 0   \n",
       "\n",
       "   Near Valley Arcade Lavington Nairobi  Off Othaya road Lavington Nairobi  \\\n",
       "0                                     0                                  0   \n",
       "1                                     0                                  0   \n",
       "2                                     0                                  0   \n",
       "3                                     1                                  0   \n",
       "4                                     0                                  0   \n",
       "\n",
       "   Riverside Dr Nairobi Riverside Nairobi  Shanzu Mombasa  \\\n",
       "0                                       1               0   \n",
       "1                                       0               0   \n",
       "2                                       0               0   \n",
       "3                                       0               0   \n",
       "4                                       0               0   \n",
       "\n",
       "   Thika Rd Nairobi Kahawa Wendani Nairobi  Vihiga road Kileleshwa Nairobi  \\\n",
       "0                                        0                               0   \n",
       "1                                        0                               0   \n",
       "2                                        0                               0   \n",
       "3                                        0                               0   \n",
       "4                                        0                               0   \n",
       "\n",
       "   Westlands Nairobi  Westlands downtown Westlands Nairobi  \n",
       "0                  0                                     0  \n",
       "1                  0                                     0  \n",
       "2                  0                                     0  \n",
       "3                  0                                     0  \n",
       "4                  0                                     0  "
      ]
     },
     "execution_count": 55,
     "metadata": {},
     "output_type": "execute_result"
    }
   ],
   "source": [
    "df7=pd.concat([df6,dummies],axis='columns')\n",
    "df7.head()"
   ]
  },
  {
   "cell_type": "code",
   "execution_count": 64,
   "metadata": {},
   "outputs": [
    {
     "data": {
      "text/html": [
       "<div>\n",
       "<style scoped>\n",
       "    .dataframe tbody tr th:only-of-type {\n",
       "        vertical-align: middle;\n",
       "    }\n",
       "\n",
       "    .dataframe tbody tr th {\n",
       "        vertical-align: top;\n",
       "    }\n",
       "\n",
       "    .dataframe thead th {\n",
       "        text-align: right;\n",
       "    }\n",
       "</style>\n",
       "<table border=\"1\" class=\"dataframe\">\n",
       "  <thead>\n",
       "    <tr style=\"text-align: right;\">\n",
       "      <th></th>\n",
       "      <th>bedrooms</th>\n",
       "      <th>bathrooms</th>\n",
       "      <th>Grevillea Grove Spring Valley Spring Valley Nairobi</th>\n",
       "      <th>Jabavu court Kilimani Nairobi</th>\n",
       "      <th>Kikuyu Town Bus park Kikuyu Kikuyu Kikuyu</th>\n",
       "      <th>Kileleshwa Nairobi</th>\n",
       "      <th>Kileleshwa Nairobi Kileleshwa Nairobi</th>\n",
       "      <th>Kilimani Nairobi</th>\n",
       "      <th>Links Rd Mombasa Nyali Mombasa</th>\n",
       "      <th>Muthaiga Nairobi</th>\n",
       "      <th>Near Valley Arcade Lavington Nairobi</th>\n",
       "      <th>Off Othaya road Lavington Nairobi</th>\n",
       "      <th>Riverside Dr Nairobi Riverside Nairobi</th>\n",
       "      <th>Shanzu Mombasa</th>\n",
       "      <th>Thika Rd Nairobi Kahawa Wendani Nairobi</th>\n",
       "      <th>Vihiga road Kileleshwa Nairobi</th>\n",
       "      <th>Westlands Nairobi</th>\n",
       "      <th>Westlands downtown Westlands Nairobi</th>\n",
       "    </tr>\n",
       "  </thead>\n",
       "  <tbody>\n",
       "    <tr>\n",
       "      <th>0</th>\n",
       "      <td>3</td>\n",
       "      <td>3</td>\n",
       "      <td>0</td>\n",
       "      <td>0</td>\n",
       "      <td>0</td>\n",
       "      <td>0</td>\n",
       "      <td>0</td>\n",
       "      <td>0</td>\n",
       "      <td>0</td>\n",
       "      <td>0</td>\n",
       "      <td>0</td>\n",
       "      <td>0</td>\n",
       "      <td>1</td>\n",
       "      <td>0</td>\n",
       "      <td>0</td>\n",
       "      <td>0</td>\n",
       "      <td>0</td>\n",
       "      <td>0</td>\n",
       "    </tr>\n",
       "    <tr>\n",
       "      <th>1</th>\n",
       "      <td>3</td>\n",
       "      <td>4</td>\n",
       "      <td>0</td>\n",
       "      <td>0</td>\n",
       "      <td>0</td>\n",
       "      <td>1</td>\n",
       "      <td>0</td>\n",
       "      <td>0</td>\n",
       "      <td>0</td>\n",
       "      <td>0</td>\n",
       "      <td>0</td>\n",
       "      <td>0</td>\n",
       "      <td>0</td>\n",
       "      <td>0</td>\n",
       "      <td>0</td>\n",
       "      <td>0</td>\n",
       "      <td>0</td>\n",
       "      <td>0</td>\n",
       "    </tr>\n",
       "    <tr>\n",
       "      <th>2</th>\n",
       "      <td>3</td>\n",
       "      <td>2</td>\n",
       "      <td>0</td>\n",
       "      <td>0</td>\n",
       "      <td>0</td>\n",
       "      <td>0</td>\n",
       "      <td>0</td>\n",
       "      <td>0</td>\n",
       "      <td>1</td>\n",
       "      <td>0</td>\n",
       "      <td>0</td>\n",
       "      <td>0</td>\n",
       "      <td>0</td>\n",
       "      <td>0</td>\n",
       "      <td>0</td>\n",
       "      <td>0</td>\n",
       "      <td>0</td>\n",
       "      <td>0</td>\n",
       "    </tr>\n",
       "    <tr>\n",
       "      <th>3</th>\n",
       "      <td>3</td>\n",
       "      <td>3</td>\n",
       "      <td>0</td>\n",
       "      <td>0</td>\n",
       "      <td>0</td>\n",
       "      <td>0</td>\n",
       "      <td>0</td>\n",
       "      <td>0</td>\n",
       "      <td>0</td>\n",
       "      <td>0</td>\n",
       "      <td>1</td>\n",
       "      <td>0</td>\n",
       "      <td>0</td>\n",
       "      <td>0</td>\n",
       "      <td>0</td>\n",
       "      <td>0</td>\n",
       "      <td>0</td>\n",
       "      <td>0</td>\n",
       "    </tr>\n",
       "    <tr>\n",
       "      <th>4</th>\n",
       "      <td>1</td>\n",
       "      <td>1</td>\n",
       "      <td>0</td>\n",
       "      <td>0</td>\n",
       "      <td>0</td>\n",
       "      <td>1</td>\n",
       "      <td>0</td>\n",
       "      <td>0</td>\n",
       "      <td>0</td>\n",
       "      <td>0</td>\n",
       "      <td>0</td>\n",
       "      <td>0</td>\n",
       "      <td>0</td>\n",
       "      <td>0</td>\n",
       "      <td>0</td>\n",
       "      <td>0</td>\n",
       "      <td>0</td>\n",
       "      <td>0</td>\n",
       "    </tr>\n",
       "  </tbody>\n",
       "</table>\n",
       "</div>"
      ],
      "text/plain": [
       "   bedrooms  bathrooms  Grevillea Grove Spring Valley Spring Valley Nairobi  \\\n",
       "0         3          3                                                  0     \n",
       "1         3          4                                                  0     \n",
       "2         3          2                                                  0     \n",
       "3         3          3                                                  0     \n",
       "4         1          1                                                  0     \n",
       "\n",
       "   Jabavu court Kilimani Nairobi  Kikuyu Town Bus park Kikuyu Kikuyu Kikuyu  \\\n",
       "0                              0                                          0   \n",
       "1                              0                                          0   \n",
       "2                              0                                          0   \n",
       "3                              0                                          0   \n",
       "4                              0                                          0   \n",
       "\n",
       "   Kileleshwa Nairobi  Kileleshwa Nairobi Kileleshwa Nairobi  \\\n",
       "0                   0                                      0   \n",
       "1                   1                                      0   \n",
       "2                   0                                      0   \n",
       "3                   0                                      0   \n",
       "4                   1                                      0   \n",
       "\n",
       "   Kilimani Nairobi  Links Rd Mombasa Nyali Mombasa  Muthaiga Nairobi  \\\n",
       "0                 0                               0                 0   \n",
       "1                 0                               0                 0   \n",
       "2                 0                               1                 0   \n",
       "3                 0                               0                 0   \n",
       "4                 0                               0                 0   \n",
       "\n",
       "   Near Valley Arcade Lavington Nairobi  Off Othaya road Lavington Nairobi  \\\n",
       "0                                     0                                  0   \n",
       "1                                     0                                  0   \n",
       "2                                     0                                  0   \n",
       "3                                     1                                  0   \n",
       "4                                     0                                  0   \n",
       "\n",
       "   Riverside Dr Nairobi Riverside Nairobi  Shanzu Mombasa  \\\n",
       "0                                       1               0   \n",
       "1                                       0               0   \n",
       "2                                       0               0   \n",
       "3                                       0               0   \n",
       "4                                       0               0   \n",
       "\n",
       "   Thika Rd Nairobi Kahawa Wendani Nairobi  Vihiga road Kileleshwa Nairobi  \\\n",
       "0                                        0                               0   \n",
       "1                                        0                               0   \n",
       "2                                        0                               0   \n",
       "3                                        0                               0   \n",
       "4                                        0                               0   \n",
       "\n",
       "   Westlands Nairobi  Westlands downtown Westlands Nairobi  \n",
       "0                  0                                     0  \n",
       "1                  0                                     0  \n",
       "2                  0                                     0  \n",
       "3                  0                                     0  \n",
       "4                  0                                     0  "
      ]
     },
     "execution_count": 64,
     "metadata": {},
     "output_type": "execute_result"
    }
   ],
   "source": [
    "X=df7.drop(['price','location'],axis='columns')\n",
    "X.head()"
   ]
  },
  {
   "cell_type": "code",
   "execution_count": 65,
   "metadata": {},
   "outputs": [
    {
     "data": {
      "text/plain": [
       "0    200000.0\n",
       "1     70000.0\n",
       "2     38000.0\n",
       "3     80000.0\n",
       "4    110000.0\n",
       "Name: price, dtype: float64"
      ]
     },
     "execution_count": 65,
     "metadata": {},
     "output_type": "execute_result"
    }
   ],
   "source": [
    "y=df7.price\n",
    "y.head()"
   ]
  },
  {
   "cell_type": "code",
   "execution_count": 66,
   "metadata": {},
   "outputs": [],
   "source": [
    "#next i will create dummy values for the location column\n",
    "#from sklearn.preprocessing import LabelEncoder\n",
    "#le=LabelEncoder()\n",
    "#df6.location=le.fit_transform(df6.location)\n",
    "#df6.head()"
   ]
  },
  {
   "cell_type": "code",
   "execution_count": 67,
   "metadata": {},
   "outputs": [],
   "source": [
    "#i will now split my data for training and testing\n",
    "from sklearn.model_selection import train_test_split\n",
    "X_train,X_test,y_train,y_test=train_test_split(X,y,test_size=0.2)"
   ]
  },
  {
   "cell_type": "code",
   "execution_count": 68,
   "metadata": {},
   "outputs": [
    {
     "data": {
      "text/plain": [
       "1615"
      ]
     },
     "execution_count": 68,
     "metadata": {},
     "output_type": "execute_result"
    }
   ],
   "source": [
    "len(X_train)"
   ]
  },
  {
   "cell_type": "code",
   "execution_count": 69,
   "metadata": {},
   "outputs": [
    {
     "data": {
      "text/plain": [
       "404"
      ]
     },
     "execution_count": 69,
     "metadata": {},
     "output_type": "execute_result"
    }
   ],
   "source": [
    "len(X_test)"
   ]
  },
  {
   "cell_type": "code",
   "execution_count": 70,
   "metadata": {},
   "outputs": [],
   "source": [
    "##creating a machine learning model\n",
    "from sklearn.linear_model import LinearRegression\n",
    "from sklearn.linear_model import LogisticRegression\n",
    "from sklearn.linear_model import Lasso\n",
    "from sklearn.tree import DecisionTreeRegressor\n",
    "from sklearn.svm import SVC\n",
    "from sklearn.ensemble import RandomForestClassifier\n",
    "\n",
    "from sklearn.model_selection import cross_val_score\n",
    "from sklearn.model_selection import GridSearchCV\n",
    "from sklearn.model_selection import ShuffleSplit"
   ]
  },
  {
   "cell_type": "code",
   "execution_count": 71,
   "metadata": {},
   "outputs": [
    {
     "data": {
      "text/plain": [
       "LinearRegression()"
      ]
     },
     "execution_count": 71,
     "metadata": {},
     "output_type": "execute_result"
    }
   ],
   "source": [
    "lr=LinearRegression()\n",
    "lr.fit(X_train,y_train)"
   ]
  },
  {
   "cell_type": "code",
   "execution_count": 72,
   "metadata": {},
   "outputs": [
    {
     "data": {
      "text/plain": [
       "0.9972939040999762"
      ]
     },
     "execution_count": 72,
     "metadata": {},
     "output_type": "execute_result"
    }
   ],
   "source": [
    "lr.score(X_test,y_test)"
   ]
  },
  {
   "cell_type": "code",
   "execution_count": 73,
   "metadata": {},
   "outputs": [],
   "source": [
    "#i will now write a function to get me the best perfoming model"
   ]
  },
  {
   "cell_type": "code",
   "execution_count": 74,
   "metadata": {},
   "outputs": [],
   "source": [
    "cv=ShuffleSplit(n_splits=5,test_size=0.2,random_state=0)\n",
    "def find_best_model_using_gridsearchcv(X,y):\n",
    "    models={\n",
    "        'linear_regression':{\n",
    "            'model':LinearRegression(),\n",
    "            'params':{\n",
    "                'normalize':[True,False]\n",
    "            }\n",
    "        },\n",
    "        'lasso':{\n",
    "            'model':Lasso(),\n",
    "            'params':{\n",
    "                'alpha':[1,2],\n",
    "                'selection':['random','cyclic']\n",
    "            }\n",
    "        },\n",
    "        'decision_tree':{\n",
    "            'model':DecisionTreeRegressor(),\n",
    "            'params':{\n",
    "                'criterion':['mse','friedman_mse'],\n",
    "                'splitter':['best','random']\n",
    "            }\n",
    "        },\n",
    "        'svm':{\n",
    "            'model':SVC(),\n",
    "            'params':{\n",
    "                'C':[1,2,3],\n",
    "                'kernel':['linear','rbf']\n",
    "            }\n",
    "        },\n",
    "        'random_forest':{\n",
    "            'model':RandomForestClassifier(),\n",
    "            'params':{\n",
    "                \n",
    "            }\n",
    "        },\n",
    "        'logistic_regression':{\n",
    "            'model':LogisticRegression(),\n",
    "            'params':{}\n",
    "        }\n",
    "    }\n",
    "#this is what we call hyper parameter tunning\n",
    "\n",
    "    my_scores=[]\n",
    "    cv=ShuffleSplit(n_splits=5,test_size=0.2,random_state=0)\n",
    "    for model_name,config in models.items():\n",
    "        gs=GridSearchCV(config['model'],config['params'],cv=cv,return_train_score=False)\n",
    "        gs.fit(X,y)\n",
    "        my_scores.append({\n",
    "            'model':model_name,\n",
    "            'best_score':gs.best_score_,\n",
    "            'best_params':gs.best_params_\n",
    "        })\n",
    "    return pd.DataFrame(my_scores,columns=['model','best_score','best_params'])\n"
   ]
  },
  {
   "cell_type": "code",
   "execution_count": 75,
   "metadata": {},
   "outputs": [
    {
     "name": "stderr",
     "output_type": "stream",
     "text": [
      "C:\\Users\\sojore\\anaconda3\\lib\\site-packages\\sklearn\\linear_model\\_coordinate_descent.py:529: ConvergenceWarning: Objective did not converge. You might want to increase the number of iterations. Duality gap: 4447497907.832477, tolerance: 592272813.5594039\n",
      "  model = cd_fast.enet_coordinate_descent(\n",
      "C:\\Users\\sojore\\anaconda3\\lib\\site-packages\\sklearn\\linear_model\\_coordinate_descent.py:529: ConvergenceWarning: Objective did not converge. You might want to increase the number of iterations. Duality gap: 3443195550.7484684, tolerance: 575103183.0688852\n",
      "  model = cd_fast.enet_coordinate_descent(\n",
      "C:\\Users\\sojore\\anaconda3\\lib\\site-packages\\sklearn\\linear_model\\_coordinate_descent.py:529: ConvergenceWarning: Objective did not converge. You might want to increase the number of iterations. Duality gap: 1111900106.5216274, tolerance: 561066501.0594038\n",
      "  model = cd_fast.enet_coordinate_descent(\n",
      "C:\\Users\\sojore\\anaconda3\\lib\\site-packages\\sklearn\\linear_model\\_coordinate_descent.py:529: ConvergenceWarning: Objective did not converge. You might want to increase the number of iterations. Duality gap: 958869059.0301838, tolerance: 592272813.5594039\n",
      "  model = cd_fast.enet_coordinate_descent(\n",
      "C:\\Users\\sojore\\anaconda3\\lib\\site-packages\\sklearn\\linear_model\\_coordinate_descent.py:529: ConvergenceWarning: Objective did not converge. You might want to increase the number of iterations. Duality gap: 1010075100.5790176, tolerance: 575103183.0688852\n",
      "  model = cd_fast.enet_coordinate_descent(\n",
      "C:\\Users\\sojore\\anaconda3\\lib\\site-packages\\sklearn\\linear_model\\_coordinate_descent.py:529: ConvergenceWarning: Objective did not converge. You might want to increase the number of iterations. Duality gap: 1055443850.878088, tolerance: 568375898.3117253\n",
      "  model = cd_fast.enet_coordinate_descent(\n",
      "C:\\Users\\sojore\\anaconda3\\lib\\site-packages\\sklearn\\linear_model\\_coordinate_descent.py:529: ConvergenceWarning: Objective did not converge. You might want to increase the number of iterations. Duality gap: 1064287292.026125, tolerance: 581553143.8225623\n",
      "  model = cd_fast.enet_coordinate_descent(\n",
      "C:\\Users\\sojore\\anaconda3\\lib\\site-packages\\sklearn\\linear_model\\_coordinate_descent.py:529: ConvergenceWarning: Objective did not converge. You might want to increase the number of iterations. Duality gap: 4878553397.097326, tolerance: 561066501.0594038\n",
      "  model = cd_fast.enet_coordinate_descent(\n",
      "C:\\Users\\sojore\\anaconda3\\lib\\site-packages\\sklearn\\linear_model\\_coordinate_descent.py:529: ConvergenceWarning: Objective did not converge. You might want to increase the number of iterations. Duality gap: 2550951343.6130867, tolerance: 568375898.3117253\n",
      "  model = cd_fast.enet_coordinate_descent(\n",
      "C:\\Users\\sojore\\anaconda3\\lib\\site-packages\\sklearn\\linear_model\\_coordinate_descent.py:529: ConvergenceWarning: Objective did not converge. You might want to increase the number of iterations. Duality gap: 2880730248.7176943, tolerance: 581553143.8225623\n",
      "  model = cd_fast.enet_coordinate_descent(\n",
      "C:\\Users\\sojore\\anaconda3\\lib\\site-packages\\sklearn\\linear_model\\_coordinate_descent.py:529: ConvergenceWarning: Objective did not converge. You might want to increase the number of iterations. Duality gap: 1410205233.5952415, tolerance: 561066501.0594038\n",
      "  model = cd_fast.enet_coordinate_descent(\n",
      "C:\\Users\\sojore\\anaconda3\\lib\\site-packages\\sklearn\\linear_model\\_coordinate_descent.py:529: ConvergenceWarning: Objective did not converge. You might want to increase the number of iterations. Duality gap: 1229396312.4521751, tolerance: 592272813.5594039\n",
      "  model = cd_fast.enet_coordinate_descent(\n",
      "C:\\Users\\sojore\\anaconda3\\lib\\site-packages\\sklearn\\linear_model\\_coordinate_descent.py:529: ConvergenceWarning: Objective did not converge. You might want to increase the number of iterations. Duality gap: 1290497371.68618, tolerance: 575103183.0688852\n",
      "  model = cd_fast.enet_coordinate_descent(\n",
      "C:\\Users\\sojore\\anaconda3\\lib\\site-packages\\sklearn\\linear_model\\_coordinate_descent.py:529: ConvergenceWarning: Objective did not converge. You might want to increase the number of iterations. Duality gap: 1339437014.7036457, tolerance: 568375898.3117253\n",
      "  model = cd_fast.enet_coordinate_descent(\n",
      "C:\\Users\\sojore\\anaconda3\\lib\\site-packages\\sklearn\\linear_model\\_coordinate_descent.py:529: ConvergenceWarning: Objective did not converge. You might want to increase the number of iterations. Duality gap: 1355303789.4918995, tolerance: 581553143.8225623\n",
      "  model = cd_fast.enet_coordinate_descent(\n",
      "C:\\Users\\sojore\\anaconda3\\lib\\site-packages\\sklearn\\linear_model\\_coordinate_descent.py:529: ConvergenceWarning: Objective did not converge. You might want to increase the number of iterations. Duality gap: 5607530726.625561, tolerance: 722715277.5\n",
      "  model = cd_fast.enet_coordinate_descent(\n",
      "C:\\Users\\sojore\\anaconda3\\lib\\site-packages\\sklearn\\linear_model\\_logistic.py:762: ConvergenceWarning: lbfgs failed to converge (status=1):\n",
      "STOP: TOTAL NO. of ITERATIONS REACHED LIMIT.\n",
      "\n",
      "Increase the number of iterations (max_iter) or scale the data as shown in:\n",
      "    https://scikit-learn.org/stable/modules/preprocessing.html\n",
      "Please also refer to the documentation for alternative solver options:\n",
      "    https://scikit-learn.org/stable/modules/linear_model.html#logistic-regression\n",
      "  n_iter_i = _check_optimize_result(\n",
      "C:\\Users\\sojore\\anaconda3\\lib\\site-packages\\sklearn\\linear_model\\_logistic.py:762: ConvergenceWarning: lbfgs failed to converge (status=1):\n",
      "STOP: TOTAL NO. of ITERATIONS REACHED LIMIT.\n",
      "\n",
      "Increase the number of iterations (max_iter) or scale the data as shown in:\n",
      "    https://scikit-learn.org/stable/modules/preprocessing.html\n",
      "Please also refer to the documentation for alternative solver options:\n",
      "    https://scikit-learn.org/stable/modules/linear_model.html#logistic-regression\n",
      "  n_iter_i = _check_optimize_result(\n",
      "C:\\Users\\sojore\\anaconda3\\lib\\site-packages\\sklearn\\linear_model\\_logistic.py:762: ConvergenceWarning: lbfgs failed to converge (status=1):\n",
      "STOP: TOTAL NO. of ITERATIONS REACHED LIMIT.\n",
      "\n",
      "Increase the number of iterations (max_iter) or scale the data as shown in:\n",
      "    https://scikit-learn.org/stable/modules/preprocessing.html\n",
      "Please also refer to the documentation for alternative solver options:\n",
      "    https://scikit-learn.org/stable/modules/linear_model.html#logistic-regression\n",
      "  n_iter_i = _check_optimize_result(\n",
      "C:\\Users\\sojore\\anaconda3\\lib\\site-packages\\sklearn\\linear_model\\_logistic.py:762: ConvergenceWarning: lbfgs failed to converge (status=1):\n",
      "STOP: TOTAL NO. of ITERATIONS REACHED LIMIT.\n",
      "\n",
      "Increase the number of iterations (max_iter) or scale the data as shown in:\n",
      "    https://scikit-learn.org/stable/modules/preprocessing.html\n",
      "Please also refer to the documentation for alternative solver options:\n",
      "    https://scikit-learn.org/stable/modules/linear_model.html#logistic-regression\n",
      "  n_iter_i = _check_optimize_result(\n",
      "C:\\Users\\sojore\\anaconda3\\lib\\site-packages\\sklearn\\linear_model\\_logistic.py:762: ConvergenceWarning: lbfgs failed to converge (status=1):\n",
      "STOP: TOTAL NO. of ITERATIONS REACHED LIMIT.\n",
      "\n",
      "Increase the number of iterations (max_iter) or scale the data as shown in:\n",
      "    https://scikit-learn.org/stable/modules/preprocessing.html\n",
      "Please also refer to the documentation for alternative solver options:\n",
      "    https://scikit-learn.org/stable/modules/linear_model.html#logistic-regression\n",
      "  n_iter_i = _check_optimize_result(\n",
      "C:\\Users\\sojore\\anaconda3\\lib\\site-packages\\sklearn\\linear_model\\_logistic.py:762: ConvergenceWarning: lbfgs failed to converge (status=1):\n",
      "STOP: TOTAL NO. of ITERATIONS REACHED LIMIT.\n",
      "\n",
      "Increase the number of iterations (max_iter) or scale the data as shown in:\n",
      "    https://scikit-learn.org/stable/modules/preprocessing.html\n",
      "Please also refer to the documentation for alternative solver options:\n",
      "    https://scikit-learn.org/stable/modules/linear_model.html#logistic-regression\n",
      "  n_iter_i = _check_optimize_result(\n"
     ]
    },
    {
     "data": {
      "text/html": [
       "<div>\n",
       "<style scoped>\n",
       "    .dataframe tbody tr th:only-of-type {\n",
       "        vertical-align: middle;\n",
       "    }\n",
       "\n",
       "    .dataframe tbody tr th {\n",
       "        vertical-align: top;\n",
       "    }\n",
       "\n",
       "    .dataframe thead th {\n",
       "        text-align: right;\n",
       "    }\n",
       "</style>\n",
       "<table border=\"1\" class=\"dataframe\">\n",
       "  <thead>\n",
       "    <tr style=\"text-align: right;\">\n",
       "      <th></th>\n",
       "      <th>model</th>\n",
       "      <th>best_score</th>\n",
       "      <th>best_params</th>\n",
       "    </tr>\n",
       "  </thead>\n",
       "  <tbody>\n",
       "    <tr>\n",
       "      <th>0</th>\n",
       "      <td>linear_regression</td>\n",
       "      <td>0.997151</td>\n",
       "      <td>{'normalize': True}</td>\n",
       "    </tr>\n",
       "    <tr>\n",
       "      <th>1</th>\n",
       "      <td>lasso</td>\n",
       "      <td>0.997152</td>\n",
       "      <td>{'alpha': 2, 'selection': 'random'}</td>\n",
       "    </tr>\n",
       "    <tr>\n",
       "      <th>2</th>\n",
       "      <td>decision_tree</td>\n",
       "      <td>1.000000</td>\n",
       "      <td>{'criterion': 'mse', 'splitter': 'best'}</td>\n",
       "    </tr>\n",
       "    <tr>\n",
       "      <th>3</th>\n",
       "      <td>svm</td>\n",
       "      <td>1.000000</td>\n",
       "      <td>{'C': 1, 'kernel': 'linear'}</td>\n",
       "    </tr>\n",
       "    <tr>\n",
       "      <th>4</th>\n",
       "      <td>random_forest</td>\n",
       "      <td>1.000000</td>\n",
       "      <td>{}</td>\n",
       "    </tr>\n",
       "    <tr>\n",
       "      <th>5</th>\n",
       "      <td>logistic_regression</td>\n",
       "      <td>1.000000</td>\n",
       "      <td>{}</td>\n",
       "    </tr>\n",
       "  </tbody>\n",
       "</table>\n",
       "</div>"
      ],
      "text/plain": [
       "                 model  best_score                               best_params\n",
       "0    linear_regression    0.997151                       {'normalize': True}\n",
       "1                lasso    0.997152       {'alpha': 2, 'selection': 'random'}\n",
       "2        decision_tree    1.000000  {'criterion': 'mse', 'splitter': 'best'}\n",
       "3                  svm    1.000000              {'C': 1, 'kernel': 'linear'}\n",
       "4        random_forest    1.000000                                        {}\n",
       "5  logistic_regression    1.000000                                        {}"
      ]
     },
     "execution_count": 75,
     "metadata": {},
     "output_type": "execute_result"
    }
   ],
   "source": [
    "find_best_model_using_gridsearchcv(X_train,y_train)"
   ]
  },
  {
   "cell_type": "code",
   "execution_count": 76,
   "metadata": {},
   "outputs": [
    {
     "data": {
      "text/plain": [
       "SVC()"
      ]
     },
     "execution_count": 76,
     "metadata": {},
     "output_type": "execute_result"
    }
   ],
   "source": [
    "#from the above i can choose the best algorithm to create my model\n",
    "#i will simply employ svm for my model creation\n",
    "model=SVC()\n",
    "model.fit(X_train,y_train)"
   ]
  },
  {
   "cell_type": "code",
   "execution_count": 77,
   "metadata": {},
   "outputs": [
    {
     "data": {
      "text/plain": [
       "1.0"
      ]
     },
     "execution_count": 77,
     "metadata": {},
     "output_type": "execute_result"
    }
   ],
   "source": [
    "#let me get the score of the model\n",
    "model.score(X_test,y_test)"
   ]
  },
  {
   "cell_type": "code",
   "execution_count": 84,
   "metadata": {},
   "outputs": [
    {
     "data": {
      "text/html": [
       "<div>\n",
       "<style scoped>\n",
       "    .dataframe tbody tr th:only-of-type {\n",
       "        vertical-align: middle;\n",
       "    }\n",
       "\n",
       "    .dataframe tbody tr th {\n",
       "        vertical-align: top;\n",
       "    }\n",
       "\n",
       "    .dataframe thead th {\n",
       "        text-align: right;\n",
       "    }\n",
       "</style>\n",
       "<table border=\"1\" class=\"dataframe\">\n",
       "  <thead>\n",
       "    <tr style=\"text-align: right;\">\n",
       "      <th></th>\n",
       "      <th>bedrooms</th>\n",
       "      <th>bathrooms</th>\n",
       "      <th>Grevillea Grove Spring Valley Spring Valley Nairobi</th>\n",
       "      <th>Jabavu court Kilimani Nairobi</th>\n",
       "      <th>Kikuyu Town Bus park Kikuyu Kikuyu Kikuyu</th>\n",
       "      <th>Kileleshwa Nairobi</th>\n",
       "      <th>Kileleshwa Nairobi Kileleshwa Nairobi</th>\n",
       "      <th>Kilimani Nairobi</th>\n",
       "      <th>Links Rd Mombasa Nyali Mombasa</th>\n",
       "      <th>Muthaiga Nairobi</th>\n",
       "      <th>Near Valley Arcade Lavington Nairobi</th>\n",
       "      <th>Off Othaya road Lavington Nairobi</th>\n",
       "      <th>Riverside Dr Nairobi Riverside Nairobi</th>\n",
       "      <th>Shanzu Mombasa</th>\n",
       "      <th>Thika Rd Nairobi Kahawa Wendani Nairobi</th>\n",
       "      <th>Vihiga road Kileleshwa Nairobi</th>\n",
       "      <th>Westlands Nairobi</th>\n",
       "      <th>Westlands downtown Westlands Nairobi</th>\n",
       "    </tr>\n",
       "  </thead>\n",
       "  <tbody>\n",
       "    <tr>\n",
       "      <th>189</th>\n",
       "      <td>3</td>\n",
       "      <td>3</td>\n",
       "      <td>0</td>\n",
       "      <td>0</td>\n",
       "      <td>0</td>\n",
       "      <td>0</td>\n",
       "      <td>0</td>\n",
       "      <td>0</td>\n",
       "      <td>0</td>\n",
       "      <td>0</td>\n",
       "      <td>0</td>\n",
       "      <td>0</td>\n",
       "      <td>1</td>\n",
       "      <td>0</td>\n",
       "      <td>0</td>\n",
       "      <td>0</td>\n",
       "      <td>0</td>\n",
       "      <td>0</td>\n",
       "    </tr>\n",
       "    <tr>\n",
       "      <th>2068</th>\n",
       "      <td>4</td>\n",
       "      <td>2</td>\n",
       "      <td>0</td>\n",
       "      <td>0</td>\n",
       "      <td>0</td>\n",
       "      <td>0</td>\n",
       "      <td>0</td>\n",
       "      <td>0</td>\n",
       "      <td>0</td>\n",
       "      <td>0</td>\n",
       "      <td>0</td>\n",
       "      <td>0</td>\n",
       "      <td>0</td>\n",
       "      <td>0</td>\n",
       "      <td>0</td>\n",
       "      <td>0</td>\n",
       "      <td>1</td>\n",
       "      <td>0</td>\n",
       "    </tr>\n",
       "    <tr>\n",
       "      <th>1595</th>\n",
       "      <td>2</td>\n",
       "      <td>2</td>\n",
       "      <td>0</td>\n",
       "      <td>0</td>\n",
       "      <td>0</td>\n",
       "      <td>0</td>\n",
       "      <td>0</td>\n",
       "      <td>0</td>\n",
       "      <td>0</td>\n",
       "      <td>0</td>\n",
       "      <td>0</td>\n",
       "      <td>0</td>\n",
       "      <td>0</td>\n",
       "      <td>0</td>\n",
       "      <td>0</td>\n",
       "      <td>0</td>\n",
       "      <td>1</td>\n",
       "      <td>0</td>\n",
       "    </tr>\n",
       "    <tr>\n",
       "      <th>1066</th>\n",
       "      <td>2</td>\n",
       "      <td>2</td>\n",
       "      <td>0</td>\n",
       "      <td>0</td>\n",
       "      <td>0</td>\n",
       "      <td>0</td>\n",
       "      <td>1</td>\n",
       "      <td>0</td>\n",
       "      <td>0</td>\n",
       "      <td>0</td>\n",
       "      <td>0</td>\n",
       "      <td>0</td>\n",
       "      <td>0</td>\n",
       "      <td>0</td>\n",
       "      <td>0</td>\n",
       "      <td>0</td>\n",
       "      <td>0</td>\n",
       "      <td>0</td>\n",
       "    </tr>\n",
       "    <tr>\n",
       "      <th>405</th>\n",
       "      <td>4</td>\n",
       "      <td>2</td>\n",
       "      <td>0</td>\n",
       "      <td>0</td>\n",
       "      <td>0</td>\n",
       "      <td>0</td>\n",
       "      <td>0</td>\n",
       "      <td>0</td>\n",
       "      <td>0</td>\n",
       "      <td>0</td>\n",
       "      <td>0</td>\n",
       "      <td>0</td>\n",
       "      <td>0</td>\n",
       "      <td>0</td>\n",
       "      <td>1</td>\n",
       "      <td>0</td>\n",
       "      <td>0</td>\n",
       "      <td>0</td>\n",
       "    </tr>\n",
       "  </tbody>\n",
       "</table>\n",
       "</div>"
      ],
      "text/plain": [
       "      bedrooms  bathrooms  \\\n",
       "189          3          3   \n",
       "2068         4          2   \n",
       "1595         2          2   \n",
       "1066         2          2   \n",
       "405          4          2   \n",
       "\n",
       "      Grevillea Grove Spring Valley Spring Valley Nairobi  \\\n",
       "189                                                   0     \n",
       "2068                                                  0     \n",
       "1595                                                  0     \n",
       "1066                                                  0     \n",
       "405                                                   0     \n",
       "\n",
       "      Jabavu court Kilimani Nairobi  \\\n",
       "189                               0   \n",
       "2068                              0   \n",
       "1595                              0   \n",
       "1066                              0   \n",
       "405                               0   \n",
       "\n",
       "      Kikuyu Town Bus park Kikuyu Kikuyu Kikuyu  Kileleshwa Nairobi  \\\n",
       "189                                           0                   0   \n",
       "2068                                          0                   0   \n",
       "1595                                          0                   0   \n",
       "1066                                          0                   0   \n",
       "405                                           0                   0   \n",
       "\n",
       "      Kileleshwa Nairobi Kileleshwa Nairobi  Kilimani Nairobi  \\\n",
       "189                                       0                 0   \n",
       "2068                                      0                 0   \n",
       "1595                                      0                 0   \n",
       "1066                                      1                 0   \n",
       "405                                       0                 0   \n",
       "\n",
       "      Links Rd Mombasa Nyali Mombasa  Muthaiga Nairobi  \\\n",
       "189                                0                 0   \n",
       "2068                               0                 0   \n",
       "1595                               0                 0   \n",
       "1066                               0                 0   \n",
       "405                                0                 0   \n",
       "\n",
       "      Near Valley Arcade Lavington Nairobi  Off Othaya road Lavington Nairobi  \\\n",
       "189                                      0                                  0   \n",
       "2068                                     0                                  0   \n",
       "1595                                     0                                  0   \n",
       "1066                                     0                                  0   \n",
       "405                                      0                                  0   \n",
       "\n",
       "      Riverside Dr Nairobi Riverside Nairobi  Shanzu Mombasa  \\\n",
       "189                                        1               0   \n",
       "2068                                       0               0   \n",
       "1595                                       0               0   \n",
       "1066                                       0               0   \n",
       "405                                        0               0   \n",
       "\n",
       "      Thika Rd Nairobi Kahawa Wendani Nairobi  Vihiga road Kileleshwa Nairobi  \\\n",
       "189                                         0                               0   \n",
       "2068                                        0                               0   \n",
       "1595                                        0                               0   \n",
       "1066                                        0                               0   \n",
       "405                                         1                               0   \n",
       "\n",
       "      Westlands Nairobi  Westlands downtown Westlands Nairobi  \n",
       "189                   0                                     0  \n",
       "2068                  1                                     0  \n",
       "1595                  1                                     0  \n",
       "1066                  0                                     0  \n",
       "405                   0                                     0  "
      ]
     },
     "execution_count": 84,
     "metadata": {},
     "output_type": "execute_result"
    }
   ],
   "source": [
    "X_test.head()"
   ]
  },
  {
   "cell_type": "code",
   "execution_count": 79,
   "metadata": {},
   "outputs": [
    {
     "data": {
      "text/plain": [
       "array([200000., 165000., 100000.,  55000.,  57750.,  70000., 100000.,\n",
       "        80000.,  80000., 100000.])"
      ]
     },
     "execution_count": 79,
     "metadata": {},
     "output_type": "execute_result"
    }
   ],
   "source": [
    "#now i can use the model to do predictions\n",
    "y_predicted=model.predict(X_test)\n",
    "y_predicted[:10]"
   ]
  },
  {
   "cell_type": "code",
   "execution_count": 80,
   "metadata": {},
   "outputs": [
    {
     "data": {
      "text/plain": [
       "189     200000.0\n",
       "2068    165000.0\n",
       "1595    100000.0\n",
       "1066     55000.0\n",
       "405      57750.0\n",
       "356      70000.0\n",
       "2498    100000.0\n",
       "2415     80000.0\n",
       "2394     80000.0\n",
       "1616    100000.0\n",
       "Name: price, dtype: float64"
      ]
     },
     "execution_count": 80,
     "metadata": {},
     "output_type": "execute_result"
    }
   ],
   "source": [
    "y_test[:10]"
   ]
  },
  {
   "cell_type": "code",
   "execution_count": 81,
   "metadata": {},
   "outputs": [],
   "source": [
    "##from the above predictions ,my model is absolutely predicting the correct results"
   ]
  },
  {
   "cell_type": "code",
   "execution_count": 82,
   "metadata": {},
   "outputs": [],
   "source": [
    "#next i will create a heatmap for a better visualization of the predicted results\n",
    "from sklearn.metrics import confusion_matrix,classification_report\n",
    "import seaborn as sn\n",
    "cm=confusion_matrix(y_test,y_predicted)\n"
   ]
  },
  {
   "cell_type": "code",
   "execution_count": 83,
   "metadata": {},
   "outputs": [
    {
     "data": {
      "text/plain": [
       "Text(159.0, 0.5, 'Truth')"
      ]
     },
     "execution_count": 83,
     "metadata": {},
     "output_type": "execute_result"
    },
    {
     "data": {
      "image/png": "[encoded data removed]",
      "text/plain": [
       "<Figure size 1440x720 with 2 Axes>"
      ]
     },
     "metadata": {
      "needs_background": "light"
     },
     "output_type": "display_data"
    }
   ],
   "source": [
    "plt.figure(figsize=(20,10))\n",
    "sn.heatmap(cm,annot=True)\n",
    "plt.xlabel('Predicted')\n",
    "plt.ylabel('Truth')"
   ]
  },
  {
   "cell_type": "code",
   "execution_count": 85,
   "metadata": {},
   "outputs": [
    {
     "name": "stdout",
     "output_type": "stream",
     "text": [
      "Classification Report: \n",
      "               precision    recall  f1-score   support\n",
      "\n",
      "     38000.0       1.00      1.00      1.00        25\n",
      "     55000.0       1.00      1.00      1.00        83\n",
      "     57750.0       1.00      1.00      1.00        24\n",
      "     65000.0       1.00      1.00      1.00        45\n",
      "     70000.0       1.00      1.00      1.00        24\n",
      "     75000.0       1.00      1.00      1.00        48\n",
      "     80000.0       1.00      1.00      1.00        10\n",
      "    100000.0       1.00      1.00      1.00        44\n",
      "    110000.0       1.00      1.00      1.00        24\n",
      "    125000.0       1.00      1.00      1.00         3\n",
      "    165000.0       1.00      1.00      1.00        24\n",
      "    200000.0       1.00      1.00      1.00        27\n",
      "    300000.0       1.00      1.00      1.00        23\n",
      "\n",
      "    accuracy                           1.00       404\n",
      "   macro avg       1.00      1.00      1.00       404\n",
      "weighted avg       1.00      1.00      1.00       404\n",
      "\n"
     ]
    }
   ],
   "source": [
    "#my model is doing pretty good on doing the predictions\n",
    "#next i can print a classification report\n",
    "print('Classification Report: \\n',classification_report(y_test,y_predicted))"
   ]
  },
  {
   "cell_type": "code",
   "execution_count": 87,
   "metadata": {},
   "outputs": [
    {
     "data": {
      "text/html": [
       "<div>\n",
       "<style scoped>\n",
       "    .dataframe tbody tr th:only-of-type {\n",
       "        vertical-align: middle;\n",
       "    }\n",
       "\n",
       "    .dataframe tbody tr th {\n",
       "        vertical-align: top;\n",
       "    }\n",
       "\n",
       "    .dataframe thead th {\n",
       "        text-align: right;\n",
       "    }\n",
       "</style>\n",
       "<table border=\"1\" class=\"dataframe\">\n",
       "  <thead>\n",
       "    <tr style=\"text-align: right;\">\n",
       "      <th></th>\n",
       "      <th>bedrooms</th>\n",
       "      <th>bathrooms</th>\n",
       "      <th>Grevillea Grove Spring Valley Spring Valley Nairobi</th>\n",
       "      <th>Jabavu court Kilimani Nairobi</th>\n",
       "      <th>Kikuyu Town Bus park Kikuyu Kikuyu Kikuyu</th>\n",
       "      <th>Kileleshwa Nairobi</th>\n",
       "      <th>Kileleshwa Nairobi Kileleshwa Nairobi</th>\n",
       "      <th>Kilimani Nairobi</th>\n",
       "      <th>Links Rd Mombasa Nyali Mombasa</th>\n",
       "      <th>Muthaiga Nairobi</th>\n",
       "      <th>Near Valley Arcade Lavington Nairobi</th>\n",
       "      <th>Off Othaya road Lavington Nairobi</th>\n",
       "      <th>Riverside Dr Nairobi Riverside Nairobi</th>\n",
       "      <th>Shanzu Mombasa</th>\n",
       "      <th>Thika Rd Nairobi Kahawa Wendani Nairobi</th>\n",
       "      <th>Vihiga road Kileleshwa Nairobi</th>\n",
       "      <th>Westlands Nairobi</th>\n",
       "      <th>Westlands downtown Westlands Nairobi</th>\n",
       "    </tr>\n",
       "  </thead>\n",
       "  <tbody>\n",
       "    <tr>\n",
       "      <th>2519</th>\n",
       "      <td>2</td>\n",
       "      <td>2</td>\n",
       "      <td>0</td>\n",
       "      <td>0</td>\n",
       "      <td>0</td>\n",
       "      <td>0</td>\n",
       "      <td>0</td>\n",
       "      <td>0</td>\n",
       "      <td>0</td>\n",
       "      <td>0</td>\n",
       "      <td>0</td>\n",
       "      <td>0</td>\n",
       "      <td>0</td>\n",
       "      <td>0</td>\n",
       "      <td>0</td>\n",
       "      <td>0</td>\n",
       "      <td>1</td>\n",
       "      <td>0</td>\n",
       "    </tr>\n",
       "  </tbody>\n",
       "</table>\n",
       "</div>"
      ],
      "text/plain": [
       "      bedrooms  bathrooms  \\\n",
       "2519         2          2   \n",
       "\n",
       "      Grevillea Grove Spring Valley Spring Valley Nairobi  \\\n",
       "2519                                                  0     \n",
       "\n",
       "      Jabavu court Kilimani Nairobi  \\\n",
       "2519                              0   \n",
       "\n",
       "      Kikuyu Town Bus park Kikuyu Kikuyu Kikuyu  Kileleshwa Nairobi  \\\n",
       "2519                                          0                   0   \n",
       "\n",
       "      Kileleshwa Nairobi Kileleshwa Nairobi  Kilimani Nairobi  \\\n",
       "2519                                      0                 0   \n",
       "\n",
       "      Links Rd Mombasa Nyali Mombasa  Muthaiga Nairobi  \\\n",
       "2519                               0                 0   \n",
       "\n",
       "      Near Valley Arcade Lavington Nairobi  Off Othaya road Lavington Nairobi  \\\n",
       "2519                                     0                                  0   \n",
       "\n",
       "      Riverside Dr Nairobi Riverside Nairobi  Shanzu Mombasa  \\\n",
       "2519                                       0               0   \n",
       "\n",
       "      Thika Rd Nairobi Kahawa Wendani Nairobi  Vihiga road Kileleshwa Nairobi  \\\n",
       "2519                                        0                               0   \n",
       "\n",
       "      Westlands Nairobi  Westlands downtown Westlands Nairobi  \n",
       "2519                  1                                     0  "
      ]
     },
     "execution_count": 87,
     "metadata": {},
     "output_type": "execute_result"
    }
   ],
   "source": [
    "X_train.head(1)"
   ]
  },
  {
   "cell_type": "code",
   "execution_count": 92,
   "metadata": {
    "scrolled": true
   },
   "outputs": [],
   "source": [
    "#let me write the predict price function \n",
    "def predict_price(location,bedrooms,bathrooms):\n",
    "    loc_index=np.where(X.columns==location)[0][0]#this method helps locate the columns index\n",
    "    x=np.zeros(len(X.columns))\n",
    "    x[0]=bedrooms\n",
    "    x[1]=bathrooms\n",
    "    if loc_index>=0:\n",
    "        x[loc_index]=1##here we are setting our particular index to be 1\n",
    "        \n",
    "    return model.predict([x])[0]"
   ]
  },
  {
   "cell_type": "code",
   "execution_count": 94,
   "metadata": {},
   "outputs": [
    {
     "data": {
      "text/plain": [
       "Index(['bedrooms', 'bathrooms',\n",
       "       'Grevillea Grove Spring Valley Spring Valley Nairobi',\n",
       "       'Jabavu court Kilimani Nairobi',\n",
       "       'Kikuyu Town Bus park Kikuyu Kikuyu Kikuyu', 'Kileleshwa Nairobi',\n",
       "       'Kileleshwa Nairobi Kileleshwa Nairobi', 'Kilimani Nairobi',\n",
       "       'Links Rd Mombasa Nyali Mombasa', 'Muthaiga Nairobi',\n",
       "       'Near Valley Arcade Lavington Nairobi',\n",
       "       'Off Othaya road Lavington Nairobi',\n",
       "       'Riverside Dr Nairobi Riverside Nairobi', 'Shanzu Mombasa',\n",
       "       'Thika Rd Nairobi Kahawa Wendani Nairobi',\n",
       "       'Vihiga road Kileleshwa Nairobi', 'Westlands Nairobi',\n",
       "       'Westlands downtown Westlands Nairobi'],\n",
       "      dtype='object')"
      ]
     },
     "execution_count": 94,
     "metadata": {},
     "output_type": "execute_result"
    }
   ],
   "source": [
    "X.columns"
   ]
  },
  {
   "cell_type": "code",
   "execution_count": 93,
   "metadata": {},
   "outputs": [
    {
     "data": {
      "text/plain": [
       "65000.0"
      ]
     },
     "execution_count": 93,
     "metadata": {},
     "output_type": "execute_result"
    }
   ],
   "source": [
    "predict_price('Grevillea Grove Spring Valley Spring Valley Nairobi',2,3)"
   ]
  },
  {
   "cell_type": "code",
   "execution_count": 97,
   "metadata": {},
   "outputs": [
    {
     "data": {
      "text/html": [
       "<div>\n",
       "<style scoped>\n",
       "    .dataframe tbody tr th:only-of-type {\n",
       "        vertical-align: middle;\n",
       "    }\n",
       "\n",
       "    .dataframe tbody tr th {\n",
       "        vertical-align: top;\n",
       "    }\n",
       "\n",
       "    .dataframe thead th {\n",
       "        text-align: right;\n",
       "    }\n",
       "</style>\n",
       "<table border=\"1\" class=\"dataframe\">\n",
       "  <thead>\n",
       "    <tr style=\"text-align: right;\">\n",
       "      <th></th>\n",
       "      <th>bedrooms</th>\n",
       "      <th>bathrooms</th>\n",
       "      <th>Grevillea Grove Spring Valley Spring Valley Nairobi</th>\n",
       "      <th>Jabavu court Kilimani Nairobi</th>\n",
       "      <th>Kikuyu Town Bus park Kikuyu Kikuyu Kikuyu</th>\n",
       "      <th>Kileleshwa Nairobi</th>\n",
       "      <th>Kileleshwa Nairobi Kileleshwa Nairobi</th>\n",
       "      <th>Kilimani Nairobi</th>\n",
       "      <th>Links Rd Mombasa Nyali Mombasa</th>\n",
       "      <th>Muthaiga Nairobi</th>\n",
       "      <th>Near Valley Arcade Lavington Nairobi</th>\n",
       "      <th>Off Othaya road Lavington Nairobi</th>\n",
       "      <th>Riverside Dr Nairobi Riverside Nairobi</th>\n",
       "      <th>Shanzu Mombasa</th>\n",
       "      <th>Thika Rd Nairobi Kahawa Wendani Nairobi</th>\n",
       "      <th>Vihiga road Kileleshwa Nairobi</th>\n",
       "      <th>Westlands Nairobi</th>\n",
       "      <th>Westlands downtown Westlands Nairobi</th>\n",
       "    </tr>\n",
       "  </thead>\n",
       "  <tbody>\n",
       "    <tr>\n",
       "      <th>189</th>\n",
       "      <td>3</td>\n",
       "      <td>3</td>\n",
       "      <td>0</td>\n",
       "      <td>0</td>\n",
       "      <td>0</td>\n",
       "      <td>0</td>\n",
       "      <td>0</td>\n",
       "      <td>0</td>\n",
       "      <td>0</td>\n",
       "      <td>0</td>\n",
       "      <td>0</td>\n",
       "      <td>0</td>\n",
       "      <td>1</td>\n",
       "      <td>0</td>\n",
       "      <td>0</td>\n",
       "      <td>0</td>\n",
       "      <td>0</td>\n",
       "      <td>0</td>\n",
       "    </tr>\n",
       "    <tr>\n",
       "      <th>2068</th>\n",
       "      <td>4</td>\n",
       "      <td>2</td>\n",
       "      <td>0</td>\n",
       "      <td>0</td>\n",
       "      <td>0</td>\n",
       "      <td>0</td>\n",
       "      <td>0</td>\n",
       "      <td>0</td>\n",
       "      <td>0</td>\n",
       "      <td>0</td>\n",
       "      <td>0</td>\n",
       "      <td>0</td>\n",
       "      <td>0</td>\n",
       "      <td>0</td>\n",
       "      <td>0</td>\n",
       "      <td>0</td>\n",
       "      <td>1</td>\n",
       "      <td>0</td>\n",
       "    </tr>\n",
       "    <tr>\n",
       "      <th>1595</th>\n",
       "      <td>2</td>\n",
       "      <td>2</td>\n",
       "      <td>0</td>\n",
       "      <td>0</td>\n",
       "      <td>0</td>\n",
       "      <td>0</td>\n",
       "      <td>0</td>\n",
       "      <td>0</td>\n",
       "      <td>0</td>\n",
       "      <td>0</td>\n",
       "      <td>0</td>\n",
       "      <td>0</td>\n",
       "      <td>0</td>\n",
       "      <td>0</td>\n",
       "      <td>0</td>\n",
       "      <td>0</td>\n",
       "      <td>1</td>\n",
       "      <td>0</td>\n",
       "    </tr>\n",
       "    <tr>\n",
       "      <th>1066</th>\n",
       "      <td>2</td>\n",
       "      <td>2</td>\n",
       "      <td>0</td>\n",
       "      <td>0</td>\n",
       "      <td>0</td>\n",
       "      <td>0</td>\n",
       "      <td>1</td>\n",
       "      <td>0</td>\n",
       "      <td>0</td>\n",
       "      <td>0</td>\n",
       "      <td>0</td>\n",
       "      <td>0</td>\n",
       "      <td>0</td>\n",
       "      <td>0</td>\n",
       "      <td>0</td>\n",
       "      <td>0</td>\n",
       "      <td>0</td>\n",
       "      <td>0</td>\n",
       "    </tr>\n",
       "    <tr>\n",
       "      <th>405</th>\n",
       "      <td>4</td>\n",
       "      <td>2</td>\n",
       "      <td>0</td>\n",
       "      <td>0</td>\n",
       "      <td>0</td>\n",
       "      <td>0</td>\n",
       "      <td>0</td>\n",
       "      <td>0</td>\n",
       "      <td>0</td>\n",
       "      <td>0</td>\n",
       "      <td>0</td>\n",
       "      <td>0</td>\n",
       "      <td>0</td>\n",
       "      <td>0</td>\n",
       "      <td>1</td>\n",
       "      <td>0</td>\n",
       "      <td>0</td>\n",
       "      <td>0</td>\n",
       "    </tr>\n",
       "    <tr>\n",
       "      <th>356</th>\n",
       "      <td>3</td>\n",
       "      <td>4</td>\n",
       "      <td>0</td>\n",
       "      <td>0</td>\n",
       "      <td>0</td>\n",
       "      <td>1</td>\n",
       "      <td>0</td>\n",
       "      <td>0</td>\n",
       "      <td>0</td>\n",
       "      <td>0</td>\n",
       "      <td>0</td>\n",
       "      <td>0</td>\n",
       "      <td>0</td>\n",
       "      <td>0</td>\n",
       "      <td>0</td>\n",
       "      <td>0</td>\n",
       "      <td>0</td>\n",
       "      <td>0</td>\n",
       "    </tr>\n",
       "    <tr>\n",
       "      <th>2498</th>\n",
       "      <td>2</td>\n",
       "      <td>2</td>\n",
       "      <td>0</td>\n",
       "      <td>0</td>\n",
       "      <td>0</td>\n",
       "      <td>0</td>\n",
       "      <td>0</td>\n",
       "      <td>0</td>\n",
       "      <td>0</td>\n",
       "      <td>0</td>\n",
       "      <td>0</td>\n",
       "      <td>0</td>\n",
       "      <td>0</td>\n",
       "      <td>0</td>\n",
       "      <td>0</td>\n",
       "      <td>0</td>\n",
       "      <td>1</td>\n",
       "      <td>0</td>\n",
       "    </tr>\n",
       "  </tbody>\n",
       "</table>\n",
       "</div>"
      ],
      "text/plain": [
       "      bedrooms  bathrooms  \\\n",
       "189          3          3   \n",
       "2068         4          2   \n",
       "1595         2          2   \n",
       "1066         2          2   \n",
       "405          4          2   \n",
       "356          3          4   \n",
       "2498         2          2   \n",
       "\n",
       "      Grevillea Grove Spring Valley Spring Valley Nairobi  \\\n",
       "189                                                   0     \n",
       "2068                                                  0     \n",
       "1595                                                  0     \n",
       "1066                                                  0     \n",
       "405                                                   0     \n",
       "356                                                   0     \n",
       "2498                                                  0     \n",
       "\n",
       "      Jabavu court Kilimani Nairobi  \\\n",
       "189                               0   \n",
       "2068                              0   \n",
       "1595                              0   \n",
       "1066                              0   \n",
       "405                               0   \n",
       "356                               0   \n",
       "2498                              0   \n",
       "\n",
       "      Kikuyu Town Bus park Kikuyu Kikuyu Kikuyu  Kileleshwa Nairobi  \\\n",
       "189                                           0                   0   \n",
       "2068                                          0                   0   \n",
       "1595                                          0                   0   \n",
       "1066                                          0                   0   \n",
       "405                                           0                   0   \n",
       "356                                           0                   1   \n",
       "2498                                          0                   0   \n",
       "\n",
       "      Kileleshwa Nairobi Kileleshwa Nairobi  Kilimani Nairobi  \\\n",
       "189                                       0                 0   \n",
       "2068                                      0                 0   \n",
       "1595                                      0                 0   \n",
       "1066                                      1                 0   \n",
       "405                                       0                 0   \n",
       "356                                       0                 0   \n",
       "2498                                      0                 0   \n",
       "\n",
       "      Links Rd Mombasa Nyali Mombasa  Muthaiga Nairobi  \\\n",
       "189                                0                 0   \n",
       "2068                               0                 0   \n",
       "1595                               0                 0   \n",
       "1066                               0                 0   \n",
       "405                                0                 0   \n",
       "356                                0                 0   \n",
       "2498                               0                 0   \n",
       "\n",
       "      Near Valley Arcade Lavington Nairobi  Off Othaya road Lavington Nairobi  \\\n",
       "189                                      0                                  0   \n",
       "2068                                     0                                  0   \n",
       "1595                                     0                                  0   \n",
       "1066                                     0                                  0   \n",
       "405                                      0                                  0   \n",
       "356                                      0                                  0   \n",
       "2498                                     0                                  0   \n",
       "\n",
       "      Riverside Dr Nairobi Riverside Nairobi  Shanzu Mombasa  \\\n",
       "189                                        1               0   \n",
       "2068                                       0               0   \n",
       "1595                                       0               0   \n",
       "1066                                       0               0   \n",
       "405                                        0               0   \n",
       "356                                        0               0   \n",
       "2498                                       0               0   \n",
       "\n",
       "      Thika Rd Nairobi Kahawa Wendani Nairobi  Vihiga road Kileleshwa Nairobi  \\\n",
       "189                                         0                               0   \n",
       "2068                                        0                               0   \n",
       "1595                                        0                               0   \n",
       "1066                                        0                               0   \n",
       "405                                         1                               0   \n",
       "356                                         0                               0   \n",
       "2498                                        0                               0   \n",
       "\n",
       "      Westlands Nairobi  Westlands downtown Westlands Nairobi  \n",
       "189                   0                                     0  \n",
       "2068                  1                                     0  \n",
       "1595                  1                                     0  \n",
       "1066                  0                                     0  \n",
       "405                   0                                     0  \n",
       "356                   0                                     0  \n",
       "2498                  1                                     0  "
      ]
     },
     "execution_count": 97,
     "metadata": {},
     "output_type": "execute_result"
    }
   ],
   "source": [
    "X_test.head(7)"
   ]
  },
  {
   "cell_type": "code",
   "execution_count": 99,
   "metadata": {},
   "outputs": [
    {
     "data": {
      "text/plain": [
       "189     200000.0\n",
       "2068    165000.0\n",
       "1595    100000.0\n",
       "1066     55000.0\n",
       "405      57750.0\n",
       "356      70000.0\n",
       "2498    100000.0\n",
       "Name: price, dtype: float64"
      ]
     },
     "execution_count": 99,
     "metadata": {},
     "output_type": "execute_result"
    }
   ],
   "source": [
    "y_test[:7]"
   ]
  },
  {
   "cell_type": "code",
   "execution_count": 100,
   "metadata": {},
   "outputs": [
    {
     "data": {
      "text/plain": [
       "200000.0"
      ]
     },
     "execution_count": 100,
     "metadata": {},
     "output_type": "execute_result"
    }
   ],
   "source": [
    "predict_price('Riverside Dr Nairobi Riverside Nairobi',3,3)#comparing if the function is giving the correct prediction as in \n",
    "#y_test"
   ]
  },
  {
   "cell_type": "code",
   "execution_count": 106,
   "metadata": {},
   "outputs": [
    {
     "data": {
      "text/plain": [
       "65000.0"
      ]
     },
     "execution_count": 106,
     "metadata": {},
     "output_type": "execute_result"
    }
   ],
   "source": [
    "##booooom my predict function is working pretty good\n",
    "predict_price('Links Rd Mombasa Nyali Mombasa',2,3)"
   ]
  },
  {
   "cell_type": "code",
   "execution_count": 109,
   "metadata": {},
   "outputs": [
    {
     "data": {
      "text/plain": [
       "300000.0"
      ]
     },
     "execution_count": 109,
     "metadata": {},
     "output_type": "execute_result"
    }
   ],
   "source": [
    "predict_price('Muthaiga Nairobi',3,6)"
   ]
  },
  {
   "cell_type": "code",
   "execution_count": 110,
   "metadata": {},
   "outputs": [],
   "source": [
    "#the model is doing predictions based on the data provided,\n",
    "#not many locations which were provided in the dataset--reason for not being in a position to cover most locations"
   ]
  },
  {
   "cell_type": "code",
   "execution_count": 111,
   "metadata": {},
   "outputs": [],
   "source": [
    "#next i am gonna save my model as a pickle file\n",
    "#save my columns as a json file\n",
    "#n then develop a python flask server to consume this pickle file into to doing predictions on a website"
   ]
  },
  {
   "cell_type": "code",
   "execution_count": 112,
   "metadata": {},
   "outputs": [],
   "source": [
    "import pickle\n",
    "with open('apartment_prices_kenya.pickle','wb') as f:\n",
    "    pickle.dump(model,f)"
   ]
  },
  {
   "cell_type": "code",
   "execution_count": 113,
   "metadata": {},
   "outputs": [],
   "source": [
    "import json\n",
    "columns={\n",
    "    'data_columns':[col.lower() for col in X.columns]\n",
    "}\n",
    "with open('a_columns.jason','w') as f:\n",
    "    f.write(json.dumps(columns))"
   ]
  },
  {
   "cell_type": "code",
   "execution_count": null,
   "metadata": {},
   "outputs": [],
   "source": []
  }
 ],
 "metadata": {
  "kernelspec": {
   "display_name": "Python 3",
   "language": "python",
   "name": "python3"
  },
  "language_info": {
   "codemirror_mode": {
    "name": "ipython",
    "version": 3
   },
   "file_extension": ".py",
   "mimetype": "text/x-python",
   "name": "python",
   "nbconvert_exporter": "python",
   "pygments_lexer": "ipython3",
   "version": "3.8.5"
  }
 },
 "nbformat": 4,
 "nbformat_minor": 4
}
