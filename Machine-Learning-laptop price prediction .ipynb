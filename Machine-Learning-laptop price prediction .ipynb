{
 "cells": [
  {
   "cell_type": "code",
   "execution_count": 46,
   "metadata": {},
   "outputs": [],
   "source": [
    "#Im gonna build a machine learning model for doing laptop price prediction"
   ]
  },
  {
   "cell_type": "code",
   "execution_count": 47,
   "metadata": {},
   "outputs": [],
   "source": [
    "#import libraries\n",
    "import pandas as pd\n",
    "import numpy as np\n",
    "import matplotlib.pyplot as plt\n",
    "import matplotlib\n",
    "matplotlib.rcParams['figure.figsize']=(15,10)"
   ]
  },
  {
   "cell_type": "code",
   "execution_count": 48,
   "metadata": {},
   "outputs": [
    {
     "data": {
      "text/html": [
       "<div>\n",
       "<style scoped>\n",
       "    .dataframe tbody tr th:only-of-type {\n",
       "        vertical-align: middle;\n",
       "    }\n",
       "\n",
       "    .dataframe tbody tr th {\n",
       "        vertical-align: top;\n",
       "    }\n",
       "\n",
       "    .dataframe thead th {\n",
       "        text-align: right;\n",
       "    }\n",
       "</style>\n",
       "<table border=\"1\" class=\"dataframe\">\n",
       "  <thead>\n",
       "    <tr style=\"text-align: right;\">\n",
       "      <th></th>\n",
       "      <th>Unnamed: 0</th>\n",
       "      <th>Name</th>\n",
       "      <th>Processor</th>\n",
       "      <th>RAM</th>\n",
       "      <th>Operating System</th>\n",
       "      <th>Storage</th>\n",
       "      <th>Display</th>\n",
       "      <th>Warranty</th>\n",
       "      <th>Price</th>\n",
       "      <th>rating</th>\n",
       "    </tr>\n",
       "  </thead>\n",
       "  <tbody>\n",
       "    <tr>\n",
       "      <th>0</th>\n",
       "      <td>0</td>\n",
       "      <td>Lenovo Ideapad S145 Core i5 10th Gen - (8 GB/1...</td>\n",
       "      <td>Intel Core i5 Processor (10th Gen)</td>\n",
       "      <td>8 GB DDR4 RAM</td>\n",
       "      <td>64 bit Windows 10 Operating System</td>\n",
       "      <td>1 TB HDD</td>\n",
       "      <td>39.62 cm (15.6 inch) Display</td>\n",
       "      <td>1 Year Onsite Warranty</td>\n",
       "      <td>₹43,990</td>\n",
       "      <td>3.9</td>\n",
       "    </tr>\n",
       "    <tr>\n",
       "      <th>1</th>\n",
       "      <td>1</td>\n",
       "      <td>Lenovo IdeaPad Core i3 11th Gen - (8 GB/256 GB...</td>\n",
       "      <td>Intel Core i3 Processor (11th Gen)</td>\n",
       "      <td>8 GB DDR4 RAM</td>\n",
       "      <td>64 bit Windows 10 Operating System</td>\n",
       "      <td>256 GB SSD</td>\n",
       "      <td>35.56 cm (14 Inch) Display</td>\n",
       "      <td>1 Year Onsite Warranty</td>\n",
       "      <td>₹43,990</td>\n",
       "      <td>4.2</td>\n",
       "    </tr>\n",
       "    <tr>\n",
       "      <th>2</th>\n",
       "      <td>2</td>\n",
       "      <td>HP Pentium Quad Core - (8 GB/256 GB SSD/Window...</td>\n",
       "      <td>Intel Pentium Quad Core Processor</td>\n",
       "      <td>8 GB DDR4 RAM</td>\n",
       "      <td>64 bit Windows 10 Operating System</td>\n",
       "      <td>256 GB SSD</td>\n",
       "      <td>35.56 cm (14 inch) Display</td>\n",
       "      <td>1 Year Onsite Warranty</td>\n",
       "      <td>₹31,490</td>\n",
       "      <td>4.6</td>\n",
       "    </tr>\n",
       "    <tr>\n",
       "      <th>3</th>\n",
       "      <td>3</td>\n",
       "      <td>HP 14s Core i3 11th Gen - (8 GB/256 GB SSD/Win...</td>\n",
       "      <td>Intel Core i3 Processor (11th Gen)</td>\n",
       "      <td>8 GB DDR4 RAM</td>\n",
       "      <td>64 bit Windows 10 Operating System</td>\n",
       "      <td>256 GB SSD</td>\n",
       "      <td>35.56 cm (14 inch) Display</td>\n",
       "      <td>1 Year Onsite Warranty</td>\n",
       "      <td>₹40,990</td>\n",
       "      <td>4.1</td>\n",
       "    </tr>\n",
       "    <tr>\n",
       "      <th>4</th>\n",
       "      <td>4</td>\n",
       "      <td>HP 15s Athlon Dual Core - (4 GB/1 TB HDD/Windo...</td>\n",
       "      <td>AMD Athlon Dual Core Processor</td>\n",
       "      <td>4 GB DDR4 RAM</td>\n",
       "      <td>64 bit Windows 10 Operating System</td>\n",
       "      <td>1 TB HDD</td>\n",
       "      <td>39.62 cm (15.6 inch) Display</td>\n",
       "      <td>1 Year Onsite Warranty</td>\n",
       "      <td>₹27,490</td>\n",
       "      <td>4.1</td>\n",
       "    </tr>\n",
       "  </tbody>\n",
       "</table>\n",
       "</div>"
      ],
      "text/plain": [
       "   Unnamed: 0                                               Name  \\\n",
       "0           0  Lenovo Ideapad S145 Core i5 10th Gen - (8 GB/1...   \n",
       "1           1  Lenovo IdeaPad Core i3 11th Gen - (8 GB/256 GB...   \n",
       "2           2  HP Pentium Quad Core - (8 GB/256 GB SSD/Window...   \n",
       "3           3  HP 14s Core i3 11th Gen - (8 GB/256 GB SSD/Win...   \n",
       "4           4  HP 15s Athlon Dual Core - (4 GB/1 TB HDD/Windo...   \n",
       "\n",
       "                            Processor            RAM  \\\n",
       "0  Intel Core i5 Processor (10th Gen)  8 GB DDR4 RAM   \n",
       "1  Intel Core i3 Processor (11th Gen)  8 GB DDR4 RAM   \n",
       "2   Intel Pentium Quad Core Processor  8 GB DDR4 RAM   \n",
       "3  Intel Core i3 Processor (11th Gen)  8 GB DDR4 RAM   \n",
       "4      AMD Athlon Dual Core Processor  4 GB DDR4 RAM   \n",
       "\n",
       "                     Operating System     Storage  \\\n",
       "0  64 bit Windows 10 Operating System    1 TB HDD   \n",
       "1  64 bit Windows 10 Operating System  256 GB SSD   \n",
       "2  64 bit Windows 10 Operating System  256 GB SSD   \n",
       "3  64 bit Windows 10 Operating System  256 GB SSD   \n",
       "4  64 bit Windows 10 Operating System    1 TB HDD   \n",
       "\n",
       "                        Display                Warranty    Price  rating  \n",
       "0  39.62 cm (15.6 inch) Display  1 Year Onsite Warranty  ₹43,990     3.9  \n",
       "1    35.56 cm (14 Inch) Display  1 Year Onsite Warranty  ₹43,990     4.2  \n",
       "2    35.56 cm (14 inch) Display  1 Year Onsite Warranty  ₹31,490     4.6  \n",
       "3    35.56 cm (14 inch) Display  1 Year Onsite Warranty  ₹40,990     4.1  \n",
       "4  39.62 cm (15.6 inch) Display  1 Year Onsite Warranty  ₹27,490     4.1  "
      ]
     },
     "execution_count": 48,
     "metadata": {},
     "output_type": "execute_result"
    }
   ],
   "source": [
    "#loading the dataset\n",
    "df=pd.read_csv('C://Users/sojore/Documents/laptop price prediction/LaptopPricePrediction.csv')\n",
    "df.head()"
   ]
  },
  {
   "cell_type": "code",
   "execution_count": 49,
   "metadata": {},
   "outputs": [
    {
     "data": {
      "text/plain": [
       "Name\n",
       "acer Predator Helios 300 Core i7 10th Gen - (16 GB/1 TB HDD/256 GB SSD/Windows 10 Home/6 GB Graphics/N...    24\n",
       "MSI GL65 Leopard Core i7 10th Gen - (16 GB/1 TB HDD/256 GB SSD/Windows 10 Home/6 GB Graphics/NVIDIA Ge...    23\n",
       "Lenovo IdeaPad Core i3 11th Gen - (8 GB/256 GB SSD/Windows 10 Home) IdeaPad 3 14ITL6 Thin and Light La...    22\n",
       "Lenovo Ideapad S145 Core i5 10th Gen - (8 GB/1 TB HDD/Windows 10 Home) S145-15IIL Laptop                     22\n",
       "Lenovo Ideapad 5 Ryzen 7 Octa Core 4700U - (8 GB/512 GB SSD/Windows 10 Home) 14ARE05 Thin and Light La...    15\n",
       "                                                                                                             ..\n",
       "HP Pavilion Core i5 11th Gen - (16 GB/512 GB SSD/Windows 10 Home/2 GB Graphics) 14-dv0084TX Thin and L...     1\n",
       "HP Pavilion Core i5 8th Gen - (8 GB/1 TB HDD/128 GB SSD/Windows 10 Home/4 GB Graphics/NVIDIA GeForce G...     1\n",
       "HP Pavilion Core i7 11th Gen - (16 GB/1 TB SSD/Windows 10 Home) 14-dv0058TU Thin and Light Laptop             1\n",
       "HP Pavilion Core i7 9th Gen - (12 GB/1 TB HDD/512 GB SSD/Windows 10 Home/4 GB Graphics/NVIDIA GeForce ...     1\n",
       "DELL XPS 7390 Core i5 10th Gen - (8 GB/512 GB SSD/Windows 10 Home) XPS 7390 Thin and Light Laptop             1\n",
       "Name: Name, Length: 376, dtype: int64"
      ]
     },
     "execution_count": 49,
     "metadata": {},
     "output_type": "execute_result"
    }
   ],
   "source": [
    "#eploring the dataset\n",
    "df.groupby('Name')['Name'].agg('count').sort_values(ascending=False)"
   ]
  },
  {
   "cell_type": "code",
   "execution_count": 50,
   "metadata": {},
   "outputs": [
    {
     "data": {
      "text/plain": [
       "(550, 10)"
      ]
     },
     "execution_count": 50,
     "metadata": {},
     "output_type": "execute_result"
    }
   ],
   "source": [
    "df.shape"
   ]
  },
  {
   "cell_type": "code",
   "execution_count": 51,
   "metadata": {},
   "outputs": [
    {
     "data": {
      "text/plain": [
       "39"
      ]
     },
     "execution_count": 51,
     "metadata": {},
     "output_type": "execute_result"
    }
   ],
   "source": [
    "Processors=df.groupby('Processor')['Processor'].agg('count').sort_values(ascending=False)\n",
    "len(Processors)"
   ]
  },
  {
   "cell_type": "code",
   "execution_count": 52,
   "metadata": {},
   "outputs": [
    {
     "data": {
      "text/plain": [
       "array(['8 GB DDR4 RAM', '4 GB DDR4 RAM', '16 GB DDR4 RAM',\n",
       "       '8 GB LPDDR4X RAM', '8 GB LPDDR3 RAM', '32 GB LPDDR4X RAM',\n",
       "       '16 GB LPDDR4X RAM', '16 GB LPDDR3 RAM', '8 GB DDR3 RAM',\n",
       "       '16 GB DDR3 RAM', '32 GB DDR4 RAM',\n",
       "       'Upgradable SSD Upto 512 GB and RAM Upto 32 GB', '4 GB DDR3 RAM',\n",
       "       '12 GB DDR4 RAM'], dtype=object)"
      ]
     },
     "execution_count": 52,
     "metadata": {},
     "output_type": "execute_result"
    }
   ],
   "source": [
    "df.RAM.unique()"
   ]
  },
  {
   "cell_type": "code",
   "execution_count": 53,
   "metadata": {},
   "outputs": [
    {
     "name": "stdout",
     "output_type": "stream",
     "text": [
      "None\n"
     ]
    }
   ],
   "source": [
    "#i will write a function to split these ram figures to only get the first numerical value e.g '8 GB DDR4 RAM' =8\n",
    "def get_ram(x):\n",
    "    res=x.split(' ')\n",
    "    if len(res)>0:\n",
    "        try:\n",
    "            return int(res[0])\n",
    "        except:\n",
    "            return None\n",
    "#testing the function\n",
    "print(get_ram('re 8 GB DDR4 RAM'))"
   ]
  },
  {
   "cell_type": "code",
   "execution_count": 54,
   "metadata": {},
   "outputs": [
    {
     "data": {
      "text/html": [
       "<div>\n",
       "<style scoped>\n",
       "    .dataframe tbody tr th:only-of-type {\n",
       "        vertical-align: middle;\n",
       "    }\n",
       "\n",
       "    .dataframe tbody tr th {\n",
       "        vertical-align: top;\n",
       "    }\n",
       "\n",
       "    .dataframe thead th {\n",
       "        text-align: right;\n",
       "    }\n",
       "</style>\n",
       "<table border=\"1\" class=\"dataframe\">\n",
       "  <thead>\n",
       "    <tr style=\"text-align: right;\">\n",
       "      <th></th>\n",
       "      <th>Unnamed: 0</th>\n",
       "      <th>Name</th>\n",
       "      <th>Processor</th>\n",
       "      <th>RAM</th>\n",
       "      <th>Operating System</th>\n",
       "      <th>Storage</th>\n",
       "      <th>Display</th>\n",
       "      <th>Warranty</th>\n",
       "      <th>Price</th>\n",
       "      <th>rating</th>\n",
       "    </tr>\n",
       "  </thead>\n",
       "  <tbody>\n",
       "    <tr>\n",
       "      <th>169</th>\n",
       "      <td>169</td>\n",
       "      <td>ASUS VivoBook Core i5 11th Gen - (16 GB/1 TB H...</td>\n",
       "      <td>Intel Core i3 Processor (10th Gen)</td>\n",
       "      <td>16.0</td>\n",
       "      <td>64 bit Windows 10 Operating System</td>\n",
       "      <td>512 GB SSD</td>\n",
       "      <td>31.24 cm (12.3 inch) Touchscreen Display</td>\n",
       "      <td>1 Year International Travelers Warranty (ITW)</td>\n",
       "      <td>₹68,990</td>\n",
       "      <td>4.0</td>\n",
       "    </tr>\n",
       "    <tr>\n",
       "      <th>197</th>\n",
       "      <td>197</td>\n",
       "      <td>APPLE MacBook Pro with Touch Bar Core i5 10th ...</td>\n",
       "      <td>Intel Core i5 Processor (10th Gen)</td>\n",
       "      <td>16.0</td>\n",
       "      <td>Mac OS Operating System</td>\n",
       "      <td>1 TB HDD|256 GB SSD</td>\n",
       "      <td>33.02 cm (13 inch) Display</td>\n",
       "      <td>1 Year Onsite Warranty Commencing from the Dat...</td>\n",
       "      <td>₹1,69,990</td>\n",
       "      <td>4.8</td>\n",
       "    </tr>\n",
       "    <tr>\n",
       "      <th>217</th>\n",
       "      <td>217</td>\n",
       "      <td>MSI Prestige 14 Core i7 10th Gen - (16 GB/512 ...</td>\n",
       "      <td>AMD Ryzen 5 Hexa Core Processor</td>\n",
       "      <td>16.0</td>\n",
       "      <td>64 bit Windows 10 Operating System</td>\n",
       "      <td>1 TB HDD|128 GB SSD</td>\n",
       "      <td>39.62 cm (15.6 inch) Display</td>\n",
       "      <td>1 Year Onsite Warranty</td>\n",
       "      <td>₹99,990</td>\n",
       "      <td>3.9</td>\n",
       "    </tr>\n",
       "  </tbody>\n",
       "</table>\n",
       "</div>"
      ],
      "text/plain": [
       "     Unnamed: 0                                               Name  \\\n",
       "169         169  ASUS VivoBook Core i5 11th Gen - (16 GB/1 TB H...   \n",
       "197         197  APPLE MacBook Pro with Touch Bar Core i5 10th ...   \n",
       "217         217  MSI Prestige 14 Core i7 10th Gen - (16 GB/512 ...   \n",
       "\n",
       "                              Processor   RAM  \\\n",
       "169  Intel Core i3 Processor (10th Gen)  16.0   \n",
       "197  Intel Core i5 Processor (10th Gen)  16.0   \n",
       "217     AMD Ryzen 5 Hexa Core Processor  16.0   \n",
       "\n",
       "                       Operating System              Storage  \\\n",
       "169  64 bit Windows 10 Operating System           512 GB SSD   \n",
       "197             Mac OS Operating System  1 TB HDD|256 GB SSD   \n",
       "217  64 bit Windows 10 Operating System  1 TB HDD|128 GB SSD   \n",
       "\n",
       "                                      Display  \\\n",
       "169  31.24 cm (12.3 inch) Touchscreen Display   \n",
       "197                33.02 cm (13 inch) Display   \n",
       "217              39.62 cm (15.6 inch) Display   \n",
       "\n",
       "                                              Warranty      Price  rating  \n",
       "169      1 Year International Travelers Warranty (ITW)    ₹68,990     4.0  \n",
       "197  1 Year Onsite Warranty Commencing from the Dat...  ₹1,69,990     4.8  \n",
       "217                             1 Year Onsite Warranty    ₹99,990     3.9  "
      ]
     },
     "execution_count": 54,
     "metadata": {},
     "output_type": "execute_result"
    }
   ],
   "source": [
    "df.RAM=df.RAM.apply(get_ram)\n",
    "df.sample(3)"
   ]
  },
  {
   "cell_type": "code",
   "execution_count": 55,
   "metadata": {},
   "outputs": [
    {
     "data": {
      "text/plain": [
       "array([ 8.,  4., 16., 32., nan, 12.])"
      ]
     },
     "execution_count": 55,
     "metadata": {},
     "output_type": "execute_result"
    }
   ],
   "source": [
    "df.RAM.unique()"
   ]
  },
  {
   "cell_type": "code",
   "execution_count": 56,
   "metadata": {},
   "outputs": [
    {
     "data": {
      "text/plain": [
       "Operating System\n",
       "64 bit Chrome Operating System                                                                                               3\n",
       "64 bit Windows 10 Operating System                                                                                         492\n",
       "DOS Operating System                                                                                                         2\n",
       "Mac OS Operating System                                                                                                     20\n",
       "Pre-installed Genuine Windows 10 Operating System (Includes Built-in Security, Free Automated Updates, Latest Features)     11\n",
       "Windows 10 Operating System                                                                                                 22\n",
       "Name: Operating System, dtype: int64"
      ]
     },
     "execution_count": 56,
     "metadata": {},
     "output_type": "execute_result"
    }
   ],
   "source": [
    "df.groupby('Operating System')['Operating System'].agg('count')"
   ]
  },
  {
   "cell_type": "code",
   "execution_count": 57,
   "metadata": {},
   "outputs": [
    {
     "data": {
      "text/plain": [
       "array(['1 TB HDD', '256 GB SSD', '1 TB HDD|256 GB SSD', '512 GB SSD',\n",
       "       '1 TB SSD', 'M.2 Slot for SSD Upgrade',\n",
       "       '128 GB NVMe PCIe 3.0 x4 SSD', '1 TB HDD|128 GB SSD', '128 GB SSD',\n",
       "       '512 GB SSD for Reduced Boot Up Time and in Game Loading',\n",
       "       '1 TB HDD|512 GB SSD',\n",
       "       '128 GB SSD for Reduced Boot Up Time and in Game Loading',\n",
       "       '512 GB HDD|512 GB SSD'], dtype=object)"
      ]
     },
     "execution_count": 57,
     "metadata": {},
     "output_type": "execute_result"
    }
   ],
   "source": [
    "df.Storage.unique()"
   ]
  },
  {
   "cell_type": "code",
   "execution_count": 58,
   "metadata": {},
   "outputs": [
    {
     "data": {
      "text/plain": [
       "1000"
      ]
     },
     "execution_count": 58,
     "metadata": {},
     "output_type": "execute_result"
    }
   ],
   "source": [
    "#i will write a function to return only the storage in GB e.g '1 TB HDD' to return 1000GB\n",
    "def get_gb(x):\n",
    "    res=x.split(' ')\n",
    "    if len(res)>0:\n",
    "        try:\n",
    "            first_index_val=int(res[0])\n",
    "            if first_index_val==1:\n",
    "                return int(first_index_val*1000)\n",
    "            else:\n",
    "                return int(first_index_val)\n",
    "        except:\n",
    "            return None\n",
    "#testing the function\n",
    "get_gb('1 TB HDD')"
   ]
  },
  {
   "cell_type": "code",
   "execution_count": 59,
   "metadata": {},
   "outputs": [
    {
     "data": {
      "text/plain": [
       "128"
      ]
     },
     "execution_count": 59,
     "metadata": {},
     "output_type": "execute_result"
    }
   ],
   "source": [
    "get_gb('128 GB NVMe PCIe 3.0 x4 SSD')"
   ]
  },
  {
   "cell_type": "code",
   "execution_count": 60,
   "metadata": {},
   "outputs": [
    {
     "name": "stdout",
     "output_type": "stream",
     "text": [
      "None\n"
     ]
    }
   ],
   "source": [
    "get_gb('re 128 GB NVMe PCIe 3.0 x4 SSD')\n",
    "print(get_gb('te 128 GB NVMe PCIe 3.0 x4 SSD'))"
   ]
  },
  {
   "cell_type": "code",
   "execution_count": 61,
   "metadata": {},
   "outputs": [
    {
     "data": {
      "text/html": [
       "<div>\n",
       "<style scoped>\n",
       "    .dataframe tbody tr th:only-of-type {\n",
       "        vertical-align: middle;\n",
       "    }\n",
       "\n",
       "    .dataframe tbody tr th {\n",
       "        vertical-align: top;\n",
       "    }\n",
       "\n",
       "    .dataframe thead th {\n",
       "        text-align: right;\n",
       "    }\n",
       "</style>\n",
       "<table border=\"1\" class=\"dataframe\">\n",
       "  <thead>\n",
       "    <tr style=\"text-align: right;\">\n",
       "      <th></th>\n",
       "      <th>Unnamed: 0</th>\n",
       "      <th>Name</th>\n",
       "      <th>Processor</th>\n",
       "      <th>RAM</th>\n",
       "      <th>Operating System</th>\n",
       "      <th>Storage</th>\n",
       "      <th>Display</th>\n",
       "      <th>Warranty</th>\n",
       "      <th>Price</th>\n",
       "      <th>rating</th>\n",
       "    </tr>\n",
       "  </thead>\n",
       "  <tbody>\n",
       "    <tr>\n",
       "      <th>178</th>\n",
       "      <td>178</td>\n",
       "      <td>ASUS Ryzen 7 Octa Core 5700U - (8 GB/512 GB SS...</td>\n",
       "      <td>AMD Ryzen 5 Dual Core Processor</td>\n",
       "      <td>8.0</td>\n",
       "      <td>64 bit Windows 10 Operating System</td>\n",
       "      <td>256.0</td>\n",
       "      <td>39.62 cm (15.6 inch) Display</td>\n",
       "      <td>1 Year Limited Hardware Warranty, In Home Serv...</td>\n",
       "      <td>₹67,551</td>\n",
       "      <td>4.7</td>\n",
       "    </tr>\n",
       "    <tr>\n",
       "      <th>440</th>\n",
       "      <td>440</td>\n",
       "      <td>acer Aspire 5 Core i5 8th Gen - (8 GB + 16 GB ...</td>\n",
       "      <td>Intel Core i7 Processor (10th Gen)</td>\n",
       "      <td>16.0</td>\n",
       "      <td>64 bit Windows 10 Operating System</td>\n",
       "      <td>1000.0</td>\n",
       "      <td>39.62 cm (15.6 inch) Display</td>\n",
       "      <td>2 Year Warranty</td>\n",
       "      <td>₹61,990</td>\n",
       "      <td>3.3</td>\n",
       "    </tr>\n",
       "    <tr>\n",
       "      <th>449</th>\n",
       "      <td>449</td>\n",
       "      <td>DELL Inspiron Core i5 10th Gen - (8 GB/512 GB ...</td>\n",
       "      <td>Intel Core i3 Processor (11th Gen)</td>\n",
       "      <td>4.0</td>\n",
       "      <td>64 bit Windows 10 Operating System</td>\n",
       "      <td>1000.0</td>\n",
       "      <td>39.62 cm (15.6 inch) Display</td>\n",
       "      <td>1 Year Onsite Warranty</td>\n",
       "      <td>₹67,590</td>\n",
       "      <td>3.0</td>\n",
       "    </tr>\n",
       "    <tr>\n",
       "      <th>140</th>\n",
       "      <td>140</td>\n",
       "      <td>ASUS vivobook Flip 14 Core i3 11th Gen - (8 GB...</td>\n",
       "      <td>Intel Core i5 Processor (10th Gen)</td>\n",
       "      <td>8.0</td>\n",
       "      <td>64 bit Windows 10 Operating System</td>\n",
       "      <td>1000.0</td>\n",
       "      <td>35.56 cm (14 inch) Display</td>\n",
       "      <td>1 Year Onsite Warranty</td>\n",
       "      <td>₹49,990</td>\n",
       "      <td>5.0</td>\n",
       "    </tr>\n",
       "    <tr>\n",
       "      <th>420</th>\n",
       "      <td>420</td>\n",
       "      <td>acer P2 Series Core i5 10th Gen - (8 GB/1 TB H...</td>\n",
       "      <td>Intel Core i7 Processor (10th Gen)</td>\n",
       "      <td>16.0</td>\n",
       "      <td>64 bit Windows 10 Operating System</td>\n",
       "      <td>1000.0</td>\n",
       "      <td>35.56 cm (14 inch) Display</td>\n",
       "      <td>1 Year Onsite Warranty</td>\n",
       "      <td>₹49,090</td>\n",
       "      <td>4.1</td>\n",
       "    </tr>\n",
       "  </tbody>\n",
       "</table>\n",
       "</div>"
      ],
      "text/plain": [
       "     Unnamed: 0                                               Name  \\\n",
       "178         178  ASUS Ryzen 7 Octa Core 5700U - (8 GB/512 GB SS...   \n",
       "440         440  acer Aspire 5 Core i5 8th Gen - (8 GB + 16 GB ...   \n",
       "449         449  DELL Inspiron Core i5 10th Gen - (8 GB/512 GB ...   \n",
       "140         140  ASUS vivobook Flip 14 Core i3 11th Gen - (8 GB...   \n",
       "420         420  acer P2 Series Core i5 10th Gen - (8 GB/1 TB H...   \n",
       "\n",
       "                              Processor   RAM  \\\n",
       "178     AMD Ryzen 5 Dual Core Processor   8.0   \n",
       "440  Intel Core i7 Processor (10th Gen)  16.0   \n",
       "449  Intel Core i3 Processor (11th Gen)   4.0   \n",
       "140  Intel Core i5 Processor (10th Gen)   8.0   \n",
       "420  Intel Core i7 Processor (10th Gen)  16.0   \n",
       "\n",
       "                       Operating System  Storage  \\\n",
       "178  64 bit Windows 10 Operating System    256.0   \n",
       "440  64 bit Windows 10 Operating System   1000.0   \n",
       "449  64 bit Windows 10 Operating System   1000.0   \n",
       "140  64 bit Windows 10 Operating System   1000.0   \n",
       "420  64 bit Windows 10 Operating System   1000.0   \n",
       "\n",
       "                          Display  \\\n",
       "178  39.62 cm (15.6 inch) Display   \n",
       "440  39.62 cm (15.6 inch) Display   \n",
       "449  39.62 cm (15.6 inch) Display   \n",
       "140    35.56 cm (14 inch) Display   \n",
       "420    35.56 cm (14 inch) Display   \n",
       "\n",
       "                                              Warranty    Price  rating  \n",
       "178  1 Year Limited Hardware Warranty, In Home Serv...  ₹67,551     4.7  \n",
       "440                                    2 Year Warranty  ₹61,990     3.3  \n",
       "449                             1 Year Onsite Warranty  ₹67,590     3.0  \n",
       "140                             1 Year Onsite Warranty  ₹49,990     5.0  \n",
       "420                             1 Year Onsite Warranty  ₹49,090     4.1  "
      ]
     },
     "execution_count": 61,
     "metadata": {},
     "output_type": "execute_result"
    }
   ],
   "source": [
    "df.Storage=df.Storage.apply(get_gb)\n",
    "df.sample(5)"
   ]
  },
  {
   "cell_type": "code",
   "execution_count": 62,
   "metadata": {},
   "outputs": [
    {
     "name": "stdout",
     "output_type": "stream",
     "text": [
      "35.56\n"
     ]
    }
   ],
   "source": [
    "#i will write a function to convert these Display figures to only get the first numerical value e.g '35.56 cm (14 inch) Display'=35.56\n",
    "def get_display(y):\n",
    "    x=str(y)\n",
    "    res=x.split(' ')\n",
    "    if len(res)>0:\n",
    "        try:\n",
    "            return float(res[0])\n",
    "        except:\n",
    "            return None\n",
    "#testing the function\n",
    "print(get_display('35.56 cm (14 inch) Display'))"
   ]
  },
  {
   "cell_type": "code",
   "execution_count": 63,
   "metadata": {},
   "outputs": [
    {
     "name": "stdout",
     "output_type": "stream",
     "text": [
      "None\n"
     ]
    }
   ],
   "source": [
    "print(get_display('settin 35.56 cm (14 inch) Display'))"
   ]
  },
  {
   "cell_type": "code",
   "execution_count": 64,
   "metadata": {},
   "outputs": [
    {
     "data": {
      "text/html": [
       "<div>\n",
       "<style scoped>\n",
       "    .dataframe tbody tr th:only-of-type {\n",
       "        vertical-align: middle;\n",
       "    }\n",
       "\n",
       "    .dataframe tbody tr th {\n",
       "        vertical-align: top;\n",
       "    }\n",
       "\n",
       "    .dataframe thead th {\n",
       "        text-align: right;\n",
       "    }\n",
       "</style>\n",
       "<table border=\"1\" class=\"dataframe\">\n",
       "  <thead>\n",
       "    <tr style=\"text-align: right;\">\n",
       "      <th></th>\n",
       "      <th>Unnamed: 0</th>\n",
       "      <th>Name</th>\n",
       "      <th>Processor</th>\n",
       "      <th>RAM</th>\n",
       "      <th>Operating System</th>\n",
       "      <th>Storage</th>\n",
       "      <th>Display</th>\n",
       "      <th>Warranty</th>\n",
       "      <th>Price</th>\n",
       "      <th>rating</th>\n",
       "    </tr>\n",
       "  </thead>\n",
       "  <tbody>\n",
       "    <tr>\n",
       "      <th>370</th>\n",
       "      <td>370</td>\n",
       "      <td>ASUS ZenBook Flip 13 Core i5 11th Gen - (8 GB/...</td>\n",
       "      <td>Intel Core i7 Processor (8th Gen)</td>\n",
       "      <td>8.0</td>\n",
       "      <td>64 bit Windows 10 Operating System</td>\n",
       "      <td>512.0</td>\n",
       "      <td>39.62</td>\n",
       "      <td>1 Year Onsite Warranty</td>\n",
       "      <td>₹94,990</td>\n",
       "      <td>4.1</td>\n",
       "    </tr>\n",
       "    <tr>\n",
       "      <th>87</th>\n",
       "      <td>87</td>\n",
       "      <td>Lenovo IdeaPad Core i3 11th Gen - (8 GB/256 GB...</td>\n",
       "      <td>Intel Core i5 Processor (10th Gen)</td>\n",
       "      <td>8.0</td>\n",
       "      <td>64 bit Windows 10 Operating System</td>\n",
       "      <td>512.0</td>\n",
       "      <td>33.78</td>\n",
       "      <td>1 Year Onsite Warranty</td>\n",
       "      <td>₹43,990</td>\n",
       "      <td>4.4</td>\n",
       "    </tr>\n",
       "    <tr>\n",
       "      <th>390</th>\n",
       "      <td>390</td>\n",
       "      <td>acer Predator Helios 300 Core i5 7th Gen - (8 ...</td>\n",
       "      <td>Intel Core i5 Processor (11th Gen)</td>\n",
       "      <td>NaN</td>\n",
       "      <td>64 bit Windows 10 Operating System</td>\n",
       "      <td>256.0</td>\n",
       "      <td>33.78</td>\n",
       "      <td>1 Year Limited Hardware Warranty, In Home Serv...</td>\n",
       "      <td>₹1,29,999</td>\n",
       "      <td>1.0</td>\n",
       "    </tr>\n",
       "    <tr>\n",
       "      <th>486</th>\n",
       "      <td>486</td>\n",
       "      <td>ASUS Ryzen 5 Quad Core 3500U - (8 GB/512 GB SS...</td>\n",
       "      <td>Intel Core i5 Processor (8th Gen)</td>\n",
       "      <td>16.0</td>\n",
       "      <td>64 bit Windows 10 Operating System</td>\n",
       "      <td>512.0</td>\n",
       "      <td>NaN</td>\n",
       "      <td>1 Year International Travelers Warranty (ITW)</td>\n",
       "      <td>₹47,590</td>\n",
       "      <td>4.2</td>\n",
       "    </tr>\n",
       "  </tbody>\n",
       "</table>\n",
       "</div>"
      ],
      "text/plain": [
       "     Unnamed: 0                                               Name  \\\n",
       "370         370  ASUS ZenBook Flip 13 Core i5 11th Gen - (8 GB/...   \n",
       "87           87  Lenovo IdeaPad Core i3 11th Gen - (8 GB/256 GB...   \n",
       "390         390  acer Predator Helios 300 Core i5 7th Gen - (8 ...   \n",
       "486         486  ASUS Ryzen 5 Quad Core 3500U - (8 GB/512 GB SS...   \n",
       "\n",
       "                              Processor   RAM  \\\n",
       "370   Intel Core i7 Processor (8th Gen)   8.0   \n",
       "87   Intel Core i5 Processor (10th Gen)   8.0   \n",
       "390  Intel Core i5 Processor (11th Gen)   NaN   \n",
       "486   Intel Core i5 Processor (8th Gen)  16.0   \n",
       "\n",
       "                       Operating System  Storage  Display  \\\n",
       "370  64 bit Windows 10 Operating System    512.0    39.62   \n",
       "87   64 bit Windows 10 Operating System    512.0    33.78   \n",
       "390  64 bit Windows 10 Operating System    256.0    33.78   \n",
       "486  64 bit Windows 10 Operating System    512.0      NaN   \n",
       "\n",
       "                                              Warranty      Price  rating  \n",
       "370                             1 Year Onsite Warranty    ₹94,990     4.1  \n",
       "87                              1 Year Onsite Warranty    ₹43,990     4.4  \n",
       "390  1 Year Limited Hardware Warranty, In Home Serv...  ₹1,29,999     1.0  \n",
       "486      1 Year International Travelers Warranty (ITW)    ₹47,590     4.2  "
      ]
     },
     "execution_count": 64,
     "metadata": {},
     "output_type": "execute_result"
    }
   ],
   "source": [
    "df.Display=df.Display.apply(get_display)\n",
    "df.sample(4)"
   ]
  },
  {
   "cell_type": "code",
   "execution_count": 65,
   "metadata": {},
   "outputs": [
    {
     "data": {
      "text/plain": [
       "array([39.62, 35.56,   nan, 29.46, 33.78, 15.6 , 33.02, 34.04, 40.64,\n",
       "       31.24, 38.1 , 34.54, 43.94, 34.29, 30.48, 25.65, 25.4 ])"
      ]
     },
     "execution_count": 65,
     "metadata": {},
     "output_type": "execute_result"
    }
   ],
   "source": [
    "df.Display.unique()"
   ]
  },
  {
   "cell_type": "code",
   "execution_count": 66,
   "metadata": {},
   "outputs": [
    {
     "name": "stdout",
     "output_type": "stream",
     "text": [
      "1\n"
     ]
    }
   ],
   "source": [
    "#i will write a function to convert these Warranty figures to only get the first numerical value e.g '1 Year Onsite Warranty'=1\n",
    "def get_warranty(y):\n",
    "    x=str(y)\n",
    "    res=x.split(' ')\n",
    "    if len(res)>0:\n",
    "        try:\n",
    "            return int(res[0])\n",
    "        except:\n",
    "            return None\n",
    "#testing the function\n",
    "print(get_warranty('1 Year Onsite Warranty'))"
   ]
  },
  {
   "cell_type": "code",
   "execution_count": 67,
   "metadata": {},
   "outputs": [
    {
     "data": {
      "text/html": [
       "<div>\n",
       "<style scoped>\n",
       "    .dataframe tbody tr th:only-of-type {\n",
       "        vertical-align: middle;\n",
       "    }\n",
       "\n",
       "    .dataframe tbody tr th {\n",
       "        vertical-align: top;\n",
       "    }\n",
       "\n",
       "    .dataframe thead th {\n",
       "        text-align: right;\n",
       "    }\n",
       "</style>\n",
       "<table border=\"1\" class=\"dataframe\">\n",
       "  <thead>\n",
       "    <tr style=\"text-align: right;\">\n",
       "      <th></th>\n",
       "      <th>Unnamed: 0</th>\n",
       "      <th>Name</th>\n",
       "      <th>Processor</th>\n",
       "      <th>RAM</th>\n",
       "      <th>Operating System</th>\n",
       "      <th>Storage</th>\n",
       "      <th>Display</th>\n",
       "      <th>Warranty</th>\n",
       "      <th>Price</th>\n",
       "      <th>rating</th>\n",
       "    </tr>\n",
       "  </thead>\n",
       "  <tbody>\n",
       "    <tr>\n",
       "      <th>0</th>\n",
       "      <td>0</td>\n",
       "      <td>Lenovo Ideapad S145 Core i5 10th Gen - (8 GB/1...</td>\n",
       "      <td>Intel Core i5 Processor (10th Gen)</td>\n",
       "      <td>8.0</td>\n",
       "      <td>64 bit Windows 10 Operating System</td>\n",
       "      <td>1000.0</td>\n",
       "      <td>39.62</td>\n",
       "      <td>1.0</td>\n",
       "      <td>₹43,990</td>\n",
       "      <td>3.9</td>\n",
       "    </tr>\n",
       "    <tr>\n",
       "      <th>1</th>\n",
       "      <td>1</td>\n",
       "      <td>Lenovo IdeaPad Core i3 11th Gen - (8 GB/256 GB...</td>\n",
       "      <td>Intel Core i3 Processor (11th Gen)</td>\n",
       "      <td>8.0</td>\n",
       "      <td>64 bit Windows 10 Operating System</td>\n",
       "      <td>256.0</td>\n",
       "      <td>35.56</td>\n",
       "      <td>1.0</td>\n",
       "      <td>₹43,990</td>\n",
       "      <td>4.2</td>\n",
       "    </tr>\n",
       "    <tr>\n",
       "      <th>2</th>\n",
       "      <td>2</td>\n",
       "      <td>HP Pentium Quad Core - (8 GB/256 GB SSD/Window...</td>\n",
       "      <td>Intel Pentium Quad Core Processor</td>\n",
       "      <td>8.0</td>\n",
       "      <td>64 bit Windows 10 Operating System</td>\n",
       "      <td>256.0</td>\n",
       "      <td>35.56</td>\n",
       "      <td>1.0</td>\n",
       "      <td>₹31,490</td>\n",
       "      <td>4.6</td>\n",
       "    </tr>\n",
       "    <tr>\n",
       "      <th>3</th>\n",
       "      <td>3</td>\n",
       "      <td>HP 14s Core i3 11th Gen - (8 GB/256 GB SSD/Win...</td>\n",
       "      <td>Intel Core i3 Processor (11th Gen)</td>\n",
       "      <td>8.0</td>\n",
       "      <td>64 bit Windows 10 Operating System</td>\n",
       "      <td>256.0</td>\n",
       "      <td>35.56</td>\n",
       "      <td>1.0</td>\n",
       "      <td>₹40,990</td>\n",
       "      <td>4.1</td>\n",
       "    </tr>\n",
       "  </tbody>\n",
       "</table>\n",
       "</div>"
      ],
      "text/plain": [
       "   Unnamed: 0                                               Name  \\\n",
       "0           0  Lenovo Ideapad S145 Core i5 10th Gen - (8 GB/1...   \n",
       "1           1  Lenovo IdeaPad Core i3 11th Gen - (8 GB/256 GB...   \n",
       "2           2  HP Pentium Quad Core - (8 GB/256 GB SSD/Window...   \n",
       "3           3  HP 14s Core i3 11th Gen - (8 GB/256 GB SSD/Win...   \n",
       "\n",
       "                            Processor  RAM  \\\n",
       "0  Intel Core i5 Processor (10th Gen)  8.0   \n",
       "1  Intel Core i3 Processor (11th Gen)  8.0   \n",
       "2   Intel Pentium Quad Core Processor  8.0   \n",
       "3  Intel Core i3 Processor (11th Gen)  8.0   \n",
       "\n",
       "                     Operating System  Storage  Display  Warranty    Price  \\\n",
       "0  64 bit Windows 10 Operating System   1000.0    39.62       1.0  ₹43,990   \n",
       "1  64 bit Windows 10 Operating System    256.0    35.56       1.0  ₹43,990   \n",
       "2  64 bit Windows 10 Operating System    256.0    35.56       1.0  ₹31,490   \n",
       "3  64 bit Windows 10 Operating System    256.0    35.56       1.0  ₹40,990   \n",
       "\n",
       "   rating  \n",
       "0     3.9  \n",
       "1     4.2  \n",
       "2     4.6  \n",
       "3     4.1  "
      ]
     },
     "execution_count": 67,
     "metadata": {},
     "output_type": "execute_result"
    }
   ],
   "source": [
    "df.Warranty=df.Warranty.apply(get_warranty)\n",
    "df.head(4)"
   ]
  },
  {
   "cell_type": "code",
   "execution_count": 68,
   "metadata": {},
   "outputs": [
    {
     "data": {
      "text/html": [
       "<div>\n",
       "<style scoped>\n",
       "    .dataframe tbody tr th:only-of-type {\n",
       "        vertical-align: middle;\n",
       "    }\n",
       "\n",
       "    .dataframe tbody tr th {\n",
       "        vertical-align: top;\n",
       "    }\n",
       "\n",
       "    .dataframe thead th {\n",
       "        text-align: right;\n",
       "    }\n",
       "</style>\n",
       "<table border=\"1\" class=\"dataframe\">\n",
       "  <thead>\n",
       "    <tr style=\"text-align: right;\">\n",
       "      <th></th>\n",
       "      <th>Unnamed: 0</th>\n",
       "      <th>Name</th>\n",
       "      <th>Processor</th>\n",
       "      <th>RAM</th>\n",
       "      <th>Operating System</th>\n",
       "      <th>Storage</th>\n",
       "      <th>Display</th>\n",
       "      <th>Warranty</th>\n",
       "      <th>Price</th>\n",
       "      <th>rating</th>\n",
       "    </tr>\n",
       "  </thead>\n",
       "  <tbody>\n",
       "    <tr>\n",
       "      <th>0</th>\n",
       "      <td>0</td>\n",
       "      <td>Lenovo Ideapad S145 Core i5 10th Gen - (8 GB/1...</td>\n",
       "      <td>Intel Core i5 Processor (10th Gen)</td>\n",
       "      <td>8.0</td>\n",
       "      <td>64 bit Windows 10 Operating System</td>\n",
       "      <td>1000.0</td>\n",
       "      <td>39.62</td>\n",
       "      <td>1.0</td>\n",
       "      <td>43,990</td>\n",
       "      <td>3.9</td>\n",
       "    </tr>\n",
       "    <tr>\n",
       "      <th>1</th>\n",
       "      <td>1</td>\n",
       "      <td>Lenovo IdeaPad Core i3 11th Gen - (8 GB/256 GB...</td>\n",
       "      <td>Intel Core i3 Processor (11th Gen)</td>\n",
       "      <td>8.0</td>\n",
       "      <td>64 bit Windows 10 Operating System</td>\n",
       "      <td>256.0</td>\n",
       "      <td>35.56</td>\n",
       "      <td>1.0</td>\n",
       "      <td>43,990</td>\n",
       "      <td>4.2</td>\n",
       "    </tr>\n",
       "    <tr>\n",
       "      <th>2</th>\n",
       "      <td>2</td>\n",
       "      <td>HP Pentium Quad Core - (8 GB/256 GB SSD/Window...</td>\n",
       "      <td>Intel Pentium Quad Core Processor</td>\n",
       "      <td>8.0</td>\n",
       "      <td>64 bit Windows 10 Operating System</td>\n",
       "      <td>256.0</td>\n",
       "      <td>35.56</td>\n",
       "      <td>1.0</td>\n",
       "      <td>31,490</td>\n",
       "      <td>4.6</td>\n",
       "    </tr>\n",
       "    <tr>\n",
       "      <th>3</th>\n",
       "      <td>3</td>\n",
       "      <td>HP 14s Core i3 11th Gen - (8 GB/256 GB SSD/Win...</td>\n",
       "      <td>Intel Core i3 Processor (11th Gen)</td>\n",
       "      <td>8.0</td>\n",
       "      <td>64 bit Windows 10 Operating System</td>\n",
       "      <td>256.0</td>\n",
       "      <td>35.56</td>\n",
       "      <td>1.0</td>\n",
       "      <td>40,990</td>\n",
       "      <td>4.1</td>\n",
       "    </tr>\n",
       "    <tr>\n",
       "      <th>4</th>\n",
       "      <td>4</td>\n",
       "      <td>HP 15s Athlon Dual Core - (4 GB/1 TB HDD/Windo...</td>\n",
       "      <td>AMD Athlon Dual Core Processor</td>\n",
       "      <td>4.0</td>\n",
       "      <td>64 bit Windows 10 Operating System</td>\n",
       "      <td>1000.0</td>\n",
       "      <td>39.62</td>\n",
       "      <td>1.0</td>\n",
       "      <td>27,490</td>\n",
       "      <td>4.1</td>\n",
       "    </tr>\n",
       "  </tbody>\n",
       "</table>\n",
       "</div>"
      ],
      "text/plain": [
       "   Unnamed: 0                                               Name  \\\n",
       "0           0  Lenovo Ideapad S145 Core i5 10th Gen - (8 GB/1...   \n",
       "1           1  Lenovo IdeaPad Core i3 11th Gen - (8 GB/256 GB...   \n",
       "2           2  HP Pentium Quad Core - (8 GB/256 GB SSD/Window...   \n",
       "3           3  HP 14s Core i3 11th Gen - (8 GB/256 GB SSD/Win...   \n",
       "4           4  HP 15s Athlon Dual Core - (4 GB/1 TB HDD/Windo...   \n",
       "\n",
       "                            Processor  RAM  \\\n",
       "0  Intel Core i5 Processor (10th Gen)  8.0   \n",
       "1  Intel Core i3 Processor (11th Gen)  8.0   \n",
       "2   Intel Pentium Quad Core Processor  8.0   \n",
       "3  Intel Core i3 Processor (11th Gen)  8.0   \n",
       "4      AMD Athlon Dual Core Processor  4.0   \n",
       "\n",
       "                     Operating System  Storage  Display  Warranty    Price  \\\n",
       "0  64 bit Windows 10 Operating System   1000.0    39.62       1.0   43,990   \n",
       "1  64 bit Windows 10 Operating System    256.0    35.56       1.0   43,990   \n",
       "2  64 bit Windows 10 Operating System    256.0    35.56       1.0   31,490   \n",
       "3  64 bit Windows 10 Operating System    256.0    35.56       1.0   40,990   \n",
       "4  64 bit Windows 10 Operating System   1000.0    39.62       1.0   27,490   \n",
       "\n",
       "   rating  \n",
       "0     3.9  \n",
       "1     4.2  \n",
       "2     4.6  \n",
       "3     4.1  \n",
       "4     4.1  "
      ]
     },
     "execution_count": 68,
     "metadata": {},
     "output_type": "execute_result"
    }
   ],
   "source": [
    "df.Price=df.Price.replace(['₹'],' ',regex=True)\n",
    "df.head()"
   ]
  },
  {
   "cell_type": "code",
   "execution_count": 69,
   "metadata": {},
   "outputs": [
    {
     "name": "stdout",
     "output_type": "stream",
     "text": [
      "43990.0\n"
     ]
    }
   ],
   "source": [
    "def get_price(x):\n",
    "    y=str(x)\n",
    "    res=y.split(',')\n",
    "    if len(res)>0:\n",
    "        try:\n",
    "            return float(res[0]+res[1])\n",
    "        except:\n",
    "            return None\n",
    "t=get_price('43,990')\n",
    "print(t)"
   ]
  },
  {
   "cell_type": "code",
   "execution_count": 70,
   "metadata": {},
   "outputs": [
    {
     "data": {
      "text/html": [
       "<div>\n",
       "<style scoped>\n",
       "    .dataframe tbody tr th:only-of-type {\n",
       "        vertical-align: middle;\n",
       "    }\n",
       "\n",
       "    .dataframe tbody tr th {\n",
       "        vertical-align: top;\n",
       "    }\n",
       "\n",
       "    .dataframe thead th {\n",
       "        text-align: right;\n",
       "    }\n",
       "</style>\n",
       "<table border=\"1\" class=\"dataframe\">\n",
       "  <thead>\n",
       "    <tr style=\"text-align: right;\">\n",
       "      <th></th>\n",
       "      <th>Unnamed: 0</th>\n",
       "      <th>Name</th>\n",
       "      <th>Processor</th>\n",
       "      <th>RAM</th>\n",
       "      <th>Operating System</th>\n",
       "      <th>Storage</th>\n",
       "      <th>Display</th>\n",
       "      <th>Warranty</th>\n",
       "      <th>Price</th>\n",
       "      <th>rating</th>\n",
       "    </tr>\n",
       "  </thead>\n",
       "  <tbody>\n",
       "    <tr>\n",
       "      <th>333</th>\n",
       "      <td>333</td>\n",
       "      <td>DELL Inspiron Core i5 10th Gen - (8 GB/512 GB ...</td>\n",
       "      <td>Intel Core i5 Processor (10th Gen)</td>\n",
       "      <td>8.0</td>\n",
       "      <td>64 bit Windows 10 Operating System</td>\n",
       "      <td>1000.0</td>\n",
       "      <td>39.62</td>\n",
       "      <td>1.0</td>\n",
       "      <td>76990.0</td>\n",
       "      <td>5.0</td>\n",
       "    </tr>\n",
       "    <tr>\n",
       "      <th>195</th>\n",
       "      <td>195</td>\n",
       "      <td>Lenovo Ideapad S145 Core i5 10th Gen - (8 GB/1...</td>\n",
       "      <td>Intel Core i5 Processor (11th Gen)</td>\n",
       "      <td>8.0</td>\n",
       "      <td>64 bit Windows 10 Operating System</td>\n",
       "      <td>1000.0</td>\n",
       "      <td>35.56</td>\n",
       "      <td>1.0</td>\n",
       "      <td>43990.0</td>\n",
       "      <td>4.2</td>\n",
       "    </tr>\n",
       "    <tr>\n",
       "      <th>61</th>\n",
       "      <td>61</td>\n",
       "      <td>MSI GF63 Thin Core i5 9th Gen - (8 GB/1 TB HDD...</td>\n",
       "      <td>Intel Core i5 Processor (11th Gen)</td>\n",
       "      <td>8.0</td>\n",
       "      <td>64 bit Windows 10 Operating System</td>\n",
       "      <td>512.0</td>\n",
       "      <td>15.60</td>\n",
       "      <td>1.0</td>\n",
       "      <td>51990.0</td>\n",
       "      <td>4.0</td>\n",
       "    </tr>\n",
       "    <tr>\n",
       "      <th>267</th>\n",
       "      <td>267</td>\n",
       "      <td>Lenovo Ideapad S145 Core i5 10th Gen - (8 GB/1...</td>\n",
       "      <td>Intel Core i5 Processor (11th Gen)</td>\n",
       "      <td>8.0</td>\n",
       "      <td>Mac OS Operating System</td>\n",
       "      <td>512.0</td>\n",
       "      <td>39.62</td>\n",
       "      <td>2.0</td>\n",
       "      <td>43990.0</td>\n",
       "      <td>4.0</td>\n",
       "    </tr>\n",
       "    <tr>\n",
       "      <th>331</th>\n",
       "      <td>331</td>\n",
       "      <td>MSI GL65 Leopard Core i7 10th Gen - (16 GB/1 T...</td>\n",
       "      <td>Intel Core i7 Processor (11th Gen)</td>\n",
       "      <td>16.0</td>\n",
       "      <td>64 bit Windows 10 Operating System</td>\n",
       "      <td>512.0</td>\n",
       "      <td>39.62</td>\n",
       "      <td>3.0</td>\n",
       "      <td>109.0</td>\n",
       "      <td>5.0</td>\n",
       "    </tr>\n",
       "  </tbody>\n",
       "</table>\n",
       "</div>"
      ],
      "text/plain": [
       "     Unnamed: 0                                               Name  \\\n",
       "333         333  DELL Inspiron Core i5 10th Gen - (8 GB/512 GB ...   \n",
       "195         195  Lenovo Ideapad S145 Core i5 10th Gen - (8 GB/1...   \n",
       "61           61  MSI GF63 Thin Core i5 9th Gen - (8 GB/1 TB HDD...   \n",
       "267         267  Lenovo Ideapad S145 Core i5 10th Gen - (8 GB/1...   \n",
       "331         331  MSI GL65 Leopard Core i7 10th Gen - (16 GB/1 T...   \n",
       "\n",
       "                              Processor   RAM  \\\n",
       "333  Intel Core i5 Processor (10th Gen)   8.0   \n",
       "195  Intel Core i5 Processor (11th Gen)   8.0   \n",
       "61   Intel Core i5 Processor (11th Gen)   8.0   \n",
       "267  Intel Core i5 Processor (11th Gen)   8.0   \n",
       "331  Intel Core i7 Processor (11th Gen)  16.0   \n",
       "\n",
       "                       Operating System  Storage  Display  Warranty    Price  \\\n",
       "333  64 bit Windows 10 Operating System   1000.0    39.62       1.0  76990.0   \n",
       "195  64 bit Windows 10 Operating System   1000.0    35.56       1.0  43990.0   \n",
       "61   64 bit Windows 10 Operating System    512.0    15.60       1.0  51990.0   \n",
       "267             Mac OS Operating System    512.0    39.62       2.0  43990.0   \n",
       "331  64 bit Windows 10 Operating System    512.0    39.62       3.0    109.0   \n",
       "\n",
       "     rating  \n",
       "333     5.0  \n",
       "195     4.2  \n",
       "61      4.0  \n",
       "267     4.0  \n",
       "331     5.0  "
      ]
     },
     "execution_count": 70,
     "metadata": {},
     "output_type": "execute_result"
    }
   ],
   "source": [
    "df.Price=df.Price.apply(get_price)\n",
    "df.sample(5)"
   ]
  },
  {
   "cell_type": "code",
   "execution_count": 71,
   "metadata": {},
   "outputs": [
    {
     "data": {
      "text/plain": [
       "dtype('float64')"
      ]
     },
     "execution_count": 71,
     "metadata": {},
     "output_type": "execute_result"
    }
   ],
   "source": [
    "df.Price.dtypes"
   ]
  },
  {
   "cell_type": "code",
   "execution_count": 72,
   "metadata": {},
   "outputs": [
    {
     "data": {
      "text/plain": [
       "Unnamed: 0           0\n",
       "Name                 0\n",
       "Processor            0\n",
       "RAM                  1\n",
       "Operating System     0\n",
       "Storage              1\n",
       "Display             35\n",
       "Warranty             2\n",
       "Price                0\n",
       "rating               0\n",
       "dtype: int64"
      ]
     },
     "execution_count": 72,
     "metadata": {},
     "output_type": "execute_result"
    }
   ],
   "source": [
    "df.isna().sum()"
   ]
  },
  {
   "cell_type": "code",
   "execution_count": 73,
   "metadata": {},
   "outputs": [
    {
     "data": {
      "text/plain": [
       "Unnamed: 0          0\n",
       "Name                0\n",
       "Processor           0\n",
       "RAM                 0\n",
       "Operating System    0\n",
       "Storage             0\n",
       "Display             0\n",
       "Warranty            0\n",
       "Price               0\n",
       "rating              0\n",
       "dtype: int64"
      ]
     },
     "execution_count": 73,
     "metadata": {},
     "output_type": "execute_result"
    }
   ],
   "source": [
    "#im just drop all these nan values\n",
    "df1=df.dropna()\n",
    "df1.isnull().sum()"
   ]
  },
  {
   "cell_type": "code",
   "execution_count": 74,
   "metadata": {},
   "outputs": [
    {
     "data": {
      "text/plain": [
       "(511, 10)"
      ]
     },
     "execution_count": 74,
     "metadata": {},
     "output_type": "execute_result"
    }
   ],
   "source": [
    "df1.shape"
   ]
  },
  {
   "cell_type": "code",
   "execution_count": 75,
   "metadata": {},
   "outputs": [
    {
     "name": "stderr",
     "output_type": "stream",
     "text": [
      "<ipython-input-75-9bb892cb7c64>:2: SettingWithCopyWarning: \n",
      "A value is trying to be set on a copy of a slice from a DataFrame.\n",
      "Try using .loc[row_indexer,col_indexer] = value instead\n",
      "\n",
      "See the caveats in the documentation: https://pandas.pydata.org/pandas-docs/stable/user_guide/indexing.html#returning-a-view-versus-a-copy\n",
      "  df1['price_per_ram*storage']=df1['Price']/(df1['RAM']*df1['Storage'])\n"
     ]
    },
    {
     "data": {
      "text/html": [
       "<div>\n",
       "<style scoped>\n",
       "    .dataframe tbody tr th:only-of-type {\n",
       "        vertical-align: middle;\n",
       "    }\n",
       "\n",
       "    .dataframe tbody tr th {\n",
       "        vertical-align: top;\n",
       "    }\n",
       "\n",
       "    .dataframe thead th {\n",
       "        text-align: right;\n",
       "    }\n",
       "</style>\n",
       "<table border=\"1\" class=\"dataframe\">\n",
       "  <thead>\n",
       "    <tr style=\"text-align: right;\">\n",
       "      <th></th>\n",
       "      <th>Unnamed: 0</th>\n",
       "      <th>Name</th>\n",
       "      <th>Processor</th>\n",
       "      <th>RAM</th>\n",
       "      <th>Operating System</th>\n",
       "      <th>Storage</th>\n",
       "      <th>Display</th>\n",
       "      <th>Warranty</th>\n",
       "      <th>Price</th>\n",
       "      <th>rating</th>\n",
       "      <th>price_per_ram*storage</th>\n",
       "    </tr>\n",
       "  </thead>\n",
       "  <tbody>\n",
       "    <tr>\n",
       "      <th>215</th>\n",
       "      <td>215</td>\n",
       "      <td>Lenovo IdeaPad Ryzen 7 Octa Core 5700U - (16 G...</td>\n",
       "      <td>Intel Core i3 Processor (11th Gen)</td>\n",
       "      <td>16.0</td>\n",
       "      <td>64 bit Windows 10 Operating System</td>\n",
       "      <td>512.0</td>\n",
       "      <td>33.02</td>\n",
       "      <td>1.0</td>\n",
       "      <td>67990.0</td>\n",
       "      <td>4.8</td>\n",
       "      <td>8.299561</td>\n",
       "    </tr>\n",
       "    <tr>\n",
       "      <th>40</th>\n",
       "      <td>40</td>\n",
       "      <td>ASUS Core i3 10th Gen - (4 GB/512 GB SSD/Windo...</td>\n",
       "      <td>Intel Core i5 Processor (11th Gen)</td>\n",
       "      <td>4.0</td>\n",
       "      <td>64 bit Windows 10 Operating System</td>\n",
       "      <td>512.0</td>\n",
       "      <td>39.62</td>\n",
       "      <td>1.0</td>\n",
       "      <td>38990.0</td>\n",
       "      <td>3.4</td>\n",
       "      <td>19.038086</td>\n",
       "    </tr>\n",
       "    <tr>\n",
       "      <th>127</th>\n",
       "      <td>127</td>\n",
       "      <td>Lenovo Ideapad S145 Core i5 10th Gen - (8 GB/1...</td>\n",
       "      <td>AMD Ryzen 7 Octa Core Processor</td>\n",
       "      <td>8.0</td>\n",
       "      <td>64 bit Windows 10 Operating System</td>\n",
       "      <td>512.0</td>\n",
       "      <td>35.56</td>\n",
       "      <td>1.0</td>\n",
       "      <td>43990.0</td>\n",
       "      <td>4.5</td>\n",
       "      <td>10.739746</td>\n",
       "    </tr>\n",
       "    <tr>\n",
       "      <th>530</th>\n",
       "      <td>530</td>\n",
       "      <td>acer NITRO 5 Ryzen 5 Hexa Core 5600H - (8 GB/1...</td>\n",
       "      <td>Intel Core i5 Processor (11th Gen)</td>\n",
       "      <td>4.0</td>\n",
       "      <td>64 bit Windows 10 Operating System</td>\n",
       "      <td>1000.0</td>\n",
       "      <td>39.62</td>\n",
       "      <td>1.0</td>\n",
       "      <td>81900.0</td>\n",
       "      <td>1.0</td>\n",
       "      <td>20.475000</td>\n",
       "    </tr>\n",
       "  </tbody>\n",
       "</table>\n",
       "</div>"
      ],
      "text/plain": [
       "     Unnamed: 0                                               Name  \\\n",
       "215         215  Lenovo IdeaPad Ryzen 7 Octa Core 5700U - (16 G...   \n",
       "40           40  ASUS Core i3 10th Gen - (4 GB/512 GB SSD/Windo...   \n",
       "127         127  Lenovo Ideapad S145 Core i5 10th Gen - (8 GB/1...   \n",
       "530         530  acer NITRO 5 Ryzen 5 Hexa Core 5600H - (8 GB/1...   \n",
       "\n",
       "                              Processor   RAM  \\\n",
       "215  Intel Core i3 Processor (11th Gen)  16.0   \n",
       "40   Intel Core i5 Processor (11th Gen)   4.0   \n",
       "127     AMD Ryzen 7 Octa Core Processor   8.0   \n",
       "530  Intel Core i5 Processor (11th Gen)   4.0   \n",
       "\n",
       "                       Operating System  Storage  Display  Warranty    Price  \\\n",
       "215  64 bit Windows 10 Operating System    512.0    33.02       1.0  67990.0   \n",
       "40   64 bit Windows 10 Operating System    512.0    39.62       1.0  38990.0   \n",
       "127  64 bit Windows 10 Operating System    512.0    35.56       1.0  43990.0   \n",
       "530  64 bit Windows 10 Operating System   1000.0    39.62       1.0  81900.0   \n",
       "\n",
       "     rating  price_per_ram*storage  \n",
       "215     4.8               8.299561  \n",
       "40      3.4              19.038086  \n",
       "127     4.5              10.739746  \n",
       "530     1.0              20.475000  "
      ]
     },
     "execution_count": 75,
     "metadata": {},
     "output_type": "execute_result"
    }
   ],
   "source": [
    "#handling outliers\n",
    "df1['price_per_ram*storage']=df1['Price']/(df1['RAM']*df1['Storage'])\n",
    "df1.sample(4)"
   ]
  },
  {
   "cell_type": "code",
   "execution_count": 76,
   "metadata": {},
   "outputs": [
    {
     "data": {
      "text/plain": [
       "<function matplotlib.pyplot.show(close=None, block=None)>"
      ]
     },
     "execution_count": 76,
     "metadata": {},
     "output_type": "execute_result"
    },
    {
     "data": {
      "image/png": "[encoded data removed]",
      "text/plain": [
       "<Figure size 1080x720 with 1 Axes>"
      ]
     },
     "metadata": {
      "needs_background": "light"
     },
     "output_type": "display_data"
    }
   ],
   "source": [
    "plt.hist(df1.Price,rwidth=0.8)\n",
    "plt.show"
   ]
  },
  {
   "cell_type": "code",
   "execution_count": 77,
   "metadata": {},
   "outputs": [
    {
     "data": {
      "text/plain": [
       "<function matplotlib.pyplot.show(close=None, block=None)>"
      ]
     },
     "execution_count": 77,
     "metadata": {},
     "output_type": "execute_result"
    },
    {
     "data": {
      "image/png": "[encoded data removed]",
      "text/plain": [
       "<Figure size 1080x720 with 1 Axes>"
      ]
     },
     "metadata": {
      "needs_background": "light"
     },
     "output_type": "display_data"
    }
   ],
   "source": [
    "plt.hist(df1['price_per_ram*storage'],rwidth=0.8)\n",
    "plt.show"
   ]
  },
  {
   "cell_type": "code",
   "execution_count": 78,
   "metadata": {},
   "outputs": [
    {
     "data": {
      "text/html": [
       "<div>\n",
       "<style scoped>\n",
       "    .dataframe tbody tr th:only-of-type {\n",
       "        vertical-align: middle;\n",
       "    }\n",
       "\n",
       "    .dataframe tbody tr th {\n",
       "        vertical-align: top;\n",
       "    }\n",
       "\n",
       "    .dataframe thead th {\n",
       "        text-align: right;\n",
       "    }\n",
       "</style>\n",
       "<table border=\"1\" class=\"dataframe\">\n",
       "  <thead>\n",
       "    <tr style=\"text-align: right;\">\n",
       "      <th></th>\n",
       "      <th>Unnamed: 0</th>\n",
       "      <th>Name</th>\n",
       "      <th>Processor</th>\n",
       "      <th>RAM</th>\n",
       "      <th>Operating System</th>\n",
       "      <th>Storage</th>\n",
       "      <th>Display</th>\n",
       "      <th>Warranty</th>\n",
       "      <th>Price</th>\n",
       "      <th>rating</th>\n",
       "      <th>price_per_ram*storage</th>\n",
       "    </tr>\n",
       "  </thead>\n",
       "  <tbody>\n",
       "    <tr>\n",
       "      <th>0</th>\n",
       "      <td>0</td>\n",
       "      <td>Lenovo Ideapad S145 Core i5 10th Gen - (8 GB/1...</td>\n",
       "      <td>Intel Core i5 Processor (10th Gen)</td>\n",
       "      <td>8.0</td>\n",
       "      <td>64 bit Windows 10 Operating System</td>\n",
       "      <td>1000.0</td>\n",
       "      <td>39.62</td>\n",
       "      <td>1.0</td>\n",
       "      <td>43990.0</td>\n",
       "      <td>3.9</td>\n",
       "      <td>5.498750</td>\n",
       "    </tr>\n",
       "    <tr>\n",
       "      <th>1</th>\n",
       "      <td>1</td>\n",
       "      <td>Lenovo IdeaPad Core i3 11th Gen - (8 GB/256 GB...</td>\n",
       "      <td>Intel Core i3 Processor (11th Gen)</td>\n",
       "      <td>8.0</td>\n",
       "      <td>64 bit Windows 10 Operating System</td>\n",
       "      <td>256.0</td>\n",
       "      <td>35.56</td>\n",
       "      <td>1.0</td>\n",
       "      <td>43990.0</td>\n",
       "      <td>4.2</td>\n",
       "      <td>21.479492</td>\n",
       "    </tr>\n",
       "  </tbody>\n",
       "</table>\n",
       "</div>"
      ],
      "text/plain": [
       "   Unnamed: 0                                               Name  \\\n",
       "0           0  Lenovo Ideapad S145 Core i5 10th Gen - (8 GB/1...   \n",
       "1           1  Lenovo IdeaPad Core i3 11th Gen - (8 GB/256 GB...   \n",
       "\n",
       "                            Processor  RAM  \\\n",
       "0  Intel Core i5 Processor (10th Gen)  8.0   \n",
       "1  Intel Core i3 Processor (11th Gen)  8.0   \n",
       "\n",
       "                     Operating System  Storage  Display  Warranty    Price  \\\n",
       "0  64 bit Windows 10 Operating System   1000.0    39.62       1.0  43990.0   \n",
       "1  64 bit Windows 10 Operating System    256.0    35.56       1.0  43990.0   \n",
       "\n",
       "   rating  price_per_ram*storage  \n",
       "0     3.9               5.498750  \n",
       "1     4.2              21.479492  "
      ]
     },
     "execution_count": 78,
     "metadata": {},
     "output_type": "execute_result"
    }
   ],
   "source": [
    "df1.head(2)"
   ]
  },
  {
   "cell_type": "code",
   "execution_count": 79,
   "metadata": {},
   "outputs": [
    {
     "data": {
      "text/plain": [
       "(492, 11)"
      ]
     },
     "execution_count": 79,
     "metadata": {},
     "output_type": "execute_result"
    }
   ],
   "source": [
    "ll1=df1['price_per_ram*storage'].quantile(0.01)\n",
    "ul1=df1['price_per_ram*storage'].quantile(0.99)\n",
    "df1[(df1['price_per_ram*storage']<=ll1) | (df1['price_per_ram*storage']>=ul1)]\n",
    "df2=df1[(df1['price_per_ram*storage']>ll1) & (df1['price_per_ram*storage']<ul1)]\n",
    "df2.shape"
   ]
  },
  {
   "cell_type": "code",
   "execution_count": 80,
   "metadata": {},
   "outputs": [
    {
     "data": {
      "text/plain": [
       "(371, 11)"
      ]
     },
     "execution_count": 80,
     "metadata": {},
     "output_type": "execute_result"
    }
   ],
   "source": [
    "ll2=df2.Price.quantile(0.1)\n",
    "ul2=df2.Price.quantile(0.9)\n",
    "df2[(df2.Price<=ll2) | (df2.Price>=ul2)]\n",
    "df3=df2[(df2.Price>ll2) & (df2.Price<ul2)]\n",
    "df3.shape"
   ]
  },
  {
   "cell_type": "code",
   "execution_count": 81,
   "metadata": {},
   "outputs": [
    {
     "data": {
      "text/plain": [
       "(367, 11)"
      ]
     },
     "execution_count": 81,
     "metadata": {},
     "output_type": "execute_result"
    }
   ],
   "source": [
    "ll3=df3.Display.quantile(0.01)\n",
    "ul3=df3.Display.quantile(0.99)\n",
    "df3[(df3.Display<=ll3) | (df3.Display>=ul3)]\n",
    "df4=df3[(df3.Display>ll3) & (df3.Display<ul3)]\n",
    "df4.shape"
   ]
  },
  {
   "cell_type": "code",
   "execution_count": 82,
   "metadata": {},
   "outputs": [
    {
     "data": {
      "text/plain": [
       "(362, 11)"
      ]
     },
     "execution_count": 82,
     "metadata": {},
     "output_type": "execute_result"
    }
   ],
   "source": [
    "ll4=df4.RAM.quantile(0.1)\n",
    "ul4=df4.RAM.quantile(0.9)\n",
    "df4[(df4.RAM<ll4) | (df4.RAM>ul4)]\n",
    "df5=df4[(df4.RAM>=ll4) & (df4.RAM<=ul4)]\n",
    "df5.shape"
   ]
  },
  {
   "cell_type": "code",
   "execution_count": 83,
   "metadata": {},
   "outputs": [
    {
     "data": {
      "text/html": [
       "<div>\n",
       "<style scoped>\n",
       "    .dataframe tbody tr th:only-of-type {\n",
       "        vertical-align: middle;\n",
       "    }\n",
       "\n",
       "    .dataframe tbody tr th {\n",
       "        vertical-align: top;\n",
       "    }\n",
       "\n",
       "    .dataframe thead th {\n",
       "        text-align: right;\n",
       "    }\n",
       "</style>\n",
       "<table border=\"1\" class=\"dataframe\">\n",
       "  <thead>\n",
       "    <tr style=\"text-align: right;\">\n",
       "      <th></th>\n",
       "      <th>Unnamed: 0</th>\n",
       "      <th>Name</th>\n",
       "      <th>Processor</th>\n",
       "      <th>RAM</th>\n",
       "      <th>Operating System</th>\n",
       "      <th>Storage</th>\n",
       "      <th>Display</th>\n",
       "      <th>Warranty</th>\n",
       "      <th>Price</th>\n",
       "      <th>rating</th>\n",
       "      <th>price_per_ram*storage</th>\n",
       "    </tr>\n",
       "  </thead>\n",
       "  <tbody>\n",
       "    <tr>\n",
       "      <th>57</th>\n",
       "      <td>57</td>\n",
       "      <td>MSI GF63 Thin Core i7 10th Gen - (8 GB/1 TB HD...</td>\n",
       "      <td>AMD Ryzen 7 Octa Core Processor</td>\n",
       "      <td>8.0</td>\n",
       "      <td>64 bit Windows 10 Operating System</td>\n",
       "      <td>1000.0</td>\n",
       "      <td>35.56</td>\n",
       "      <td>1.0</td>\n",
       "      <td>72990.0</td>\n",
       "      <td>4.0</td>\n",
       "      <td>9.123750</td>\n",
       "    </tr>\n",
       "    <tr>\n",
       "      <th>192</th>\n",
       "      <td>192</td>\n",
       "      <td>HP Core i3 11th Gen - (8 GB/256 GB SSD/Windows...</td>\n",
       "      <td>Intel Core i7 Processor (10th Gen)</td>\n",
       "      <td>8.0</td>\n",
       "      <td>64 bit Windows 10 Operating System</td>\n",
       "      <td>1000.0</td>\n",
       "      <td>35.56</td>\n",
       "      <td>2.0</td>\n",
       "      <td>41980.0</td>\n",
       "      <td>4.3</td>\n",
       "      <td>5.247500</td>\n",
       "    </tr>\n",
       "    <tr>\n",
       "      <th>208</th>\n",
       "      <td>208</td>\n",
       "      <td>APPLE MacBook Pro with Touch Bar Core i5 10th ...</td>\n",
       "      <td>AMD Ryzen 7 Octa Core Processor</td>\n",
       "      <td>16.0</td>\n",
       "      <td>Mac OS Operating System</td>\n",
       "      <td>1000.0</td>\n",
       "      <td>39.62</td>\n",
       "      <td>1.0</td>\n",
       "      <td>174.0</td>\n",
       "      <td>4.2</td>\n",
       "      <td>0.010875</td>\n",
       "    </tr>\n",
       "    <tr>\n",
       "      <th>325</th>\n",
       "      <td>325</td>\n",
       "      <td>ASUS VivoBook 15 (2020) Core i5 10th Gen - (8 ...</td>\n",
       "      <td>Intel Core i7 Processor (11th Gen)</td>\n",
       "      <td>8.0</td>\n",
       "      <td>64 bit Windows 10 Operating System</td>\n",
       "      <td>512.0</td>\n",
       "      <td>39.62</td>\n",
       "      <td>1.0</td>\n",
       "      <td>46990.0</td>\n",
       "      <td>4.5</td>\n",
       "      <td>11.472168</td>\n",
       "    </tr>\n",
       "  </tbody>\n",
       "</table>\n",
       "</div>"
      ],
      "text/plain": [
       "     Unnamed: 0                                               Name  \\\n",
       "57           57  MSI GF63 Thin Core i7 10th Gen - (8 GB/1 TB HD...   \n",
       "192         192  HP Core i3 11th Gen - (8 GB/256 GB SSD/Windows...   \n",
       "208         208  APPLE MacBook Pro with Touch Bar Core i5 10th ...   \n",
       "325         325  ASUS VivoBook 15 (2020) Core i5 10th Gen - (8 ...   \n",
       "\n",
       "                              Processor   RAM  \\\n",
       "57      AMD Ryzen 7 Octa Core Processor   8.0   \n",
       "192  Intel Core i7 Processor (10th Gen)   8.0   \n",
       "208     AMD Ryzen 7 Octa Core Processor  16.0   \n",
       "325  Intel Core i7 Processor (11th Gen)   8.0   \n",
       "\n",
       "                       Operating System  Storage  Display  Warranty    Price  \\\n",
       "57   64 bit Windows 10 Operating System   1000.0    35.56       1.0  72990.0   \n",
       "192  64 bit Windows 10 Operating System   1000.0    35.56       2.0  41980.0   \n",
       "208             Mac OS Operating System   1000.0    39.62       1.0    174.0   \n",
       "325  64 bit Windows 10 Operating System    512.0    39.62       1.0  46990.0   \n",
       "\n",
       "     rating  price_per_ram*storage  \n",
       "57      4.0               9.123750  \n",
       "192     4.3               5.247500  \n",
       "208     4.2               0.010875  \n",
       "325     4.5              11.472168  "
      ]
     },
     "execution_count": 83,
     "metadata": {},
     "output_type": "execute_result"
    }
   ],
   "source": [
    "df5.sample(4)"
   ]
  },
  {
   "cell_type": "code",
   "execution_count": 84,
   "metadata": {},
   "outputs": [
    {
     "data": {
      "text/plain": [
       "(306, 11)"
      ]
     },
     "execution_count": 84,
     "metadata": {},
     "output_type": "execute_result"
    }
   ],
   "source": [
    "df5[df5.Price/(df5.Storage*df5.Display)<0.1]\n",
    "df6=df5[~(df5.Price/(df5.Storage*df5.Display)<0.1)]\n",
    "df6.shape"
   ]
  },
  {
   "cell_type": "code",
   "execution_count": 85,
   "metadata": {},
   "outputs": [
    {
     "data": {
      "image/png": "[encoded data removed]",
      "text/plain": [
       "<Figure size 1080x720 with 1 Axes>"
      ]
     },
     "metadata": {
      "needs_background": "light"
     },
     "output_type": "display_data"
    }
   ],
   "source": [
    "plt.hist(df6['price_per_ram*storage'],rwidth=0.8,color='g')\n",
    "plt.show()"
   ]
  },
  {
   "cell_type": "code",
   "execution_count": 86,
   "metadata": {},
   "outputs": [
    {
     "data": {
      "image/png": "[encoded data removed]",
      "text/plain": [
       "<Figure size 1080x720 with 1 Axes>"
      ]
     },
     "metadata": {
      "needs_background": "light"
     },
     "output_type": "display_data"
    }
   ],
   "source": [
    "plt.hist(df6['Price'],rwidth=0.8,color='y')\n",
    "plt.show()"
   ]
  },
  {
   "cell_type": "code",
   "execution_count": 87,
   "metadata": {},
   "outputs": [],
   "source": [
    "#the above is kinda a normal distribution,which is pretty good\n",
    "#next up is splitting the dataset for training and testing"
   ]
  },
  {
   "cell_type": "code",
   "execution_count": 88,
   "metadata": {},
   "outputs": [
    {
     "data": {
      "text/html": [
       "<div>\n",
       "<style scoped>\n",
       "    .dataframe tbody tr th:only-of-type {\n",
       "        vertical-align: middle;\n",
       "    }\n",
       "\n",
       "    .dataframe tbody tr th {\n",
       "        vertical-align: top;\n",
       "    }\n",
       "\n",
       "    .dataframe thead th {\n",
       "        text-align: right;\n",
       "    }\n",
       "</style>\n",
       "<table border=\"1\" class=\"dataframe\">\n",
       "  <thead>\n",
       "    <tr style=\"text-align: right;\">\n",
       "      <th></th>\n",
       "      <th>Unnamed: 0</th>\n",
       "      <th>Name</th>\n",
       "      <th>Processor</th>\n",
       "      <th>RAM</th>\n",
       "      <th>Operating System</th>\n",
       "      <th>Storage</th>\n",
       "      <th>Display</th>\n",
       "      <th>Warranty</th>\n",
       "      <th>Price</th>\n",
       "      <th>rating</th>\n",
       "      <th>price_per_ram*storage</th>\n",
       "    </tr>\n",
       "  </thead>\n",
       "  <tbody>\n",
       "    <tr>\n",
       "      <th>0</th>\n",
       "      <td>0</td>\n",
       "      <td>Lenovo Ideapad S145 Core i5 10th Gen - (8 GB/1...</td>\n",
       "      <td>Intel Core i5 Processor (10th Gen)</td>\n",
       "      <td>8.0</td>\n",
       "      <td>64 bit Windows 10 Operating System</td>\n",
       "      <td>1000.0</td>\n",
       "      <td>39.62</td>\n",
       "      <td>1.0</td>\n",
       "      <td>43990.0</td>\n",
       "      <td>3.9</td>\n",
       "      <td>5.498750</td>\n",
       "    </tr>\n",
       "    <tr>\n",
       "      <th>1</th>\n",
       "      <td>1</td>\n",
       "      <td>Lenovo IdeaPad Core i3 11th Gen - (8 GB/256 GB...</td>\n",
       "      <td>Intel Core i3 Processor (11th Gen)</td>\n",
       "      <td>8.0</td>\n",
       "      <td>64 bit Windows 10 Operating System</td>\n",
       "      <td>256.0</td>\n",
       "      <td>35.56</td>\n",
       "      <td>1.0</td>\n",
       "      <td>43990.0</td>\n",
       "      <td>4.2</td>\n",
       "      <td>21.479492</td>\n",
       "    </tr>\n",
       "  </tbody>\n",
       "</table>\n",
       "</div>"
      ],
      "text/plain": [
       "   Unnamed: 0                                               Name  \\\n",
       "0           0  Lenovo Ideapad S145 Core i5 10th Gen - (8 GB/1...   \n",
       "1           1  Lenovo IdeaPad Core i3 11th Gen - (8 GB/256 GB...   \n",
       "\n",
       "                            Processor  RAM  \\\n",
       "0  Intel Core i5 Processor (10th Gen)  8.0   \n",
       "1  Intel Core i3 Processor (11th Gen)  8.0   \n",
       "\n",
       "                     Operating System  Storage  Display  Warranty    Price  \\\n",
       "0  64 bit Windows 10 Operating System   1000.0    39.62       1.0  43990.0   \n",
       "1  64 bit Windows 10 Operating System    256.0    35.56       1.0  43990.0   \n",
       "\n",
       "   rating  price_per_ram*storage  \n",
       "0     3.9               5.498750  \n",
       "1     4.2              21.479492  "
      ]
     },
     "execution_count": 88,
     "metadata": {},
     "output_type": "execute_result"
    }
   ],
   "source": [
    "df6.head(2)"
   ]
  },
  {
   "cell_type": "code",
   "execution_count": 89,
   "metadata": {},
   "outputs": [
    {
     "name": "stderr",
     "output_type": "stream",
     "text": [
      "C:\\Users\\sojore\\anaconda3\\lib\\site-packages\\pandas\\core\\generic.py:5168: SettingWithCopyWarning: \n",
      "A value is trying to be set on a copy of a slice from a DataFrame.\n",
      "Try using .loc[row_indexer,col_indexer] = value instead\n",
      "\n",
      "See the caveats in the documentation: https://pandas.pydata.org/pandas-docs/stable/user_guide/indexing.html#returning-a-view-versus-a-copy\n",
      "  self[name] = value\n",
      "<ipython-input-89-7fcd8d175884>:8: SettingWithCopyWarning: \n",
      "A value is trying to be set on a copy of a slice from a DataFrame.\n",
      "Try using .loc[row_indexer,col_indexer] = value instead\n",
      "\n",
      "See the caveats in the documentation: https://pandas.pydata.org/pandas-docs/stable/user_guide/indexing.html#returning-a-view-versus-a-copy\n",
      "  df6['Operating System']=le_operating_sys.fit_transform(df6['Operating System'])\n"
     ]
    },
    {
     "data": {
      "text/html": [
       "<div>\n",
       "<style scoped>\n",
       "    .dataframe tbody tr th:only-of-type {\n",
       "        vertical-align: middle;\n",
       "    }\n",
       "\n",
       "    .dataframe tbody tr th {\n",
       "        vertical-align: top;\n",
       "    }\n",
       "\n",
       "    .dataframe thead th {\n",
       "        text-align: right;\n",
       "    }\n",
       "</style>\n",
       "<table border=\"1\" class=\"dataframe\">\n",
       "  <thead>\n",
       "    <tr style=\"text-align: right;\">\n",
       "      <th></th>\n",
       "      <th>Unnamed: 0</th>\n",
       "      <th>Name</th>\n",
       "      <th>Processor</th>\n",
       "      <th>RAM</th>\n",
       "      <th>Operating System</th>\n",
       "      <th>Storage</th>\n",
       "      <th>Display</th>\n",
       "      <th>Warranty</th>\n",
       "      <th>Price</th>\n",
       "      <th>rating</th>\n",
       "      <th>price_per_ram*storage</th>\n",
       "    </tr>\n",
       "  </thead>\n",
       "  <tbody>\n",
       "    <tr>\n",
       "      <th>0</th>\n",
       "      <td>0</td>\n",
       "      <td>175</td>\n",
       "      <td>17</td>\n",
       "      <td>8.0</td>\n",
       "      <td>1</td>\n",
       "      <td>1000.0</td>\n",
       "      <td>39.62</td>\n",
       "      <td>1.0</td>\n",
       "      <td>43990.0</td>\n",
       "      <td>3.9</td>\n",
       "      <td>5.498750</td>\n",
       "    </tr>\n",
       "    <tr>\n",
       "      <th>1</th>\n",
       "      <td>1</td>\n",
       "      <td>155</td>\n",
       "      <td>15</td>\n",
       "      <td>8.0</td>\n",
       "      <td>1</td>\n",
       "      <td>256.0</td>\n",
       "      <td>35.56</td>\n",
       "      <td>1.0</td>\n",
       "      <td>43990.0</td>\n",
       "      <td>4.2</td>\n",
       "      <td>21.479492</td>\n",
       "    </tr>\n",
       "    <tr>\n",
       "      <th>2</th>\n",
       "      <td>2</td>\n",
       "      <td>140</td>\n",
       "      <td>30</td>\n",
       "      <td>8.0</td>\n",
       "      <td>1</td>\n",
       "      <td>256.0</td>\n",
       "      <td>35.56</td>\n",
       "      <td>1.0</td>\n",
       "      <td>31490.0</td>\n",
       "      <td>4.6</td>\n",
       "      <td>15.375977</td>\n",
       "    </tr>\n",
       "    <tr>\n",
       "      <th>3</th>\n",
       "      <td>3</td>\n",
       "      <td>98</td>\n",
       "      <td>15</td>\n",
       "      <td>8.0</td>\n",
       "      <td>1</td>\n",
       "      <td>256.0</td>\n",
       "      <td>35.56</td>\n",
       "      <td>1.0</td>\n",
       "      <td>40990.0</td>\n",
       "      <td>4.1</td>\n",
       "      <td>20.014648</td>\n",
       "    </tr>\n",
       "    <tr>\n",
       "      <th>4</th>\n",
       "      <td>4</td>\n",
       "      <td>104</td>\n",
       "      <td>0</td>\n",
       "      <td>4.0</td>\n",
       "      <td>1</td>\n",
       "      <td>1000.0</td>\n",
       "      <td>39.62</td>\n",
       "      <td>1.0</td>\n",
       "      <td>27490.0</td>\n",
       "      <td>4.1</td>\n",
       "      <td>6.872500</td>\n",
       "    </tr>\n",
       "  </tbody>\n",
       "</table>\n",
       "</div>"
      ],
      "text/plain": [
       "   Unnamed: 0  Name  Processor  RAM  Operating System  Storage  Display  \\\n",
       "0           0   175         17  8.0                 1   1000.0    39.62   \n",
       "1           1   155         15  8.0                 1    256.0    35.56   \n",
       "2           2   140         30  8.0                 1    256.0    35.56   \n",
       "3           3    98         15  8.0                 1    256.0    35.56   \n",
       "4           4   104          0  4.0                 1   1000.0    39.62   \n",
       "\n",
       "   Warranty    Price  rating  price_per_ram*storage  \n",
       "0       1.0  43990.0     3.9               5.498750  \n",
       "1       1.0  43990.0     4.2              21.479492  \n",
       "2       1.0  31490.0     4.6              15.375977  \n",
       "3       1.0  40990.0     4.1              20.014648  \n",
       "4       1.0  27490.0     4.1               6.872500  "
      ]
     },
     "execution_count": 89,
     "metadata": {},
     "output_type": "execute_result"
    }
   ],
   "source": [
    "#using labelencoder to get dummy values for the categoorical data columns\n",
    "from sklearn.preprocessing import LabelEncoder\n",
    "le_name=LabelEncoder()\n",
    "le_processor=LabelEncoder()\n",
    "le_operating_sys=LabelEncoder()\n",
    "df6.Name=le_name.fit_transform(df6.Name)\n",
    "df6.Processor=le_processor.fit_transform(df6.Processor)\n",
    "df6['Operating System']=le_operating_sys.fit_transform(df6['Operating System'])\n",
    "df6.head()"
   ]
  },
  {
   "cell_type": "code",
   "execution_count": 93,
   "metadata": {},
   "outputs": [
    {
     "data": {
      "text/plain": [
       "(306, 6)"
      ]
     },
     "execution_count": 93,
     "metadata": {},
     "output_type": "execute_result"
    }
   ],
   "source": [
    "#dropping unneccesary columns\n",
    "df7=df6.drop(['Unnamed: 0','price_per_ram*storage','rating','Display','Operating System'],axis='columns')\n",
    "df7.shape"
   ]
  },
  {
   "cell_type": "code",
   "execution_count": 94,
   "metadata": {},
   "outputs": [
    {
     "data": {
      "text/html": [
       "<div>\n",
       "<style scoped>\n",
       "    .dataframe tbody tr th:only-of-type {\n",
       "        vertical-align: middle;\n",
       "    }\n",
       "\n",
       "    .dataframe tbody tr th {\n",
       "        vertical-align: top;\n",
       "    }\n",
       "\n",
       "    .dataframe thead th {\n",
       "        text-align: right;\n",
       "    }\n",
       "</style>\n",
       "<table border=\"1\" class=\"dataframe\">\n",
       "  <thead>\n",
       "    <tr style=\"text-align: right;\">\n",
       "      <th></th>\n",
       "      <th>Name</th>\n",
       "      <th>Processor</th>\n",
       "      <th>RAM</th>\n",
       "      <th>Storage</th>\n",
       "      <th>Warranty</th>\n",
       "      <th>Price</th>\n",
       "    </tr>\n",
       "  </thead>\n",
       "  <tbody>\n",
       "    <tr>\n",
       "      <th>479</th>\n",
       "      <td>170</td>\n",
       "      <td>23</td>\n",
       "      <td>16.0</td>\n",
       "      <td>512.0</td>\n",
       "      <td>1.0</td>\n",
       "      <td>60990.0</td>\n",
       "    </tr>\n",
       "    <tr>\n",
       "      <th>296</th>\n",
       "      <td>13</td>\n",
       "      <td>15</td>\n",
       "      <td>8.0</td>\n",
       "      <td>1000.0</td>\n",
       "      <td>1.0</td>\n",
       "      <td>64990.0</td>\n",
       "    </tr>\n",
       "    <tr>\n",
       "      <th>531</th>\n",
       "      <td>175</td>\n",
       "      <td>8</td>\n",
       "      <td>8.0</td>\n",
       "      <td>512.0</td>\n",
       "      <td>1.0</td>\n",
       "      <td>43990.0</td>\n",
       "    </tr>\n",
       "  </tbody>\n",
       "</table>\n",
       "</div>"
      ],
      "text/plain": [
       "     Name  Processor   RAM  Storage  Warranty    Price\n",
       "479   170         23  16.0    512.0       1.0  60990.0\n",
       "296    13         15   8.0   1000.0       1.0  64990.0\n",
       "531   175          8   8.0    512.0       1.0  43990.0"
      ]
     },
     "execution_count": 94,
     "metadata": {},
     "output_type": "execute_result"
    }
   ],
   "source": [
    "df7.sample(3)"
   ]
  },
  {
   "cell_type": "code",
   "execution_count": 95,
   "metadata": {},
   "outputs": [
    {
     "data": {
      "text/plain": [
       "(306, 5)"
      ]
     },
     "execution_count": 95,
     "metadata": {},
     "output_type": "execute_result"
    }
   ],
   "source": [
    "X=df7.drop('Price',axis='columns')\n",
    "X.shape"
   ]
  },
  {
   "cell_type": "code",
   "execution_count": 96,
   "metadata": {},
   "outputs": [
    {
     "data": {
      "text/plain": [
       "0    43990.0\n",
       "1    43990.0\n",
       "2    31490.0\n",
       "3    40990.0\n",
       "Name: Price, dtype: float64"
      ]
     },
     "execution_count": 96,
     "metadata": {},
     "output_type": "execute_result"
    }
   ],
   "source": [
    "y=df7.Price\n",
    "y.head(4)"
   ]
  },
  {
   "cell_type": "code",
   "execution_count": 97,
   "metadata": {},
   "outputs": [
    {
     "data": {
      "text/plain": [
       "Name           int32\n",
       "Processor      int32\n",
       "RAM          float64\n",
       "Storage      float64\n",
       "Warranty     float64\n",
       "Price        float64\n",
       "dtype: object"
      ]
     },
     "execution_count": 97,
     "metadata": {},
     "output_type": "execute_result"
    }
   ],
   "source": [
    "df7.dtypes"
   ]
  },
  {
   "cell_type": "code",
   "execution_count": 98,
   "metadata": {},
   "outputs": [],
   "source": [
    "from sklearn.model_selection import train_test_split\n",
    "X_train,X_test,y_train,y_test=train_test_split(X,y,test_size=0.2,random_state=3)"
   ]
  },
  {
   "cell_type": "code",
   "execution_count": 99,
   "metadata": {},
   "outputs": [
    {
     "data": {
      "text/plain": [
       "244"
      ]
     },
     "execution_count": 99,
     "metadata": {},
     "output_type": "execute_result"
    }
   ],
   "source": [
    "len(X_train)"
   ]
  },
  {
   "cell_type": "code",
   "execution_count": 100,
   "metadata": {},
   "outputs": [
    {
     "data": {
      "text/plain": [
       "(62, 5)"
      ]
     },
     "execution_count": 100,
     "metadata": {},
     "output_type": "execute_result"
    }
   ],
   "source": [
    "X_test.shape"
   ]
  },
  {
   "cell_type": "code",
   "execution_count": 101,
   "metadata": {},
   "outputs": [],
   "source": [
    "##creating a machine learning model\n",
    "from sklearn.linear_model import LinearRegression\n",
    "from sklearn.linear_model import LogisticRegression\n",
    "from sklearn.linear_model import Lasso\n",
    "from sklearn.tree import DecisionTreeRegressor\n",
    "from sklearn.svm import SVC\n",
    "from sklearn.ensemble import RandomForestClassifier\n",
    "\n",
    "from sklearn.model_selection import cross_val_score\n",
    "from sklearn.model_selection import GridSearchCV\n",
    "from sklearn.model_selection import ShuffleSplit"
   ]
  },
  {
   "cell_type": "code",
   "execution_count": 102,
   "metadata": {},
   "outputs": [],
   "source": [
    "cv=ShuffleSplit(n_splits=5,test_size=0.2,random_state=0)\n",
    "def find_best_model_using_gridsearchcv(X,y):\n",
    "    models={\n",
    "        'linear_regression':{\n",
    "            'model':LinearRegression(),\n",
    "            'params':{\n",
    "                'normalize':[True,False]\n",
    "            }\n",
    "        },\n",
    "        'lasso':{\n",
    "            'model':Lasso(),\n",
    "            'params':{\n",
    "                'alpha':[1,2],\n",
    "                'selection':['random','cyclic']\n",
    "            }\n",
    "        },\n",
    "        'decision_tree':{\n",
    "            'model':DecisionTreeRegressor(),\n",
    "            'params':{\n",
    "                'criterion':['mse','friedman_mse'],\n",
    "                'splitter':['best','random']\n",
    "            }\n",
    "        },\n",
    "        'svm':{\n",
    "            'model':SVC(),\n",
    "            'params':{\n",
    "                'C':[1,2,3],\n",
    "                'kernel':['linear','rbf']\n",
    "            }\n",
    "        },\n",
    "        'random_forest':{\n",
    "            'model':RandomForestClassifier(),\n",
    "            'params':{\n",
    "                \n",
    "            }\n",
    "        },\n",
    "        'logistic_regression':{\n",
    "            'model':LogisticRegression(),\n",
    "            'params':{}\n",
    "        }\n",
    "    }\n",
    "#this is what we call hyper parameter tunning\n",
    "\n",
    "    my_scores=[]\n",
    "    cv=ShuffleSplit(n_splits=5,test_size=0.2,random_state=0)\n",
    "    for model_name,config in models.items():\n",
    "        gs=GridSearchCV(config['model'],config['params'],cv=cv,return_train_score=False)\n",
    "        gs.fit(X,y)\n",
    "        my_scores.append({\n",
    "            'model':model_name,\n",
    "            'best_score':gs.best_score_,\n",
    "            'best_params':gs.best_params_\n",
    "        })\n",
    "    return pd.DataFrame(my_scores,columns=['model','best_score','best_params'])\n"
   ]
  },
  {
   "cell_type": "code",
   "execution_count": 103,
   "metadata": {},
   "outputs": [
    {
     "name": "stderr",
     "output_type": "stream",
     "text": [
      "C:\\Users\\sojore\\anaconda3\\lib\\site-packages\\sklearn\\linear_model\\_logistic.py:762: ConvergenceWarning: lbfgs failed to converge (status=1):\n",
      "STOP: TOTAL NO. of ITERATIONS REACHED LIMIT.\n",
      "\n",
      "Increase the number of iterations (max_iter) or scale the data as shown in:\n",
      "    https://scikit-learn.org/stable/modules/preprocessing.html\n",
      "Please also refer to the documentation for alternative solver options:\n",
      "    https://scikit-learn.org/stable/modules/linear_model.html#logistic-regression\n",
      "  n_iter_i = _check_optimize_result(\n",
      "C:\\Users\\sojore\\anaconda3\\lib\\site-packages\\sklearn\\linear_model\\_logistic.py:762: ConvergenceWarning: lbfgs failed to converge (status=1):\n",
      "STOP: TOTAL NO. of ITERATIONS REACHED LIMIT.\n",
      "\n",
      "Increase the number of iterations (max_iter) or scale the data as shown in:\n",
      "    https://scikit-learn.org/stable/modules/preprocessing.html\n",
      "Please also refer to the documentation for alternative solver options:\n",
      "    https://scikit-learn.org/stable/modules/linear_model.html#logistic-regression\n",
      "  n_iter_i = _check_optimize_result(\n",
      "C:\\Users\\sojore\\anaconda3\\lib\\site-packages\\sklearn\\linear_model\\_logistic.py:762: ConvergenceWarning: lbfgs failed to converge (status=1):\n",
      "STOP: TOTAL NO. of ITERATIONS REACHED LIMIT.\n",
      "\n",
      "Increase the number of iterations (max_iter) or scale the data as shown in:\n",
      "    https://scikit-learn.org/stable/modules/preprocessing.html\n",
      "Please also refer to the documentation for alternative solver options:\n",
      "    https://scikit-learn.org/stable/modules/linear_model.html#logistic-regression\n",
      "  n_iter_i = _check_optimize_result(\n",
      "C:\\Users\\sojore\\anaconda3\\lib\\site-packages\\sklearn\\linear_model\\_logistic.py:762: ConvergenceWarning: lbfgs failed to converge (status=1):\n",
      "STOP: TOTAL NO. of ITERATIONS REACHED LIMIT.\n",
      "\n",
      "Increase the number of iterations (max_iter) or scale the data as shown in:\n",
      "    https://scikit-learn.org/stable/modules/preprocessing.html\n",
      "Please also refer to the documentation for alternative solver options:\n",
      "    https://scikit-learn.org/stable/modules/linear_model.html#logistic-regression\n",
      "  n_iter_i = _check_optimize_result(\n",
      "C:\\Users\\sojore\\anaconda3\\lib\\site-packages\\sklearn\\linear_model\\_logistic.py:762: ConvergenceWarning: lbfgs failed to converge (status=1):\n",
      "STOP: TOTAL NO. of ITERATIONS REACHED LIMIT.\n",
      "\n",
      "Increase the number of iterations (max_iter) or scale the data as shown in:\n",
      "    https://scikit-learn.org/stable/modules/preprocessing.html\n",
      "Please also refer to the documentation for alternative solver options:\n",
      "    https://scikit-learn.org/stable/modules/linear_model.html#logistic-regression\n",
      "  n_iter_i = _check_optimize_result(\n",
      "C:\\Users\\sojore\\anaconda3\\lib\\site-packages\\sklearn\\linear_model\\_logistic.py:762: ConvergenceWarning: lbfgs failed to converge (status=1):\n",
      "STOP: TOTAL NO. of ITERATIONS REACHED LIMIT.\n",
      "\n",
      "Increase the number of iterations (max_iter) or scale the data as shown in:\n",
      "    https://scikit-learn.org/stable/modules/preprocessing.html\n",
      "Please also refer to the documentation for alternative solver options:\n",
      "    https://scikit-learn.org/stable/modules/linear_model.html#logistic-regression\n",
      "  n_iter_i = _check_optimize_result(\n"
     ]
    },
    {
     "data": {
      "text/html": [
       "<div>\n",
       "<style scoped>\n",
       "    .dataframe tbody tr th:only-of-type {\n",
       "        vertical-align: middle;\n",
       "    }\n",
       "\n",
       "    .dataframe tbody tr th {\n",
       "        vertical-align: top;\n",
       "    }\n",
       "\n",
       "    .dataframe thead th {\n",
       "        text-align: right;\n",
       "    }\n",
       "</style>\n",
       "<table border=\"1\" class=\"dataframe\">\n",
       "  <thead>\n",
       "    <tr style=\"text-align: right;\">\n",
       "      <th></th>\n",
       "      <th>model</th>\n",
       "      <th>best_score</th>\n",
       "      <th>best_params</th>\n",
       "    </tr>\n",
       "  </thead>\n",
       "  <tbody>\n",
       "    <tr>\n",
       "      <th>0</th>\n",
       "      <td>linear_regression</td>\n",
       "      <td>-0.036711</td>\n",
       "      <td>{'normalize': True}</td>\n",
       "    </tr>\n",
       "    <tr>\n",
       "      <th>1</th>\n",
       "      <td>lasso</td>\n",
       "      <td>-0.036662</td>\n",
       "      <td>{'alpha': 2, 'selection': 'cyclic'}</td>\n",
       "    </tr>\n",
       "    <tr>\n",
       "      <th>2</th>\n",
       "      <td>decision_tree</td>\n",
       "      <td>-0.054035</td>\n",
       "      <td>{'criterion': 'mse', 'splitter': 'best'}</td>\n",
       "    </tr>\n",
       "    <tr>\n",
       "      <th>3</th>\n",
       "      <td>svm</td>\n",
       "      <td>0.142857</td>\n",
       "      <td>{'C': 1, 'kernel': 'linear'}</td>\n",
       "    </tr>\n",
       "    <tr>\n",
       "      <th>4</th>\n",
       "      <td>random_forest</td>\n",
       "      <td>0.224490</td>\n",
       "      <td>{}</td>\n",
       "    </tr>\n",
       "    <tr>\n",
       "      <th>5</th>\n",
       "      <td>logistic_regression</td>\n",
       "      <td>0.106122</td>\n",
       "      <td>{}</td>\n",
       "    </tr>\n",
       "  </tbody>\n",
       "</table>\n",
       "</div>"
      ],
      "text/plain": [
       "                 model  best_score                               best_params\n",
       "0    linear_regression   -0.036711                       {'normalize': True}\n",
       "1                lasso   -0.036662       {'alpha': 2, 'selection': 'cyclic'}\n",
       "2        decision_tree   -0.054035  {'criterion': 'mse', 'splitter': 'best'}\n",
       "3                  svm    0.142857              {'C': 1, 'kernel': 'linear'}\n",
       "4        random_forest    0.224490                                        {}\n",
       "5  logistic_regression    0.106122                                        {}"
      ]
     },
     "execution_count": 103,
     "metadata": {},
     "output_type": "execute_result"
    }
   ],
   "source": [
    "find_best_model_using_gridsearchcv(X_train,y_train)"
   ]
  },
  {
   "cell_type": "code",
   "execution_count": 105,
   "metadata": {},
   "outputs": [
    {
     "data": {
      "text/plain": [
       "RandomForestClassifier()"
      ]
     },
     "execution_count": 105,
     "metadata": {},
     "output_type": "execute_result"
    }
   ],
   "source": [
    "#from the above i can choose the best algorithm to create my model\n",
    "#i will simply employ svm for my model creation\n",
    "model=RandomForestClassifier()\n",
    "model.fit(X_train,y_train)"
   ]
  },
  {
   "cell_type": "code",
   "execution_count": 106,
   "metadata": {},
   "outputs": [
    {
     "data": {
      "text/plain": [
       "0.20967741935483872"
      ]
     },
     "execution_count": 106,
     "metadata": {},
     "output_type": "execute_result"
    }
   ],
   "source": [
    "#let me get the score of the model\n",
    "model.score(X_test,y_test)"
   ]
  },
  {
   "cell_type": "code",
   "execution_count": 107,
   "metadata": {},
   "outputs": [
    {
     "data": {
      "text/plain": [
       "array([72989., 43990., 67922., 65990., 60970.])"
      ]
     },
     "execution_count": 107,
     "metadata": {},
     "output_type": "execute_result"
    }
   ],
   "source": [
    "#now i can use the model to do predictions\n",
    "y_predicted=model.predict(X_test)\n",
    "y_predicted[:5]"
   ]
  },
  {
   "cell_type": "code",
   "execution_count": 108,
   "metadata": {},
   "outputs": [
    {
     "data": {
      "text/plain": [
       "260    75990.0\n",
       "423    43990.0\n",
       "298    53990.0\n",
       "392    37990.0\n",
       "388    46990.0\n",
       "Name: Price, dtype: float64"
      ]
     },
     "execution_count": 108,
     "metadata": {},
     "output_type": "execute_result"
    }
   ],
   "source": [
    "y_test[:5]"
   ]
  },
  {
   "cell_type": "code",
   "execution_count": null,
   "metadata": {},
   "outputs": [
    {
     "data": {
      "text/plain": [
       "Text(159.0, 0.5, 'Truth')"
      ]
     },
     "execution_count": 109,
     "metadata": {},
     "output_type": "execute_result"
    }
   ],
   "source": [
    "#next i will create a heatmap for a better visualization of the predicted results\n",
    "from sklearn.metrics import confusion_matrix,classification_report\n",
    "import seaborn as sn\n",
    "cm=confusion_matrix(y_test,y_predicted)\n",
    "plt.figure(figsize=(20,10))\n",
    "sn.heatmap(cm,annot=True)\n",
    "plt.xlabel('Predicted')\n",
    "plt.ylabel('Truth')"
   ]
  },
  {
   "cell_type": "code",
   "execution_count": null,
   "metadata": {},
   "outputs": [],
   "source": [
    "#my model is doing pretty good on doing the predictions\n",
    "#next i can print a classification report\n",
    "print('Classification Report: \\n',classification_report(y_test,y_predicted))"
   ]
  },
  {
   "cell_type": "code",
   "execution_count": null,
   "metadata": {},
   "outputs": [],
   "source": [
    "#the above model can be improved by applying more feature engineering tools to filter and handle outliers"
   ]
  },
  {
   "cell_type": "code",
   "execution_count": null,
   "metadata": {},
   "outputs": [],
   "source": []
  }
 ],
 "metadata": {
  "kernelspec": {
   "display_name": "Python 3",
   "language": "python",
   "name": "python3"
  },
  "language_info": {
   "codemirror_mode": {
    "name": "ipython",
    "version": 3
   },
   "file_extension": ".py",
   "mimetype": "text/x-python",
   "name": "python",
   "nbconvert_exporter": "python",
   "pygments_lexer": "ipython3",
   "version": "3.8.5"
  }
 },
 "nbformat": 4,
 "nbformat_minor": 4
}
