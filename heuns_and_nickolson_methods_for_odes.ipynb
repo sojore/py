{
  "cells": [
    {
      "cell_type": "code",
      "execution_count": 3,
      "metadata": {
        "colab": {
          "base_uri": "https://localhost:8080/",
          "height": 413
        },
        "id": "grljLVJQjiJ3",
        "outputId": "60ae4666-e36d-4dac-b899-9ca5d9234eff"
      },
      "outputs": [
        {
          "output_type": "stream",
          "name": "stderr",
          "text": [
            "/usr/local/lib/python3.7/dist-packages/ipykernel_launcher.py:15: RuntimeWarning: overflow encountered in double_scalars\n",
            "  from ipykernel import kernelapp as app\n"
          ]
        },
        {
          "output_type": "stream",
          "name": "stdout",
          "text": [
            "Table of errors between the exact and the approximated values [2.00000000e+000 1.87434486e+000 2.70369751e+000 6.93867872e+000\n",
            " 7.31388973e+001 5.10642033e+003 3.25993020e+007 1.59407222e+015\n",
            " 4.44686592e+030 3.95492330e+061 3.51931912e+123 3.09640177e+247\n",
            "             inf             inf             inf             inf]\n"
          ]
        },
        {
          "output_type": "display_data",
          "data": {
            "image/png": "[encoded data removed]",
            "text/plain": [
              "<Figure size 432x288 with 1 Axes>"
            ]
          },
          "metadata": {
            "needs_background": "light"
          }
        }
      ],
      "source": [
        "\n",
        "#PROBLEM 2\n",
        "\n",
        "#in this project we gonna be coding the 2 ode functions as defined in the given paper\n",
        "\n",
        "# crank nickolson\n",
        "\n",
        "#importing important libraries\n",
        "import numpy as np\n",
        "import math\n",
        "import matplotlib.pyplot as plt\n",
        "\n",
        "# defining the ode\n",
        "def f(x, y) :\n",
        "    return x*y**2+x \n",
        "\n",
        "# defining time step\n",
        "h = 0.5\n",
        "\n",
        "# defing a step length\n",
        "dt=0.01\n",
        "\n",
        "# defining the initial condition\n",
        "y0 = 2\n",
        "\n",
        "# the range of the initial condition\n",
        "X = 8\n",
        "\n",
        "# list of discretized time \n",
        "x = np.arange(0, X, 0.5)\n",
        "\n",
        "# lets define the euler's with crank nickolson method\n",
        "y_approx = np.zeros(len(x)) \n",
        "y_approx[0] = y0;\n",
        "for i in range(1, len(x)) :\n",
        "    y_approx[i] = y_approx[i - 1] + f(x[i - 1], y_approx[i - 1]) * h\n",
        "\n",
        "\n",
        "#calculating the y exact result\n",
        "y_exact = np.tan (x**2/2)\n",
        "\n",
        "\n",
        "# Calculating the  Error value and plotting\n",
        "dif_val=y_exact-y_approx\n",
        "\n",
        "# Plotting of solution with exact result\n",
        "plt.plot(x,y_approx,'k--',label=\"dt=%.4f\"%(dt))\n",
        "plt.plot(x, y_exact,'k',label=\"Exact solution\")\n",
        "plt.xlabel(\"x_vals\")\n",
        "plt.ylabel(\"y_vals\")\n",
        "plt.legend(loc='best')\n",
        "plt.suptitle(\"Solution  by crank nickolson method\")\n",
        "print(f'Table of errors between the exact and the approximated values {np.abs(dif_val)}')\n"
      ]
    },
    {
      "cell_type": "code",
      "execution_count": 4,
      "metadata": {
        "id": "EaWYKvozoI47",
        "colab": {
          "base_uri": "https://localhost:8080/",
          "height": 448
        },
        "outputId": "f586062d-de24-4499-985a-47405ed069b4"
      },
      "outputs": [
        {
          "output_type": "stream",
          "name": "stderr",
          "text": [
            "/usr/local/lib/python3.7/dist-packages/ipykernel_launcher.py:8: RuntimeWarning: overflow encountered in double_scalars\n",
            "  \n",
            "/usr/local/lib/python3.7/dist-packages/ipykernel_launcher.py:32: RuntimeWarning: invalid value encountered in double_scalars\n"
          ]
        },
        {
          "output_type": "stream",
          "name": "stdout",
          "text": [
            "Table of errors between the exact and the approximated values [4.44089210e-16 7.12865698e+01 1.97835159e+02 1.95554889e+06\n",
            " 1.90330388e+21 1.13793150e+83            inf            inf\n",
            "            inf            inf            nan            nan\n",
            "            nan            nan            nan            nan\n",
            "            nan            nan            nan            nan]\n"
          ]
        },
        {
          "output_type": "display_data",
          "data": {
            "image/png": "[encoded data removed]",
            "text/plain": [
              "<Figure size 432x288 with 1 Axes>"
            ]
          },
          "metadata": {
            "needs_background": "light"
          }
        }
      ],
      "source": [
        "\n",
        "\"\"\"PROBLEM 1\"\"\"\n",
        "\n",
        "# heun's method \n",
        "\n",
        "# defining the problem\n",
        "def f(x, y) :\n",
        "    return y**2 *np.cos (x) +np.cos (x)\n",
        "\n",
        "\n",
        "#defining the time step\n",
        "h = 0.5\n",
        "\n",
        "# stating the initial condition\n",
        "y0 = 2\n",
        "\n",
        "# step length\n",
        "dt=0.01\n",
        "\n",
        "# X value range for the initial condition\n",
        "X = 10\n",
        "\n",
        "# list of discretized time  \n",
        "x = np.arange(0, X, 0.5)\n",
        "\n",
        "# heun's method\n",
        "y_approx1 = np.zeros(len(x)) \n",
        "y_approx1[0] = y0;\n",
        "for i in range(1, len(x)) :\n",
        "    k1 = h * f(x[i - 1], y_approx1[i - 1])\n",
        "    k2 = h * f(x[i], y_approx1[i - 1] + k1)\n",
        "    y_approx1[i] = y_approx1[i - 1] + (k1 + k2) / 2\n",
        "\n",
        "\n",
        "\n",
        "#calculation of exact result\n",
        "y_exact =np.tan(np.sin(x)+np.arctan(2))\n",
        "\n",
        "\n",
        "# Calculation of Error and plotting\n",
        "dif_val=y_exact-y_approx1\n",
        "\n",
        "# we now Plot the solution with exact result\n",
        "plt.plot(x,y_approx1,'k--',label=\"dt=%.4f\"%(dt))\n",
        "plt.plot(x, y_exact,'k',label=\"Exact solution\")\n",
        "plt.xlabel(\"x_vals\")\n",
        "plt.ylabel(\"y_vals\")\n",
        "plt.legend(loc='best')\n",
        "\n",
        "plt.suptitle(\"Solution  by heuns method\")\n",
        "print(f'Table of errors between the exact and the approximated values {np.abs(dif_val)}')\n",
        "\n"
      ]
    },
    {
      "cell_type": "markdown",
      "source": [
        "\"\"\"END OF PROJECT AND IMPLEMENTATION .THANK YOU!!!\"\"\""
      ],
      "metadata": {
        "id": "HMfjPezdo6cT"
      }
    },
    {
      "cell_type": "code",
      "source": [
        ""
      ],
      "metadata": {
        "id": "TshAs3Tzn4Yc"
      },
      "execution_count": null,
      "outputs": []
    }
  ],
  "metadata": {
    "colab": {
      "name": "heuns and nickolson methods for odes",
      "provenance": []
    },
    "kernelspec": {
      "display_name": "Python 3",
      "name": "python3"
    },
    "language_info": {
      "name": "python"
    }
  },
  "nbformat": 4,
  "nbformat_minor": 0
}