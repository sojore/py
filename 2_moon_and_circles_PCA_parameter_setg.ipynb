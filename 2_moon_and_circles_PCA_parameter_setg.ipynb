{
  "nbformat": 4,
  "nbformat_minor": 0,
  "metadata": {
    "colab": {
      "name": "2_moon_and_circles_PCA_parameter_setg.ipynb",
      "provenance": [],
      "collapsed_sections": []
    },
    "kernelspec": {
      "name": "python3",
      "display_name": "Python 3"
    },
    "language_info": {
      "name": "python"
    }
  },
  "cells": [
    {
      "cell_type": "code",
      "metadata": {
        "id": "oZxCP1rCNUK9"
      },
      "source": [
        "#generating both 2 moon and 2 circles datasets from scratch\n",
        "#2 moon dataset\n"
      ],
      "execution_count": 1,
      "outputs": []
    },
    {
      "cell_type": "code",
      "metadata": {
        "id": "e9iErjTSPY45"
      },
      "source": [
        "#importing important libraries\n",
        "import pandas as pd\n",
        "import numpy as np\n",
        "import matplotlib.pyplot as plt\n",
        "import seaborn as sns\n",
        "\n",
        "#then we import the make moons function from sklearn library to generate the dataset\n",
        "from sklearn.datasets import make_moons\n"
      ],
      "execution_count": 2,
      "outputs": []
    },
    {
      "cell_type": "code",
      "metadata": {
        "id": "Yv43vXwFP7OC"
      },
      "source": [
        "#now we make moons dataset with a total of 100 samples and the noise of std=0.1 as per the documentation as below\n",
        "X,y=make_moons(n_samples=100,noise=0.1)"
      ],
      "execution_count": 3,
      "outputs": []
    },
    {
      "cell_type": "code",
      "metadata": {
        "colab": {
          "base_uri": "https://localhost:8080/",
          "height": 279
        },
        "id": "jFycCC-HQYMg",
        "outputId": "9cd11dd0-b467-40f1-fd98-3a1d6f669e03"
      },
      "source": [
        "#now we have the moon dataset generated,next up we can plot it for better visualization\n",
        "\n",
        "#there we go\n",
        "\n",
        "df=pd.DataFrame(dict(x=X[:,0],y=X[:,1],label=y))\n",
        "colors={0:'green',1:'purple'}\n",
        "figure,ax=plt.subplots()\n",
        "grouped_df=df.groupby('label')\n",
        "for i,j in grouped_df:\n",
        "  j.plot(ax=ax,kind='scatter',x='x',y='y',label=i,color=colors[i])\n",
        "plt.show()\n"
      ],
      "execution_count": 4,
      "outputs": [
        {
          "output_type": "display_data",
          "data": {
            "image/png": "[encoded data removed]",
            "text/plain": [
              "<Figure size 432x288 with 1 Axes>"
            ]
          },
          "metadata": {
            "needs_background": "light"
          }
        }
      ]
    },
    {
      "cell_type": "code",
      "metadata": {
        "id": "EbuaoABxSI5K"
      },
      "source": [
        "#using sklearn train_test_split function to split the dataset into training and testing dataset\n",
        "from sklearn.model_selection import train_test_split\n",
        "target_var=df.label\n",
        "df.drop(['label'],axis=1,inplace=True)\n",
        "y=target_var\n",
        "x=df"
      ],
      "execution_count": 5,
      "outputs": []
    },
    {
      "cell_type": "code",
      "metadata": {
        "id": "fmgnjKQAVb_t"
      },
      "source": [
        "###next up is generating the 2 circles dataset\n",
        "#we import the following libraries\n",
        "#pandas,numpy,seaborn,matplotlib as for the make moon datasets above\n",
        "#since we already imported the libraries above ,the only different function we need to impo\n",
        "#import is the make circles function from the sklearn library as below\n",
        "from sklearn.datasets import make_circles"
      ],
      "execution_count": 6,
      "outputs": []
    },
    {
      "cell_type": "code",
      "metadata": {
        "id": "TGelIidiXEce"
      },
      "source": [
        "#lets now generate the circles dataset with 200 samples and noise as 0.1 as per the documentation\n",
        "X1,y1=make_circles(n_samples=200,noise=0.1,factor=.3)   #you can run a samples of higher value(say 1000) for better circles concentration visualization"
      ],
      "execution_count": 7,
      "outputs": []
    },
    {
      "cell_type": "code",
      "metadata": {
        "colab": {
          "base_uri": "https://localhost:8080/",
          "height": 265
        },
        "id": "6jQZI0DAXbCV",
        "outputId": "bf5b3e5e-62bc-47e9-9c58-6621c3443c91"
      },
      "source": [
        "# #lets plot the 2 circles dataset for better visualization\n",
        "df1=pd.DataFrame(dict(x=X1[:,0],y=X1[:,1],label=y1))\n",
        "c1 = X1[y1==0]\n",
        "c2  = X1[y1==1]\n",
        "\n",
        "plt.figure()\n",
        "plt.scatter(c1[:, 0], c1[:, 1], color='green')\n",
        "plt.scatter(c2[:, 0], c2[:, 1], color='orange')\n",
        "plt.show()"
      ],
      "execution_count": 8,
      "outputs": [
        {
          "output_type": "display_data",
          "data": {
            "image/png": "[encoded data removed]",
            "text/plain": [
              "<Figure size 432x288 with 1 Axes>"
            ]
          },
          "metadata": {
            "needs_background": "light"
          }
        }
      ]
    },
    {
      "cell_type": "code",
      "metadata": {
        "id": "4IkRgtgBYw5s"
      },
      "source": [
        "#splitting the circles dataset for training and testing  using the sklearn train test split function\n",
        "from sklearn.model_selection import train_test_split\n",
        "target1_var=df1.label\n",
        "df1.drop(['label'],axis=1,inplace=True)\n",
        "y1=target1_var\n",
        "x=df1"
      ],
      "execution_count": 9,
      "outputs": []
    },
    {
      "cell_type": "code",
      "metadata": {
        "id": "CIQYk87Fcd9u"
      },
      "source": [
        "####now that we have the 2 datasets ready to go,,next thing we need to do for both datasets is that we need to \n",
        "#find a parameter setting on both datasets for which the kernel PCA will successfully separate the data \n",
        "#2 clusters or basically what we call components\n",
        "#so how do we go about it?  \n",
        "#we proceed as below"
      ],
      "execution_count": 11,
      "outputs": []
    },
    {
      "cell_type": "code",
      "metadata": {
        "id": "pO7mZeijiKS2"
      },
      "source": [
        "#our main task now is to know how implement the kernel PCA function which we gonna be using to seperate the datasets into 2 clusters\n",
        "#and investigate where it succeeds and fails\n",
        "#we can as well use the sklearn kernelPCA function to perfom the same operation (from sklearn.decomposition import KernelPCA)\n",
        "#buh in this case i gonna prefer the implementation from scratch so as make it easy inspect what parameter setting the method succeeds\n",
        "# and fails"
      ],
      "execution_count": 12,
      "outputs": []
    },
    {
      "cell_type": "code",
      "metadata": {
        "id": "jw69VVtnkr4i"
      },
      "source": [
        "#importing some important libraries\n",
        "from scipy.linalg import eigh\n",
        "from scipy.spatial.distance import pdist, squareform\n",
        "from scipy import exp\n",
        "def kernel_pca_func(X, gamma_value, n_components):\n",
        "    squared_distances = pdist(X, 'sqeuclidean')  #calculating the pairwise squared euclidean distances  \n",
        "    matrix_square_distances = squareform(squared_distances)    #converting the distances into a square matrix\n",
        "    H = exp(-gamma_value * matrix_square_distances)    \n",
        "    n_val = H.shape[0]  #getting the center of the matrix\n",
        "    n = np.ones((n_val,n_val)) / n_val\n",
        "    H = H - n.dot(H) - H.dot(n) + n.dot(H).dot(n)    \n",
        "    eigenvalues, eigenvectors = eigh(H)  #centered matrix eigenpairs\n",
        "    eigenvalues, eigenvectors = eigenvalues[::-1], eigenvectors[:, ::-1]    \n",
        "    stacked_val = np.column_stack([eigenvectors[:, i] for i in range(n_components)])    \n",
        "    return stacked_val"
      ],
      "execution_count": 13,
      "outputs": []
    },
    {
      "cell_type": "code",
      "metadata": {
        "colab": {
          "base_uri": "https://localhost:8080/",
          "height": 350
        },
        "id": "2lJvXl7hktF9",
        "outputId": "d87960df-a6e1-4d40-a331-fc38df21adff"
      },
      "source": [
        "##separating the 2 moon dataset\n",
        "kernel_PCA_X = kernel_pca_func(X, gamma_value=20, n_components=2) #setting the parameter gamma to 1 will not work buh with 15 we can roll\n",
        "plt.scatter(kernel_PCA_X[y==0, 0], kernel_PCA_X[y==0, 1],color='green', alpha=0.5)\n",
        "plt.scatter(kernel_PCA_X[y==1, 0], kernel_PCA_X[y==1, 1],color='red' )\n",
        "plt.xlabel('PC1')\n",
        "plt.ylabel('PC1')\n",
        "plt.tight_layout()\n",
        "plt.show()"
      ],
      "execution_count": 14,
      "outputs": [
        {
          "output_type": "stream",
          "name": "stderr",
          "text": [
            "/usr/local/lib/python3.7/dist-packages/ipykernel_launcher.py:8: DeprecationWarning: scipy.exp is deprecated and will be removed in SciPy 2.0.0, use numpy.exp instead\n",
            "  \n"
          ]
        },
        {
          "output_type": "display_data",
          "data": {
            "image/png": "[encoded data removed]",
            "text/plain": [
              "<Figure size 432x288 with 1 Axes>"
            ]
          },
          "metadata": {
            "needs_background": "light"
          }
        }
      ]
    },
    {
      "cell_type": "code",
      "metadata": {
        "id": "jHkz_lS4ZHui"
      },
      "source": [
        "#so actually under these above  parameter setting the separation actually succeeds\n",
        "\n",
        "#we next gonna obtain some other parameter setting for which this separation fails as below\n"
      ],
      "execution_count": 15,
      "outputs": []
    },
    {
      "cell_type": "code",
      "metadata": {
        "colab": {
          "base_uri": "https://localhost:8080/",
          "height": 350
        },
        "id": "SChPNHKnZetT",
        "outputId": "72d91042-8c71-4f04-c204-603c8540e791"
      },
      "source": [
        "#we next gonna obtain some other parameter setting for which this separation fails as below\n",
        "##separating the 2 moon dataset\n",
        "kernel_PCA_X = kernel_pca_func(X, gamma_value=2, n_components=2) #setting the parameter gamma to 1 will not work buh with 15 we can roll\n",
        "plt.scatter(kernel_PCA_X[y==0, 0], kernel_PCA_X[y==0, 1],color='green')\n",
        "plt.scatter(kernel_PCA_X[y==1, 0], kernel_PCA_X[y==1, 1],color='red')\n",
        "plt.xlabel('PC1')\n",
        "plt.ylabel('PC1')\n",
        "plt.tight_layout()\n",
        "plt.show()"
      ],
      "execution_count": 16,
      "outputs": [
        {
          "output_type": "stream",
          "name": "stderr",
          "text": [
            "/usr/local/lib/python3.7/dist-packages/ipykernel_launcher.py:8: DeprecationWarning: scipy.exp is deprecated and will be removed in SciPy 2.0.0, use numpy.exp instead\n",
            "  \n"
          ]
        },
        {
          "output_type": "display_data",
          "data": {
            "image/png": "[encoded data removed]",
            "text/plain": [
              "<Figure size 432x288 with 1 Axes>"
            ]
          },
          "metadata": {
            "needs_background": "light"
          }
        }
      ]
    },
    {
      "cell_type": "code",
      "metadata": {
        "id": "CtU8GFRBZkhU"
      },
      "source": [
        "#so with the above parameter setting the separation fails for the 2 moon dataset"
      ],
      "execution_count": 17,
      "outputs": []
    },
    {
      "cell_type": "code",
      "metadata": {
        "id": "GicdyvYDZuQh"
      },
      "source": [
        "###we gonna do the same for the 2 circles dataset"
      ],
      "execution_count": 18,
      "outputs": []
    },
    {
      "cell_type": "code",
      "metadata": {
        "colab": {
          "base_uri": "https://localhost:8080/",
          "height": 350
        },
        "id": "llIXqPPblKQW",
        "outputId": "b1a7b99f-2398-4638-bbeb-15022255a231"
      },
      "source": [
        "\n",
        "##separating the 2 circles dataset\n",
        "kernel_PCA_X2 = kernel_pca_func(X1, gamma_value=2, n_components=2)##we will be altering the gamma value to set the parameter in a way that the separation\n",
        "#actually succeeds and likewise fails\n",
        "plt.scatter(kernel_PCA_X2[y1==0, 0], kernel_PCA_X2[y1==0, 1],color='green')\n",
        "plt.scatter(kernel_PCA_X2[y1==1, 0], kernel_PCA_X2[y1==1, 1],color='purple')\n",
        "plt.xlabel('PC1')\n",
        "plt.ylabel('PC2')\n",
        "plt.tight_layout()\n",
        "plt.show()"
      ],
      "execution_count": 19,
      "outputs": [
        {
          "output_type": "stream",
          "name": "stderr",
          "text": [
            "/usr/local/lib/python3.7/dist-packages/ipykernel_launcher.py:8: DeprecationWarning: scipy.exp is deprecated and will be removed in SciPy 2.0.0, use numpy.exp instead\n",
            "  \n"
          ]
        },
        {
          "output_type": "display_data",
          "data": {
            "image/png": "[encoded data removed]",
            "text/plain": [
              "<Figure size 432x288 with 1 Axes>"
            ]
          },
          "metadata": {
            "needs_background": "light"
          }
        }
      ]
    },
    {
      "cell_type": "code",
      "metadata": {
        "id": "vmYySsRda6Hc"
      },
      "source": [
        "#with the above parameter setting the separation succeeds"
      ],
      "execution_count": 20,
      "outputs": []
    },
    {
      "cell_type": "code",
      "metadata": {
        "colab": {
          "base_uri": "https://localhost:8080/",
          "height": 350
        },
        "id": "uHAwXVVHa_1a",
        "outputId": "44e7821e-09c1-4bef-c163-76aebf6cf094"
      },
      "source": [
        "#we see similarly a parameter setting for which the 2-circles-dataset separation fails\n",
        "kernel_PCA_X2 = kernel_pca_func(X1, gamma_value=12, n_components=2)##we will be altering the gamma value to set the parameter in a way that the separation\n",
        "#actually succeeds and likewise fails\n",
        "plt.scatter(kernel_PCA_X2[y1==0, 0], kernel_PCA_X2[y1==0, 1],color='green')\n",
        "plt.scatter(kernel_PCA_X2[y1==1, 0], kernel_PCA_X2[y1==1, 1],color='purple')\n",
        "plt.xlabel('PC1')\n",
        "plt.ylabel('PC2')\n",
        "plt.tight_layout()\n",
        "plt.show()"
      ],
      "execution_count": 21,
      "outputs": [
        {
          "output_type": "stream",
          "name": "stderr",
          "text": [
            "/usr/local/lib/python3.7/dist-packages/ipykernel_launcher.py:8: DeprecationWarning: scipy.exp is deprecated and will be removed in SciPy 2.0.0, use numpy.exp instead\n",
            "  \n"
          ]
        },
        {
          "output_type": "display_data",
          "data": {
            "image/png": "[encoded data removed]",
            "text/plain": [
              "<Figure size 432x288 with 1 Axes>"
            ]
          },
          "metadata": {
            "needs_background": "light"
          }
        }
      ]
    },
    {
      "cell_type": "code",
      "metadata": {
        "id": "1XT3M1m_nXCb"
      },
      "source": [
        "#reasons for failure\n",
        "#the major reason why the kernlPca fails to attain good data separation is simply because this function does not\n",
        "#take class labels as defined in generation of the datasets into account, meaning that if one has to use this kernelPCA \n",
        "#to compute the reconstruction error  which is used as a models measure of perfomance ,then this will not work since the kernelPCA is \n",
        "#not comparable between different kernels .i.e different kernels corresponds to different target spaces"
      ],
      "execution_count": 22,
      "outputs": []
    },
    {
      "cell_type": "markdown",
      "metadata": {
        "id": "eaU6QVS5b7Jl"
      },
      "source": [
        "END OF IMPLEMENTATION AND TESTING . THANK YOU!!!"
      ]
    }
  ]
}