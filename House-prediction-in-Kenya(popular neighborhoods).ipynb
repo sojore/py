{
 "cells": [
  {
   "cell_type": "code",
   "execution_count": 8,
   "metadata": {},
   "outputs": [],
   "source": [
    "#in this project i will be creating a model which can be used to do price prediction on popular kenyan housing neighborhoods\n",
    "#credits to kaggle for the dataset...link..https://www.kaggle.com/iamasteriix/rental-apartments-in-kenya"
   ]
  },
  {
   "cell_type": "code",
   "execution_count": 9,
   "metadata": {},
   "outputs": [],
   "source": [
    "#importing important libraries\n",
    "import pandas as pd\n",
    "import numpy as np\n",
    "import matplotlib.pyplot as plt\n",
    "import matplotlib\n",
    "matplotlib.rcParams['figure.figsize']==(20,10)\n",
    "%matplotlib inline"
   ]
  },
  {
   "cell_type": "code",
   "execution_count": 10,
   "metadata": {},
   "outputs": [
    {
     "data": {
      "text/html": [
       "<div>\n",
       "<style scoped>\n",
       "    .dataframe tbody tr th:only-of-type {\n",
       "        vertical-align: middle;\n",
       "    }\n",
       "\n",
       "    .dataframe tbody tr th {\n",
       "        vertical-align: top;\n",
       "    }\n",
       "\n",
       "    .dataframe thead th {\n",
       "        text-align: right;\n",
       "    }\n",
       "</style>\n",
       "<table border=\"1\" class=\"dataframe\">\n",
       "  <thead>\n",
       "    <tr style=\"text-align: right;\">\n",
       "      <th></th>\n",
       "      <th>Agency</th>\n",
       "      <th>Neighborhood</th>\n",
       "      <th>Price</th>\n",
       "      <th>link</th>\n",
       "      <th>sq_mtrs</th>\n",
       "      <th>Bedrooms</th>\n",
       "      <th>Bathrooms</th>\n",
       "    </tr>\n",
       "  </thead>\n",
       "  <tbody>\n",
       "    <tr>\n",
       "      <th>0</th>\n",
       "      <td>Buy Rent Shelters</td>\n",
       "      <td>General Mathenge, Westlands</td>\n",
       "      <td>KSh 155,000</td>\n",
       "      <td>/listings/4-bedroom-apartment-for-rent-general...</td>\n",
       "      <td>4.0</td>\n",
       "      <td>4.0</td>\n",
       "      <td>4.0</td>\n",
       "    </tr>\n",
       "    <tr>\n",
       "      <th>1</th>\n",
       "      <td>Kenya Classic Homes</td>\n",
       "      <td>Kilimani, Dagoretti North</td>\n",
       "      <td>KSh 100,000</td>\n",
       "      <td>/listings/3-bedroom-apartment-for-rent-kiliman...</td>\n",
       "      <td>300.0</td>\n",
       "      <td>3.0</td>\n",
       "      <td>4.0</td>\n",
       "    </tr>\n",
       "    <tr>\n",
       "      <th>2</th>\n",
       "      <td>Absolute Estate Agents</td>\n",
       "      <td>Hatheru Rd,, Lavington, Dagoretti North</td>\n",
       "      <td>KSh 75,000</td>\n",
       "      <td>/listings/3-bedroom-apartment-for-rent-lavingt...</td>\n",
       "      <td>3.0</td>\n",
       "      <td>3.0</td>\n",
       "      <td>5.0</td>\n",
       "    </tr>\n",
       "    <tr>\n",
       "      <th>3</th>\n",
       "      <td>A1 Properties Limited</td>\n",
       "      <td>Kilimani, Dagoretti North</td>\n",
       "      <td>KSh 135,000</td>\n",
       "      <td>/listings/3-bedroom-apartment-for-rent-kiliman...</td>\n",
       "      <td>227.0</td>\n",
       "      <td>3.0</td>\n",
       "      <td>4.0</td>\n",
       "    </tr>\n",
       "    <tr>\n",
       "      <th>4</th>\n",
       "      <td>Pmc Estates Limited</td>\n",
       "      <td>Imara Daima, Embakasi</td>\n",
       "      <td>KSh 50,000</td>\n",
       "      <td>/listings/3-bedroom-apartment-for-rent-imara-d...</td>\n",
       "      <td>3.0</td>\n",
       "      <td>3.0</td>\n",
       "      <td>NaN</td>\n",
       "    </tr>\n",
       "  </tbody>\n",
       "</table>\n",
       "</div>"
      ],
      "text/plain": [
       "                   Agency                             Neighborhood  \\\n",
       "0       Buy Rent Shelters              General Mathenge, Westlands   \n",
       "1     Kenya Classic Homes                Kilimani, Dagoretti North   \n",
       "2  Absolute Estate Agents  Hatheru Rd,, Lavington, Dagoretti North   \n",
       "3   A1 Properties Limited                Kilimani, Dagoretti North   \n",
       "4     Pmc Estates Limited                    Imara Daima, Embakasi   \n",
       "\n",
       "         Price                                               link  sq_mtrs  \\\n",
       "0  KSh 155,000  /listings/4-bedroom-apartment-for-rent-general...      4.0   \n",
       "1  KSh 100,000  /listings/3-bedroom-apartment-for-rent-kiliman...    300.0   \n",
       "2   KSh 75,000  /listings/3-bedroom-apartment-for-rent-lavingt...      3.0   \n",
       "3  KSh 135,000  /listings/3-bedroom-apartment-for-rent-kiliman...    227.0   \n",
       "4   KSh 50,000  /listings/3-bedroom-apartment-for-rent-imara-d...      3.0   \n",
       "\n",
       "   Bedrooms  Bathrooms  \n",
       "0       4.0        4.0  \n",
       "1       3.0        4.0  \n",
       "2       3.0        5.0  \n",
       "3       3.0        4.0  \n",
       "4       3.0        NaN  "
      ]
     },
     "execution_count": 10,
     "metadata": {},
     "output_type": "execute_result"
    }
   ],
   "source": [
    "#loading the dataset\n",
    "df=pd.read_csv('C://Users/sojore/Documents/rent_apts.csv')\n",
    "df.head()"
   ]
  },
  {
   "cell_type": "code",
   "execution_count": 11,
   "metadata": {},
   "outputs": [
    {
     "data": {
      "text/plain": [
       "(1848, 7)"
      ]
     },
     "execution_count": 11,
     "metadata": {},
     "output_type": "execute_result"
    }
   ],
   "source": [
    "#exploring the dataset\n",
    "df.shape"
   ]
  },
  {
   "cell_type": "code",
   "execution_count": 12,
   "metadata": {},
   "outputs": [
    {
     "data": {
      "text/html": [
       "<div>\n",
       "<style scoped>\n",
       "    .dataframe tbody tr th:only-of-type {\n",
       "        vertical-align: middle;\n",
       "    }\n",
       "\n",
       "    .dataframe tbody tr th {\n",
       "        vertical-align: top;\n",
       "    }\n",
       "\n",
       "    .dataframe thead th {\n",
       "        text-align: right;\n",
       "    }\n",
       "</style>\n",
       "<table border=\"1\" class=\"dataframe\">\n",
       "  <thead>\n",
       "    <tr style=\"text-align: right;\">\n",
       "      <th></th>\n",
       "      <th>Neighborhood</th>\n",
       "      <th>Price</th>\n",
       "      <th>sq_mtrs</th>\n",
       "      <th>Bedrooms</th>\n",
       "      <th>Bathrooms</th>\n",
       "    </tr>\n",
       "  </thead>\n",
       "  <tbody>\n",
       "    <tr>\n",
       "      <th>0</th>\n",
       "      <td>General Mathenge, Westlands</td>\n",
       "      <td>KSh 155,000</td>\n",
       "      <td>4.0</td>\n",
       "      <td>4.0</td>\n",
       "      <td>4.0</td>\n",
       "    </tr>\n",
       "    <tr>\n",
       "      <th>1</th>\n",
       "      <td>Kilimani, Dagoretti North</td>\n",
       "      <td>KSh 100,000</td>\n",
       "      <td>300.0</td>\n",
       "      <td>3.0</td>\n",
       "      <td>4.0</td>\n",
       "    </tr>\n",
       "    <tr>\n",
       "      <th>2</th>\n",
       "      <td>Hatheru Rd,, Lavington, Dagoretti North</td>\n",
       "      <td>KSh 75,000</td>\n",
       "      <td>3.0</td>\n",
       "      <td>3.0</td>\n",
       "      <td>5.0</td>\n",
       "    </tr>\n",
       "    <tr>\n",
       "      <th>3</th>\n",
       "      <td>Kilimani, Dagoretti North</td>\n",
       "      <td>KSh 135,000</td>\n",
       "      <td>227.0</td>\n",
       "      <td>3.0</td>\n",
       "      <td>4.0</td>\n",
       "    </tr>\n",
       "    <tr>\n",
       "      <th>4</th>\n",
       "      <td>Imara Daima, Embakasi</td>\n",
       "      <td>KSh 50,000</td>\n",
       "      <td>3.0</td>\n",
       "      <td>3.0</td>\n",
       "      <td>NaN</td>\n",
       "    </tr>\n",
       "  </tbody>\n",
       "</table>\n",
       "</div>"
      ],
      "text/plain": [
       "                              Neighborhood        Price  sq_mtrs  Bedrooms  \\\n",
       "0              General Mathenge, Westlands  KSh 155,000      4.0       4.0   \n",
       "1                Kilimani, Dagoretti North  KSh 100,000    300.0       3.0   \n",
       "2  Hatheru Rd,, Lavington, Dagoretti North   KSh 75,000      3.0       3.0   \n",
       "3                Kilimani, Dagoretti North  KSh 135,000    227.0       3.0   \n",
       "4                    Imara Daima, Embakasi   KSh 50,000      3.0       3.0   \n",
       "\n",
       "   Bathrooms  \n",
       "0        4.0  \n",
       "1        4.0  \n",
       "2        5.0  \n",
       "3        4.0  \n",
       "4        NaN  "
      ]
     },
     "execution_count": 12,
     "metadata": {},
     "output_type": "execute_result"
    }
   ],
   "source": [
    "#droping unneccesary columns,\n",
    "df1=df.drop(['Agency','link'],axis='columns')\n",
    "df1.head()"
   ]
  },
  {
   "cell_type": "code",
   "execution_count": 13,
   "metadata": {},
   "outputs": [
    {
     "data": {
      "text/plain": [
       "Neighborhood\n",
       "Kilimani, Dagoretti North                                  168\n",
       "Kileleshwa, Dagoretti North                                108\n",
       "Westlands Area, Westlands                                  105\n",
       "Lavington, Dagoretti North                                  90\n",
       "Riverside, Westlands                                        54\n",
       "                                                          ... \n",
       "Off Brookside Drive, Soorae Flats, Brookside, Westlands      1\n",
       "Off Dennis Pritt Road, Kileleshwa, Dagoretti North           1\n",
       "Off Gitanga Road, Valley Arcade, Dagoretti North             1\n",
       "Off Naivasha road, Dagoretti Corner, Dagoretti South         1\n",
       ", Dennis Pritt, Kilimani, Dagoretti North                    1\n",
       "Name: Neighborhood, Length: 647, dtype: int64"
      ]
     },
     "execution_count": 13,
     "metadata": {},
     "output_type": "execute_result"
    }
   ],
   "source": [
    "df1.groupby('Neighborhood')['Neighborhood'].agg('count').sort_values(ascending=False)"
   ]
  },
  {
   "cell_type": "code",
   "execution_count": 14,
   "metadata": {},
   "outputs": [
    {
     "data": {
      "text/plain": [
       "Neighborhood      0\n",
       "Price             0\n",
       "sq_mtrs           2\n",
       "Bedrooms          3\n",
       "Bathrooms       291\n",
       "dtype: int64"
      ]
     },
     "execution_count": 14,
     "metadata": {},
     "output_type": "execute_result"
    }
   ],
   "source": [
    "#handling the missing values\n",
    "df1.isnull().sum()"
   ]
  },
  {
   "cell_type": "code",
   "execution_count": 15,
   "metadata": {},
   "outputs": [
    {
     "data": {
      "text/plain": [
       "array([ 4.,  5., nan,  3.,  2.,  1.,  6.])"
      ]
     },
     "execution_count": 15,
     "metadata": {},
     "output_type": "execute_result"
    }
   ],
   "source": [
    "#i will fill the nan values in bedrooms,bathrooms and sq_mtrs columns with the mean floor value,numpy round function..\n",
    "df1.Bathrooms.unique()"
   ]
  },
  {
   "cell_type": "code",
   "execution_count": 16,
   "metadata": {},
   "outputs": [
    {
     "data": {
      "text/plain": [
       "2.0"
      ]
     },
     "execution_count": 16,
     "metadata": {},
     "output_type": "execute_result"
    }
   ],
   "source": [
    "from math import *\n",
    "df1.Bathrooms.mean()\n",
    "floor_val=floor(df1.Bathrooms.mean())\n",
    "f=float(floor_val)\n",
    "f"
   ]
  },
  {
   "cell_type": "code",
   "execution_count": 17,
   "metadata": {},
   "outputs": [
    {
     "data": {
      "text/plain": [
       "False"
      ]
     },
     "execution_count": 17,
     "metadata": {},
     "output_type": "execute_result"
    }
   ],
   "source": [
    "df1['Bathrooms']=df1['Bathrooms'].fillna(f)\n",
    "df1['Bathrooms'].isna().any()"
   ]
  },
  {
   "cell_type": "code",
   "execution_count": 18,
   "metadata": {},
   "outputs": [
    {
     "data": {
      "text/plain": [
       "array([ 4.,  3.,  2.,  1.,  0., nan,  5.,  6.])"
      ]
     },
     "execution_count": 18,
     "metadata": {},
     "output_type": "execute_result"
    }
   ],
   "source": [
    "df1.Bedrooms.unique()"
   ]
  },
  {
   "cell_type": "code",
   "execution_count": 19,
   "metadata": {},
   "outputs": [
    {
     "data": {
      "text/plain": [
       "3.0"
      ]
     },
     "execution_count": 19,
     "metadata": {},
     "output_type": "execute_result"
    }
   ],
   "source": [
    "f1=np.round(df1.Bedrooms.mean(),0)\n",
    "f1"
   ]
  },
  {
   "cell_type": "code",
   "execution_count": 20,
   "metadata": {},
   "outputs": [
    {
     "data": {
      "text/plain": [
       "0"
      ]
     },
     "execution_count": 20,
     "metadata": {},
     "output_type": "execute_result"
    }
   ],
   "source": [
    "df1.Bedrooms=df1.Bedrooms.fillna(f1)\n",
    "df1.Bedrooms.isna().sum()"
   ]
  },
  {
   "cell_type": "code",
   "execution_count": 21,
   "metadata": {},
   "outputs": [
    {
     "data": {
      "text/plain": [
       "0    3.0\n",
       "dtype: float64"
      ]
     },
     "execution_count": 21,
     "metadata": {},
     "output_type": "execute_result"
    }
   ],
   "source": [
    "df1.sq_mtrs.mode()         "
   ]
  },
  {
   "cell_type": "code",
   "execution_count": 22,
   "metadata": {},
   "outputs": [],
   "source": [
    "df1.sq_mtrs=df1.sq_mtrs.fillna(3.0)"
   ]
  },
  {
   "cell_type": "code",
   "execution_count": 23,
   "metadata": {},
   "outputs": [
    {
     "data": {
      "text/plain": [
       "Neighborhood    0\n",
       "Price           0\n",
       "sq_mtrs         0\n",
       "Bedrooms        0\n",
       "Bathrooms       0\n",
       "dtype: int64"
      ]
     },
     "execution_count": 23,
     "metadata": {},
     "output_type": "execute_result"
    }
   ],
   "source": [
    "df1.isnull().sum()"
   ]
  },
  {
   "cell_type": "code",
   "execution_count": 24,
   "metadata": {},
   "outputs": [],
   "source": [
    "#now i dont have any nan values in my dataset\n",
    "#"
   ]
  },
  {
   "cell_type": "code",
   "execution_count": 25,
   "metadata": {},
   "outputs": [
    {
     "data": {
      "text/html": [
       "<div>\n",
       "<style scoped>\n",
       "    .dataframe tbody tr th:only-of-type {\n",
       "        vertical-align: middle;\n",
       "    }\n",
       "\n",
       "    .dataframe tbody tr th {\n",
       "        vertical-align: top;\n",
       "    }\n",
       "\n",
       "    .dataframe thead th {\n",
       "        text-align: right;\n",
       "    }\n",
       "</style>\n",
       "<table border=\"1\" class=\"dataframe\">\n",
       "  <thead>\n",
       "    <tr style=\"text-align: right;\">\n",
       "      <th></th>\n",
       "      <th>Neighborhood</th>\n",
       "      <th>Price</th>\n",
       "      <th>sq_mtrs</th>\n",
       "      <th>Bedrooms</th>\n",
       "      <th>Bathrooms</th>\n",
       "    </tr>\n",
       "  </thead>\n",
       "  <tbody>\n",
       "    <tr>\n",
       "      <th>996</th>\n",
       "      <td>Kilimani, Dagoretti North</td>\n",
       "      <td>KSh 100,000</td>\n",
       "      <td>14.0</td>\n",
       "      <td>2.0</td>\n",
       "      <td>2.0</td>\n",
       "    </tr>\n",
       "    <tr>\n",
       "      <th>1313</th>\n",
       "      <td>Lantana, Westlands Area, Westlands</td>\n",
       "      <td>KSh 120,000</td>\n",
       "      <td>200.0</td>\n",
       "      <td>4.0</td>\n",
       "      <td>5.0</td>\n",
       "    </tr>\n",
       "    <tr>\n",
       "      <th>1773</th>\n",
       "      <td>Lavington, Dagoretti North</td>\n",
       "      <td>KSh 165,000</td>\n",
       "      <td>2.0</td>\n",
       "      <td>2.0</td>\n",
       "      <td>2.0</td>\n",
       "    </tr>\n",
       "    <tr>\n",
       "      <th>1262</th>\n",
       "      <td>Rhapta Road, Westlands Area, Westlands</td>\n",
       "      <td>KSh 120,000</td>\n",
       "      <td>3.0</td>\n",
       "      <td>3.0</td>\n",
       "      <td>3.0</td>\n",
       "    </tr>\n",
       "    <tr>\n",
       "      <th>96</th>\n",
       "      <td>Kisumu West, Kisumu West</td>\n",
       "      <td>KSh 30,000</td>\n",
       "      <td>1.0</td>\n",
       "      <td>1.0</td>\n",
       "      <td>1.0</td>\n",
       "    </tr>\n",
       "    <tr>\n",
       "      <th>1556</th>\n",
       "      <td>Kilimani, Dagoretti North</td>\n",
       "      <td>KSh 140,000</td>\n",
       "      <td>2.0</td>\n",
       "      <td>2.0</td>\n",
       "      <td>2.0</td>\n",
       "    </tr>\n",
       "    <tr>\n",
       "      <th>685</th>\n",
       "      <td>Kilimani, Dagoretti North</td>\n",
       "      <td>KSh 80,000</td>\n",
       "      <td>3.0</td>\n",
       "      <td>3.0</td>\n",
       "      <td>2.0</td>\n",
       "    </tr>\n",
       "    <tr>\n",
       "      <th>159</th>\n",
       "      <td>kikambala road, Kileleshwa, Dagoretti North</td>\n",
       "      <td>KSh 85,000</td>\n",
       "      <td>3.0</td>\n",
       "      <td>3.0</td>\n",
       "      <td>3.0</td>\n",
       "    </tr>\n",
       "    <tr>\n",
       "      <th>348</th>\n",
       "      <td>Kileleshwa, Dagoretti North</td>\n",
       "      <td>KSh 60,000</td>\n",
       "      <td>2.0</td>\n",
       "      <td>2.0</td>\n",
       "      <td>2.0</td>\n",
       "    </tr>\n",
       "    <tr>\n",
       "      <th>88</th>\n",
       "      <td>Kikuyu Town, Kikuyu</td>\n",
       "      <td>KSh 28,000</td>\n",
       "      <td>2.0</td>\n",
       "      <td>2.0</td>\n",
       "      <td>2.0</td>\n",
       "    </tr>\n",
       "  </tbody>\n",
       "</table>\n",
       "</div>"
      ],
      "text/plain": [
       "                                     Neighborhood        Price  sq_mtrs  \\\n",
       "996                     Kilimani, Dagoretti North  KSh 100,000     14.0   \n",
       "1313           Lantana, Westlands Area, Westlands  KSh 120,000    200.0   \n",
       "1773                   Lavington, Dagoretti North  KSh 165,000      2.0   \n",
       "1262       Rhapta Road, Westlands Area, Westlands  KSh 120,000      3.0   \n",
       "96                       Kisumu West, Kisumu West   KSh 30,000      1.0   \n",
       "1556                    Kilimani, Dagoretti North  KSh 140,000      2.0   \n",
       "685                     Kilimani, Dagoretti North   KSh 80,000      3.0   \n",
       "159   kikambala road, Kileleshwa, Dagoretti North   KSh 85,000      3.0   \n",
       "348                   Kileleshwa, Dagoretti North   KSh 60,000      2.0   \n",
       "88                            Kikuyu Town, Kikuyu   KSh 28,000      2.0   \n",
       "\n",
       "      Bedrooms  Bathrooms  \n",
       "996        2.0        2.0  \n",
       "1313       4.0        5.0  \n",
       "1773       2.0        2.0  \n",
       "1262       3.0        3.0  \n",
       "96         1.0        1.0  \n",
       "1556       2.0        2.0  \n",
       "685        3.0        2.0  \n",
       "159        3.0        3.0  \n",
       "348        2.0        2.0  \n",
       "88         2.0        2.0  "
      ]
     },
     "execution_count": 25,
     "metadata": {},
     "output_type": "execute_result"
    }
   ],
   "source": [
    "df2=df1.copy()\n",
    "df2.sample(10)"
   ]
  },
  {
   "cell_type": "code",
   "execution_count": 26,
   "metadata": {},
   "outputs": [],
   "source": [
    "#Note--i did alot of research on the sq_mtrs values,n found out that it might have been an error  to label these values as sq_mt\n",
    "#it makes alot of sense for these values to be in sq_ft instead\n",
    "#in addition to this,any Neighborhood's sq_mtrs put as 1,2,3,4... values also appears to be an error too\n",
    "#these values instead needs to be in hundreds ,so i will simply multiply all these values by 100\n",
    "#for example ,instead of having 2-sq_ft,i will have 200-sq-ft==this makes alot more sense \n",
    "#n this wont have a bad influence on our model perfomance"
   ]
  },
  {
   "cell_type": "code",
   "execution_count": 27,
   "metadata": {},
   "outputs": [],
   "source": [
    "#we can write a function to test if we have zero values in the sq_mtrs column\n",
    "#buh we cant have a zero sq_mtrs house,so this is an error to me,n i will fill these zeros with the mode value instead\n",
    "def zeros_to_mode_in_sq_mtrs(x):\n",
    "    if x==0:\n",
    "        return 3.0\n",
    "    else:\n",
    "        return float(x)"
   ]
  },
  {
   "cell_type": "code",
   "execution_count": 28,
   "metadata": {},
   "outputs": [
    {
     "data": {
      "text/plain": [
       "7.0"
      ]
     },
     "execution_count": 28,
     "metadata": {},
     "output_type": "execute_result"
    }
   ],
   "source": [
    "zeros_to_mode_in_sq_mtrs(7)"
   ]
  },
  {
   "cell_type": "code",
   "execution_count": 29,
   "metadata": {},
   "outputs": [],
   "source": [
    "df2['sq_mtrs']=df2['sq_mtrs'].apply(zeros_to_mode_in_sq_mtrs)"
   ]
  },
  {
   "cell_type": "code",
   "execution_count": 30,
   "metadata": {},
   "outputs": [
    {
     "data": {
      "text/plain": [
       "5.0"
      ]
     },
     "execution_count": 30,
     "metadata": {},
     "output_type": "execute_result"
    }
   ],
   "source": [
    "#we already have an f1 value from the fillna for the bedrooms column,so we can use that\n",
    "def zeros_to_mean_in_bedrooms(x):\n",
    "    if x==0:\n",
    "        return f1\n",
    "    else:\n",
    "        return float(x)\n",
    "    \n",
    "zeros_to_mean_in_bedrooms(5)"
   ]
  },
  {
   "cell_type": "code",
   "execution_count": 31,
   "metadata": {},
   "outputs": [
    {
     "data": {
      "text/plain": [
       "False"
      ]
     },
     "execution_count": 31,
     "metadata": {},
     "output_type": "execute_result"
    }
   ],
   "source": [
    "df2['sq_mtrs'].isna().any()"
   ]
  },
  {
   "cell_type": "code",
   "execution_count": 32,
   "metadata": {},
   "outputs": [],
   "source": [
    "df2['Bedrooms']=df2['Bedrooms'].apply(zeros_to_mean_in_bedrooms)"
   ]
  },
  {
   "cell_type": "code",
   "execution_count": 33,
   "metadata": {},
   "outputs": [
    {
     "data": {
      "text/plain": [
       "7.0"
      ]
     },
     "execution_count": 33,
     "metadata": {},
     "output_type": "execute_result"
    }
   ],
   "source": [
    "def zeros_to_mean_in_bathrooms(x):\n",
    "    if x==0:\n",
    "        return f\n",
    "    else:\n",
    "        return x\n",
    "zeros_to_mean_in_bathrooms(7.0)    "
   ]
  },
  {
   "cell_type": "code",
   "execution_count": 34,
   "metadata": {},
   "outputs": [],
   "source": [
    "df2['Bathrooms']=df2['Bathrooms'].apply(zeros_to_mean_in_bathrooms)"
   ]
  },
  {
   "cell_type": "code",
   "execution_count": 35,
   "metadata": {},
   "outputs": [
    {
     "data": {
      "text/plain": [
       "Neighborhood    Waiyaki Way, Westlands\n",
       "Price                       KSh 50,000\n",
       "sq_mtrs                              0\n",
       "Bedrooms                             0\n",
       "Bathrooms                            1\n",
       "Name: 275, dtype: object"
      ]
     },
     "execution_count": 35,
     "metadata": {},
     "output_type": "execute_result"
    }
   ],
   "source": [
    "df1.loc[275]##for example like in this row --in this row ,see we have zeros on the sq_mtrs and bedrooms,which is an error to me"
   ]
  },
  {
   "cell_type": "code",
   "execution_count": 36,
   "metadata": {},
   "outputs": [
    {
     "data": {
      "text/plain": [
       "Neighborhood    Waiyaki Way, Westlands\n",
       "Price                       KSh 50,000\n",
       "sq_mtrs                              3\n",
       "Bedrooms                             3\n",
       "Bathrooms                            1\n",
       "Name: 275, dtype: object"
      ]
     },
     "execution_count": 36,
     "metadata": {},
     "output_type": "execute_result"
    }
   ],
   "source": [
    "df2.loc[275]#now after apply our functions ,we dont have zeros anymore"
   ]
  },
  {
   "cell_type": "code",
   "execution_count": 37,
   "metadata": {},
   "outputs": [
    {
     "data": {
      "text/plain": [
       "0"
      ]
     },
     "execution_count": 37,
     "metadata": {},
     "output_type": "execute_result"
    }
   ],
   "source": [
    "df2['Bedrooms'].isnull().sum()"
   ]
  },
  {
   "cell_type": "code",
   "execution_count": 38,
   "metadata": {},
   "outputs": [
    {
     "data": {
      "text/plain": [
       "Neighborhood    False\n",
       "Price           False\n",
       "sq_mtrs         False\n",
       "Bedrooms        False\n",
       "Bathrooms       False\n",
       "dtype: bool"
      ]
     },
     "execution_count": 38,
     "metadata": {},
     "output_type": "execute_result"
    }
   ],
   "source": [
    "df2.isnull().any()"
   ]
  },
  {
   "cell_type": "code",
   "execution_count": 39,
   "metadata": {},
   "outputs": [],
   "source": [
    "##change of stategy is that,based on row 708 and 716 on csv file,it seems that those values will thousands of values are the \n",
    "#errors,n now i gonna fillna any row with a value greater than 400\n",
    "#then i will fill those nans with the mode of the column\n",
    "#n then i will divide any value greater than 50 by 100,then i will round it to next whole number\n",
    "#any value less than 50 i will set it to the mode(maybe 1,2 or 3)"
   ]
  },
  {
   "cell_type": "code",
   "execution_count": 40,
   "metadata": {},
   "outputs": [],
   "source": [
    "#now i will write the function\n",
    "def convert_sqmtrs_to_1_4_range_vals(x):\n",
    "    if x>=400:\n",
    "        return 3.0\n",
    "    elif x>=100 and x<400:\n",
    "        return np.round(x/100,0)\n",
    "    elif x>4 and x<100:\n",
    "        return 3.0\n",
    "    else:\n",
    "        return float(x)\n",
    "        "
   ]
  },
  {
   "cell_type": "code",
   "execution_count": 41,
   "metadata": {},
   "outputs": [
    {
     "data": {
      "text/plain": [
       "4.0"
      ]
     },
     "execution_count": 41,
     "metadata": {},
     "output_type": "execute_result"
    }
   ],
   "source": [
    "np.round(3.99,0)"
   ]
  },
  {
   "cell_type": "code",
   "execution_count": 42,
   "metadata": {},
   "outputs": [
    {
     "data": {
      "text/plain": [
       "2.0"
      ]
     },
     "execution_count": 42,
     "metadata": {},
     "output_type": "execute_result"
    }
   ],
   "source": [
    "#testinf the function\n",
    "convert_sqmtrs_to_1_4_range_vals(150)"
   ]
  },
  {
   "cell_type": "code",
   "execution_count": 43,
   "metadata": {},
   "outputs": [
    {
     "data": {
      "text/html": [
       "<div>\n",
       "<style scoped>\n",
       "    .dataframe tbody tr th:only-of-type {\n",
       "        vertical-align: middle;\n",
       "    }\n",
       "\n",
       "    .dataframe tbody tr th {\n",
       "        vertical-align: top;\n",
       "    }\n",
       "\n",
       "    .dataframe thead th {\n",
       "        text-align: right;\n",
       "    }\n",
       "</style>\n",
       "<table border=\"1\" class=\"dataframe\">\n",
       "  <thead>\n",
       "    <tr style=\"text-align: right;\">\n",
       "      <th></th>\n",
       "      <th>Neighborhood</th>\n",
       "      <th>Price</th>\n",
       "      <th>sq_mtrs</th>\n",
       "      <th>Bedrooms</th>\n",
       "      <th>Bathrooms</th>\n",
       "    </tr>\n",
       "  </thead>\n",
       "  <tbody>\n",
       "    <tr>\n",
       "      <th>857</th>\n",
       "      <td>Lantana road, Westlands Area, Westlands</td>\n",
       "      <td>KSh 90,000</td>\n",
       "      <td>4.0</td>\n",
       "      <td>4.0</td>\n",
       "      <td>4.0</td>\n",
       "    </tr>\n",
       "    <tr>\n",
       "      <th>22</th>\n",
       "      <td>fisharies, mtambo bamburi road, Bamburi, Kisauni</td>\n",
       "      <td>KSh 13,000</td>\n",
       "      <td>1.0</td>\n",
       "      <td>1.0</td>\n",
       "      <td>1.0</td>\n",
       "    </tr>\n",
       "    <tr>\n",
       "      <th>374</th>\n",
       "      <td>Kiambu Road, Kiambu Road</td>\n",
       "      <td>KSh 60,000</td>\n",
       "      <td>4.0</td>\n",
       "      <td>4.0</td>\n",
       "      <td>4.0</td>\n",
       "    </tr>\n",
       "    <tr>\n",
       "      <th>1257</th>\n",
       "      <td>General Mathenge, Westlands</td>\n",
       "      <td>KSh 120,000</td>\n",
       "      <td>3.0</td>\n",
       "      <td>4.0</td>\n",
       "      <td>4.0</td>\n",
       "    </tr>\n",
       "    <tr>\n",
       "      <th>1454</th>\n",
       "      <td>Parklands, Westlands</td>\n",
       "      <td>KSh 130,000</td>\n",
       "      <td>4.0</td>\n",
       "      <td>4.0</td>\n",
       "      <td>3.0</td>\n",
       "    </tr>\n",
       "    <tr>\n",
       "      <th>692</th>\n",
       "      <td>Kileleshwa, Dagoretti North</td>\n",
       "      <td>KSh 80,000</td>\n",
       "      <td>2.0</td>\n",
       "      <td>2.0</td>\n",
       "      <td>2.0</td>\n",
       "    </tr>\n",
       "    <tr>\n",
       "      <th>1795</th>\n",
       "      <td>Parklands, Westlands</td>\n",
       "      <td>KSh 170,000</td>\n",
       "      <td>2.0</td>\n",
       "      <td>2.0</td>\n",
       "      <td>2.0</td>\n",
       "    </tr>\n",
       "    <tr>\n",
       "      <th>870</th>\n",
       "      <td>Riverside, Westlands</td>\n",
       "      <td>KSh 90,000</td>\n",
       "      <td>3.0</td>\n",
       "      <td>3.0</td>\n",
       "      <td>3.0</td>\n",
       "    </tr>\n",
       "    <tr>\n",
       "      <th>26</th>\n",
       "      <td>Kiambu Road, Kiambu Road</td>\n",
       "      <td>KSh 15,000</td>\n",
       "      <td>3.0</td>\n",
       "      <td>3.0</td>\n",
       "      <td>1.0</td>\n",
       "    </tr>\n",
       "    <tr>\n",
       "      <th>1781</th>\n",
       "      <td>riverside, Riverside, Riverside, Westlands</td>\n",
       "      <td>KSh 170,000</td>\n",
       "      <td>3.0</td>\n",
       "      <td>3.0</td>\n",
       "      <td>3.0</td>\n",
       "    </tr>\n",
       "  </tbody>\n",
       "</table>\n",
       "</div>"
      ],
      "text/plain": [
       "                                          Neighborhood        Price  sq_mtrs  \\\n",
       "857            Lantana road, Westlands Area, Westlands   KSh 90,000      4.0   \n",
       "22    fisharies, mtambo bamburi road, Bamburi, Kisauni   KSh 13,000      1.0   \n",
       "374                           Kiambu Road, Kiambu Road   KSh 60,000      4.0   \n",
       "1257                       General Mathenge, Westlands  KSh 120,000      3.0   \n",
       "1454                              Parklands, Westlands  KSh 130,000      4.0   \n",
       "692                        Kileleshwa, Dagoretti North   KSh 80,000      2.0   \n",
       "1795                              Parklands, Westlands  KSh 170,000      2.0   \n",
       "870                               Riverside, Westlands   KSh 90,000      3.0   \n",
       "26                            Kiambu Road, Kiambu Road   KSh 15,000      3.0   \n",
       "1781        riverside, Riverside, Riverside, Westlands  KSh 170,000      3.0   \n",
       "\n",
       "      Bedrooms  Bathrooms  \n",
       "857        4.0        4.0  \n",
       "22         1.0        1.0  \n",
       "374        4.0        4.0  \n",
       "1257       4.0        4.0  \n",
       "1454       4.0        3.0  \n",
       "692        2.0        2.0  \n",
       "1795       2.0        2.0  \n",
       "870        3.0        3.0  \n",
       "26         3.0        1.0  \n",
       "1781       3.0        3.0  "
      ]
     },
     "execution_count": 43,
     "metadata": {},
     "output_type": "execute_result"
    }
   ],
   "source": [
    "#my function is working pretty good,now we can apply it to the sq_mtrs column\n",
    "df2['sq_mtrs']=df2['sq_mtrs'].apply(convert_sqmtrs_to_1_4_range_vals)\n",
    "df2.sample(10)"
   ]
  },
  {
   "cell_type": "code",
   "execution_count": 44,
   "metadata": {},
   "outputs": [],
   "source": [
    "#next  i will create a sq_ft column where i will set the sq_ft values to hundreds,it makes more sense that way\n",
    "#im doing this because i have minimal knowledge on the why sq_mtrs values were given this way"
   ]
  },
  {
   "cell_type": "code",
   "execution_count": 45,
   "metadata": {},
   "outputs": [
    {
     "data": {
      "text/html": [
       "<div>\n",
       "<style scoped>\n",
       "    .dataframe tbody tr th:only-of-type {\n",
       "        vertical-align: middle;\n",
       "    }\n",
       "\n",
       "    .dataframe tbody tr th {\n",
       "        vertical-align: top;\n",
       "    }\n",
       "\n",
       "    .dataframe thead th {\n",
       "        text-align: right;\n",
       "    }\n",
       "</style>\n",
       "<table border=\"1\" class=\"dataframe\">\n",
       "  <thead>\n",
       "    <tr style=\"text-align: right;\">\n",
       "      <th></th>\n",
       "      <th>Neighborhood</th>\n",
       "      <th>Price</th>\n",
       "      <th>sq_mtrs</th>\n",
       "      <th>Bedrooms</th>\n",
       "      <th>Bathrooms</th>\n",
       "      <th>sq_ft</th>\n",
       "    </tr>\n",
       "  </thead>\n",
       "  <tbody>\n",
       "    <tr>\n",
       "      <th>1843</th>\n",
       "      <td>Laikipia Road, Kileleshwa, Dagoretti North</td>\n",
       "      <td>KSh 180,000</td>\n",
       "      <td>3.0</td>\n",
       "      <td>3.0</td>\n",
       "      <td>2.0</td>\n",
       "      <td>300.0</td>\n",
       "    </tr>\n",
       "    <tr>\n",
       "      <th>1725</th>\n",
       "      <td>Riverside, Westlands</td>\n",
       "      <td>KSh 160,000</td>\n",
       "      <td>3.0</td>\n",
       "      <td>3.0</td>\n",
       "      <td>4.0</td>\n",
       "      <td>300.0</td>\n",
       "    </tr>\n",
       "    <tr>\n",
       "      <th>756</th>\n",
       "      <td>walk to junction mall, Riara road, Lavington, ...</td>\n",
       "      <td>KSh 85,000</td>\n",
       "      <td>2.0</td>\n",
       "      <td>2.0</td>\n",
       "      <td>2.0</td>\n",
       "      <td>200.0</td>\n",
       "    </tr>\n",
       "    <tr>\n",
       "      <th>1459</th>\n",
       "      <td>Rhapta Road, Westlands</td>\n",
       "      <td>KSh 130,000</td>\n",
       "      <td>3.0</td>\n",
       "      <td>3.0</td>\n",
       "      <td>3.0</td>\n",
       "      <td>300.0</td>\n",
       "    </tr>\n",
       "    <tr>\n",
       "      <th>991</th>\n",
       "      <td>Kilimani, Dagoretti North</td>\n",
       "      <td>KSh 98,000</td>\n",
       "      <td>3.0</td>\n",
       "      <td>3.0</td>\n",
       "      <td>4.0</td>\n",
       "      <td>300.0</td>\n",
       "    </tr>\n",
       "    <tr>\n",
       "      <th>950</th>\n",
       "      <td>Raphta rd, Rhapta Road, Westlands</td>\n",
       "      <td>KSh 95,000</td>\n",
       "      <td>2.0</td>\n",
       "      <td>2.0</td>\n",
       "      <td>2.0</td>\n",
       "      <td>200.0</td>\n",
       "    </tr>\n",
       "    <tr>\n",
       "      <th>1494</th>\n",
       "      <td>Westlands Area, Westlands</td>\n",
       "      <td>KSh 135,000</td>\n",
       "      <td>2.0</td>\n",
       "      <td>2.0</td>\n",
       "      <td>2.0</td>\n",
       "      <td>200.0</td>\n",
       "    </tr>\n",
       "    <tr>\n",
       "      <th>632</th>\n",
       "      <td>Off Gitanga Road, Valley Arcade, Dagoretti North</td>\n",
       "      <td>KSh 75,000</td>\n",
       "      <td>3.0</td>\n",
       "      <td>3.0</td>\n",
       "      <td>2.0</td>\n",
       "      <td>300.0</td>\n",
       "    </tr>\n",
       "    <tr>\n",
       "      <th>803</th>\n",
       "      <td>Kilimani, Dagoretti North</td>\n",
       "      <td>KSh 85,000</td>\n",
       "      <td>2.0</td>\n",
       "      <td>2.0</td>\n",
       "      <td>3.0</td>\n",
       "      <td>200.0</td>\n",
       "    </tr>\n",
       "    <tr>\n",
       "      <th>282</th>\n",
       "      <td>Ruaka, Kiambaa</td>\n",
       "      <td>KSh 54,000</td>\n",
       "      <td>3.0</td>\n",
       "      <td>3.0</td>\n",
       "      <td>2.0</td>\n",
       "      <td>300.0</td>\n",
       "    </tr>\n",
       "  </tbody>\n",
       "</table>\n",
       "</div>"
      ],
      "text/plain": [
       "                                           Neighborhood        Price  sq_mtrs  \\\n",
       "1843         Laikipia Road, Kileleshwa, Dagoretti North  KSh 180,000      3.0   \n",
       "1725                               Riverside, Westlands  KSh 160,000      3.0   \n",
       "756   walk to junction mall, Riara road, Lavington, ...   KSh 85,000      2.0   \n",
       "1459                             Rhapta Road, Westlands  KSh 130,000      3.0   \n",
       "991                           Kilimani, Dagoretti North   KSh 98,000      3.0   \n",
       "950                   Raphta rd, Rhapta Road, Westlands   KSh 95,000      2.0   \n",
       "1494                          Westlands Area, Westlands  KSh 135,000      2.0   \n",
       "632    Off Gitanga Road, Valley Arcade, Dagoretti North   KSh 75,000      3.0   \n",
       "803                           Kilimani, Dagoretti North   KSh 85,000      2.0   \n",
       "282                                      Ruaka, Kiambaa   KSh 54,000      3.0   \n",
       "\n",
       "      Bedrooms  Bathrooms  sq_ft  \n",
       "1843       3.0        2.0  300.0  \n",
       "1725       3.0        4.0  300.0  \n",
       "756        2.0        2.0  200.0  \n",
       "1459       3.0        3.0  300.0  \n",
       "991        3.0        4.0  300.0  \n",
       "950        2.0        2.0  200.0  \n",
       "1494       2.0        2.0  200.0  \n",
       "632        3.0        2.0  300.0  \n",
       "803        2.0        3.0  200.0  \n",
       "282        3.0        2.0  300.0  "
      ]
     },
     "execution_count": 45,
     "metadata": {},
     "output_type": "execute_result"
    }
   ],
   "source": [
    "df2['sq_ft']=df2['sq_mtrs'].apply(lambda x: float(x*100))\n",
    "df2.sample(10)"
   ]
  },
  {
   "cell_type": "code",
   "execution_count": 46,
   "metadata": {},
   "outputs": [],
   "source": [
    "#next i will explore the Price column\n",
    "#we need to get rid of the KSh on those values using regular expressions\n",
    "df3=df2.copy()"
   ]
  },
  {
   "cell_type": "code",
   "execution_count": 47,
   "metadata": {},
   "outputs": [
    {
     "data": {
      "text/html": [
       "<div>\n",
       "<style scoped>\n",
       "    .dataframe tbody tr th:only-of-type {\n",
       "        vertical-align: middle;\n",
       "    }\n",
       "\n",
       "    .dataframe tbody tr th {\n",
       "        vertical-align: top;\n",
       "    }\n",
       "\n",
       "    .dataframe thead th {\n",
       "        text-align: right;\n",
       "    }\n",
       "</style>\n",
       "<table border=\"1\" class=\"dataframe\">\n",
       "  <thead>\n",
       "    <tr style=\"text-align: right;\">\n",
       "      <th></th>\n",
       "      <th>Neighborhood</th>\n",
       "      <th>Price</th>\n",
       "      <th>sq_mtrs</th>\n",
       "      <th>Bedrooms</th>\n",
       "      <th>Bathrooms</th>\n",
       "      <th>sq_ft</th>\n",
       "    </tr>\n",
       "  </thead>\n",
       "  <tbody>\n",
       "    <tr>\n",
       "      <th>616</th>\n",
       "      <td>kilimani, kilimani, Kilimani, Dagoretti North</td>\n",
       "      <td>75,000</td>\n",
       "      <td>4.0</td>\n",
       "      <td>4.0</td>\n",
       "      <td>4.0</td>\n",
       "      <td>400.0</td>\n",
       "    </tr>\n",
       "    <tr>\n",
       "      <th>1032</th>\n",
       "      <td>Lenana road, Kilimani, Dagoretti North</td>\n",
       "      <td>100,000</td>\n",
       "      <td>3.0</td>\n",
       "      <td>3.0</td>\n",
       "      <td>3.0</td>\n",
       "      <td>300.0</td>\n",
       "    </tr>\n",
       "    <tr>\n",
       "      <th>156</th>\n",
       "      <td>Ruaka, Kiambaa</td>\n",
       "      <td>38,000</td>\n",
       "      <td>3.0</td>\n",
       "      <td>3.0</td>\n",
       "      <td>2.0</td>\n",
       "      <td>300.0</td>\n",
       "    </tr>\n",
       "    <tr>\n",
       "      <th>1142</th>\n",
       "      <td>kileleshwa, Kileleshwa, Kileleshwa, Dagoretti ...</td>\n",
       "      <td>110,000</td>\n",
       "      <td>3.0</td>\n",
       "      <td>3.0</td>\n",
       "      <td>3.0</td>\n",
       "      <td>300.0</td>\n",
       "    </tr>\n",
       "    <tr>\n",
       "      <th>255</th>\n",
       "      <td>Kamiti Road, Kamiti, Kiambaa</td>\n",
       "      <td>50,000</td>\n",
       "      <td>1.0</td>\n",
       "      <td>3.0</td>\n",
       "      <td>2.0</td>\n",
       "      <td>100.0</td>\n",
       "    </tr>\n",
       "    <tr>\n",
       "      <th>823</th>\n",
       "      <td>Nyali, area, Nyali Area, Nyali</td>\n",
       "      <td>88,000</td>\n",
       "      <td>3.0</td>\n",
       "      <td>3.0</td>\n",
       "      <td>4.0</td>\n",
       "      <td>300.0</td>\n",
       "    </tr>\n",
       "    <tr>\n",
       "      <th>989</th>\n",
       "      <td>Kidaruma, Kilimani, Dagoretti North</td>\n",
       "      <td>98,000</td>\n",
       "      <td>3.0</td>\n",
       "      <td>3.0</td>\n",
       "      <td>3.0</td>\n",
       "      <td>300.0</td>\n",
       "    </tr>\n",
       "    <tr>\n",
       "      <th>456</th>\n",
       "      <td>Kileleshwa, Dagoretti North</td>\n",
       "      <td>65,000</td>\n",
       "      <td>2.0</td>\n",
       "      <td>2.0</td>\n",
       "      <td>2.0</td>\n",
       "      <td>200.0</td>\n",
       "    </tr>\n",
       "    <tr>\n",
       "      <th>489</th>\n",
       "      <td>Kahawa West, Roysambu</td>\n",
       "      <td>70,000</td>\n",
       "      <td>3.0</td>\n",
       "      <td>3.0</td>\n",
       "      <td>2.0</td>\n",
       "      <td>300.0</td>\n",
       "    </tr>\n",
       "    <tr>\n",
       "      <th>1232</th>\n",
       "      <td>Lavington, Dagoretti North</td>\n",
       "      <td>115,000</td>\n",
       "      <td>4.0</td>\n",
       "      <td>4.0</td>\n",
       "      <td>5.0</td>\n",
       "      <td>400.0</td>\n",
       "    </tr>\n",
       "  </tbody>\n",
       "</table>\n",
       "</div>"
      ],
      "text/plain": [
       "                                           Neighborhood     Price  sq_mtrs  \\\n",
       "616       kilimani, kilimani, Kilimani, Dagoretti North    75,000      4.0   \n",
       "1032             Lenana road, Kilimani, Dagoretti North   100,000      3.0   \n",
       "156                                      Ruaka, Kiambaa    38,000      3.0   \n",
       "1142  kileleshwa, Kileleshwa, Kileleshwa, Dagoretti ...   110,000      3.0   \n",
       "255                        Kamiti Road, Kamiti, Kiambaa    50,000      1.0   \n",
       "823                      Nyali, area, Nyali Area, Nyali    88,000      3.0   \n",
       "989                 Kidaruma, Kilimani, Dagoretti North    98,000      3.0   \n",
       "456                         Kileleshwa, Dagoretti North    65,000      2.0   \n",
       "489                               Kahawa West, Roysambu    70,000      3.0   \n",
       "1232                         Lavington, Dagoretti North   115,000      4.0   \n",
       "\n",
       "      Bedrooms  Bathrooms  sq_ft  \n",
       "616        4.0        4.0  400.0  \n",
       "1032       3.0        3.0  300.0  \n",
       "156        3.0        2.0  300.0  \n",
       "1142       3.0        3.0  300.0  \n",
       "255        3.0        2.0  100.0  \n",
       "823        3.0        4.0  300.0  \n",
       "989        3.0        3.0  300.0  \n",
       "456        2.0        2.0  200.0  \n",
       "489        3.0        2.0  300.0  \n",
       "1232       4.0        5.0  400.0  "
      ]
     },
     "execution_count": 47,
     "metadata": {},
     "output_type": "execute_result"
    }
   ],
   "source": [
    "df4=df3.replace({'Price':'[A-Za-z]'},'',regex=True)\n",
    "df4.sample(10)"
   ]
  },
  {
   "cell_type": "code",
   "execution_count": 48,
   "metadata": {},
   "outputs": [
    {
     "data": {
      "text/plain": [
       "dtype('O')"
      ]
     },
     "execution_count": 48,
     "metadata": {},
     "output_type": "execute_result"
    }
   ],
   "source": [
    "df4.Price.dtypes"
   ]
  },
  {
   "cell_type": "code",
   "execution_count": 49,
   "metadata": {},
   "outputs": [],
   "source": [
    "#we need to get rid of the comma in Price column and set those values to floats\n",
    "#for this reason i write a function to do the job\n",
    "def price_to_float(x):\n",
    "    res=x.split(',')\n",
    "    if len(res)==2:\n",
    "        return float(res[0]+res[1])"
   ]
  },
  {
   "cell_type": "code",
   "execution_count": 50,
   "metadata": {},
   "outputs": [
    {
     "data": {
      "text/plain": [
       "160000.0"
      ]
     },
     "execution_count": 50,
     "metadata": {},
     "output_type": "execute_result"
    }
   ],
   "source": [
    "#testing the function\n",
    "price_to_float('160,000')"
   ]
  },
  {
   "cell_type": "code",
   "execution_count": 51,
   "metadata": {},
   "outputs": [
    {
     "data": {
      "text/html": [
       "<div>\n",
       "<style scoped>\n",
       "    .dataframe tbody tr th:only-of-type {\n",
       "        vertical-align: middle;\n",
       "    }\n",
       "\n",
       "    .dataframe tbody tr th {\n",
       "        vertical-align: top;\n",
       "    }\n",
       "\n",
       "    .dataframe thead th {\n",
       "        text-align: right;\n",
       "    }\n",
       "</style>\n",
       "<table border=\"1\" class=\"dataframe\">\n",
       "  <thead>\n",
       "    <tr style=\"text-align: right;\">\n",
       "      <th></th>\n",
       "      <th>Neighborhood</th>\n",
       "      <th>Price</th>\n",
       "      <th>sq_mtrs</th>\n",
       "      <th>Bedrooms</th>\n",
       "      <th>Bathrooms</th>\n",
       "      <th>sq_ft</th>\n",
       "    </tr>\n",
       "  </thead>\n",
       "  <tbody>\n",
       "    <tr>\n",
       "      <th>0</th>\n",
       "      <td>General Mathenge, Westlands</td>\n",
       "      <td>155000.0</td>\n",
       "      <td>4.0</td>\n",
       "      <td>4.0</td>\n",
       "      <td>4.0</td>\n",
       "      <td>400.0</td>\n",
       "    </tr>\n",
       "    <tr>\n",
       "      <th>1</th>\n",
       "      <td>Kilimani, Dagoretti North</td>\n",
       "      <td>100000.0</td>\n",
       "      <td>3.0</td>\n",
       "      <td>3.0</td>\n",
       "      <td>4.0</td>\n",
       "      <td>300.0</td>\n",
       "    </tr>\n",
       "    <tr>\n",
       "      <th>2</th>\n",
       "      <td>Hatheru Rd,, Lavington, Dagoretti North</td>\n",
       "      <td>75000.0</td>\n",
       "      <td>3.0</td>\n",
       "      <td>3.0</td>\n",
       "      <td>5.0</td>\n",
       "      <td>300.0</td>\n",
       "    </tr>\n",
       "    <tr>\n",
       "      <th>3</th>\n",
       "      <td>Kilimani, Dagoretti North</td>\n",
       "      <td>135000.0</td>\n",
       "      <td>2.0</td>\n",
       "      <td>3.0</td>\n",
       "      <td>4.0</td>\n",
       "      <td>200.0</td>\n",
       "    </tr>\n",
       "    <tr>\n",
       "      <th>4</th>\n",
       "      <td>Imara Daima, Embakasi</td>\n",
       "      <td>50000.0</td>\n",
       "      <td>3.0</td>\n",
       "      <td>3.0</td>\n",
       "      <td>2.0</td>\n",
       "      <td>300.0</td>\n",
       "    </tr>\n",
       "  </tbody>\n",
       "</table>\n",
       "</div>"
      ],
      "text/plain": [
       "                              Neighborhood     Price  sq_mtrs  Bedrooms  \\\n",
       "0              General Mathenge, Westlands  155000.0      4.0       4.0   \n",
       "1                Kilimani, Dagoretti North  100000.0      3.0       3.0   \n",
       "2  Hatheru Rd,, Lavington, Dagoretti North   75000.0      3.0       3.0   \n",
       "3                Kilimani, Dagoretti North  135000.0      2.0       3.0   \n",
       "4                    Imara Daima, Embakasi   50000.0      3.0       3.0   \n",
       "\n",
       "   Bathrooms  sq_ft  \n",
       "0        4.0  400.0  \n",
       "1        4.0  300.0  \n",
       "2        5.0  300.0  \n",
       "3        4.0  200.0  \n",
       "4        2.0  300.0  "
      ]
     },
     "execution_count": 51,
     "metadata": {},
     "output_type": "execute_result"
    }
   ],
   "source": [
    "#applying the function\n",
    "df4.Price=df4.Price.apply(price_to_float)\n",
    "df4.head()"
   ]
  },
  {
   "cell_type": "code",
   "execution_count": 52,
   "metadata": {},
   "outputs": [
    {
     "data": {
      "text/plain": [
       "count      1848.000000\n",
       "mean      97343.881494\n",
       "std       40241.322051\n",
       "min       12000.000000\n",
       "25%       70000.000000\n",
       "50%       95000.000000\n",
       "75%      130000.000000\n",
       "max      280000.000000\n",
       "Name: Price, dtype: float64"
      ]
     },
     "execution_count": 52,
     "metadata": {},
     "output_type": "execute_result"
    }
   ],
   "source": [
    "df4.Price.describe()"
   ]
  },
  {
   "cell_type": "code",
   "execution_count": 53,
   "metadata": {},
   "outputs": [
    {
     "data": {
      "text/plain": [
       "Neighborhood\n",
       "Kilimani, Dagoretti North                                  168\n",
       "Kileleshwa, Dagoretti North                                108\n",
       "Westlands Area, Westlands                                  105\n",
       "Lavington, Dagoretti North                                  90\n",
       "Riverside, Westlands                                        54\n",
       "                                                          ... \n",
       "Off Brookside Drive, Soorae Flats, Brookside, Westlands      1\n",
       "Off Dennis Pritt Road, Kileleshwa, Dagoretti North           1\n",
       "Off Gitanga Road, Valley Arcade, Dagoretti North             1\n",
       "Off Naivasha road, Dagoretti Corner, Dagoretti South         1\n",
       ", Dennis Pritt, Kilimani, Dagoretti North                    1\n",
       "Name: Neighborhood, Length: 647, dtype: int64"
      ]
     },
     "execution_count": 53,
     "metadata": {},
     "output_type": "execute_result"
    }
   ],
   "source": [
    "#exploring the Neighborhood column\n",
    "df4.groupby('Neighborhood')['Neighborhood'].agg('count').sort_values(ascending=False)"
   ]
  },
  {
   "cell_type": "code",
   "execution_count": 54,
   "metadata": {},
   "outputs": [
    {
     "data": {
      "text/plain": [
       "647"
      ]
     },
     "execution_count": 54,
     "metadata": {},
     "output_type": "execute_result"
    }
   ],
   "source": [
    "len(df4.groupby('Neighborhood')['Neighborhood'].agg('count').sort_values(ascending=False))"
   ]
  },
  {
   "cell_type": "code",
   "execution_count": 55,
   "metadata": {},
   "outputs": [
    {
     "data": {
      "text/plain": [
       "array(['General Mathenge, Westlands', 'Kilimani, Dagoretti North',\n",
       "       'Hatheru Rd,, Lavington, Dagoretti North', 'Imara Daima, Embakasi',\n",
       "       'Waiyaki Way, Westlands',\n",
       "       'Off Denis Pritt, Kilimani, Dagoretti North',\n",
       "       'Westlands Area, Westlands', 'Thika Road, Thika Road',\n",
       "       'Raphta rd, Rhapta Road, Westlands', 'Thindigua, Thindigua',\n",
       "       'Kileleshwa, Dagoretti North', 'Riverside, Westlands',\n",
       "       'Riverside Drive, Riverside, Westlands', 'Parklands, Westlands',\n",
       "       'Riara, Lavington, Dagoretti North',\n",
       "       'nyali road, nyali road, Nyali Area, Nyali',\n",
       "       'Sports Road, Waiyaki Way, Westlands', 'MUIRU, Ruaka, Kiambaa',\n",
       "       'Ruaka, Kiambaa',\n",
       "       'fisharies, mtambo bamburi road, Bamburi, Kisauni',\n",
       "       'SHULE, Ruaka, Kiambaa',\n",
       "       'Uthiru 87, Waiyaki Way, Uthiru/Ruthimitu, Dagoretti South',\n",
       "       'Kiambu Road, Kiambu Road', 'Zimmerman, Zimmermann, Roysambu',\n",
       "       'MUCHATHA- NATIONAL OIL, Ruaka, Kiambaa',\n",
       "       'Kasarani Area, Kasarani',\n",
       "       'Along Kikuyu Road, Uthiru/Ruthimitu, Dagoretti South',\n",
       "       'Ngong, Kajiado North', 'Kahigu Road-Ruaka, Ruaka, Kiambaa',\n",
       "       'Kindaruma Road, Kilimani, Dagoretti North',\n",
       "       'Seasons, Kasarani Area, Kasarani', 'Athi River Area, Athi River',\n",
       "       'Sub zone, Ngong', 'SLAUGHTER, Ruaka, Kiambaa',\n",
       "       'Oloolua Rd, Ngong, Kajiado North', 'Ruaka-Banana, Ruaka, Kiambaa',\n",
       "       'Bombolulu, Mombasa malindi road, Nyali Area, Nyali',\n",
       "       'THOGOTO, Kikuyu Town, Kikuyu',\n",
       "       'Shanzu serena, Serena, Nyali Area, Nyali',\n",
       "       'Getathuru, Kitisuru, Westlands',\n",
       "       'Ndwaru, Riruta, Dagoretti South',\n",
       "       'Kasarani - Mwiki Rd, Kasarani Area, Kasarani',\n",
       "       'Arwings Kodheck, Kilimani, Dagoretti North',\n",
       "       'Limuru Road, Ruaka, Kiambaa',\n",
       "       'BYPASS, EASTERN BYPASS, Ruiru, Ruiru',\n",
       "       '50, 3rd avenue nyali, Nyali Area, Nyali',\n",
       "       'RUMENYE, Ruaka, Kiambaa',\n",
       "       'links road, BEACH ROAD, Nyali Area, Nyali',\n",
       "       'Ongata Rongai, Kajiado North',\n",
       "       'Kisumu Central Area, Kisumu Central', 'Kikuyu Town, Kikuyu',\n",
       "       'Gravilla Estate, Kabete Area, Kabete', 'Utawala, Embakasi',\n",
       "       'Nairobi West, Langata',\n",
       "       'Vok, New Malindi Mombasa road, Frere Town, Nyali',\n",
       "       'Garissa Road, Thika, Thika',\n",
       "       'Thogoto -DAVAN APARTMENT, Thogoto, Kikuyu Town, Kikuyu',\n",
       "       'NGONG ROAD, NGONG ROAD, Dagoretti Corner, Dagoretti South',\n",
       "       'Nyali Area, Nyali', 'Makueni Rd, Kileleshwa, Dagoretti North',\n",
       "       'BYPASS, NORTHERN BYPASS, Ruiru, Ruiru',\n",
       "       'Garden Estate, Garden Estate, Roysambu',\n",
       "       'Ngumo Central, Ngumo Estate, Langata', 'Syokimau, Athi River',\n",
       "       'links road, links road, Nyali Area, Nyali',\n",
       "       'MOMBASA ROAD, Mombasa Road, Mombasa Road',\n",
       "       'Links road, Links road, Ziwa La Ngombe, Nyali',\n",
       "       'Nyali beach road, Nyali beach road, Nyali Area, Nyali',\n",
       "       'Muringa Road, Kilimani, Dagoretti North',\n",
       "       'Kisumu West, Kisumu West',\n",
       "       'Thindigua, Tsavo Apartments, Kiambu Road, Kiambu Road',\n",
       "       'Phase 2, Thika East, Thika East', 'Karen, Karen, Langata',\n",
       "       '3rd, 3rd avenue, Parklands, Westlands',\n",
       "       'mtwapa, Mtwapa, Kilifi South',\n",
       "       'NA, Racecourse, Ngong Road, Ngong Road',\n",
       "       'New Kitusuru, Westlands', 'Thigiri, Westlands',\n",
       "       'Mombasa Road, Mombasa Road', 'Maziwa rd, Imara Daima, Embakasi',\n",
       "       'Mwimuto, Kiambu Town, Kiambu Town',\n",
       "       'Ngong Rd, Ngong Road, Ngong Road',\n",
       "       'Five Star Gardens, 5 Star Gardens Off Airport View Road, Syokimau, Athi River',\n",
       "       'Near Watakatifu Centre, Kahara Road, Ngong, Kajiado North',\n",
       "       'Kisumu Road, Eldoret North, Eldoret North',\n",
       "       'Kiamumbi, Windsor, Kiambu Constituency',\n",
       "       'Laikipia Road, Kileleshwa, Dagoretti North',\n",
       "       'Migaa, Kiambu Road, Kiambu Road',\n",
       "       'Beijing Road, Off Mombasa Road, Syokimau, Athi River',\n",
       "       'Lower Kabete, Westlands', 'Kahawa Sukari, Roysambu',\n",
       "       'Langata Area, Langata',\n",
       "       'Mamba village, Off links road, Nyali Area, Nyali',\n",
       "       'Denis Pritt, Kilimani, Dagoretti North',\n",
       "       'BEIJING ROAD, Syokimau, Athi River',\n",
       "       'Nyayo Estate, Baraka/Nyayo, Embakasi',\n",
       "       'Dennis Pritt, Lavington, Dagoretti North',\n",
       "       'Lenana road, Kilimani, Dagoretti North',\n",
       "       '1, Chambers, Ngara, Starehe', 'Mkomani, Mkomani, Mkomani, Nyali',\n",
       "       'Garden Estate, Roysambu', 'Tatu City, Unity West, Ruiru, Ruiru',\n",
       "       'Gacharage, Ruaka, Kiambaa', 'Hellen Drive, Ruaka, Kiambaa',\n",
       "       \"Thiong'o, Mountain View, Westlands\",\n",
       "       'Next To Uthiru Genesis Boarding School, Kinoo, Kabete',\n",
       "       'Ruaka Joyland, Limuru Road, Ruaka, Kiambaa',\n",
       "       'Kiambere Road, Upper Hill, Langata',\n",
       "       'kikambala road, Kileleshwa, Dagoretti North',\n",
       "       'Masaba Road, Upper Hill, Langata',\n",
       "       'Mbagathi way, Ngumo Estate, Langata',\n",
       "       'Limuru road, Ruaka, Kiambaa',\n",
       "       'Maloi Apartments, Masai Lodge Road, Ongata Rongai, Kajiado North',\n",
       "       'Next to premier hospital, Links road, Nyali Area, Nyali',\n",
       "       'Links road, Links road, Nyali Area, Nyali',\n",
       "       'Naivasha Road, Naivasha Road, Dagoretti North', 'Ngara, Starehe',\n",
       "       'Ole Sangale, Madaraka, Langata', 'beach road, Nyali Area, Nyali',\n",
       "       'Naivasha Road, Dagoretti North',\n",
       "       'kiambu road, Thindigua, Thindigua',\n",
       "       'kilimani, kilimani, Kilimani, Dagoretti North', 'Kamiti, Kiambaa',\n",
       "       'Madaraka, Langata',\n",
       "       'Precious Gardens Estate, Riruta, Dagoretti South',\n",
       "       'Makadara, Makadara', 'Mbaazi Avenue, Lavington, Dagoretti North',\n",
       "       'Karen-Dagoretti Road, Karen, Langata', 'Koma Rock, Kangundo',\n",
       "       'Mombasa Rd, Syokimau, Athi River',\n",
       "       'Riara Heights, Naivasha Road, Dagoretti Corner, Dagoretti South',\n",
       "       'Garden Estate Rd, Garden Estate, Roysambu',\n",
       "       'USIU, SAFARI PARK AREA, Safari Park, Thika Road, Thika Road, Thika Road',\n",
       "       'Ruaka, Ruaka, Ruaka, Kiambaa', 'Gala lane, Ngara, Starehe',\n",
       "       'Ngong Racecourse, Ngong Road, Ngong Road',\n",
       "       'Kamiti Road, Jacaranda Gardens, Kahawa West, Roysambu',\n",
       "       '2, Karen road, Karen, Langata',\n",
       "       'New Kitisuru, Kitisuru, Westlands',\n",
       "       'Chambers Road, Ngara, Starehe',\n",
       "       'Nyali cinemax, Cinemax nyali, Ziwa La Ngombe, Nyali',\n",
       "       'Chalbi Drive, Lavington, Dagoretti North',\n",
       "       'Juja farm road, Juja, Kiambu Constituency',\n",
       "       'Nyali beach road, Beach road nyali, Nyali Area, Nyali',\n",
       "       'Ngong Road, Ngong Road',\n",
       "       'Mandera Road, Kileleshwa, Dagoretti North', 'Karen, Langata',\n",
       "       'Highridge, Parklands, Westlands',\n",
       "       \"Thiong'o Road, Mountain View, Westlands\",\n",
       "       'SANGALE ROAD, SANGALE ROAD, Nairobi West, Langata',\n",
       "       ':, Hardy, Karen, Karen, Langata', 'Likoni Road, South B, Langata',\n",
       "       'Cinemax, Cinemax, Nyali Area, Nyali',\n",
       "       'Kiambu Rd, Thindigua, Kiambu Road, Kiambu Road',\n",
       "       '6, Bukani Road, Nairobi West, Langata',\n",
       "       'Kamiti Road, Kamiti, Kiambaa', 'Rhino park road, Karen, Langata',\n",
       "       'Racecourse, Ngando Area, Ngong Road, Ngong Road',\n",
       "       'Kiambu Rd, Kiambu Road, Kiambu Road',\n",
       "       'Fourways Junction Estate, Kiambu Road, Kiambu Road',\n",
       "       'Rhapta Road, Westlands',\n",
       "       'kiambu road, kiambu road, Kiambu Road, Kiambu Road',\n",
       "       'Upper Hill, Langata', '1 Ojijo, Parklands, Westlands',\n",
       "       'Zambia Road, Ngong, Kajiado North',\n",
       "       'riara road, Riara Road, Dagoretti North',\n",
       "       'Milimani, Kilimani, Dagoretti North',\n",
       "       'Four Points Apartments, Uthiru/Ruthimitu, Dagoretti South',\n",
       "       'Gatundu road , Kileleshwa, Dagoretti North',\n",
       "       'Rhaphta Road, Waiyaki Way, Westlands',\n",
       "       'Kiambu Rd, Thindigua, Thindigua', 'Kahawa West, Roysambu',\n",
       "       'Wanyee Road, Naivasha Road, Dagoretti North',\n",
       "       'Nyali primary, Nyali, Nyali Area, Nyali',\n",
       "       'Ngong Road, Ngong Road, Ngong Road', 'Lavington, Dagoretti North',\n",
       "       'Off Naivasha road, Dagoretti Corner, Dagoretti South',\n",
       "       '5th avenue, Citymall Nyali, Nyali Area, Nyali',\n",
       "       'Loresho, Westlands', 'Riverside Mews, Riverside, Westlands',\n",
       "       'Mombasa CBD, Mombasa CBD', 'Mountain View, Westlands',\n",
       "       'Kitisuru, Westlands',\n",
       "       'Nyali links road, Nyali links road, Nyali Area, Nyali',\n",
       "       'Mwimuto, New Kitusuru, Westlands',\n",
       "       'Karenend Apartments, Karinde, Karen, Langata',\n",
       "       'waiyaki, waiyaki, Loresho, Westlands',\n",
       "       'Statehouse Crescent, Off Statehouse Road, State House, Dagoretti North',\n",
       "       'nyali, nyali road, Mkomani, Nyali',\n",
       "       'kinoo 87/Uthiru, Kinoo, Kabete',\n",
       "       'Thindigua, Kiambu Road, Kiambu Road',\n",
       "       'Thika Road, Kahawa, Roysambu',\n",
       "       'Kangundo Road, Kileleshwa, Dagoretti North',\n",
       "       'Chinga Dam Apartments, Iregi Road, Parklands, Westlands',\n",
       "       'Rhapta road, Rhapta Road, Westlands',\n",
       "       'George Pardmore lane, Kilimani, Dagoretti North',\n",
       "       'Jamhuri, Ngong', '1, Riara, Kilimani, Dagoretti North',\n",
       "       'Riara Road, Dagoretti North',\n",
       "       'Kasuku Center, Kileleshwa, Dagoretti North',\n",
       "       'kileleshwa, kileleshwa, Kileleshwa, Dagoretti North',\n",
       "       'lavington, lavington, Lavington, Dagoretti North',\n",
       "       'Loresho, Loresho, Westlands', 'KIAMBU ROAD, Ruaka, Kiambaa',\n",
       "       '21 05 04, 02 RA, Waiyaki Way, Westlands',\n",
       "       '1, Crescent Road, Parklands, Westlands',\n",
       "       'Crescent Road, Parklands, Westlands',\n",
       "       'Near citymall, Doshi road nyali, Ziwa La Ngombe, Nyali',\n",
       "       'Fourways Junction, Kiambu Road, Kiambu Road',\n",
       "       'Off Rhapta Road, Westlands Area, Westlands',\n",
       "       'Off Ojijo, Westlands Area, Westlands',\n",
       "       'Gatundu Road, Kileleshwa, Dagoretti North',\n",
       "       'Chaka Road, Kilimani, Dagoretti North',\n",
       "       'Valley Arcade, Lavington, Dagoretti North',\n",
       "       '801181, Jamuhuri road, Nyali Area, Nyali',\n",
       "       'Hurlingham, Hurlingham, Dagoretti North',\n",
       "       '21 05 06, 29 RA, Westlands Area, Westlands',\n",
       "       'langata, Langata Area, Langata',\n",
       "       'Mbaazi, Mbaazi, Lavington, Dagoretti North',\n",
       "       'Mbaazi, Lavington, Dagoretti North',\n",
       "       'wambugu road, 1st parkland, Parklands, Westlands',\n",
       "       'westlands, Westlands, Riverside, Westlands',\n",
       "       'Mombasa Road Next To Eka Hotel, Mombasa Road, Mombasa Road',\n",
       "       'Vanga road, Valley arcade, Lavington, Dagoretti North',\n",
       "       'Loresho, Westlands Area, Westlands',\n",
       "       'Kindaruma road, Kilimani, Dagoretti North',\n",
       "       'Brookside Drive, Brookside, Westlands',\n",
       "       'Valley Arcade, Dagoretti North',\n",
       "       'Argwings Kodhek, Kilimani, Dagoretti North',\n",
       "       'Near Yaya Center, Kilimani, Dagoretti North',\n",
       "       '21 05 07, 20 RA, Lavington, Dagoretti North',\n",
       "       'Mogotio Road, Westlands Area, Westlands',\n",
       "       'George Padmore lane, Kilimani, Dagoretti North',\n",
       "       'lavington, Lavington, Dagoretti North',\n",
       "       'kilimani, Kilimani, Kilimani, Dagoretti North',\n",
       "       'Light academy, Nyali road, Mkomani, Nyali',\n",
       "       'Lavington, Valley Arcade, Dagoretti North',\n",
       "       'Statehouse Cresent, Off Statehouse Road, State House, Dagoretti North',\n",
       "       'Lavington, Lavington, Lavington, Dagoretti North',\n",
       "       '500Meters From Delta Petrol Station, Kiambu Road, Kiambu Road',\n",
       "       'Off Brookside Drive, Soorae Flats, Brookside, Westlands',\n",
       "       'lavington, Lavington, Lavington, Dagoretti North',\n",
       "       'Gathanju, Lavington, Dagoretti North',\n",
       "       'Masari road, Parklands, Westlands',\n",
       "       'Kikambala Road, Kileleshwa, Dagoretti North',\n",
       "       'Gatundu Close, Kileleshwa, Dagoretti North',\n",
       "       'Mocah Courtyard, Kiambu Road, Kiambu Road',\n",
       "       'FOURWAYS, Kiambu Road, Kiambu Road',\n",
       "       'Fourways junction, Kiambu Road, Kiambu Road',\n",
       "       'Wood Avenue, Wood Avenue, Kilimani, Dagoretti North',\n",
       "       'Usiu Road, Thika Road, Thika Road', 'Milimani, Milimani',\n",
       "       '21 05 07, 18 RA, Rhapta Road, Westlands',\n",
       "       'Muringa groove, Muringa road, Kilimani, Dagoretti North',\n",
       "       'Kizingo, Kizingo, kizingo, Mvita',\n",
       "       'Riara Road, Kilimani, Dagoretti North',\n",
       "       'riara road, Kilimani, Dagoretti North',\n",
       "       'Near USIU, Safari park, Zimmermann, Roysambu',\n",
       "       'Acacia Drive, Runda, Westlands',\n",
       "       'Sibiloi , Ojijo, Parklands, Westlands',\n",
       "       'Nyali, Neen Road, Nyali Area, Nyali',\n",
       "       'Laikipia road, Kileleshwa, Dagoretti North',\n",
       "       'Off Rapta Rd, Westlands Area, Westlands',\n",
       "       'Riara Rd, Lavington, Dagoretti North',\n",
       "       'Rhapta Road, Westlands Area, Westlands',\n",
       "       'Rhapta Road, Rhapta Road, Westlands',\n",
       "       'Mimosa, Ngong Road, Ngong Road',\n",
       "       '21 04 30, 43 RA, Waiyaki Way, Westlands',\n",
       "       'East Church Road, Parklands, Westlands',\n",
       "       'Wambugu rd, Parklands, Westlands',\n",
       "       'Near Kenya High, Kileleshwa, Dagoretti North',\n",
       "       'Denis pritt,Kilimani, Kilimani, Dagoretti North',\n",
       "       'Kandara Road, Kileleshwa, Dagoretti North',\n",
       "       'Near Valley Arcade Shopping Centre, Valley Arcade, Dagoretti North',\n",
       "       'Shanzu, Shanzu, Kisauni',\n",
       "       '21 04 20, 21 RA, Westlands Area, Westlands',\n",
       "       'Dennis Pritt, Dagoretti North',\n",
       "       'kileleshwa, Kileleshwa, Kileleshwa, Dagoretti North',\n",
       "       '9 Riverside Drive, Riverside, Westlands',\n",
       "       '1, Argwings Kodhek, Kilimani, Dagoretti North',\n",
       "       'kingara road, Lavington, Dagoretti North',\n",
       "       'Ring Road Kilimani, Kilimani, Dagoretti North',\n",
       "       'Gitanga Road, Lavington, Dagoretti North',\n",
       "       'Near Junctiona Mall, Kilimani, Dagoretti North',\n",
       "       'Miotoni West Road, Karen, Langata',\n",
       "       'Ngong Rd, Kilimani, Dagoretti North',\n",
       "       'Waiyaki Way- Waruku, Waruku, Waiyaki Way, Westlands',\n",
       "       'Parklane Place, Kandara Road, Kileleshwa, Dagoretti North',\n",
       "       'riverside, Riverside, Riverside, Westlands',\n",
       "       'riverside, riverside, Riverside, Westlands',\n",
       "       'Argwings Kodhek Road, Kilimani, Dagoretti North',\n",
       "       'Ojijo, Parklands, Westlands',\n",
       "       'Riara Downs Apartments, Riara Road, Dagoretti North',\n",
       "       'Hatheru Road, Lavington, Dagoretti North',\n",
       "       'Kitengela, Kajiado North',\n",
       "       'Yaya Center, Kilimani, Dagoretti North',\n",
       "       'Mvuli Road, Westlands Area, Westlands',\n",
       "       'Mandera road, Kileleshwa, Dagoretti North',\n",
       "       '1, Killimani, Kilimani, Dagoretti North',\n",
       "       'Argwing kodhek road, Lavington, Lavington, Dagoretti North',\n",
       "       'Kabaseriani, Lavington, Dagoretti North',\n",
       "       'Chelezo House Kindaruma Rd, Kilimani, Dagoretti North',\n",
       "       'Off Gitanga Road, Valley Arcade, Dagoretti North',\n",
       "       'Naivasha, Naivasha Road, Dagoretti North',\n",
       "       'Kingara Road, Lavington, Dagoretti North',\n",
       "       'Off Rhapta Road, Rhapta Road, Westlands',\n",
       "       '21 05 05, 41 RA, Westlands Area, Westlands',\n",
       "       'Ole Dume, Ole Dume, Kilimani, Dagoretti North',\n",
       "       'Lenana rd,Kilimani, Kilimani, Dagoretti North',\n",
       "       'Lenana, Kilimani, Dagoretti North',\n",
       "       'Riara Road, Lavington, Dagoretti North',\n",
       "       'Parklane Place, Kandara Rod, Kileleshwa, Dagoretti North',\n",
       "       'lavigton, lavington, Lavington, Dagoretti North',\n",
       "       'Oloitoktok road, Kikambala Road, Kileleshwa, Dagoretti North',\n",
       "       'Loresho Apartment, Westlands Area, Westlands', 'Nyari, Westlands',\n",
       "       'Old Muthaiga, Muthaiga',\n",
       "       'Kandara road, Kileleshwa, Dagoretti North',\n",
       "       'shanzu, shanzu, Mombasa CBD, Mombasa CBD',\n",
       "       '1, Ngong Road, Lavington, Dagoretti North',\n",
       "       '1, Elgeyo Road , Kilimani, Dagoretti North',\n",
       "       'kileleshwa, Kileleshwa, Dagoretti North',\n",
       "       'hatheru road, Lavington, Dagoretti North',\n",
       "       'Morningside Apartment Next To Usiu, Ruaraka, Ruaraka',\n",
       "       'Muringa road, Kilimani, Dagoretti North',\n",
       "       'Sunny Side Apartment, Loresho, Westlands',\n",
       "       'Ruaka, Ruaka, Kiambaa',\n",
       "       'Dennis Pritt road, Dennis Pritt Road, Kilimani, Dagoretti North',\n",
       "       'Kirichwa Road, Kilimani, Dagoretti North',\n",
       "       '1, Kilimani, Kilimani, Dagoretti North',\n",
       "       'KILIMANI, WOOD AVENUE, Kilimani, Dagoretti North',\n",
       "       'rhapta road, Rhapta Road, Westlands',\n",
       "       'Lenana Road, Kilimani, Dagoretti North',\n",
       "       'Muringa road, Muringa road, Kilimani, Dagoretti North',\n",
       "       'mandera rd, Kileleshwa, Dagoretti North',\n",
       "       'Muthangari drive, Muthangari Drive, Waiyaki Way, Westlands',\n",
       "       'Kilimani, Riara road, Riara Road, Dagoretti North',\n",
       "       'Kileleshwa, Kileleshwa, Dagoretti North',\n",
       "       'NA, Walk to Yaya, Kilimani, Dagoretti North',\n",
       "       'walk to junction mall, Riara road, Lavington, Dagoretti North',\n",
       "       'Mtama Lane, Parklands, Westlands',\n",
       "       'Dennis Pritt Road, Kilimani, Dagoretti North',\n",
       "       'Brookside, Westlands',\n",
       "       'dennis pritt road, Kilimani, Dagoretti North',\n",
       "       'Brookside Close, Brookside, Westlands',\n",
       "       'Riara Rd, Riara Road, Dagoretti North',\n",
       "       'Turbo, Turbo Road, Kilimani, Dagoretti North',\n",
       "       'Tinderet Ave. Off Gatundu Rd, Kileleshwa, Dagoretti North',\n",
       "       'Oledume, Kilimani, Dagoretti North',\n",
       "       '21 05 07, 21 RA, Rhapta Road, Westlands',\n",
       "       'Muthaiga Area, Muthaiga',\n",
       "       'Hatheru Rd, Lavington, Dagoretti North',\n",
       "       'mvuli road, Rhapta Road, Westlands',\n",
       "       'Crimson Court Along Riverside Drive, Riverside, Westlands',\n",
       "       'Oloitoktok Road, Kileleshwa, Dagoretti North',\n",
       "       'Morningside Park Apartments, Thika Road, Thika Road',\n",
       "       'East Church Road, Westlands Area, Westlands',\n",
       "       'denis pritt rd, Kilimani, Dagoretti North',\n",
       "       '1, Kilimani, Dagoretti North',\n",
       "       'Masanduku Lane, Lavington, Dagoretti North',\n",
       "       'off Church road, Rhapta Road, Westlands',\n",
       "       'Lenana Rd, Kilimani, Dagoretti North',\n",
       "       \"King'ara Road, Kilimani, Dagoretti North\",\n",
       "       'nyeri road, Nyeri road, Kileleshwa, Dagoretti North',\n",
       "       'Nyali, Moyne drive, Nyali Area, Nyali',\n",
       "       'Nyali, area, Nyali Area, Nyali',\n",
       "       'Mbaazi Ave,Valley Arcade, Valley Arcade, Dagoretti North',\n",
       "       '801181, Moyne drive, Nyali Area, Nyali',\n",
       "       'School lane, School lane, Westlands Area, Westlands',\n",
       "       'Kolobot Drive, Kilimani, Dagoretti North',\n",
       "       'Suguta Road, Kileleshwa, Dagoretti North',\n",
       "       '21 04 27, 40 RA, Westlands Area, Westlands',\n",
       "       '21 04 30, 13 RA, Brookside, Westlands',\n",
       "       'Muthangari Drive, Westlands Area, Westlands',\n",
       "       '54, Rhapta Road, Rhapta Road, Westlands', 'Kyuna, Westlands',\n",
       "       'Brookside groove, Brookside, Westlands',\n",
       "       'New, Malindi road, Nyali Area, Nyali',\n",
       "       'Lantana road, Westlands Area, Westlands',\n",
       "       'Denis Pritt Rd, Kilimani, Dagoretti North',\n",
       "       'Mbaazi Ave, Lavington, Dagoretti North',\n",
       "       'Ole Dume Road, Lavington, Dagoretti North',\n",
       "       'Westlands Pride, Waiyaki Way, Waiyaki Way, Westlands',\n",
       "       'Riara Lane, Kilimani, Dagoretti North',\n",
       "       '21 04 26, 37 RA, Rhapta Road, Westlands',\n",
       "       '9, Riverside Garden Close, Riverside, Westlands',\n",
       "       'Garden Drive, Runda, Westlands',\n",
       "       'Kabarnet Road Kilimani, Kilimani, Dagoretti North',\n",
       "       'Lavington, Kingara Road, Lavington, Dagoretti North',\n",
       "       'Elgeyo Marakwet Road, Kilimani, Dagoretti North',\n",
       "       'BROOKSIDE DRIVE, Westlands Area, Westlands',\n",
       "       'Crimson Court Along Riverside, Riverside, Westlands',\n",
       "       '801181, nyali, Nyali Area, Nyali',\n",
       "       'Gitanga road, Lavington, Dagoretti North',\n",
       "       '1, Muringa Rd., Kilimani, Dagoretti North',\n",
       "       'Argwings kodhek road, Kilimani, Dagoretti North',\n",
       "       'Woodlands Rd, Kilimani, Dagoretti North',\n",
       "       'Dennis Pritt, Kilimani, Dagoretti North',\n",
       "       'Dennis pritt, State House, Dagoretti North',\n",
       "       'Dennis Pritt, Hurlingham, Dagoretti North',\n",
       "       'City Park Drive, Off Limuru Road, Parklands, Westlands',\n",
       "       'State House, Dagoretti North',\n",
       "       'Brookside Drive Westlands, Nairobi, Brookside, Westlands',\n",
       "       'Riara road, Riara Road, Dagoretti North',\n",
       "       '21 05 06, 38 RA, Westlands Area, Westlands',\n",
       "       'Chania Rd, Kilimani, Dagoretti North',\n",
       "       'Raphta Rd, Rhapta Road, Westlands',\n",
       "       'Off Riara Road, Lavington, Dagoretti North',\n",
       "       'Waiyaki Way, Westlands Area, Westlands',\n",
       "       'Rhapta Rd, Rhapta Road, Westlands',\n",
       "       'Mugoiri Road, Kileleshwa, Dagoretti North',\n",
       "       'Lymack Suites, Kiambu Road, Kiambu Road',\n",
       "       'Chiromo rd, Westlands Area, Westlands',\n",
       "       '21 05 03, 08 FA, Rhapta Road, Westlands',\n",
       "       '21 05 05, 17 RA, Westlands Area, Westlands',\n",
       "       'Riara Massions, Maziwa, Nairobi, Nairobi County, KE, Lavington, Dagoretti North',\n",
       "       'Mararo road, Valley arcade, Lavington, Dagoretti North',\n",
       "       'Chelezo Apartments, Kilimani, Dagoretti North',\n",
       "       'Kidaruma, Kilimani, Dagoretti North',\n",
       "       'Off Raphta Road, Rhapta Road, Westlands',\n",
       "       'Kindaruma Rd , Kilimani, Dagoretti North',\n",
       "       \"King'ara Road, Lavington, Dagoretti North\",\n",
       "       'Rose Avenue, Kilimani, Dagoretti North',\n",
       "       'Yaya , Tigoni , Kilimani, Dagoretti North',\n",
       "       'Tigoni, Tigoni, Kilimani, Dagoretti North',\n",
       "       'Gitanga/Amboseli Road, Lavington, Dagoretti North',\n",
       "       '2242, Dennis Pritt, Dagoretti North',\n",
       "       'Fahari Palace Apartments, Church Road, Westlands Area, Westlands',\n",
       "       '801181, First avenue, Nyali Area, Nyali',\n",
       "       'Raphta Road, Westlands, Nairobi, Rhapta Road, Westlands',\n",
       "       'Near Valley Arcade, Lavington, Dagoretti North',\n",
       "       'Oledume Road, Lavington, Dagoretti North',\n",
       "       'Masari Road, Parklands, Westlands',\n",
       "       'Kolobot Gardens, Kolobot Close, Milimani, Milimani',\n",
       "       '04, kilimani, Kilimani, Dagoretti North', 'Runda, Westlands',\n",
       "       'Mbaazi road, Mbaazi Road, Lavington, Dagoretti North',\n",
       "       'Links road, Nyali voyager, Nyali Area, Nyali',\n",
       "       'Suswa Road, Parklands, Westlands',\n",
       "       'near Kasuku Center, Kileleshwa, Dagoretti North',\n",
       "       'Denis Pritt Road, Kilimani, Dagoretti North',\n",
       "       'Brookside , Westlands Area, Westlands',\n",
       "       'Oldonyo Sabuk, General Mathenge, Westlands', 'Shanzu, Kisauni',\n",
       "       'Kindaruma , Kilimani, Dagoretti North',\n",
       "       'Laikipia Rd, Kileleshwa, Dagoretti North',\n",
       "       'General Mathenge, General Mathenge, Westlands',\n",
       "       'Nyali, Nyali Area, Nyali', 'Mombasa, Nyali, Nyali Area, Nyali',\n",
       "       'Off Othaya Road, Kileleshwa, Dagoretti North',\n",
       "       'Siaya Road, Kileleshwa, Dagoretti North',\n",
       "       'Kileleshwa, Kileleshwa, Kileleshwa, Dagoretti North',\n",
       "       '21 03 25, 33 RA, Lavington, Dagoretti North',\n",
       "       'Wuyi Plaza Galana Road, Kilimani, Dagoretti North',\n",
       "       'Lenana rd,kilimani, Kilimani, Dagoretti North',\n",
       "       'Sports Road, Rhapta Road, Westlands',\n",
       "       'Riverside, Riverside, Riverside, Westlands',\n",
       "       'Kindaruma rd, Kilimani, Dagoretti North',\n",
       "       'Dennis Sprit, Kilimani, Dagoretti North',\n",
       "       'KANDARA ROAD, Kileleshwa, Dagoretti North',\n",
       "       'Denis sprit , Kitale Lane , Kilimani, Dagoretti North',\n",
       "       'westlands Avenue , Westlands Area, Westlands',\n",
       "       'Westlands, Westlands Area, Westlands',\n",
       "       'Riara Road, Riara Road, Dagoretti North',\n",
       "       'Acacia Drive Off Ruaka Road, Runda, Westlands',\n",
       "       'marist lane, Karen, Langata',\n",
       "       'Walk To Yaya, Kilimani, Dagoretti North',\n",
       "       'Muthangari Drive, Waiyaki Way, Westlands',\n",
       "       '9 Riverside Garden Close, Riverside Garden Close, Riverside, Westlands',\n",
       "       'Brookside, Westlands Area, Westlands',\n",
       "       'Chaka Road , Kilimani, Dagoretti North',\n",
       "       'Hurlingham Kilimani, Kilimani, Dagoretti North',\n",
       "       'Nyali, Links, Nyali Area, Nyali',\n",
       "       'Kirichwa road, Kilimani, Dagoretti North',\n",
       "       'Parklands, Parklands, Westlands',\n",
       "       'Near Sarit Center, Brookside, Westlands',\n",
       "       'N/a, Near Yaya Centre, Kilimani, Dagoretti North',\n",
       "       'School Lane, Westlands Area, Westlands',\n",
       "       '2Nd Parklands, Parklands, Westlands',\n",
       "       'Sports Road, Palm Flats, Westlands Area, Westlands',\n",
       "       'Westlands, Rhapta Road, Westlands',\n",
       "       'Marcus, Kilimani, Kilimani, Dagoretti North',\n",
       "       'Elgoyo marakwet road, Kilimani, Dagoretti North',\n",
       "       'Rhapta Rd, Westlands Area, Westlands',\n",
       "       'Rhapta Rd , Westlands Area, Westlands',\n",
       "       'Rhapta Rd , Rhapta Road, Westlands',\n",
       "       'Sandalwood, Riverside, Westlands',\n",
       "       'Muringa Rd, Kilimani, Dagoretti North',\n",
       "       'Off Riverside Drive, Riverside, Westlands',\n",
       "       'East Church Road, Rhapta Road, Westlands',\n",
       "       'Lavington, Lavington, Dagoretti North',\n",
       "       'Hurlingham, Dagoretti North',\n",
       "       'Kilimani, Kilimani, Dagoretti North',\n",
       "       'Chania Avenue, Kilimani, Dagoretti North',\n",
       "       'Suguta Road, Suguta Road - Kileleshwa, Kileleshwa, Dagoretti North',\n",
       "       'Riverside Drive, Nairobi , Riverside, Westlands',\n",
       "       'Nyali, Mombasa CBD, Mombasa CBD',\n",
       "       'Off Waiyaki Way, Waiyaki Way, Westlands',\n",
       "       '21 05 05, 25 RA, Westlands Area, Westlands',\n",
       "       'Swaminarayan Road, Parklands, Westlands',\n",
       "       'Othaya, Kileleshwa, Dagoretti North',\n",
       "       'Mbaazi, Masanduku, Lavington, Dagoretti North',\n",
       "       'Menelik Rd, Kilimani, Nairobi, Nairobi County, KE, Kilimani, Dagoretti North',\n",
       "       'westlands, Westlands Area, Westlands',\n",
       "       'Parklands Road, Westlands, Nairobi, Parklands, Westlands',\n",
       "       'Thome, Roysambu', 'General Mathenge , Westlands Area, Westlands',\n",
       "       'Riverside Dr, Westlands Area, Westlands',\n",
       "       \"King'ara Close, Off King'ara Road, Riara Road, Dagoretti North\",\n",
       "       'vihiga Road, Vihiga Road, Kileleshwa, Dagoretti North',\n",
       "       'Menelik Rd, Kilimani, Dagoretti North',\n",
       "       'Lantana, Westlands Area, Westlands',\n",
       "       '1 Kilimani, Kilimani, Dagoretti North',\n",
       "       'Kayawe, Kayawe, Kilimani, Dagoretti North',\n",
       "       'Muthangari drive, Waiyaki Way, Westlands',\n",
       "       'Gitanga, Gitanga Road, Lavington, Dagoretti North',\n",
       "       'Westlands road, Westlands Area, Westlands',\n",
       "       'Brookside Drive, Parklands, Westlands',\n",
       "       'Riara Rd Maziwa,Lavington, Lavington, Dagoretti North',\n",
       "       'Gitanga road, Lavington, Lavington, Dagoretti North',\n",
       "       'kolobot drive, Kilimani, Dagoretti North',\n",
       "       'Yaya center, Kilimani, Dagoretti North',\n",
       "       'Likoni Road, Nyali Area, Nyali',\n",
       "       'Riverside Drive, Westlands, Nairobi , Riverside, Westlands',\n",
       "       'Riverside Place Apartment, Riverside, Westlands',\n",
       "       'Tabere Cresent Road, Kileleshwa, Dagoretti North',\n",
       "       'Kikambala, Kileleshwa, Dagoretti North',\n",
       "       'School Lane, Lower Kabete, Westlands',\n",
       "       'Near Banda School, Karen, Langata',\n",
       "       'kilimani, Kilimani, Dagoretti North',\n",
       "       'KILELESHWA, LAIKIPIA ROAD, Kileleshwa, Dagoretti North',\n",
       "       'Mwanzi Road, Westlands Area, Westlands',\n",
       "       'Brookside Drive, Brookside Heights, Brookside, Westlands',\n",
       "       'mvuli road, Westlands Area, Westlands',\n",
       "       '21 05 03, 05 RA, Kileleshwa, Dagoretti North',\n",
       "       'Rose avenue, Kilimani, Dagoretti North',\n",
       "       'School Lane, Brookside, Westlands',\n",
       "       '84 Riverside Drive, Riverside, Westlands',\n",
       "       'Riverside, Riverside, Westlands',\n",
       "       'Raphta Road, Westlands Area, Westlands',\n",
       "       '11, Riverside Drive, Riverside, Westlands',\n",
       "       'Othaya Road, Lavington, Dagoretti North',\n",
       "       'gatundu, Gatundu, Kileleshwa, Dagoretti North',\n",
       "       'Kilimani Road , Kilimani, Dagoretti North',\n",
       "       'Sandalwood Lane Off Riverside Drive, Riverside, Westlands',\n",
       "       'KILIMANI ROAD, Kilimani, Dagoretti North',\n",
       "       'riverra towers, Nyangumi Road, Kilimani, Dagoretti North',\n",
       "       'Lantana, Rhapta Road, Westlands',\n",
       "       'Hurligham, Kindaruma Road, Kilimani, Dagoretti North',\n",
       "       'Makueni Rd, Kileleshwa, Nairobi, Kileleshwa, Dagoretti North',\n",
       "       'Tigoni Road, Kilimani, Dagoretti North',\n",
       "       'Raphta Road, Rhapta Road, Westlands',\n",
       "       'Westlands, Westlands, Westlands Area, Westlands',\n",
       "       '21 04 22, 26 RA, Riverside, Westlands',\n",
       "       'Keiyo Road, Parklands, Westlands',\n",
       "       '1st Parklands Avenue, Parklands, Westlands',\n",
       "       'Pilipili way, Westlands Area, Westlands',\n",
       "       'Riara Road, Kilimani, Nairobi , Kilimani, Dagoretti North',\n",
       "       'Mpaka Rd, Westlands Area, Westlands',\n",
       "       'Riverside close, Riverside, Westlands',\n",
       "       'Naivasha Avenue, Old Muthaiga, Muthaiga',\n",
       "       'Othaya Road, Kileleshwa, Dagoretti North',\n",
       "       'Off Riara, Lavington, Dagoretti North',\n",
       "       'Brookside, Brookside, Westlands',\n",
       "       'Jambo Regency Apartments, Waiyaki Way, Westlands',\n",
       "       'Off Dennis Pritt Road, Kileleshwa, Dagoretti North',\n",
       "       'Mpaka Road, Westlands Area, Westlands',\n",
       "       'Riverside drive , Riverside, Westlands',\n",
       "       'kindaruma road, Kilimani, Dagoretti North',\n",
       "       'suguta road, Kileleshwa, Dagoretti North',\n",
       "       'Westlands, Brookside, Westlands',\n",
       "       'near Valley arcade shopping, Valley Arcade, Dagoretti North',\n",
       "       '5Th Avenue, Parklands, Westlands',\n",
       "       'Githuri Road, Parklands, Westlands',\n",
       "       'Gatundu Road, Kileleshwa, Nairobi, Kileleshwa, Dagoretti North',\n",
       "       'Argwings Kodhek Rd, Kilimani, Dagoretti North',\n",
       "       'Othaya Rd, Lavington, Dagoretti North',\n",
       "       'Laikipia Rd, Riverside, Westlands',\n",
       "       'Laikipia , Kileleshwa, Dagoretti North',\n",
       "       'Lantana Road, Rhapta Road, Westlands',\n",
       "       '1, Redhill drive, Nyari, Westlands',\n",
       "       'parklands, Parklands, Parklands, Westlands',\n",
       "       '21 03 25, 32 FA, Waiyaki Way, Westlands',\n",
       "       \"Le'mac, Slip Road, Waiyaki Way, Westlands\",\n",
       "       'Gatundu Rd, Kileleshwa, Dagoretti North',\n",
       "       'Othaya road, Kileleshwa, Dagoretti North',\n",
       "       '12, lower kabete, Brookside, Westlands',\n",
       "       'Riara road, Kilimani, Dagoretti North',\n",
       "       'Yaya Centre, Kilimani, Dagoretti North',\n",
       "       'walk to valley arcade, Lavington, Dagoretti North',\n",
       "       'near Kasusku, Kileleshwa, Dagoretti North',\n",
       "       'Brookside Drive, Westlands Area, Westlands',\n",
       "       'Shanzu road, Spring Valley, Westlands',\n",
       "       'Lone Tree, Rosslyn, Westlands',\n",
       "       '1, Rosslyn Lone Tree Estate Road, Rosslyn, Westlands',\n",
       "       'Peponi Road, Westlands Area, Westlands',\n",
       "       'Brookside, Brookside, Brookside, Westlands',\n",
       "       'Kitale Lane, Kilimani, Dagoretti North',\n",
       "       '6Th Parklands , Parklands, Westlands',\n",
       "       'School lane, Westlands Area, Westlands', 'Gigiri, Westlands',\n",
       "       'behind Junction Mall, Kilimani, Dagoretti North',\n",
       "       'General Mathenge Drive, General Mathenge, Westlands',\n",
       "       'School Lane, Parklands, Westlands',\n",
       "       'General Mathenge, Spring Valley, Westlands',\n",
       "       'Ole-ndume road, Kilimani, Kilimani, Dagoretti North',\n",
       "       'Oldonyo Sabuk, Westlands Area, Westlands',\n",
       "       'Gitanga Road, Kileleshwa, Dagoretti North',\n",
       "       'Opposite Parklands Baptist Church, Westlands Area, Westlands',\n",
       "       'Spring Valley, Westlands',\n",
       "       'Valley Arcade, Mbaazi Avenue, Lavington, Dagoretti North',\n",
       "       'Mvuli road, Westlands Area, Westlands',\n",
       "       'Donyo Sabuk Avenue , General Mathenge, Westlands',\n",
       "       'Ole Dume, Kilimani, Dagoretti North',\n",
       "       'Mwingi Rd, Kileleshwa, Dagoretti North',\n",
       "       'Denispritt, Kitale Lane, Kilimani, Dagoretti North',\n",
       "       'Karura, Westlands', '01, Marula Lane, Kilimani, Dagoretti North',\n",
       "       'General Mathenge Road, General Mathenge, Westlands',\n",
       "       'General Mathenge Drive, Spring Valley, Westlands',\n",
       "       'Mpaka Road, Westlands, Nairobi, Westlands Area, Westlands',\n",
       "       'Lower kabete, Kabete Lane, Spring Valley, Westlands',\n",
       "       'General mathenge, General Mathenge, Westlands',\n",
       "       '6Th Parklands, Nairobi , Parklands, Westlands',\n",
       "       'Peponi Road, Peponi Road, Karura, Westlands',\n",
       "       'Galana Road, Kilimani, Dagoretti North',\n",
       "       'Argwings Kodhek, Lavington, Dagoretti North',\n",
       "       'Arwings Kodhek, Kilimani, Dagoretti North',\n",
       "       'Peponi rd, Spring Valley, Westlands',\n",
       "       'General Mathege, General Mathenge, Westlands',\n",
       "       'Othaya Rd, Kileleshwa, Dagoretti North',\n",
       "       'Signature Residence Nairobi, Kileleshwa, Dagoretti North',\n",
       "       'Amrutha Brookside Dr Nairobi, Brookside, Westlands',\n",
       "       ', Dennis Pritt, Kilimani, Dagoretti North',\n",
       "       'Menelik road Kilimani , Kilimani, Dagoretti North',\n",
       "       'Marcus Garvey Road, Kilimani, Dagoretti North',\n",
       "       'Mpaka road, Parklands, Westlands',\n",
       "       'Garden City, Thika Road, Thika Road, Thika Road',\n",
       "       'General Mathenge Drive, Parklands, Westlands',\n",
       "       'General Mathenge, Westlands Area, Westlands',\n",
       "       'Donyo Sabuk Avenue, General Mathenge, Westlands',\n",
       "       'Riverside Grove, Riverside, Westlands',\n",
       "       'Wood Avenue, Kilimani, Dagoretti North',\n",
       "       'riverside drive, Riverside, Westlands',\n",
       "       'Mwanzi road, Westlands Area, Westlands',\n",
       "       'Brookside Drie, Karura, Westlands',\n",
       "       'Peponi road, Spring Valley, Westlands'], dtype=object)"
      ]
     },
     "execution_count": 55,
     "metadata": {},
     "output_type": "execute_result"
    }
   ],
   "source": [
    "#we gonna convert also the neighborhood column by removing the commas\n",
    "df4.Neighborhood.unique()"
   ]
  },
  {
   "cell_type": "code",
   "execution_count": 56,
   "metadata": {},
   "outputs": [
    {
     "data": {
      "text/plain": [
       "'Links Rd Mombasa Nyali Mombasa'"
      ]
     },
     "execution_count": 56,
     "metadata": {},
     "output_type": "execute_result"
    }
   ],
   "source": [
    "def convert_comma_to_string(x):\n",
    "    res=x.split(',')\n",
    "    y=len(res)\n",
    "    if y==6:\n",
    "        return res[0]+res[1]+res[2]+res[3]+res[4]+res[5]\n",
    "    elif y==5:\n",
    "        return res[0]+res[1]+res[2]+res[3]+res[4]\n",
    "    elif y==4:\n",
    "        return res[0]+res[1]+res[2]+res[3]\n",
    "    elif y==3:\n",
    "        return res[0]+res[1]+res[2]\n",
    "    elif y==2:\n",
    "        return res[0]+res[1]\n",
    "    elif y==1:\n",
    "        return res[0]\n",
    "    else:\n",
    "        return None\n",
    "        \n",
    "convert_comma_to_string('Links, Rd, Mombasa, Nyali, Mo,mbasa')"
   ]
  },
  {
   "cell_type": "code",
   "execution_count": 57,
   "metadata": {},
   "outputs": [
    {
     "data": {
      "text/plain": [
       "Neighborhood\n",
       "Kilimani Dagoretti North                                168\n",
       "Kileleshwa Dagoretti North                              108\n",
       "Westlands Area Westlands                                105\n",
       "Lavington Dagoretti North                                90\n",
       "Riverside Westlands                                      54\n",
       "                                                       ... \n",
       "Off Brookside Drive Soorae Flats Brookside Westlands      1\n",
       "Off Dennis Pritt Road Kileleshwa Dagoretti North          1\n",
       "Off Gitanga Road Valley Arcade Dagoretti North            1\n",
       "Off Naivasha road Dagoretti Corner Dagoretti South        1\n",
       " Dennis Pritt Kilimani Dagoretti North                    1\n",
       "Name: Neighborhood, Length: 643, dtype: int64"
      ]
     },
     "execution_count": 57,
     "metadata": {},
     "output_type": "execute_result"
    }
   ],
   "source": [
    "df4.Neighborhood=df4.Neighborhood.apply(convert_comma_to_string)\n",
    "df4.groupby('Neighborhood')['Neighborhood'].agg('count').sort_values(ascending=False)"
   ]
  },
  {
   "cell_type": "code",
   "execution_count": 58,
   "metadata": {},
   "outputs": [
    {
     "data": {
      "text/plain": [
       "True"
      ]
     },
     "execution_count": 58,
     "metadata": {},
     "output_type": "execute_result"
    }
   ],
   "source": [
    "df4.Neighborhood.isnull().any()"
   ]
  },
  {
   "cell_type": "code",
   "execution_count": 59,
   "metadata": {},
   "outputs": [
    {
     "data": {
      "text/plain": [
       "Neighborhood    2\n",
       "Price           0\n",
       "sq_mtrs         0\n",
       "Bedrooms        0\n",
       "Bathrooms       0\n",
       "sq_ft           0\n",
       "dtype: int64"
      ]
     },
     "execution_count": 59,
     "metadata": {},
     "output_type": "execute_result"
    }
   ],
   "source": [
    "df4.isna().sum()"
   ]
  },
  {
   "cell_type": "code",
   "execution_count": 60,
   "metadata": {},
   "outputs": [
    {
     "data": {
      "text/plain": [
       "False"
      ]
     },
     "execution_count": 60,
     "metadata": {},
     "output_type": "execute_result"
    }
   ],
   "source": [
    "df5=df4.dropna()\n",
    "df5.Neighborhood.isnull().any()"
   ]
  },
  {
   "cell_type": "code",
   "execution_count": 61,
   "metadata": {},
   "outputs": [
    {
     "data": {
      "text/plain": [
       "(1846, 6)"
      ]
     },
     "execution_count": 61,
     "metadata": {},
     "output_type": "execute_result"
    }
   ],
   "source": [
    "df5.shape"
   ]
  },
  {
   "cell_type": "code",
   "execution_count": 62,
   "metadata": {},
   "outputs": [
    {
     "data": {
      "text/plain": [
       "Neighborhood\n",
       "Kilimani Dagoretti North      168\n",
       "Kileleshwa Dagoretti North    108\n",
       "Westlands Area Westlands      105\n",
       "Lavington Dagoretti North      90\n",
       "Riverside Westlands            54\n",
       "Name: Neighborhood, dtype: int64"
      ]
     },
     "execution_count": 62,
     "metadata": {},
     "output_type": "execute_result"
    }
   ],
   "source": [
    "#these neighborhood are extreamly alot ,n to create dummy values for them would result to alot of columns\n",
    "#so in this case am gonna use the below technique\n",
    "location_stats=df5.groupby('Neighborhood')['Neighborhood'].agg('count').sort_values(ascending=False)\n",
    "location_stats.head()"
   ]
  },
  {
   "cell_type": "code",
   "execution_count": 63,
   "metadata": {},
   "outputs": [
    {
     "data": {
      "text/plain": [
       "466"
      ]
     },
     "execution_count": 63,
     "metadata": {},
     "output_type": "execute_result"
    }
   ],
   "source": [
    "len(location_stats[location_stats<=1])"
   ]
  },
  {
   "cell_type": "code",
   "execution_count": 64,
   "metadata": {},
   "outputs": [
    {
     "data": {
      "text/plain": [
       "466"
      ]
     },
     "execution_count": 64,
     "metadata": {},
     "output_type": "execute_result"
    }
   ],
   "source": [
    "#i will set these location_stats<=1 to the 'other' category \n",
    "location_stats_less_than_or_equal_to_1=location_stats[location_stats<=1]\n",
    "len(location_stats_less_than_or_equal_to_1)"
   ]
  },
  {
   "cell_type": "code",
   "execution_count": 65,
   "metadata": {},
   "outputs": [
    {
     "name": "stderr",
     "output_type": "stream",
     "text": [
      "C:\\Users\\sojore\\anaconda3\\lib\\site-packages\\pandas\\core\\generic.py:5168: SettingWithCopyWarning: \n",
      "A value is trying to be set on a copy of a slice from a DataFrame.\n",
      "Try using .loc[row_indexer,col_indexer] = value instead\n",
      "\n",
      "See the caveats in the documentation: https://pandas.pydata.org/pandas-docs/stable/user_guide/indexing.html#returning-a-view-versus-a-copy\n",
      "  self[name] = value\n"
     ]
    },
    {
     "data": {
      "text/plain": [
       "178"
      ]
     },
     "execution_count": 65,
     "metadata": {},
     "output_type": "execute_result"
    }
   ],
   "source": [
    "df5.Neighborhood=df5.Neighborhood.apply(lambda x: 'other' if x in location_stats_less_than_or_equal_to_1 else x)\n",
    "len(df5.Neighborhood.unique())"
   ]
  },
  {
   "cell_type": "code",
   "execution_count": 66,
   "metadata": {},
   "outputs": [
    {
     "data": {
      "text/html": [
       "<div>\n",
       "<style scoped>\n",
       "    .dataframe tbody tr th:only-of-type {\n",
       "        vertical-align: middle;\n",
       "    }\n",
       "\n",
       "    .dataframe tbody tr th {\n",
       "        vertical-align: top;\n",
       "    }\n",
       "\n",
       "    .dataframe thead th {\n",
       "        text-align: right;\n",
       "    }\n",
       "</style>\n",
       "<table border=\"1\" class=\"dataframe\">\n",
       "  <thead>\n",
       "    <tr style=\"text-align: right;\">\n",
       "      <th></th>\n",
       "      <th>Neighborhood</th>\n",
       "      <th>Price</th>\n",
       "      <th>sq_mtrs</th>\n",
       "      <th>Bedrooms</th>\n",
       "      <th>Bathrooms</th>\n",
       "      <th>sq_ft</th>\n",
       "    </tr>\n",
       "  </thead>\n",
       "  <tbody>\n",
       "    <tr>\n",
       "      <th>1062</th>\n",
       "      <td>near Kasuku Center Kileleshwa Dagoretti North</td>\n",
       "      <td>100000.0</td>\n",
       "      <td>2.0</td>\n",
       "      <td>2.0</td>\n",
       "      <td>3.0</td>\n",
       "      <td>200.0</td>\n",
       "    </tr>\n",
       "    <tr>\n",
       "      <th>1589</th>\n",
       "      <td>other</td>\n",
       "      <td>150000.0</td>\n",
       "      <td>3.0</td>\n",
       "      <td>3.0</td>\n",
       "      <td>4.0</td>\n",
       "      <td>300.0</td>\n",
       "    </tr>\n",
       "    <tr>\n",
       "      <th>849</th>\n",
       "      <td>Near Kenya High Kileleshwa Dagoretti North</td>\n",
       "      <td>90000.0</td>\n",
       "      <td>3.0</td>\n",
       "      <td>2.0</td>\n",
       "      <td>3.0</td>\n",
       "      <td>300.0</td>\n",
       "    </tr>\n",
       "    <tr>\n",
       "      <th>1492</th>\n",
       "      <td>Waiyaki Way Westlands</td>\n",
       "      <td>135000.0</td>\n",
       "      <td>4.0</td>\n",
       "      <td>4.0</td>\n",
       "      <td>3.0</td>\n",
       "      <td>400.0</td>\n",
       "    </tr>\n",
       "    <tr>\n",
       "      <th>1624</th>\n",
       "      <td>other</td>\n",
       "      <td>150000.0</td>\n",
       "      <td>4.0</td>\n",
       "      <td>4.0</td>\n",
       "      <td>5.0</td>\n",
       "      <td>400.0</td>\n",
       "    </tr>\n",
       "    <tr>\n",
       "      <th>1384</th>\n",
       "      <td>Westlands Area Westlands</td>\n",
       "      <td>130000.0</td>\n",
       "      <td>3.0</td>\n",
       "      <td>3.0</td>\n",
       "      <td>3.0</td>\n",
       "      <td>300.0</td>\n",
       "    </tr>\n",
       "    <tr>\n",
       "      <th>1103</th>\n",
       "      <td>Thigiri Westlands</td>\n",
       "      <td>100000.0</td>\n",
       "      <td>1.0</td>\n",
       "      <td>1.0</td>\n",
       "      <td>2.0</td>\n",
       "      <td>100.0</td>\n",
       "    </tr>\n",
       "    <tr>\n",
       "      <th>1597</th>\n",
       "      <td>Westlands Area Westlands</td>\n",
       "      <td>150000.0</td>\n",
       "      <td>2.0</td>\n",
       "      <td>2.0</td>\n",
       "      <td>2.0</td>\n",
       "      <td>200.0</td>\n",
       "    </tr>\n",
       "    <tr>\n",
       "      <th>380</th>\n",
       "      <td>Ngong Road Ngong Road</td>\n",
       "      <td>60000.0</td>\n",
       "      <td>3.0</td>\n",
       "      <td>2.0</td>\n",
       "      <td>2.0</td>\n",
       "      <td>300.0</td>\n",
       "    </tr>\n",
       "    <tr>\n",
       "      <th>1154</th>\n",
       "      <td>other</td>\n",
       "      <td>110000.0</td>\n",
       "      <td>3.0</td>\n",
       "      <td>3.0</td>\n",
       "      <td>3.0</td>\n",
       "      <td>300.0</td>\n",
       "    </tr>\n",
       "  </tbody>\n",
       "</table>\n",
       "</div>"
      ],
      "text/plain": [
       "                                       Neighborhood     Price  sq_mtrs  \\\n",
       "1062  near Kasuku Center Kileleshwa Dagoretti North  100000.0      2.0   \n",
       "1589                                          other  150000.0      3.0   \n",
       "849      Near Kenya High Kileleshwa Dagoretti North   90000.0      3.0   \n",
       "1492                          Waiyaki Way Westlands  135000.0      4.0   \n",
       "1624                                          other  150000.0      4.0   \n",
       "1384                       Westlands Area Westlands  130000.0      3.0   \n",
       "1103                              Thigiri Westlands  100000.0      1.0   \n",
       "1597                       Westlands Area Westlands  150000.0      2.0   \n",
       "380                           Ngong Road Ngong Road   60000.0      3.0   \n",
       "1154                                          other  110000.0      3.0   \n",
       "\n",
       "      Bedrooms  Bathrooms  sq_ft  \n",
       "1062       2.0        3.0  200.0  \n",
       "1589       3.0        4.0  300.0  \n",
       "849        2.0        3.0  300.0  \n",
       "1492       4.0        3.0  400.0  \n",
       "1624       4.0        5.0  400.0  \n",
       "1384       3.0        3.0  300.0  \n",
       "1103       1.0        2.0  100.0  \n",
       "1597       2.0        2.0  200.0  \n",
       "380        2.0        2.0  300.0  \n",
       "1154       3.0        3.0  300.0  "
      ]
     },
     "execution_count": 66,
     "metadata": {},
     "output_type": "execute_result"
    }
   ],
   "source": [
    "df5.sample(10)"
   ]
  },
  {
   "cell_type": "code",
   "execution_count": 67,
   "metadata": {},
   "outputs": [
    {
     "name": "stderr",
     "output_type": "stream",
     "text": [
      "<ipython-input-67-52dd9a8c9584>:3: SettingWithCopyWarning: \n",
      "A value is trying to be set on a copy of a slice from a DataFrame.\n",
      "Try using .loc[row_indexer,col_indexer] = value instead\n",
      "\n",
      "See the caveats in the documentation: https://pandas.pydata.org/pandas-docs/stable/user_guide/indexing.html#returning-a-view-versus-a-copy\n",
      "  df5['price_per_sqft']=df5['Price']/df5['sq_ft']\n"
     ]
    },
    {
     "data": {
      "text/html": [
       "<div>\n",
       "<style scoped>\n",
       "    .dataframe tbody tr th:only-of-type {\n",
       "        vertical-align: middle;\n",
       "    }\n",
       "\n",
       "    .dataframe tbody tr th {\n",
       "        vertical-align: top;\n",
       "    }\n",
       "\n",
       "    .dataframe thead th {\n",
       "        text-align: right;\n",
       "    }\n",
       "</style>\n",
       "<table border=\"1\" class=\"dataframe\">\n",
       "  <thead>\n",
       "    <tr style=\"text-align: right;\">\n",
       "      <th></th>\n",
       "      <th>Neighborhood</th>\n",
       "      <th>Price</th>\n",
       "      <th>sq_mtrs</th>\n",
       "      <th>Bedrooms</th>\n",
       "      <th>Bathrooms</th>\n",
       "      <th>sq_ft</th>\n",
       "      <th>price_per_sqft</th>\n",
       "    </tr>\n",
       "  </thead>\n",
       "  <tbody>\n",
       "    <tr>\n",
       "      <th>0</th>\n",
       "      <td>General Mathenge Westlands</td>\n",
       "      <td>155000.0</td>\n",
       "      <td>4.0</td>\n",
       "      <td>4.0</td>\n",
       "      <td>4.0</td>\n",
       "      <td>400.0</td>\n",
       "      <td>387.500000</td>\n",
       "    </tr>\n",
       "    <tr>\n",
       "      <th>1</th>\n",
       "      <td>Kilimani Dagoretti North</td>\n",
       "      <td>100000.0</td>\n",
       "      <td>3.0</td>\n",
       "      <td>3.0</td>\n",
       "      <td>4.0</td>\n",
       "      <td>300.0</td>\n",
       "      <td>333.333333</td>\n",
       "    </tr>\n",
       "    <tr>\n",
       "      <th>2</th>\n",
       "      <td>Hatheru Rd Lavington Dagoretti North</td>\n",
       "      <td>75000.0</td>\n",
       "      <td>3.0</td>\n",
       "      <td>3.0</td>\n",
       "      <td>5.0</td>\n",
       "      <td>300.0</td>\n",
       "      <td>250.000000</td>\n",
       "    </tr>\n",
       "    <tr>\n",
       "      <th>3</th>\n",
       "      <td>Kilimani Dagoretti North</td>\n",
       "      <td>135000.0</td>\n",
       "      <td>2.0</td>\n",
       "      <td>3.0</td>\n",
       "      <td>4.0</td>\n",
       "      <td>200.0</td>\n",
       "      <td>675.000000</td>\n",
       "    </tr>\n",
       "    <tr>\n",
       "      <th>4</th>\n",
       "      <td>Imara Daima Embakasi</td>\n",
       "      <td>50000.0</td>\n",
       "      <td>3.0</td>\n",
       "      <td>3.0</td>\n",
       "      <td>2.0</td>\n",
       "      <td>300.0</td>\n",
       "      <td>166.666667</td>\n",
       "    </tr>\n",
       "  </tbody>\n",
       "</table>\n",
       "</div>"
      ],
      "text/plain": [
       "                           Neighborhood     Price  sq_mtrs  Bedrooms  \\\n",
       "0            General Mathenge Westlands  155000.0      4.0       4.0   \n",
       "1              Kilimani Dagoretti North  100000.0      3.0       3.0   \n",
       "2  Hatheru Rd Lavington Dagoretti North   75000.0      3.0       3.0   \n",
       "3              Kilimani Dagoretti North  135000.0      2.0       3.0   \n",
       "4                  Imara Daima Embakasi   50000.0      3.0       3.0   \n",
       "\n",
       "   Bathrooms  sq_ft  price_per_sqft  \n",
       "0        4.0  400.0      387.500000  \n",
       "1        4.0  300.0      333.333333  \n",
       "2        5.0  300.0      250.000000  \n",
       "3        4.0  200.0      675.000000  \n",
       "4        2.0  300.0      166.666667  "
      ]
     },
     "execution_count": 67,
     "metadata": {},
     "output_type": "execute_result"
    }
   ],
   "source": [
    "#next is outlier detection and removal\n",
    "#for this reason i will create a price_per_sqft column\n",
    "df5['price_per_sqft']=df5['Price']/df5['sq_ft']\n",
    "df5.head()"
   ]
  },
  {
   "cell_type": "code",
   "execution_count": 68,
   "metadata": {},
   "outputs": [
    {
     "data": {
      "text/html": [
       "<div>\n",
       "<style scoped>\n",
       "    .dataframe tbody tr th:only-of-type {\n",
       "        vertical-align: middle;\n",
       "    }\n",
       "\n",
       "    .dataframe tbody tr th {\n",
       "        vertical-align: top;\n",
       "    }\n",
       "\n",
       "    .dataframe thead th {\n",
       "        text-align: right;\n",
       "    }\n",
       "</style>\n",
       "<table border=\"1\" class=\"dataframe\">\n",
       "  <thead>\n",
       "    <tr style=\"text-align: right;\">\n",
       "      <th></th>\n",
       "      <th>Price</th>\n",
       "      <th>sq_mtrs</th>\n",
       "      <th>Bedrooms</th>\n",
       "      <th>Bathrooms</th>\n",
       "      <th>sq_ft</th>\n",
       "      <th>price_per_sqft</th>\n",
       "    </tr>\n",
       "  </thead>\n",
       "  <tbody>\n",
       "    <tr>\n",
       "      <th>count</th>\n",
       "      <td>1846.000000</td>\n",
       "      <td>1846.000000</td>\n",
       "      <td>1846.000000</td>\n",
       "      <td>1846.000000</td>\n",
       "      <td>1846.000000</td>\n",
       "      <td>1846.000000</td>\n",
       "    </tr>\n",
       "    <tr>\n",
       "      <th>mean</th>\n",
       "      <td>97332.878115</td>\n",
       "      <td>2.537378</td>\n",
       "      <td>2.591008</td>\n",
       "      <td>2.501083</td>\n",
       "      <td>253.737811</td>\n",
       "      <td>423.260737</td>\n",
       "    </tr>\n",
       "    <tr>\n",
       "      <th>std</th>\n",
       "      <td>40259.633611</td>\n",
       "      <td>0.791870</td>\n",
       "      <td>0.801831</td>\n",
       "      <td>0.943814</td>\n",
       "      <td>79.186956</td>\n",
       "      <td>239.098890</td>\n",
       "    </tr>\n",
       "    <tr>\n",
       "      <th>min</th>\n",
       "      <td>12000.000000</td>\n",
       "      <td>1.000000</td>\n",
       "      <td>1.000000</td>\n",
       "      <td>1.000000</td>\n",
       "      <td>100.000000</td>\n",
       "      <td>40.000000</td>\n",
       "    </tr>\n",
       "    <tr>\n",
       "      <th>25%</th>\n",
       "      <td>70000.000000</td>\n",
       "      <td>2.000000</td>\n",
       "      <td>2.000000</td>\n",
       "      <td>2.000000</td>\n",
       "      <td>200.000000</td>\n",
       "      <td>266.666667</td>\n",
       "    </tr>\n",
       "    <tr>\n",
       "      <th>50%</th>\n",
       "      <td>95000.000000</td>\n",
       "      <td>3.000000</td>\n",
       "      <td>3.000000</td>\n",
       "      <td>2.000000</td>\n",
       "      <td>300.000000</td>\n",
       "      <td>375.000000</td>\n",
       "    </tr>\n",
       "    <tr>\n",
       "      <th>75%</th>\n",
       "      <td>130000.000000</td>\n",
       "      <td>3.000000</td>\n",
       "      <td>3.000000</td>\n",
       "      <td>3.000000</td>\n",
       "      <td>300.000000</td>\n",
       "      <td>500.000000</td>\n",
       "    </tr>\n",
       "    <tr>\n",
       "      <th>max</th>\n",
       "      <td>280000.000000</td>\n",
       "      <td>4.000000</td>\n",
       "      <td>6.000000</td>\n",
       "      <td>6.000000</td>\n",
       "      <td>400.000000</td>\n",
       "      <td>1800.000000</td>\n",
       "    </tr>\n",
       "  </tbody>\n",
       "</table>\n",
       "</div>"
      ],
      "text/plain": [
       "               Price      sq_mtrs     Bedrooms    Bathrooms        sq_ft  \\\n",
       "count    1846.000000  1846.000000  1846.000000  1846.000000  1846.000000   \n",
       "mean    97332.878115     2.537378     2.591008     2.501083   253.737811   \n",
       "std     40259.633611     0.791870     0.801831     0.943814    79.186956   \n",
       "min     12000.000000     1.000000     1.000000     1.000000   100.000000   \n",
       "25%     70000.000000     2.000000     2.000000     2.000000   200.000000   \n",
       "50%     95000.000000     3.000000     3.000000     2.000000   300.000000   \n",
       "75%    130000.000000     3.000000     3.000000     3.000000   300.000000   \n",
       "max    280000.000000     4.000000     6.000000     6.000000   400.000000   \n",
       "\n",
       "       price_per_sqft  \n",
       "count     1846.000000  \n",
       "mean       423.260737  \n",
       "std        239.098890  \n",
       "min         40.000000  \n",
       "25%        266.666667  \n",
       "50%        375.000000  \n",
       "75%        500.000000  \n",
       "max       1800.000000  "
      ]
     },
     "execution_count": 68,
     "metadata": {},
     "output_type": "execute_result"
    }
   ],
   "source": [
    "df5.describe()"
   ]
  },
  {
   "cell_type": "code",
   "execution_count": 69,
   "metadata": {},
   "outputs": [],
   "source": [
    "def remove_price_per_sqft_outliers(df):\n",
    "    df_out=pd.DataFrame()\n",
    "    for k,s_df in df.groupby('Neighborhood'):\n",
    "        m=np.mean(s_df.price_per_sqft)\n",
    "        st=np.std(s_df.price_per_sqft)\n",
    "        reduced_df=s_df[(s_df.price_per_sqft>(m-st)) & (s_df.price_per_sqft<=(m+st))]\n",
    "        df_out=pd.concat([df_out,reduced_df],ignore_index=True)\n",
    "    return df_out"
   ]
  },
  {
   "cell_type": "code",
   "execution_count": 70,
   "metadata": {},
   "outputs": [
    {
     "data": {
      "text/plain": [
       "(1303, 7)"
      ]
     },
     "execution_count": 70,
     "metadata": {},
     "output_type": "execute_result"
    }
   ],
   "source": [
    "df6=remove_price_per_sqft_outliers(df5)\n",
    "df6.shape"
   ]
  },
  {
   "cell_type": "code",
   "execution_count": 71,
   "metadata": {},
   "outputs": [
    {
     "data": {
      "text/plain": [
       "array(['Argwings Kodhek Kilimani Dagoretti North',\n",
       "       'Argwings Kodhek Rd Kilimani Dagoretti North',\n",
       "       'Argwings Kodhek Road Kilimani Dagoretti North',\n",
       "       'Brookside Brookside Westlands',\n",
       "       'Brookside Drive Brookside Westlands', 'Brookside Westlands',\n",
       "       'Brookside Westlands Area Westlands',\n",
       "       'Brookside groove Brookside Westlands',\n",
       "       'Chaka Road Kilimani Dagoretti North',\n",
       "       'Chania Avenue Kilimani Dagoretti North',\n",
       "       'Denis Pritt Kilimani Dagoretti North',\n",
       "       'Dennis Pritt Dagoretti North',\n",
       "       'Dennis Pritt Kilimani Dagoretti North',\n",
       "       'Fahari Palace Apartments Church Road Westlands Area Westlands',\n",
       "       'Fourways Junction Estate Kiambu Road Kiambu Road',\n",
       "       'Gacharage Ruaka Kiambaa',\n",
       "       'General Mathenge General Mathenge Westlands',\n",
       "       'General Mathenge Road General Mathenge Westlands',\n",
       "       'General Mathenge Westlands', 'Gigiri Westlands',\n",
       "       'Gitanga Road Lavington Dagoretti North',\n",
       "       'Hatheru Rd Lavington Dagoretti North',\n",
       "       'Hurlingham Dagoretti North', 'Imara Daima Embakasi',\n",
       "       'KILIMANI WOOD AVENUE Kilimani Dagoretti North',\n",
       "       'Kahawa West Roysambu', 'Karen Karen Langata', 'Karen Langata',\n",
       "       'Kasarani Area Kasarani', 'Kiambere Road Upper Hill Langata',\n",
       "       'Kiambu Road Kiambu Road', 'Kikuyu Town Kikuyu',\n",
       "       'Kileleshwa Dagoretti North',\n",
       "       'Kileleshwa Kileleshwa Dagoretti North',\n",
       "       'Kilimani Dagoretti North', 'Kilimani Kilimani Dagoretti North',\n",
       "       'Kindaruma Road Kilimani Dagoretti North',\n",
       "       'Kingara Road Lavington Dagoretti North',\n",
       "       'Kirichwa Road Kilimani Dagoretti North',\n",
       "       'Kisumu Central Area Kisumu Central',\n",
       "       'Kitale Lane Kilimani Dagoretti North',\n",
       "       'Kolobot Drive Kilimani Dagoretti North', 'Kyuna Westlands',\n",
       "       'Laikipia Rd Kileleshwa Dagoretti North',\n",
       "       'Laikipia Road Kileleshwa Dagoretti North',\n",
       "       'Laikipia road Kileleshwa Dagoretti North', 'Langata Area Langata',\n",
       "       'Lavington Dagoretti North',\n",
       "       'Lavington Lavington Lavington Dagoretti North',\n",
       "       'Lenana Road Kilimani Dagoretti North',\n",
       "       'Lenana rdkilimani Kilimani Dagoretti North',\n",
       "       'Lenana road Kilimani Dagoretti North',\n",
       "       'Limuru Road Ruaka Kiambaa', 'Limuru road Ruaka Kiambaa',\n",
       "       'Links road Links road Ziwa La Ngombe Nyali',\n",
       "       'Loresho Loresho Westlands', 'Loresho Westlands',\n",
       "       'Loresho Westlands Area Westlands', 'Lower Kabete Westlands',\n",
       "       'MOMBASA ROAD Mombasa Road Mombasa Road', 'Madaraka Langata',\n",
       "       'Mandera Road Kileleshwa Dagoretti North',\n",
       "       'Masanduku Lane Lavington Dagoretti North',\n",
       "       'Mbaazi Avenue Lavington Dagoretti North',\n",
       "       'Mbaazi Lavington Dagoretti North',\n",
       "       'Mbaazi Mbaazi Lavington Dagoretti North',\n",
       "       'Migaa Kiambu Road Kiambu Road', 'Milimani Milimani',\n",
       "       'Mocah Courtyard Kiambu Road Kiambu Road',\n",
       "       'Mogotio Road Westlands Area Westlands',\n",
       "       'Mombasa Road Mombasa Road', 'Mountain View Westlands',\n",
       "       'Mpaka Rd Westlands Area Westlands',\n",
       "       'Mpaka Road Westlands Area Westlands',\n",
       "       'Muringa Road Kilimani Dagoretti North', 'Muthaiga Area Muthaiga',\n",
       "       'Nairobi West Langata', 'Naivasha Road Dagoretti North',\n",
       "       'Naivasha Road Naivasha Road Dagoretti North',\n",
       "       'Near Kenya High Kileleshwa Dagoretti North',\n",
       "       'Near Valley Arcade Lavington Dagoretti North',\n",
       "       'Near Yaya Center Kilimani Dagoretti North', 'Ngong Kajiado North',\n",
       "       'Ngong Racecourse Ngong Road Ngong Road',\n",
       "       'Ngong Rd Kilimani Dagoretti North', 'Ngong Road Ngong Road',\n",
       "       'Nyali Area Nyali', 'Nyali Nyali Area Nyali', 'Nyari Westlands',\n",
       "       'Off Rapta Rd Westlands Area Westlands',\n",
       "       'Off Riverside Drive Riverside Westlands',\n",
       "       'Ole Dume Kilimani Dagoretti North',\n",
       "       'Ole Sangale Madaraka Langata',\n",
       "       'Oloitoktok Road Kileleshwa Dagoretti North',\n",
       "       'Othaya Road Kileleshwa Dagoretti North',\n",
       "       'Othaya Road Lavington Dagoretti North',\n",
       "       'Parklands Parklands Westlands',\n",
       "       'Parklands Road Westlands Nairobi Parklands Westlands',\n",
       "       'Parklands Westlands', 'Raphta Road Westlands Area Westlands',\n",
       "       'Raphta Road Westlands Nairobi Rhapta Road Westlands',\n",
       "       'Rhapta Rd Rhapta Road Westlands',\n",
       "       'Rhapta Road Rhapta Road Westlands', 'Rhapta Road Westlands',\n",
       "       'Rhapta Road Westlands Area Westlands',\n",
       "       'Rhapta road Rhapta Road Westlands',\n",
       "       'Riara Lavington Dagoretti North',\n",
       "       'Riara Rd Lavington Dagoretti North', 'Riara Road Dagoretti North',\n",
       "       'Riara Road Kilimani Dagoretti North',\n",
       "       'Riara Road Riara Road Dagoretti North',\n",
       "       'Riara road Riara Road Dagoretti North',\n",
       "       'Ring Road Kilimani Kilimani Dagoretti North',\n",
       "       'Riverside Drive Riverside Westlands',\n",
       "       'Riverside Place Apartment Riverside Westlands',\n",
       "       'Riverside Westlands', 'Rose Avenue Kilimani Dagoretti North',\n",
       "       'Ruaka Kiambaa', 'Runda Westlands',\n",
       "       'School Lane Brookside Westlands',\n",
       "       'School Lane Westlands Area Westlands',\n",
       "       'Siaya Road Kileleshwa Dagoretti North', 'Spring Valley Westlands',\n",
       "       'State House Dagoretti North',\n",
       "       'Suguta Road Kileleshwa Dagoretti North', 'Syokimau Athi River',\n",
       "       'Thigiri Westlands', 'Thika Road Thika Road',\n",
       "       'Thindigua Thindigua', \"Thiong'o Mountain View Westlands\",\n",
       "       'Upper Hill Langata', 'Valley Arcade Dagoretti North',\n",
       "       'Valley Arcade Lavington Dagoretti North', 'Waiyaki Way Westlands',\n",
       "       'Waiyaki Way Westlands Area Westlands', 'Westlands Area Westlands',\n",
       "       'Westlands Westlands Area Westlands',\n",
       "       'kiambu road kiambu road Kiambu Road Kiambu Road',\n",
       "       'kileleshwa Kileleshwa Kileleshwa Dagoretti North',\n",
       "       'kileleshwa kileleshwa Kileleshwa Dagoretti North',\n",
       "       'kilimani Kilimani Kilimani Dagoretti North',\n",
       "       'kilimani kilimani Kilimani Dagoretti North',\n",
       "       'lavington Lavington Lavington Dagoretti North',\n",
       "       'lavington lavington Lavington Dagoretti North',\n",
       "       'mvuli road Rhapta Road Westlands', 'other',\n",
       "       'riverside Riverside Riverside Westlands'], dtype=object)"
      ]
     },
     "execution_count": 71,
     "metadata": {},
     "output_type": "execute_result"
    }
   ],
   "source": [
    "df6.Neighborhood.unique()"
   ]
  },
  {
   "cell_type": "code",
   "execution_count": 72,
   "metadata": {},
   "outputs": [],
   "source": [
    "#now i will plot some scatter plot to better visuzlize my data\n",
    "def plot_scatter_chart(df,Neighborhood):\n",
    "    Bedrooms2=df[(df.Neighborhood==Neighborhood) & (df.Bedrooms==2)]\n",
    "    Bedrooms3=df[(df.Neighborhood==Neighborhood) & (df.Bedrooms==3)]\n",
    "    matplotlib.rcParams['figure.figsize']==(15,10)\n",
    "    plt.scatter(Bedrooms2.sq_ft,Bedrooms2.Price,color='blue',label='2 Bedrooms')\n",
    "    plt.scatter(Bedrooms3.sq_ft,Bedrooms3.Price,marker='+',color='green',label='3 Bedrooms')\n",
    "    plt.xlabel('Total Square Feet Area')\n",
    "    plt.ylabel('Price Per Square Feet')\n",
    "    plt.title(Neighborhood)\n",
    "    plt.legend()"
   ]
  },
  {
   "cell_type": "code",
   "execution_count": 73,
   "metadata": {},
   "outputs": [
    {
     "data": {
      "image/png": "[encoded data removed]",
      "text/plain": [
       "<Figure size 432x288 with 1 Axes>"
      ]
     },
     "metadata": {
      "needs_background": "light"
     },
     "output_type": "display_data"
    }
   ],
   "source": [
    "plot_scatter_chart(df6,'Hatheru Rd Lavington Dagoretti North')"
   ]
  },
  {
   "cell_type": "code",
   "execution_count": 74,
   "metadata": {},
   "outputs": [
    {
     "data": {
      "image/png": "[encoded data removed]",
      "text/plain": [
       "<Figure size 432x288 with 1 Axes>"
      ]
     },
     "metadata": {
      "needs_background": "light"
     },
     "output_type": "display_data"
    }
   ],
   "source": [
    "plot_scatter_chart(df6,'Westlands Area Westlands')"
   ]
  },
  {
   "cell_type": "code",
   "execution_count": 75,
   "metadata": {},
   "outputs": [
    {
     "data": {
      "text/html": [
       "<div>\n",
       "<style scoped>\n",
       "    .dataframe tbody tr th:only-of-type {\n",
       "        vertical-align: middle;\n",
       "    }\n",
       "\n",
       "    .dataframe tbody tr th {\n",
       "        vertical-align: top;\n",
       "    }\n",
       "\n",
       "    .dataframe thead th {\n",
       "        text-align: right;\n",
       "    }\n",
       "</style>\n",
       "<table border=\"1\" class=\"dataframe\">\n",
       "  <thead>\n",
       "    <tr style=\"text-align: right;\">\n",
       "      <th></th>\n",
       "      <th>Neighborhood</th>\n",
       "      <th>Price</th>\n",
       "      <th>sq_mtrs</th>\n",
       "      <th>Bedrooms</th>\n",
       "      <th>Bathrooms</th>\n",
       "      <th>sq_ft</th>\n",
       "      <th>price_per_sqft</th>\n",
       "    </tr>\n",
       "  </thead>\n",
       "  <tbody>\n",
       "    <tr>\n",
       "      <th>26</th>\n",
       "      <td>Chaka Road Kilimani Dagoretti North</td>\n",
       "      <td>170000.0</td>\n",
       "      <td>1.0</td>\n",
       "      <td>1.0</td>\n",
       "      <td>2.0</td>\n",
       "      <td>100.0</td>\n",
       "      <td>1700.0</td>\n",
       "    </tr>\n",
       "    <tr>\n",
       "      <th>749</th>\n",
       "      <td>Spring Valley Westlands</td>\n",
       "      <td>160000.0</td>\n",
       "      <td>1.0</td>\n",
       "      <td>2.0</td>\n",
       "      <td>1.0</td>\n",
       "      <td>100.0</td>\n",
       "      <td>1600.0</td>\n",
       "    </tr>\n",
       "  </tbody>\n",
       "</table>\n",
       "</div>"
      ],
      "text/plain": [
       "                            Neighborhood     Price  sq_mtrs  Bedrooms  \\\n",
       "26   Chaka Road Kilimani Dagoretti North  170000.0      1.0       1.0   \n",
       "749              Spring Valley Westlands  160000.0      1.0       2.0   \n",
       "\n",
       "     Bathrooms  sq_ft  price_per_sqft  \n",
       "26         2.0  100.0          1700.0  \n",
       "749        1.0  100.0          1600.0  "
      ]
     },
     "execution_count": 75,
     "metadata": {},
     "output_type": "execute_result"
    }
   ],
   "source": [
    "lower_limit=df6.price_per_sqft.quantile(0.001)\n",
    "lower_limit\n",
    "df6[df6.price_per_sqft<lower_limit]\n",
    "upper_limit=df6.price_per_sqft.quantile(0.999)\n",
    "df6[df6.price_per_sqft>upper_limit]"
   ]
  },
  {
   "cell_type": "code",
   "execution_count": 76,
   "metadata": {},
   "outputs": [
    {
     "data": {
      "text/plain": [
       "(1298, 7)"
      ]
     },
     "execution_count": 76,
     "metadata": {},
     "output_type": "execute_result"
    }
   ],
   "source": [
    "df7=df6[(df6.price_per_sqft>lower_limit) & (df6.price_per_sqft<upper_limit)]\n",
    "df7.shape"
   ]
  },
  {
   "cell_type": "code",
   "execution_count": 77,
   "metadata": {},
   "outputs": [],
   "source": [
    "def remove_bedrooms_outliers(df):\n",
    "    exclude_indices=np.array([])\n",
    "    for Neighborhood,Neighborhood_df in df.groupby('Neighborhood'):\n",
    "        Bedrooms_stats={}\n",
    "        for Bedrooms,bd_df in Neighborhood_df.groupby('Bedrooms'):\n",
    "            Bedrooms_stats[Bedrooms]={\n",
    "                'mean':np.mean(bd_df.price_per_sqft),\n",
    "                'std':np.std(bd_df.price_per_sqft),\n",
    "                'count':bd_df.shape[0]\n",
    "            }\n",
    "            \n",
    "        for Bedrooms,bd_df in Neighborhood_df.groupby('Bedrooms'):\n",
    "            stats=Bedrooms_stats.get(Bedrooms-1)\n",
    "            if stats and stats['count']>50:\n",
    "                exclude_indices=np.append(exclude_indices,bd_df[bd_df.price_per_sqft<(stats['mean'])].index.values)\n",
    "    return df.drop(exclude_indices,axis='index')"
   ]
  },
  {
   "cell_type": "code",
   "execution_count": 78,
   "metadata": {},
   "outputs": [
    {
     "data": {
      "text/plain": [
       "(1178, 7)"
      ]
     },
     "execution_count": 78,
     "metadata": {},
     "output_type": "execute_result"
    }
   ],
   "source": [
    "df8=remove_bedrooms_outliers(df7)\n",
    "df8.shape"
   ]
  },
  {
   "cell_type": "code",
   "execution_count": 79,
   "metadata": {},
   "outputs": [
    {
     "data": {
      "text/html": [
       "<div>\n",
       "<style scoped>\n",
       "    .dataframe tbody tr th:only-of-type {\n",
       "        vertical-align: middle;\n",
       "    }\n",
       "\n",
       "    .dataframe tbody tr th {\n",
       "        vertical-align: top;\n",
       "    }\n",
       "\n",
       "    .dataframe thead th {\n",
       "        text-align: right;\n",
       "    }\n",
       "</style>\n",
       "<table border=\"1\" class=\"dataframe\">\n",
       "  <thead>\n",
       "    <tr style=\"text-align: right;\">\n",
       "      <th></th>\n",
       "      <th>Neighborhood</th>\n",
       "      <th>Price</th>\n",
       "      <th>sq_mtrs</th>\n",
       "      <th>Bedrooms</th>\n",
       "      <th>Bathrooms</th>\n",
       "      <th>sq_ft</th>\n",
       "      <th>price_per_sqft</th>\n",
       "    </tr>\n",
       "  </thead>\n",
       "  <tbody>\n",
       "    <tr>\n",
       "      <th>0</th>\n",
       "      <td>Argwings Kodhek Kilimani Dagoretti North</td>\n",
       "      <td>150000.0</td>\n",
       "      <td>2.0</td>\n",
       "      <td>3.0</td>\n",
       "      <td>4.0</td>\n",
       "      <td>200.0</td>\n",
       "      <td>750.0</td>\n",
       "    </tr>\n",
       "    <tr>\n",
       "      <th>1</th>\n",
       "      <td>Argwings Kodhek Kilimani Dagoretti North</td>\n",
       "      <td>165000.0</td>\n",
       "      <td>2.0</td>\n",
       "      <td>3.0</td>\n",
       "      <td>4.0</td>\n",
       "      <td>200.0</td>\n",
       "      <td>825.0</td>\n",
       "    </tr>\n",
       "    <tr>\n",
       "      <th>2</th>\n",
       "      <td>Argwings Kodhek Rd Kilimani Dagoretti North</td>\n",
       "      <td>150000.0</td>\n",
       "      <td>2.0</td>\n",
       "      <td>2.0</td>\n",
       "      <td>2.0</td>\n",
       "      <td>200.0</td>\n",
       "      <td>750.0</td>\n",
       "    </tr>\n",
       "    <tr>\n",
       "      <th>3</th>\n",
       "      <td>Argwings Kodhek Road Kilimani Dagoretti North</td>\n",
       "      <td>75000.0</td>\n",
       "      <td>3.0</td>\n",
       "      <td>3.0</td>\n",
       "      <td>2.0</td>\n",
       "      <td>300.0</td>\n",
       "      <td>250.0</td>\n",
       "    </tr>\n",
       "    <tr>\n",
       "      <th>4</th>\n",
       "      <td>Argwings Kodhek Road Kilimani Dagoretti North</td>\n",
       "      <td>75000.0</td>\n",
       "      <td>3.0</td>\n",
       "      <td>3.0</td>\n",
       "      <td>2.0</td>\n",
       "      <td>300.0</td>\n",
       "      <td>250.0</td>\n",
       "    </tr>\n",
       "  </tbody>\n",
       "</table>\n",
       "</div>"
      ],
      "text/plain": [
       "                                    Neighborhood     Price  sq_mtrs  Bedrooms  \\\n",
       "0       Argwings Kodhek Kilimani Dagoretti North  150000.0      2.0       3.0   \n",
       "1       Argwings Kodhek Kilimani Dagoretti North  165000.0      2.0       3.0   \n",
       "2    Argwings Kodhek Rd Kilimani Dagoretti North  150000.0      2.0       2.0   \n",
       "3  Argwings Kodhek Road Kilimani Dagoretti North   75000.0      3.0       3.0   \n",
       "4  Argwings Kodhek Road Kilimani Dagoretti North   75000.0      3.0       3.0   \n",
       "\n",
       "   Bathrooms  sq_ft  price_per_sqft  \n",
       "0        4.0  200.0           750.0  \n",
       "1        4.0  200.0           825.0  \n",
       "2        2.0  200.0           750.0  \n",
       "3        2.0  300.0           250.0  \n",
       "4        2.0  300.0           250.0  "
      ]
     },
     "execution_count": 79,
     "metadata": {},
     "output_type": "execute_result"
    }
   ],
   "source": [
    "df8.head()"
   ]
  },
  {
   "cell_type": "code",
   "execution_count": 80,
   "metadata": {},
   "outputs": [
    {
     "data": {
      "text/plain": [
       "array([200., 300., 400., 100.])"
      ]
     },
     "execution_count": 80,
     "metadata": {},
     "output_type": "execute_result"
    }
   ],
   "source": [
    "df8.sq_ft.unique()"
   ]
  },
  {
   "cell_type": "code",
   "execution_count": null,
   "metadata": {},
   "outputs": [],
   "source": []
  },
  {
   "cell_type": "code",
   "execution_count": 81,
   "metadata": {},
   "outputs": [
    {
     "data": {
      "text/plain": [
       "Text(0, 0.5, 'Count')"
      ]
     },
     "execution_count": 81,
     "metadata": {},
     "output_type": "execute_result"
    },
    {
     "data": {
      "image/png": "[encoded data removed]",
      "text/plain": [
       "<Figure size 1440x720 with 1 Axes>"
      ]
     },
     "metadata": {
      "needs_background": "light"
     },
     "output_type": "display_data"
    }
   ],
   "source": [
    "#my dataset is looking pretty good,i can now plot a histogram to see its normal distribution\n",
    "import matplotlib\n",
    "matplotlib.rcParams['figure.figsize']=(20,10)\n",
    "plt.hist(df8.price_per_sqft,rwidth=0.8)\n",
    "plt.xlabel('Price Per sqft')\n",
    "plt.ylabel('Count')"
   ]
  },
  {
   "cell_type": "code",
   "execution_count": 82,
   "metadata": {},
   "outputs": [],
   "source": [
    "###booooom, my histogram  is kinda  of a normal distribution"
   ]
  },
  {
   "cell_type": "code",
   "execution_count": 83,
   "metadata": {},
   "outputs": [
    {
     "data": {
      "text/html": [
       "<div>\n",
       "<style scoped>\n",
       "    .dataframe tbody tr th:only-of-type {\n",
       "        vertical-align: middle;\n",
       "    }\n",
       "\n",
       "    .dataframe tbody tr th {\n",
       "        vertical-align: top;\n",
       "    }\n",
       "\n",
       "    .dataframe thead th {\n",
       "        text-align: right;\n",
       "    }\n",
       "</style>\n",
       "<table border=\"1\" class=\"dataframe\">\n",
       "  <thead>\n",
       "    <tr style=\"text-align: right;\">\n",
       "      <th></th>\n",
       "      <th>Neighborhood</th>\n",
       "      <th>Price</th>\n",
       "      <th>sq_mtrs</th>\n",
       "      <th>Bedrooms</th>\n",
       "      <th>Bathrooms</th>\n",
       "      <th>sq_ft</th>\n",
       "      <th>price_per_sqft</th>\n",
       "    </tr>\n",
       "  </thead>\n",
       "  <tbody>\n",
       "    <tr>\n",
       "      <th>0</th>\n",
       "      <td>Argwings Kodhek Kilimani Dagoretti North</td>\n",
       "      <td>150000.0</td>\n",
       "      <td>2.0</td>\n",
       "      <td>3.0</td>\n",
       "      <td>4.0</td>\n",
       "      <td>200.0</td>\n",
       "      <td>750.0</td>\n",
       "    </tr>\n",
       "    <tr>\n",
       "      <th>1</th>\n",
       "      <td>Argwings Kodhek Kilimani Dagoretti North</td>\n",
       "      <td>165000.0</td>\n",
       "      <td>2.0</td>\n",
       "      <td>3.0</td>\n",
       "      <td>4.0</td>\n",
       "      <td>200.0</td>\n",
       "      <td>825.0</td>\n",
       "    </tr>\n",
       "  </tbody>\n",
       "</table>\n",
       "</div>"
      ],
      "text/plain": [
       "                               Neighborhood     Price  sq_mtrs  Bedrooms  \\\n",
       "0  Argwings Kodhek Kilimani Dagoretti North  150000.0      2.0       3.0   \n",
       "1  Argwings Kodhek Kilimani Dagoretti North  165000.0      2.0       3.0   \n",
       "\n",
       "   Bathrooms  sq_ft  price_per_sqft  \n",
       "0        4.0  200.0           750.0  \n",
       "1        4.0  200.0           825.0  "
      ]
     },
     "execution_count": 83,
     "metadata": {},
     "output_type": "execute_result"
    }
   ],
   "source": [
    "df8.head(2)"
   ]
  },
  {
   "cell_type": "code",
   "execution_count": 84,
   "metadata": {},
   "outputs": [
    {
     "data": {
      "text/plain": [
       "Neighborhood       object\n",
       "Price             float64\n",
       "sq_mtrs           float64\n",
       "Bedrooms          float64\n",
       "Bathrooms         float64\n",
       "sq_ft             float64\n",
       "price_per_sqft    float64\n",
       "dtype: object"
      ]
     },
     "execution_count": 84,
     "metadata": {},
     "output_type": "execute_result"
    }
   ],
   "source": [
    "df8.dtypes"
   ]
  },
  {
   "cell_type": "code",
   "execution_count": 85,
   "metadata": {},
   "outputs": [
    {
     "data": {
      "text/plain": [
       "dtype('int32')"
      ]
     },
     "execution_count": 85,
     "metadata": {},
     "output_type": "execute_result"
    }
   ],
   "source": [
    "df8.Bedrooms=df8.Bedrooms.astype(int)\n",
    "df8.Bathrooms=df8.Bathrooms.astype(int)\n",
    "df8.sq_ft=df8.sq_ft.astype(int)\n",
    "df8.sq_ft.dtypes"
   ]
  },
  {
   "cell_type": "code",
   "execution_count": 86,
   "metadata": {},
   "outputs": [
    {
     "data": {
      "text/plain": [
       "Neighborhood       object\n",
       "Price             float64\n",
       "sq_mtrs           float64\n",
       "Bedrooms            int32\n",
       "Bathrooms           int32\n",
       "sq_ft               int32\n",
       "price_per_sqft    float64\n",
       "dtype: object"
      ]
     },
     "execution_count": 86,
     "metadata": {},
     "output_type": "execute_result"
    }
   ],
   "source": [
    "df8.dtypes"
   ]
  },
  {
   "cell_type": "code",
   "execution_count": null,
   "metadata": {},
   "outputs": [],
   "source": []
  },
  {
   "cell_type": "code",
   "execution_count": null,
   "metadata": {},
   "outputs": [],
   "source": []
  },
  {
   "cell_type": "code",
   "execution_count": null,
   "metadata": {},
   "outputs": [],
   "source": []
  },
  {
   "cell_type": "code",
   "execution_count": 119,
   "metadata": {},
   "outputs": [
    {
     "data": {
      "text/html": [
       "<div>\n",
       "<style scoped>\n",
       "    .dataframe tbody tr th:only-of-type {\n",
       "        vertical-align: middle;\n",
       "    }\n",
       "\n",
       "    .dataframe tbody tr th {\n",
       "        vertical-align: top;\n",
       "    }\n",
       "\n",
       "    .dataframe thead th {\n",
       "        text-align: right;\n",
       "    }\n",
       "</style>\n",
       "<table border=\"1\" class=\"dataframe\">\n",
       "  <thead>\n",
       "    <tr style=\"text-align: right;\">\n",
       "      <th></th>\n",
       "      <th>Argwings Kodhek Kilimani Dagoretti North</th>\n",
       "      <th>Argwings Kodhek Rd Kilimani Dagoretti North</th>\n",
       "      <th>Argwings Kodhek Road Kilimani Dagoretti North</th>\n",
       "      <th>Brookside Brookside Westlands</th>\n",
       "      <th>Brookside Drive Brookside Westlands</th>\n",
       "      <th>Brookside Westlands</th>\n",
       "      <th>Brookside Westlands Area Westlands</th>\n",
       "      <th>Brookside groove Brookside Westlands</th>\n",
       "      <th>Chania Avenue Kilimani Dagoretti North</th>\n",
       "      <th>Denis Pritt Kilimani Dagoretti North</th>\n",
       "      <th>...</th>\n",
       "      <th>kiambu road kiambu road Kiambu Road Kiambu Road</th>\n",
       "      <th>kileleshwa Kileleshwa Kileleshwa Dagoretti North</th>\n",
       "      <th>kileleshwa kileleshwa Kileleshwa Dagoretti North</th>\n",
       "      <th>kilimani Kilimani Kilimani Dagoretti North</th>\n",
       "      <th>kilimani kilimani Kilimani Dagoretti North</th>\n",
       "      <th>lavington Lavington Lavington Dagoretti North</th>\n",
       "      <th>lavington lavington Lavington Dagoretti North</th>\n",
       "      <th>mvuli road Rhapta Road Westlands</th>\n",
       "      <th>other</th>\n",
       "      <th>riverside Riverside Riverside Westlands</th>\n",
       "    </tr>\n",
       "  </thead>\n",
       "  <tbody>\n",
       "    <tr>\n",
       "      <th>0</th>\n",
       "      <td>1</td>\n",
       "      <td>0</td>\n",
       "      <td>0</td>\n",
       "      <td>0</td>\n",
       "      <td>0</td>\n",
       "      <td>0</td>\n",
       "      <td>0</td>\n",
       "      <td>0</td>\n",
       "      <td>0</td>\n",
       "      <td>0</td>\n",
       "      <td>...</td>\n",
       "      <td>0</td>\n",
       "      <td>0</td>\n",
       "      <td>0</td>\n",
       "      <td>0</td>\n",
       "      <td>0</td>\n",
       "      <td>0</td>\n",
       "      <td>0</td>\n",
       "      <td>0</td>\n",
       "      <td>0</td>\n",
       "      <td>0</td>\n",
       "    </tr>\n",
       "    <tr>\n",
       "      <th>1</th>\n",
       "      <td>1</td>\n",
       "      <td>0</td>\n",
       "      <td>0</td>\n",
       "      <td>0</td>\n",
       "      <td>0</td>\n",
       "      <td>0</td>\n",
       "      <td>0</td>\n",
       "      <td>0</td>\n",
       "      <td>0</td>\n",
       "      <td>0</td>\n",
       "      <td>...</td>\n",
       "      <td>0</td>\n",
       "      <td>0</td>\n",
       "      <td>0</td>\n",
       "      <td>0</td>\n",
       "      <td>0</td>\n",
       "      <td>0</td>\n",
       "      <td>0</td>\n",
       "      <td>0</td>\n",
       "      <td>0</td>\n",
       "      <td>0</td>\n",
       "    </tr>\n",
       "    <tr>\n",
       "      <th>2</th>\n",
       "      <td>0</td>\n",
       "      <td>1</td>\n",
       "      <td>0</td>\n",
       "      <td>0</td>\n",
       "      <td>0</td>\n",
       "      <td>0</td>\n",
       "      <td>0</td>\n",
       "      <td>0</td>\n",
       "      <td>0</td>\n",
       "      <td>0</td>\n",
       "      <td>...</td>\n",
       "      <td>0</td>\n",
       "      <td>0</td>\n",
       "      <td>0</td>\n",
       "      <td>0</td>\n",
       "      <td>0</td>\n",
       "      <td>0</td>\n",
       "      <td>0</td>\n",
       "      <td>0</td>\n",
       "      <td>0</td>\n",
       "      <td>0</td>\n",
       "    </tr>\n",
       "    <tr>\n",
       "      <th>3</th>\n",
       "      <td>0</td>\n",
       "      <td>0</td>\n",
       "      <td>1</td>\n",
       "      <td>0</td>\n",
       "      <td>0</td>\n",
       "      <td>0</td>\n",
       "      <td>0</td>\n",
       "      <td>0</td>\n",
       "      <td>0</td>\n",
       "      <td>0</td>\n",
       "      <td>...</td>\n",
       "      <td>0</td>\n",
       "      <td>0</td>\n",
       "      <td>0</td>\n",
       "      <td>0</td>\n",
       "      <td>0</td>\n",
       "      <td>0</td>\n",
       "      <td>0</td>\n",
       "      <td>0</td>\n",
       "      <td>0</td>\n",
       "      <td>0</td>\n",
       "    </tr>\n",
       "  </tbody>\n",
       "</table>\n",
       "<p>4 rows × 145 columns</p>\n",
       "</div>"
      ],
      "text/plain": [
       "   Argwings Kodhek Kilimani Dagoretti North  \\\n",
       "0                                         1   \n",
       "1                                         1   \n",
       "2                                         0   \n",
       "3                                         0   \n",
       "\n",
       "   Argwings Kodhek Rd Kilimani Dagoretti North  \\\n",
       "0                                            0   \n",
       "1                                            0   \n",
       "2                                            1   \n",
       "3                                            0   \n",
       "\n",
       "   Argwings Kodhek Road Kilimani Dagoretti North  \\\n",
       "0                                              0   \n",
       "1                                              0   \n",
       "2                                              0   \n",
       "3                                              1   \n",
       "\n",
       "   Brookside Brookside Westlands  Brookside Drive Brookside Westlands  \\\n",
       "0                              0                                    0   \n",
       "1                              0                                    0   \n",
       "2                              0                                    0   \n",
       "3                              0                                    0   \n",
       "\n",
       "   Brookside Westlands  Brookside Westlands Area Westlands  \\\n",
       "0                    0                                   0   \n",
       "1                    0                                   0   \n",
       "2                    0                                   0   \n",
       "3                    0                                   0   \n",
       "\n",
       "   Brookside groove Brookside Westlands  \\\n",
       "0                                     0   \n",
       "1                                     0   \n",
       "2                                     0   \n",
       "3                                     0   \n",
       "\n",
       "   Chania Avenue Kilimani Dagoretti North  \\\n",
       "0                                       0   \n",
       "1                                       0   \n",
       "2                                       0   \n",
       "3                                       0   \n",
       "\n",
       "   Denis Pritt Kilimani Dagoretti North  ...  \\\n",
       "0                                     0  ...   \n",
       "1                                     0  ...   \n",
       "2                                     0  ...   \n",
       "3                                     0  ...   \n",
       "\n",
       "   kiambu road kiambu road Kiambu Road Kiambu Road  \\\n",
       "0                                                0   \n",
       "1                                                0   \n",
       "2                                                0   \n",
       "3                                                0   \n",
       "\n",
       "   kileleshwa Kileleshwa Kileleshwa Dagoretti North  \\\n",
       "0                                                 0   \n",
       "1                                                 0   \n",
       "2                                                 0   \n",
       "3                                                 0   \n",
       "\n",
       "   kileleshwa kileleshwa Kileleshwa Dagoretti North  \\\n",
       "0                                                 0   \n",
       "1                                                 0   \n",
       "2                                                 0   \n",
       "3                                                 0   \n",
       "\n",
       "   kilimani Kilimani Kilimani Dagoretti North  \\\n",
       "0                                           0   \n",
       "1                                           0   \n",
       "2                                           0   \n",
       "3                                           0   \n",
       "\n",
       "   kilimani kilimani Kilimani Dagoretti North  \\\n",
       "0                                           0   \n",
       "1                                           0   \n",
       "2                                           0   \n",
       "3                                           0   \n",
       "\n",
       "   lavington Lavington Lavington Dagoretti North  \\\n",
       "0                                              0   \n",
       "1                                              0   \n",
       "2                                              0   \n",
       "3                                              0   \n",
       "\n",
       "   lavington lavington Lavington Dagoretti North  \\\n",
       "0                                              0   \n",
       "1                                              0   \n",
       "2                                              0   \n",
       "3                                              0   \n",
       "\n",
       "   mvuli road Rhapta Road Westlands  other  \\\n",
       "0                                 0      0   \n",
       "1                                 0      0   \n",
       "2                                 0      0   \n",
       "3                                 0      0   \n",
       "\n",
       "   riverside Riverside Riverside Westlands  \n",
       "0                                        0  \n",
       "1                                        0  \n",
       "2                                        0  \n",
       "3                                        0  \n",
       "\n",
       "[4 rows x 145 columns]"
      ]
     },
     "execution_count": 119,
     "metadata": {},
     "output_type": "execute_result"
    }
   ],
   "source": [
    "#next i will get dummy values for my neighborhood columns\n",
    "dummies=pd.get_dummies(df8.Neighborhood)\n",
    "dummies.head(4)"
   ]
  },
  {
   "cell_type": "code",
   "execution_count": 88,
   "metadata": {},
   "outputs": [
    {
     "data": {
      "text/html": [
       "<div>\n",
       "<style scoped>\n",
       "    .dataframe tbody tr th:only-of-type {\n",
       "        vertical-align: middle;\n",
       "    }\n",
       "\n",
       "    .dataframe tbody tr th {\n",
       "        vertical-align: top;\n",
       "    }\n",
       "\n",
       "    .dataframe thead th {\n",
       "        text-align: right;\n",
       "    }\n",
       "</style>\n",
       "<table border=\"1\" class=\"dataframe\">\n",
       "  <thead>\n",
       "    <tr style=\"text-align: right;\">\n",
       "      <th></th>\n",
       "      <th>Neighborhood</th>\n",
       "      <th>Price</th>\n",
       "      <th>sq_mtrs</th>\n",
       "      <th>Bedrooms</th>\n",
       "      <th>Bathrooms</th>\n",
       "      <th>sq_ft</th>\n",
       "      <th>price_per_sqft</th>\n",
       "      <th>Argwings Kodhek Kilimani Dagoretti North</th>\n",
       "      <th>Argwings Kodhek Rd Kilimani Dagoretti North</th>\n",
       "      <th>Argwings Kodhek Road Kilimani Dagoretti North</th>\n",
       "      <th>...</th>\n",
       "      <th>Westlands Westlands Area Westlands</th>\n",
       "      <th>kiambu road kiambu road Kiambu Road Kiambu Road</th>\n",
       "      <th>kileleshwa Kileleshwa Kileleshwa Dagoretti North</th>\n",
       "      <th>kileleshwa kileleshwa Kileleshwa Dagoretti North</th>\n",
       "      <th>kilimani Kilimani Kilimani Dagoretti North</th>\n",
       "      <th>kilimani kilimani Kilimani Dagoretti North</th>\n",
       "      <th>lavington Lavington Lavington Dagoretti North</th>\n",
       "      <th>lavington lavington Lavington Dagoretti North</th>\n",
       "      <th>mvuli road Rhapta Road Westlands</th>\n",
       "      <th>riverside Riverside Riverside Westlands</th>\n",
       "    </tr>\n",
       "  </thead>\n",
       "  <tbody>\n",
       "    <tr>\n",
       "      <th>0</th>\n",
       "      <td>Argwings Kodhek Kilimani Dagoretti North</td>\n",
       "      <td>150000.0</td>\n",
       "      <td>2.0</td>\n",
       "      <td>3</td>\n",
       "      <td>4</td>\n",
       "      <td>200</td>\n",
       "      <td>750.0</td>\n",
       "      <td>1</td>\n",
       "      <td>0</td>\n",
       "      <td>0</td>\n",
       "      <td>...</td>\n",
       "      <td>0</td>\n",
       "      <td>0</td>\n",
       "      <td>0</td>\n",
       "      <td>0</td>\n",
       "      <td>0</td>\n",
       "      <td>0</td>\n",
       "      <td>0</td>\n",
       "      <td>0</td>\n",
       "      <td>0</td>\n",
       "      <td>0</td>\n",
       "    </tr>\n",
       "    <tr>\n",
       "      <th>1</th>\n",
       "      <td>Argwings Kodhek Kilimani Dagoretti North</td>\n",
       "      <td>165000.0</td>\n",
       "      <td>2.0</td>\n",
       "      <td>3</td>\n",
       "      <td>4</td>\n",
       "      <td>200</td>\n",
       "      <td>825.0</td>\n",
       "      <td>1</td>\n",
       "      <td>0</td>\n",
       "      <td>0</td>\n",
       "      <td>...</td>\n",
       "      <td>0</td>\n",
       "      <td>0</td>\n",
       "      <td>0</td>\n",
       "      <td>0</td>\n",
       "      <td>0</td>\n",
       "      <td>0</td>\n",
       "      <td>0</td>\n",
       "      <td>0</td>\n",
       "      <td>0</td>\n",
       "      <td>0</td>\n",
       "    </tr>\n",
       "    <tr>\n",
       "      <th>2</th>\n",
       "      <td>Argwings Kodhek Rd Kilimani Dagoretti North</td>\n",
       "      <td>150000.0</td>\n",
       "      <td>2.0</td>\n",
       "      <td>2</td>\n",
       "      <td>2</td>\n",
       "      <td>200</td>\n",
       "      <td>750.0</td>\n",
       "      <td>0</td>\n",
       "      <td>1</td>\n",
       "      <td>0</td>\n",
       "      <td>...</td>\n",
       "      <td>0</td>\n",
       "      <td>0</td>\n",
       "      <td>0</td>\n",
       "      <td>0</td>\n",
       "      <td>0</td>\n",
       "      <td>0</td>\n",
       "      <td>0</td>\n",
       "      <td>0</td>\n",
       "      <td>0</td>\n",
       "      <td>0</td>\n",
       "    </tr>\n",
       "    <tr>\n",
       "      <th>3</th>\n",
       "      <td>Argwings Kodhek Road Kilimani Dagoretti North</td>\n",
       "      <td>75000.0</td>\n",
       "      <td>3.0</td>\n",
       "      <td>3</td>\n",
       "      <td>2</td>\n",
       "      <td>300</td>\n",
       "      <td>250.0</td>\n",
       "      <td>0</td>\n",
       "      <td>0</td>\n",
       "      <td>1</td>\n",
       "      <td>...</td>\n",
       "      <td>0</td>\n",
       "      <td>0</td>\n",
       "      <td>0</td>\n",
       "      <td>0</td>\n",
       "      <td>0</td>\n",
       "      <td>0</td>\n",
       "      <td>0</td>\n",
       "      <td>0</td>\n",
       "      <td>0</td>\n",
       "      <td>0</td>\n",
       "    </tr>\n",
       "    <tr>\n",
       "      <th>4</th>\n",
       "      <td>Argwings Kodhek Road Kilimani Dagoretti North</td>\n",
       "      <td>75000.0</td>\n",
       "      <td>3.0</td>\n",
       "      <td>3</td>\n",
       "      <td>2</td>\n",
       "      <td>300</td>\n",
       "      <td>250.0</td>\n",
       "      <td>0</td>\n",
       "      <td>0</td>\n",
       "      <td>1</td>\n",
       "      <td>...</td>\n",
       "      <td>0</td>\n",
       "      <td>0</td>\n",
       "      <td>0</td>\n",
       "      <td>0</td>\n",
       "      <td>0</td>\n",
       "      <td>0</td>\n",
       "      <td>0</td>\n",
       "      <td>0</td>\n",
       "      <td>0</td>\n",
       "      <td>0</td>\n",
       "    </tr>\n",
       "  </tbody>\n",
       "</table>\n",
       "<p>5 rows × 151 columns</p>\n",
       "</div>"
      ],
      "text/plain": [
       "                                    Neighborhood     Price  sq_mtrs  Bedrooms  \\\n",
       "0       Argwings Kodhek Kilimani Dagoretti North  150000.0      2.0         3   \n",
       "1       Argwings Kodhek Kilimani Dagoretti North  165000.0      2.0         3   \n",
       "2    Argwings Kodhek Rd Kilimani Dagoretti North  150000.0      2.0         2   \n",
       "3  Argwings Kodhek Road Kilimani Dagoretti North   75000.0      3.0         3   \n",
       "4  Argwings Kodhek Road Kilimani Dagoretti North   75000.0      3.0         3   \n",
       "\n",
       "   Bathrooms  sq_ft  price_per_sqft  Argwings Kodhek Kilimani Dagoretti North  \\\n",
       "0          4    200           750.0                                         1   \n",
       "1          4    200           825.0                                         1   \n",
       "2          2    200           750.0                                         0   \n",
       "3          2    300           250.0                                         0   \n",
       "4          2    300           250.0                                         0   \n",
       "\n",
       "   Argwings Kodhek Rd Kilimani Dagoretti North  \\\n",
       "0                                            0   \n",
       "1                                            0   \n",
       "2                                            1   \n",
       "3                                            0   \n",
       "4                                            0   \n",
       "\n",
       "   Argwings Kodhek Road Kilimani Dagoretti North  ...  \\\n",
       "0                                              0  ...   \n",
       "1                                              0  ...   \n",
       "2                                              0  ...   \n",
       "3                                              1  ...   \n",
       "4                                              1  ...   \n",
       "\n",
       "   Westlands Westlands Area Westlands  \\\n",
       "0                                   0   \n",
       "1                                   0   \n",
       "2                                   0   \n",
       "3                                   0   \n",
       "4                                   0   \n",
       "\n",
       "   kiambu road kiambu road Kiambu Road Kiambu Road  \\\n",
       "0                                                0   \n",
       "1                                                0   \n",
       "2                                                0   \n",
       "3                                                0   \n",
       "4                                                0   \n",
       "\n",
       "   kileleshwa Kileleshwa Kileleshwa Dagoretti North  \\\n",
       "0                                                 0   \n",
       "1                                                 0   \n",
       "2                                                 0   \n",
       "3                                                 0   \n",
       "4                                                 0   \n",
       "\n",
       "   kileleshwa kileleshwa Kileleshwa Dagoretti North  \\\n",
       "0                                                 0   \n",
       "1                                                 0   \n",
       "2                                                 0   \n",
       "3                                                 0   \n",
       "4                                                 0   \n",
       "\n",
       "   kilimani Kilimani Kilimani Dagoretti North  \\\n",
       "0                                           0   \n",
       "1                                           0   \n",
       "2                                           0   \n",
       "3                                           0   \n",
       "4                                           0   \n",
       "\n",
       "   kilimani kilimani Kilimani Dagoretti North  \\\n",
       "0                                           0   \n",
       "1                                           0   \n",
       "2                                           0   \n",
       "3                                           0   \n",
       "4                                           0   \n",
       "\n",
       "   lavington Lavington Lavington Dagoretti North  \\\n",
       "0                                              0   \n",
       "1                                              0   \n",
       "2                                              0   \n",
       "3                                              0   \n",
       "4                                              0   \n",
       "\n",
       "   lavington lavington Lavington Dagoretti North  \\\n",
       "0                                              0   \n",
       "1                                              0   \n",
       "2                                              0   \n",
       "3                                              0   \n",
       "4                                              0   \n",
       "\n",
       "   mvuli road Rhapta Road Westlands  riverside Riverside Riverside Westlands  \n",
       "0                                 0                                        0  \n",
       "1                                 0                                        0  \n",
       "2                                 0                                        0  \n",
       "3                                 0                                        0  \n",
       "4                                 0                                        0  \n",
       "\n",
       "[5 rows x 151 columns]"
      ]
     },
     "execution_count": 88,
     "metadata": {},
     "output_type": "execute_result"
    }
   ],
   "source": [
    "df9=pd.concat([df8,dummies.drop('other',axis='columns')],axis=1)\n",
    "df9.head(5)"
   ]
  },
  {
   "cell_type": "code",
   "execution_count": 89,
   "metadata": {},
   "outputs": [
    {
     "data": {
      "text/html": [
       "<div>\n",
       "<style scoped>\n",
       "    .dataframe tbody tr th:only-of-type {\n",
       "        vertical-align: middle;\n",
       "    }\n",
       "\n",
       "    .dataframe tbody tr th {\n",
       "        vertical-align: top;\n",
       "    }\n",
       "\n",
       "    .dataframe thead th {\n",
       "        text-align: right;\n",
       "    }\n",
       "</style>\n",
       "<table border=\"1\" class=\"dataframe\">\n",
       "  <thead>\n",
       "    <tr style=\"text-align: right;\">\n",
       "      <th></th>\n",
       "      <th>Bedrooms</th>\n",
       "      <th>Bathrooms</th>\n",
       "      <th>sq_ft</th>\n",
       "      <th>Argwings Kodhek Kilimani Dagoretti North</th>\n",
       "      <th>Argwings Kodhek Rd Kilimani Dagoretti North</th>\n",
       "      <th>Argwings Kodhek Road Kilimani Dagoretti North</th>\n",
       "      <th>Brookside Brookside Westlands</th>\n",
       "      <th>Brookside Drive Brookside Westlands</th>\n",
       "      <th>Brookside Westlands</th>\n",
       "      <th>Brookside Westlands Area Westlands</th>\n",
       "      <th>...</th>\n",
       "      <th>Westlands Westlands Area Westlands</th>\n",
       "      <th>kiambu road kiambu road Kiambu Road Kiambu Road</th>\n",
       "      <th>kileleshwa Kileleshwa Kileleshwa Dagoretti North</th>\n",
       "      <th>kileleshwa kileleshwa Kileleshwa Dagoretti North</th>\n",
       "      <th>kilimani Kilimani Kilimani Dagoretti North</th>\n",
       "      <th>kilimani kilimani Kilimani Dagoretti North</th>\n",
       "      <th>lavington Lavington Lavington Dagoretti North</th>\n",
       "      <th>lavington lavington Lavington Dagoretti North</th>\n",
       "      <th>mvuli road Rhapta Road Westlands</th>\n",
       "      <th>riverside Riverside Riverside Westlands</th>\n",
       "    </tr>\n",
       "  </thead>\n",
       "  <tbody>\n",
       "    <tr>\n",
       "      <th>0</th>\n",
       "      <td>3</td>\n",
       "      <td>4</td>\n",
       "      <td>200</td>\n",
       "      <td>1</td>\n",
       "      <td>0</td>\n",
       "      <td>0</td>\n",
       "      <td>0</td>\n",
       "      <td>0</td>\n",
       "      <td>0</td>\n",
       "      <td>0</td>\n",
       "      <td>...</td>\n",
       "      <td>0</td>\n",
       "      <td>0</td>\n",
       "      <td>0</td>\n",
       "      <td>0</td>\n",
       "      <td>0</td>\n",
       "      <td>0</td>\n",
       "      <td>0</td>\n",
       "      <td>0</td>\n",
       "      <td>0</td>\n",
       "      <td>0</td>\n",
       "    </tr>\n",
       "    <tr>\n",
       "      <th>1</th>\n",
       "      <td>3</td>\n",
       "      <td>4</td>\n",
       "      <td>200</td>\n",
       "      <td>1</td>\n",
       "      <td>0</td>\n",
       "      <td>0</td>\n",
       "      <td>0</td>\n",
       "      <td>0</td>\n",
       "      <td>0</td>\n",
       "      <td>0</td>\n",
       "      <td>...</td>\n",
       "      <td>0</td>\n",
       "      <td>0</td>\n",
       "      <td>0</td>\n",
       "      <td>0</td>\n",
       "      <td>0</td>\n",
       "      <td>0</td>\n",
       "      <td>0</td>\n",
       "      <td>0</td>\n",
       "      <td>0</td>\n",
       "      <td>0</td>\n",
       "    </tr>\n",
       "    <tr>\n",
       "      <th>2</th>\n",
       "      <td>2</td>\n",
       "      <td>2</td>\n",
       "      <td>200</td>\n",
       "      <td>0</td>\n",
       "      <td>1</td>\n",
       "      <td>0</td>\n",
       "      <td>0</td>\n",
       "      <td>0</td>\n",
       "      <td>0</td>\n",
       "      <td>0</td>\n",
       "      <td>...</td>\n",
       "      <td>0</td>\n",
       "      <td>0</td>\n",
       "      <td>0</td>\n",
       "      <td>0</td>\n",
       "      <td>0</td>\n",
       "      <td>0</td>\n",
       "      <td>0</td>\n",
       "      <td>0</td>\n",
       "      <td>0</td>\n",
       "      <td>0</td>\n",
       "    </tr>\n",
       "    <tr>\n",
       "      <th>3</th>\n",
       "      <td>3</td>\n",
       "      <td>2</td>\n",
       "      <td>300</td>\n",
       "      <td>0</td>\n",
       "      <td>0</td>\n",
       "      <td>1</td>\n",
       "      <td>0</td>\n",
       "      <td>0</td>\n",
       "      <td>0</td>\n",
       "      <td>0</td>\n",
       "      <td>...</td>\n",
       "      <td>0</td>\n",
       "      <td>0</td>\n",
       "      <td>0</td>\n",
       "      <td>0</td>\n",
       "      <td>0</td>\n",
       "      <td>0</td>\n",
       "      <td>0</td>\n",
       "      <td>0</td>\n",
       "      <td>0</td>\n",
       "      <td>0</td>\n",
       "    </tr>\n",
       "  </tbody>\n",
       "</table>\n",
       "<p>4 rows × 147 columns</p>\n",
       "</div>"
      ],
      "text/plain": [
       "   Bedrooms  Bathrooms  sq_ft  Argwings Kodhek Kilimani Dagoretti North  \\\n",
       "0         3          4    200                                         1   \n",
       "1         3          4    200                                         1   \n",
       "2         2          2    200                                         0   \n",
       "3         3          2    300                                         0   \n",
       "\n",
       "   Argwings Kodhek Rd Kilimani Dagoretti North  \\\n",
       "0                                            0   \n",
       "1                                            0   \n",
       "2                                            1   \n",
       "3                                            0   \n",
       "\n",
       "   Argwings Kodhek Road Kilimani Dagoretti North  \\\n",
       "0                                              0   \n",
       "1                                              0   \n",
       "2                                              0   \n",
       "3                                              1   \n",
       "\n",
       "   Brookside Brookside Westlands  Brookside Drive Brookside Westlands  \\\n",
       "0                              0                                    0   \n",
       "1                              0                                    0   \n",
       "2                              0                                    0   \n",
       "3                              0                                    0   \n",
       "\n",
       "   Brookside Westlands  Brookside Westlands Area Westlands  ...  \\\n",
       "0                    0                                   0  ...   \n",
       "1                    0                                   0  ...   \n",
       "2                    0                                   0  ...   \n",
       "3                    0                                   0  ...   \n",
       "\n",
       "   Westlands Westlands Area Westlands  \\\n",
       "0                                   0   \n",
       "1                                   0   \n",
       "2                                   0   \n",
       "3                                   0   \n",
       "\n",
       "   kiambu road kiambu road Kiambu Road Kiambu Road  \\\n",
       "0                                                0   \n",
       "1                                                0   \n",
       "2                                                0   \n",
       "3                                                0   \n",
       "\n",
       "   kileleshwa Kileleshwa Kileleshwa Dagoretti North  \\\n",
       "0                                                 0   \n",
       "1                                                 0   \n",
       "2                                                 0   \n",
       "3                                                 0   \n",
       "\n",
       "   kileleshwa kileleshwa Kileleshwa Dagoretti North  \\\n",
       "0                                                 0   \n",
       "1                                                 0   \n",
       "2                                                 0   \n",
       "3                                                 0   \n",
       "\n",
       "   kilimani Kilimani Kilimani Dagoretti North  \\\n",
       "0                                           0   \n",
       "1                                           0   \n",
       "2                                           0   \n",
       "3                                           0   \n",
       "\n",
       "   kilimani kilimani Kilimani Dagoretti North  \\\n",
       "0                                           0   \n",
       "1                                           0   \n",
       "2                                           0   \n",
       "3                                           0   \n",
       "\n",
       "   lavington Lavington Lavington Dagoretti North  \\\n",
       "0                                              0   \n",
       "1                                              0   \n",
       "2                                              0   \n",
       "3                                              0   \n",
       "\n",
       "   lavington lavington Lavington Dagoretti North  \\\n",
       "0                                              0   \n",
       "1                                              0   \n",
       "2                                              0   \n",
       "3                                              0   \n",
       "\n",
       "   mvuli road Rhapta Road Westlands  riverside Riverside Riverside Westlands  \n",
       "0                                 0                                        0  \n",
       "1                                 0                                        0  \n",
       "2                                 0                                        0  \n",
       "3                                 0                                        0  \n",
       "\n",
       "[4 rows x 147 columns]"
      ]
     },
     "execution_count": 89,
     "metadata": {},
     "output_type": "execute_result"
    }
   ],
   "source": [
    "X=df9.drop(['Neighborhood','Price','sq_mtrs','price_per_sqft'],axis='columns')\n",
    "X.head(4)"
   ]
  },
  {
   "cell_type": "code",
   "execution_count": 90,
   "metadata": {},
   "outputs": [
    {
     "data": {
      "text/plain": [
       "0    150000.0\n",
       "1    165000.0\n",
       "2    150000.0\n",
       "Name: Price, dtype: float64"
      ]
     },
     "execution_count": 90,
     "metadata": {},
     "output_type": "execute_result"
    }
   ],
   "source": [
    "y=df9.Price\n",
    "y.head(3)"
   ]
  },
  {
   "cell_type": "code",
   "execution_count": 91,
   "metadata": {},
   "outputs": [
    {
     "data": {
      "text/plain": [
       "0.15"
      ]
     },
     "execution_count": 91,
     "metadata": {},
     "output_type": "execute_result"
    }
   ],
   "source": [
    "150000/1000000"
   ]
  },
  {
   "cell_type": "code",
   "execution_count": 92,
   "metadata": {},
   "outputs": [
    {
     "data": {
      "text/html": [
       "<div>\n",
       "<style scoped>\n",
       "    .dataframe tbody tr th:only-of-type {\n",
       "        vertical-align: middle;\n",
       "    }\n",
       "\n",
       "    .dataframe tbody tr th {\n",
       "        vertical-align: top;\n",
       "    }\n",
       "\n",
       "    .dataframe thead th {\n",
       "        text-align: right;\n",
       "    }\n",
       "</style>\n",
       "<table border=\"1\" class=\"dataframe\">\n",
       "  <thead>\n",
       "    <tr style=\"text-align: right;\">\n",
       "      <th></th>\n",
       "      <th>Bedrooms</th>\n",
       "      <th>Bathrooms</th>\n",
       "      <th>sq_ft</th>\n",
       "      <th>Argwings Kodhek Kilimani Dagoretti North</th>\n",
       "      <th>Argwings Kodhek Rd Kilimani Dagoretti North</th>\n",
       "      <th>Argwings Kodhek Road Kilimani Dagoretti North</th>\n",
       "      <th>Brookside Brookside Westlands</th>\n",
       "      <th>Brookside Drive Brookside Westlands</th>\n",
       "      <th>Brookside Westlands</th>\n",
       "      <th>Brookside Westlands Area Westlands</th>\n",
       "      <th>...</th>\n",
       "      <th>Westlands Westlands Area Westlands</th>\n",
       "      <th>kiambu road kiambu road Kiambu Road Kiambu Road</th>\n",
       "      <th>kileleshwa Kileleshwa Kileleshwa Dagoretti North</th>\n",
       "      <th>kileleshwa kileleshwa Kileleshwa Dagoretti North</th>\n",
       "      <th>kilimani Kilimani Kilimani Dagoretti North</th>\n",
       "      <th>kilimani kilimani Kilimani Dagoretti North</th>\n",
       "      <th>lavington Lavington Lavington Dagoretti North</th>\n",
       "      <th>lavington lavington Lavington Dagoretti North</th>\n",
       "      <th>mvuli road Rhapta Road Westlands</th>\n",
       "      <th>riverside Riverside Riverside Westlands</th>\n",
       "    </tr>\n",
       "  </thead>\n",
       "  <tbody>\n",
       "    <tr>\n",
       "      <th>0</th>\n",
       "      <td>3</td>\n",
       "      <td>4</td>\n",
       "      <td>200</td>\n",
       "      <td>1</td>\n",
       "      <td>0</td>\n",
       "      <td>0</td>\n",
       "      <td>0</td>\n",
       "      <td>0</td>\n",
       "      <td>0</td>\n",
       "      <td>0</td>\n",
       "      <td>...</td>\n",
       "      <td>0</td>\n",
       "      <td>0</td>\n",
       "      <td>0</td>\n",
       "      <td>0</td>\n",
       "      <td>0</td>\n",
       "      <td>0</td>\n",
       "      <td>0</td>\n",
       "      <td>0</td>\n",
       "      <td>0</td>\n",
       "      <td>0</td>\n",
       "    </tr>\n",
       "    <tr>\n",
       "      <th>1</th>\n",
       "      <td>3</td>\n",
       "      <td>4</td>\n",
       "      <td>200</td>\n",
       "      <td>1</td>\n",
       "      <td>0</td>\n",
       "      <td>0</td>\n",
       "      <td>0</td>\n",
       "      <td>0</td>\n",
       "      <td>0</td>\n",
       "      <td>0</td>\n",
       "      <td>...</td>\n",
       "      <td>0</td>\n",
       "      <td>0</td>\n",
       "      <td>0</td>\n",
       "      <td>0</td>\n",
       "      <td>0</td>\n",
       "      <td>0</td>\n",
       "      <td>0</td>\n",
       "      <td>0</td>\n",
       "      <td>0</td>\n",
       "      <td>0</td>\n",
       "    </tr>\n",
       "    <tr>\n",
       "      <th>2</th>\n",
       "      <td>2</td>\n",
       "      <td>2</td>\n",
       "      <td>200</td>\n",
       "      <td>0</td>\n",
       "      <td>1</td>\n",
       "      <td>0</td>\n",
       "      <td>0</td>\n",
       "      <td>0</td>\n",
       "      <td>0</td>\n",
       "      <td>0</td>\n",
       "      <td>...</td>\n",
       "      <td>0</td>\n",
       "      <td>0</td>\n",
       "      <td>0</td>\n",
       "      <td>0</td>\n",
       "      <td>0</td>\n",
       "      <td>0</td>\n",
       "      <td>0</td>\n",
       "      <td>0</td>\n",
       "      <td>0</td>\n",
       "      <td>0</td>\n",
       "    </tr>\n",
       "    <tr>\n",
       "      <th>3</th>\n",
       "      <td>3</td>\n",
       "      <td>2</td>\n",
       "      <td>300</td>\n",
       "      <td>0</td>\n",
       "      <td>0</td>\n",
       "      <td>1</td>\n",
       "      <td>0</td>\n",
       "      <td>0</td>\n",
       "      <td>0</td>\n",
       "      <td>0</td>\n",
       "      <td>...</td>\n",
       "      <td>0</td>\n",
       "      <td>0</td>\n",
       "      <td>0</td>\n",
       "      <td>0</td>\n",
       "      <td>0</td>\n",
       "      <td>0</td>\n",
       "      <td>0</td>\n",
       "      <td>0</td>\n",
       "      <td>0</td>\n",
       "      <td>0</td>\n",
       "    </tr>\n",
       "    <tr>\n",
       "      <th>4</th>\n",
       "      <td>3</td>\n",
       "      <td>2</td>\n",
       "      <td>300</td>\n",
       "      <td>0</td>\n",
       "      <td>0</td>\n",
       "      <td>1</td>\n",
       "      <td>0</td>\n",
       "      <td>0</td>\n",
       "      <td>0</td>\n",
       "      <td>0</td>\n",
       "      <td>...</td>\n",
       "      <td>0</td>\n",
       "      <td>0</td>\n",
       "      <td>0</td>\n",
       "      <td>0</td>\n",
       "      <td>0</td>\n",
       "      <td>0</td>\n",
       "      <td>0</td>\n",
       "      <td>0</td>\n",
       "      <td>0</td>\n",
       "      <td>0</td>\n",
       "    </tr>\n",
       "  </tbody>\n",
       "</table>\n",
       "<p>5 rows × 147 columns</p>\n",
       "</div>"
      ],
      "text/plain": [
       "   Bedrooms  Bathrooms  sq_ft  Argwings Kodhek Kilimani Dagoretti North  \\\n",
       "0         3          4    200                                         1   \n",
       "1         3          4    200                                         1   \n",
       "2         2          2    200                                         0   \n",
       "3         3          2    300                                         0   \n",
       "4         3          2    300                                         0   \n",
       "\n",
       "   Argwings Kodhek Rd Kilimani Dagoretti North  \\\n",
       "0                                            0   \n",
       "1                                            0   \n",
       "2                                            1   \n",
       "3                                            0   \n",
       "4                                            0   \n",
       "\n",
       "   Argwings Kodhek Road Kilimani Dagoretti North  \\\n",
       "0                                              0   \n",
       "1                                              0   \n",
       "2                                              0   \n",
       "3                                              1   \n",
       "4                                              1   \n",
       "\n",
       "   Brookside Brookside Westlands  Brookside Drive Brookside Westlands  \\\n",
       "0                              0                                    0   \n",
       "1                              0                                    0   \n",
       "2                              0                                    0   \n",
       "3                              0                                    0   \n",
       "4                              0                                    0   \n",
       "\n",
       "   Brookside Westlands  Brookside Westlands Area Westlands  ...  \\\n",
       "0                    0                                   0  ...   \n",
       "1                    0                                   0  ...   \n",
       "2                    0                                   0  ...   \n",
       "3                    0                                   0  ...   \n",
       "4                    0                                   0  ...   \n",
       "\n",
       "   Westlands Westlands Area Westlands  \\\n",
       "0                                   0   \n",
       "1                                   0   \n",
       "2                                   0   \n",
       "3                                   0   \n",
       "4                                   0   \n",
       "\n",
       "   kiambu road kiambu road Kiambu Road Kiambu Road  \\\n",
       "0                                                0   \n",
       "1                                                0   \n",
       "2                                                0   \n",
       "3                                                0   \n",
       "4                                                0   \n",
       "\n",
       "   kileleshwa Kileleshwa Kileleshwa Dagoretti North  \\\n",
       "0                                                 0   \n",
       "1                                                 0   \n",
       "2                                                 0   \n",
       "3                                                 0   \n",
       "4                                                 0   \n",
       "\n",
       "   kileleshwa kileleshwa Kileleshwa Dagoretti North  \\\n",
       "0                                                 0   \n",
       "1                                                 0   \n",
       "2                                                 0   \n",
       "3                                                 0   \n",
       "4                                                 0   \n",
       "\n",
       "   kilimani Kilimani Kilimani Dagoretti North  \\\n",
       "0                                           0   \n",
       "1                                           0   \n",
       "2                                           0   \n",
       "3                                           0   \n",
       "4                                           0   \n",
       "\n",
       "   kilimani kilimani Kilimani Dagoretti North  \\\n",
       "0                                           0   \n",
       "1                                           0   \n",
       "2                                           0   \n",
       "3                                           0   \n",
       "4                                           0   \n",
       "\n",
       "   lavington Lavington Lavington Dagoretti North  \\\n",
       "0                                              0   \n",
       "1                                              0   \n",
       "2                                              0   \n",
       "3                                              0   \n",
       "4                                              0   \n",
       "\n",
       "   lavington lavington Lavington Dagoretti North  \\\n",
       "0                                              0   \n",
       "1                                              0   \n",
       "2                                              0   \n",
       "3                                              0   \n",
       "4                                              0   \n",
       "\n",
       "   mvuli road Rhapta Road Westlands  riverside Riverside Riverside Westlands  \n",
       "0                                 0                                        0  \n",
       "1                                 0                                        0  \n",
       "2                                 0                                        0  \n",
       "3                                 0                                        0  \n",
       "4                                 0                                        0  \n",
       "\n",
       "[5 rows x 147 columns]"
      ]
     },
     "execution_count": 92,
     "metadata": {},
     "output_type": "execute_result"
    }
   ],
   "source": [
    "X.head()"
   ]
  },
  {
   "cell_type": "code",
   "execution_count": 93,
   "metadata": {},
   "outputs": [],
   "source": [
    "#next is spliting my dataset for training and testing"
   ]
  },
  {
   "cell_type": "code",
   "execution_count": 94,
   "metadata": {},
   "outputs": [],
   "source": [
    "from sklearn.model_selection import train_test_split\n",
    "X_train,X_test,y_train,y_test=train_test_split(X,y,test_size=0.2)"
   ]
  },
  {
   "cell_type": "code",
   "execution_count": 95,
   "metadata": {},
   "outputs": [
    {
     "data": {
      "text/plain": [
       "942"
      ]
     },
     "execution_count": 95,
     "metadata": {},
     "output_type": "execute_result"
    }
   ],
   "source": [
    "len(X_train)"
   ]
  },
  {
   "cell_type": "code",
   "execution_count": 96,
   "metadata": {},
   "outputs": [
    {
     "data": {
      "text/plain": [
       "236"
      ]
     },
     "execution_count": 96,
     "metadata": {},
     "output_type": "execute_result"
    }
   ],
   "source": [
    "len(X_test)"
   ]
  },
  {
   "cell_type": "code",
   "execution_count": 97,
   "metadata": {},
   "outputs": [
    {
     "data": {
      "text/plain": [
       "(942, 147)"
      ]
     },
     "execution_count": 97,
     "metadata": {},
     "output_type": "execute_result"
    }
   ],
   "source": [
    "X_train.shape"
   ]
  },
  {
   "cell_type": "code",
   "execution_count": 98,
   "metadata": {},
   "outputs": [
    {
     "data": {
      "text/html": [
       "<div>\n",
       "<style scoped>\n",
       "    .dataframe tbody tr th:only-of-type {\n",
       "        vertical-align: middle;\n",
       "    }\n",
       "\n",
       "    .dataframe tbody tr th {\n",
       "        vertical-align: top;\n",
       "    }\n",
       "\n",
       "    .dataframe thead th {\n",
       "        text-align: right;\n",
       "    }\n",
       "</style>\n",
       "<table border=\"1\" class=\"dataframe\">\n",
       "  <thead>\n",
       "    <tr style=\"text-align: right;\">\n",
       "      <th></th>\n",
       "      <th>Bedrooms</th>\n",
       "      <th>Bathrooms</th>\n",
       "      <th>sq_ft</th>\n",
       "      <th>Argwings Kodhek Kilimani Dagoretti North</th>\n",
       "      <th>Argwings Kodhek Rd Kilimani Dagoretti North</th>\n",
       "      <th>Argwings Kodhek Road Kilimani Dagoretti North</th>\n",
       "      <th>Brookside Brookside Westlands</th>\n",
       "      <th>Brookside Drive Brookside Westlands</th>\n",
       "      <th>Brookside Westlands</th>\n",
       "      <th>Brookside Westlands Area Westlands</th>\n",
       "      <th>...</th>\n",
       "      <th>Westlands Westlands Area Westlands</th>\n",
       "      <th>kiambu road kiambu road Kiambu Road Kiambu Road</th>\n",
       "      <th>kileleshwa Kileleshwa Kileleshwa Dagoretti North</th>\n",
       "      <th>kileleshwa kileleshwa Kileleshwa Dagoretti North</th>\n",
       "      <th>kilimani Kilimani Kilimani Dagoretti North</th>\n",
       "      <th>kilimani kilimani Kilimani Dagoretti North</th>\n",
       "      <th>lavington Lavington Lavington Dagoretti North</th>\n",
       "      <th>lavington lavington Lavington Dagoretti North</th>\n",
       "      <th>mvuli road Rhapta Road Westlands</th>\n",
       "      <th>riverside Riverside Riverside Westlands</th>\n",
       "    </tr>\n",
       "  </thead>\n",
       "  <tbody>\n",
       "    <tr>\n",
       "      <th>107</th>\n",
       "      <td>2</td>\n",
       "      <td>2</td>\n",
       "      <td>200</td>\n",
       "      <td>0</td>\n",
       "      <td>0</td>\n",
       "      <td>0</td>\n",
       "      <td>0</td>\n",
       "      <td>0</td>\n",
       "      <td>0</td>\n",
       "      <td>0</td>\n",
       "      <td>...</td>\n",
       "      <td>0</td>\n",
       "      <td>0</td>\n",
       "      <td>0</td>\n",
       "      <td>0</td>\n",
       "      <td>0</td>\n",
       "      <td>0</td>\n",
       "      <td>0</td>\n",
       "      <td>0</td>\n",
       "      <td>0</td>\n",
       "      <td>0</td>\n",
       "    </tr>\n",
       "    <tr>\n",
       "      <th>682</th>\n",
       "      <td>2</td>\n",
       "      <td>2</td>\n",
       "      <td>200</td>\n",
       "      <td>0</td>\n",
       "      <td>0</td>\n",
       "      <td>0</td>\n",
       "      <td>0</td>\n",
       "      <td>0</td>\n",
       "      <td>0</td>\n",
       "      <td>0</td>\n",
       "      <td>...</td>\n",
       "      <td>0</td>\n",
       "      <td>0</td>\n",
       "      <td>0</td>\n",
       "      <td>0</td>\n",
       "      <td>0</td>\n",
       "      <td>0</td>\n",
       "      <td>0</td>\n",
       "      <td>0</td>\n",
       "      <td>0</td>\n",
       "      <td>0</td>\n",
       "    </tr>\n",
       "  </tbody>\n",
       "</table>\n",
       "<p>2 rows × 147 columns</p>\n",
       "</div>"
      ],
      "text/plain": [
       "     Bedrooms  Bathrooms  sq_ft  Argwings Kodhek Kilimani Dagoretti North  \\\n",
       "107         2          2    200                                         0   \n",
       "682         2          2    200                                         0   \n",
       "\n",
       "     Argwings Kodhek Rd Kilimani Dagoretti North  \\\n",
       "107                                            0   \n",
       "682                                            0   \n",
       "\n",
       "     Argwings Kodhek Road Kilimani Dagoretti North  \\\n",
       "107                                              0   \n",
       "682                                              0   \n",
       "\n",
       "     Brookside Brookside Westlands  Brookside Drive Brookside Westlands  \\\n",
       "107                              0                                    0   \n",
       "682                              0                                    0   \n",
       "\n",
       "     Brookside Westlands  Brookside Westlands Area Westlands  ...  \\\n",
       "107                    0                                   0  ...   \n",
       "682                    0                                   0  ...   \n",
       "\n",
       "     Westlands Westlands Area Westlands  \\\n",
       "107                                   0   \n",
       "682                                   0   \n",
       "\n",
       "     kiambu road kiambu road Kiambu Road Kiambu Road  \\\n",
       "107                                                0   \n",
       "682                                                0   \n",
       "\n",
       "     kileleshwa Kileleshwa Kileleshwa Dagoretti North  \\\n",
       "107                                                 0   \n",
       "682                                                 0   \n",
       "\n",
       "     kileleshwa kileleshwa Kileleshwa Dagoretti North  \\\n",
       "107                                                 0   \n",
       "682                                                 0   \n",
       "\n",
       "     kilimani Kilimani Kilimani Dagoretti North  \\\n",
       "107                                           0   \n",
       "682                                           0   \n",
       "\n",
       "     kilimani kilimani Kilimani Dagoretti North  \\\n",
       "107                                           0   \n",
       "682                                           0   \n",
       "\n",
       "     lavington Lavington Lavington Dagoretti North  \\\n",
       "107                                              0   \n",
       "682                                              0   \n",
       "\n",
       "     lavington lavington Lavington Dagoretti North  \\\n",
       "107                                              0   \n",
       "682                                              0   \n",
       "\n",
       "     mvuli road Rhapta Road Westlands  riverside Riverside Riverside Westlands  \n",
       "107                                 0                                        0  \n",
       "682                                 0                                        0  \n",
       "\n",
       "[2 rows x 147 columns]"
      ]
     },
     "execution_count": 98,
     "metadata": {},
     "output_type": "execute_result"
    }
   ],
   "source": [
    "X_train.head(2)"
   ]
  },
  {
   "cell_type": "code",
   "execution_count": 99,
   "metadata": {},
   "outputs": [],
   "source": [
    "#using gridsearchcv to get me the best algorithm to create my model\n",
    "from sklearn.linear_model import LinearRegression\n",
    "from sklearn.linear_model import LogisticRegression\n",
    "from sklearn.linear_model import Lasso\n",
    "from sklearn.ensemble import RandomForestClassifier\n",
    "from sklearn.tree import DecisionTreeRegressor\n",
    "from sklearn.svm import SVC\n",
    "from sklearn.naive_bayes import GaussianNB\n",
    "\n",
    "from sklearn.model_selection import ShuffleSplit\n",
    "from sklearn.model_selection import GridSearchCV\n",
    "from sklearn.model_selection import cross_val_score"
   ]
  },
  {
   "cell_type": "code",
   "execution_count": 108,
   "metadata": {},
   "outputs": [],
   "source": [
    "cv=ShuffleSplit(n_splits=5,test_size=0.2,random_state=0)\n",
    "def find_best_model_using_gridsearchcv(X,y):\n",
    "    models={\n",
    "        'linear_regression':{\n",
    "            'model':LinearRegression(),\n",
    "            'params':{\n",
    "                'normalize':[True,False]\n",
    "            }\n",
    "        },\n",
    "        'lasso':{\n",
    "            'model':Lasso(),\n",
    "            'params':{\n",
    "                'alpha':[1,2],\n",
    "                'selection':['random','cyclic']\n",
    "            }\n",
    "        },\n",
    "        'decision_tree':{\n",
    "            'model':DecisionTreeRegressor(),\n",
    "            'params':{\n",
    "                'criterion':['mse','friedman_mse'],\n",
    "                'splitter':['best','random']\n",
    "            }\n",
    "        },\n",
    "        'svm':{\n",
    "            'model':SVC(),\n",
    "            'params':{\n",
    "                'C':[1,2,3],\n",
    "                'kernel':['linear','rbf']\n",
    "            }\n",
    "        },\n",
    "        'random_forest':{\n",
    "            'model':RandomForestClassifier(),\n",
    "            'params':{\n",
    "                \n",
    "            }\n",
    "        },\n",
    "        'logistic_regression':{\n",
    "            'model':LogisticRegression(),\n",
    "            'params':{}\n",
    "        }\n",
    "    }\n",
    "#this is what we call hyper parameter tunning\n",
    "\n",
    "    my_scores=[]\n",
    "    cv=ShuffleSplit(n_splits=5,test_size=0.2,random_state=0)\n",
    "    for model_name,config in models.items():\n",
    "        gs=GridSearchCV(config['model'],config['params'],cv=cv,return_train_score=False)\n",
    "        gs.fit(X,y)\n",
    "        my_scores.append({\n",
    "            'model':model_name,\n",
    "            'best_score':gs.best_score_,\n",
    "            'best_params':gs.best_params_\n",
    "        })\n",
    "    return pd.DataFrame(my_scores,columns=['model','best_score','best_params'])\n"
   ]
  },
  {
   "cell_type": "code",
   "execution_count": 6,
   "metadata": {},
   "outputs": [
    {
     "ename": "NameError",
     "evalue": "name 'X_train' is not defined",
     "output_type": "error",
     "traceback": [
      "\u001b[1;31m---------------------------------------------------------------------------\u001b[0m",
      "\u001b[1;31mNameError\u001b[0m                                 Traceback (most recent call last)",
      "\u001b[1;32m<ipython-input-6-fc086bb3a30f>\u001b[0m in \u001b[0;36m<module>\u001b[1;34m\u001b[0m\n\u001b[1;32m----> 1\u001b[1;33m \u001b[0mfind_best_model_using_gridsearchcv\u001b[0m\u001b[1;33m(\u001b[0m\u001b[0mX_train\u001b[0m\u001b[1;33m,\u001b[0m\u001b[0my_train\u001b[0m\u001b[1;33m)\u001b[0m\u001b[1;33m\u001b[0m\u001b[1;33m\u001b[0m\u001b[0m\n\u001b[0m",
      "\u001b[1;31mNameError\u001b[0m: name 'X_train' is not defined"
     ]
    }
   ],
   "source": [
    "find_best_model_using_gridsearchcv(X_train,y_train)"
   ]
  },
  {
   "cell_type": "code",
   "execution_count": 100,
   "metadata": {},
   "outputs": [
    {
     "data": {
      "text/plain": [
       "(942, 147)"
      ]
     },
     "execution_count": 100,
     "metadata": {},
     "output_type": "execute_result"
    }
   ],
   "source": [
    "X_train.shape"
   ]
  },
  {
   "cell_type": "code",
   "execution_count": 101,
   "metadata": {},
   "outputs": [
    {
     "name": "stderr",
     "output_type": "stream",
     "text": [
      "C:\\Users\\sojore\\anaconda3\\lib\\site-packages\\sklearn\\model_selection\\_split.py:670: UserWarning: The least populated class in y has only 1 members, which is less than n_splits=5.\n",
      "  warnings.warn((\"The least populated class in y has only %d\"\n"
     ]
    },
    {
     "data": {
      "text/plain": [
       "array([0.11640212, 0.0952381 , 0.11170213, 0.09574468, 0.11170213])"
      ]
     },
     "execution_count": 101,
     "metadata": {},
     "output_type": "execute_result"
    }
   ],
   "source": [
    "cross_val_score(SVC(),X_train,y_train)"
   ]
  },
  {
   "cell_type": "code",
   "execution_count": 102,
   "metadata": {},
   "outputs": [
    {
     "data": {
      "text/plain": [
       "array([0.53040377, 0.54751539, 0.57096234, 0.51272601, 0.56880965])"
      ]
     },
     "execution_count": 102,
     "metadata": {},
     "output_type": "execute_result"
    }
   ],
   "source": [
    "cross_val_score(Lasso(),X_train,y_train)"
   ]
  },
  {
   "cell_type": "code",
   "execution_count": 103,
   "metadata": {},
   "outputs": [
    {
     "data": {
      "text/plain": [
       "LinearRegression()"
      ]
     },
     "execution_count": 103,
     "metadata": {},
     "output_type": "execute_result"
    }
   ],
   "source": [
    "model=LinearRegression()\n",
    "model.fit(X_train,y_train)"
   ]
  },
  {
   "cell_type": "code",
   "execution_count": 104,
   "metadata": {},
   "outputs": [
    {
     "data": {
      "text/plain": [
       "0.5308957617664455"
      ]
     },
     "execution_count": 104,
     "metadata": {},
     "output_type": "execute_result"
    }
   ],
   "source": [
    "model.score(X_test,y_test)"
   ]
  },
  {
   "cell_type": "code",
   "execution_count": 105,
   "metadata": {},
   "outputs": [
    {
     "data": {
      "text/plain": [
       "array([ 58614.07746873, 129928.83588926,  96687.7223194 , 129928.83588926,\n",
       "        84080.37118994, 113855.56824791, 115932.2981828 , 115115.77237055,\n",
       "       122047.38692836,  88679.04316463])"
      ]
     },
     "execution_count": 105,
     "metadata": {},
     "output_type": "execute_result"
    }
   ],
   "source": [
    "#linear regression seems to be a better algorithm to create my model\n",
    "y_predicted=model.predict(X_test)\n",
    "y_predicted[:10]"
   ]
  },
  {
   "cell_type": "code",
   "execution_count": 106,
   "metadata": {},
   "outputs": [
    {
     "data": {
      "text/plain": [
       "93      45000.0\n",
       "872    130000.0\n",
       "860    120000.0\n",
       "824     80000.0\n",
       "640     90000.0\n",
       "411    120000.0\n",
       "472     80000.0\n",
       "30     125000.0\n",
       "192    150000.0\n",
       "303    115000.0\n",
       "Name: Price, dtype: float64"
      ]
     },
     "execution_count": 106,
     "metadata": {},
     "output_type": "execute_result"
    }
   ],
   "source": [
    "y_test[:10]"
   ]
  },
  {
   "cell_type": "code",
   "execution_count": 126,
   "metadata": {},
   "outputs": [
    {
     "data": {
      "text/plain": [
       "Index(['Bedrooms', 'Bathrooms', 'sq_ft',\n",
       "       'Argwings Kodhek Kilimani Dagoretti North',\n",
       "       'Argwings Kodhek Rd Kilimani Dagoretti North',\n",
       "       'Argwings Kodhek Road Kilimani Dagoretti North',\n",
       "       'Brookside Brookside Westlands', 'Brookside Drive Brookside Westlands',\n",
       "       'Brookside Westlands', 'Brookside Westlands Area Westlands',\n",
       "       ...\n",
       "       'Westlands Westlands Area Westlands',\n",
       "       'kiambu road kiambu road Kiambu Road Kiambu Road',\n",
       "       'kileleshwa Kileleshwa Kileleshwa Dagoretti North',\n",
       "       'kileleshwa kileleshwa Kileleshwa Dagoretti North',\n",
       "       'kilimani Kilimani Kilimani Dagoretti North',\n",
       "       'kilimani kilimani Kilimani Dagoretti North',\n",
       "       'lavington Lavington Lavington Dagoretti North',\n",
       "       'lavington lavington Lavington Dagoretti North',\n",
       "       'mvuli road Rhapta Road Westlands',\n",
       "       'riverside Riverside Riverside Westlands'],\n",
       "      dtype='object', length=147)"
      ]
     },
     "execution_count": 126,
     "metadata": {},
     "output_type": "execute_result"
    }
   ],
   "source": [
    "X_train.columns.unique()"
   ]
  },
  {
   "cell_type": "code",
   "execution_count": 110,
   "metadata": {},
   "outputs": [],
   "source": [
    "#next we code a prediction price function\n",
    "def predict_price(Neighborhood,bedrooms,bathrooms,sq_ft):\n",
    "    loc_index=np.where(X.columns==Neighborhood)[0][0]#this method helps locate the columns index\n",
    "    x=np.zeros(len(X.columns))\n",
    "    x[0]=bedrooms\n",
    "    x[1]=bathrooms\n",
    "    x[2]=sq_ft\n",
    "    if loc_index>=0:\n",
    "        x[loc_index]=1##here we are setting our particular index to be 1\n",
    "        \n",
    "    return model.predict([x])[0]"
   ]
  },
  {
   "cell_type": "code",
   "execution_count": 111,
   "metadata": {},
   "outputs": [
    {
     "data": {
      "text/plain": [
       "102168.38279666947"
      ]
     },
     "execution_count": 111,
     "metadata": {},
     "output_type": "execute_result"
    }
   ],
   "source": [
    "predict_price('riverside Riverside Riverside Westlands',2,4,200)"
   ]
  },
  {
   "cell_type": "code",
   "execution_count": 122,
   "metadata": {},
   "outputs": [
    {
     "data": {
      "text/plain": [
       "108996.53770645254"
      ]
     },
     "execution_count": 122,
     "metadata": {},
     "output_type": "execute_result"
    }
   ],
   "source": [
    "predict_price('Westlands Area Westlands',3,3,200)"
   ]
  },
  {
   "cell_type": "code",
   "execution_count": 132,
   "metadata": {},
   "outputs": [
    {
     "data": {
      "text/plain": [
       "216482.2271395977"
      ]
     },
     "execution_count": 132,
     "metadata": {},
     "output_type": "execute_result"
    }
   ],
   "source": [
    "predict_price('Argwings Kodhek Rd Kilimani Dagoretti North',4,4,400)"
   ]
  },
  {
   "cell_type": "code",
   "execution_count": 133,
   "metadata": {},
   "outputs": [],
   "source": [
    "#my model is predicting fair results\n",
    "#this comes down to insufficient knowhow on how the sq_mtrs column values were initially tabled"
   ]
  },
  {
   "cell_type": "code",
   "execution_count": 134,
   "metadata": {},
   "outputs": [],
   "source": [
    "#now im gonna save my model as a pickle file\n",
    "#save my columns as a json object\n",
    "import pickle\n",
    "with open('housing_prediction(neighborhoods).pickle','wb') as f:\n",
    "    pickle.dump(model,f)"
   ]
  },
  {
   "cell_type": "code",
   "execution_count": 135,
   "metadata": {},
   "outputs": [],
   "source": [
    "import json\n",
    "columns={\n",
    "    'data_columns':[col.lower() for col in X.columns]\n",
    "}\n",
    "with open('h_p_neighborhoods_columns.jason','w') as f:\n",
    "    f.write(json.dumps(columns))"
   ]
  },
  {
   "cell_type": "code",
   "execution_count": 136,
   "metadata": {},
   "outputs": [],
   "source": [
    "###Thankyou God"
   ]
  },
  {
   "cell_type": "code",
   "execution_count": null,
   "metadata": {},
   "outputs": [],
   "source": []
  }
 ],
 "metadata": {
  "kernelspec": {
   "display_name": "Python 3",
   "language": "python",
   "name": "python3"
  },
  "language_info": {
   "codemirror_mode": {
    "name": "ipython",
    "version": 3
   },
   "file_extension": ".py",
   "mimetype": "text/x-python",
   "name": "python",
   "nbconvert_exporter": "python",
   "pygments_lexer": "ipython3",
   "version": "3.8.5"
  }
 },
 "nbformat": 4,
 "nbformat_minor": 4
}
