{
 "cells": [
  {
   "cell_type": "code",
   "execution_count": 1,
   "metadata": {},
   "outputs": [],
   "source": [
    "#task..using advanced machine learning concepts to build a model which can do price prediction (location=India)\n",
    "#credits to kaggle for the dataset...link...https://www.kaggle.com/jassican/house-price-prediction-challenge-machine-hack"
   ]
  },
  {
   "cell_type": "code",
   "execution_count": 2,
   "metadata": {},
   "outputs": [],
   "source": [
    "#importing important libraries\n",
    "import pandas as pd\n",
    "import numpy as np\n",
    "import matplotlib\n",
    "import matplotlib.pyplot as plt\n",
    "matplotlib.rcParams['figure.figsize']=(20,10)"
   ]
  },
  {
   "cell_type": "code",
   "execution_count": 3,
   "metadata": {},
   "outputs": [
    {
     "data": {
      "text/plain": [
       "(68720, 11)"
      ]
     },
     "execution_count": 3,
     "metadata": {},
     "output_type": "execute_result"
    }
   ],
   "source": [
    "df=pd.read_csv('C://Users/sojore/Documents/project 4 t.b.d-challenge/Train.csv')\n",
    "test=pd.read_csv('C://Users/sojore/Documents/project 4 t.b.d-challenge/Test.csv')\n",
    "test.shape"
   ]
  },
  {
   "cell_type": "code",
   "execution_count": 4,
   "metadata": {},
   "outputs": [
    {
     "data": {
      "text/plain": [
       "(29451, 12)"
      ]
     },
     "execution_count": 4,
     "metadata": {},
     "output_type": "execute_result"
    }
   ],
   "source": [
    "df.shape"
   ]
  },
  {
   "cell_type": "code",
   "execution_count": 5,
   "metadata": {},
   "outputs": [
    {
     "data": {
      "text/plain": [
       "POSTED_BY\n",
       "Builder      622\n",
       "Dealer     18291\n",
       "Owner      10538\n",
       "Name: POSTED_BY, dtype: int64"
      ]
     },
     "execution_count": 5,
     "metadata": {},
     "output_type": "execute_result"
    }
   ],
   "source": [
    "#exploring the dataset\n",
    "df.groupby('POSTED_BY')['POSTED_BY'].agg('count')"
   ]
  },
  {
   "cell_type": "code",
   "execution_count": 6,
   "metadata": {},
   "outputs": [
    {
     "data": {
      "text/plain": [
       "array(['BHK', 'RK'], dtype=object)"
      ]
     },
     "execution_count": 6,
     "metadata": {},
     "output_type": "execute_result"
    }
   ],
   "source": [
    "df.BHK_OR_RK.unique()"
   ]
  },
  {
   "cell_type": "code",
   "execution_count": 7,
   "metadata": {},
   "outputs": [
    {
     "data": {
      "text/plain": [
       "(29451, 8)"
      ]
     },
     "execution_count": 7,
     "metadata": {},
     "output_type": "execute_result"
    }
   ],
   "source": [
    "#dropping some columns which wont contribute much into creating a better perfomimg price prediction model\n",
    "df1=df.drop(['POSTED_BY','BHK_OR_RK','LONGITUDE','LATITUDE'],axis='columns')\n",
    "df1.shape"
   ]
  },
  {
   "cell_type": "code",
   "execution_count": 8,
   "metadata": {},
   "outputs": [
    {
     "data": {
      "text/html": [
       "<div>\n",
       "<style scoped>\n",
       "    .dataframe tbody tr th:only-of-type {\n",
       "        vertical-align: middle;\n",
       "    }\n",
       "\n",
       "    .dataframe tbody tr th {\n",
       "        vertical-align: top;\n",
       "    }\n",
       "\n",
       "    .dataframe thead th {\n",
       "        text-align: right;\n",
       "    }\n",
       "</style>\n",
       "<table border=\"1\" class=\"dataframe\">\n",
       "  <thead>\n",
       "    <tr style=\"text-align: right;\">\n",
       "      <th></th>\n",
       "      <th>UNDER_CONSTRUCTION</th>\n",
       "      <th>RERA</th>\n",
       "      <th>BHK_NO.</th>\n",
       "      <th>SQUARE_FT</th>\n",
       "      <th>READY_TO_MOVE</th>\n",
       "      <th>RESALE</th>\n",
       "      <th>ADDRESS</th>\n",
       "      <th>TARGET(PRICE_IN_LACS)</th>\n",
       "    </tr>\n",
       "  </thead>\n",
       "  <tbody>\n",
       "    <tr>\n",
       "      <th>0</th>\n",
       "      <td>0</td>\n",
       "      <td>0</td>\n",
       "      <td>2</td>\n",
       "      <td>1300.236407</td>\n",
       "      <td>1</td>\n",
       "      <td>1</td>\n",
       "      <td>Ksfc Layout,Bangalore</td>\n",
       "      <td>55.0</td>\n",
       "    </tr>\n",
       "    <tr>\n",
       "      <th>1</th>\n",
       "      <td>0</td>\n",
       "      <td>0</td>\n",
       "      <td>2</td>\n",
       "      <td>1275.000000</td>\n",
       "      <td>1</td>\n",
       "      <td>1</td>\n",
       "      <td>Vishweshwara Nagar,Mysore</td>\n",
       "      <td>51.0</td>\n",
       "    </tr>\n",
       "    <tr>\n",
       "      <th>2</th>\n",
       "      <td>0</td>\n",
       "      <td>0</td>\n",
       "      <td>2</td>\n",
       "      <td>933.159722</td>\n",
       "      <td>1</td>\n",
       "      <td>1</td>\n",
       "      <td>Jigani,Bangalore</td>\n",
       "      <td>43.0</td>\n",
       "    </tr>\n",
       "    <tr>\n",
       "      <th>3</th>\n",
       "      <td>0</td>\n",
       "      <td>1</td>\n",
       "      <td>2</td>\n",
       "      <td>929.921143</td>\n",
       "      <td>1</td>\n",
       "      <td>1</td>\n",
       "      <td>Sector-1 Vaishali,Ghaziabad</td>\n",
       "      <td>62.5</td>\n",
       "    </tr>\n",
       "  </tbody>\n",
       "</table>\n",
       "</div>"
      ],
      "text/plain": [
       "   UNDER_CONSTRUCTION  RERA  BHK_NO.    SQUARE_FT  READY_TO_MOVE  RESALE  \\\n",
       "0                   0     0        2  1300.236407              1       1   \n",
       "1                   0     0        2  1275.000000              1       1   \n",
       "2                   0     0        2   933.159722              1       1   \n",
       "3                   0     1        2   929.921143              1       1   \n",
       "\n",
       "                       ADDRESS  TARGET(PRICE_IN_LACS)  \n",
       "0        Ksfc Layout,Bangalore                   55.0  \n",
       "1    Vishweshwara Nagar,Mysore                   51.0  \n",
       "2             Jigani,Bangalore                   43.0  \n",
       "3  Sector-1 Vaishali,Ghaziabad                   62.5  "
      ]
     },
     "execution_count": 8,
     "metadata": {},
     "output_type": "execute_result"
    }
   ],
   "source": [
    "df1.head(4)"
   ]
  },
  {
   "cell_type": "code",
   "execution_count": 9,
   "metadata": {},
   "outputs": [
    {
     "data": {
      "text/plain": [
       "UNDER_CONSTRUCTION       False\n",
       "RERA                     False\n",
       "BHK_NO.                  False\n",
       "SQUARE_FT                False\n",
       "READY_TO_MOVE            False\n",
       "RESALE                   False\n",
       "ADDRESS                  False\n",
       "TARGET(PRICE_IN_LACS)    False\n",
       "dtype: bool"
      ]
     },
     "execution_count": 9,
     "metadata": {},
     "output_type": "execute_result"
    }
   ],
   "source": [
    "#handling any missing values\n",
    "df1.isnull().any()"
   ]
  },
  {
   "cell_type": "code",
   "execution_count": 10,
   "metadata": {},
   "outputs": [
    {
     "data": {
      "text/html": [
       "<div>\n",
       "<style scoped>\n",
       "    .dataframe tbody tr th:only-of-type {\n",
       "        vertical-align: middle;\n",
       "    }\n",
       "\n",
       "    .dataframe tbody tr th {\n",
       "        vertical-align: top;\n",
       "    }\n",
       "\n",
       "    .dataframe thead th {\n",
       "        text-align: right;\n",
       "    }\n",
       "</style>\n",
       "<table border=\"1\" class=\"dataframe\">\n",
       "  <thead>\n",
       "    <tr style=\"text-align: right;\">\n",
       "      <th></th>\n",
       "      <th>UNDER_CONSTRUCTION</th>\n",
       "      <th>RERA</th>\n",
       "      <th>BHK_NO.</th>\n",
       "      <th>SQUARE_FT</th>\n",
       "      <th>READY_TO_MOVE</th>\n",
       "      <th>RESALE</th>\n",
       "      <th>TARGET(PRICE_IN_LACS)</th>\n",
       "    </tr>\n",
       "  </thead>\n",
       "  <tbody>\n",
       "    <tr>\n",
       "      <th>count</th>\n",
       "      <td>29451.000000</td>\n",
       "      <td>29451.000000</td>\n",
       "      <td>29451.000000</td>\n",
       "      <td>2.945100e+04</td>\n",
       "      <td>29451.000000</td>\n",
       "      <td>29451.000000</td>\n",
       "      <td>29451.000000</td>\n",
       "    </tr>\n",
       "    <tr>\n",
       "      <th>mean</th>\n",
       "      <td>0.179756</td>\n",
       "      <td>0.317918</td>\n",
       "      <td>2.392279</td>\n",
       "      <td>1.980217e+04</td>\n",
       "      <td>0.820244</td>\n",
       "      <td>0.929578</td>\n",
       "      <td>142.898746</td>\n",
       "    </tr>\n",
       "    <tr>\n",
       "      <th>std</th>\n",
       "      <td>0.383991</td>\n",
       "      <td>0.465675</td>\n",
       "      <td>0.879091</td>\n",
       "      <td>1.901335e+06</td>\n",
       "      <td>0.383991</td>\n",
       "      <td>0.255861</td>\n",
       "      <td>656.880713</td>\n",
       "    </tr>\n",
       "    <tr>\n",
       "      <th>min</th>\n",
       "      <td>0.000000</td>\n",
       "      <td>0.000000</td>\n",
       "      <td>1.000000</td>\n",
       "      <td>3.000000e+00</td>\n",
       "      <td>0.000000</td>\n",
       "      <td>0.000000</td>\n",
       "      <td>0.250000</td>\n",
       "    </tr>\n",
       "    <tr>\n",
       "      <th>25%</th>\n",
       "      <td>0.000000</td>\n",
       "      <td>0.000000</td>\n",
       "      <td>2.000000</td>\n",
       "      <td>9.000211e+02</td>\n",
       "      <td>1.000000</td>\n",
       "      <td>1.000000</td>\n",
       "      <td>38.000000</td>\n",
       "    </tr>\n",
       "    <tr>\n",
       "      <th>50%</th>\n",
       "      <td>0.000000</td>\n",
       "      <td>0.000000</td>\n",
       "      <td>2.000000</td>\n",
       "      <td>1.175057e+03</td>\n",
       "      <td>1.000000</td>\n",
       "      <td>1.000000</td>\n",
       "      <td>62.000000</td>\n",
       "    </tr>\n",
       "    <tr>\n",
       "      <th>75%</th>\n",
       "      <td>0.000000</td>\n",
       "      <td>1.000000</td>\n",
       "      <td>3.000000</td>\n",
       "      <td>1.550688e+03</td>\n",
       "      <td>1.000000</td>\n",
       "      <td>1.000000</td>\n",
       "      <td>100.000000</td>\n",
       "    </tr>\n",
       "    <tr>\n",
       "      <th>max</th>\n",
       "      <td>1.000000</td>\n",
       "      <td>1.000000</td>\n",
       "      <td>20.000000</td>\n",
       "      <td>2.545455e+08</td>\n",
       "      <td>1.000000</td>\n",
       "      <td>1.000000</td>\n",
       "      <td>30000.000000</td>\n",
       "    </tr>\n",
       "  </tbody>\n",
       "</table>\n",
       "</div>"
      ],
      "text/plain": [
       "       UNDER_CONSTRUCTION          RERA       BHK_NO.     SQUARE_FT  \\\n",
       "count        29451.000000  29451.000000  29451.000000  2.945100e+04   \n",
       "mean             0.179756      0.317918      2.392279  1.980217e+04   \n",
       "std              0.383991      0.465675      0.879091  1.901335e+06   \n",
       "min              0.000000      0.000000      1.000000  3.000000e+00   \n",
       "25%              0.000000      0.000000      2.000000  9.000211e+02   \n",
       "50%              0.000000      0.000000      2.000000  1.175057e+03   \n",
       "75%              0.000000      1.000000      3.000000  1.550688e+03   \n",
       "max              1.000000      1.000000     20.000000  2.545455e+08   \n",
       "\n",
       "       READY_TO_MOVE        RESALE  TARGET(PRICE_IN_LACS)  \n",
       "count   29451.000000  29451.000000           29451.000000  \n",
       "mean        0.820244      0.929578             142.898746  \n",
       "std         0.383991      0.255861             656.880713  \n",
       "min         0.000000      0.000000               0.250000  \n",
       "25%         1.000000      1.000000              38.000000  \n",
       "50%         1.000000      1.000000              62.000000  \n",
       "75%         1.000000      1.000000             100.000000  \n",
       "max         1.000000      1.000000           30000.000000  "
      ]
     },
     "execution_count": 10,
     "metadata": {},
     "output_type": "execute_result"
    }
   ],
   "source": [
    "#seems we dont have any missing values,next we explore each individual column\n",
    "df1.describe()"
   ]
  },
  {
   "cell_type": "code",
   "execution_count": 11,
   "metadata": {},
   "outputs": [
    {
     "data": {
      "text/plain": [
       "array(['Ksfc Layout,Bangalore', 'Vishweshwara Nagar,Mysore',\n",
       "       'Jigani,Bangalore', ..., 'west mambalam,Chennai',\n",
       "       'Gandhi Nagar,Gulbarga', 'E3-108, Lake View Recidency,,Vapi'],\n",
       "      dtype=object)"
      ]
     },
     "execution_count": 11,
     "metadata": {},
     "output_type": "execute_result"
    }
   ],
   "source": [
    "df1.ADDRESS.unique()"
   ]
  },
  {
   "cell_type": "code",
   "execution_count": 12,
   "metadata": {},
   "outputs": [
    {
     "data": {
      "text/plain": [
       "'E3-108 Lake View RecidencyVapi'"
      ]
     },
     "execution_count": 12,
     "metadata": {},
     "output_type": "execute_result"
    }
   ],
   "source": [
    "#converting address column into a single string with no commas separating the wording\n",
    "#so i will write the below function to do the conversion\n",
    "def convert_comma_to_string(x):\n",
    "    res=x.split(',')\n",
    "    y=len(res)\n",
    "    if y==6:\n",
    "        return res[0]+res[1]+res[2]+res[3]+res[4]+res[5]\n",
    "    elif y==5:\n",
    "        return res[0]+res[1]+res[2]+res[3]+res[4]\n",
    "    elif y==4:\n",
    "        return res[0]+res[1]+res[2]+res[3]\n",
    "    elif y==3:\n",
    "        return res[0]+res[1]+res[2]\n",
    "    elif y==2:\n",
    "        return res[0]+res[1]\n",
    "    elif y==1:\n",
    "        return res[0]\n",
    "    else:\n",
    "        return None\n",
    "        \n",
    "convert_comma_to_string('E3-108, Lake View Recidency,,Vapi')"
   ]
  },
  {
   "cell_type": "code",
   "execution_count": 13,
   "metadata": {},
   "outputs": [
    {
     "data": {
      "text/html": [
       "<div>\n",
       "<style scoped>\n",
       "    .dataframe tbody tr th:only-of-type {\n",
       "        vertical-align: middle;\n",
       "    }\n",
       "\n",
       "    .dataframe tbody tr th {\n",
       "        vertical-align: top;\n",
       "    }\n",
       "\n",
       "    .dataframe thead th {\n",
       "        text-align: right;\n",
       "    }\n",
       "</style>\n",
       "<table border=\"1\" class=\"dataframe\">\n",
       "  <thead>\n",
       "    <tr style=\"text-align: right;\">\n",
       "      <th></th>\n",
       "      <th>UNDER_CONSTRUCTION</th>\n",
       "      <th>RERA</th>\n",
       "      <th>BHK_NO.</th>\n",
       "      <th>SQUARE_FT</th>\n",
       "      <th>READY_TO_MOVE</th>\n",
       "      <th>RESALE</th>\n",
       "      <th>ADDRESS</th>\n",
       "      <th>TARGET(PRICE_IN_LACS)</th>\n",
       "    </tr>\n",
       "  </thead>\n",
       "  <tbody>\n",
       "    <tr>\n",
       "      <th>0</th>\n",
       "      <td>0</td>\n",
       "      <td>0</td>\n",
       "      <td>2</td>\n",
       "      <td>1300.236407</td>\n",
       "      <td>1</td>\n",
       "      <td>1</td>\n",
       "      <td>Ksfc LayoutBangalore</td>\n",
       "      <td>55.0</td>\n",
       "    </tr>\n",
       "    <tr>\n",
       "      <th>1</th>\n",
       "      <td>0</td>\n",
       "      <td>0</td>\n",
       "      <td>2</td>\n",
       "      <td>1275.000000</td>\n",
       "      <td>1</td>\n",
       "      <td>1</td>\n",
       "      <td>Vishweshwara NagarMysore</td>\n",
       "      <td>51.0</td>\n",
       "    </tr>\n",
       "    <tr>\n",
       "      <th>2</th>\n",
       "      <td>0</td>\n",
       "      <td>0</td>\n",
       "      <td>2</td>\n",
       "      <td>933.159722</td>\n",
       "      <td>1</td>\n",
       "      <td>1</td>\n",
       "      <td>JiganiBangalore</td>\n",
       "      <td>43.0</td>\n",
       "    </tr>\n",
       "    <tr>\n",
       "      <th>3</th>\n",
       "      <td>0</td>\n",
       "      <td>1</td>\n",
       "      <td>2</td>\n",
       "      <td>929.921143</td>\n",
       "      <td>1</td>\n",
       "      <td>1</td>\n",
       "      <td>Sector-1 VaishaliGhaziabad</td>\n",
       "      <td>62.5</td>\n",
       "    </tr>\n",
       "    <tr>\n",
       "      <th>4</th>\n",
       "      <td>1</td>\n",
       "      <td>0</td>\n",
       "      <td>2</td>\n",
       "      <td>999.009247</td>\n",
       "      <td>0</td>\n",
       "      <td>1</td>\n",
       "      <td>New TownKolkata</td>\n",
       "      <td>60.5</td>\n",
       "    </tr>\n",
       "  </tbody>\n",
       "</table>\n",
       "</div>"
      ],
      "text/plain": [
       "   UNDER_CONSTRUCTION  RERA  BHK_NO.    SQUARE_FT  READY_TO_MOVE  RESALE  \\\n",
       "0                   0     0        2  1300.236407              1       1   \n",
       "1                   0     0        2  1275.000000              1       1   \n",
       "2                   0     0        2   933.159722              1       1   \n",
       "3                   0     1        2   929.921143              1       1   \n",
       "4                   1     0        2   999.009247              0       1   \n",
       "\n",
       "                      ADDRESS  TARGET(PRICE_IN_LACS)  \n",
       "0        Ksfc LayoutBangalore                   55.0  \n",
       "1    Vishweshwara NagarMysore                   51.0  \n",
       "2             JiganiBangalore                   43.0  \n",
       "3  Sector-1 VaishaliGhaziabad                   62.5  \n",
       "4             New TownKolkata                   60.5  "
      ]
     },
     "execution_count": 13,
     "metadata": {},
     "output_type": "execute_result"
    }
   ],
   "source": [
    "#applying the function on the  address column\n",
    "df1.ADDRESS=df1.ADDRESS.apply(convert_comma_to_string)\n",
    "df1.head(5)"
   ]
  },
  {
   "cell_type": "code",
   "execution_count": 14,
   "metadata": {},
   "outputs": [
    {
     "data": {
      "text/plain": [
       "UNDER_CONSTRUCTION       0\n",
       "RERA                     0\n",
       "BHK_NO.                  0\n",
       "SQUARE_FT                0\n",
       "READY_TO_MOVE            0\n",
       "RESALE                   0\n",
       "ADDRESS                  0\n",
       "TARGET(PRICE_IN_LACS)    0\n",
       "dtype: int64"
      ]
     },
     "execution_count": 14,
     "metadata": {},
     "output_type": "execute_result"
    }
   ],
   "source": [
    "df1.isna().sum()"
   ]
  },
  {
   "cell_type": "code",
   "execution_count": 15,
   "metadata": {},
   "outputs": [
    {
     "data": {
      "text/html": [
       "<div>\n",
       "<style scoped>\n",
       "    .dataframe tbody tr th:only-of-type {\n",
       "        vertical-align: middle;\n",
       "    }\n",
       "\n",
       "    .dataframe tbody tr th {\n",
       "        vertical-align: top;\n",
       "    }\n",
       "\n",
       "    .dataframe thead th {\n",
       "        text-align: right;\n",
       "    }\n",
       "</style>\n",
       "<table border=\"1\" class=\"dataframe\">\n",
       "  <thead>\n",
       "    <tr style=\"text-align: right;\">\n",
       "      <th></th>\n",
       "      <th>UNDER_CONSTRUCTION</th>\n",
       "      <th>RERA</th>\n",
       "      <th>BHK_NO.</th>\n",
       "      <th>SQUARE_FT</th>\n",
       "      <th>READY_TO_MOVE</th>\n",
       "      <th>RESALE</th>\n",
       "      <th>ADDRESS</th>\n",
       "      <th>TARGET(PRICE_IN_LACS)</th>\n",
       "    </tr>\n",
       "  </thead>\n",
       "  <tbody>\n",
       "    <tr>\n",
       "      <th>4091</th>\n",
       "      <td>0</td>\n",
       "      <td>0</td>\n",
       "      <td>2</td>\n",
       "      <td>1243.108661</td>\n",
       "      <td>1</td>\n",
       "      <td>1</td>\n",
       "      <td>PallikaranaiChennai</td>\n",
       "      <td>69.9</td>\n",
       "    </tr>\n",
       "    <tr>\n",
       "      <th>2038</th>\n",
       "      <td>1</td>\n",
       "      <td>1</td>\n",
       "      <td>3</td>\n",
       "      <td>1104.823498</td>\n",
       "      <td>0</td>\n",
       "      <td>1</td>\n",
       "      <td>Mansarovar ExtensionJaipur</td>\n",
       "      <td>41.0</td>\n",
       "    </tr>\n",
       "  </tbody>\n",
       "</table>\n",
       "</div>"
      ],
      "text/plain": [
       "      UNDER_CONSTRUCTION  RERA  BHK_NO.    SQUARE_FT  READY_TO_MOVE  RESALE  \\\n",
       "4091                   0     0        2  1243.108661              1       1   \n",
       "2038                   1     1        3  1104.823498              0       1   \n",
       "\n",
       "                         ADDRESS  TARGET(PRICE_IN_LACS)  \n",
       "4091         PallikaranaiChennai                   69.9  \n",
       "2038  Mansarovar ExtensionJaipur                   41.0  "
      ]
     },
     "execution_count": 15,
     "metadata": {},
     "output_type": "execute_result"
    }
   ],
   "source": [
    "df2=df1.copy()\n",
    "df2.sample(2)"
   ]
  },
  {
   "cell_type": "code",
   "execution_count": 16,
   "metadata": {},
   "outputs": [
    {
     "data": {
      "text/plain": [
       "array([1300.236407 , 1275.       ,  933.1597222, ..., 1022.641509 ,\n",
       "        927.0790093,  896.7741935])"
      ]
     },
     "execution_count": 16,
     "metadata": {},
     "output_type": "execute_result"
    }
   ],
   "source": [
    "df2.SQUARE_FT.unique()"
   ]
  },
  {
   "cell_type": "code",
   "execution_count": 17,
   "metadata": {},
   "outputs": [
    {
     "data": {
      "text/html": [
       "<div>\n",
       "<style scoped>\n",
       "    .dataframe tbody tr th:only-of-type {\n",
       "        vertical-align: middle;\n",
       "    }\n",
       "\n",
       "    .dataframe tbody tr th {\n",
       "        vertical-align: top;\n",
       "    }\n",
       "\n",
       "    .dataframe thead th {\n",
       "        text-align: right;\n",
       "    }\n",
       "</style>\n",
       "<table border=\"1\" class=\"dataframe\">\n",
       "  <thead>\n",
       "    <tr style=\"text-align: right;\">\n",
       "      <th></th>\n",
       "      <th>UNDER_CONSTRUCTION</th>\n",
       "      <th>RERA</th>\n",
       "      <th>BHK_NO.</th>\n",
       "      <th>SQUARE_FT</th>\n",
       "      <th>READY_TO_MOVE</th>\n",
       "      <th>RESALE</th>\n",
       "      <th>ADDRESS</th>\n",
       "      <th>TARGET(PRICE_IN_LACS)</th>\n",
       "      <th>price_per_sqft</th>\n",
       "    </tr>\n",
       "  </thead>\n",
       "  <tbody>\n",
       "    <tr>\n",
       "      <th>0</th>\n",
       "      <td>0</td>\n",
       "      <td>0</td>\n",
       "      <td>2</td>\n",
       "      <td>1300.236407</td>\n",
       "      <td>1</td>\n",
       "      <td>1</td>\n",
       "      <td>Ksfc LayoutBangalore</td>\n",
       "      <td>55.0</td>\n",
       "      <td>4229.999999</td>\n",
       "    </tr>\n",
       "    <tr>\n",
       "      <th>1</th>\n",
       "      <td>0</td>\n",
       "      <td>0</td>\n",
       "      <td>2</td>\n",
       "      <td>1275.000000</td>\n",
       "      <td>1</td>\n",
       "      <td>1</td>\n",
       "      <td>Vishweshwara NagarMysore</td>\n",
       "      <td>51.0</td>\n",
       "      <td>4000.000000</td>\n",
       "    </tr>\n",
       "    <tr>\n",
       "      <th>2</th>\n",
       "      <td>0</td>\n",
       "      <td>0</td>\n",
       "      <td>2</td>\n",
       "      <td>933.159722</td>\n",
       "      <td>1</td>\n",
       "      <td>1</td>\n",
       "      <td>JiganiBangalore</td>\n",
       "      <td>43.0</td>\n",
       "      <td>4608.000000</td>\n",
       "    </tr>\n",
       "  </tbody>\n",
       "</table>\n",
       "</div>"
      ],
      "text/plain": [
       "   UNDER_CONSTRUCTION  RERA  BHK_NO.    SQUARE_FT  READY_TO_MOVE  RESALE  \\\n",
       "0                   0     0        2  1300.236407              1       1   \n",
       "1                   0     0        2  1275.000000              1       1   \n",
       "2                   0     0        2   933.159722              1       1   \n",
       "\n",
       "                    ADDRESS  TARGET(PRICE_IN_LACS)  price_per_sqft  \n",
       "0      Ksfc LayoutBangalore                   55.0     4229.999999  \n",
       "1  Vishweshwara NagarMysore                   51.0     4000.000000  \n",
       "2           JiganiBangalore                   43.0     4608.000000  "
      ]
     },
     "execution_count": 17,
     "metadata": {},
     "output_type": "execute_result"
    }
   ],
   "source": [
    "#creating a price_per_sqft column\n",
    "df2['price_per_sqft']=df2['TARGET(PRICE_IN_LACS)']*100000/df2['SQUARE_FT']\n",
    "df2.head(3)"
   ]
  },
  {
   "cell_type": "code",
   "execution_count": 18,
   "metadata": {},
   "outputs": [
    {
     "data": {
      "text/plain": [
       "ADDRESS\n",
       "ZirakpurChandigarh                               509\n",
       "WhitefieldBangalore                              230\n",
       "Raj Nagar ExtensionGhaziabad                     215\n",
       "Sector-137 NoidaNoida                            139\n",
       "New TownKolkata                                  131\n",
       "                                                ... \n",
       "Opp new Rahul hospitalNadiad                       1\n",
       "Opp reliance market near ram lila maidanSurat      1\n",
       "Opp. EVP Theme Park KuthumbakamChennai             1\n",
       "Opp. Philia Hospital Tembhode RdPalghar            1\n",
       " panvelMumbai                                      1\n",
       "Name: ADDRESS, Length: 6897, dtype: int64"
      ]
     },
     "execution_count": 18,
     "metadata": {},
     "output_type": "execute_result"
    }
   ],
   "source": [
    "df2.groupby('ADDRESS')['ADDRESS'].agg('count').sort_values(ascending=False)"
   ]
  },
  {
   "cell_type": "code",
   "execution_count": 19,
   "metadata": {},
   "outputs": [
    {
     "data": {
      "text/plain": [
       "ADDRESS\n",
       " panvelMumbai                                         1\n",
       "100 Feet RoadAnand                                    1\n",
       "101yamuna Complex Gokul Vihar Societynh-8 VapiVapi    1\n",
       "150 Feet Ring RoadRajkot                              2\n",
       "150 RING ROAD NEAR VRUNDAVAN RESTAURANTBhavnagar      1\n",
       "Name: ADDRESS, dtype: int64"
      ]
     },
     "execution_count": 19,
     "metadata": {},
     "output_type": "execute_result"
    }
   ],
   "source": [
    "#i will all columns with a count less than 10 to other\n",
    "location_stats=df2.groupby('ADDRESS')['ADDRESS'].agg('count')\n",
    "location_stats[location_stats<20].head()"
   ]
  },
  {
   "cell_type": "code",
   "execution_count": 20,
   "metadata": {},
   "outputs": [
    {
     "data": {
      "text/plain": [
       "6324"
      ]
     },
     "execution_count": 20,
     "metadata": {},
     "output_type": "execute_result"
    }
   ],
   "source": [
    "location_stats_less_than_or_equal_10=location_stats[location_stats<=10]\n",
    "len(location_stats_less_than_or_equal_10)"
   ]
  },
  {
   "cell_type": "code",
   "execution_count": 21,
   "metadata": {},
   "outputs": [
    {
     "data": {
      "text/html": [
       "<div>\n",
       "<style scoped>\n",
       "    .dataframe tbody tr th:only-of-type {\n",
       "        vertical-align: middle;\n",
       "    }\n",
       "\n",
       "    .dataframe tbody tr th {\n",
       "        vertical-align: top;\n",
       "    }\n",
       "\n",
       "    .dataframe thead th {\n",
       "        text-align: right;\n",
       "    }\n",
       "</style>\n",
       "<table border=\"1\" class=\"dataframe\">\n",
       "  <thead>\n",
       "    <tr style=\"text-align: right;\">\n",
       "      <th></th>\n",
       "      <th>UNDER_CONSTRUCTION</th>\n",
       "      <th>RERA</th>\n",
       "      <th>BHK_NO.</th>\n",
       "      <th>SQUARE_FT</th>\n",
       "      <th>READY_TO_MOVE</th>\n",
       "      <th>RESALE</th>\n",
       "      <th>ADDRESS</th>\n",
       "      <th>TARGET(PRICE_IN_LACS)</th>\n",
       "      <th>price_per_sqft</th>\n",
       "    </tr>\n",
       "  </thead>\n",
       "  <tbody>\n",
       "    <tr>\n",
       "      <th>25516</th>\n",
       "      <td>0</td>\n",
       "      <td>0</td>\n",
       "      <td>2</td>\n",
       "      <td>1030.065023</td>\n",
       "      <td>1</td>\n",
       "      <td>1</td>\n",
       "      <td>Malad (East)Maharashtra</td>\n",
       "      <td>160.0</td>\n",
       "      <td>15532.999998</td>\n",
       "    </tr>\n",
       "    <tr>\n",
       "      <th>22398</th>\n",
       "      <td>1</td>\n",
       "      <td>0</td>\n",
       "      <td>3</td>\n",
       "      <td>1325.000000</td>\n",
       "      <td>0</td>\n",
       "      <td>1</td>\n",
       "      <td>MangoJamshedpur</td>\n",
       "      <td>31.8</td>\n",
       "      <td>2400.000000</td>\n",
       "    </tr>\n",
       "    <tr>\n",
       "      <th>8333</th>\n",
       "      <td>0</td>\n",
       "      <td>0</td>\n",
       "      <td>2</td>\n",
       "      <td>1200.000000</td>\n",
       "      <td>1</td>\n",
       "      <td>1</td>\n",
       "      <td>other</td>\n",
       "      <td>60.0</td>\n",
       "      <td>5000.000000</td>\n",
       "    </tr>\n",
       "    <tr>\n",
       "      <th>3416</th>\n",
       "      <td>0</td>\n",
       "      <td>0</td>\n",
       "      <td>3</td>\n",
       "      <td>1735.015773</td>\n",
       "      <td>1</td>\n",
       "      <td>1</td>\n",
       "      <td>ZirakpurChandigarh</td>\n",
       "      <td>55.0</td>\n",
       "      <td>3170.000000</td>\n",
       "    </tr>\n",
       "  </tbody>\n",
       "</table>\n",
       "</div>"
      ],
      "text/plain": [
       "       UNDER_CONSTRUCTION  RERA  BHK_NO.    SQUARE_FT  READY_TO_MOVE  RESALE  \\\n",
       "25516                   0     0        2  1030.065023              1       1   \n",
       "22398                   1     0        3  1325.000000              0       1   \n",
       "8333                    0     0        2  1200.000000              1       1   \n",
       "3416                    0     0        3  1735.015773              1       1   \n",
       "\n",
       "                       ADDRESS  TARGET(PRICE_IN_LACS)  price_per_sqft  \n",
       "25516  Malad (East)Maharashtra                  160.0    15532.999998  \n",
       "22398          MangoJamshedpur                   31.8     2400.000000  \n",
       "8333                     other                   60.0     5000.000000  \n",
       "3416        ZirakpurChandigarh                   55.0     3170.000000  "
      ]
     },
     "execution_count": 21,
     "metadata": {},
     "output_type": "execute_result"
    }
   ],
   "source": [
    "df2.ADDRESS=df2.ADDRESS.apply(lambda x: 'other' if x in location_stats_less_than_or_equal_10 else x)\n",
    "df2.sample(4)"
   ]
  },
  {
   "cell_type": "code",
   "execution_count": 22,
   "metadata": {},
   "outputs": [
    {
     "data": {
      "text/plain": [
       "array([ 2,  3,  1,  4,  5,  6, 12,  8, 20, 10,  7,  9, 13, 17, 15, 11],\n",
       "      dtype=int64)"
      ]
     },
     "execution_count": 22,
     "metadata": {},
     "output_type": "execute_result"
    }
   ],
   "source": [
    "##handling outlier detection and removal\n",
    "df2['BHK_NO.'].unique()"
   ]
  },
  {
   "cell_type": "code",
   "execution_count": 23,
   "metadata": {},
   "outputs": [
    {
     "data": {
      "text/html": [
       "<div>\n",
       "<style scoped>\n",
       "    .dataframe tbody tr th:only-of-type {\n",
       "        vertical-align: middle;\n",
       "    }\n",
       "\n",
       "    .dataframe tbody tr th {\n",
       "        vertical-align: top;\n",
       "    }\n",
       "\n",
       "    .dataframe thead th {\n",
       "        text-align: right;\n",
       "    }\n",
       "</style>\n",
       "<table border=\"1\" class=\"dataframe\">\n",
       "  <thead>\n",
       "    <tr style=\"text-align: right;\">\n",
       "      <th></th>\n",
       "      <th>UNDER_CONSTRUCTION</th>\n",
       "      <th>RERA</th>\n",
       "      <th>BHK_NO.</th>\n",
       "      <th>SQUARE_FT</th>\n",
       "      <th>READY_TO_MOVE</th>\n",
       "      <th>RESALE</th>\n",
       "      <th>ADDRESS</th>\n",
       "      <th>TARGET(PRICE_IN_LACS)</th>\n",
       "      <th>price_per_sqft</th>\n",
       "    </tr>\n",
       "  </thead>\n",
       "  <tbody>\n",
       "    <tr>\n",
       "      <th>7</th>\n",
       "      <td>0</td>\n",
       "      <td>1</td>\n",
       "      <td>3</td>\n",
       "      <td>1181.012946</td>\n",
       "      <td>1</td>\n",
       "      <td>1</td>\n",
       "      <td>KhararMohali</td>\n",
       "      <td>52.0</td>\n",
       "      <td>4402.999999</td>\n",
       "    </tr>\n",
       "    <tr>\n",
       "      <th>25</th>\n",
       "      <td>0</td>\n",
       "      <td>0</td>\n",
       "      <td>2</td>\n",
       "      <td>780.141844</td>\n",
       "      <td>1</td>\n",
       "      <td>1</td>\n",
       "      <td>other</td>\n",
       "      <td>27.5</td>\n",
       "      <td>3525.000000</td>\n",
       "    </tr>\n",
       "    <tr>\n",
       "      <th>35</th>\n",
       "      <td>0</td>\n",
       "      <td>0</td>\n",
       "      <td>3</td>\n",
       "      <td>1174.210077</td>\n",
       "      <td>1</td>\n",
       "      <td>1</td>\n",
       "      <td>other</td>\n",
       "      <td>55.0</td>\n",
       "      <td>4683.999999</td>\n",
       "    </tr>\n",
       "    <tr>\n",
       "      <th>48</th>\n",
       "      <td>1</td>\n",
       "      <td>1</td>\n",
       "      <td>1</td>\n",
       "      <td>301.917116</td>\n",
       "      <td>0</td>\n",
       "      <td>0</td>\n",
       "      <td>TalojaLalitpur</td>\n",
       "      <td>26.3</td>\n",
       "      <td>8711.000000</td>\n",
       "    </tr>\n",
       "    <tr>\n",
       "      <th>60</th>\n",
       "      <td>0</td>\n",
       "      <td>0</td>\n",
       "      <td>3</td>\n",
       "      <td>1150.006900</td>\n",
       "      <td>1</td>\n",
       "      <td>1</td>\n",
       "      <td>Wadala EastLalitpur</td>\n",
       "      <td>250.0</td>\n",
       "      <td>21739.000001</td>\n",
       "    </tr>\n",
       "  </tbody>\n",
       "</table>\n",
       "</div>"
      ],
      "text/plain": [
       "    UNDER_CONSTRUCTION  RERA  BHK_NO.    SQUARE_FT  READY_TO_MOVE  RESALE  \\\n",
       "7                    0     1        3  1181.012946              1       1   \n",
       "25                   0     0        2   780.141844              1       1   \n",
       "35                   0     0        3  1174.210077              1       1   \n",
       "48                   1     1        1   301.917116              0       0   \n",
       "60                   0     0        3  1150.006900              1       1   \n",
       "\n",
       "                ADDRESS  TARGET(PRICE_IN_LACS)  price_per_sqft  \n",
       "7          KhararMohali                   52.0     4402.999999  \n",
       "25                other                   27.5     3525.000000  \n",
       "35                other                   55.0     4683.999999  \n",
       "48       TalojaLalitpur                   26.3     8711.000000  \n",
       "60  Wadala EastLalitpur                  250.0    21739.000001  "
      ]
     },
     "execution_count": 23,
     "metadata": {},
     "output_type": "execute_result"
    }
   ],
   "source": [
    "#seems we gat some homes with more than 10 bhks ,that seems an error to me\n",
    "df2[df2['SQUARE_FT']/df2['BHK_NO.']<400].head()"
   ]
  },
  {
   "cell_type": "code",
   "execution_count": 24,
   "metadata": {},
   "outputs": [
    {
     "data": {
      "text/plain": [
       "(25648, 9)"
      ]
     },
     "execution_count": 24,
     "metadata": {},
     "output_type": "execute_result"
    }
   ],
   "source": [
    "df3=df2[~(df2['SQUARE_FT']/df2['BHK_NO.']<400)]\n",
    "df3.shape"
   ]
  },
  {
   "cell_type": "code",
   "execution_count": 25,
   "metadata": {},
   "outputs": [
    {
     "data": {
      "text/plain": [
       "count     25648.000000\n",
       "mean       7062.112874\n",
       "std        7265.826410\n",
       "min           1.000000\n",
       "25%        3565.000000\n",
       "50%        5087.500001\n",
       "75%        7788.999999\n",
       "max      300000.000000\n",
       "Name: price_per_sqft, dtype: float64"
      ]
     },
     "execution_count": 25,
     "metadata": {},
     "output_type": "execute_result"
    }
   ],
   "source": [
    "df3.price_per_sqft.describe()"
   ]
  },
  {
   "cell_type": "code",
   "execution_count": 26,
   "metadata": {},
   "outputs": [],
   "source": [
    "def remove_price_per_sqft_outliers(df):\n",
    "    df_out=pd.DataFrame()\n",
    "    for key,subdf in df.groupby('ADDRESS'):\n",
    "        m=np.mean(subdf.price_per_sqft)\n",
    "        st=np.std(subdf.price_per_sqft)\n",
    "        reduced_df=subdf[(subdf.price_per_sqft>(m-st)) & (subdf.price_per_sqft<=(m+st))]\n",
    "        df_out=pd.concat([df_out,reduced_df],ignore_index=True)\n",
    "    return df_out"
   ]
  },
  {
   "cell_type": "code",
   "execution_count": 27,
   "metadata": {},
   "outputs": [
    {
     "data": {
      "text/plain": [
       "(20831, 9)"
      ]
     },
     "execution_count": 27,
     "metadata": {},
     "output_type": "execute_result"
    }
   ],
   "source": [
    "df4=remove_price_per_sqft_outliers(df3)\n",
    "df4.shape"
   ]
  },
  {
   "cell_type": "code",
   "execution_count": 28,
   "metadata": {},
   "outputs": [
    {
     "data": {
      "text/html": [
       "<div>\n",
       "<style scoped>\n",
       "    .dataframe tbody tr th:only-of-type {\n",
       "        vertical-align: middle;\n",
       "    }\n",
       "\n",
       "    .dataframe tbody tr th {\n",
       "        vertical-align: top;\n",
       "    }\n",
       "\n",
       "    .dataframe thead th {\n",
       "        text-align: right;\n",
       "    }\n",
       "</style>\n",
       "<table border=\"1\" class=\"dataframe\">\n",
       "  <thead>\n",
       "    <tr style=\"text-align: right;\">\n",
       "      <th></th>\n",
       "      <th>UNDER_CONSTRUCTION</th>\n",
       "      <th>RERA</th>\n",
       "      <th>BHK_NO.</th>\n",
       "      <th>SQUARE_FT</th>\n",
       "      <th>READY_TO_MOVE</th>\n",
       "      <th>RESALE</th>\n",
       "      <th>ADDRESS</th>\n",
       "      <th>TARGET(PRICE_IN_LACS)</th>\n",
       "      <th>price_per_sqft</th>\n",
       "    </tr>\n",
       "  </thead>\n",
       "  <tbody>\n",
       "    <tr>\n",
       "      <th>0</th>\n",
       "      <td>0</td>\n",
       "      <td>0</td>\n",
       "      <td>3</td>\n",
       "      <td>1282.568807</td>\n",
       "      <td>1</td>\n",
       "      <td>1</td>\n",
       "      <td>6th Phase JP NagarBangalore</td>\n",
       "      <td>69.9</td>\n",
       "      <td>5450.000001</td>\n",
       "    </tr>\n",
       "    <tr>\n",
       "      <th>1</th>\n",
       "      <td>0</td>\n",
       "      <td>0</td>\n",
       "      <td>2</td>\n",
       "      <td>1200.087279</td>\n",
       "      <td>1</td>\n",
       "      <td>1</td>\n",
       "      <td>6th Phase JP NagarBangalore</td>\n",
       "      <td>55.0</td>\n",
       "      <td>4583.000000</td>\n",
       "    </tr>\n",
       "  </tbody>\n",
       "</table>\n",
       "</div>"
      ],
      "text/plain": [
       "   UNDER_CONSTRUCTION  RERA  BHK_NO.    SQUARE_FT  READY_TO_MOVE  RESALE  \\\n",
       "0                   0     0        3  1282.568807              1       1   \n",
       "1                   0     0        2  1200.087279              1       1   \n",
       "\n",
       "                       ADDRESS  TARGET(PRICE_IN_LACS)  price_per_sqft  \n",
       "0  6th Phase JP NagarBangalore                   69.9     5450.000001  \n",
       "1  6th Phase JP NagarBangalore                   55.0     4583.000000  "
      ]
     },
     "execution_count": 28,
     "metadata": {},
     "output_type": "execute_result"
    }
   ],
   "source": [
    "df4.head(2)"
   ]
  },
  {
   "cell_type": "code",
   "execution_count": 29,
   "metadata": {},
   "outputs": [],
   "source": [
    "#defining another function for a scatter plot\n",
    "def plot_scatter_chart(df,ADDRESS):\n",
    "    bhk4=df[(df.ADDRESS==ADDRESS) & (df['BHK_NO.']==4)]\n",
    "    bhk5=df[(df.ADDRESS==ADDRESS) & (df['BHK_NO.']==5)]\n",
    "    matplotlib.rcParams['figure.figsize']=(20,10)\n",
    "    plt.scatter(bhk4.SQUARE_FT,bhk4['TARGET(PRICE_IN_LACS)'],color='orange',label='4 BHK',s=50)\n",
    "    plt.scatter(bhk5.SQUARE_FT,bhk5['TARGET(PRICE_IN_LACS)'],marker='+',color='green',label='5 BHK',s=50)\n",
    "    plt.xlabel('Square Feet Area')\n",
    "    plt.ylabel('Price Per Square Feet')\n",
    "    plt.title(ADDRESS)\n",
    "    plt.legend()"
   ]
  },
  {
   "cell_type": "code",
   "execution_count": 30,
   "metadata": {},
   "outputs": [
    {
     "data": {
      "text/plain": [
       "array(['6th Phase JP NagarBangalore', '7th Phase JP NagarBangalore',\n",
       "       '8th Phase JP NagarBangalore', 'Action Area IIKolkata',\n",
       "       'Action Area IKolkata', 'AdajanSurat', 'AdityapurJamshedpur',\n",
       "       'AerocityMohali', 'Ahinsa Khand 1Ghaziabad',\n",
       "       'Ahinsa Khand 2Ghaziabad', 'AirportKolkata', 'Ajmer RoadJaipur',\n",
       "       'AkotaVadodara', 'Akshaya NagarBangalore', 'AliporeKolkata',\n",
       "       'AlkapuriVadodara', 'AlthanSurat', 'Alwar Bhiwadi RoadBhiwadi',\n",
       "       'Alwar Bypass RoadBhiwadi', 'Amar Shaheed PathLucknow',\n",
       "       'AmbalipuraBangalore', 'AmbatturChennai', 'AmroliSurat',\n",
       "       'AmruthahalliBangalore', 'Ananth NagarBangalore',\n",
       "       'Andheri (East)Lalitpur', 'Andheri (East)Maharashtra',\n",
       "       'Andheri (East)Mumbai', 'Andheri (West)Lalitpur',\n",
       "       'Andheri (West)Maharashtra', 'Andheri (West)Mumbai',\n",
       "       'AnkleshwarBharuch', 'Ankur ViharGhaziabad', 'AtladraVadodara',\n",
       "       'AttibeleBangalore', 'AundhPune', 'AvadiChennai',\n",
       "       'BTM 2nd StageBangalore', 'Badlapur (East)Lalitpur',\n",
       "       'BaguihatiKolkata', 'BalagereBangalore', 'BalewadiPune',\n",
       "       'BalkumLalitpur', 'BalkumMaharashtra', 'BalkumMumbai',\n",
       "       'BallygungeKolkata', 'BanashankariBangalore', 'BanerPune',\n",
       "       'Bani ParkJaipur', 'Bannerghatta RoadBangalore',\n",
       "       'BannerghattaBangalore', 'BansdroniKolkata', 'BarasatKolkata',\n",
       "       'BariatuRanchi', 'BataNagarKolkata', 'BavdhanPune',\n",
       "       'Bawadia KalanBhopal', 'Begur RoadBangalore', 'BegurBangalore',\n",
       "       'Behala ChowrastaKolkata', 'BehalaKolkata', 'BellandurBangalore',\n",
       "       'BesaNagpur', 'Bevarly ParkLalitpur', 'Bhandup (West)Lalitpur',\n",
       "       'Bhandup (West)Maharashtra', 'Bhandup (West)Mumbai',\n",
       "       'BhayliVadodara', 'BhopuraGhaziabad', 'Bicholi MardanaIndore',\n",
       "       'BidhannagarDurgapur', 'BileshivaleBangalore',\n",
       "       'BillekahalliBangalore', 'Binny PeteBangalore', 'BoisarPalghar',\n",
       "       'BommanahalliBangalore', 'Borivali (East)Lalitpur',\n",
       "       'Borivali (West)Lalitpur', 'BrookefieldBangalore',\n",
       "       'Budigere CrossBangalore', 'BudigereBangalore',\n",
       "       'CV Raman NagarBangalore', 'CalanguteGoa', 'ChakanPune',\n",
       "       'ChandapuraBangalore', 'ChandivaliLalitpur',\n",
       "       'ChandivaliMaharashtra', 'ChandivaliMumbai',\n",
       "       'Chembur (East)Lalitpur', 'Chembur (East)Maharashtra',\n",
       "       'Chembur (East)Mumbai', 'ChemburLalitpur', 'ChemburMaharashtra',\n",
       "       'ChemburMumbai', 'ChhaleraNoida', 'ChikhaliPune',\n",
       "       'Chinar ParkKolkata', 'ChinchwadPune', 'ChitrakootJaipur',\n",
       "       'ChromepetChennai', 'City CenterGwalior',\n",
       "       'Crossing RepublikGhaziabad', 'Dahisar (East)Lalitpur',\n",
       "       'Dahisar (East)Mumbai', 'Dera BassiChandigarh',\n",
       "       'DevanahalliBangalore', 'DhanoriPune', 'DhayariPune',\n",
       "       'DhokaliLalitpur', 'DindoliSurat', 'DoddakallasandraBangalore',\n",
       "       'DoddakannelliBangalore', 'DoddathoguruBangalore',\n",
       "       'Dombivli (East)Lalitpur', 'Dombivli (East)Maharashtra',\n",
       "       'Dombivli (East)Mumbai', 'DronagiriLalitpur', 'Dum DumKolkata',\n",
       "       'E M BypassKolkata', 'EPIP ZoneBangalore', 'EdapallyKochi',\n",
       "       'Electronic City Phase IIBangalore', 'Electronic CityBangalore',\n",
       "       'Electronics City Phase 1Bangalore', 'Eon Free ZonePune',\n",
       "       'Faizabad RoadLucknow', 'GajuwakaVisakhapatnam',\n",
       "       'Gandhi PathJaipur', 'GariaKolkata', 'GhansoliLalitpur',\n",
       "       'Ghodbunder RoadLalitpur', 'Ghodbunder RoadMaharashtra',\n",
       "       'Ghodbunder RoadMumbai', 'Gomti Nagar ExtensionLucknow',\n",
       "       'Goregaon (East)Lalitpur', 'Goregaon (East)Maharashtra',\n",
       "       'Goregaon (East)Mumbai', 'Goregaon (West)Lalitpur',\n",
       "       'Goregaon (West)Maharashtra', 'Goregaon (West)Mumbai',\n",
       "       'Gotri RoadVadodara', 'GotriVadodara', 'GottigereBangalore',\n",
       "       'Govind PuramGhaziabad', 'GuduvancheriChennai', 'GunjurBangalore',\n",
       "       'HSR LayoutBangalore', 'HadapsarPune', 'Harlur RoadBangalore',\n",
       "       'HarlurBangalore', 'HarniVadodara', 'Hebbal KempapuraBangalore',\n",
       "       'HebbalBangalore', 'Hennur RoadBangalore', 'HinjewadiPune',\n",
       "       'Hiranandani EstateLalitpur', 'Hiranandani EstateMaharashtra',\n",
       "       'Hiranandani EstateMumbai', 'Hiranandani Gardens - PowaiLalitpur',\n",
       "       'HoodiBangalore', 'Horamavu AgaraBangalore', 'HoramavuBangalore',\n",
       "       'Hosa RoadBangalore', 'Hoshangabad RoadBhopal',\n",
       "       'Hosur RoadBangalore', 'HulimavuBangalore',\n",
       "       'Iblur VillageBangalore', 'IndirapuramGhaziabad',\n",
       "       'JP NagarBangalore', 'JadavpurKolkata', 'JagatpuraJaipur',\n",
       "       'JahangirabadSurat', 'JahangirpuraSurat', 'JakkurBangalore',\n",
       "       'JalahalliBangalore', 'JalukbariGuwahati',\n",
       "       'Jankipuram ExtensionLucknow', 'Jessore RoadKolkata',\n",
       "       'JhotwaraJaipur', 'JiganiBangalore', 'Jogeshwari (West)Lalitpur',\n",
       "       'JokaKolkata', 'JuhuLalitpur', 'JunwaniBhilai', 'JwalapurHaridwar',\n",
       "       'KR PuramBangalore', 'KadugodiBangalore', 'KaggadasapuraBangalore',\n",
       "       'KaikhaliKolkata', 'KakkanadKochi', 'Kalena AgraharaBangalore',\n",
       "       'KalikapurKolkata', 'KalinganagarBhubaneswar', 'KalolGandhinagar',\n",
       "       'KaloorKochi', 'Kalwar RoadJaipur', 'Kalyan (West)Lalitpur',\n",
       "       'Kalyan (West)Maharashtra', 'Kalyan (West)Mumbai',\n",
       "       'Kalyani NagarPune', 'KanakapuraBangalore',\n",
       "       'Kanakpura RoadBangalore', 'Kandivali (East)Lalitpur',\n",
       "       'Kandivali (East)Maharashtra', 'Kandivali (East)Mumbai',\n",
       "       'Kandivali (West)Lalitpur', 'Kanjur Marg (East)Lalitpur',\n",
       "       'Kanjur Marg (East)Maharashtra', 'Kanjur Marg (East)Mumbai',\n",
       "       'Kanjur marg (west)Maharashtra', 'KannamangalaBangalore',\n",
       "       'KaramsadAnand', 'KarapakkamChennai', 'Kareli BaghVadodara',\n",
       "       'Kasar vadavaliLalitpur', 'Kasar vadavaliMaharashtra',\n",
       "       'Kasar vadavaliMumbai', 'KasavanhalliBangalore', 'KasbaKolkata',\n",
       "       'Kaspate VastiPune', 'Katara HillsBhopal', 'KatargamSurat',\n",
       "       'KattupakkamChennai', 'KaushambiGhaziabad', 'KengeriBangalore',\n",
       "       'Keshav NagarPune', 'KestopurKolkata', 'KhandagiriBhubaneswar',\n",
       "       'Khar WestLalitpur', 'KharadiPune', 'KhararMohali',\n",
       "       'KhargharLalitpur', 'KhargharMaharashtra', 'KhargharMumbai',\n",
       "       'Kolar RoadBhopal', 'Kolshet RoadLalitpur',\n",
       "       'Kolshet RoadMaharashtra', 'Kolshet RoadMumbai',\n",
       "       'KompallySecunderabad', 'KonanakunteBangalore', 'KondhwaPune',\n",
       "       'KoramangalaBangalore', 'KoratturChennai', 'Koregaon ParkPune',\n",
       "       'KothrudPune', 'KovilambakkamChennai', 'KovurChennai',\n",
       "       'KudasanGandhinagar', 'KulshekarMangalore', 'KundliSonipat',\n",
       "       'Lal KuanGhaziabad', 'Laxmi NagarLalitpur', 'LohegaonPune',\n",
       "       'MadambakkamChennai', 'Madhuban BapudhamGhaziabad',\n",
       "       'MadhurawadaVisakhapatnam', 'MadhyamgramKolkata',\n",
       "       'MadurdahaKolkata', 'MagarpattaPune', 'MahadevpuraBangalore',\n",
       "       'Mahalakshmi NagarIndore', 'MahalungePune', 'MaheshtalaKolkata',\n",
       "       'MahimPalghar', 'MajiwadaLalitpur', 'MajiwadaMaharashtra',\n",
       "       'MajiwadaMumbai', 'MakarpuraVadodara', 'Malad (East)Lalitpur',\n",
       "       'Malad (East)Maharashtra', 'Malad (East)Mumbai',\n",
       "       'Malad (West)Lalitpur', 'Malad (West)Maharashtra',\n",
       "       'Malad (West)Mumbai', 'MalleshwaramBangalore',\n",
       "       'Malviya NagarJaipur', 'ManapakkamChennai', 'ManewadaNagpur',\n",
       "       'MangoJamshedpur', 'Manish NagarNagpur', 'ManjalpurVadodara',\n",
       "       'ManpadaLalitpur', 'ManpadaMaharashtra', 'ManpadaMumbai',\n",
       "       'Mansarovar ExtensionJaipur', 'MansarovarJaipur',\n",
       "       'Maraimalai NagarChennai', 'MarathahalliBangalore',\n",
       "       'Marine DriveKochi', 'MarolLalitpur', 'MarolMumbai',\n",
       "       'MedavakkamChennai', 'MihanNagpur', 'Milakpur GoojarBhiwadi',\n",
       "       'Mira Road EastLalitpur', 'Mira Road EastMaharashtra',\n",
       "       'Mira Road EastMumbai', 'Mira RoadLalitpur',\n",
       "       'Mira RoadMaharashtra', 'Mira RoadMumbai', 'MohamadwadiPune',\n",
       "       'MorabadiRanchi', 'MoshiPune', 'MukundapurKolkata',\n",
       "       'MullanpurChandigarh', 'Mulund (West)Lalitpur',\n",
       "       'Mulund (West)Maharashtra', 'Mulund (West)Mumbai',\n",
       "       'MurlipuraJaipur', 'Mussoorie RoadDehradun',\n",
       "       'Mysore RoadBangalore', 'NH-24 HighwayGhaziabad', 'NH-8Dharuhera',\n",
       "       'NH-8Neemrana', 'NIBMPune', 'NagarbhaviBangalore',\n",
       "       'Nalasopara (West)Mumbai', 'NarayanapuraBangalore',\n",
       "       'NarendrapurKolkata', 'NarhePune', 'NayabadKolkata',\n",
       "       'New AliporeKolkata', 'New ChandigarhChandigarh',\n",
       "       'New PanvelLalitpur', 'New PanvelMumbai', 'New TownKolkata',\n",
       "       'NipaniaIndore', 'Nirman NagarJaipur', 'Niwaru RoadJaipur',\n",
       "       'Noida ExtensionNoida', 'Old Madras RoadBangalore',\n",
       "       'OragadamChennai', 'PALSurat', 'PadurChennai',\n",
       "       'Pakhowal RoadLudhiana', 'PalanpurSurat', 'PallavaramChennai',\n",
       "       'PallikaranaiChennai', 'PammalChennai', 'PanathurBangalore',\n",
       "       'PanvelLalitpur', 'PanvelMaharashtra', 'PanvelMumbai',\n",
       "       'ParelLalitpur', 'PashanPune', 'PatiaBhubaneswar',\n",
       "       'Peer MuchallaPanchkula', 'PerumbakkamChennai',\n",
       "       'PholriwalJalandhar', 'Picnic GardenKolkata', 'Pimple NilakhPune',\n",
       "       'Pimple SaudagarPune', 'PisoliPune', 'Pokhran-2Lalitpur',\n",
       "       'Pokhran-2Maharashtra', 'Pokhran-2Mumbai', 'PoonamalleeChennai',\n",
       "       'PorurChennai', 'PorvorimGoa', 'PotheriChennai', 'PowaiLalitpur',\n",
       "       'PowaiMaharashtra', 'PowaiMumbai', 'Pratap NagarJaipur',\n",
       "       'Prince Anwar Shah Rd.Kolkata', 'PunawalePune',\n",
       "       'RachenahalliBangalore', 'RahataniPune',\n",
       "       'Raj Nagar ExtensionGhaziabad', 'Rajaji NagarBangalore',\n",
       "       'Rajarajeshwari NagarBangalore', 'RajarhatKolkata',\n",
       "       'RajpurKolkata', 'RamagondanahalliBangalore',\n",
       "       'Ramamurthy NagarBangalore', 'Ramprastha GreensGhaziabad',\n",
       "       'RavetPune', 'RayasandraBangalore', 'RoadpaliLalitpur',\n",
       "       'RoadpaliMumbai', 'Sahakara NagarBangalore', 'SahibabadGhaziabad',\n",
       "       'Sakher BazarKolkata', 'Salt LakeKolkata',\n",
       "       'Sama Savli RoadVadodara', 'SargasanGandhinagar',\n",
       "       'Sarjapur RoadBangalore', 'SarjapurBangalore', 'Sas NagarMohali',\n",
       "       'SayajipuraVadodara', 'Sector 10 KhargharLalitpur',\n",
       "       'Sector 12 KhargharLalitpur', 'Sector 17 UlweMaharashtra',\n",
       "       'Sector 17 UlweMumbai', 'Sector 19 KhargharLalitpur',\n",
       "       'Sector 20 KhargharLalitpur', 'Sector 35I KhargharLalitpur',\n",
       "       'Sector 5 UlweLalitpur', 'Sector 70 FaridabadFaridabad',\n",
       "       'Sector 75 FaridabadFaridabad', 'Sector 77 FaridabadFaridabad',\n",
       "       'Sector 78 FaridabadFaridabad', 'Sector 8 SonipatSonipat',\n",
       "       'Sector 80 FaridabadFaridabad', 'Sector 81 FaridabadFaridabad',\n",
       "       'Sector 82 FaridabadFaridabad', 'Sector 84 FaridabadFaridabad',\n",
       "       'Sector 85 FaridabadFaridabad', 'Sector 86 FaridabadFaridabad',\n",
       "       'Sector 88 FaridabadFaridabad', 'Sector 89 FaridabadFaridabad',\n",
       "       'Sector-1 VaishaliGhaziabad', 'Sector-100 NoidaNoida',\n",
       "       'Sector-102 GurgaonGurgaon', 'Sector-104 GurgaonGurgaon',\n",
       "       'Sector-104 NoidaNoida', 'Sector-105 MohaliMohali',\n",
       "       'Sector-106 GurgaonGurgaon', 'Sector-107 NoidaNoida',\n",
       "       'Sector-108 NoidaNoida', 'Sector-109 GurgaonGurgaon',\n",
       "       'Sector-110 NoidaNoida', 'Sector-115 MohaliMohali',\n",
       "       'Sector-117 MohaliMohali', 'Sector-118 NoidaNoida',\n",
       "       'Sector-119 NoidaNoida', 'Sector-120 NoidaNoida',\n",
       "       'Sector-121 MohaliMohali', 'Sector-125 MohaliMohali',\n",
       "       'Sector-126 MohaliMohali', 'Sector-127 MohaliMohali',\n",
       "       'Sector-128 NoidaNoida', 'Sector-129 NoidaNoida',\n",
       "       'Sector-134 NoidaNoida', 'Sector-137 NoidaNoida',\n",
       "       'Sector-143 NoidaNoida', 'Sector-15 BahadurgarhBahadurgarh',\n",
       "       'Sector-150 NoidaNoida', 'Sector-151 NoidaNoida',\n",
       "       'Sector-152 NoidaNoida', 'Sector-168 NoidaNoida',\n",
       "       'Sector-18 UlweMumbai', 'Sector-20 PanchkulaPanchkula',\n",
       "       'Sector-24 DharuheraDharuhera', 'Sector-3 VaishaliGhaziabad',\n",
       "       'Sector-34 NoidaNoida', 'Sector-35D KhargharLalitpur',\n",
       "       'Sector-35G KhargharLalitpur', 'Sector-35G KhargharMaharashtra',\n",
       "       'Sector-35G KhargharMumbai', 'Sector-4 VaishaliGhaziabad',\n",
       "       'Sector-44 NoidaNoida', 'Sector-45 NoidaNoida',\n",
       "       'Sector-49 ChandigarhChandigarh', 'Sector-49 NoidaNoida',\n",
       "       'Sector-5 VaishaliGhaziabad', 'Sector-50 NoidaNoida',\n",
       "       'Sector-54 GurgaonGurgaon', 'Sector-61 NoidaNoida',\n",
       "       'Sector-62 NoidaNoida', 'Sector-65 GurgaonGurgaon',\n",
       "       'Sector-65 MohaliMohali', 'Sector-66 GurgaonGurgaon',\n",
       "       'Sector-66A MohaliMohali', 'Sector-66b MohaliMohali',\n",
       "       'Sector-67 GurgaonGurgaon', 'Sector-70 GurgaonGurgaon',\n",
       "       'Sector-70 MohaliMohali', 'Sector-70 NoidaNoida',\n",
       "       'Sector-73 NoidaNoida', 'Sector-74 NoidaNoida',\n",
       "       'Sector-75 NoidaNoida', 'Sector-76 NoidaNoida',\n",
       "       'Sector-77 NoidaNoida', 'Sector-78 NoidaNoida',\n",
       "       'Sector-79 GurgaonGurgaon', 'Sector-79 NoidaNoida',\n",
       "       'Sector-81 GurgaonGurgaon', 'Sector-82 MohaliMohali',\n",
       "       'Sector-82 NoidaNoida', 'Sector-84 GurgaonGurgaon',\n",
       "       'Sector-85 MohaliMohali', 'Sector-88 MohaliMohali',\n",
       "       'Sector-9 UlweLalitpur', 'Sector-9 UlweMaharashtra',\n",
       "       'Sector-91 MohaliMohali', 'Sector-93 A NoidaNoida',\n",
       "       'Sector-93 B NoidaNoida', 'Sector-93 NoidaNoida',\n",
       "       'Sevoke RoadSiliguri', 'Shalimar gardenGhaziabad',\n",
       "       'Shankar Kalat NagarPune', 'ShastripuramAgra',\n",
       "       'SholinganallurChennai', 'Siddhartha ViharGhaziabad',\n",
       "       'SikandraAgra', 'Sikar RoadJaipur', 'Sinhgad RoadPune',\n",
       "       'Sirsi RoadJaipur', 'SodepurKolkata', 'SohnaGurgaon',\n",
       "       'SubhanpuraVadodara', 'SundarpadaBhubaneswar',\n",
       "       'Sunny EnclaveMohali', 'Suraj KundFaridabad',\n",
       "       'Suraksha NagarBangalore', 'SusPune', 'Sushant Golf CityLucknow',\n",
       "       'Talawali ChandaIndore', 'Taloja PanchanandLalitpur',\n",
       "       'Taloja PanchanandMumbai', 'TalojaLalitpur', 'TalojaMaharashtra',\n",
       "       'TalojaMumbai', 'TapukaraBhiwadi', 'TarsaliVadodara',\n",
       "       'TathawadePune', 'Thakur VillageLalitpur', 'Thakur VillageMumbai',\n",
       "       'ThakurpukurKolkata', 'Thane WestLalitpur',\n",
       "       'Thane WestMaharashtra', 'Thane WestMumbai',\n",
       "       'ThanisandraBangalore', 'TharaBhiwadi', 'ThoraipakkamChennai',\n",
       "       'ThubarahalliBangalore', 'Tilak NagarLalitpur',\n",
       "       'Tilak NagarMaharashtra', 'Tilak NagarMumbai', 'TollygungeKolkata',\n",
       "       'Tonk RoadJaipur', 'Tumkur RoadBangalore', 'UlweLalitpur',\n",
       "       'UlweMumbai', 'UndriPune', 'UttarahalliBangalore',\n",
       "       'VadavalliCoimbatore', 'Vaibhav KhandGhaziabad',\n",
       "       'Vaishali NagarJaipur', 'ValasaravakkamChennai',\n",
       "       'VarthurBangalore', 'Vasna-Bhayli-RoadVadodara', 'VemaliVadodara',\n",
       "       'VesuSurat', 'Vijay NagarIndore', 'Virar WestLalitpur',\n",
       "       'Virar WestMumbai', 'Vrindavan YojnaLucknow',\n",
       "       'Wadala EastLalitpur', 'Wadala EastMaharashtra',\n",
       "       'Wadala EastMumbai', 'WadalaLalitpur', 'WadalaMaharashtra',\n",
       "       'WadalaMumbai', 'Waghodia RoadVadodara', 'WagholiPune',\n",
       "       'WakadPune', 'WanowriePune', 'WhitefieldBangalore',\n",
       "       'WorliLalitpur', 'WorliMaharashtra', 'WorliMumbai',\n",
       "       'YelahankaBangalore', 'YemlurBangalore', 'YeshwanthpurBangalore',\n",
       "       'Zingabai TakliNagpur', 'ZirakpurChandigarh', 'ZirakpurMohali',\n",
       "       'kavesarLalitpur', 'kavesarMumbai', 'other',\n",
       "       'sector-121 NoidaNoida'], dtype=object)"
      ]
     },
     "execution_count": 30,
     "metadata": {},
     "output_type": "execute_result"
    }
   ],
   "source": [
    "df4.ADDRESS.unique()"
   ]
  },
  {
   "cell_type": "code",
   "execution_count": 31,
   "metadata": {},
   "outputs": [
    {
     "data": {
      "image/png": "[encoded data removed]",
      "text/plain": [
       "<Figure size 1440x720 with 1 Axes>"
      ]
     },
     "metadata": {
      "needs_background": "light"
     },
     "output_type": "display_data"
    }
   ],
   "source": [
    "plot_scatter_chart(df4,'VesuSurat')"
   ]
  },
  {
   "cell_type": "code",
   "execution_count": 32,
   "metadata": {},
   "outputs": [
    {
     "data": {
      "image/png": "[encoded data removed]",
      "text/plain": [
       "<Figure size 1440x720 with 1 Axes>"
      ]
     },
     "metadata": {
      "needs_background": "light"
     },
     "output_type": "display_data"
    }
   ],
   "source": [
    "plot_scatter_chart(df4,'WhitefieldBangalore')"
   ]
  },
  {
   "cell_type": "code",
   "execution_count": 33,
   "metadata": {},
   "outputs": [
    {
     "data": {
      "text/html": [
       "<div>\n",
       "<style scoped>\n",
       "    .dataframe tbody tr th:only-of-type {\n",
       "        vertical-align: middle;\n",
       "    }\n",
       "\n",
       "    .dataframe tbody tr th {\n",
       "        vertical-align: top;\n",
       "    }\n",
       "\n",
       "    .dataframe thead th {\n",
       "        text-align: right;\n",
       "    }\n",
       "</style>\n",
       "<table border=\"1\" class=\"dataframe\">\n",
       "  <thead>\n",
       "    <tr style=\"text-align: right;\">\n",
       "      <th></th>\n",
       "      <th>UNDER_CONSTRUCTION</th>\n",
       "      <th>RERA</th>\n",
       "      <th>BHK_NO.</th>\n",
       "      <th>SQUARE_FT</th>\n",
       "      <th>READY_TO_MOVE</th>\n",
       "      <th>RESALE</th>\n",
       "      <th>ADDRESS</th>\n",
       "      <th>TARGET(PRICE_IN_LACS)</th>\n",
       "      <th>price_per_sqft</th>\n",
       "    </tr>\n",
       "  </thead>\n",
       "  <tbody>\n",
       "    <tr>\n",
       "      <th>0</th>\n",
       "      <td>0</td>\n",
       "      <td>0</td>\n",
       "      <td>3</td>\n",
       "      <td>1282.568807</td>\n",
       "      <td>1</td>\n",
       "      <td>1</td>\n",
       "      <td>6th Phase JP NagarBangalore</td>\n",
       "      <td>69.9</td>\n",
       "      <td>5450.000001</td>\n",
       "    </tr>\n",
       "    <tr>\n",
       "      <th>1</th>\n",
       "      <td>0</td>\n",
       "      <td>0</td>\n",
       "      <td>2</td>\n",
       "      <td>1200.087279</td>\n",
       "      <td>1</td>\n",
       "      <td>1</td>\n",
       "      <td>6th Phase JP NagarBangalore</td>\n",
       "      <td>55.0</td>\n",
       "      <td>4583.000000</td>\n",
       "    </tr>\n",
       "  </tbody>\n",
       "</table>\n",
       "</div>"
      ],
      "text/plain": [
       "   UNDER_CONSTRUCTION  RERA  BHK_NO.    SQUARE_FT  READY_TO_MOVE  RESALE  \\\n",
       "0                   0     0        3  1282.568807              1       1   \n",
       "1                   0     0        2  1200.087279              1       1   \n",
       "\n",
       "                       ADDRESS  TARGET(PRICE_IN_LACS)  price_per_sqft  \n",
       "0  6th Phase JP NagarBangalore                   69.9     5450.000001  \n",
       "1  6th Phase JP NagarBangalore                   55.0     4583.000000  "
      ]
     },
     "execution_count": 33,
     "metadata": {},
     "output_type": "execute_result"
    }
   ],
   "source": [
    "df4.head(2)"
   ]
  },
  {
   "cell_type": "code",
   "execution_count": 34,
   "metadata": {},
   "outputs": [],
   "source": [
    "#i will a function which is gonna filter homes where a 4 bhk house is expensive than 5 bhk\n",
    "#for some reasons these results might affect the perfomance of my model\n",
    "def remove_bhk_outliers(df):\n",
    "    exclude_indices=np.array([])\n",
    "    for location,location_df in df.groupby('ADDRESS'):\n",
    "        bhk_stats={}\n",
    "        for bhk,bhk_df in location_df.groupby('BHK_NO.'):\n",
    "            bhk_stats[bhk]={\n",
    "                'mean':np.mean(bhk_df.price_per_sqft),\n",
    "                'std':np.std(bhk_df.price_per_sqft),\n",
    "                'count':bhk_df.shape[0]\n",
    "            }\n",
    "            \n",
    "        for bhk,bhk_df in location_df.groupby('BHK_NO.'):\n",
    "            stats=bhk_stats.get(bhk-1)\n",
    "            if stats and stats['count']>50:\n",
    "                exclude_indices=np.append(exclude_indices,bhk_df[bhk_df.price_per_sqft<(stats['mean'])].index.values)\n",
    "    return df.drop(exclude_indices,axis='index')"
   ]
  },
  {
   "cell_type": "code",
   "execution_count": 35,
   "metadata": {},
   "outputs": [
    {
     "data": {
      "text/plain": [
       "(15334, 9)"
      ]
     },
     "execution_count": 35,
     "metadata": {},
     "output_type": "execute_result"
    }
   ],
   "source": [
    "df5=remove_bhk_outliers(df4)\n",
    "df5.shape"
   ]
  },
  {
   "cell_type": "code",
   "execution_count": 36,
   "metadata": {},
   "outputs": [
    {
     "data": {
      "image/png": "[encoded data removed]",
      "text/plain": [
       "<Figure size 1440x720 with 1 Axes>"
      ]
     },
     "metadata": {
      "needs_background": "light"
     },
     "output_type": "display_data"
    }
   ],
   "source": [
    "plot_scatter_chart(df5,'VesuSurat')"
   ]
  },
  {
   "cell_type": "code",
   "execution_count": 37,
   "metadata": {},
   "outputs": [
    {
     "data": {
      "text/html": [
       "<div>\n",
       "<style scoped>\n",
       "    .dataframe tbody tr th:only-of-type {\n",
       "        vertical-align: middle;\n",
       "    }\n",
       "\n",
       "    .dataframe tbody tr th {\n",
       "        vertical-align: top;\n",
       "    }\n",
       "\n",
       "    .dataframe thead th {\n",
       "        text-align: right;\n",
       "    }\n",
       "</style>\n",
       "<table border=\"1\" class=\"dataframe\">\n",
       "  <thead>\n",
       "    <tr style=\"text-align: right;\">\n",
       "      <th></th>\n",
       "      <th>UNDER_CONSTRUCTION</th>\n",
       "      <th>RERA</th>\n",
       "      <th>BHK_NO.</th>\n",
       "      <th>SQUARE_FT</th>\n",
       "      <th>READY_TO_MOVE</th>\n",
       "      <th>RESALE</th>\n",
       "      <th>ADDRESS</th>\n",
       "      <th>TARGET(PRICE_IN_LACS)</th>\n",
       "      <th>price_per_sqft</th>\n",
       "    </tr>\n",
       "  </thead>\n",
       "  <tbody>\n",
       "    <tr>\n",
       "      <th>0</th>\n",
       "      <td>0</td>\n",
       "      <td>0</td>\n",
       "      <td>3</td>\n",
       "      <td>1282.568807</td>\n",
       "      <td>1</td>\n",
       "      <td>1</td>\n",
       "      <td>6th Phase JP NagarBangalore</td>\n",
       "      <td>69.9</td>\n",
       "      <td>5450.000001</td>\n",
       "    </tr>\n",
       "    <tr>\n",
       "      <th>1</th>\n",
       "      <td>0</td>\n",
       "      <td>0</td>\n",
       "      <td>2</td>\n",
       "      <td>1200.087279</td>\n",
       "      <td>1</td>\n",
       "      <td>1</td>\n",
       "      <td>6th Phase JP NagarBangalore</td>\n",
       "      <td>55.0</td>\n",
       "      <td>4583.000000</td>\n",
       "    </tr>\n",
       "    <tr>\n",
       "      <th>2</th>\n",
       "      <td>0</td>\n",
       "      <td>0</td>\n",
       "      <td>2</td>\n",
       "      <td>1099.796334</td>\n",
       "      <td>1</td>\n",
       "      <td>1</td>\n",
       "      <td>6th Phase JP NagarBangalore</td>\n",
       "      <td>54.0</td>\n",
       "      <td>4910.000000</td>\n",
       "    </tr>\n",
       "    <tr>\n",
       "      <th>3</th>\n",
       "      <td>0</td>\n",
       "      <td>0</td>\n",
       "      <td>3</td>\n",
       "      <td>1439.884809</td>\n",
       "      <td>1</td>\n",
       "      <td>1</td>\n",
       "      <td>6th Phase JP NagarBangalore</td>\n",
       "      <td>120.0</td>\n",
       "      <td>8334.000001</td>\n",
       "    </tr>\n",
       "    <tr>\n",
       "      <th>4</th>\n",
       "      <td>0</td>\n",
       "      <td>0</td>\n",
       "      <td>2</td>\n",
       "      <td>1100.160440</td>\n",
       "      <td>1</td>\n",
       "      <td>1</td>\n",
       "      <td>6th Phase JP NagarBangalore</td>\n",
       "      <td>48.0</td>\n",
       "      <td>4363.000000</td>\n",
       "    </tr>\n",
       "  </tbody>\n",
       "</table>\n",
       "</div>"
      ],
      "text/plain": [
       "   UNDER_CONSTRUCTION  RERA  BHK_NO.    SQUARE_FT  READY_TO_MOVE  RESALE  \\\n",
       "0                   0     0        3  1282.568807              1       1   \n",
       "1                   0     0        2  1200.087279              1       1   \n",
       "2                   0     0        2  1099.796334              1       1   \n",
       "3                   0     0        3  1439.884809              1       1   \n",
       "4                   0     0        2  1100.160440              1       1   \n",
       "\n",
       "                       ADDRESS  TARGET(PRICE_IN_LACS)  price_per_sqft  \n",
       "0  6th Phase JP NagarBangalore                   69.9     5450.000001  \n",
       "1  6th Phase JP NagarBangalore                   55.0     4583.000000  \n",
       "2  6th Phase JP NagarBangalore                   54.0     4910.000000  \n",
       "3  6th Phase JP NagarBangalore                  120.0     8334.000001  \n",
       "4  6th Phase JP NagarBangalore                   48.0     4363.000000  "
      ]
     },
     "execution_count": 37,
     "metadata": {},
     "output_type": "execute_result"
    }
   ],
   "source": [
    "df5.head()"
   ]
  },
  {
   "cell_type": "code",
   "execution_count": 38,
   "metadata": {},
   "outputs": [
    {
     "data": {
      "text/plain": [
       "array([ 3,  2,  4,  1,  5,  6,  8,  7, 12, 10, 13, 17,  9, 15, 20],\n",
       "      dtype=int64)"
      ]
     },
     "execution_count": 38,
     "metadata": {},
     "output_type": "execute_result"
    }
   ],
   "source": [
    "df5['BHK_NO.'].unique()"
   ]
  },
  {
   "cell_type": "code",
   "execution_count": 39,
   "metadata": {},
   "outputs": [
    {
     "data": {
      "text/html": [
       "<div>\n",
       "<style scoped>\n",
       "    .dataframe tbody tr th:only-of-type {\n",
       "        vertical-align: middle;\n",
       "    }\n",
       "\n",
       "    .dataframe tbody tr th {\n",
       "        vertical-align: top;\n",
       "    }\n",
       "\n",
       "    .dataframe thead th {\n",
       "        text-align: right;\n",
       "    }\n",
       "</style>\n",
       "<table border=\"1\" class=\"dataframe\">\n",
       "  <thead>\n",
       "    <tr style=\"text-align: right;\">\n",
       "      <th></th>\n",
       "      <th>UNDER_CONSTRUCTION</th>\n",
       "      <th>RERA</th>\n",
       "      <th>BHK_NO.</th>\n",
       "      <th>SQUARE_FT</th>\n",
       "      <th>READY_TO_MOVE</th>\n",
       "      <th>RESALE</th>\n",
       "      <th>ADDRESS</th>\n",
       "      <th>TARGET(PRICE_IN_LACS)</th>\n",
       "      <th>price_per_sqft</th>\n",
       "    </tr>\n",
       "  </thead>\n",
       "  <tbody>\n",
       "    <tr>\n",
       "      <th>11077</th>\n",
       "      <td>0</td>\n",
       "      <td>0</td>\n",
       "      <td>12</td>\n",
       "      <td>6373.486297</td>\n",
       "      <td>1</td>\n",
       "      <td>1</td>\n",
       "      <td>other</td>\n",
       "      <td>200.0</td>\n",
       "      <td>3138.000000</td>\n",
       "    </tr>\n",
       "    <tr>\n",
       "      <th>13467</th>\n",
       "      <td>0</td>\n",
       "      <td>0</td>\n",
       "      <td>13</td>\n",
       "      <td>10460.251050</td>\n",
       "      <td>1</td>\n",
       "      <td>1</td>\n",
       "      <td>other</td>\n",
       "      <td>500.0</td>\n",
       "      <td>4779.999998</td>\n",
       "    </tr>\n",
       "    <tr>\n",
       "      <th>15026</th>\n",
       "      <td>0</td>\n",
       "      <td>0</td>\n",
       "      <td>17</td>\n",
       "      <td>11000.343760</td>\n",
       "      <td>1</td>\n",
       "      <td>1</td>\n",
       "      <td>other</td>\n",
       "      <td>320.0</td>\n",
       "      <td>2909.000000</td>\n",
       "    </tr>\n",
       "    <tr>\n",
       "      <th>16082</th>\n",
       "      <td>0</td>\n",
       "      <td>0</td>\n",
       "      <td>15</td>\n",
       "      <td>15001.153930</td>\n",
       "      <td>1</td>\n",
       "      <td>1</td>\n",
       "      <td>other</td>\n",
       "      <td>650.0</td>\n",
       "      <td>4333.000001</td>\n",
       "    </tr>\n",
       "    <tr>\n",
       "      <th>17135</th>\n",
       "      <td>0</td>\n",
       "      <td>0</td>\n",
       "      <td>12</td>\n",
       "      <td>4824.561404</td>\n",
       "      <td>1</td>\n",
       "      <td>1</td>\n",
       "      <td>other</td>\n",
       "      <td>110.0</td>\n",
       "      <td>2280.000000</td>\n",
       "    </tr>\n",
       "    <tr>\n",
       "      <th>19382</th>\n",
       "      <td>0</td>\n",
       "      <td>0</td>\n",
       "      <td>15</td>\n",
       "      <td>8000.000000</td>\n",
       "      <td>1</td>\n",
       "      <td>1</td>\n",
       "      <td>other</td>\n",
       "      <td>500.0</td>\n",
       "      <td>6250.000000</td>\n",
       "    </tr>\n",
       "    <tr>\n",
       "      <th>19607</th>\n",
       "      <td>0</td>\n",
       "      <td>0</td>\n",
       "      <td>20</td>\n",
       "      <td>11983.122360</td>\n",
       "      <td>1</td>\n",
       "      <td>1</td>\n",
       "      <td>other</td>\n",
       "      <td>710.0</td>\n",
       "      <td>5925.000001</td>\n",
       "    </tr>\n",
       "    <tr>\n",
       "      <th>20715</th>\n",
       "      <td>0</td>\n",
       "      <td>0</td>\n",
       "      <td>20</td>\n",
       "      <td>16860.563140</td>\n",
       "      <td>1</td>\n",
       "      <td>1</td>\n",
       "      <td>other</td>\n",
       "      <td>2000.0</td>\n",
       "      <td>11862.000002</td>\n",
       "    </tr>\n",
       "  </tbody>\n",
       "</table>\n",
       "</div>"
      ],
      "text/plain": [
       "       UNDER_CONSTRUCTION  RERA  BHK_NO.     SQUARE_FT  READY_TO_MOVE  RESALE  \\\n",
       "11077                   0     0       12   6373.486297              1       1   \n",
       "13467                   0     0       13  10460.251050              1       1   \n",
       "15026                   0     0       17  11000.343760              1       1   \n",
       "16082                   0     0       15  15001.153930              1       1   \n",
       "17135                   0     0       12   4824.561404              1       1   \n",
       "19382                   0     0       15   8000.000000              1       1   \n",
       "19607                   0     0       20  11983.122360              1       1   \n",
       "20715                   0     0       20  16860.563140              1       1   \n",
       "\n",
       "      ADDRESS  TARGET(PRICE_IN_LACS)  price_per_sqft  \n",
       "11077   other                  200.0     3138.000000  \n",
       "13467   other                  500.0     4779.999998  \n",
       "15026   other                  320.0     2909.000000  \n",
       "16082   other                  650.0     4333.000001  \n",
       "17135   other                  110.0     2280.000000  \n",
       "19382   other                  500.0     6250.000000  \n",
       "19607   other                  710.0     5925.000001  \n",
       "20715   other                 2000.0    11862.000002  "
      ]
     },
     "execution_count": 39,
     "metadata": {},
     "output_type": "execute_result"
    }
   ],
   "source": [
    "df5[df5['BHK_NO.']>=12]"
   ]
  },
  {
   "cell_type": "code",
   "execution_count": 40,
   "metadata": {},
   "outputs": [
    {
     "data": {
      "text/plain": [
       "(15326, 9)"
      ]
     },
     "execution_count": 40,
     "metadata": {},
     "output_type": "execute_result"
    }
   ],
   "source": [
    "#so these homes with so many bhks can affect my model,so i mark them as outliers and remove em\n",
    "df6=df5[~(df5['BHK_NO.']>=12)]\n",
    "df6.shape"
   ]
  },
  {
   "cell_type": "code",
   "execution_count": 41,
   "metadata": {},
   "outputs": [
    {
     "data": {
      "text/plain": [
       "Text(0, 0.5, 'Count')"
      ]
     },
     "execution_count": 41,
     "metadata": {},
     "output_type": "execute_result"
    },
    {
     "data": {
      "image/png": "[encoded data removed]",
      "text/plain": [
       "<Figure size 1440x720 with 1 Axes>"
      ]
     },
     "metadata": {
      "needs_background": "light"
     },
     "output_type": "display_data"
    }
   ],
   "source": [
    "plt.hist(df6['BHK_NO.'],rwidth=0.8)\n",
    "plt.xlabel('Number of bhk')\n",
    "plt.ylabel('Count')"
   ]
  },
  {
   "cell_type": "code",
   "execution_count": 42,
   "metadata": {},
   "outputs": [],
   "source": [
    "#my histogram kinda takes a normal distribution shape based on the bhk no.\n",
    "#we plot a histogram based on the price per sqft"
   ]
  },
  {
   "cell_type": "code",
   "execution_count": 43,
   "metadata": {},
   "outputs": [
    {
     "data": {
      "text/plain": [
       "Text(0, 0.5, 'Count')"
      ]
     },
     "execution_count": 43,
     "metadata": {},
     "output_type": "execute_result"
    },
    {
     "data": {
      "image/png": "[encoded data removed]",
      "text/plain": [
       "<Figure size 1440x720 with 1 Axes>"
      ]
     },
     "metadata": {
      "needs_background": "light"
     },
     "output_type": "display_data"
    }
   ],
   "source": [
    "import matplotlib\n",
    "matplotlib.rcParams['figure.figsize']=(20,10)\n",
    "plt.hist(df6.price_per_sqft,rwidth=0.8)\n",
    "plt.xlabel('Price Per Square Feet')\n",
    "plt.ylabel('Count')"
   ]
  },
  {
   "cell_type": "code",
   "execution_count": 44,
   "metadata": {},
   "outputs": [],
   "source": [
    "#so also the above histogram is kinda a normal distribution,it looks pretty cool"
   ]
  },
  {
   "cell_type": "code",
   "execution_count": 45,
   "metadata": {},
   "outputs": [
    {
     "data": {
      "text/html": [
       "<div>\n",
       "<style scoped>\n",
       "    .dataframe tbody tr th:only-of-type {\n",
       "        vertical-align: middle;\n",
       "    }\n",
       "\n",
       "    .dataframe tbody tr th {\n",
       "        vertical-align: top;\n",
       "    }\n",
       "\n",
       "    .dataframe thead th {\n",
       "        text-align: right;\n",
       "    }\n",
       "</style>\n",
       "<table border=\"1\" class=\"dataframe\">\n",
       "  <thead>\n",
       "    <tr style=\"text-align: right;\">\n",
       "      <th></th>\n",
       "      <th>UNDER_CONSTRUCTION</th>\n",
       "      <th>RERA</th>\n",
       "      <th>BHK_NO.</th>\n",
       "      <th>SQUARE_FT</th>\n",
       "      <th>READY_TO_MOVE</th>\n",
       "      <th>RESALE</th>\n",
       "      <th>ADDRESS</th>\n",
       "      <th>TARGET(PRICE_IN_LACS)</th>\n",
       "      <th>price_per_sqft</th>\n",
       "    </tr>\n",
       "  </thead>\n",
       "  <tbody>\n",
       "    <tr>\n",
       "      <th>0</th>\n",
       "      <td>0</td>\n",
       "      <td>0</td>\n",
       "      <td>3</td>\n",
       "      <td>1282.568807</td>\n",
       "      <td>1</td>\n",
       "      <td>1</td>\n",
       "      <td>6th Phase JP NagarBangalore</td>\n",
       "      <td>69.9</td>\n",
       "      <td>5450.000001</td>\n",
       "    </tr>\n",
       "    <tr>\n",
       "      <th>1</th>\n",
       "      <td>0</td>\n",
       "      <td>0</td>\n",
       "      <td>2</td>\n",
       "      <td>1200.087279</td>\n",
       "      <td>1</td>\n",
       "      <td>1</td>\n",
       "      <td>6th Phase JP NagarBangalore</td>\n",
       "      <td>55.0</td>\n",
       "      <td>4583.000000</td>\n",
       "    </tr>\n",
       "  </tbody>\n",
       "</table>\n",
       "</div>"
      ],
      "text/plain": [
       "   UNDER_CONSTRUCTION  RERA  BHK_NO.    SQUARE_FT  READY_TO_MOVE  RESALE  \\\n",
       "0                   0     0        3  1282.568807              1       1   \n",
       "1                   0     0        2  1200.087279              1       1   \n",
       "\n",
       "                       ADDRESS  TARGET(PRICE_IN_LACS)  price_per_sqft  \n",
       "0  6th Phase JP NagarBangalore                   69.9     5450.000001  \n",
       "1  6th Phase JP NagarBangalore                   55.0     4583.000000  "
      ]
     },
     "execution_count": 45,
     "metadata": {},
     "output_type": "execute_result"
    }
   ],
   "source": [
    "df6.head(2)"
   ]
  },
  {
   "cell_type": "code",
   "execution_count": 46,
   "metadata": {},
   "outputs": [
    {
     "name": "stderr",
     "output_type": "stream",
     "text": [
      "C:\\Users\\sojore\\anaconda3\\lib\\site-packages\\pandas\\core\\generic.py:5168: SettingWithCopyWarning: \n",
      "A value is trying to be set on a copy of a slice from a DataFrame.\n",
      "Try using .loc[row_indexer,col_indexer] = value instead\n",
      "\n",
      "See the caveats in the documentation: https://pandas.pydata.org/pandas-docs/stable/user_guide/indexing.html#returning-a-view-versus-a-copy\n",
      "  self[name] = value\n"
     ]
    },
    {
     "data": {
      "text/html": [
       "<div>\n",
       "<style scoped>\n",
       "    .dataframe tbody tr th:only-of-type {\n",
       "        vertical-align: middle;\n",
       "    }\n",
       "\n",
       "    .dataframe tbody tr th {\n",
       "        vertical-align: top;\n",
       "    }\n",
       "\n",
       "    .dataframe thead th {\n",
       "        text-align: right;\n",
       "    }\n",
       "</style>\n",
       "<table border=\"1\" class=\"dataframe\">\n",
       "  <thead>\n",
       "    <tr style=\"text-align: right;\">\n",
       "      <th></th>\n",
       "      <th>UNDER_CONSTRUCTION</th>\n",
       "      <th>RERA</th>\n",
       "      <th>BHK_NO.</th>\n",
       "      <th>SQUARE_FT</th>\n",
       "      <th>READY_TO_MOVE</th>\n",
       "      <th>RESALE</th>\n",
       "      <th>ADDRESS</th>\n",
       "      <th>TARGET(PRICE_IN_LACS)</th>\n",
       "      <th>price_per_sqft</th>\n",
       "    </tr>\n",
       "  </thead>\n",
       "  <tbody>\n",
       "    <tr>\n",
       "      <th>10018</th>\n",
       "      <td>0</td>\n",
       "      <td>1</td>\n",
       "      <td>2</td>\n",
       "      <td>1305.158484</td>\n",
       "      <td>1</td>\n",
       "      <td>1</td>\n",
       "      <td>567</td>\n",
       "      <td>42.00</td>\n",
       "      <td>3217.999999</td>\n",
       "    </tr>\n",
       "    <tr>\n",
       "      <th>4089</th>\n",
       "      <td>1</td>\n",
       "      <td>1</td>\n",
       "      <td>2</td>\n",
       "      <td>1070.149254</td>\n",
       "      <td>0</td>\n",
       "      <td>1</td>\n",
       "      <td>255</td>\n",
       "      <td>35.85</td>\n",
       "      <td>3349.999999</td>\n",
       "    </tr>\n",
       "    <tr>\n",
       "      <th>11375</th>\n",
       "      <td>0</td>\n",
       "      <td>0</td>\n",
       "      <td>4</td>\n",
       "      <td>4000.000000</td>\n",
       "      <td>1</td>\n",
       "      <td>1</td>\n",
       "      <td>571</td>\n",
       "      <td>600.00</td>\n",
       "      <td>15000.000000</td>\n",
       "    </tr>\n",
       "    <tr>\n",
       "      <th>18097</th>\n",
       "      <td>0</td>\n",
       "      <td>0</td>\n",
       "      <td>3</td>\n",
       "      <td>1635.111876</td>\n",
       "      <td>1</td>\n",
       "      <td>1</td>\n",
       "      <td>571</td>\n",
       "      <td>95.00</td>\n",
       "      <td>5810.000000</td>\n",
       "    </tr>\n",
       "  </tbody>\n",
       "</table>\n",
       "</div>"
      ],
      "text/plain": [
       "       UNDER_CONSTRUCTION  RERA  BHK_NO.    SQUARE_FT  READY_TO_MOVE  RESALE  \\\n",
       "10018                   0     1        2  1305.158484              1       1   \n",
       "4089                    1     1        2  1070.149254              0       1   \n",
       "11375                   0     0        4  4000.000000              1       1   \n",
       "18097                   0     0        3  1635.111876              1       1   \n",
       "\n",
       "       ADDRESS  TARGET(PRICE_IN_LACS)  price_per_sqft  \n",
       "10018      567                  42.00     3217.999999  \n",
       "4089       255                  35.85     3349.999999  \n",
       "11375      571                 600.00    15000.000000  \n",
       "18097      571                  95.00     5810.000000  "
      ]
     },
     "execution_count": 46,
     "metadata": {},
     "output_type": "execute_result"
    }
   ],
   "source": [
    "#next up is creating dummy variables for the address column\n",
    "#i will use labelencoder to get the dummy variables \n",
    "from sklearn.preprocessing import LabelEncoder\n",
    "le_df=LabelEncoder()\n",
    "df6.ADDRESS=le_df.fit_transform(df6.ADDRESS)\n",
    "df6.sample(4)"
   ]
  },
  {
   "cell_type": "code",
   "execution_count": 47,
   "metadata": {},
   "outputs": [],
   "source": [
    "#now the next task is to work on the test data,handle the missing values ,create dummy variables and get the X_test"
   ]
  },
  {
   "cell_type": "code",
   "execution_count": 48,
   "metadata": {},
   "outputs": [
    {
     "data": {
      "text/html": [
       "<div>\n",
       "<style scoped>\n",
       "    .dataframe tbody tr th:only-of-type {\n",
       "        vertical-align: middle;\n",
       "    }\n",
       "\n",
       "    .dataframe tbody tr th {\n",
       "        vertical-align: top;\n",
       "    }\n",
       "\n",
       "    .dataframe thead th {\n",
       "        text-align: right;\n",
       "    }\n",
       "</style>\n",
       "<table border=\"1\" class=\"dataframe\">\n",
       "  <thead>\n",
       "    <tr style=\"text-align: right;\">\n",
       "      <th></th>\n",
       "      <th>POSTED_BY</th>\n",
       "      <th>UNDER_CONSTRUCTION</th>\n",
       "      <th>RERA</th>\n",
       "      <th>BHK_NO.</th>\n",
       "      <th>BHK_OR_RK</th>\n",
       "      <th>SQUARE_FT</th>\n",
       "      <th>READY_TO_MOVE</th>\n",
       "      <th>RESALE</th>\n",
       "      <th>ADDRESS</th>\n",
       "      <th>LONGITUDE</th>\n",
       "      <th>LATITUDE</th>\n",
       "    </tr>\n",
       "  </thead>\n",
       "  <tbody>\n",
       "    <tr>\n",
       "      <th>0</th>\n",
       "      <td>Owner</td>\n",
       "      <td>0</td>\n",
       "      <td>0</td>\n",
       "      <td>1</td>\n",
       "      <td>BHK</td>\n",
       "      <td>545.171340</td>\n",
       "      <td>1</td>\n",
       "      <td>1</td>\n",
       "      <td>Kamrej,Surat</td>\n",
       "      <td>21.262000</td>\n",
       "      <td>73.047700</td>\n",
       "    </tr>\n",
       "    <tr>\n",
       "      <th>1</th>\n",
       "      <td>Dealer</td>\n",
       "      <td>1</td>\n",
       "      <td>1</td>\n",
       "      <td>2</td>\n",
       "      <td>BHK</td>\n",
       "      <td>800.000000</td>\n",
       "      <td>0</td>\n",
       "      <td>0</td>\n",
       "      <td>Panvel,Lalitpur</td>\n",
       "      <td>18.966114</td>\n",
       "      <td>73.148278</td>\n",
       "    </tr>\n",
       "    <tr>\n",
       "      <th>2</th>\n",
       "      <td>Dealer</td>\n",
       "      <td>0</td>\n",
       "      <td>0</td>\n",
       "      <td>2</td>\n",
       "      <td>BHK</td>\n",
       "      <td>1257.096513</td>\n",
       "      <td>1</td>\n",
       "      <td>1</td>\n",
       "      <td>New Town,Kolkata</td>\n",
       "      <td>22.592200</td>\n",
       "      <td>88.484911</td>\n",
       "    </tr>\n",
       "    <tr>\n",
       "      <th>3</th>\n",
       "      <td>Dealer</td>\n",
       "      <td>0</td>\n",
       "      <td>0</td>\n",
       "      <td>3</td>\n",
       "      <td>BHK</td>\n",
       "      <td>1400.329489</td>\n",
       "      <td>1</td>\n",
       "      <td>1</td>\n",
       "      <td>Kalwar Road,Jaipur</td>\n",
       "      <td>26.988300</td>\n",
       "      <td>75.584600</td>\n",
       "    </tr>\n",
       "    <tr>\n",
       "      <th>4</th>\n",
       "      <td>Owner</td>\n",
       "      <td>0</td>\n",
       "      <td>0</td>\n",
       "      <td>1</td>\n",
       "      <td>BHK</td>\n",
       "      <td>430.477830</td>\n",
       "      <td>1</td>\n",
       "      <td>1</td>\n",
       "      <td>Mai Mandir,Nadiad</td>\n",
       "      <td>22.700000</td>\n",
       "      <td>72.870000</td>\n",
       "    </tr>\n",
       "  </tbody>\n",
       "</table>\n",
       "</div>"
      ],
      "text/plain": [
       "  POSTED_BY  UNDER_CONSTRUCTION  RERA  BHK_NO. BHK_OR_RK    SQUARE_FT  \\\n",
       "0     Owner                   0     0        1       BHK   545.171340   \n",
       "1    Dealer                   1     1        2       BHK   800.000000   \n",
       "2    Dealer                   0     0        2       BHK  1257.096513   \n",
       "3    Dealer                   0     0        3       BHK  1400.329489   \n",
       "4     Owner                   0     0        1       BHK   430.477830   \n",
       "\n",
       "   READY_TO_MOVE  RESALE             ADDRESS  LONGITUDE   LATITUDE  \n",
       "0              1       1        Kamrej,Surat  21.262000  73.047700  \n",
       "1              0       0     Panvel,Lalitpur  18.966114  73.148278  \n",
       "2              1       1    New Town,Kolkata  22.592200  88.484911  \n",
       "3              1       1  Kalwar Road,Jaipur  26.988300  75.584600  \n",
       "4              1       1   Mai Mandir,Nadiad  22.700000  72.870000  "
      ]
     },
     "execution_count": 48,
     "metadata": {},
     "output_type": "execute_result"
    }
   ],
   "source": [
    "#loading the test dataset\n",
    "test=pd.read_csv('C://Users/sojore/Documents/project 4 t.b.d-challenge/Test.csv')\n",
    "test.head()"
   ]
  },
  {
   "cell_type": "code",
   "execution_count": 49,
   "metadata": {},
   "outputs": [
    {
     "data": {
      "text/html": [
       "<div>\n",
       "<style scoped>\n",
       "    .dataframe tbody tr th:only-of-type {\n",
       "        vertical-align: middle;\n",
       "    }\n",
       "\n",
       "    .dataframe tbody tr th {\n",
       "        vertical-align: top;\n",
       "    }\n",
       "\n",
       "    .dataframe thead th {\n",
       "        text-align: right;\n",
       "    }\n",
       "</style>\n",
       "<table border=\"1\" class=\"dataframe\">\n",
       "  <thead>\n",
       "    <tr style=\"text-align: right;\">\n",
       "      <th></th>\n",
       "      <th>UNDER_CONSTRUCTION</th>\n",
       "      <th>RERA</th>\n",
       "      <th>BHK_NO.</th>\n",
       "      <th>SQUARE_FT</th>\n",
       "      <th>READY_TO_MOVE</th>\n",
       "      <th>RESALE</th>\n",
       "      <th>ADDRESS</th>\n",
       "    </tr>\n",
       "  </thead>\n",
       "  <tbody>\n",
       "    <tr>\n",
       "      <th>0</th>\n",
       "      <td>0</td>\n",
       "      <td>0</td>\n",
       "      <td>1</td>\n",
       "      <td>545.17134</td>\n",
       "      <td>1</td>\n",
       "      <td>1</td>\n",
       "      <td>Kamrej,Surat</td>\n",
       "    </tr>\n",
       "    <tr>\n",
       "      <th>1</th>\n",
       "      <td>1</td>\n",
       "      <td>1</td>\n",
       "      <td>2</td>\n",
       "      <td>800.00000</td>\n",
       "      <td>0</td>\n",
       "      <td>0</td>\n",
       "      <td>Panvel,Lalitpur</td>\n",
       "    </tr>\n",
       "  </tbody>\n",
       "</table>\n",
       "</div>"
      ],
      "text/plain": [
       "   UNDER_CONSTRUCTION  RERA  BHK_NO.  SQUARE_FT  READY_TO_MOVE  RESALE  \\\n",
       "0                   0     0        1  545.17134              1       1   \n",
       "1                   1     1        2  800.00000              0       0   \n",
       "\n",
       "           ADDRESS  \n",
       "0     Kamrej,Surat  \n",
       "1  Panvel,Lalitpur  "
      ]
     },
     "execution_count": 49,
     "metadata": {},
     "output_type": "execute_result"
    }
   ],
   "source": [
    "#dropping unneccesary columns\n",
    "test1=test.drop(['POSTED_BY','BHK_OR_RK','LONGITUDE','LATITUDE'],axis=1)\n",
    "test1.head(2)"
   ]
  },
  {
   "cell_type": "code",
   "execution_count": 50,
   "metadata": {},
   "outputs": [
    {
     "data": {
      "text/plain": [
       "array(['Kamrej,Surat', 'Panvel,Lalitpur', 'New Town,Kolkata', ...,\n",
       "       'Suryanagar,Vadodara', 'Raghavendra Nagar,Pune',\n",
       "       'Thakurganj,Lucknow'], dtype=object)"
      ]
     },
     "execution_count": 50,
     "metadata": {},
     "output_type": "execute_result"
    }
   ],
   "source": [
    "test1.ADDRESS.unique()"
   ]
  },
  {
   "cell_type": "code",
   "execution_count": 51,
   "metadata": {},
   "outputs": [
    {
     "data": {
      "text/plain": [
       "'New TownKolkata'"
      ]
     },
     "execution_count": 51,
     "metadata": {},
     "output_type": "execute_result"
    }
   ],
   "source": [
    "#handling the address column\n",
    "def convert_comma_to_string(x):\n",
    "    res=x.split(',')\n",
    "    y=len(res)\n",
    "    if y==6:\n",
    "        return res[0]+res[1]+res[2]+res[3]+res[4]+res[5]\n",
    "    elif y==5:\n",
    "        return res[0]+res[1]+res[2]+res[3]+res[4]\n",
    "    elif y==4:\n",
    "        return res[0]+res[1]+res[2]+res[3]\n",
    "    elif y==3:\n",
    "        return res[0]+res[1]+res[2]\n",
    "    elif y==2:\n",
    "        return res[0]+res[1]\n",
    "    elif y==1:\n",
    "        return res[0]\n",
    "    else:\n",
    "        return None\n",
    "        \n",
    "convert_comma_to_string('New Town,Kolkata')"
   ]
  },
  {
   "cell_type": "code",
   "execution_count": 52,
   "metadata": {},
   "outputs": [
    {
     "data": {
      "text/html": [
       "<div>\n",
       "<style scoped>\n",
       "    .dataframe tbody tr th:only-of-type {\n",
       "        vertical-align: middle;\n",
       "    }\n",
       "\n",
       "    .dataframe tbody tr th {\n",
       "        vertical-align: top;\n",
       "    }\n",
       "\n",
       "    .dataframe thead th {\n",
       "        text-align: right;\n",
       "    }\n",
       "</style>\n",
       "<table border=\"1\" class=\"dataframe\">\n",
       "  <thead>\n",
       "    <tr style=\"text-align: right;\">\n",
       "      <th></th>\n",
       "      <th>UNDER_CONSTRUCTION</th>\n",
       "      <th>RERA</th>\n",
       "      <th>BHK_NO.</th>\n",
       "      <th>SQUARE_FT</th>\n",
       "      <th>READY_TO_MOVE</th>\n",
       "      <th>RESALE</th>\n",
       "      <th>ADDRESS</th>\n",
       "    </tr>\n",
       "  </thead>\n",
       "  <tbody>\n",
       "    <tr>\n",
       "      <th>0</th>\n",
       "      <td>0</td>\n",
       "      <td>0</td>\n",
       "      <td>1</td>\n",
       "      <td>545.171340</td>\n",
       "      <td>1</td>\n",
       "      <td>1</td>\n",
       "      <td>KamrejSurat</td>\n",
       "    </tr>\n",
       "    <tr>\n",
       "      <th>1</th>\n",
       "      <td>1</td>\n",
       "      <td>1</td>\n",
       "      <td>2</td>\n",
       "      <td>800.000000</td>\n",
       "      <td>0</td>\n",
       "      <td>0</td>\n",
       "      <td>PanvelLalitpur</td>\n",
       "    </tr>\n",
       "    <tr>\n",
       "      <th>2</th>\n",
       "      <td>0</td>\n",
       "      <td>0</td>\n",
       "      <td>2</td>\n",
       "      <td>1257.096513</td>\n",
       "      <td>1</td>\n",
       "      <td>1</td>\n",
       "      <td>New TownKolkata</td>\n",
       "    </tr>\n",
       "    <tr>\n",
       "      <th>3</th>\n",
       "      <td>0</td>\n",
       "      <td>0</td>\n",
       "      <td>3</td>\n",
       "      <td>1400.329489</td>\n",
       "      <td>1</td>\n",
       "      <td>1</td>\n",
       "      <td>Kalwar RoadJaipur</td>\n",
       "    </tr>\n",
       "    <tr>\n",
       "      <th>4</th>\n",
       "      <td>0</td>\n",
       "      <td>0</td>\n",
       "      <td>1</td>\n",
       "      <td>430.477830</td>\n",
       "      <td>1</td>\n",
       "      <td>1</td>\n",
       "      <td>Mai MandirNadiad</td>\n",
       "    </tr>\n",
       "  </tbody>\n",
       "</table>\n",
       "</div>"
      ],
      "text/plain": [
       "   UNDER_CONSTRUCTION  RERA  BHK_NO.    SQUARE_FT  READY_TO_MOVE  RESALE  \\\n",
       "0                   0     0        1   545.171340              1       1   \n",
       "1                   1     1        2   800.000000              0       0   \n",
       "2                   0     0        2  1257.096513              1       1   \n",
       "3                   0     0        3  1400.329489              1       1   \n",
       "4                   0     0        1   430.477830              1       1   \n",
       "\n",
       "             ADDRESS  \n",
       "0        KamrejSurat  \n",
       "1     PanvelLalitpur  \n",
       "2    New TownKolkata  \n",
       "3  Kalwar RoadJaipur  \n",
       "4   Mai MandirNadiad  "
      ]
     },
     "execution_count": 52,
     "metadata": {},
     "output_type": "execute_result"
    }
   ],
   "source": [
    "test1.ADDRESS=test1.ADDRESS.apply(convert_comma_to_string)\n",
    "test1.head()"
   ]
  },
  {
   "cell_type": "code",
   "execution_count": 53,
   "metadata": {},
   "outputs": [
    {
     "data": {
      "text/plain": [
       "(15326, 9)"
      ]
     },
     "execution_count": 53,
     "metadata": {},
     "output_type": "execute_result"
    }
   ],
   "source": [
    "df6.shape"
   ]
  },
  {
   "cell_type": "code",
   "execution_count": 54,
   "metadata": {},
   "outputs": [
    {
     "data": {
      "text/plain": [
       "(68720, 7)"
      ]
     },
     "execution_count": 54,
     "metadata": {},
     "output_type": "execute_result"
    }
   ],
   "source": [
    "test1.shape"
   ]
  },
  {
   "cell_type": "code",
   "execution_count": 55,
   "metadata": {},
   "outputs": [
    {
     "data": {
      "text/html": [
       "<div>\n",
       "<style scoped>\n",
       "    .dataframe tbody tr th:only-of-type {\n",
       "        vertical-align: middle;\n",
       "    }\n",
       "\n",
       "    .dataframe tbody tr th {\n",
       "        vertical-align: top;\n",
       "    }\n",
       "\n",
       "    .dataframe thead th {\n",
       "        text-align: right;\n",
       "    }\n",
       "</style>\n",
       "<table border=\"1\" class=\"dataframe\">\n",
       "  <thead>\n",
       "    <tr style=\"text-align: right;\">\n",
       "      <th></th>\n",
       "      <th>UNDER_CONSTRUCTION</th>\n",
       "      <th>RERA</th>\n",
       "      <th>BHK_NO.</th>\n",
       "      <th>SQUARE_FT</th>\n",
       "      <th>READY_TO_MOVE</th>\n",
       "      <th>RESALE</th>\n",
       "      <th>ADDRESS</th>\n",
       "    </tr>\n",
       "  </thead>\n",
       "  <tbody>\n",
       "    <tr>\n",
       "      <th>31563</th>\n",
       "      <td>0</td>\n",
       "      <td>0</td>\n",
       "      <td>2</td>\n",
       "      <td>1273.319514</td>\n",
       "      <td>1</td>\n",
       "      <td>1</td>\n",
       "      <td>8139</td>\n",
       "    </tr>\n",
       "    <tr>\n",
       "      <th>47645</th>\n",
       "      <td>0</td>\n",
       "      <td>0</td>\n",
       "      <td>2</td>\n",
       "      <td>1170.212766</td>\n",
       "      <td>1</td>\n",
       "      <td>1</td>\n",
       "      <td>5930</td>\n",
       "    </tr>\n",
       "    <tr>\n",
       "      <th>32334</th>\n",
       "      <td>0</td>\n",
       "      <td>0</td>\n",
       "      <td>3</td>\n",
       "      <td>899.805448</td>\n",
       "      <td>1</td>\n",
       "      <td>1</td>\n",
       "      <td>10376</td>\n",
       "    </tr>\n",
       "    <tr>\n",
       "      <th>4339</th>\n",
       "      <td>0</td>\n",
       "      <td>1</td>\n",
       "      <td>3</td>\n",
       "      <td>1260.067550</td>\n",
       "      <td>1</td>\n",
       "      <td>1</td>\n",
       "      <td>10080</td>\n",
       "    </tr>\n",
       "  </tbody>\n",
       "</table>\n",
       "</div>"
      ],
      "text/plain": [
       "       UNDER_CONSTRUCTION  RERA  BHK_NO.    SQUARE_FT  READY_TO_MOVE  RESALE  \\\n",
       "31563                   0     0        2  1273.319514              1       1   \n",
       "47645                   0     0        2  1170.212766              1       1   \n",
       "32334                   0     0        3   899.805448              1       1   \n",
       "4339                    0     1        3  1260.067550              1       1   \n",
       "\n",
       "       ADDRESS  \n",
       "31563     8139  \n",
       "47645     5930  \n",
       "32334    10376  \n",
       "4339     10080  "
      ]
     },
     "execution_count": 55,
     "metadata": {},
     "output_type": "execute_result"
    }
   ],
   "source": [
    "#getting dummie variables for test1 dataset\n",
    "le_test1=LabelEncoder()\n",
    "test1.ADDRESS=le_test1.fit_transform(test1.ADDRESS)\n",
    "test1.sample(4)"
   ]
  },
  {
   "cell_type": "code",
   "execution_count": 56,
   "metadata": {},
   "outputs": [
    {
     "data": {
      "text/plain": [
       "(68720, 7)"
      ]
     },
     "execution_count": 56,
     "metadata": {},
     "output_type": "execute_result"
    }
   ],
   "source": [
    "#preparing my X,y,X_train,y_train,X_test\n",
    "test1.shape"
   ]
  },
  {
   "cell_type": "code",
   "execution_count": 57,
   "metadata": {},
   "outputs": [
    {
     "data": {
      "text/plain": [
       "(15326, 7)"
      ]
     },
     "execution_count": 57,
     "metadata": {},
     "output_type": "execute_result"
    }
   ],
   "source": [
    "X=df6.drop(['TARGET(PRICE_IN_LACS)','price_per_sqft'],axis='columns')\n",
    "X.shape"
   ]
  },
  {
   "cell_type": "code",
   "execution_count": 58,
   "metadata": {},
   "outputs": [
    {
     "data": {
      "text/plain": [
       "(15326,)"
      ]
     },
     "execution_count": 58,
     "metadata": {},
     "output_type": "execute_result"
    }
   ],
   "source": [
    "y=df6['TARGET(PRICE_IN_LACS)']\n",
    "y.shape"
   ]
  },
  {
   "cell_type": "code",
   "execution_count": 59,
   "metadata": {},
   "outputs": [
    {
     "data": {
      "text/html": [
       "<div>\n",
       "<style scoped>\n",
       "    .dataframe tbody tr th:only-of-type {\n",
       "        vertical-align: middle;\n",
       "    }\n",
       "\n",
       "    .dataframe tbody tr th {\n",
       "        vertical-align: top;\n",
       "    }\n",
       "\n",
       "    .dataframe thead th {\n",
       "        text-align: right;\n",
       "    }\n",
       "</style>\n",
       "<table border=\"1\" class=\"dataframe\">\n",
       "  <thead>\n",
       "    <tr style=\"text-align: right;\">\n",
       "      <th></th>\n",
       "      <th>UNDER_CONSTRUCTION</th>\n",
       "      <th>RERA</th>\n",
       "      <th>BHK_NO.</th>\n",
       "      <th>SQUARE_FT</th>\n",
       "      <th>READY_TO_MOVE</th>\n",
       "      <th>RESALE</th>\n",
       "      <th>ADDRESS</th>\n",
       "    </tr>\n",
       "  </thead>\n",
       "  <tbody>\n",
       "    <tr>\n",
       "      <th>0</th>\n",
       "      <td>0</td>\n",
       "      <td>0</td>\n",
       "      <td>3</td>\n",
       "      <td>1282.568807</td>\n",
       "      <td>1</td>\n",
       "      <td>1</td>\n",
       "      <td>0</td>\n",
       "    </tr>\n",
       "    <tr>\n",
       "      <th>1</th>\n",
       "      <td>0</td>\n",
       "      <td>0</td>\n",
       "      <td>2</td>\n",
       "      <td>1200.087279</td>\n",
       "      <td>1</td>\n",
       "      <td>1</td>\n",
       "      <td>0</td>\n",
       "    </tr>\n",
       "    <tr>\n",
       "      <th>2</th>\n",
       "      <td>0</td>\n",
       "      <td>0</td>\n",
       "      <td>2</td>\n",
       "      <td>1099.796334</td>\n",
       "      <td>1</td>\n",
       "      <td>1</td>\n",
       "      <td>0</td>\n",
       "    </tr>\n",
       "  </tbody>\n",
       "</table>\n",
       "</div>"
      ],
      "text/plain": [
       "   UNDER_CONSTRUCTION  RERA  BHK_NO.    SQUARE_FT  READY_TO_MOVE  RESALE  \\\n",
       "0                   0     0        3  1282.568807              1       1   \n",
       "1                   0     0        2  1200.087279              1       1   \n",
       "2                   0     0        2  1099.796334              1       1   \n",
       "\n",
       "   ADDRESS  \n",
       "0        0  \n",
       "1        0  \n",
       "2        0  "
      ]
     },
     "execution_count": 59,
     "metadata": {},
     "output_type": "execute_result"
    }
   ],
   "source": [
    "X.head(3)"
   ]
  },
  {
   "cell_type": "code",
   "execution_count": 60,
   "metadata": {},
   "outputs": [
    {
     "data": {
      "text/plain": [
       "(15326, 7)"
      ]
     },
     "execution_count": 60,
     "metadata": {},
     "output_type": "execute_result"
    }
   ],
   "source": [
    "X_train=X.copy()\n",
    "X_train.shape"
   ]
  },
  {
   "cell_type": "code",
   "execution_count": 61,
   "metadata": {},
   "outputs": [
    {
     "data": {
      "text/plain": [
       "(15326,)"
      ]
     },
     "execution_count": 61,
     "metadata": {},
     "output_type": "execute_result"
    }
   ],
   "source": [
    "y_train=y.copy()\n",
    "y_train.shape"
   ]
  },
  {
   "cell_type": "code",
   "execution_count": 62,
   "metadata": {},
   "outputs": [
    {
     "data": {
      "text/plain": [
       "(68720, 7)"
      ]
     },
     "execution_count": 62,
     "metadata": {},
     "output_type": "execute_result"
    }
   ],
   "source": [
    "X_test=test1.copy()\n",
    "X_test.shape"
   ]
  },
  {
   "cell_type": "code",
   "execution_count": 63,
   "metadata": {},
   "outputs": [],
   "source": [
    "#we now proceed to creating our model(we use gridsearchcv to come with the best model,best parameters)\n",
    "from sklearn.model_selection import GridSearchCV\n",
    "from sklearn.model_selection import ShuffleSplit\n",
    "from sklearn.model_selection import cross_val_score\n",
    "\n",
    "from sklearn.linear_model import LinearRegression\n",
    "from sklearn.linear_model import Lasso\n",
    "from sklearn.tree import DecisionTreeRegressor"
   ]
  },
  {
   "cell_type": "code",
   "execution_count": 64,
   "metadata": {},
   "outputs": [
    {
     "data": {
      "text/plain": [
       "array([0.85513484, 0.91707653, 0.94341263, 0.80395003, 0.94723931])"
      ]
     },
     "execution_count": 64,
     "metadata": {},
     "output_type": "execute_result"
    }
   ],
   "source": [
    "cross_val_score(DecisionTreeRegressor(),X_train,y_train)"
   ]
  },
  {
   "cell_type": "code",
   "execution_count": 65,
   "metadata": {},
   "outputs": [],
   "source": [
    "def find_best_model_using_gridsearchcv(X,y):\n",
    "    models={\n",
    "        'linear_regression':{\n",
    "            'model':LinearRegression(),\n",
    "            'params':{\n",
    "                'normalize':[True,False]\n",
    "            }\n",
    "        },\n",
    "        'lasso':{\n",
    "            'model':Lasso(),\n",
    "            'params':{\n",
    "                'alpha':[1,2],\n",
    "                'selection':['random','cyclic']\n",
    "            }\n",
    "        },\n",
    "        'decision_tree':{\n",
    "            'model':DecisionTreeRegressor(),\n",
    "            'params':{\n",
    "                'criterion':['mse','friedman_mse'],\n",
    "                'splitter':['best','random']\n",
    "            }\n",
    "        }\n",
    "    }\n",
    "#this is what we call hyper parameter tunning\n",
    "\n",
    "    scores=[]\n",
    "    cv=ShuffleSplit(n_splits=5,test_size=0.2,random_state=0)\n",
    "    for algo_name,config in models.items():\n",
    "        gs=GridSearchCV(config['model'],config['params'],cv=cv,return_train_score=False)\n",
    "        gs.fit(X,y)\n",
    "        scores.append({\n",
    "            'model':algo_name,\n",
    "            'best_score':gs.best_score_,\n",
    "            'best_params':gs.best_params_\n",
    "        })\n",
    "    return pd.DataFrame(scores,columns=['model','best_score','best_params'])\n"
   ]
  },
  {
   "cell_type": "code",
   "execution_count": 66,
   "metadata": {},
   "outputs": [
    {
     "data": {
      "text/html": [
       "<div>\n",
       "<style scoped>\n",
       "    .dataframe tbody tr th:only-of-type {\n",
       "        vertical-align: middle;\n",
       "    }\n",
       "\n",
       "    .dataframe tbody tr th {\n",
       "        vertical-align: top;\n",
       "    }\n",
       "\n",
       "    .dataframe thead th {\n",
       "        text-align: right;\n",
       "    }\n",
       "</style>\n",
       "<table border=\"1\" class=\"dataframe\">\n",
       "  <thead>\n",
       "    <tr style=\"text-align: right;\">\n",
       "      <th></th>\n",
       "      <th>model</th>\n",
       "      <th>best_score</th>\n",
       "      <th>best_params</th>\n",
       "    </tr>\n",
       "  </thead>\n",
       "  <tbody>\n",
       "    <tr>\n",
       "      <th>0</th>\n",
       "      <td>linear_regression</td>\n",
       "      <td>0.850903</td>\n",
       "      <td>{'normalize': False}</td>\n",
       "    </tr>\n",
       "    <tr>\n",
       "      <th>1</th>\n",
       "      <td>lasso</td>\n",
       "      <td>0.850675</td>\n",
       "      <td>{'alpha': 1, 'selection': 'random'}</td>\n",
       "    </tr>\n",
       "    <tr>\n",
       "      <th>2</th>\n",
       "      <td>decision_tree</td>\n",
       "      <td>0.934751</td>\n",
       "      <td>{'criterion': 'friedman_mse', 'splitter': 'best'}</td>\n",
       "    </tr>\n",
       "  </tbody>\n",
       "</table>\n",
       "</div>"
      ],
      "text/plain": [
       "               model  best_score  \\\n",
       "0  linear_regression    0.850903   \n",
       "1              lasso    0.850675   \n",
       "2      decision_tree    0.934751   \n",
       "\n",
       "                                         best_params  \n",
       "0                               {'normalize': False}  \n",
       "1                {'alpha': 1, 'selection': 'random'}  \n",
       "2  {'criterion': 'friedman_mse', 'splitter': 'best'}  "
      ]
     },
     "execution_count": 66,
     "metadata": {},
     "output_type": "execute_result"
    }
   ],
   "source": [
    "find_best_model_using_gridsearchcv(X_train,y_train)"
   ]
  },
  {
   "cell_type": "code",
   "execution_count": 67,
   "metadata": {},
   "outputs": [
    {
     "data": {
      "text/plain": [
       "DecisionTreeRegressor(criterion='friedman_mse', splitter='random')"
      ]
     },
     "execution_count": 67,
     "metadata": {},
     "output_type": "execute_result"
    }
   ],
   "source": [
    "#from the above results,decision tree is working pretty good,so am gonn ause it to create my model\n",
    "model=DecisionTreeRegressor(criterion= 'friedman_mse', splitter= 'random')\n",
    "model.fit(X_train,y_train)"
   ]
  },
  {
   "cell_type": "code",
   "execution_count": 68,
   "metadata": {},
   "outputs": [
    {
     "data": {
      "text/html": [
       "<div>\n",
       "<style scoped>\n",
       "    .dataframe tbody tr th:only-of-type {\n",
       "        vertical-align: middle;\n",
       "    }\n",
       "\n",
       "    .dataframe tbody tr th {\n",
       "        vertical-align: top;\n",
       "    }\n",
       "\n",
       "    .dataframe thead th {\n",
       "        text-align: right;\n",
       "    }\n",
       "</style>\n",
       "<table border=\"1\" class=\"dataframe\">\n",
       "  <thead>\n",
       "    <tr style=\"text-align: right;\">\n",
       "      <th></th>\n",
       "      <th>UNDER_CONSTRUCTION</th>\n",
       "      <th>RERA</th>\n",
       "      <th>BHK_NO.</th>\n",
       "      <th>SQUARE_FT</th>\n",
       "      <th>READY_TO_MOVE</th>\n",
       "      <th>RESALE</th>\n",
       "      <th>ADDRESS</th>\n",
       "    </tr>\n",
       "  </thead>\n",
       "  <tbody>\n",
       "    <tr>\n",
       "      <th>0</th>\n",
       "      <td>0</td>\n",
       "      <td>0</td>\n",
       "      <td>3</td>\n",
       "      <td>1282.568807</td>\n",
       "      <td>1</td>\n",
       "      <td>1</td>\n",
       "      <td>0</td>\n",
       "    </tr>\n",
       "    <tr>\n",
       "      <th>1</th>\n",
       "      <td>0</td>\n",
       "      <td>0</td>\n",
       "      <td>2</td>\n",
       "      <td>1200.087279</td>\n",
       "      <td>1</td>\n",
       "      <td>1</td>\n",
       "      <td>0</td>\n",
       "    </tr>\n",
       "  </tbody>\n",
       "</table>\n",
       "</div>"
      ],
      "text/plain": [
       "   UNDER_CONSTRUCTION  RERA  BHK_NO.    SQUARE_FT  READY_TO_MOVE  RESALE  \\\n",
       "0                   0     0        3  1282.568807              1       1   \n",
       "1                   0     0        2  1200.087279              1       1   \n",
       "\n",
       "   ADDRESS  \n",
       "0        0  \n",
       "1        0  "
      ]
     },
     "execution_count": 68,
     "metadata": {},
     "output_type": "execute_result"
    }
   ],
   "source": [
    "X_train.head(2)"
   ]
  },
  {
   "cell_type": "code",
   "execution_count": 69,
   "metadata": {},
   "outputs": [
    {
     "data": {
      "text/plain": [
       "array([69.9])"
      ]
     },
     "execution_count": 69,
     "metadata": {},
     "output_type": "execute_result"
    }
   ],
   "source": [
    "#lets now do some price predictions\n",
    "model.predict([[0,0,3,1282.568807,1,1,0]])"
   ]
  },
  {
   "cell_type": "code",
   "execution_count": 70,
   "metadata": {},
   "outputs": [
    {
     "data": {
      "text/plain": [
       "0    69.9\n",
       "1    55.0\n",
       "Name: TARGET(PRICE_IN_LACS), dtype: float64"
      ]
     },
     "execution_count": 70,
     "metadata": {},
     "output_type": "execute_result"
    }
   ],
   "source": [
    "y_train[:2]"
   ]
  },
  {
   "cell_type": "code",
   "execution_count": 71,
   "metadata": {},
   "outputs": [
    {
     "data": {
      "text/plain": [
       "array([ 22.        , 370.        , 200.        ,  73.        ,\n",
       "        20.        ,  69.45454545,  19.        ,  47.5       ,\n",
       "        38.33333333,  70.        ])"
      ]
     },
     "execution_count": 71,
     "metadata": {},
     "output_type": "execute_result"
    }
   ],
   "source": [
    "#now i can get the y_predicted values\n",
    "y_predicted=model.predict(X_test)\n",
    "y_predicted[:10]"
   ]
  },
  {
   "cell_type": "code",
   "execution_count": 72,
   "metadata": {},
   "outputs": [
    {
     "data": {
      "text/html": [
       "<div>\n",
       "<style scoped>\n",
       "    .dataframe tbody tr th:only-of-type {\n",
       "        vertical-align: middle;\n",
       "    }\n",
       "\n",
       "    .dataframe tbody tr th {\n",
       "        vertical-align: top;\n",
       "    }\n",
       "\n",
       "    .dataframe thead th {\n",
       "        text-align: right;\n",
       "    }\n",
       "</style>\n",
       "<table border=\"1\" class=\"dataframe\">\n",
       "  <thead>\n",
       "    <tr style=\"text-align: right;\">\n",
       "      <th></th>\n",
       "      <th>POSTED_BY</th>\n",
       "      <th>UNDER_CONSTRUCTION</th>\n",
       "      <th>RERA</th>\n",
       "      <th>BHK_NO.</th>\n",
       "      <th>BHK_OR_RK</th>\n",
       "      <th>SQUARE_FT</th>\n",
       "      <th>READY_TO_MOVE</th>\n",
       "      <th>RESALE</th>\n",
       "      <th>ADDRESS</th>\n",
       "      <th>LONGITUDE</th>\n",
       "      <th>LATITUDE</th>\n",
       "      <th>Predicted_Price</th>\n",
       "    </tr>\n",
       "  </thead>\n",
       "  <tbody>\n",
       "    <tr>\n",
       "      <th>0</th>\n",
       "      <td>Owner</td>\n",
       "      <td>0</td>\n",
       "      <td>0</td>\n",
       "      <td>1</td>\n",
       "      <td>BHK</td>\n",
       "      <td>545.171340</td>\n",
       "      <td>1</td>\n",
       "      <td>1</td>\n",
       "      <td>Kamrej,Surat</td>\n",
       "      <td>21.262000</td>\n",
       "      <td>73.047700</td>\n",
       "      <td>22.0</td>\n",
       "    </tr>\n",
       "    <tr>\n",
       "      <th>1</th>\n",
       "      <td>Dealer</td>\n",
       "      <td>1</td>\n",
       "      <td>1</td>\n",
       "      <td>2</td>\n",
       "      <td>BHK</td>\n",
       "      <td>800.000000</td>\n",
       "      <td>0</td>\n",
       "      <td>0</td>\n",
       "      <td>Panvel,Lalitpur</td>\n",
       "      <td>18.966114</td>\n",
       "      <td>73.148278</td>\n",
       "      <td>370.0</td>\n",
       "    </tr>\n",
       "    <tr>\n",
       "      <th>2</th>\n",
       "      <td>Dealer</td>\n",
       "      <td>0</td>\n",
       "      <td>0</td>\n",
       "      <td>2</td>\n",
       "      <td>BHK</td>\n",
       "      <td>1257.096513</td>\n",
       "      <td>1</td>\n",
       "      <td>1</td>\n",
       "      <td>New Town,Kolkata</td>\n",
       "      <td>22.592200</td>\n",
       "      <td>88.484911</td>\n",
       "      <td>200.0</td>\n",
       "    </tr>\n",
       "    <tr>\n",
       "      <th>3</th>\n",
       "      <td>Dealer</td>\n",
       "      <td>0</td>\n",
       "      <td>0</td>\n",
       "      <td>3</td>\n",
       "      <td>BHK</td>\n",
       "      <td>1400.329489</td>\n",
       "      <td>1</td>\n",
       "      <td>1</td>\n",
       "      <td>Kalwar Road,Jaipur</td>\n",
       "      <td>26.988300</td>\n",
       "      <td>75.584600</td>\n",
       "      <td>73.0</td>\n",
       "    </tr>\n",
       "    <tr>\n",
       "      <th>4</th>\n",
       "      <td>Owner</td>\n",
       "      <td>0</td>\n",
       "      <td>0</td>\n",
       "      <td>1</td>\n",
       "      <td>BHK</td>\n",
       "      <td>430.477830</td>\n",
       "      <td>1</td>\n",
       "      <td>1</td>\n",
       "      <td>Mai Mandir,Nadiad</td>\n",
       "      <td>22.700000</td>\n",
       "      <td>72.870000</td>\n",
       "      <td>20.0</td>\n",
       "    </tr>\n",
       "  </tbody>\n",
       "</table>\n",
       "</div>"
      ],
      "text/plain": [
       "  POSTED_BY  UNDER_CONSTRUCTION  RERA  BHK_NO. BHK_OR_RK    SQUARE_FT  \\\n",
       "0     Owner                   0     0        1       BHK   545.171340   \n",
       "1    Dealer                   1     1        2       BHK   800.000000   \n",
       "2    Dealer                   0     0        2       BHK  1257.096513   \n",
       "3    Dealer                   0     0        3       BHK  1400.329489   \n",
       "4     Owner                   0     0        1       BHK   430.477830   \n",
       "\n",
       "   READY_TO_MOVE  RESALE             ADDRESS  LONGITUDE   LATITUDE  \\\n",
       "0              1       1        Kamrej,Surat  21.262000  73.047700   \n",
       "1              0       0     Panvel,Lalitpur  18.966114  73.148278   \n",
       "2              1       1    New Town,Kolkata  22.592200  88.484911   \n",
       "3              1       1  Kalwar Road,Jaipur  26.988300  75.584600   \n",
       "4              1       1   Mai Mandir,Nadiad  22.700000  72.870000   \n",
       "\n",
       "   Predicted_Price  \n",
       "0             22.0  \n",
       "1            370.0  \n",
       "2            200.0  \n",
       "3             73.0  \n",
       "4             20.0  "
      ]
     },
     "execution_count": 72,
     "metadata": {},
     "output_type": "execute_result"
    }
   ],
   "source": [
    "#preparing the submission predicted_prices\n",
    "test['Predicted_Price']=y_predicted\n",
    "test.head(5)"
   ]
  },
  {
   "cell_type": "code",
   "execution_count": 73,
   "metadata": {},
   "outputs": [
    {
     "data": {
      "text/plain": [
       "0     22.0\n",
       "1    370.0\n",
       "2    200.0\n",
       "3     73.0\n",
       "4     20.0\n",
       "Name: Predicted_Price, dtype: float64"
      ]
     },
     "execution_count": 73,
     "metadata": {},
     "output_type": "execute_result"
    }
   ],
   "source": [
    "sample_submission_AMLPC=test['Predicted_Price']\n",
    "sample_submission_AMLPC.head()"
   ]
  },
  {
   "cell_type": "code",
   "execution_count": 74,
   "metadata": {},
   "outputs": [],
   "source": [
    "sample_submission_AMLPC.to_csv('submission_AMLPC.csv')"
   ]
  },
  {
   "cell_type": "code",
   "execution_count": 75,
   "metadata": {},
   "outputs": [
    {
     "data": {
      "text/html": [
       "<div>\n",
       "<style scoped>\n",
       "    .dataframe tbody tr th:only-of-type {\n",
       "        vertical-align: middle;\n",
       "    }\n",
       "\n",
       "    .dataframe tbody tr th {\n",
       "        vertical-align: top;\n",
       "    }\n",
       "\n",
       "    .dataframe thead th {\n",
       "        text-align: right;\n",
       "    }\n",
       "</style>\n",
       "<table border=\"1\" class=\"dataframe\">\n",
       "  <thead>\n",
       "    <tr style=\"text-align: right;\">\n",
       "      <th></th>\n",
       "      <th>UNDER_CONSTRUCTION</th>\n",
       "      <th>RERA</th>\n",
       "      <th>BHK_NO.</th>\n",
       "      <th>SQUARE_FT</th>\n",
       "      <th>READY_TO_MOVE</th>\n",
       "      <th>RESALE</th>\n",
       "      <th>ADDRESS</th>\n",
       "    </tr>\n",
       "  </thead>\n",
       "  <tbody>\n",
       "    <tr>\n",
       "      <th>0</th>\n",
       "      <td>0</td>\n",
       "      <td>0</td>\n",
       "      <td>3</td>\n",
       "      <td>1282.568807</td>\n",
       "      <td>1</td>\n",
       "      <td>1</td>\n",
       "      <td>0</td>\n",
       "    </tr>\n",
       "    <tr>\n",
       "      <th>1</th>\n",
       "      <td>0</td>\n",
       "      <td>0</td>\n",
       "      <td>2</td>\n",
       "      <td>1200.087279</td>\n",
       "      <td>1</td>\n",
       "      <td>1</td>\n",
       "      <td>0</td>\n",
       "    </tr>\n",
       "  </tbody>\n",
       "</table>\n",
       "</div>"
      ],
      "text/plain": [
       "   UNDER_CONSTRUCTION  RERA  BHK_NO.    SQUARE_FT  READY_TO_MOVE  RESALE  \\\n",
       "0                   0     0        3  1282.568807              1       1   \n",
       "1                   0     0        2  1200.087279              1       1   \n",
       "\n",
       "   ADDRESS  \n",
       "0        0  \n",
       "1        0  "
      ]
     },
     "execution_count": 75,
     "metadata": {},
     "output_type": "execute_result"
    }
   ],
   "source": [
    "#one more last thing is to save my model\n",
    "X_train.head(2)"
   ]
  },
  {
   "cell_type": "code",
   "execution_count": 85,
   "metadata": {},
   "outputs": [
    {
     "data": {
      "text/plain": [
       "array([260.])"
      ]
     },
     "execution_count": 85,
     "metadata": {},
     "output_type": "execute_result"
    }
   ],
   "source": [
    "model.predict([[0,0,3,3000,1,1,78]])"
   ]
  },
  {
   "cell_type": "code",
   "execution_count": 86,
   "metadata": {},
   "outputs": [],
   "source": [
    "#saving the model\n",
    "import pickle\n",
    "with open('advanced_ml_pp_chl_model.pickle','wb') as f:\n",
    "    pickle.dump(model,f)"
   ]
  },
  {
   "cell_type": "code",
   "execution_count": null,
   "metadata": {},
   "outputs": [],
   "source": []
  }
 ],
 "metadata": {
  "kernelspec": {
   "display_name": "Python 3",
   "language": "python",
   "name": "python3"
  },
  "language_info": {
   "codemirror_mode": {
    "name": "ipython",
    "version": 3
   },
   "file_extension": ".py",
   "mimetype": "text/x-python",
   "name": "python",
   "nbconvert_exporter": "python",
   "pygments_lexer": "ipython3",
   "version": "3.8.5"
  }
 },
 "nbformat": 4,
 "nbformat_minor": 4
}
