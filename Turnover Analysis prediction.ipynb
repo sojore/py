{
 "cells": [
  {
   "cell_type": "code",
   "execution_count": 1,
   "metadata": {},
   "outputs": [],
   "source": [
    "# Tasks..developing a model for predicting turnover events"
   ]
  },
  {
   "cell_type": "code",
   "execution_count": 2,
   "metadata": {},
   "outputs": [],
   "source": [
    "#importing important libraries\n",
    "import pandas as pd\n",
    "import numpy as np\n",
    "import matplotlib.pyplot as plt\n",
    "import matplotlib\n",
    "matplotlib.rcParams['figure.figsize']=(20,15)"
   ]
  },
  {
   "cell_type": "code",
   "execution_count": 3,
   "metadata": {},
   "outputs": [
    {
     "data": {
      "text/html": [
       "<div>\n",
       "<style scoped>\n",
       "    .dataframe tbody tr th:only-of-type {\n",
       "        vertical-align: middle;\n",
       "    }\n",
       "\n",
       "    .dataframe tbody tr th {\n",
       "        vertical-align: top;\n",
       "    }\n",
       "\n",
       "    .dataframe thead th {\n",
       "        text-align: right;\n",
       "    }\n",
       "</style>\n",
       "<table border=\"1\" class=\"dataframe\">\n",
       "  <thead>\n",
       "    <tr style=\"text-align: right;\">\n",
       "      <th></th>\n",
       "      <th>stag</th>\n",
       "      <th>event</th>\n",
       "      <th>gender</th>\n",
       "      <th>age</th>\n",
       "      <th>industry</th>\n",
       "      <th>profession</th>\n",
       "      <th>traffic</th>\n",
       "      <th>coach</th>\n",
       "      <th>head_gender</th>\n",
       "      <th>greywage</th>\n",
       "      <th>way</th>\n",
       "      <th>extraversion</th>\n",
       "      <th>independ</th>\n",
       "      <th>selfcontrol</th>\n",
       "      <th>anxiety</th>\n",
       "      <th>novator</th>\n",
       "    </tr>\n",
       "  </thead>\n",
       "  <tbody>\n",
       "    <tr>\n",
       "      <th>0</th>\n",
       "      <td>7.030801</td>\n",
       "      <td>1</td>\n",
       "      <td>m</td>\n",
       "      <td>35.0</td>\n",
       "      <td>Banks</td>\n",
       "      <td>HR</td>\n",
       "      <td>rabrecNErab</td>\n",
       "      <td>no</td>\n",
       "      <td>f</td>\n",
       "      <td>white</td>\n",
       "      <td>bus</td>\n",
       "      <td>6.2</td>\n",
       "      <td>4.1</td>\n",
       "      <td>5.7</td>\n",
       "      <td>7.1</td>\n",
       "      <td>8.3</td>\n",
       "    </tr>\n",
       "    <tr>\n",
       "      <th>1</th>\n",
       "      <td>22.965092</td>\n",
       "      <td>1</td>\n",
       "      <td>m</td>\n",
       "      <td>33.0</td>\n",
       "      <td>Banks</td>\n",
       "      <td>HR</td>\n",
       "      <td>empjs</td>\n",
       "      <td>no</td>\n",
       "      <td>m</td>\n",
       "      <td>white</td>\n",
       "      <td>bus</td>\n",
       "      <td>6.2</td>\n",
       "      <td>4.1</td>\n",
       "      <td>5.7</td>\n",
       "      <td>7.1</td>\n",
       "      <td>8.3</td>\n",
       "    </tr>\n",
       "    <tr>\n",
       "      <th>2</th>\n",
       "      <td>15.934292</td>\n",
       "      <td>1</td>\n",
       "      <td>f</td>\n",
       "      <td>35.0</td>\n",
       "      <td>PowerGeneration</td>\n",
       "      <td>HR</td>\n",
       "      <td>rabrecNErab</td>\n",
       "      <td>no</td>\n",
       "      <td>m</td>\n",
       "      <td>white</td>\n",
       "      <td>bus</td>\n",
       "      <td>6.2</td>\n",
       "      <td>6.2</td>\n",
       "      <td>2.6</td>\n",
       "      <td>4.8</td>\n",
       "      <td>8.3</td>\n",
       "    </tr>\n",
       "    <tr>\n",
       "      <th>3</th>\n",
       "      <td>15.934292</td>\n",
       "      <td>1</td>\n",
       "      <td>f</td>\n",
       "      <td>35.0</td>\n",
       "      <td>PowerGeneration</td>\n",
       "      <td>HR</td>\n",
       "      <td>rabrecNErab</td>\n",
       "      <td>no</td>\n",
       "      <td>m</td>\n",
       "      <td>white</td>\n",
       "      <td>bus</td>\n",
       "      <td>5.4</td>\n",
       "      <td>7.6</td>\n",
       "      <td>4.9</td>\n",
       "      <td>2.5</td>\n",
       "      <td>6.7</td>\n",
       "    </tr>\n",
       "    <tr>\n",
       "      <th>4</th>\n",
       "      <td>8.410678</td>\n",
       "      <td>1</td>\n",
       "      <td>m</td>\n",
       "      <td>32.0</td>\n",
       "      <td>Retail</td>\n",
       "      <td>Commercial</td>\n",
       "      <td>youjs</td>\n",
       "      <td>yes</td>\n",
       "      <td>f</td>\n",
       "      <td>white</td>\n",
       "      <td>bus</td>\n",
       "      <td>3.0</td>\n",
       "      <td>4.1</td>\n",
       "      <td>8.0</td>\n",
       "      <td>7.1</td>\n",
       "      <td>3.7</td>\n",
       "    </tr>\n",
       "  </tbody>\n",
       "</table>\n",
       "</div>"
      ],
      "text/plain": [
       "        stag  event gender   age         industry  profession      traffic  \\\n",
       "0   7.030801      1      m  35.0            Banks          HR  rabrecNErab   \n",
       "1  22.965092      1      m  33.0            Banks          HR        empjs   \n",
       "2  15.934292      1      f  35.0  PowerGeneration          HR  rabrecNErab   \n",
       "3  15.934292      1      f  35.0  PowerGeneration          HR  rabrecNErab   \n",
       "4   8.410678      1      m  32.0           Retail  Commercial        youjs   \n",
       "\n",
       "  coach head_gender greywage  way  extraversion  independ  selfcontrol  \\\n",
       "0    no           f    white  bus           6.2       4.1          5.7   \n",
       "1    no           m    white  bus           6.2       4.1          5.7   \n",
       "2    no           m    white  bus           6.2       6.2          2.6   \n",
       "3    no           m    white  bus           5.4       7.6          4.9   \n",
       "4   yes           f    white  bus           3.0       4.1          8.0   \n",
       "\n",
       "   anxiety  novator  \n",
       "0      7.1      8.3  \n",
       "1      7.1      8.3  \n",
       "2      4.8      8.3  \n",
       "3      2.5      6.7  \n",
       "4      7.1      3.7  "
      ]
     },
     "execution_count": 3,
     "metadata": {},
     "output_type": "execute_result"
    }
   ],
   "source": [
    "#loading the dataset\n",
    "df=pd.read_csv('C://users/sojore/Downloads/EDITS/turnover analysis/turnover.csv')\n",
    "df.head()"
   ]
  },
  {
   "cell_type": "code",
   "execution_count": 6,
   "metadata": {},
   "outputs": [
    {
     "data": {
      "text/plain": [
       "industry\n",
       "Retail             289\n",
       "manufacture        145\n",
       "IT                 122\n",
       "Banks              114\n",
       "etc                 94\n",
       "Consult             74\n",
       "State               55\n",
       "Building            41\n",
       "transport           38\n",
       "PowerGeneration     38\n",
       "Telecom             36\n",
       "Mining              24\n",
       "Pharma              20\n",
       "Agriculture         15\n",
       "RealEstate          13\n",
       " HoReCa             11\n",
       "Name: industry, dtype: int64"
      ]
     },
     "execution_count": 6,
     "metadata": {},
     "output_type": "execute_result"
    }
   ],
   "source": [
    "#exploring the dataset\n",
    "df.groupby('industry')['industry'].agg('count').sort_values(ascending=False)"
   ]
  },
  {
   "cell_type": "code",
   "execution_count": 7,
   "metadata": {},
   "outputs": [
    {
     "data": {
      "text/plain": [
       "stag            0\n",
       "event           0\n",
       "gender          0\n",
       "age             0\n",
       "industry        0\n",
       "profession      0\n",
       "traffic         0\n",
       "coach           0\n",
       "head_gender     0\n",
       "greywage        0\n",
       "way             0\n",
       "extraversion    0\n",
       "independ        0\n",
       "selfcontrol     0\n",
       "anxiety         0\n",
       "novator         0\n",
       "dtype: int64"
      ]
     },
     "execution_count": 7,
     "metadata": {},
     "output_type": "execute_result"
    }
   ],
   "source": [
    "df.isna().sum()"
   ]
  },
  {
   "cell_type": "code",
   "execution_count": 9,
   "metadata": {},
   "outputs": [
    {
     "data": {
      "text/plain": [
       "stag            float64\n",
       "event             int64\n",
       "gender           object\n",
       "age             float64\n",
       "industry         object\n",
       "profession       object\n",
       "traffic          object\n",
       "coach            object\n",
       "head_gender      object\n",
       "greywage         object\n",
       "way              object\n",
       "extraversion    float64\n",
       "independ        float64\n",
       "selfcontrol     float64\n",
       "anxiety         float64\n",
       "novator         float64\n",
       "dtype: object"
      ]
     },
     "execution_count": 9,
     "metadata": {},
     "output_type": "execute_result"
    }
   ],
   "source": [
    "#no missing vals \n",
    "df.dtypes"
   ]
  },
  {
   "cell_type": "code",
   "execution_count": 10,
   "metadata": {},
   "outputs": [
    {
     "data": {
      "text/html": [
       "<div>\n",
       "<style scoped>\n",
       "    .dataframe tbody tr th:only-of-type {\n",
       "        vertical-align: middle;\n",
       "    }\n",
       "\n",
       "    .dataframe tbody tr th {\n",
       "        vertical-align: top;\n",
       "    }\n",
       "\n",
       "    .dataframe thead th {\n",
       "        text-align: right;\n",
       "    }\n",
       "</style>\n",
       "<table border=\"1\" class=\"dataframe\">\n",
       "  <thead>\n",
       "    <tr style=\"text-align: right;\">\n",
       "      <th></th>\n",
       "      <th>stag</th>\n",
       "      <th>event</th>\n",
       "      <th>gender</th>\n",
       "      <th>age</th>\n",
       "      <th>industry</th>\n",
       "      <th>profession</th>\n",
       "      <th>traffic</th>\n",
       "      <th>coach</th>\n",
       "      <th>head_gender</th>\n",
       "      <th>greywage</th>\n",
       "      <th>way</th>\n",
       "      <th>extraversion</th>\n",
       "      <th>independ</th>\n",
       "      <th>selfcontrol</th>\n",
       "      <th>anxiety</th>\n",
       "      <th>novator</th>\n",
       "    </tr>\n",
       "  </thead>\n",
       "  <tbody>\n",
       "    <tr>\n",
       "      <th>155</th>\n",
       "      <td>8.772074</td>\n",
       "      <td>1</td>\n",
       "      <td>f</td>\n",
       "      <td>27.0</td>\n",
       "      <td>Retail</td>\n",
       "      <td>HR</td>\n",
       "      <td>rabrecNErab</td>\n",
       "      <td>my head</td>\n",
       "      <td>f</td>\n",
       "      <td>white</td>\n",
       "      <td>car</td>\n",
       "      <td>6.2</td>\n",
       "      <td>4.8</td>\n",
       "      <td>6.4</td>\n",
       "      <td>6.3</td>\n",
       "      <td>2.9</td>\n",
       "    </tr>\n",
       "    <tr>\n",
       "      <th>660</th>\n",
       "      <td>96.591376</td>\n",
       "      <td>0</td>\n",
       "      <td>f</td>\n",
       "      <td>46.0</td>\n",
       "      <td>etc</td>\n",
       "      <td>Marketing</td>\n",
       "      <td>friends</td>\n",
       "      <td>no</td>\n",
       "      <td>m</td>\n",
       "      <td>white</td>\n",
       "      <td>bus</td>\n",
       "      <td>4.6</td>\n",
       "      <td>8.4</td>\n",
       "      <td>4.9</td>\n",
       "      <td>7.9</td>\n",
       "      <td>6.0</td>\n",
       "    </tr>\n",
       "  </tbody>\n",
       "</table>\n",
       "</div>"
      ],
      "text/plain": [
       "          stag  event gender   age industry profession      traffic    coach  \\\n",
       "155   8.772074      1      f  27.0   Retail         HR  rabrecNErab  my head   \n",
       "660  96.591376      0      f  46.0      etc  Marketing      friends       no   \n",
       "\n",
       "    head_gender greywage  way  extraversion  independ  selfcontrol  anxiety  \\\n",
       "155           f    white  car           6.2       4.8          6.4      6.3   \n",
       "660           m    white  bus           4.6       8.4          4.9      7.9   \n",
       "\n",
       "     novator  \n",
       "155      2.9  \n",
       "660      6.0  "
      ]
     },
     "execution_count": 10,
     "metadata": {},
     "output_type": "execute_result"
    }
   ],
   "source": [
    "df.sample(2)"
   ]
  },
  {
   "cell_type": "code",
   "execution_count": 13,
   "metadata": {},
   "outputs": [
    {
     "data": {
      "text/html": [
       "<div>\n",
       "<style scoped>\n",
       "    .dataframe tbody tr th:only-of-type {\n",
       "        vertical-align: middle;\n",
       "    }\n",
       "\n",
       "    .dataframe tbody tr th {\n",
       "        vertical-align: top;\n",
       "    }\n",
       "\n",
       "    .dataframe thead th {\n",
       "        text-align: right;\n",
       "    }\n",
       "</style>\n",
       "<table border=\"1\" class=\"dataframe\">\n",
       "  <thead>\n",
       "    <tr style=\"text-align: right;\">\n",
       "      <th></th>\n",
       "      <th>stag</th>\n",
       "      <th>event</th>\n",
       "      <th>gender</th>\n",
       "      <th>age</th>\n",
       "      <th>industry</th>\n",
       "      <th>profession</th>\n",
       "      <th>traffic</th>\n",
       "      <th>coach</th>\n",
       "      <th>head_gender</th>\n",
       "      <th>greywage</th>\n",
       "      <th>...</th>\n",
       "      <th>selfcontrol</th>\n",
       "      <th>anxiety</th>\n",
       "      <th>novator</th>\n",
       "      <th>stag2</th>\n",
       "      <th>age2</th>\n",
       "      <th>extraversion2</th>\n",
       "      <th>independ2</th>\n",
       "      <th>selfcontrol2</th>\n",
       "      <th>anxiety2</th>\n",
       "      <th>novator2</th>\n",
       "    </tr>\n",
       "  </thead>\n",
       "  <tbody>\n",
       "    <tr>\n",
       "      <th>0</th>\n",
       "      <td>7.030801</td>\n",
       "      <td>1</td>\n",
       "      <td>m</td>\n",
       "      <td>35.0</td>\n",
       "      <td>Banks</td>\n",
       "      <td>HR</td>\n",
       "      <td>rabrecNErab</td>\n",
       "      <td>no</td>\n",
       "      <td>f</td>\n",
       "      <td>white</td>\n",
       "      <td>...</td>\n",
       "      <td>5.7</td>\n",
       "      <td>7.1</td>\n",
       "      <td>8.3</td>\n",
       "      <td>49.432160</td>\n",
       "      <td>1225.0</td>\n",
       "      <td>38.44</td>\n",
       "      <td>16.81</td>\n",
       "      <td>32.49</td>\n",
       "      <td>50.41</td>\n",
       "      <td>68.89</td>\n",
       "    </tr>\n",
       "    <tr>\n",
       "      <th>1</th>\n",
       "      <td>22.965092</td>\n",
       "      <td>1</td>\n",
       "      <td>m</td>\n",
       "      <td>33.0</td>\n",
       "      <td>Banks</td>\n",
       "      <td>HR</td>\n",
       "      <td>empjs</td>\n",
       "      <td>no</td>\n",
       "      <td>m</td>\n",
       "      <td>white</td>\n",
       "      <td>...</td>\n",
       "      <td>5.7</td>\n",
       "      <td>7.1</td>\n",
       "      <td>8.3</td>\n",
       "      <td>527.395469</td>\n",
       "      <td>1089.0</td>\n",
       "      <td>38.44</td>\n",
       "      <td>16.81</td>\n",
       "      <td>32.49</td>\n",
       "      <td>50.41</td>\n",
       "      <td>68.89</td>\n",
       "    </tr>\n",
       "    <tr>\n",
       "      <th>2</th>\n",
       "      <td>15.934292</td>\n",
       "      <td>1</td>\n",
       "      <td>f</td>\n",
       "      <td>35.0</td>\n",
       "      <td>PowerGeneration</td>\n",
       "      <td>HR</td>\n",
       "      <td>rabrecNErab</td>\n",
       "      <td>no</td>\n",
       "      <td>m</td>\n",
       "      <td>white</td>\n",
       "      <td>...</td>\n",
       "      <td>2.6</td>\n",
       "      <td>4.8</td>\n",
       "      <td>8.3</td>\n",
       "      <td>253.901648</td>\n",
       "      <td>1225.0</td>\n",
       "      <td>38.44</td>\n",
       "      <td>38.44</td>\n",
       "      <td>6.76</td>\n",
       "      <td>23.04</td>\n",
       "      <td>68.89</td>\n",
       "    </tr>\n",
       "  </tbody>\n",
       "</table>\n",
       "<p>3 rows × 23 columns</p>\n",
       "</div>"
      ],
      "text/plain": [
       "        stag  event gender   age         industry profession      traffic  \\\n",
       "0   7.030801      1      m  35.0            Banks         HR  rabrecNErab   \n",
       "1  22.965092      1      m  33.0            Banks         HR        empjs   \n",
       "2  15.934292      1      f  35.0  PowerGeneration         HR  rabrecNErab   \n",
       "\n",
       "  coach head_gender greywage  ... selfcontrol  anxiety  novator       stag2  \\\n",
       "0    no           f    white  ...         5.7      7.1      8.3   49.432160   \n",
       "1    no           m    white  ...         5.7      7.1      8.3  527.395469   \n",
       "2    no           m    white  ...         2.6      4.8      8.3  253.901648   \n",
       "\n",
       "     age2  extraversion2  independ2  selfcontrol2  anxiety2  novator2  \n",
       "0  1225.0          38.44      16.81         32.49     50.41     68.89  \n",
       "1  1089.0          38.44      16.81         32.49     50.41     68.89  \n",
       "2  1225.0          38.44      38.44          6.76     23.04     68.89  \n",
       "\n",
       "[3 rows x 23 columns]"
      ]
     },
     "execution_count": 13,
     "metadata": {},
     "output_type": "execute_result"
    }
   ],
   "source": [
    "#outlier handling and detection\n",
    "df['stag2']=df['stag']**2\n",
    "df['age2']=df['age']**2\n",
    "df['extraversion2']=df['extraversion']**2\n",
    "df['independ2']=df['independ']**2\n",
    "df['selfcontrol2']=df['selfcontrol']**2\n",
    "df['anxiety2']=df['anxiety']**2\n",
    "df['novator2']=df['novator']**2\n",
    "df.head(3)"
   ]
  },
  {
   "cell_type": "code",
   "execution_count": 20,
   "metadata": {},
   "outputs": [
    {
     "data": {
      "text/plain": [
       "(1106, 23)"
      ]
     },
     "execution_count": 20,
     "metadata": {},
     "output_type": "execute_result"
    }
   ],
   "source": [
    "df1=df.copy()\n",
    "#using quantile function to detect and filter outliers\n",
    "ll1=df1.stag2.quantile(0.01)\n",
    "ul1=df1.stag2.quantile(0.99)\n",
    "df1[(df1.stag2<=ll1) | (df1.stag2>=ul1)]\n",
    "df2=df1[(df1.stag2>=ll1) & (df1.stag2<=ul1)]\n",
    "df2.shape"
   ]
  },
  {
   "cell_type": "code",
   "execution_count": 23,
   "metadata": {},
   "outputs": [
    {
     "data": {
      "text/plain": [
       "(1079, 23)"
      ]
     },
     "execution_count": 23,
     "metadata": {},
     "output_type": "execute_result"
    }
   ],
   "source": [
    "ll2=df2.age2.quantile(0.01)\n",
    "ul2=df2.age2.quantile(0.99)\n",
    "df2[(df2.age2<=ll2) | (df2.age2>=ul2)].shape\n",
    "df3=df2[(df2.age2>ll2) & (df2.age2<ul2)]\n",
    "df3.shape"
   ]
  },
  {
   "cell_type": "code",
   "execution_count": 26,
   "metadata": {},
   "outputs": [
    {
     "data": {
      "text/plain": [
       "(1019, 23)"
      ]
     },
     "execution_count": 26,
     "metadata": {},
     "output_type": "execute_result"
    }
   ],
   "source": [
    "ll3=df3.extraversion2.quantile(0.01)\n",
    "ul3=df3.extraversion2.quantile(0.99)\n",
    "df3[(df3.extraversion2<=ll3) | (df3.extraversion2>=ul3)].shape\n",
    "df4=df3[(df3.extraversion2>ll3) & (df3.extraversion2<ul3)]\n",
    "df4.shape"
   ]
  },
  {
   "cell_type": "code",
   "execution_count": 31,
   "metadata": {},
   "outputs": [
    {
     "data": {
      "text/plain": [
       "(966, 23)"
      ]
     },
     "execution_count": 31,
     "metadata": {},
     "output_type": "execute_result"
    }
   ],
   "source": [
    "ll4=df4.independ2.quantile(0.01)\n",
    "ul4=df4.independ2.quantile(0.99)\n",
    "df4[(df4.independ2<=ll4) | (df4.independ2>=ul4)].shape\n",
    "df5=df4[(df4.independ2>ll4) & (df4.independ2<ul4)]\n",
    "df5.shape"
   ]
  },
  {
   "cell_type": "code",
   "execution_count": 34,
   "metadata": {},
   "outputs": [
    {
     "data": {
      "text/plain": [
       "(929, 23)"
      ]
     },
     "execution_count": 34,
     "metadata": {},
     "output_type": "execute_result"
    }
   ],
   "source": [
    "ll5=df5.selfcontrol2.quantile(0.01)\n",
    "ul5=df5.selfcontrol2.quantile(0.99)\n",
    "df5[(df5.selfcontrol2<=ll5) | (df5.selfcontrol2>=ul5)].shape\n",
    "df6=df5[(df5.selfcontrol2>ll5) & (df5.selfcontrol2<ul5)]\n",
    "df6.shape"
   ]
  },
  {
   "cell_type": "code",
   "execution_count": 37,
   "metadata": {},
   "outputs": [
    {
     "data": {
      "text/plain": [
       "(868, 23)"
      ]
     },
     "execution_count": 37,
     "metadata": {},
     "output_type": "execute_result"
    }
   ],
   "source": [
    "ll6=df6.anxiety2.quantile(0.01)\n",
    "ul6=df6.anxiety2.quantile(0.99)\n",
    "df6[(df6.anxiety2<=ll6) | (df6.anxiety2>=ul6)].shape\n",
    "df7=df6[(df6.anxiety2>ll6) & (df6.anxiety2<ul6)]\n",
    "df7.shape"
   ]
  },
  {
   "cell_type": "code",
   "execution_count": 39,
   "metadata": {},
   "outputs": [
    {
     "data": {
      "text/plain": [
       "(846, 23)"
      ]
     },
     "execution_count": 39,
     "metadata": {},
     "output_type": "execute_result"
    }
   ],
   "source": [
    "ll7=df7.novator2.quantile(0.01)\n",
    "ul7=df7.novator2.quantile(0.99)\n",
    "df7[(df7.novator2<=ll7) | (df7.novator2>ul7)].shape\n",
    "df8=df7[(df7.novator2>ll7) & (df7.novator2<ul7)]\n",
    "df8.shape"
   ]
  },
  {
   "cell_type": "code",
   "execution_count": 42,
   "metadata": {},
   "outputs": [
    {
     "data": {
      "text/plain": [
       "(826, 23)"
      ]
     },
     "execution_count": 42,
     "metadata": {},
     "output_type": "execute_result"
    }
   ],
   "source": [
    "ll8=df8.stag.quantile(0.01)\n",
    "ul8=df8.stag.quantile(0.99)\n",
    "df8[(df8.stag<=ll8) | (df8.stag>=ul8)].shape\n",
    "df9=df8[(df8.stag>ll8) & (df8.stag<ul8)]\n",
    "df9.shape"
   ]
  },
  {
   "cell_type": "code",
   "execution_count": 44,
   "metadata": {},
   "outputs": [
    {
     "data": {
      "text/plain": [
       "(810, 23)"
      ]
     },
     "execution_count": 44,
     "metadata": {},
     "output_type": "execute_result"
    }
   ],
   "source": [
    "ll9=df9.age.quantile(0.01)\n",
    "ul9=df9.age.quantile(0.99)\n",
    "df9[(df9.age<=ll9) | (df9.age>=ul9)].shape\n",
    "df10=df9[(df9.age>ll8) & (df9.age<ul9)]\n",
    "df10.shape"
   ]
  },
  {
   "cell_type": "code",
   "execution_count": 46,
   "metadata": {},
   "outputs": [
    {
     "data": {
      "text/plain": [
       "(744, 23)"
      ]
     },
     "execution_count": 46,
     "metadata": {},
     "output_type": "execute_result"
    }
   ],
   "source": [
    "ll10=df10.extraversion.quantile(0.01)\n",
    "ul10=df10.extraversion.quantile(0.99)\n",
    "df10[(df10.extraversion<=ll10) | (df10.extraversion>=ul10)].shape\n",
    "df11=df10[(df10.extraversion>ll10) & (df10.extraversion<ul10)]\n",
    "df11.shape"
   ]
  },
  {
   "cell_type": "code",
   "execution_count": 50,
   "metadata": {},
   "outputs": [
    {
     "data": {
      "text/plain": [
       "(676, 23)"
      ]
     },
     "execution_count": 50,
     "metadata": {},
     "output_type": "execute_result"
    }
   ],
   "source": [
    "ll11=df11.independ.quantile(0.001)\n",
    "ul11=df11.independ.quantile(0.999)\n",
    "df11[(df11.independ<=ll11) | (df11.independ>=ul11)].shape\n",
    "df12=df11[(df11.independ>ll11) & (df11.independ<ul11)]\n",
    "df12.shape"
   ]
  },
  {
   "cell_type": "code",
   "execution_count": 54,
   "metadata": {},
   "outputs": [
    {
     "data": {
      "text/plain": [
       "(624, 23)"
      ]
     },
     "execution_count": 54,
     "metadata": {},
     "output_type": "execute_result"
    }
   ],
   "source": [
    "ll12=df12.selfcontrol.quantile(0.01)\n",
    "ul12=df12.selfcontrol.quantile(0.99)\n",
    "df12[(df12.selfcontrol<=ll12) | (df12.selfcontrol>=ul12)].shape\n",
    "df13=df12[(df12.selfcontrol>ll12) & (df12.selfcontrol<ul12)]\n",
    "df13.shape"
   ]
  },
  {
   "cell_type": "code",
   "execution_count": 56,
   "metadata": {},
   "outputs": [
    {
     "data": {
      "text/plain": [
       "(543, 23)"
      ]
     },
     "execution_count": 56,
     "metadata": {},
     "output_type": "execute_result"
    }
   ],
   "source": [
    "ll13=df13.anxiety.quantile(0.01)\n",
    "ul13=df13.anxiety.quantile(0.99)\n",
    "df13[(df13.anxiety<=ll13) | (df13.anxiety>=ul13)].shape\n",
    "df14=df13[(df13.anxiety>ll13) & (df13.anxiety<ul13)]\n",
    "df14.shape"
   ]
  },
  {
   "cell_type": "code",
   "execution_count": 58,
   "metadata": {},
   "outputs": [
    {
     "data": {
      "text/plain": [
       "(507, 23)"
      ]
     },
     "execution_count": 58,
     "metadata": {},
     "output_type": "execute_result"
    }
   ],
   "source": [
    "ll14=df14.novator.quantile(0.01)\n",
    "ul14=df14.novator.quantile(0.99)\n",
    "df14[(df14.novator<=ll14) | (df14.novator>=ul14)].shape\n",
    "df15=df14[(df14.novator>ll14) & (df14.novator<ul14)]\n",
    "df15.shape"
   ]
  },
  {
   "cell_type": "code",
   "execution_count": 63,
   "metadata": {},
   "outputs": [
    {
     "data": {
      "text/html": [
       "<div>\n",
       "<style scoped>\n",
       "    .dataframe tbody tr th:only-of-type {\n",
       "        vertical-align: middle;\n",
       "    }\n",
       "\n",
       "    .dataframe tbody tr th {\n",
       "        vertical-align: top;\n",
       "    }\n",
       "\n",
       "    .dataframe thead th {\n",
       "        text-align: right;\n",
       "    }\n",
       "</style>\n",
       "<table border=\"1\" class=\"dataframe\">\n",
       "  <thead>\n",
       "    <tr style=\"text-align: right;\">\n",
       "      <th></th>\n",
       "      <th>stag</th>\n",
       "      <th>event</th>\n",
       "      <th>gender</th>\n",
       "      <th>age</th>\n",
       "      <th>industry</th>\n",
       "      <th>profession</th>\n",
       "      <th>traffic</th>\n",
       "      <th>coach</th>\n",
       "      <th>greywage</th>\n",
       "      <th>way</th>\n",
       "      <th>extraversion</th>\n",
       "      <th>independ</th>\n",
       "      <th>selfcontrol</th>\n",
       "      <th>anxiety</th>\n",
       "      <th>novator</th>\n",
       "    </tr>\n",
       "  </thead>\n",
       "  <tbody>\n",
       "    <tr>\n",
       "      <th>214</th>\n",
       "      <td>63.112936</td>\n",
       "      <td>1</td>\n",
       "      <td>m</td>\n",
       "      <td>32.0</td>\n",
       "      <td>Mining</td>\n",
       "      <td>Law</td>\n",
       "      <td>rabrecNErab</td>\n",
       "      <td>no</td>\n",
       "      <td>white</td>\n",
       "      <td>bus</td>\n",
       "      <td>3.0</td>\n",
       "      <td>4.8</td>\n",
       "      <td>4.1</td>\n",
       "      <td>7.1</td>\n",
       "      <td>7.5</td>\n",
       "    </tr>\n",
       "    <tr>\n",
       "      <th>96</th>\n",
       "      <td>3.351129</td>\n",
       "      <td>1</td>\n",
       "      <td>f</td>\n",
       "      <td>24.0</td>\n",
       "      <td>Consult</td>\n",
       "      <td>HR</td>\n",
       "      <td>youjs</td>\n",
       "      <td>no</td>\n",
       "      <td>white</td>\n",
       "      <td>bus</td>\n",
       "      <td>4.6</td>\n",
       "      <td>6.9</td>\n",
       "      <td>5.7</td>\n",
       "      <td>5.6</td>\n",
       "      <td>2.9</td>\n",
       "    </tr>\n",
       "    <tr>\n",
       "      <th>667</th>\n",
       "      <td>9.264887</td>\n",
       "      <td>1</td>\n",
       "      <td>f</td>\n",
       "      <td>23.0</td>\n",
       "      <td>Retail</td>\n",
       "      <td>HR</td>\n",
       "      <td>youjs</td>\n",
       "      <td>no</td>\n",
       "      <td>white</td>\n",
       "      <td>bus</td>\n",
       "      <td>7.0</td>\n",
       "      <td>5.5</td>\n",
       "      <td>3.3</td>\n",
       "      <td>4.8</td>\n",
       "      <td>6.7</td>\n",
       "    </tr>\n",
       "  </tbody>\n",
       "</table>\n",
       "</div>"
      ],
      "text/plain": [
       "          stag  event gender   age industry profession      traffic coach  \\\n",
       "214  63.112936      1      m  32.0   Mining        Law  rabrecNErab    no   \n",
       "96    3.351129      1      f  24.0  Consult         HR        youjs    no   \n",
       "667   9.264887      1      f  23.0   Retail         HR        youjs    no   \n",
       "\n",
       "    greywage  way  extraversion  independ  selfcontrol  anxiety  novator  \n",
       "214    white  bus           3.0       4.8          4.1      7.1      7.5  \n",
       "96     white  bus           4.6       6.9          5.7      5.6      2.9  \n",
       "667    white  bus           7.0       5.5          3.3      4.8      6.7  "
      ]
     },
     "execution_count": 63,
     "metadata": {},
     "output_type": "execute_result"
    }
   ],
   "source": [
    "#dropping unneccesary columns\n",
    "df16=df15.drop(['stag2','age2','extraversion2','independ2','selfcontrol2','anxiety2','novator2','head_gender'],axis='columns')\n",
    "df16.sample(3)"
   ]
  },
  {
   "cell_type": "code",
   "execution_count": 73,
   "metadata": {},
   "outputs": [
    {
     "data": {
      "text/plain": [
       "array(['bus', 'car', 'foot'], dtype=object)"
      ]
     },
     "execution_count": 73,
     "metadata": {},
     "output_type": "execute_result"
    }
   ],
   "source": [
    "df16.way.unique()"
   ]
  },
  {
   "cell_type": "code",
   "execution_count": 80,
   "metadata": {},
   "outputs": [
    {
     "data": {
      "text/html": [
       "<div>\n",
       "<style scoped>\n",
       "    .dataframe tbody tr th:only-of-type {\n",
       "        vertical-align: middle;\n",
       "    }\n",
       "\n",
       "    .dataframe tbody tr th {\n",
       "        vertical-align: top;\n",
       "    }\n",
       "\n",
       "    .dataframe thead th {\n",
       "        text-align: right;\n",
       "    }\n",
       "</style>\n",
       "<table border=\"1\" class=\"dataframe\">\n",
       "  <thead>\n",
       "    <tr style=\"text-align: right;\">\n",
       "      <th></th>\n",
       "      <th>stag</th>\n",
       "      <th>event</th>\n",
       "      <th>gender</th>\n",
       "      <th>age</th>\n",
       "      <th>industry</th>\n",
       "      <th>profession</th>\n",
       "      <th>traffic</th>\n",
       "      <th>coach</th>\n",
       "      <th>greywage</th>\n",
       "      <th>way</th>\n",
       "      <th>extraversion</th>\n",
       "      <th>independ</th>\n",
       "      <th>selfcontrol</th>\n",
       "      <th>anxiety</th>\n",
       "      <th>novator</th>\n",
       "    </tr>\n",
       "  </thead>\n",
       "  <tbody>\n",
       "    <tr>\n",
       "      <th>0</th>\n",
       "      <td>7.030801</td>\n",
       "      <td>1</td>\n",
       "      <td>1</td>\n",
       "      <td>35.0</td>\n",
       "      <td>Banks</td>\n",
       "      <td>HR</td>\n",
       "      <td>rabrecNErab</td>\n",
       "      <td>0</td>\n",
       "      <td>1</td>\n",
       "      <td>0</td>\n",
       "      <td>6.2</td>\n",
       "      <td>4.1</td>\n",
       "      <td>5.7</td>\n",
       "      <td>7.1</td>\n",
       "      <td>8.3</td>\n",
       "    </tr>\n",
       "    <tr>\n",
       "      <th>1</th>\n",
       "      <td>22.965092</td>\n",
       "      <td>1</td>\n",
       "      <td>1</td>\n",
       "      <td>33.0</td>\n",
       "      <td>Banks</td>\n",
       "      <td>HR</td>\n",
       "      <td>empjs</td>\n",
       "      <td>0</td>\n",
       "      <td>1</td>\n",
       "      <td>0</td>\n",
       "      <td>6.2</td>\n",
       "      <td>4.1</td>\n",
       "      <td>5.7</td>\n",
       "      <td>7.1</td>\n",
       "      <td>8.3</td>\n",
       "    </tr>\n",
       "    <tr>\n",
       "      <th>4</th>\n",
       "      <td>8.410678</td>\n",
       "      <td>1</td>\n",
       "      <td>1</td>\n",
       "      <td>32.0</td>\n",
       "      <td>Retail</td>\n",
       "      <td>Commercial</td>\n",
       "      <td>youjs</td>\n",
       "      <td>1</td>\n",
       "      <td>1</td>\n",
       "      <td>0</td>\n",
       "      <td>3.0</td>\n",
       "      <td>4.1</td>\n",
       "      <td>8.0</td>\n",
       "      <td>7.1</td>\n",
       "      <td>3.7</td>\n",
       "    </tr>\n",
       "    <tr>\n",
       "      <th>5</th>\n",
       "      <td>8.969199</td>\n",
       "      <td>1</td>\n",
       "      <td>0</td>\n",
       "      <td>42.0</td>\n",
       "      <td>manufacture</td>\n",
       "      <td>HR</td>\n",
       "      <td>empjs</td>\n",
       "      <td>1</td>\n",
       "      <td>1</td>\n",
       "      <td>0</td>\n",
       "      <td>6.2</td>\n",
       "      <td>6.2</td>\n",
       "      <td>4.1</td>\n",
       "      <td>5.6</td>\n",
       "      <td>6.7</td>\n",
       "    </tr>\n",
       "    <tr>\n",
       "      <th>6</th>\n",
       "      <td>8.969199</td>\n",
       "      <td>1</td>\n",
       "      <td>0</td>\n",
       "      <td>42.0</td>\n",
       "      <td>manufacture</td>\n",
       "      <td>HR</td>\n",
       "      <td>empjs</td>\n",
       "      <td>1</td>\n",
       "      <td>1</td>\n",
       "      <td>0</td>\n",
       "      <td>6.2</td>\n",
       "      <td>6.2</td>\n",
       "      <td>4.1</td>\n",
       "      <td>5.6</td>\n",
       "      <td>6.7</td>\n",
       "    </tr>\n",
       "  </tbody>\n",
       "</table>\n",
       "</div>"
      ],
      "text/plain": [
       "        stag  event  gender   age     industry  profession      traffic  \\\n",
       "0   7.030801      1       1  35.0        Banks          HR  rabrecNErab   \n",
       "1  22.965092      1       1  33.0        Banks          HR        empjs   \n",
       "4   8.410678      1       1  32.0       Retail  Commercial        youjs   \n",
       "5   8.969199      1       0  42.0  manufacture          HR        empjs   \n",
       "6   8.969199      1       0  42.0  manufacture          HR        empjs   \n",
       "\n",
       "   coach  greywage  way  extraversion  independ  selfcontrol  anxiety  novator  \n",
       "0      0         1    0           6.2       4.1          5.7      7.1      8.3  \n",
       "1      0         1    0           6.2       4.1          5.7      7.1      8.3  \n",
       "4      1         1    0           3.0       4.1          8.0      7.1      3.7  \n",
       "5      1         1    0           6.2       6.2          4.1      5.6      6.7  \n",
       "6      1         1    0           6.2       6.2          4.1      5.6      6.7  "
      ]
     },
     "execution_count": 80,
     "metadata": {},
     "output_type": "execute_result"
    }
   ],
   "source": [
    "df17=df16.replace(['m','f'],[1,0])\n",
    "df18=df17.replace(['no','yes','my head'],[0,1,2])\n",
    "df19=df18.replace(['white', 'grey'],[1,0])\n",
    "df20=df19.replace(['bus', 'car', 'foot'],[0,1,2])\n",
    "df20.head()"
   ]
  },
  {
   "cell_type": "code",
   "execution_count": 81,
   "metadata": {},
   "outputs": [
    {
     "data": {
      "text/html": [
       "<div>\n",
       "<style scoped>\n",
       "    .dataframe tbody tr th:only-of-type {\n",
       "        vertical-align: middle;\n",
       "    }\n",
       "\n",
       "    .dataframe tbody tr th {\n",
       "        vertical-align: top;\n",
       "    }\n",
       "\n",
       "    .dataframe thead th {\n",
       "        text-align: right;\n",
       "    }\n",
       "</style>\n",
       "<table border=\"1\" class=\"dataframe\">\n",
       "  <thead>\n",
       "    <tr style=\"text-align: right;\">\n",
       "      <th></th>\n",
       "      <th>stag</th>\n",
       "      <th>event</th>\n",
       "      <th>gender</th>\n",
       "      <th>age</th>\n",
       "      <th>industry</th>\n",
       "      <th>profession</th>\n",
       "      <th>traffic</th>\n",
       "      <th>coach</th>\n",
       "      <th>greywage</th>\n",
       "      <th>way</th>\n",
       "      <th>extraversion</th>\n",
       "      <th>independ</th>\n",
       "      <th>selfcontrol</th>\n",
       "      <th>anxiety</th>\n",
       "      <th>novator</th>\n",
       "    </tr>\n",
       "  </thead>\n",
       "  <tbody>\n",
       "    <tr>\n",
       "      <th>0</th>\n",
       "      <td>7.030801</td>\n",
       "      <td>1</td>\n",
       "      <td>1</td>\n",
       "      <td>35.0</td>\n",
       "      <td>2</td>\n",
       "      <td>6</td>\n",
       "      <td>4</td>\n",
       "      <td>0</td>\n",
       "      <td>1</td>\n",
       "      <td>0</td>\n",
       "      <td>6.2</td>\n",
       "      <td>4.1</td>\n",
       "      <td>5.7</td>\n",
       "      <td>7.1</td>\n",
       "      <td>8.3</td>\n",
       "    </tr>\n",
       "    <tr>\n",
       "      <th>1</th>\n",
       "      <td>22.965092</td>\n",
       "      <td>1</td>\n",
       "      <td>1</td>\n",
       "      <td>33.0</td>\n",
       "      <td>2</td>\n",
       "      <td>6</td>\n",
       "      <td>2</td>\n",
       "      <td>0</td>\n",
       "      <td>1</td>\n",
       "      <td>0</td>\n",
       "      <td>6.2</td>\n",
       "      <td>4.1</td>\n",
       "      <td>5.7</td>\n",
       "      <td>7.1</td>\n",
       "      <td>8.3</td>\n",
       "    </tr>\n",
       "    <tr>\n",
       "      <th>4</th>\n",
       "      <td>8.410678</td>\n",
       "      <td>1</td>\n",
       "      <td>1</td>\n",
       "      <td>32.0</td>\n",
       "      <td>10</td>\n",
       "      <td>2</td>\n",
       "      <td>7</td>\n",
       "      <td>1</td>\n",
       "      <td>1</td>\n",
       "      <td>0</td>\n",
       "      <td>3.0</td>\n",
       "      <td>4.1</td>\n",
       "      <td>8.0</td>\n",
       "      <td>7.1</td>\n",
       "      <td>3.7</td>\n",
       "    </tr>\n",
       "    <tr>\n",
       "      <th>5</th>\n",
       "      <td>8.969199</td>\n",
       "      <td>1</td>\n",
       "      <td>0</td>\n",
       "      <td>42.0</td>\n",
       "      <td>14</td>\n",
       "      <td>6</td>\n",
       "      <td>2</td>\n",
       "      <td>1</td>\n",
       "      <td>1</td>\n",
       "      <td>0</td>\n",
       "      <td>6.2</td>\n",
       "      <td>6.2</td>\n",
       "      <td>4.1</td>\n",
       "      <td>5.6</td>\n",
       "      <td>6.7</td>\n",
       "    </tr>\n",
       "    <tr>\n",
       "      <th>6</th>\n",
       "      <td>8.969199</td>\n",
       "      <td>1</td>\n",
       "      <td>0</td>\n",
       "      <td>42.0</td>\n",
       "      <td>14</td>\n",
       "      <td>6</td>\n",
       "      <td>2</td>\n",
       "      <td>1</td>\n",
       "      <td>1</td>\n",
       "      <td>0</td>\n",
       "      <td>6.2</td>\n",
       "      <td>6.2</td>\n",
       "      <td>4.1</td>\n",
       "      <td>5.6</td>\n",
       "      <td>6.7</td>\n",
       "    </tr>\n",
       "  </tbody>\n",
       "</table>\n",
       "</div>"
      ],
      "text/plain": [
       "        stag  event  gender   age  industry  profession  traffic  coach  \\\n",
       "0   7.030801      1       1  35.0         2           6        4      0   \n",
       "1  22.965092      1       1  33.0         2           6        2      0   \n",
       "4   8.410678      1       1  32.0        10           2        7      1   \n",
       "5   8.969199      1       0  42.0        14           6        2      1   \n",
       "6   8.969199      1       0  42.0        14           6        2      1   \n",
       "\n",
       "   greywage  way  extraversion  independ  selfcontrol  anxiety  novator  \n",
       "0         1    0           6.2       4.1          5.7      7.1      8.3  \n",
       "1         1    0           6.2       4.1          5.7      7.1      8.3  \n",
       "4         1    0           3.0       4.1          8.0      7.1      3.7  \n",
       "5         1    0           6.2       6.2          4.1      5.6      6.7  \n",
       "6         1    0           6.2       6.2          4.1      5.6      6.7  "
      ]
     },
     "execution_count": 81,
     "metadata": {},
     "output_type": "execute_result"
    }
   ],
   "source": [
    "from sklearn.preprocessing import LabelEncoder\n",
    "le_industry=LabelEncoder()\n",
    "le_profession=LabelEncoder()\n",
    "le_traffic=LabelEncoder()\n",
    "df20.industry=le_industry.fit_transform(df20.industry)\n",
    "df20.profession=le_profession.fit_transform(df20.profession)\n",
    "df20.traffic=le_traffic.fit_transform(df20.traffic)\n",
    "df20.head()"
   ]
  },
  {
   "cell_type": "code",
   "execution_count": 82,
   "metadata": {},
   "outputs": [
    {
     "data": {
      "text/plain": [
       "stag            float64\n",
       "event             int64\n",
       "gender            int64\n",
       "age             float64\n",
       "industry          int32\n",
       "profession        int32\n",
       "traffic           int32\n",
       "coach             int64\n",
       "greywage          int64\n",
       "way               int64\n",
       "extraversion    float64\n",
       "independ        float64\n",
       "selfcontrol     float64\n",
       "anxiety         float64\n",
       "novator         float64\n",
       "dtype: object"
      ]
     },
     "execution_count": 82,
     "metadata": {},
     "output_type": "execute_result"
    }
   ],
   "source": [
    "df20.dtypes"
   ]
  },
  {
   "cell_type": "code",
   "execution_count": 83,
   "metadata": {},
   "outputs": [],
   "source": [
    "#splitting the dataset for training and testing\n",
    "from sklearn.model_selection import train_test_split\n",
    "X_train,X_test,y_train,y_test=train_test_split(df20.drop('event',axis='columns'),df20.event,test_size=0.2,random_state=10)"
   ]
  },
  {
   "cell_type": "code",
   "execution_count": 84,
   "metadata": {},
   "outputs": [
    {
     "data": {
      "text/plain": [
       "(405, 14)"
      ]
     },
     "execution_count": 84,
     "metadata": {},
     "output_type": "execute_result"
    }
   ],
   "source": [
    "X_train.shape"
   ]
  },
  {
   "cell_type": "code",
   "execution_count": 85,
   "metadata": {},
   "outputs": [
    {
     "data": {
      "text/plain": [
       "102"
      ]
     },
     "execution_count": 85,
     "metadata": {},
     "output_type": "execute_result"
    }
   ],
   "source": [
    "len(X_test)"
   ]
  },
  {
   "cell_type": "code",
   "execution_count": 86,
   "metadata": {},
   "outputs": [],
   "source": [
    "##creating a machine learning model\n",
    "from sklearn.linear_model import LinearRegression\n",
    "from sklearn.linear_model import LogisticRegression\n",
    "from sklearn.linear_model import Lasso\n",
    "from sklearn.tree import DecisionTreeRegressor\n",
    "from sklearn.svm import SVC\n",
    "from sklearn.ensemble import RandomForestClassifier\n",
    "\n",
    "from sklearn.model_selection import cross_val_score\n",
    "from sklearn.model_selection import GridSearchCV\n",
    "from sklearn.model_selection import ShuffleSplit"
   ]
  },
  {
   "cell_type": "code",
   "execution_count": 87,
   "metadata": {},
   "outputs": [
    {
     "data": {
      "text/plain": [
       "LinearRegression()"
      ]
     },
     "execution_count": 87,
     "metadata": {},
     "output_type": "execute_result"
    }
   ],
   "source": [
    "lr=LinearRegression()\n",
    "lr.fit(X_train,y_train)"
   ]
  },
  {
   "cell_type": "code",
   "execution_count": 89,
   "metadata": {},
   "outputs": [],
   "source": [
    "cv=ShuffleSplit(n_splits=5,test_size=0.2,random_state=0)\n",
    "def find_best_model_using_gridsearchcv(X,y):\n",
    "    models={\n",
    "        'linear_regression':{\n",
    "            'model':LinearRegression(),\n",
    "            'params':{\n",
    "                'normalize':[True,False]\n",
    "            }\n",
    "        },\n",
    "        'lasso':{\n",
    "            'model':Lasso(),\n",
    "            'params':{\n",
    "                'alpha':[1,2],\n",
    "                'selection':['random','cyclic']\n",
    "            }\n",
    "        },\n",
    "        'decision_tree':{\n",
    "            'model':DecisionTreeRegressor(),\n",
    "            'params':{\n",
    "                'criterion':['mse','friedman_mse'],\n",
    "                'splitter':['best','random']\n",
    "            }\n",
    "        },\n",
    "        'svm':{\n",
    "            'model':SVC(),\n",
    "            'params':{\n",
    "                'C':[1,2,3],\n",
    "                'kernel':['linear','rbf']\n",
    "            }\n",
    "        },\n",
    "        'random_forest':{\n",
    "            'model':RandomForestClassifier(),\n",
    "            'params':{\n",
    "                \n",
    "            }\n",
    "        },\n",
    "        'logistic_regression':{\n",
    "            'model':LogisticRegression(),\n",
    "            'params':{}\n",
    "        }\n",
    "    }\n",
    "#this is what we call hyper parameter tunning\n",
    "\n",
    "    my_scores=[]\n",
    "    cv=ShuffleSplit(n_splits=5,test_size=0.2,random_state=0)\n",
    "    for model_name,config in models.items():\n",
    "        gs=GridSearchCV(config['model'],config['params'],cv=cv,return_train_score=False)\n",
    "        gs.fit(X,y)\n",
    "        my_scores.append({\n",
    "            'model':model_name,\n",
    "            'best_score':gs.best_score_,\n",
    "            'best_params':gs.best_params_\n",
    "        })\n",
    "    return pd.DataFrame(my_scores,columns=['model','best_score','best_params'])\n"
   ]
  },
  {
   "cell_type": "code",
   "execution_count": 90,
   "metadata": {},
   "outputs": [
    {
     "name": "stderr",
     "output_type": "stream",
     "text": [
      "C:\\Users\\sojore\\anaconda3\\lib\\site-packages\\sklearn\\linear_model\\_logistic.py:762: ConvergenceWarning: lbfgs failed to converge (status=1):\n",
      "STOP: TOTAL NO. of ITERATIONS REACHED LIMIT.\n",
      "\n",
      "Increase the number of iterations (max_iter) or scale the data as shown in:\n",
      "    https://scikit-learn.org/stable/modules/preprocessing.html\n",
      "Please also refer to the documentation for alternative solver options:\n",
      "    https://scikit-learn.org/stable/modules/linear_model.html#logistic-regression\n",
      "  n_iter_i = _check_optimize_result(\n",
      "C:\\Users\\sojore\\anaconda3\\lib\\site-packages\\sklearn\\linear_model\\_logistic.py:762: ConvergenceWarning: lbfgs failed to converge (status=1):\n",
      "STOP: TOTAL NO. of ITERATIONS REACHED LIMIT.\n",
      "\n",
      "Increase the number of iterations (max_iter) or scale the data as shown in:\n",
      "    https://scikit-learn.org/stable/modules/preprocessing.html\n",
      "Please also refer to the documentation for alternative solver options:\n",
      "    https://scikit-learn.org/stable/modules/linear_model.html#logistic-regression\n",
      "  n_iter_i = _check_optimize_result(\n",
      "C:\\Users\\sojore\\anaconda3\\lib\\site-packages\\sklearn\\linear_model\\_logistic.py:762: ConvergenceWarning: lbfgs failed to converge (status=1):\n",
      "STOP: TOTAL NO. of ITERATIONS REACHED LIMIT.\n",
      "\n",
      "Increase the number of iterations (max_iter) or scale the data as shown in:\n",
      "    https://scikit-learn.org/stable/modules/preprocessing.html\n",
      "Please also refer to the documentation for alternative solver options:\n",
      "    https://scikit-learn.org/stable/modules/linear_model.html#logistic-regression\n",
      "  n_iter_i = _check_optimize_result(\n",
      "C:\\Users\\sojore\\anaconda3\\lib\\site-packages\\sklearn\\linear_model\\_logistic.py:762: ConvergenceWarning: lbfgs failed to converge (status=1):\n",
      "STOP: TOTAL NO. of ITERATIONS REACHED LIMIT.\n",
      "\n",
      "Increase the number of iterations (max_iter) or scale the data as shown in:\n",
      "    https://scikit-learn.org/stable/modules/preprocessing.html\n",
      "Please also refer to the documentation for alternative solver options:\n",
      "    https://scikit-learn.org/stable/modules/linear_model.html#logistic-regression\n",
      "  n_iter_i = _check_optimize_result(\n",
      "C:\\Users\\sojore\\anaconda3\\lib\\site-packages\\sklearn\\linear_model\\_logistic.py:762: ConvergenceWarning: lbfgs failed to converge (status=1):\n",
      "STOP: TOTAL NO. of ITERATIONS REACHED LIMIT.\n",
      "\n",
      "Increase the number of iterations (max_iter) or scale the data as shown in:\n",
      "    https://scikit-learn.org/stable/modules/preprocessing.html\n",
      "Please also refer to the documentation for alternative solver options:\n",
      "    https://scikit-learn.org/stable/modules/linear_model.html#logistic-regression\n",
      "  n_iter_i = _check_optimize_result(\n",
      "C:\\Users\\sojore\\anaconda3\\lib\\site-packages\\sklearn\\linear_model\\_logistic.py:762: ConvergenceWarning: lbfgs failed to converge (status=1):\n",
      "STOP: TOTAL NO. of ITERATIONS REACHED LIMIT.\n",
      "\n",
      "Increase the number of iterations (max_iter) or scale the data as shown in:\n",
      "    https://scikit-learn.org/stable/modules/preprocessing.html\n",
      "Please also refer to the documentation for alternative solver options:\n",
      "    https://scikit-learn.org/stable/modules/linear_model.html#logistic-regression\n",
      "  n_iter_i = _check_optimize_result(\n"
     ]
    },
    {
     "data": {
      "text/html": [
       "<div>\n",
       "<style scoped>\n",
       "    .dataframe tbody tr th:only-of-type {\n",
       "        vertical-align: middle;\n",
       "    }\n",
       "\n",
       "    .dataframe tbody tr th {\n",
       "        vertical-align: top;\n",
       "    }\n",
       "\n",
       "    .dataframe thead th {\n",
       "        text-align: right;\n",
       "    }\n",
       "</style>\n",
       "<table border=\"1\" class=\"dataframe\">\n",
       "  <thead>\n",
       "    <tr style=\"text-align: right;\">\n",
       "      <th></th>\n",
       "      <th>model</th>\n",
       "      <th>best_score</th>\n",
       "      <th>best_params</th>\n",
       "    </tr>\n",
       "  </thead>\n",
       "  <tbody>\n",
       "    <tr>\n",
       "      <th>0</th>\n",
       "      <td>linear_regression</td>\n",
       "      <td>-0.060514</td>\n",
       "      <td>{'normalize': False}</td>\n",
       "    </tr>\n",
       "    <tr>\n",
       "      <th>1</th>\n",
       "      <td>lasso</td>\n",
       "      <td>-0.015493</td>\n",
       "      <td>{'alpha': 2, 'selection': 'random'}</td>\n",
       "    </tr>\n",
       "    <tr>\n",
       "      <th>2</th>\n",
       "      <td>decision_tree</td>\n",
       "      <td>-0.655960</td>\n",
       "      <td>{'criterion': 'mse', 'splitter': 'random'}</td>\n",
       "    </tr>\n",
       "    <tr>\n",
       "      <th>3</th>\n",
       "      <td>svm</td>\n",
       "      <td>0.503704</td>\n",
       "      <td>{'C': 3, 'kernel': 'rbf'}</td>\n",
       "    </tr>\n",
       "    <tr>\n",
       "      <th>4</th>\n",
       "      <td>random_forest</td>\n",
       "      <td>0.582716</td>\n",
       "      <td>{}</td>\n",
       "    </tr>\n",
       "    <tr>\n",
       "      <th>5</th>\n",
       "      <td>logistic_regression</td>\n",
       "      <td>0.496296</td>\n",
       "      <td>{}</td>\n",
       "    </tr>\n",
       "  </tbody>\n",
       "</table>\n",
       "</div>"
      ],
      "text/plain": [
       "                 model  best_score                                 best_params\n",
       "0    linear_regression   -0.060514                        {'normalize': False}\n",
       "1                lasso   -0.015493         {'alpha': 2, 'selection': 'random'}\n",
       "2        decision_tree   -0.655960  {'criterion': 'mse', 'splitter': 'random'}\n",
       "3                  svm    0.503704                   {'C': 3, 'kernel': 'rbf'}\n",
       "4        random_forest    0.582716                                          {}\n",
       "5  logistic_regression    0.496296                                          {}"
      ]
     },
     "execution_count": 90,
     "metadata": {},
     "output_type": "execute_result"
    }
   ],
   "source": [
    "find_best_model_using_gridsearchcv(X_train,y_train)"
   ]
  },
  {
   "cell_type": "code",
   "execution_count": 91,
   "metadata": {},
   "outputs": [
    {
     "data": {
      "text/plain": [
       "RandomForestClassifier()"
      ]
     },
     "execution_count": 91,
     "metadata": {},
     "output_type": "execute_result"
    }
   ],
   "source": [
    "#from the above i can choose the best algorithm to create my model\n",
    "#i will simply employ RandomForestClassifier for my model creation\n",
    "model=RandomForestClassifier()\n",
    "model.fit(X_train,y_train)"
   ]
  },
  {
   "cell_type": "code",
   "execution_count": 92,
   "metadata": {},
   "outputs": [
    {
     "data": {
      "text/plain": [
       "0.5980392156862745"
      ]
     },
     "execution_count": 92,
     "metadata": {},
     "output_type": "execute_result"
    }
   ],
   "source": [
    "#let me get the score of the model\n",
    "model.score(X_test,y_test)"
   ]
  },
  {
   "cell_type": "code",
   "execution_count": 93,
   "metadata": {},
   "outputs": [
    {
     "data": {
      "text/plain": [
       "array([0, 0, 0, 0, 0, 1, 0, 0, 0, 0], dtype=int64)"
      ]
     },
     "execution_count": 93,
     "metadata": {},
     "output_type": "execute_result"
    }
   ],
   "source": [
    "#now i can use the model to do predictions\n",
    "y_predicted=model.predict(X_test)\n",
    "y_predicted[:10]"
   ]
  },
  {
   "cell_type": "code",
   "execution_count": 94,
   "metadata": {},
   "outputs": [
    {
     "data": {
      "text/plain": [
       "713    1\n",
       "416    0\n",
       "135    1\n",
       "809    0\n",
       "330    1\n",
       "966    1\n",
       "344    0\n",
       "275    0\n",
       "612    0\n",
       "510    0\n",
       "Name: event, dtype: int64"
      ]
     },
     "execution_count": 94,
     "metadata": {},
     "output_type": "execute_result"
    }
   ],
   "source": [
    "y_test[:10]"
   ]
  },
  {
   "cell_type": "code",
   "execution_count": 95,
   "metadata": {},
   "outputs": [
    {
     "data": {
      "text/plain": [
       "Text(159.0, 0.5, 'Truth')"
      ]
     },
     "execution_count": 95,
     "metadata": {},
     "output_type": "execute_result"
    },
    {
     "data": {
      "image/png": "[encoded data removed]",
      "text/plain": [
       "<Figure size 1440x720 with 2 Axes>"
      ]
     },
     "metadata": {
      "needs_background": "light"
     },
     "output_type": "display_data"
    }
   ],
   "source": [
    "#next i will create a heatmap for a better visualization of the predicted results\n",
    "from sklearn.metrics import confusion_matrix,classification_report\n",
    "import seaborn as sn\n",
    "cm=confusion_matrix(y_test,y_predicted)\n",
    "plt.figure(figsize=(20,10))\n",
    "sn.heatmap(cm,annot=True)\n",
    "plt.xlabel('Predicted')\n",
    "plt.ylabel('Truth')"
   ]
  },
  {
   "cell_type": "code",
   "execution_count": 96,
   "metadata": {},
   "outputs": [
    {
     "name": "stdout",
     "output_type": "stream",
     "text": [
      "Classification Report: \n",
      "               precision    recall  f1-score   support\n",
      "\n",
      "           0       0.57      0.72      0.64        50\n",
      "           1       0.64      0.48      0.55        52\n",
      "\n",
      "    accuracy                           0.60       102\n",
      "   macro avg       0.61      0.60      0.59       102\n",
      "weighted avg       0.61      0.60      0.59       102\n",
      "\n"
     ]
    }
   ],
   "source": [
    "#my model is doing pretty good on doing the predictions\n",
    "#next i can print a classification report\n",
    "print('Classification Report: \\n',classification_report(y_test,y_predicted))"
   ]
  },
  {
   "cell_type": "code",
   "execution_count": 97,
   "metadata": {},
   "outputs": [],
   "source": [
    "#using neural networks (ANN)  to create model2 to see and compare its perfomance"
   ]
  },
  {
   "cell_type": "code",
   "execution_count": 98,
   "metadata": {},
   "outputs": [],
   "source": [
    "##import important libraries\n",
    "import tensorflow as tf\n",
    "from tensorflow.keras import layers\n",
    "from tensorflow import keras\n",
    "from tensorflow.keras.models import Sequential"
   ]
  },
  {
   "cell_type": "code",
   "execution_count": 102,
   "metadata": {},
   "outputs": [
    {
     "data": {
      "text/plain": [
       "(405, 14)"
      ]
     },
     "execution_count": 102,
     "metadata": {},
     "output_type": "execute_result"
    }
   ],
   "source": [
    "X_train.shape"
   ]
  },
  {
   "cell_type": "code",
   "execution_count": 103,
   "metadata": {},
   "outputs": [
    {
     "name": "stdout",
     "output_type": "stream",
     "text": [
      "Epoch 1/100\n",
      "51/51 [==============================] - 5s 9ms/step - loss: 0.9884 - accuracy: 0.4864\n",
      "Epoch 2/100\n",
      "51/51 [==============================] - 0s 5ms/step - loss: 0.7013 - accuracy: 0.4988\n",
      "Epoch 3/100\n",
      "51/51 [==============================] - 1s 14ms/step - loss: 0.6958 - accuracy: 0.5037\n",
      "Epoch 4/100\n",
      "51/51 [==============================] - 0s 8ms/step - loss: 0.6936 - accuracy: 0.5037\n",
      "Epoch 5/100\n",
      "51/51 [==============================] - 0s 6ms/step - loss: 0.6929 - accuracy: 0.4988\n",
      "Epoch 6/100\n",
      "51/51 [==============================] - 0s 5ms/step - loss: 0.6923 - accuracy: 0.5037\n",
      "Epoch 7/100\n",
      "51/51 [==============================] - 0s 9ms/step - loss: 0.6923 - accuracy: 0.5111\n",
      "Epoch 8/100\n",
      "51/51 [==============================] - 0s 7ms/step - loss: 0.6925 - accuracy: 0.5012\n",
      "Epoch 9/100\n",
      "51/51 [==============================] - 0s 6ms/step - loss: 0.6923 - accuracy: 0.5062\n",
      "Epoch 10/100\n",
      "51/51 [==============================] - 0s 6ms/step - loss: 0.6925 - accuracy: 0.5062\n",
      "Epoch 11/100\n",
      "51/51 [==============================] - 0s 5ms/step - loss: 0.6918 - accuracy: 0.5086\n",
      "Epoch 12/100\n",
      "51/51 [==============================] - ETA: 0s - loss: 0.6926 - accuracy: 0.51 - 0s 5ms/step - loss: 0.6926 - accuracy: 0.5136\n",
      "Epoch 13/100\n",
      "51/51 [==============================] - 0s 6ms/step - loss: 0.6924 - accuracy: 0.5062\n",
      "Epoch 14/100\n",
      "51/51 [==============================] - 0s 6ms/step - loss: 0.6923 - accuracy: 0.5086\n",
      "Epoch 15/100\n",
      "51/51 [==============================] - 0s 6ms/step - loss: 0.6921 - accuracy: 0.5062\n",
      "Epoch 16/100\n",
      "51/51 [==============================] - 0s 7ms/step - loss: 0.6920 - accuracy: 0.5136: 0s - loss: 0.6901 - accu\n",
      "Epoch 17/100\n",
      "51/51 [==============================] - 0s 9ms/step - loss: 0.6923 - accuracy: 0.5086\n",
      "Epoch 18/100\n",
      "51/51 [==============================] - 1s 10ms/step - loss: 0.6921 - accuracy: 0.5086\n",
      "Epoch 19/100\n",
      "51/51 [==============================] - 1s 9ms/step - loss: 0.6916 - accuracy: 0.5136\n",
      "Epoch 20/100\n",
      "51/51 [==============================] - 0s 7ms/step - loss: 0.6927 - accuracy: 0.5062\n",
      "Epoch 21/100\n",
      "51/51 [==============================] - 0s 5ms/step - loss: 0.6929 - accuracy: 0.5062\n",
      "Epoch 22/100\n",
      "51/51 [==============================] - 0s 6ms/step - loss: 0.6918 - accuracy: 0.5062\n",
      "Epoch 23/100\n",
      "51/51 [==============================] - 0s 7ms/step - loss: 0.6909 - accuracy: 0.5210\n",
      "Epoch 24/100\n",
      "51/51 [==============================] - 0s 5ms/step - loss: 0.6916 - accuracy: 0.4963: 0s - loss: 0.6914 - accuracy: 0.48\n",
      "Epoch 25/100\n",
      "51/51 [==============================] - 1s 15ms/step - loss: 0.6914 - accuracy: 0.5111\n",
      "Epoch 26/100\n",
      "51/51 [==============================] - 1s 10ms/step - loss: 0.6910 - accuracy: 0.5160\n",
      "Epoch 27/100\n",
      "51/51 [==============================] - 1s 10ms/step - loss: 0.6918 - accuracy: 0.5086\n",
      "Epoch 28/100\n",
      "51/51 [==============================] - 0s 8ms/step - loss: 0.6921 - accuracy: 0.5062\n",
      "Epoch 29/100\n",
      "51/51 [==============================] - 0s 6ms/step - loss: 0.6913 - accuracy: 0.5086\n",
      "Epoch 30/100\n",
      "51/51 [==============================] - 0s 9ms/step - loss: 0.6904 - accuracy: 0.5185\n",
      "Epoch 31/100\n",
      "51/51 [==============================] - 0s 8ms/step - loss: 0.6910 - accuracy: 0.5111\n",
      "Epoch 32/100\n",
      "51/51 [==============================] - 0s 9ms/step - loss: 0.6906 - accuracy: 0.5160\n",
      "Epoch 33/100\n",
      "51/51 [==============================] - 0s 10ms/step - loss: 0.6907 - accuracy: 0.5210\n",
      "Epoch 34/100\n",
      "51/51 [==============================] - 1s 13ms/step - loss: 0.6916 - accuracy: 0.5185\n",
      "Epoch 35/100\n",
      "51/51 [==============================] - 1s 14ms/step - loss: 0.6943 - accuracy: 0.4938\n",
      "Epoch 36/100\n",
      "51/51 [==============================] - 1s 11ms/step - loss: 0.6919 - accuracy: 0.4988\n",
      "Epoch 37/100\n",
      "51/51 [==============================] - 1s 10ms/step - loss: 0.6925 - accuracy: 0.5037\n",
      "Epoch 38/100\n",
      "51/51 [==============================] - 0s 8ms/step - loss: 0.6898 - accuracy: 0.5210\n",
      "Epoch 39/100\n",
      "51/51 [==============================] - 0s 9ms/step - loss: 0.6922 - accuracy: 0.5062\n",
      "Epoch 40/100\n",
      "51/51 [==============================] - 0s 7ms/step - loss: 0.6891 - accuracy: 0.5284\n",
      "Epoch 41/100\n",
      "51/51 [==============================] - 0s 9ms/step - loss: 0.6912 - accuracy: 0.5210\n",
      "Epoch 42/100\n",
      "51/51 [==============================] - 0s 8ms/step - loss: 0.6899 - accuracy: 0.5136\n",
      "Epoch 43/100\n",
      "51/51 [==============================] - 0s 6ms/step - loss: 0.6891 - accuracy: 0.5210\n",
      "Epoch 44/100\n",
      "51/51 [==============================] - 0s 8ms/step - loss: 0.6893 - accuracy: 0.5185\n",
      "Epoch 45/100\n",
      "51/51 [==============================] - 0s 5ms/step - loss: 0.6890 - accuracy: 0.5037\n",
      "Epoch 46/100\n",
      "51/51 [==============================] - ETA: 0s - loss: 0.6888 - accuracy: 0.51 - 0s 5ms/step - loss: 0.6874 - accuracy: 0.5185\n",
      "Epoch 47/100\n",
      "51/51 [==============================] - 0s 7ms/step - loss: 0.6885 - accuracy: 0.5136\n",
      "Epoch 48/100\n",
      "51/51 [==============================] - 0s 6ms/step - loss: 0.6896 - accuracy: 0.5235\n",
      "Epoch 49/100\n",
      "51/51 [==============================] - 1s 11ms/step - loss: 0.6893 - accuracy: 0.5111\n",
      "Epoch 50/100\n",
      "51/51 [==============================] - 1s 10ms/step - loss: 0.6890 - accuracy: 0.5235\n",
      "Epoch 51/100\n",
      "51/51 [==============================] - 0s 6ms/step - loss: 0.6842 - accuracy: 0.5383\n",
      "Epoch 52/100\n",
      "51/51 [==============================] - 1s 11ms/step - loss: 0.6929 - accuracy: 0.5333\n",
      "Epoch 53/100\n",
      "51/51 [==============================] - 0s 6ms/step - loss: 0.6893 - accuracy: 0.5185\n",
      "Epoch 54/100\n",
      "51/51 [==============================] - 0s 7ms/step - loss: 0.6866 - accuracy: 0.5210: 0s - loss: 0.6840 - accuracy\n",
      "Epoch 55/100\n",
      "51/51 [==============================] - 0s 6ms/step - loss: 0.6863 - accuracy: 0.5432\n",
      "Epoch 56/100\n",
      "51/51 [==============================] - 0s 9ms/step - loss: 0.6853 - accuracy: 0.5481\n",
      "Epoch 57/100\n",
      "51/51 [==============================] - 0s 7ms/step - loss: 0.6901 - accuracy: 0.5432\n",
      "Epoch 58/100\n",
      "51/51 [==============================] - 0s 5ms/step - loss: 0.6862 - accuracy: 0.5407\n",
      "Epoch 59/100\n",
      "51/51 [==============================] - 0s 5ms/step - loss: 0.6843 - accuracy: 0.5605\n",
      "Epoch 60/100\n",
      "51/51 [==============================] - 0s 6ms/step - loss: 0.6827 - accuracy: 0.5531\n",
      "Epoch 61/100\n",
      "51/51 [==============================] - 0s 4ms/step - loss: 0.6837 - accuracy: 0.5605\n",
      "Epoch 62/100\n",
      "51/51 [==============================] - 0s 5ms/step - loss: 0.6797 - accuracy: 0.5654\n",
      "Epoch 63/100\n",
      "51/51 [==============================] - 0s 4ms/step - loss: 0.6724 - accuracy: 0.5654\n",
      "Epoch 64/100\n",
      "51/51 [==============================] - 0s 5ms/step - loss: 0.6746 - accuracy: 0.5802\n",
      "Epoch 65/100\n",
      "51/51 [==============================] - 0s 4ms/step - loss: 0.6749 - accuracy: 0.6000\n",
      "Epoch 66/100\n",
      "51/51 [==============================] - 0s 4ms/step - loss: 0.6770 - accuracy: 0.5654\n",
      "Epoch 67/100\n",
      "51/51 [==============================] - 0s 4ms/step - loss: 0.6718 - accuracy: 0.5877\n",
      "Epoch 68/100\n",
      "51/51 [==============================] - 0s 6ms/step - loss: 0.6682 - accuracy: 0.5827\n",
      "Epoch 69/100\n",
      "51/51 [==============================] - 0s 5ms/step - loss: 0.6628 - accuracy: 0.5877\n",
      "Epoch 70/100\n",
      "51/51 [==============================] - 0s 5ms/step - loss: 0.6660 - accuracy: 0.5975\n",
      "Epoch 71/100\n",
      "51/51 [==============================] - 0s 5ms/step - loss: 0.6654 - accuracy: 0.6049\n",
      "Epoch 72/100\n",
      "51/51 [==============================] - 0s 6ms/step - loss: 0.6632 - accuracy: 0.5951\n",
      "Epoch 73/100\n",
      "51/51 [==============================] - 0s 4ms/step - loss: 0.6574 - accuracy: 0.6123\n",
      "Epoch 74/100\n",
      "51/51 [==============================] - 0s 6ms/step - loss: 0.6574 - accuracy: 0.5926\n",
      "Epoch 75/100\n",
      "51/51 [==============================] - 0s 5ms/step - loss: 0.6596 - accuracy: 0.6148\n",
      "Epoch 76/100\n",
      "51/51 [==============================] - 0s 8ms/step - loss: 0.6557 - accuracy: 0.6099\n",
      "Epoch 77/100\n",
      "51/51 [==============================] - 0s 7ms/step - loss: 0.6578 - accuracy: 0.6000\n",
      "Epoch 78/100\n",
      "51/51 [==============================] - 1s 10ms/step - loss: 0.6513 - accuracy: 0.6173\n",
      "Epoch 79/100\n",
      "51/51 [==============================] - 0s 5ms/step - loss: 0.6624 - accuracy: 0.6198: 0s - loss: 0.6729 - accuracy: \n",
      "Epoch 80/100\n"
     ]
    },
    {
     "name": "stdout",
     "output_type": "stream",
     "text": [
      "51/51 [==============================] - 0s 7ms/step - loss: 0.6556 - accuracy: 0.6025\n",
      "Epoch 81/100\n",
      "51/51 [==============================] - 0s 9ms/step - loss: 0.6512 - accuracy: 0.6198\n",
      "Epoch 82/100\n",
      "51/51 [==============================] - 0s 8ms/step - loss: 0.6538 - accuracy: 0.6025\n",
      "Epoch 83/100\n",
      "51/51 [==============================] - 0s 10ms/step - loss: 0.6482 - accuracy: 0.6198\n",
      "Epoch 84/100\n",
      "51/51 [==============================] - 0s 6ms/step - loss: 0.6553 - accuracy: 0.6000\n",
      "Epoch 85/100\n",
      "51/51 [==============================] - 0s 6ms/step - loss: 0.6515 - accuracy: 0.6025\n",
      "Epoch 86/100\n",
      "51/51 [==============================] - 0s 9ms/step - loss: 0.6506 - accuracy: 0.6099\n",
      "Epoch 87/100\n",
      "51/51 [==============================] - 0s 8ms/step - loss: 0.6447 - accuracy: 0.6296\n",
      "Epoch 88/100\n",
      "51/51 [==============================] - 0s 10ms/step - loss: 0.6473 - accuracy: 0.6099\n",
      "Epoch 89/100\n",
      "51/51 [==============================] - 0s 7ms/step - loss: 0.6444 - accuracy: 0.6296\n",
      "Epoch 90/100\n",
      "51/51 [==============================] - 0s 9ms/step - loss: 0.6452 - accuracy: 0.6148\n",
      "Epoch 91/100\n",
      "51/51 [==============================] - 0s 9ms/step - loss: 0.6487 - accuracy: 0.6123\n",
      "Epoch 92/100\n",
      "51/51 [==============================] - 0s 7ms/step - loss: 0.6517 - accuracy: 0.6123\n",
      "Epoch 93/100\n",
      "51/51 [==============================] - 0s 8ms/step - loss: 0.6380 - accuracy: 0.6370\n",
      "Epoch 94/100\n",
      "51/51 [==============================] - 0s 7ms/step - loss: 0.6380 - accuracy: 0.6370\n",
      "Epoch 95/100\n",
      "51/51 [==============================] - 0s 7ms/step - loss: 0.6349 - accuracy: 0.6420\n",
      "Epoch 96/100\n",
      "51/51 [==============================] - 0s 5ms/step - loss: 0.6359 - accuracy: 0.6395\n",
      "Epoch 97/100\n",
      "51/51 [==============================] - 0s 6ms/step - loss: 0.6401 - accuracy: 0.6296\n",
      "Epoch 98/100\n",
      "51/51 [==============================] - 0s 7ms/step - loss: 0.6418 - accuracy: 0.6370\n",
      "Epoch 99/100\n",
      "51/51 [==============================] - 0s 5ms/step - loss: 0.6431 - accuracy: 0.6247\n",
      "Epoch 100/100\n",
      "51/51 [==============================] - 0s 6ms/step - loss: 0.6349 - accuracy: 0.6272\n"
     ]
    },
    {
     "data": {
      "text/plain": [
       "<tensorflow.python.keras.callbacks.History at 0x28f03f1f6d0>"
      ]
     },
     "execution_count": 103,
     "metadata": {},
     "output_type": "execute_result"
    }
   ],
   "source": [
    "##using artificial neural network to do e above tasks\n",
    "model2=keras.Sequential([\n",
    "    keras.layers.Dense(14,input_dim=14,activation='relu'),\n",
    "    keras.layers.Dense(7,activation='relu'),\n",
    "    keras.layers.Dense(3,activation='relu'),\n",
    "    keras.layers.Dense(1,activation='sigmoid')\n",
    "])\n",
    "model2.compile(\n",
    "    loss='binary_crossentropy',\n",
    "    optimizer='adam',\n",
    "    metrics=['accuracy']\n",
    ")\n",
    "model2.fit(X_train,y_train,epochs=100,batch_size=8)"
   ]
  },
  {
   "cell_type": "code",
   "execution_count": 104,
   "metadata": {},
   "outputs": [
    {
     "name": "stdout",
     "output_type": "stream",
     "text": [
      "4/4 [==============================] - 1s 6ms/step - loss: 0.7332 - accuracy: 0.4706\n"
     ]
    },
    {
     "data": {
      "text/plain": [
       "[0.7332072257995605, 0.47058823704719543]"
      ]
     },
     "execution_count": 104,
     "metadata": {},
     "output_type": "execute_result"
    }
   ],
   "source": [
    "##my model is doing fairly good on the train dataset\n",
    "#we now gonna test our model on the test dataset\n",
    "model2.evaluate(X_test,y_test)"
   ]
  },
  {
   "cell_type": "code",
   "execution_count": 105,
   "metadata": {},
   "outputs": [
    {
     "name": "stdout",
     "output_type": "stream",
     "text": [
      "[0.50458056 0.34313107 0.5475975  0.5831484  0.3197995  0.5831484\n",
      " 0.5831484  0.5485458  0.5384842  0.2842875 ]\n",
      "[1. 0. 1. 1. 0. 1. 1. 1. 1. 0.]\n"
     ]
    }
   ],
   "source": [
    "y_pred=model2.predict(X_test).reshape(-1)\n",
    "print(y_pred[:10])\n",
    "\n",
    "y_pred=np.round(y_pred)\n",
    "print(y_pred[:10])"
   ]
  },
  {
   "cell_type": "code",
   "execution_count": 106,
   "metadata": {},
   "outputs": [
    {
     "data": {
      "text/plain": [
       "713    1\n",
       "416    0\n",
       "135    1\n",
       "809    0\n",
       "330    1\n",
       "966    1\n",
       "344    0\n",
       "275    0\n",
       "612    0\n",
       "510    0\n",
       "Name: event, dtype: int64"
      ]
     },
     "execution_count": 106,
     "metadata": {},
     "output_type": "execute_result"
    }
   ],
   "source": [
    "y_test[:10]"
   ]
  },
  {
   "cell_type": "code",
   "execution_count": 107,
   "metadata": {},
   "outputs": [
    {
     "name": "stdout",
     "output_type": "stream",
     "text": [
      "              precision    recall  f1-score   support\n",
      "\n",
      "           0       0.44      0.28      0.34        50\n",
      "           1       0.49      0.65      0.56        52\n",
      "\n",
      "    accuracy                           0.47       102\n",
      "   macro avg       0.46      0.47      0.45       102\n",
      "weighted avg       0.46      0.47      0.45       102\n",
      "\n"
     ]
    }
   ],
   "source": [
    "##now we print the classification report\n",
    "from sklearn.metrics import confusion_matrix,classification_report\n",
    "print(classification_report(y_test,y_pred))"
   ]
  },
  {
   "cell_type": "code",
   "execution_count": 108,
   "metadata": {},
   "outputs": [
    {
     "name": "stdout",
     "output_type": "stream",
     "text": [
      "Epoch 1/100\n",
      "51/51 [==============================] - 3s 7ms/step - loss: 11.2951 - accuracy: 0.4938\n",
      "Epoch 2/100\n",
      "51/51 [==============================] - 1s 7ms/step - loss: 6.0684 - accuracy: 0.5012\n",
      "Epoch 3/100\n",
      "51/51 [==============================] - 0s 3ms/step - loss: 3.7346 - accuracy: 0.5086\n",
      "Epoch 4/100\n",
      "51/51 [==============================] - 0s 6ms/step - loss: 3.3035 - accuracy: 0.5111: 0s - loss: 3.0610 - accuracy: \n",
      "Epoch 5/100\n",
      "51/51 [==============================] - 0s 6ms/step - loss: 3.2762 - accuracy: 0.5086\n",
      "Epoch 6/100\n",
      "51/51 [==============================] - 0s 6ms/step - loss: 2.0172 - accuracy: 0.4914\n",
      "Epoch 7/100\n",
      "51/51 [==============================] - 0s 5ms/step - loss: 1.2364 - accuracy: 0.5259\n",
      "Epoch 8/100\n",
      "51/51 [==============================] - 0s 9ms/step - loss: 1.5394 - accuracy: 0.4938: 0s - loss: 1.5462 - accuracy: 0.\n",
      "Epoch 9/100\n",
      "51/51 [==============================] - 0s 6ms/step - loss: 1.4483 - accuracy: 0.4840\n",
      "Epoch 10/100\n",
      "51/51 [==============================] - 0s 8ms/step - loss: 1.0948 - accuracy: 0.5012\n",
      "Epoch 11/100\n",
      "51/51 [==============================] - 0s 6ms/step - loss: 1.0909 - accuracy: 0.5111: 0s - loss: 1.2670 - accuracy: \n",
      "Epoch 12/100\n",
      "51/51 [==============================] - 0s 3ms/step - loss: 1.0288 - accuracy: 0.4790\n",
      "Epoch 13/100\n",
      "51/51 [==============================] - 0s 3ms/step - loss: 0.9692 - accuracy: 0.5012\n",
      "Epoch 14/100\n",
      "51/51 [==============================] - 0s 6ms/step - loss: 1.0282 - accuracy: 0.4691\n",
      "Epoch 15/100\n",
      "51/51 [==============================] - 0s 8ms/step - loss: 0.8366 - accuracy: 0.5062\n",
      "Epoch 16/100\n",
      "51/51 [==============================] - 0s 5ms/step - loss: 0.8711 - accuracy: 0.4963\n",
      "Epoch 17/100\n",
      "51/51 [==============================] - 0s 4ms/step - loss: 0.7859 - accuracy: 0.4914\n",
      "Epoch 18/100\n",
      "51/51 [==============================] - 0s 10ms/step - loss: 0.7898 - accuracy: 0.5062\n",
      "Epoch 19/100\n",
      "51/51 [==============================] - 0s 4ms/step - loss: 0.7677 - accuracy: 0.4765\n",
      "Epoch 20/100\n",
      "51/51 [==============================] - 0s 3ms/step - loss: 0.8915 - accuracy: 0.4889\n",
      "Epoch 21/100\n",
      "51/51 [==============================] - 0s 6ms/step - loss: 0.8380 - accuracy: 0.4889\n",
      "Epoch 22/100\n",
      "51/51 [==============================] - 0s 3ms/step - loss: 0.8428 - accuracy: 0.4914\n",
      "Epoch 23/100\n",
      "51/51 [==============================] - 0s 3ms/step - loss: 0.7595 - accuracy: 0.4840\n",
      "Epoch 24/100\n",
      "51/51 [==============================] - 0s 3ms/step - loss: 0.7434 - accuracy: 0.5086\n",
      "Epoch 25/100\n",
      "51/51 [==============================] - 0s 3ms/step - loss: 0.7793 - accuracy: 0.4988\n",
      "Epoch 26/100\n",
      "51/51 [==============================] - 0s 4ms/step - loss: 0.7212 - accuracy: 0.5062\n",
      "Epoch 27/100\n",
      "51/51 [==============================] - 0s 4ms/step - loss: 0.7282 - accuracy: 0.5012\n",
      "Epoch 28/100\n",
      "51/51 [==============================] - 0s 3ms/step - loss: 0.7494 - accuracy: 0.5012\n",
      "Epoch 29/100\n",
      "51/51 [==============================] - 0s 3ms/step - loss: 0.7134 - accuracy: 0.4988\n",
      "Epoch 30/100\n",
      "51/51 [==============================] - 0s 3ms/step - loss: 0.7133 - accuracy: 0.5012\n",
      "Epoch 31/100\n",
      "51/51 [==============================] - 0s 3ms/step - loss: 0.7776 - accuracy: 0.4741\n",
      "Epoch 32/100\n",
      "51/51 [==============================] - 0s 7ms/step - loss: 0.7003 - accuracy: 0.5062\n",
      "Epoch 33/100\n",
      "51/51 [==============================] - 0s 4ms/step - loss: 0.7130 - accuracy: 0.5062\n",
      "Epoch 34/100\n",
      "51/51 [==============================] - 0s 4ms/step - loss: 0.7312 - accuracy: 0.4963\n",
      "Epoch 35/100\n",
      "51/51 [==============================] - 0s 4ms/step - loss: 0.7394 - accuracy: 0.4988\n",
      "Epoch 36/100\n",
      "51/51 [==============================] - 0s 6ms/step - loss: 0.6965 - accuracy: 0.5012\n",
      "Epoch 37/100\n",
      "51/51 [==============================] - 0s 4ms/step - loss: 0.7412 - accuracy: 0.4741\n",
      "Epoch 38/100\n",
      "51/51 [==============================] - 0s 3ms/step - loss: 0.6943 - accuracy: 0.5062\n",
      "Epoch 39/100\n",
      "51/51 [==============================] - 0s 5ms/step - loss: 0.7143 - accuracy: 0.5037\n",
      "Epoch 40/100\n",
      "51/51 [==============================] - 0s 5ms/step - loss: 0.7119 - accuracy: 0.4963\n",
      "Epoch 41/100\n",
      "51/51 [==============================] - 0s 4ms/step - loss: 0.7073 - accuracy: 0.5136\n",
      "Epoch 42/100\n",
      "51/51 [==============================] - 0s 5ms/step - loss: 0.6952 - accuracy: 0.4938\n",
      "Epoch 43/100\n",
      "51/51 [==============================] - 0s 5ms/step - loss: 0.6969 - accuracy: 0.5037\n",
      "Epoch 44/100\n",
      "51/51 [==============================] - 0s 10ms/step - loss: 0.6960 - accuracy: 0.5062\n",
      "Epoch 45/100\n",
      "51/51 [==============================] - 0s 4ms/step - loss: 0.6996 - accuracy: 0.4914: 0s - loss: 0.7009 - accuracy: 0.48\n",
      "Epoch 46/100\n",
      "51/51 [==============================] - 0s 7ms/step - loss: 0.7187 - accuracy: 0.4914\n",
      "Epoch 47/100\n",
      "51/51 [==============================] - 1s 11ms/step - loss: 0.7046 - accuracy: 0.4938\n",
      "Epoch 48/100\n",
      "51/51 [==============================] - 0s 8ms/step - loss: 0.6918 - accuracy: 0.5037\n",
      "Epoch 49/100\n",
      "51/51 [==============================] - 0s 9ms/step - loss: 0.7147 - accuracy: 0.4815\n",
      "Epoch 50/100\n",
      "51/51 [==============================] - 0s 7ms/step - loss: 0.6920 - accuracy: 0.5037\n",
      "Epoch 51/100\n",
      "51/51 [==============================] - 1s 12ms/step - loss: 0.6943 - accuracy: 0.4938\n",
      "Epoch 52/100\n",
      "51/51 [==============================] - 0s 8ms/step - loss: 0.6956 - accuracy: 0.4988\n",
      "Epoch 53/100\n",
      "51/51 [==============================] - 0s 9ms/step - loss: 0.6970 - accuracy: 0.5012\n",
      "Epoch 54/100\n",
      "51/51 [==============================] - 0s 9ms/step - loss: 0.6969 - accuracy: 0.4914\n",
      "Epoch 55/100\n",
      "51/51 [==============================] - 0s 9ms/step - loss: 0.6924 - accuracy: 0.5037\n",
      "Epoch 56/100\n",
      "51/51 [==============================] - 0s 6ms/step - loss: 0.6960 - accuracy: 0.5037\n",
      "Epoch 57/100\n",
      "51/51 [==============================] - 0s 7ms/step - loss: 0.6920 - accuracy: 0.5012\n",
      "Epoch 58/100\n",
      "51/51 [==============================] - 1s 14ms/step - loss: 0.6948 - accuracy: 0.4988\n",
      "Epoch 59/100\n",
      "51/51 [==============================] - 0s 7ms/step - loss: 0.6916 - accuracy: 0.5136\n",
      "Epoch 60/100\n",
      "51/51 [==============================] - 0s 6ms/step - loss: 0.6939 - accuracy: 0.4889\n",
      "Epoch 61/100\n",
      "51/51 [==============================] - 0s 9ms/step - loss: 0.7088 - accuracy: 0.4815\n",
      "Epoch 62/100\n",
      "51/51 [==============================] - 1s 13ms/step - loss: 0.6934 - accuracy: 0.5062\n",
      "Epoch 63/100\n",
      "51/51 [==============================] - ETA: 0s - loss: 0.6922 - accuracy: 0.5051 ETA: 0s - loss: 0.6959 - accura - 0s 7ms/step - loss: 0.6915 - accuracy: 0.5012\n",
      "Epoch 64/100\n",
      "51/51 [==============================] - 0s 9ms/step - loss: 0.6955 - accuracy: 0.4914\n",
      "Epoch 65/100\n",
      "51/51 [==============================] - 0s 6ms/step - loss: 0.6956 - accuracy: 0.4938\n",
      "Epoch 66/100\n",
      "51/51 [==============================] - 0s 7ms/step - loss: 0.7018 - accuracy: 0.5012\n",
      "Epoch 67/100\n",
      "51/51 [==============================] - 0s 8ms/step - loss: 0.7038 - accuracy: 0.4988\n",
      "Epoch 68/100\n",
      "51/51 [==============================] - ETA: 0s - loss: 0.6966 - accuracy: 0.49 - 0s 6ms/step - loss: 0.6965 - accuracy: 0.4914\n",
      "Epoch 69/100\n",
      "51/51 [==============================] - 0s 9ms/step - loss: 0.6920 - accuracy: 0.5012\n",
      "Epoch 70/100\n",
      "51/51 [==============================] - 0s 5ms/step - loss: 0.6923 - accuracy: 0.5062\n",
      "Epoch 71/100\n",
      "51/51 [==============================] - 0s 5ms/step - loss: 0.6951 - accuracy: 0.4938\n",
      "Epoch 72/100\n",
      "51/51 [==============================] - 0s 8ms/step - loss: 0.6929 - accuracy: 0.4815\n",
      "Epoch 73/100\n",
      "51/51 [==============================] - 0s 7ms/step - loss: 0.6919 - accuracy: 0.4938\n",
      "Epoch 74/100\n",
      "51/51 [==============================] - 0s 7ms/step - loss: 0.6929 - accuracy: 0.4938\n",
      "Epoch 75/100\n",
      "51/51 [==============================] - 0s 7ms/step - loss: 0.6947 - accuracy: 0.4988\n",
      "Epoch 76/100\n",
      "51/51 [==============================] - 0s 4ms/step - loss: 0.6959 - accuracy: 0.4543\n",
      "Epoch 77/100\n",
      "51/51 [==============================] - 0s 8ms/step - loss: 0.6976 - accuracy: 0.4667: 0s - loss: 0.6986 - accuracy: 0.47\n",
      "Epoch 78/100\n",
      "51/51 [==============================] - 0s 8ms/step - loss: 0.7014 - accuracy: 0.4765\n",
      "Epoch 79/100\n",
      "51/51 [==============================] - 0s 7ms/step - loss: 0.6937 - accuracy: 0.4593\n",
      "Epoch 80/100\n"
     ]
    },
    {
     "name": "stdout",
     "output_type": "stream",
     "text": [
      "51/51 [==============================] - 0s 7ms/step - loss: 0.6931 - accuracy: 0.4963\n",
      "Epoch 81/100\n",
      "51/51 [==============================] - 0s 6ms/step - loss: 0.6898 - accuracy: 0.5086\n",
      "Epoch 82/100\n",
      "51/51 [==============================] - 0s 9ms/step - loss: 0.6932 - accuracy: 0.4790\n",
      "Epoch 83/100\n",
      "51/51 [==============================] - ETA: 0s - loss: 0.6931 - accuracy: 0.46 - 0s 6ms/step - loss: 0.6924 - accuracy: 0.4741\n",
      "Epoch 84/100\n",
      "51/51 [==============================] - 0s 5ms/step - loss: 0.6930 - accuracy: 0.4963\n",
      "Epoch 85/100\n",
      "51/51 [==============================] - 1s 10ms/step - loss: 0.6917 - accuracy: 0.4765\n",
      "Epoch 86/100\n",
      "51/51 [==============================] - 0s 5ms/step - loss: 0.6937 - accuracy: 0.4889\n",
      "Epoch 87/100\n",
      "51/51 [==============================] - 1s 10ms/step - loss: 0.6945 - accuracy: 0.4963\n",
      "Epoch 88/100\n",
      "51/51 [==============================] - 0s 9ms/step - loss: 0.6928 - accuracy: 0.5012\n",
      "Epoch 89/100\n",
      "51/51 [==============================] - 0s 7ms/step - loss: 0.6939 - accuracy: 0.4815\n",
      "Epoch 90/100\n",
      "51/51 [==============================] - 0s 9ms/step - loss: 0.6962 - accuracy: 0.4716\n",
      "Epoch 91/100\n",
      "51/51 [==============================] - 0s 6ms/step - loss: 0.6930 - accuracy: 0.4765\n",
      "Epoch 92/100\n",
      "51/51 [==============================] - 0s 8ms/step - loss: 0.6927 - accuracy: 0.4864\n",
      "Epoch 93/100\n",
      "51/51 [==============================] - 0s 5ms/step - loss: 0.6918 - accuracy: 0.5086\n",
      "Epoch 94/100\n",
      "51/51 [==============================] - 0s 7ms/step - loss: 0.6942 - accuracy: 0.4963\n",
      "Epoch 95/100\n",
      "51/51 [==============================] - 0s 7ms/step - loss: 0.6956 - accuracy: 0.5086\n",
      "Epoch 96/100\n",
      "51/51 [==============================] - 0s 6ms/step - loss: 0.6914 - accuracy: 0.5136\n",
      "Epoch 97/100\n",
      "51/51 [==============================] - 0s 9ms/step - loss: 0.6944 - accuracy: 0.4988\n",
      "Epoch 98/100\n",
      "51/51 [==============================] - 0s 6ms/step - loss: 0.6947 - accuracy: 0.5012\n",
      "Epoch 99/100\n",
      "51/51 [==============================] - 0s 9ms/step - loss: 0.6910 - accuracy: 0.5086\n",
      "Epoch 100/100\n",
      "51/51 [==============================] - 0s 7ms/step - loss: 0.6930 - accuracy: 0.5037\n"
     ]
    },
    {
     "data": {
      "text/plain": [
       "<tensorflow.python.keras.callbacks.History at 0x28f050f9bb0>"
      ]
     },
     "execution_count": 108,
     "metadata": {},
     "output_type": "execute_result"
    }
   ],
   "source": [
    "###using dropout layers to try improve the performance of our ANN model\n",
    "modeld=keras.Sequential([\n",
    "    keras.layers.Dense(14,input_dim=14,activation='relu'),\n",
    "    keras.layers.Dropout(0.5),#this layer will drop 50% of the neurons-----the good practice is we put dropout layer after each\n",
    "    #hidden layer\n",
    "    keras.layers.Dense(7,activation='relu'),\n",
    "    keras.layers.Dropout(0.5),\n",
    "    keras.layers.Dense(5,activation='relu'),\n",
    "    keras.layers.Dropout(0.5),\n",
    "    keras.layers.Dense(1,activation='sigmoid')\n",
    "])\n",
    "modeld.compile(\n",
    "    loss='binary_crossentropy',\n",
    "    optimizer='adam',\n",
    "    metrics=['accuracy']\n",
    ")\n",
    "modeld.fit(X_train,y_train,epochs=100,batch_size=8)"
   ]
  },
  {
   "cell_type": "code",
   "execution_count": 109,
   "metadata": {},
   "outputs": [
    {
     "name": "stdout",
     "output_type": "stream",
     "text": [
      "4/4 [==============================] - 1s 7ms/step - loss: 0.6931 - accuracy: 0.5098\n"
     ]
    },
    {
     "data": {
      "text/plain": [
       "[0.693098783493042, 0.5098039507865906]"
      ]
     },
     "execution_count": 109,
     "metadata": {},
     "output_type": "execute_result"
    }
   ],
   "source": [
    "modeld.evaluate(X_test,y_test)"
   ]
  },
  {
   "cell_type": "code",
   "execution_count": null,
   "metadata": {},
   "outputs": [],
   "source": []
  }
 ],
 "metadata": {
  "kernelspec": {
   "display_name": "Python 3",
   "language": "python",
   "name": "python3"
  },
  "language_info": {
   "codemirror_mode": {
    "name": "ipython",
    "version": 3
   },
   "file_extension": ".py",
   "mimetype": "text/x-python",
   "name": "python",
   "nbconvert_exporter": "python",
   "pygments_lexer": "ipython3",
   "version": "3.8.5"
  }
 },
 "nbformat": 4,
 "nbformat_minor": 4
}
