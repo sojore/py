{
  "nbformat": 4,
  "nbformat_minor": 0,
  "metadata": {
    "colab": {
      "name": "implementation of VAE in pytorch.ipynb",
      "provenance": []
    },
    "kernelspec": {
      "name": "python3",
      "display_name": "Python 3"
    },
    "language_info": {
      "name": "python"
    },
    "accelerator": "GPU"
  },
  "cells": [
    {
      "cell_type": "code",
      "execution_count": 1,
      "metadata": {
        "id": "stPmhQpdD7dr"
      },
      "outputs": [],
      "source": [
        "#importing the important libraries\n",
        "from torchvision import datasets, transforms\n",
        "import torch\n",
        "import torch.nn.functional as F\n",
        "from torchvision.utils import save_image\n",
        "import torchvision\n",
        "import torch.nn as nn\n",
        "\n",
        "\n",
        "import matplotlib.pyplot as plt\n",
        "import numpy as np\n",
        "import random"
      ]
    },
    {
      "cell_type": "code",
      "source": [
        "#what GPUs are available\n",
        "dp = torch.device('cuda' if torch.cuda.is_available() else 'cpu')\n",
        "dp"
      ],
      "metadata": {
        "colab": {
          "base_uri": "https://localhost:8080/"
        },
        "id": "KCawzTPVHfo3",
        "outputId": "3d825581-ee28-48f1-99c4-e3b13cd06ce0"
      },
      "execution_count": 2,
      "outputs": [
        {
          "output_type": "execute_result",
          "data": {
            "text/plain": [
              "device(type='cuda')"
            ]
          },
          "metadata": {},
          "execution_count": 2
        }
      ]
    },
    {
      "cell_type": "code",
      "source": [
        "#implementing the VAE \n",
        "class VariationalAutoEncoder(nn.Module):\n",
        "    def __init__(self, number_of_samples=1, imagefeaturedimension=32*20*20, Zdim=20):\n",
        "        super(VariationalAutoEncoder, self).__init__()\n",
        "\n",
        "        #onvolutional layers with full-connected layers for the encoder\n",
        "        self.encConv1 = nn.Conv2d(number_of_samples, 16, 5)\n",
        "        self.encConv2 = nn.Conv2d(16, 32, 5)\n",
        "        self.encFC1 = nn.Linear(imagefeaturedimension, Zdim)\n",
        "        self.encFC2 = nn.Linear(imagefeaturedimension, Zdim)\n",
        "\n",
        "        # fully-connected layer with onvolutional layers for decoder\n",
        "        self.decFC1 = nn.Linear(Zdim, imagefeaturedimension)\n",
        "        self.decConv1 = nn.ConvTranspose2d(32, 16, 5)\n",
        "        self.decConv2 = nn.ConvTranspose2d(16, number_of_samples, 5)\n",
        "\n",
        "    #encoder method\n",
        "    def encoder(self, x_val):\n",
        "        x_val = F.relu(self.encConv1(x_val))\n",
        "        x_val = F.relu(self.encConv2(x_val))\n",
        "        x_val = x_val.view(-1, 32*20*20)\n",
        "        mu = self.encFC1(x_val)\n",
        "        logVariation = self.encFC2(x_val)\n",
        "        return mu, logVariation\n",
        "\n",
        "    #Reparameterization method\n",
        "    def reparameterize(self, mu, logVariation):\n",
        "        std = torch.exp(logVariation/2)\n",
        "        eps = torch.randn_like(std)\n",
        "        return mu + std * eps\n",
        "    #decoder method\n",
        "    def decoder(self, z):\n",
        "        x_val = F.relu(self.decFC1(z))\n",
        "        x_val = x_val.view(-1, 32, 20, 20)\n",
        "        x_val = F.relu(self.decConv1(x_val))\n",
        "        x_val = torch.sigmoid(self.decConv2(x_val))\n",
        "        return x_val\n",
        "    #feed forward method\n",
        "    def forward(self, x):\n",
        "        mu, logVariation = self.encoder(x)\n",
        "        z = self.reparameterize(mu, logVariation)\n",
        "        out = self.decoder(z)\n",
        "        return out, mu, logVariation"
      ],
      "metadata": {
        "id": "aEHN3DcuEKEy"
      },
      "execution_count": 3,
      "outputs": []
    },
    {
      "cell_type": "code",
      "source": [
        "#training procedure implementation\n",
        "#defining Hyperparameters\n",
        "learning_rate = 1e-3\n",
        "num_epochs = 10  #change the no of epochs to 80 and compare results as well\n",
        "batch_size = 128\n",
        "\n",
        "\n",
        "#Creating  dataloaders to feed data to the NN\n",
        "training_loader = torch.utils.data.DataLoader(\n",
        "    datasets.MNIST('data', train=True, download=True,\n",
        "                    transform=transforms.ToTensor()),\n",
        "    batch_size=batch_size, shuffle=True)\n",
        "testing_loader = torch.utils.data.DataLoader(\n",
        "    datasets.MNIST('data', train=False, transform=transforms.ToTensor()),\n",
        "    batch_size=1)\n",
        "\n",
        "\n",
        "\n",
        "#defining the network with the Adam optimizer\n",
        "\n",
        "net = VariationalAutoEncoder().to(dp)\n",
        "optimizer = torch.optim.Adam(net.parameters(), lr=learning_rate)\n",
        "\n",
        "\n",
        "#training the network\n",
        "for epoch in range(num_epochs):\n",
        "    for idx, data in enumerate(training_loader, 0):\n",
        "        images, _ = data\n",
        "        images = images.to(dp)\n",
        "\n",
        "        # Feeding a batch of images into the network to obtain the output image, mu, and logVar\n",
        "        out, mu, logVar = net(images)\n",
        "\n",
        "        # The loss is the BCE loss combined with the KL divergence to ensure the distribution is learnt\n",
        "        kl_divergence = 0.5 * torch.sum(-1 - logVar + mu.pow(2) + logVar.exp())\n",
        "        loss = F.binary_cross_entropy(out, images, size_average=False) + kl_divergence\n",
        "\n",
        "        # Backpropagation based on the loss\n",
        "        optimizer.zero_grad()\n",
        "        loss.backward()\n",
        "        optimizer.step()\n",
        "\n",
        "    print('Epoch {}: Loss {}'.format(epoch, loss))"
      ],
      "metadata": {
        "colab": {
          "base_uri": "https://localhost:8080/"
        },
        "id": "Uv0ymog9Ej3V",
        "outputId": "4fab7810-fa6d-4793-dd71-0457aa2816b5"
      },
      "execution_count": 4,
      "outputs": [
        {
          "output_type": "stream",
          "name": "stderr",
          "text": [
            "/usr/local/lib/python3.7/dist-packages/torch/nn/_reduction.py:42: UserWarning: size_average and reduce args will be deprecated, please use reduction='sum' instead.\n",
            "  warnings.warn(warning.format(ret))\n"
          ]
        },
        {
          "output_type": "stream",
          "name": "stdout",
          "text": [
            "Epoch 0: Loss 11148.2880859375\n",
            "Epoch 1: Loss 10158.416015625\n",
            "Epoch 2: Loss 10007.6220703125\n",
            "Epoch 3: Loss 10543.0166015625\n",
            "Epoch 4: Loss 9802.322265625\n",
            "Epoch 5: Loss 10318.798828125\n",
            "Epoch 6: Loss 9935.015625\n",
            "Epoch 7: Loss 9542.548828125\n",
            "Epoch 8: Loss 9277.42578125\n",
            "Epoch 9: Loss 9526.189453125\n"
          ]
        }
      ]
    },
    {
      "cell_type": "code",
      "source": [
        "#visualizing the data to make comparisons (ploting both original and new image to monitor the changes)\n",
        "\n",
        "import matplotlib.pyplot as plt\n",
        "import numpy as np\n",
        "import random\n",
        "\n",
        "net.eval()\n",
        "with torch.no_grad():\n",
        "    for data in random.sample(list(testing_loader), 1):\n",
        "        images, _ = data\n",
        "        images = images.to(dp)\n",
        "        img = np.transpose(images[0].cpu().numpy(), [1,2,0])\n",
        "        plt.subplot(121)\n",
        "        plt.imshow(np.squeeze(img))\n",
        "        out, mu, logVariation = net(images)\n",
        "        outimg = np.transpose(out[0].cpu().numpy(), [1,2,0])\n",
        "        plt.subplot(122)\n",
        "        plt.imshow(np.squeeze(outimg))\n",
        "        break"
      ],
      "metadata": {
        "colab": {
          "base_uri": "https://localhost:8080/",
          "height": 201
        },
        "id": "cVLNuXNvE1YD",
        "outputId": "c2a061d9-6a7e-41d6-cd3c-b6ff791b4476"
      },
      "execution_count": 5,
      "outputs": [
        {
          "output_type": "display_data",
          "data": {
            "image/png": "[encoded data removed]",
            "text/plain": [
              "<Figure size 432x288 with 2 Axes>"
            ]
          },
          "metadata": {
            "needs_background": "light"
          }
        }
      ]
    },
    {
      "cell_type": "markdown",
      "source": [
        "END OF IMPLEMENTATION AND TESTING!!! THANK YOU!!!"
      ],
      "metadata": {
        "id": "9ivTYhOoPHDS"
      }
    },
    {
      "cell_type": "code",
      "source": [
        ""
      ],
      "metadata": {
        "id": "2Uc6aS-2PPy_"
      },
      "execution_count": null,
      "outputs": []
    }
  ]
}