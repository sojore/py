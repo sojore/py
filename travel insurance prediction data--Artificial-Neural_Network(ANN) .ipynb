{
 "cells": [
  {
   "cell_type": "code",
   "execution_count": 1,
   "metadata": {},
   "outputs": [],
   "source": [
    "#task,buliding a ANN model for travel insurance prediction"
   ]
  },
  {
   "cell_type": "code",
   "execution_count": 2,
   "metadata": {},
   "outputs": [],
   "source": [
    "#import important libraries\n",
    "import pandas as pd\n",
    "import numpy as np\n",
    "import matplotlib\n",
    "import matplotlib.pyplot as plt\n",
    "matplotlib.rcParams['figure.figsize']=(15,10)\n",
    "%matplotlib inline"
   ]
  },
  {
   "cell_type": "code",
   "execution_count": 7,
   "metadata": {},
   "outputs": [
    {
     "data": {
      "text/html": [
       "<div>\n",
       "<style scoped>\n",
       "    .dataframe tbody tr th:only-of-type {\n",
       "        vertical-align: middle;\n",
       "    }\n",
       "\n",
       "    .dataframe tbody tr th {\n",
       "        vertical-align: top;\n",
       "    }\n",
       "\n",
       "    .dataframe thead th {\n",
       "        text-align: right;\n",
       "    }\n",
       "</style>\n",
       "<table border=\"1\" class=\"dataframe\">\n",
       "  <thead>\n",
       "    <tr style=\"text-align: right;\">\n",
       "      <th></th>\n",
       "      <th>Unnamed: 0</th>\n",
       "      <th>Age</th>\n",
       "      <th>Employment Type</th>\n",
       "      <th>GraduateOrNot</th>\n",
       "      <th>AnnualIncome</th>\n",
       "      <th>FamilyMembers</th>\n",
       "      <th>ChronicDiseases</th>\n",
       "      <th>FrequentFlyer</th>\n",
       "      <th>EverTravelledAbroad</th>\n",
       "      <th>TravelInsurance</th>\n",
       "    </tr>\n",
       "  </thead>\n",
       "  <tbody>\n",
       "    <tr>\n",
       "      <th>0</th>\n",
       "      <td>0</td>\n",
       "      <td>31</td>\n",
       "      <td>Government Sector</td>\n",
       "      <td>Yes</td>\n",
       "      <td>400000</td>\n",
       "      <td>6</td>\n",
       "      <td>1</td>\n",
       "      <td>No</td>\n",
       "      <td>No</td>\n",
       "      <td>0</td>\n",
       "    </tr>\n",
       "    <tr>\n",
       "      <th>1</th>\n",
       "      <td>1</td>\n",
       "      <td>31</td>\n",
       "      <td>Private Sector/Self Employed</td>\n",
       "      <td>Yes</td>\n",
       "      <td>1250000</td>\n",
       "      <td>7</td>\n",
       "      <td>0</td>\n",
       "      <td>No</td>\n",
       "      <td>No</td>\n",
       "      <td>0</td>\n",
       "    </tr>\n",
       "    <tr>\n",
       "      <th>2</th>\n",
       "      <td>2</td>\n",
       "      <td>34</td>\n",
       "      <td>Private Sector/Self Employed</td>\n",
       "      <td>Yes</td>\n",
       "      <td>500000</td>\n",
       "      <td>4</td>\n",
       "      <td>1</td>\n",
       "      <td>No</td>\n",
       "      <td>No</td>\n",
       "      <td>1</td>\n",
       "    </tr>\n",
       "    <tr>\n",
       "      <th>3</th>\n",
       "      <td>3</td>\n",
       "      <td>28</td>\n",
       "      <td>Private Sector/Self Employed</td>\n",
       "      <td>Yes</td>\n",
       "      <td>700000</td>\n",
       "      <td>3</td>\n",
       "      <td>1</td>\n",
       "      <td>No</td>\n",
       "      <td>No</td>\n",
       "      <td>0</td>\n",
       "    </tr>\n",
       "    <tr>\n",
       "      <th>4</th>\n",
       "      <td>4</td>\n",
       "      <td>28</td>\n",
       "      <td>Private Sector/Self Employed</td>\n",
       "      <td>Yes</td>\n",
       "      <td>700000</td>\n",
       "      <td>8</td>\n",
       "      <td>1</td>\n",
       "      <td>Yes</td>\n",
       "      <td>No</td>\n",
       "      <td>0</td>\n",
       "    </tr>\n",
       "  </tbody>\n",
       "</table>\n",
       "</div>"
      ],
      "text/plain": [
       "   Unnamed: 0  Age               Employment Type GraduateOrNot  AnnualIncome  \\\n",
       "0           0   31             Government Sector           Yes        400000   \n",
       "1           1   31  Private Sector/Self Employed           Yes       1250000   \n",
       "2           2   34  Private Sector/Self Employed           Yes        500000   \n",
       "3           3   28  Private Sector/Self Employed           Yes        700000   \n",
       "4           4   28  Private Sector/Self Employed           Yes        700000   \n",
       "\n",
       "   FamilyMembers  ChronicDiseases FrequentFlyer EverTravelledAbroad  \\\n",
       "0              6                1            No                  No   \n",
       "1              7                0            No                  No   \n",
       "2              4                1            No                  No   \n",
       "3              3                1            No                  No   \n",
       "4              8                1           Yes                  No   \n",
       "\n",
       "   TravelInsurance  \n",
       "0                0  \n",
       "1                0  \n",
       "2                1  \n",
       "3                0  \n",
       "4                0  "
      ]
     },
     "execution_count": 7,
     "metadata": {},
     "output_type": "execute_result"
    }
   ],
   "source": [
    "#loading the dataset\n",
    "df=pd.read_csv('C://Users/sojore/Documents/travel insurance prediction data/TravelInsurancePrediction.csv')\n",
    "df.head()"
   ]
  },
  {
   "cell_type": "code",
   "execution_count": 8,
   "metadata": {},
   "outputs": [
    {
     "data": {
      "text/plain": [
       "(1987, 10)"
      ]
     },
     "execution_count": 8,
     "metadata": {},
     "output_type": "execute_result"
    }
   ],
   "source": [
    "#exploring the dataset\n",
    "df.shape"
   ]
  },
  {
   "cell_type": "code",
   "execution_count": 9,
   "metadata": {},
   "outputs": [
    {
     "data": {
      "text/plain": [
       "Unnamed: 0             0\n",
       "Age                    0\n",
       "Employment Type        0\n",
       "GraduateOrNot          0\n",
       "AnnualIncome           0\n",
       "FamilyMembers          0\n",
       "ChronicDiseases        0\n",
       "FrequentFlyer          0\n",
       "EverTravelledAbroad    0\n",
       "TravelInsurance        0\n",
       "dtype: int64"
      ]
     },
     "execution_count": 9,
     "metadata": {},
     "output_type": "execute_result"
    }
   ],
   "source": [
    "df.isnull().sum()"
   ]
  },
  {
   "cell_type": "code",
   "execution_count": 10,
   "metadata": {},
   "outputs": [
    {
     "data": {
      "text/plain": [
       "Index(['Unnamed: 0', 'Age', 'Employment Type', 'GraduateOrNot', 'AnnualIncome',\n",
       "       'FamilyMembers', 'ChronicDiseases', 'FrequentFlyer',\n",
       "       'EverTravelledAbroad', 'TravelInsurance'],\n",
       "      dtype='object')"
      ]
     },
     "execution_count": 10,
     "metadata": {},
     "output_type": "execute_result"
    }
   ],
   "source": [
    "df.columns"
   ]
  },
  {
   "cell_type": "code",
   "execution_count": 11,
   "metadata": {},
   "outputs": [
    {
     "data": {
      "text/plain": [
       "Employment Type\n",
       "Government Sector                570\n",
       "Private Sector/Self Employed    1417\n",
       "Name: Employment Type, dtype: int64"
      ]
     },
     "execution_count": 11,
     "metadata": {},
     "output_type": "execute_result"
    }
   ],
   "source": [
    "df.groupby('Employment Type')['Employment Type'].agg('count')"
   ]
  },
  {
   "cell_type": "code",
   "execution_count": 12,
   "metadata": {},
   "outputs": [
    {
     "data": {
      "text/html": [
       "<div>\n",
       "<style scoped>\n",
       "    .dataframe tbody tr th:only-of-type {\n",
       "        vertical-align: middle;\n",
       "    }\n",
       "\n",
       "    .dataframe tbody tr th {\n",
       "        vertical-align: top;\n",
       "    }\n",
       "\n",
       "    .dataframe thead th {\n",
       "        text-align: right;\n",
       "    }\n",
       "</style>\n",
       "<table border=\"1\" class=\"dataframe\">\n",
       "  <thead>\n",
       "    <tr style=\"text-align: right;\">\n",
       "      <th></th>\n",
       "      <th>Unnamed: 0</th>\n",
       "      <th>Age</th>\n",
       "      <th>Employment Type</th>\n",
       "      <th>GraduateOrNot</th>\n",
       "      <th>AnnualIncome</th>\n",
       "      <th>FamilyMembers</th>\n",
       "      <th>ChronicDiseases</th>\n",
       "      <th>FrequentFlyer</th>\n",
       "      <th>EverTravelledAbroad</th>\n",
       "      <th>TravelInsurance</th>\n",
       "    </tr>\n",
       "  </thead>\n",
       "  <tbody>\n",
       "    <tr>\n",
       "      <th>0</th>\n",
       "      <td>0</td>\n",
       "      <td>31</td>\n",
       "      <td>Government Sector</td>\n",
       "      <td>Yes</td>\n",
       "      <td>400000</td>\n",
       "      <td>6</td>\n",
       "      <td>1</td>\n",
       "      <td>No</td>\n",
       "      <td>No</td>\n",
       "      <td>0</td>\n",
       "    </tr>\n",
       "  </tbody>\n",
       "</table>\n",
       "</div>"
      ],
      "text/plain": [
       "   Unnamed: 0  Age    Employment Type GraduateOrNot  AnnualIncome  \\\n",
       "0           0   31  Government Sector           Yes        400000   \n",
       "\n",
       "   FamilyMembers  ChronicDiseases FrequentFlyer EverTravelledAbroad  \\\n",
       "0              6                1            No                  No   \n",
       "\n",
       "   TravelInsurance  \n",
       "0                0  "
      ]
     },
     "execution_count": 12,
     "metadata": {},
     "output_type": "execute_result"
    }
   ],
   "source": [
    "df.head(1)"
   ]
  },
  {
   "cell_type": "code",
   "execution_count": 14,
   "metadata": {},
   "outputs": [
    {
     "data": {
      "text/plain": [
       "<function matplotlib.pyplot.show(close=None, block=None)>"
      ]
     },
     "execution_count": 14,
     "metadata": {},
     "output_type": "execute_result"
    },
    {
     "data": {
      "image/png": "[encoded data removed]",
      "text/plain": [
       "<Figure size 432x288 with 1 Axes>"
      ]
     },
     "metadata": {
      "needs_background": "light"
     },
     "output_type": "display_data"
    }
   ],
   "source": [
    "plt.hist(df.AnnualIncome,rwidth=0.8)\n",
    "plt.show"
   ]
  },
  {
   "cell_type": "code",
   "execution_count": 19,
   "metadata": {},
   "outputs": [
    {
     "data": {
      "text/html": [
       "<div>\n",
       "<style scoped>\n",
       "    .dataframe tbody tr th:only-of-type {\n",
       "        vertical-align: middle;\n",
       "    }\n",
       "\n",
       "    .dataframe tbody tr th {\n",
       "        vertical-align: top;\n",
       "    }\n",
       "\n",
       "    .dataframe thead th {\n",
       "        text-align: right;\n",
       "    }\n",
       "</style>\n",
       "<table border=\"1\" class=\"dataframe\">\n",
       "  <thead>\n",
       "    <tr style=\"text-align: right;\">\n",
       "      <th></th>\n",
       "      <th>Unnamed: 0</th>\n",
       "      <th>Age</th>\n",
       "      <th>Employment Type</th>\n",
       "      <th>GraduateOrNot</th>\n",
       "      <th>AnnualIncome</th>\n",
       "      <th>FamilyMembers</th>\n",
       "      <th>ChronicDiseases</th>\n",
       "      <th>FrequentFlyer</th>\n",
       "      <th>EverTravelledAbroad</th>\n",
       "      <th>TravelInsurance</th>\n",
       "      <th>annualincome_Per_m</th>\n",
       "      <th>Age2</th>\n",
       "      <th>FamilyMembers2</th>\n",
       "      <th>AnnualIncome2</th>\n",
       "    </tr>\n",
       "  </thead>\n",
       "  <tbody>\n",
       "    <tr>\n",
       "      <th>0</th>\n",
       "      <td>0</td>\n",
       "      <td>31</td>\n",
       "      <td>Government Sector</td>\n",
       "      <td>Yes</td>\n",
       "      <td>400000</td>\n",
       "      <td>6</td>\n",
       "      <td>1</td>\n",
       "      <td>No</td>\n",
       "      <td>No</td>\n",
       "      <td>0</td>\n",
       "      <td>66666.666667</td>\n",
       "      <td>961</td>\n",
       "      <td>36</td>\n",
       "      <td>160000000000</td>\n",
       "    </tr>\n",
       "    <tr>\n",
       "      <th>1</th>\n",
       "      <td>1</td>\n",
       "      <td>31</td>\n",
       "      <td>Private Sector/Self Employed</td>\n",
       "      <td>Yes</td>\n",
       "      <td>1250000</td>\n",
       "      <td>7</td>\n",
       "      <td>0</td>\n",
       "      <td>No</td>\n",
       "      <td>No</td>\n",
       "      <td>0</td>\n",
       "      <td>178571.428571</td>\n",
       "      <td>961</td>\n",
       "      <td>49</td>\n",
       "      <td>1562500000000</td>\n",
       "    </tr>\n",
       "  </tbody>\n",
       "</table>\n",
       "</div>"
      ],
      "text/plain": [
       "   Unnamed: 0  Age               Employment Type GraduateOrNot  AnnualIncome  \\\n",
       "0           0   31             Government Sector           Yes        400000   \n",
       "1           1   31  Private Sector/Self Employed           Yes       1250000   \n",
       "\n",
       "   FamilyMembers  ChronicDiseases FrequentFlyer EverTravelledAbroad  \\\n",
       "0              6                1            No                  No   \n",
       "1              7                0            No                  No   \n",
       "\n",
       "   TravelInsurance  annualincome_Per_m  Age2  FamilyMembers2  AnnualIncome2  \n",
       "0                0        66666.666667   961              36   160000000000  \n",
       "1                0       178571.428571   961              49  1562500000000  "
      ]
     },
     "execution_count": 19,
     "metadata": {},
     "output_type": "execute_result"
    }
   ],
   "source": [
    "#no missing values,so we handle the outliers\n",
    "df['annualincome_Per_m']=df['AnnualIncome']/df['FamilyMembers']\n",
    "df['Age2']=df['Age']**2\n",
    "df['FamilyMembers2']=df['FamilyMembers']**2\n",
    "df['AnnualIncome2']=df['AnnualIncome']**2\n",
    "df.head(2)"
   ]
  },
  {
   "cell_type": "code",
   "execution_count": 20,
   "metadata": {},
   "outputs": [
    {
     "data": {
      "text/plain": [
       "<function matplotlib.pyplot.show(close=None, block=None)>"
      ]
     },
     "execution_count": 20,
     "metadata": {},
     "output_type": "execute_result"
    },
    {
     "data": {
      "image/png": "[encoded data removed]",
      "text/plain": [
       "<Figure size 432x288 with 1 Axes>"
      ]
     },
     "metadata": {
      "needs_background": "light"
     },
     "output_type": "display_data"
    }
   ],
   "source": [
    "plt.hist(df.annualincome_Per_m,rwidth=0.8)\n",
    "plt.show"
   ]
  },
  {
   "cell_type": "code",
   "execution_count": 22,
   "metadata": {},
   "outputs": [
    {
     "data": {
      "text/html": [
       "<div>\n",
       "<style scoped>\n",
       "    .dataframe tbody tr th:only-of-type {\n",
       "        vertical-align: middle;\n",
       "    }\n",
       "\n",
       "    .dataframe tbody tr th {\n",
       "        vertical-align: top;\n",
       "    }\n",
       "\n",
       "    .dataframe thead th {\n",
       "        text-align: right;\n",
       "    }\n",
       "</style>\n",
       "<table border=\"1\" class=\"dataframe\">\n",
       "  <thead>\n",
       "    <tr style=\"text-align: right;\">\n",
       "      <th></th>\n",
       "      <th>Unnamed: 0</th>\n",
       "      <th>Age</th>\n",
       "      <th>Employment Type</th>\n",
       "      <th>GraduateOrNot</th>\n",
       "      <th>AnnualIncome</th>\n",
       "      <th>FamilyMembers</th>\n",
       "      <th>ChronicDiseases</th>\n",
       "      <th>FrequentFlyer</th>\n",
       "      <th>EverTravelledAbroad</th>\n",
       "      <th>TravelInsurance</th>\n",
       "      <th>annualincome_Per_m</th>\n",
       "      <th>Age2</th>\n",
       "      <th>FamilyMembers2</th>\n",
       "      <th>AnnualIncome2</th>\n",
       "    </tr>\n",
       "  </thead>\n",
       "  <tbody>\n",
       "    <tr>\n",
       "      <th>0</th>\n",
       "      <td>0</td>\n",
       "      <td>31</td>\n",
       "      <td>Government Sector</td>\n",
       "      <td>Yes</td>\n",
       "      <td>400000</td>\n",
       "      <td>6</td>\n",
       "      <td>1</td>\n",
       "      <td>No</td>\n",
       "      <td>No</td>\n",
       "      <td>0</td>\n",
       "      <td>66666.666667</td>\n",
       "      <td>961</td>\n",
       "      <td>36</td>\n",
       "      <td>160000000000</td>\n",
       "    </tr>\n",
       "  </tbody>\n",
       "</table>\n",
       "</div>"
      ],
      "text/plain": [
       "   Unnamed: 0  Age    Employment Type GraduateOrNot  AnnualIncome  \\\n",
       "0           0   31  Government Sector           Yes        400000   \n",
       "\n",
       "   FamilyMembers  ChronicDiseases FrequentFlyer EverTravelledAbroad  \\\n",
       "0              6                1            No                  No   \n",
       "\n",
       "   TravelInsurance  annualincome_Per_m  Age2  FamilyMembers2  AnnualIncome2  \n",
       "0                0        66666.666667   961              36   160000000000  "
      ]
     },
     "execution_count": 22,
     "metadata": {},
     "output_type": "execute_result"
    }
   ],
   "source": [
    "df1=df.copy()\n",
    "df1.head(1)"
   ]
  },
  {
   "cell_type": "code",
   "execution_count": 25,
   "metadata": {},
   "outputs": [
    {
     "data": {
      "text/plain": [
       "(1781, 14)"
      ]
     },
     "execution_count": 25,
     "metadata": {},
     "output_type": "execute_result"
    }
   ],
   "source": [
    "#using quantile function to get rid of outliers\n",
    "ll1=df1.Age2.quantile(0.01)\n",
    "ul1=df1.Age2.quantile(0.99)\n",
    "df1[(df1.Age2<=ll1) | (df1.Age2>=ul1)]\n",
    "df2=df1[(df1.Age2>ll1) & (df1.Age2<ul1)]\n",
    "df2.shape"
   ]
  },
  {
   "cell_type": "code",
   "execution_count": 28,
   "metadata": {},
   "outputs": [
    {
     "data": {
      "text/plain": [
       "(1646, 14)"
      ]
     },
     "execution_count": 28,
     "metadata": {},
     "output_type": "execute_result"
    }
   ],
   "source": [
    "ll2=df2.FamilyMembers2.quantile(0.01)\n",
    "ul2=df2.FamilyMembers2.quantile(0.99)\n",
    "df2[(df2.FamilyMembers2<=ll2) | (df2.FamilyMembers2>=ul2)]\n",
    "df3=df2[(df2.FamilyMembers2>ll2) & (df2.FamilyMembers2<ul2)]\n",
    "df3.shape"
   ]
  },
  {
   "cell_type": "code",
   "execution_count": 31,
   "metadata": {},
   "outputs": [
    {
     "data": {
      "text/plain": [
       "(1544, 14)"
      ]
     },
     "execution_count": 31,
     "metadata": {},
     "output_type": "execute_result"
    }
   ],
   "source": [
    "ll3=df3.AnnualIncome2.quantile(0.01)\n",
    "ul3=df3.AnnualIncome2.quantile(0.99)\n",
    "df3[(df3.AnnualIncome2<=ll3) | (df3.AnnualIncome2>=ul3)]\n",
    "df4=df3[(df3.AnnualIncome2>ll3) & (df3.AnnualIncome2<ul3)]\n",
    "df4.shape"
   ]
  },
  {
   "cell_type": "code",
   "execution_count": 36,
   "metadata": {},
   "outputs": [
    {
     "data": {
      "text/plain": [
       "(1337, 14)"
      ]
     },
     "execution_count": 36,
     "metadata": {},
     "output_type": "execute_result"
    }
   ],
   "source": [
    "Q1=df4.annualincome_Per_m.quantile(0.25)\n",
    "Q3=df4.annualincome_Per_m.quantile(0.75)\n",
    "IQR=Q3-Q1\n",
    "ll4=Q1-IQR*0.5\n",
    "ul4=Q3+IQR*0.5\n",
    "df4[(df4.annualincome_Per_m<=ll4) | (df4.annualincome_Per_m>=ul4)]\n",
    "df5=df4[(df4.annualincome_Per_m>ll4) & (df4.annualincome_Per_m<ul4)]\n",
    "df5.shape"
   ]
  },
  {
   "cell_type": "code",
   "execution_count": 38,
   "metadata": {},
   "outputs": [
    {
     "data": {
      "text/plain": [
       "<function matplotlib.pyplot.show(close=None, block=None)>"
      ]
     },
     "execution_count": 38,
     "metadata": {},
     "output_type": "execute_result"
    },
    {
     "data": {
      "image/png": "[encoded data removed]",
      "text/plain": [
       "<Figure size 432x288 with 1 Axes>"
      ]
     },
     "metadata": {
      "needs_background": "light"
     },
     "output_type": "display_data"
    }
   ],
   "source": [
    "plt.hist(df5.annualincome_Per_m,rwidth=0.8,color='green')\n",
    "plt.show"
   ]
  },
  {
   "cell_type": "code",
   "execution_count": 40,
   "metadata": {},
   "outputs": [],
   "source": [
    "#this is kinda of a normal distribution"
   ]
  },
  {
   "cell_type": "code",
   "execution_count": 41,
   "metadata": {},
   "outputs": [
    {
     "data": {
      "text/plain": [
       "<function matplotlib.pyplot.show(close=None, block=None)>"
      ]
     },
     "execution_count": 41,
     "metadata": {},
     "output_type": "execute_result"
    },
    {
     "data": {
      "image/png": "[encoded data removed]",
      "text/plain": [
       "<Figure size 432x288 with 1 Axes>"
      ]
     },
     "metadata": {
      "needs_background": "light"
     },
     "output_type": "display_data"
    }
   ],
   "source": [
    "plt.hist(df5.AnnualIncome,rwidth=0.8,color='orange')\n",
    "plt.show"
   ]
  },
  {
   "cell_type": "code",
   "execution_count": 43,
   "metadata": {},
   "outputs": [
    {
     "data": {
      "text/html": [
       "<div>\n",
       "<style scoped>\n",
       "    .dataframe tbody tr th:only-of-type {\n",
       "        vertical-align: middle;\n",
       "    }\n",
       "\n",
       "    .dataframe tbody tr th {\n",
       "        vertical-align: top;\n",
       "    }\n",
       "\n",
       "    .dataframe thead th {\n",
       "        text-align: right;\n",
       "    }\n",
       "</style>\n",
       "<table border=\"1\" class=\"dataframe\">\n",
       "  <thead>\n",
       "    <tr style=\"text-align: right;\">\n",
       "      <th></th>\n",
       "      <th>Unnamed: 0</th>\n",
       "      <th>Age</th>\n",
       "      <th>Employment Type</th>\n",
       "      <th>GraduateOrNot</th>\n",
       "      <th>AnnualIncome</th>\n",
       "      <th>FamilyMembers</th>\n",
       "      <th>ChronicDiseases</th>\n",
       "      <th>FrequentFlyer</th>\n",
       "      <th>EverTravelledAbroad</th>\n",
       "      <th>TravelInsurance</th>\n",
       "      <th>annualincome_Per_m</th>\n",
       "      <th>Age2</th>\n",
       "      <th>FamilyMembers2</th>\n",
       "      <th>AnnualIncome2</th>\n",
       "    </tr>\n",
       "  </thead>\n",
       "  <tbody>\n",
       "    <tr>\n",
       "      <th>0</th>\n",
       "      <td>0</td>\n",
       "      <td>31</td>\n",
       "      <td>Government Sector</td>\n",
       "      <td>Yes</td>\n",
       "      <td>400000</td>\n",
       "      <td>6</td>\n",
       "      <td>1</td>\n",
       "      <td>No</td>\n",
       "      <td>No</td>\n",
       "      <td>0</td>\n",
       "      <td>66666.666667</td>\n",
       "      <td>961</td>\n",
       "      <td>36</td>\n",
       "      <td>160000000000</td>\n",
       "    </tr>\n",
       "    <tr>\n",
       "      <th>1</th>\n",
       "      <td>1</td>\n",
       "      <td>31</td>\n",
       "      <td>Private Sector/Self Employed</td>\n",
       "      <td>Yes</td>\n",
       "      <td>1250000</td>\n",
       "      <td>7</td>\n",
       "      <td>0</td>\n",
       "      <td>No</td>\n",
       "      <td>No</td>\n",
       "      <td>0</td>\n",
       "      <td>178571.428571</td>\n",
       "      <td>961</td>\n",
       "      <td>49</td>\n",
       "      <td>1562500000000</td>\n",
       "    </tr>\n",
       "  </tbody>\n",
       "</table>\n",
       "</div>"
      ],
      "text/plain": [
       "   Unnamed: 0  Age               Employment Type GraduateOrNot  AnnualIncome  \\\n",
       "0           0   31             Government Sector           Yes        400000   \n",
       "1           1   31  Private Sector/Self Employed           Yes       1250000   \n",
       "\n",
       "   FamilyMembers  ChronicDiseases FrequentFlyer EverTravelledAbroad  \\\n",
       "0              6                1            No                  No   \n",
       "1              7                0            No                  No   \n",
       "\n",
       "   TravelInsurance  annualincome_Per_m  Age2  FamilyMembers2  AnnualIncome2  \n",
       "0                0        66666.666667   961              36   160000000000  \n",
       "1                0       178571.428571   961              49  1562500000000  "
      ]
     },
     "execution_count": 43,
     "metadata": {},
     "output_type": "execute_result"
    }
   ],
   "source": [
    "df5.head(2)"
   ]
  },
  {
   "cell_type": "code",
   "execution_count": 53,
   "metadata": {},
   "outputs": [
    {
     "name": "stderr",
     "output_type": "stream",
     "text": [
      "<ipython-input-53-c9fb2105b634>:4: SettingWithCopyWarning: \n",
      "A value is trying to be set on a copy of a slice from a DataFrame.\n",
      "Try using .loc[row_indexer,col_indexer] = value instead\n",
      "\n",
      "See the caveats in the documentation: https://pandas.pydata.org/pandas-docs/stable/user_guide/indexing.html#returning-a-view-versus-a-copy\n",
      "  df5['Employment Type']=le_EmployT.fit_transform(df5['Employment Type'])\n"
     ]
    },
    {
     "data": {
      "text/html": [
       "<div>\n",
       "<style scoped>\n",
       "    .dataframe tbody tr th:only-of-type {\n",
       "        vertical-align: middle;\n",
       "    }\n",
       "\n",
       "    .dataframe tbody tr th {\n",
       "        vertical-align: top;\n",
       "    }\n",
       "\n",
       "    .dataframe thead th {\n",
       "        text-align: right;\n",
       "    }\n",
       "</style>\n",
       "<table border=\"1\" class=\"dataframe\">\n",
       "  <thead>\n",
       "    <tr style=\"text-align: right;\">\n",
       "      <th></th>\n",
       "      <th>Unnamed: 0</th>\n",
       "      <th>Age</th>\n",
       "      <th>Employment Type</th>\n",
       "      <th>GraduateOrNot</th>\n",
       "      <th>AnnualIncome</th>\n",
       "      <th>FamilyMembers</th>\n",
       "      <th>ChronicDiseases</th>\n",
       "      <th>FrequentFlyer</th>\n",
       "      <th>EverTravelledAbroad</th>\n",
       "      <th>TravelInsurance</th>\n",
       "      <th>annualincome_Per_m</th>\n",
       "      <th>Age2</th>\n",
       "      <th>FamilyMembers2</th>\n",
       "      <th>AnnualIncome2</th>\n",
       "    </tr>\n",
       "  </thead>\n",
       "  <tbody>\n",
       "    <tr>\n",
       "      <th>0</th>\n",
       "      <td>0</td>\n",
       "      <td>31</td>\n",
       "      <td>0</td>\n",
       "      <td>Yes</td>\n",
       "      <td>400000</td>\n",
       "      <td>6</td>\n",
       "      <td>1</td>\n",
       "      <td>No</td>\n",
       "      <td>No</td>\n",
       "      <td>0</td>\n",
       "      <td>66666.666667</td>\n",
       "      <td>961</td>\n",
       "      <td>36</td>\n",
       "      <td>160000000000</td>\n",
       "    </tr>\n",
       "    <tr>\n",
       "      <th>1</th>\n",
       "      <td>1</td>\n",
       "      <td>31</td>\n",
       "      <td>1</td>\n",
       "      <td>Yes</td>\n",
       "      <td>1250000</td>\n",
       "      <td>7</td>\n",
       "      <td>0</td>\n",
       "      <td>No</td>\n",
       "      <td>No</td>\n",
       "      <td>0</td>\n",
       "      <td>178571.428571</td>\n",
       "      <td>961</td>\n",
       "      <td>49</td>\n",
       "      <td>1562500000000</td>\n",
       "    </tr>\n",
       "    <tr>\n",
       "      <th>2</th>\n",
       "      <td>2</td>\n",
       "      <td>34</td>\n",
       "      <td>1</td>\n",
       "      <td>Yes</td>\n",
       "      <td>500000</td>\n",
       "      <td>4</td>\n",
       "      <td>1</td>\n",
       "      <td>No</td>\n",
       "      <td>No</td>\n",
       "      <td>1</td>\n",
       "      <td>125000.000000</td>\n",
       "      <td>1156</td>\n",
       "      <td>16</td>\n",
       "      <td>250000000000</td>\n",
       "    </tr>\n",
       "    <tr>\n",
       "      <th>3</th>\n",
       "      <td>3</td>\n",
       "      <td>28</td>\n",
       "      <td>1</td>\n",
       "      <td>Yes</td>\n",
       "      <td>700000</td>\n",
       "      <td>3</td>\n",
       "      <td>1</td>\n",
       "      <td>No</td>\n",
       "      <td>No</td>\n",
       "      <td>0</td>\n",
       "      <td>233333.333333</td>\n",
       "      <td>784</td>\n",
       "      <td>9</td>\n",
       "      <td>490000000000</td>\n",
       "    </tr>\n",
       "    <tr>\n",
       "      <th>4</th>\n",
       "      <td>4</td>\n",
       "      <td>28</td>\n",
       "      <td>1</td>\n",
       "      <td>Yes</td>\n",
       "      <td>700000</td>\n",
       "      <td>8</td>\n",
       "      <td>1</td>\n",
       "      <td>Yes</td>\n",
       "      <td>No</td>\n",
       "      <td>0</td>\n",
       "      <td>87500.000000</td>\n",
       "      <td>784</td>\n",
       "      <td>64</td>\n",
       "      <td>490000000000</td>\n",
       "    </tr>\n",
       "  </tbody>\n",
       "</table>\n",
       "</div>"
      ],
      "text/plain": [
       "   Unnamed: 0  Age  Employment Type GraduateOrNot  AnnualIncome  \\\n",
       "0           0   31                0           Yes        400000   \n",
       "1           1   31                1           Yes       1250000   \n",
       "2           2   34                1           Yes        500000   \n",
       "3           3   28                1           Yes        700000   \n",
       "4           4   28                1           Yes        700000   \n",
       "\n",
       "   FamilyMembers  ChronicDiseases FrequentFlyer EverTravelledAbroad  \\\n",
       "0              6                1            No                  No   \n",
       "1              7                0            No                  No   \n",
       "2              4                1            No                  No   \n",
       "3              3                1            No                  No   \n",
       "4              8                1           Yes                  No   \n",
       "\n",
       "   TravelInsurance  annualincome_Per_m  Age2  FamilyMembers2  AnnualIncome2  \n",
       "0                0        66666.666667   961              36   160000000000  \n",
       "1                0       178571.428571   961              49  1562500000000  \n",
       "2                1       125000.000000  1156              16   250000000000  \n",
       "3                0       233333.333333   784               9   490000000000  \n",
       "4                0        87500.000000   784              64   490000000000  "
      ]
     },
     "execution_count": 53,
     "metadata": {},
     "output_type": "execute_result"
    }
   ],
   "source": [
    "#getting dummy variable for categorical columns using labelencoder\n",
    "from sklearn.preprocessing import LabelEncoder\n",
    "le_EmployT=LabelEncoder()\n",
    "df5['Employment Type']=le_EmployT.fit_transform(df5['Employment Type'])\n",
    "df6=df5.copy()\n",
    "df6.head()\n"
   ]
  },
  {
   "cell_type": "code",
   "execution_count": 54,
   "metadata": {},
   "outputs": [
    {
     "data": {
      "text/html": [
       "<div>\n",
       "<style scoped>\n",
       "    .dataframe tbody tr th:only-of-type {\n",
       "        vertical-align: middle;\n",
       "    }\n",
       "\n",
       "    .dataframe tbody tr th {\n",
       "        vertical-align: top;\n",
       "    }\n",
       "\n",
       "    .dataframe thead th {\n",
       "        text-align: right;\n",
       "    }\n",
       "</style>\n",
       "<table border=\"1\" class=\"dataframe\">\n",
       "  <thead>\n",
       "    <tr style=\"text-align: right;\">\n",
       "      <th></th>\n",
       "      <th>Unnamed: 0</th>\n",
       "      <th>Age</th>\n",
       "      <th>Employment Type</th>\n",
       "      <th>GraduateOrNot</th>\n",
       "      <th>AnnualIncome</th>\n",
       "      <th>FamilyMembers</th>\n",
       "      <th>ChronicDiseases</th>\n",
       "      <th>FrequentFlyer</th>\n",
       "      <th>EverTravelledAbroad</th>\n",
       "      <th>TravelInsurance</th>\n",
       "      <th>annualincome_Per_m</th>\n",
       "      <th>Age2</th>\n",
       "      <th>FamilyMembers2</th>\n",
       "      <th>AnnualIncome2</th>\n",
       "    </tr>\n",
       "  </thead>\n",
       "  <tbody>\n",
       "    <tr>\n",
       "      <th>0</th>\n",
       "      <td>0</td>\n",
       "      <td>31</td>\n",
       "      <td>0</td>\n",
       "      <td>1</td>\n",
       "      <td>400000</td>\n",
       "      <td>6</td>\n",
       "      <td>1</td>\n",
       "      <td>0</td>\n",
       "      <td>0</td>\n",
       "      <td>0</td>\n",
       "      <td>66666.666667</td>\n",
       "      <td>961</td>\n",
       "      <td>36</td>\n",
       "      <td>160000000000</td>\n",
       "    </tr>\n",
       "    <tr>\n",
       "      <th>1</th>\n",
       "      <td>1</td>\n",
       "      <td>31</td>\n",
       "      <td>1</td>\n",
       "      <td>1</td>\n",
       "      <td>1250000</td>\n",
       "      <td>7</td>\n",
       "      <td>0</td>\n",
       "      <td>0</td>\n",
       "      <td>0</td>\n",
       "      <td>0</td>\n",
       "      <td>178571.428571</td>\n",
       "      <td>961</td>\n",
       "      <td>49</td>\n",
       "      <td>1562500000000</td>\n",
       "    </tr>\n",
       "    <tr>\n",
       "      <th>2</th>\n",
       "      <td>2</td>\n",
       "      <td>34</td>\n",
       "      <td>1</td>\n",
       "      <td>1</td>\n",
       "      <td>500000</td>\n",
       "      <td>4</td>\n",
       "      <td>1</td>\n",
       "      <td>0</td>\n",
       "      <td>0</td>\n",
       "      <td>1</td>\n",
       "      <td>125000.000000</td>\n",
       "      <td>1156</td>\n",
       "      <td>16</td>\n",
       "      <td>250000000000</td>\n",
       "    </tr>\n",
       "    <tr>\n",
       "      <th>3</th>\n",
       "      <td>3</td>\n",
       "      <td>28</td>\n",
       "      <td>1</td>\n",
       "      <td>1</td>\n",
       "      <td>700000</td>\n",
       "      <td>3</td>\n",
       "      <td>1</td>\n",
       "      <td>0</td>\n",
       "      <td>0</td>\n",
       "      <td>0</td>\n",
       "      <td>233333.333333</td>\n",
       "      <td>784</td>\n",
       "      <td>9</td>\n",
       "      <td>490000000000</td>\n",
       "    </tr>\n",
       "    <tr>\n",
       "      <th>4</th>\n",
       "      <td>4</td>\n",
       "      <td>28</td>\n",
       "      <td>1</td>\n",
       "      <td>1</td>\n",
       "      <td>700000</td>\n",
       "      <td>8</td>\n",
       "      <td>1</td>\n",
       "      <td>1</td>\n",
       "      <td>0</td>\n",
       "      <td>0</td>\n",
       "      <td>87500.000000</td>\n",
       "      <td>784</td>\n",
       "      <td>64</td>\n",
       "      <td>490000000000</td>\n",
       "    </tr>\n",
       "  </tbody>\n",
       "</table>\n",
       "</div>"
      ],
      "text/plain": [
       "   Unnamed: 0  Age  Employment Type  GraduateOrNot  AnnualIncome  \\\n",
       "0           0   31                0              1        400000   \n",
       "1           1   31                1              1       1250000   \n",
       "2           2   34                1              1        500000   \n",
       "3           3   28                1              1        700000   \n",
       "4           4   28                1              1        700000   \n",
       "\n",
       "   FamilyMembers  ChronicDiseases  FrequentFlyer  EverTravelledAbroad  \\\n",
       "0              6                1              0                    0   \n",
       "1              7                0              0                    0   \n",
       "2              4                1              0                    0   \n",
       "3              3                1              0                    0   \n",
       "4              8                1              1                    0   \n",
       "\n",
       "   TravelInsurance  annualincome_Per_m  Age2  FamilyMembers2  AnnualIncome2  \n",
       "0                0        66666.666667   961              36   160000000000  \n",
       "1                0       178571.428571   961              49  1562500000000  \n",
       "2                1       125000.000000  1156              16   250000000000  \n",
       "3                0       233333.333333   784               9   490000000000  \n",
       "4                0        87500.000000   784              64   490000000000  "
      ]
     },
     "execution_count": 54,
     "metadata": {},
     "output_type": "execute_result"
    }
   ],
   "source": [
    "#using replace function to replace yes and no values in int vals\n",
    "df6=df6.replace(['Yes','No'],[1,0])\n",
    "df6.head()"
   ]
  },
  {
   "cell_type": "code",
   "execution_count": 55,
   "metadata": {},
   "outputs": [
    {
     "data": {
      "text/html": [
       "<div>\n",
       "<style scoped>\n",
       "    .dataframe tbody tr th:only-of-type {\n",
       "        vertical-align: middle;\n",
       "    }\n",
       "\n",
       "    .dataframe tbody tr th {\n",
       "        vertical-align: top;\n",
       "    }\n",
       "\n",
       "    .dataframe thead th {\n",
       "        text-align: right;\n",
       "    }\n",
       "</style>\n",
       "<table border=\"1\" class=\"dataframe\">\n",
       "  <thead>\n",
       "    <tr style=\"text-align: right;\">\n",
       "      <th></th>\n",
       "      <th>Age</th>\n",
       "      <th>Employment Type</th>\n",
       "      <th>GraduateOrNot</th>\n",
       "      <th>AnnualIncome</th>\n",
       "      <th>FamilyMembers</th>\n",
       "      <th>ChronicDiseases</th>\n",
       "      <th>FrequentFlyer</th>\n",
       "      <th>EverTravelledAbroad</th>\n",
       "      <th>TravelInsurance</th>\n",
       "    </tr>\n",
       "  </thead>\n",
       "  <tbody>\n",
       "    <tr>\n",
       "      <th>0</th>\n",
       "      <td>31</td>\n",
       "      <td>0</td>\n",
       "      <td>1</td>\n",
       "      <td>400000</td>\n",
       "      <td>6</td>\n",
       "      <td>1</td>\n",
       "      <td>0</td>\n",
       "      <td>0</td>\n",
       "      <td>0</td>\n",
       "    </tr>\n",
       "    <tr>\n",
       "      <th>1</th>\n",
       "      <td>31</td>\n",
       "      <td>1</td>\n",
       "      <td>1</td>\n",
       "      <td>1250000</td>\n",
       "      <td>7</td>\n",
       "      <td>0</td>\n",
       "      <td>0</td>\n",
       "      <td>0</td>\n",
       "      <td>0</td>\n",
       "    </tr>\n",
       "    <tr>\n",
       "      <th>2</th>\n",
       "      <td>34</td>\n",
       "      <td>1</td>\n",
       "      <td>1</td>\n",
       "      <td>500000</td>\n",
       "      <td>4</td>\n",
       "      <td>1</td>\n",
       "      <td>0</td>\n",
       "      <td>0</td>\n",
       "      <td>1</td>\n",
       "    </tr>\n",
       "    <tr>\n",
       "      <th>3</th>\n",
       "      <td>28</td>\n",
       "      <td>1</td>\n",
       "      <td>1</td>\n",
       "      <td>700000</td>\n",
       "      <td>3</td>\n",
       "      <td>1</td>\n",
       "      <td>0</td>\n",
       "      <td>0</td>\n",
       "      <td>0</td>\n",
       "    </tr>\n",
       "    <tr>\n",
       "      <th>4</th>\n",
       "      <td>28</td>\n",
       "      <td>1</td>\n",
       "      <td>1</td>\n",
       "      <td>700000</td>\n",
       "      <td>8</td>\n",
       "      <td>1</td>\n",
       "      <td>1</td>\n",
       "      <td>0</td>\n",
       "      <td>0</td>\n",
       "    </tr>\n",
       "  </tbody>\n",
       "</table>\n",
       "</div>"
      ],
      "text/plain": [
       "   Age  Employment Type  GraduateOrNot  AnnualIncome  FamilyMembers  \\\n",
       "0   31                0              1        400000              6   \n",
       "1   31                1              1       1250000              7   \n",
       "2   34                1              1        500000              4   \n",
       "3   28                1              1        700000              3   \n",
       "4   28                1              1        700000              8   \n",
       "\n",
       "   ChronicDiseases  FrequentFlyer  EverTravelledAbroad  TravelInsurance  \n",
       "0                1              0                    0                0  \n",
       "1                0              0                    0                0  \n",
       "2                1              0                    0                1  \n",
       "3                1              0                    0                0  \n",
       "4                1              1                    0                0  "
      ]
     },
     "execution_count": 55,
     "metadata": {},
     "output_type": "execute_result"
    }
   ],
   "source": [
    "#dropping unneccesary columns\n",
    "df7=df6.drop(['Unnamed: 0','annualincome_Per_m','Age2','FamilyMembers2','AnnualIncome2'],axis='columns')\n",
    "df7.head()"
   ]
  },
  {
   "cell_type": "code",
   "execution_count": 56,
   "metadata": {},
   "outputs": [
    {
     "data": {
      "text/plain": [
       "Age                    int64\n",
       "Employment Type        int64\n",
       "GraduateOrNot          int64\n",
       "AnnualIncome           int64\n",
       "FamilyMembers          int64\n",
       "ChronicDiseases        int64\n",
       "FrequentFlyer          int64\n",
       "EverTravelledAbroad    int64\n",
       "TravelInsurance        int64\n",
       "dtype: object"
      ]
     },
     "execution_count": 56,
     "metadata": {},
     "output_type": "execute_result"
    }
   ],
   "source": [
    "df7.dtypes"
   ]
  },
  {
   "cell_type": "code",
   "execution_count": 57,
   "metadata": {},
   "outputs": [
    {
     "data": {
      "text/plain": [
       "(1337, 8)"
      ]
     },
     "execution_count": 57,
     "metadata": {},
     "output_type": "execute_result"
    }
   ],
   "source": [
    "X=df7.drop('TravelInsurance',axis=1)\n",
    "X.shape"
   ]
  },
  {
   "cell_type": "code",
   "execution_count": 60,
   "metadata": {},
   "outputs": [
    {
     "data": {
      "text/plain": [
       "1426    0\n",
       "39      1\n",
       "762     0\n",
       "Name: TravelInsurance, dtype: int64"
      ]
     },
     "execution_count": 60,
     "metadata": {},
     "output_type": "execute_result"
    }
   ],
   "source": [
    "y=df7.TravelInsurance\n",
    "y.sample(3)"
   ]
  },
  {
   "cell_type": "code",
   "execution_count": 61,
   "metadata": {},
   "outputs": [],
   "source": [
    "#splitting the dataset into training and testing dataset\n",
    "from sklearn.model_selection import train_test_split\n",
    "X_train,X_test,y_train,y_test=train_test_split(X,y,test_size=0.2,random_state=7)"
   ]
  },
  {
   "cell_type": "code",
   "execution_count": 62,
   "metadata": {},
   "outputs": [
    {
     "data": {
      "text/plain": [
       "1069"
      ]
     },
     "execution_count": 62,
     "metadata": {},
     "output_type": "execute_result"
    }
   ],
   "source": [
    "len(X_train)"
   ]
  },
  {
   "cell_type": "code",
   "execution_count": 63,
   "metadata": {},
   "outputs": [
    {
     "data": {
      "text/plain": [
       "(1069, 8)"
      ]
     },
     "execution_count": 63,
     "metadata": {},
     "output_type": "execute_result"
    }
   ],
   "source": [
    "X_train.shape"
   ]
  },
  {
   "cell_type": "code",
   "execution_count": 65,
   "metadata": {},
   "outputs": [
    {
     "data": {
      "text/plain": [
       "486     0\n",
       "995     0\n",
       "944     0\n",
       "1072    0\n",
       "1512    0\n",
       "15      0\n",
       "411     0\n",
       "585     1\n",
       "665     0\n",
       "691     0\n",
       "Name: TravelInsurance, dtype: int64"
      ]
     },
     "execution_count": 65,
     "metadata": {},
     "output_type": "execute_result"
    }
   ],
   "source": [
    "y_train[:10]"
   ]
  },
  {
   "cell_type": "code",
   "execution_count": 66,
   "metadata": {},
   "outputs": [],
   "source": [
    "#importing important libraries for ANN\n",
    "import tensorflow as tf\n",
    "from tensorflow import keras\n",
    "from tensorflow.keras import layers\n",
    "from tensorflow.keras.models import Sequential"
   ]
  },
  {
   "cell_type": "code",
   "execution_count": 67,
   "metadata": {},
   "outputs": [
    {
     "name": "stdout",
     "output_type": "stream",
     "text": [
      "Epoch 1/100\n",
      "134/134 [==============================] - 76s 13ms/step - loss: 28284.1172 - accuracy: 0.5978\n",
      "Epoch 2/100\n",
      "134/134 [==============================] - 2s 12ms/step - loss: 11865.8945 - accuracy: 0.6567\n",
      "Epoch 3/100\n",
      "134/134 [==============================] - 1s 10ms/step - loss: 4617.8491 - accuracy: 0.6455\n",
      "Epoch 4/100\n",
      "134/134 [==============================] - 1s 11ms/step - loss: 1472.0708 - accuracy: 0.6651\n",
      "Epoch 5/100\n",
      "134/134 [==============================] - 1s 11ms/step - loss: 949.7523 - accuracy: 0.6894A: 0s - loss: 1038.1761 - accuracy: 0.68\n",
      "Epoch 6/100\n",
      "134/134 [==============================] - 2s 16ms/step - loss: 389.2057 - accuracy: 0.6857 1s - loss: 389\n",
      "Epoch 7/100\n",
      "134/134 [==============================] - 2s 13ms/step - loss: 200.9617 - accuracy: 0.6885\n",
      "Epoch 8/100\n",
      "134/134 [==============================] - 2s 17ms/step - loss: 115.1951 - accuracy: 0.6941\n",
      "Epoch 9/100\n",
      "134/134 [==============================] - 2s 13ms/step - loss: 179.1390 - accuracy: 0.6829\n",
      "Epoch 10/100\n",
      "134/134 [==============================] - 3s 21ms/step - loss: 7.1336 - accuracy: 0.6791\n",
      "Epoch 11/100\n",
      "134/134 [==============================] - 1s 9ms/step - loss: 91.0643 - accuracy: 0.6745\n",
      "Epoch 12/100\n",
      "134/134 [==============================] - 2s 12ms/step - loss: 37.8291 - accuracy: 0.6735: 0s - loss: 31.3562 - accura\n",
      "Epoch 13/100\n",
      "134/134 [==============================] - 2s 16ms/step - loss: 93.3528 - accuracy: 0.6866\n",
      "Epoch 14/100\n",
      "134/134 [==============================] - 2s 15ms/step - loss: 43.2186 - accuracy: 0.6838\n",
      "Epoch 15/100\n",
      "134/134 [==============================] - 2s 15ms/step - loss: 6.8121 - accuracy: 0.6819 0s - loss: 5.7926 \n",
      "Epoch 16/100\n",
      "134/134 [==============================] - 3s 21ms/step - loss: 6.0677 - accuracy: 0.6829\n",
      "Epoch 17/100\n",
      "134/134 [==============================] - 1s 10ms/step - loss: 3.3449 - accuracy: 0.6885\n",
      "Epoch 18/100\n",
      "134/134 [==============================] - 2s 12ms/step - loss: 6.4322 - accuracy: 0.6866\n",
      "Epoch 19/100\n",
      "134/134 [==============================] - 2s 17ms/step - loss: 4.6649 - accuracy: 0.6848\n",
      "Epoch 20/100\n",
      "134/134 [==============================] - 2s 14ms/step - loss: 3.0018 - accuracy: 0.6791 1s - loss: 2.8941 \n",
      "Epoch 21/100\n",
      "134/134 [==============================] - 1s 9ms/step - loss: 2.6158 - accuracy: 0.6904\n",
      "Epoch 22/100\n",
      "134/134 [==============================] - 1s 8ms/step - loss: 2.8728 - accuracy: 0.6819: 1s - loss: 2.1368 - accuracy - ETA: 1s - loss: 1.7356 \n",
      "Epoch 23/100\n",
      "134/134 [==============================] - 2s 11ms/step - loss: 3.3029 - accuracy: 0.6838\n",
      "Epoch 24/100\n",
      "134/134 [==============================] - 1s 10ms/step - loss: 2.8800 - accuracy: 0.6801\n",
      "Epoch 25/100\n",
      "134/134 [==============================] - 1s 9ms/step - loss: 1.8891 - accuracy: 0.6922\n",
      "Epoch 26/100\n",
      "134/134 [==============================] - 1s 10ms/step - loss: 3.0556 - accuracy: 0.6857\n",
      "Epoch 27/100\n",
      "134/134 [==============================] - 1s 10ms/step - loss: 1.4043 - accuracy: 0.6913\n",
      "Epoch 28/100\n",
      "134/134 [==============================] - 1s 11ms/step - loss: 1.5102 - accuracy: 0.6922\n",
      "Epoch 29/100\n",
      "134/134 [==============================] - 1s 7ms/step - loss: 1.5263 - accuracy: 0.6913\n",
      "Epoch 30/100\n",
      "134/134 [==============================] - 1s 8ms/step - loss: 2.2291 - accuracy: 0.6857\n",
      "Epoch 31/100\n",
      "134/134 [==============================] - 1s 8ms/step - loss: 1.0724 - accuracy: 0.6866\n",
      "Epoch 32/100\n",
      "134/134 [==============================] - 1s 11ms/step - loss: 1.0450 - accuracy: 0.6848 1s - los\n",
      "Epoch 33/100\n",
      "134/134 [==============================] - 1s 8ms/step - loss: 1.0267 - accuracy: 0.6885\n",
      "Epoch 34/100\n",
      "134/134 [==============================] - 1s 7ms/step - loss: 0.7213 - accuracy: 0.6922\n",
      "Epoch 35/100\n",
      "134/134 [==============================] - 2s 14ms/step - loss: 0.9138 - accuracy: 0.6922\n",
      "Epoch 36/100\n",
      "134/134 [==============================] - 1s 8ms/step - loss: 0.8558 - accuracy: 0.6969\n",
      "Epoch 37/100\n",
      "134/134 [==============================] - 1s 11ms/step - loss: 0.6274 - accuracy: 0.7044\n",
      "Epoch 38/100\n",
      "134/134 [==============================] - 3s 19ms/step - loss: 0.6510 - accuracy: 0.7016\n",
      "Epoch 39/100\n",
      "134/134 [==============================] - 2s 11ms/step - loss: 0.6488 - accuracy: 0.7035\n",
      "Epoch 40/100\n",
      "134/134 [==============================] - 1s 7ms/step - loss: 0.6405 - accuracy: 0.7007: 0s - loss: 0.6721 - accuracy - ETA: 0s - loss: 0.6517 - accu\n",
      "Epoch 41/100\n",
      "134/134 [==============================] - 1s 8ms/step - loss: 0.7696 - accuracy: 0.6997\n",
      "Epoch 42/100\n",
      "134/134 [==============================] - 1s 10ms/step - loss: 0.6476 - accuracy: 0.6978\n",
      "Epoch 43/100\n",
      "134/134 [==============================] - 1s 8ms/step - loss: 0.6138 - accuracy: 0.7025\n",
      "Epoch 44/100\n",
      "134/134 [==============================] - 1s 6ms/step - loss: 0.6124 - accuracy: 0.7007: 0s - loss: 0.639\n",
      "Epoch 45/100\n",
      "134/134 [==============================] - 1s 5ms/step - loss: 0.6140 - accuracy: 0.6997\n",
      "Epoch 46/100\n",
      "134/134 [==============================] - 1s 7ms/step - loss: 0.6096 - accuracy: 0.7025: 16s - loss:\n",
      "Epoch 47/100\n",
      "134/134 [==============================] - 2s 12ms/step - loss: 0.6110 - accuracy: 0.7016\n",
      "Epoch 48/100\n",
      "134/134 [==============================] - 1s 10ms/step - loss: 0.6102 - accuracy: 0.7016\n",
      "Epoch 49/100\n",
      "134/134 [==============================] - 1s 8ms/step - loss: 0.6098 - accuracy: 0.7016\n",
      "Epoch 50/100\n",
      "134/134 [==============================] - ETA: 0s - loss: 0.6079 - accuracy: 0.70 - 1s 8ms/step - loss: 0.6098 - accuracy: 0.7016\n",
      "Epoch 51/100\n",
      "134/134 [==============================] - 1s 8ms/step - loss: 0.6096 - accuracy: 0.7016\n",
      "Epoch 52/100\n",
      "134/134 [==============================] - 2s 12ms/step - loss: 0.6096 - accuracy: 0.7016\n",
      "Epoch 53/100\n",
      "134/134 [==============================] - 1s 6ms/step - loss: 0.6095 - accuracy: 0.7016: 0s - loss: 0.6040 - accuracy: 0.\n",
      "Epoch 54/100\n",
      "134/134 [==============================] - 1s 9ms/step - loss: 0.6096 - accuracy: 0.7016: 0s\n",
      "Epoch 55/100\n",
      "134/134 [==============================] - 1s 10ms/step - loss: 0.6098 - accuracy: 0.7016\n",
      "Epoch 56/100\n",
      "134/134 [==============================] - 1s 5ms/step - loss: 0.6098 - accuracy: 0.7016\n",
      "Epoch 57/100\n",
      "134/134 [==============================] - 1s 8ms/step - loss: 0.6095 - accuracy: 0.7016\n",
      "Epoch 58/100\n",
      "134/134 [==============================] - 1s 9ms/step - loss: 0.6097 - accuracy: 0.7016\n",
      "Epoch 59/100\n",
      "134/134 [==============================] - 1s 8ms/step - loss: 0.6096 - accuracy: 0.7016: 0s - loss: 0 - ETA: 0s - loss: 0.6096 - accuracy: 0.70\n",
      "Epoch 60/100\n",
      "134/134 [==============================] - 1s 7ms/step - loss: 0.6096 - accuracy: 0.7016\n",
      "Epoch 61/100\n",
      "134/134 [==============================] - 1s 7ms/step - loss: 0.6096 - accuracy: 0.7016\n",
      "Epoch 62/100\n",
      "134/134 [==============================] - 1s 8ms/step - loss: 0.6096 - accuracy: 0.7016: 0s - loss: 0.6118 - accuracy: 0.\n",
      "Epoch 63/100\n",
      "134/134 [==============================] - 1s 7ms/step - loss: 0.6095 - accuracy: 0.7016\n",
      "Epoch 64/100\n",
      "134/134 [==============================] - 2s 15ms/step - loss: 0.6096 - accuracy: 0.7016\n",
      "Epoch 65/100\n",
      "134/134 [==============================] - 1s 10ms/step - loss: 0.6096 - accuracy: 0.7016\n",
      "Epoch 66/100\n",
      "134/134 [==============================] - 2s 11ms/step - loss: 0.6096 - accuracy: 0.7016\n",
      "Epoch 67/100\n",
      "134/134 [==============================] - 1s 9ms/step - loss: 0.6096 - accuracy: 0.7016\n",
      "Epoch 68/100\n",
      "134/134 [==============================] - 1s 10ms/step - loss: 0.6095 - accuracy: 0.7016\n",
      "Epoch 69/100\n",
      "134/134 [==============================] - 2s 12ms/step - loss: 0.6096 - accuracy: 0.7016\n",
      "Epoch 70/100\n",
      "134/134 [==============================] - 1s 9ms/step - loss: 0.6096 - accuracy: 0.7016\n",
      "Epoch 71/100\n",
      "134/134 [==============================] - 1s 10ms/step - loss: 0.6096 - accuracy: 0.7016 0s - loss: 0.6070 - accuracy: \n",
      "Epoch 72/100\n",
      "134/134 [==============================] - 1s 8ms/step - loss: 0.6096 - accuracy: 0.7016\n",
      "Epoch 73/100\n",
      "134/134 [==============================] - 1s 7ms/step - loss: 0.6096 - accuracy: 0.7016: 0s - loss: 0.5932 \n",
      "Epoch 74/100\n",
      "134/134 [==============================] - 1s 8ms/step - loss: 0.6096 - accuracy: 0.7016\n",
      "Epoch 75/100\n"
     ]
    },
    {
     "name": "stdout",
     "output_type": "stream",
     "text": [
      "134/134 [==============================] - 1s 6ms/step - loss: 0.6096 - accuracy: 0.7016\n",
      "Epoch 76/100\n",
      "134/134 [==============================] - 1s 7ms/step - loss: 0.6096 - accuracy: 0.7016\n",
      "Epoch 77/100\n",
      "134/134 [==============================] - 1s 6ms/step - loss: 0.6096 - accuracy: 0.7016: 0s - loss: 0.6106 - accuracy: 0.70\n",
      "Epoch 78/100\n",
      "134/134 [==============================] - 1s 6ms/step - loss: 0.6096 - accuracy: 0.7016: 0s - loss: 0.5\n",
      "Epoch 79/100\n",
      "134/134 [==============================] - 1s 5ms/step - loss: 0.6096 - accuracy: 0.7016\n",
      "Epoch 80/100\n",
      "134/134 [==============================] - 1s 6ms/step - loss: 0.6096 - accuracy: 0.7016\n",
      "Epoch 81/100\n",
      "134/134 [==============================] - 1s 5ms/step - loss: 0.6096 - accuracy: 0.7016\n",
      "Epoch 82/100\n",
      "134/134 [==============================] - 1s 4ms/step - loss: 0.6096 - accuracy: 0.7016\n",
      "Epoch 83/100\n",
      "134/134 [==============================] - 1s 6ms/step - loss: 0.6095 - accuracy: 0.7016\n",
      "Epoch 84/100\n",
      "134/134 [==============================] - 1s 6ms/step - loss: 0.6096 - accuracy: 0.7016\n",
      "Epoch 85/100\n",
      "134/134 [==============================] - 1s 4ms/step - loss: 0.6096 - accuracy: 0.7016\n",
      "Epoch 86/100\n",
      "134/134 [==============================] - 1s 6ms/step - loss: 0.6096 - accuracy: 0.7016\n",
      "Epoch 87/100\n",
      "134/134 [==============================] - 1s 6ms/step - loss: 0.6096 - accuracy: 0.7016\n",
      "Epoch 88/100\n",
      "134/134 [==============================] - 1s 4ms/step - loss: 0.6096 - accuracy: 0.7016\n",
      "Epoch 89/100\n",
      "134/134 [==============================] - 1s 6ms/step - loss: 0.6096 - accuracy: 0.7016\n",
      "Epoch 90/100\n",
      "134/134 [==============================] - 1s 7ms/step - loss: 0.6096 - accuracy: 0.7016\n",
      "Epoch 91/100\n",
      "134/134 [==============================] - 1s 6ms/step - loss: 0.6096 - accuracy: 0.7016\n",
      "Epoch 92/100\n",
      "134/134 [==============================] - 2s 14ms/step - loss: 0.6096 - accuracy: 0.7016\n",
      "Epoch 93/100\n",
      "134/134 [==============================] - 3s 20ms/step - loss: 0.6096 - accuracy: 0.7016\n",
      "Epoch 94/100\n",
      "134/134 [==============================] - 1s 6ms/step - loss: 0.6095 - accuracy: 0.7016: 0s - loss: 0.6154 - \n",
      "Epoch 95/100\n",
      "134/134 [==============================] - 2s 13ms/step - loss: 0.6096 - accuracy: 0.7016\n",
      "Epoch 96/100\n",
      "134/134 [==============================] - 1s 9ms/step - loss: 0.6096 - accuracy: 0.7016\n",
      "Epoch 97/100\n",
      "134/134 [==============================] - 1s 7ms/step - loss: 0.6096 - accuracy: 0.7016: 0s - loss: 0.5941 - \n",
      "Epoch 98/100\n",
      "134/134 [==============================] - 1s 8ms/step - loss: 0.6096 - accuracy: 0.7016: 0s - loss: 0.6125 - accura\n",
      "Epoch 99/100\n",
      "134/134 [==============================] - 1s 6ms/step - loss: 0.6096 - accuracy: 0.7016: 0s - loss: 0.6045 - accuracy: \n",
      "Epoch 100/100\n",
      "134/134 [==============================] - 1s 5ms/step - loss: 0.6096 - accuracy: 0.7016\n"
     ]
    },
    {
     "data": {
      "text/plain": [
       "<tensorflow.python.keras.callbacks.History at 0x1eaa977bc70>"
      ]
     },
     "execution_count": 67,
     "metadata": {},
     "output_type": "execute_result"
    }
   ],
   "source": [
    "model=keras.Sequential([\n",
    "    keras.layers.Dense(8,input_dim=8,activation='relu'),\n",
    "    keras.layers.Dropout(0.5),#this layer will drop 50% of the neurons-----the good practice is we put dropout layer after each\n",
    "    #hidden layer\n",
    "    keras.layers.Dense(5,activation='relu'),\n",
    "    keras.layers.Dropout(0.5),\n",
    "    keras.layers.Dense(3,activation='relu'),\n",
    "    keras.layers.Dropout(0.5),\n",
    "    keras.layers.Dense(1,activation='sigmoid')\n",
    "])\n",
    "model.compile(\n",
    "    loss='binary_crossentropy',\n",
    "    optimizer='adam',\n",
    "    metrics=['accuracy']\n",
    ")\n",
    "model.fit(X_train,y_train,epochs=100,batch_size=8)"
   ]
  },
  {
   "cell_type": "code",
   "execution_count": 68,
   "metadata": {},
   "outputs": [
    {
     "name": "stdout",
     "output_type": "stream",
     "text": [
      "9/9 [==============================] - 209s 1s/step - loss: 0.6255 - accuracy: 0.6828\n"
     ]
    },
    {
     "data": {
      "text/plain": [
       "[0.6255004405975342, 0.6828358173370361]"
      ]
     },
     "execution_count": 68,
     "metadata": {},
     "output_type": "execute_result"
    }
   ],
   "source": [
    "#testing the model on the test dataset\n",
    "model.evaluate(X_test,y_test)"
   ]
  },
  {
   "cell_type": "code",
   "execution_count": 69,
   "metadata": {},
   "outputs": [
    {
     "name": "stderr",
     "output_type": "stream",
     "text": [
      "C:\\Users\\sojore\\anaconda3\\lib\\site-packages\\sklearn\\metrics\\_classification.py:1221: UndefinedMetricWarning: Precision and F-score are ill-defined and being set to 0.0 in labels with no predicted samples. Use `zero_division` parameter to control this behavior.\n",
      "  _warn_prf(average, modifier, msg_start, len(result))\n"
     ]
    },
    {
     "name": "stdout",
     "output_type": "stream",
     "text": [
      "              precision    recall  f1-score   support\n",
      "\n",
      "           0       0.68      1.00      0.81       183\n",
      "           1       0.00      0.00      0.00        85\n",
      "\n",
      "    accuracy                           0.68       268\n",
      "   macro avg       0.34      0.50      0.41       268\n",
      "weighted avg       0.47      0.68      0.55       268\n",
      "\n"
     ]
    }
   ],
   "source": [
    "y_pred=model.predict(X_test).reshape(-1)\n",
    "y_pred=np.round(y_pred)\n",
    "\n",
    "from sklearn.metrics import confusion_matrix,classification_report\n",
    "print(classification_report(y_test,y_pred))"
   ]
  },
  {
   "cell_type": "code",
   "execution_count": 70,
   "metadata": {},
   "outputs": [
    {
     "data": {
      "text/plain": [
       "array([0., 0., 0., 0., 0.], dtype=float32)"
      ]
     },
     "execution_count": 70,
     "metadata": {},
     "output_type": "execute_result"
    }
   ],
   "source": [
    "y_pred[:5]"
   ]
  },
  {
   "cell_type": "code",
   "execution_count": 72,
   "metadata": {},
   "outputs": [
    {
     "data": {
      "text/plain": [
       "16      0\n",
       "1561    0\n",
       "249     0\n",
       "580     0\n",
       "1388    0\n",
       "Name: TravelInsurance, dtype: int64"
      ]
     },
     "execution_count": 72,
     "metadata": {},
     "output_type": "execute_result"
    }
   ],
   "source": [
    "y_test[:5]"
   ]
  },
  {
   "cell_type": "code",
   "execution_count": 73,
   "metadata": {
    "scrolled": true
   },
   "outputs": [
    {
     "data": {
      "text/plain": [
       "Text(159.0, 0.5, 'Truth')"
      ]
     },
     "execution_count": 73,
     "metadata": {},
     "output_type": "execute_result"
    },
    {
     "data": {
      "image/png": "[encoded data removed]",
      "text/plain": [
       "<Figure size 1440x720 with 2 Axes>"
      ]
     },
     "metadata": {
      "needs_background": "light"
     },
     "output_type": "display_data"
    }
   ],
   "source": [
    "from sklearn.metrics import confusion_matrix,classification_report\n",
    "import seaborn as sn\n",
    "cm=confusion_matrix(y_test,y_pred)\n",
    "plt.figure(figsize=(20,10))\n",
    "sn.heatmap(cm,annot=True)\n",
    "plt.xlabel('Predicted')\n",
    "plt.ylabel('Truth')"
   ]
  },
  {
   "cell_type": "code",
   "execution_count": 74,
   "metadata": {},
   "outputs": [],
   "source": [
    "#the model isnt perfoming great and it can improved by applying more feature engineering tools to handle outliers"
   ]
  },
  {
   "cell_type": "code",
   "execution_count": null,
   "metadata": {},
   "outputs": [],
   "source": []
  }
 ],
 "metadata": {
  "kernelspec": {
   "display_name": "Python 3",
   "language": "python",
   "name": "python3"
  },
  "language_info": {
   "codemirror_mode": {
    "name": "ipython",
    "version": 3
   },
   "file_extension": ".py",
   "mimetype": "text/x-python",
   "name": "python",
   "nbconvert_exporter": "python",
   "pygments_lexer": "ipython3",
   "version": "3.8.5"
  }
 },
 "nbformat": 4,
 "nbformat_minor": 4
}
