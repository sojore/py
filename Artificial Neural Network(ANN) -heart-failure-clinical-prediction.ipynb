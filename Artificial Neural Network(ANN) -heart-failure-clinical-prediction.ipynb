{
 "cells": [
  {
   "cell_type": "raw",
   "metadata": {},
   "source": [
    "*In this project I aim at creating a well trained model for predicting heart failure based on certain conditions\n",
    "*Credit to kaggle for the dataset...link..https://www.kaggle.com/andrewmvd/heart-failure-clinical-data\n",
    "*I will be using both machine learning algorithms and Artificial Neural Network to come up with the best algorithm to \n",
    "create my model"
   ]
  },
  {
   "cell_type": "code",
   "execution_count": 1,
   "metadata": {},
   "outputs": [],
   "source": [
    "#importing import libraries\n",
    "import pandas as pd\n",
    "import numpy as np\n",
    "import matplotlib\n",
    "matplotlib.rcParams['figure.figsize']=(15,10)\n",
    "import matplotlib.pyplot as plt\n",
    "%matplotlib inline"
   ]
  },
  {
   "cell_type": "code",
   "execution_count": 2,
   "metadata": {},
   "outputs": [
    {
     "data": {
      "text/html": [
       "<div>\n",
       "<style scoped>\n",
       "    .dataframe tbody tr th:only-of-type {\n",
       "        vertical-align: middle;\n",
       "    }\n",
       "\n",
       "    .dataframe tbody tr th {\n",
       "        vertical-align: top;\n",
       "    }\n",
       "\n",
       "    .dataframe thead th {\n",
       "        text-align: right;\n",
       "    }\n",
       "</style>\n",
       "<table border=\"1\" class=\"dataframe\">\n",
       "  <thead>\n",
       "    <tr style=\"text-align: right;\">\n",
       "      <th></th>\n",
       "      <th>age</th>\n",
       "      <th>anaemia</th>\n",
       "      <th>creatinine_phosphokinase</th>\n",
       "      <th>diabetes</th>\n",
       "      <th>ejection_fraction</th>\n",
       "      <th>high_blood_pressure</th>\n",
       "      <th>platelets</th>\n",
       "      <th>serum_creatinine</th>\n",
       "      <th>serum_sodium</th>\n",
       "      <th>sex</th>\n",
       "      <th>smoking</th>\n",
       "      <th>time</th>\n",
       "      <th>DEATH_EVENT</th>\n",
       "    </tr>\n",
       "  </thead>\n",
       "  <tbody>\n",
       "    <tr>\n",
       "      <th>0</th>\n",
       "      <td>75.0</td>\n",
       "      <td>0</td>\n",
       "      <td>582</td>\n",
       "      <td>0</td>\n",
       "      <td>20</td>\n",
       "      <td>1</td>\n",
       "      <td>265000.00</td>\n",
       "      <td>1.9</td>\n",
       "      <td>130</td>\n",
       "      <td>1</td>\n",
       "      <td>0</td>\n",
       "      <td>4</td>\n",
       "      <td>1</td>\n",
       "    </tr>\n",
       "    <tr>\n",
       "      <th>1</th>\n",
       "      <td>55.0</td>\n",
       "      <td>0</td>\n",
       "      <td>7861</td>\n",
       "      <td>0</td>\n",
       "      <td>38</td>\n",
       "      <td>0</td>\n",
       "      <td>263358.03</td>\n",
       "      <td>1.1</td>\n",
       "      <td>136</td>\n",
       "      <td>1</td>\n",
       "      <td>0</td>\n",
       "      <td>6</td>\n",
       "      <td>1</td>\n",
       "    </tr>\n",
       "    <tr>\n",
       "      <th>2</th>\n",
       "      <td>65.0</td>\n",
       "      <td>0</td>\n",
       "      <td>146</td>\n",
       "      <td>0</td>\n",
       "      <td>20</td>\n",
       "      <td>0</td>\n",
       "      <td>162000.00</td>\n",
       "      <td>1.3</td>\n",
       "      <td>129</td>\n",
       "      <td>1</td>\n",
       "      <td>1</td>\n",
       "      <td>7</td>\n",
       "      <td>1</td>\n",
       "    </tr>\n",
       "    <tr>\n",
       "      <th>3</th>\n",
       "      <td>50.0</td>\n",
       "      <td>1</td>\n",
       "      <td>111</td>\n",
       "      <td>0</td>\n",
       "      <td>20</td>\n",
       "      <td>0</td>\n",
       "      <td>210000.00</td>\n",
       "      <td>1.9</td>\n",
       "      <td>137</td>\n",
       "      <td>1</td>\n",
       "      <td>0</td>\n",
       "      <td>7</td>\n",
       "      <td>1</td>\n",
       "    </tr>\n",
       "    <tr>\n",
       "      <th>4</th>\n",
       "      <td>65.0</td>\n",
       "      <td>1</td>\n",
       "      <td>160</td>\n",
       "      <td>1</td>\n",
       "      <td>20</td>\n",
       "      <td>0</td>\n",
       "      <td>327000.00</td>\n",
       "      <td>2.7</td>\n",
       "      <td>116</td>\n",
       "      <td>0</td>\n",
       "      <td>0</td>\n",
       "      <td>8</td>\n",
       "      <td>1</td>\n",
       "    </tr>\n",
       "  </tbody>\n",
       "</table>\n",
       "</div>"
      ],
      "text/plain": [
       "    age  anaemia  creatinine_phosphokinase  diabetes  ejection_fraction  \\\n",
       "0  75.0        0                       582         0                 20   \n",
       "1  55.0        0                      7861         0                 38   \n",
       "2  65.0        0                       146         0                 20   \n",
       "3  50.0        1                       111         0                 20   \n",
       "4  65.0        1                       160         1                 20   \n",
       "\n",
       "   high_blood_pressure  platelets  serum_creatinine  serum_sodium  sex  \\\n",
       "0                    1  265000.00               1.9           130    1   \n",
       "1                    0  263358.03               1.1           136    1   \n",
       "2                    0  162000.00               1.3           129    1   \n",
       "3                    0  210000.00               1.9           137    1   \n",
       "4                    0  327000.00               2.7           116    0   \n",
       "\n",
       "   smoking  time  DEATH_EVENT  \n",
       "0        0     4            1  \n",
       "1        0     6            1  \n",
       "2        1     7            1  \n",
       "3        0     7            1  \n",
       "4        0     8            1  "
      ]
     },
     "execution_count": 2,
     "metadata": {},
     "output_type": "execute_result"
    }
   ],
   "source": [
    "#loading the dataset\n",
    "df=pd.read_csv('C:\\\\Users\\sojore\\Documents\\heart failure dataset\\heart_failure_clinical_records_dataset.csv')\n",
    "df.head()"
   ]
  },
  {
   "cell_type": "code",
   "execution_count": 3,
   "metadata": {},
   "outputs": [
    {
     "data": {
      "text/plain": [
       "age\n",
       "60.0    33\n",
       "50.0    27\n",
       "65.0    26\n",
       "70.0    25\n",
       "45.0    19\n",
       "Name: age, dtype: int64"
      ]
     },
     "execution_count": 3,
     "metadata": {},
     "output_type": "execute_result"
    }
   ],
   "source": [
    "#exploring the dataset\n",
    "df.groupby('age')['age'].agg('count').sort_values(ascending=False).head()"
   ]
  },
  {
   "cell_type": "code",
   "execution_count": 4,
   "metadata": {},
   "outputs": [
    {
     "data": {
      "text/plain": [
       "age                         0\n",
       "anaemia                     0\n",
       "creatinine_phosphokinase    0\n",
       "diabetes                    0\n",
       "ejection_fraction           0\n",
       "high_blood_pressure         0\n",
       "platelets                   0\n",
       "serum_creatinine            0\n",
       "serum_sodium                0\n",
       "sex                         0\n",
       "smoking                     0\n",
       "time                        0\n",
       "DEATH_EVENT                 0\n",
       "dtype: int64"
      ]
     },
     "execution_count": 4,
     "metadata": {},
     "output_type": "execute_result"
    }
   ],
   "source": [
    "#handling any missing values\n",
    "df.isna().sum()"
   ]
  },
  {
   "cell_type": "code",
   "execution_count": 5,
   "metadata": {},
   "outputs": [
    {
     "data": {
      "text/plain": [
       "Text(0, 0.5, 'DEATH_EVENT')"
      ]
     },
     "execution_count": 5,
     "metadata": {},
     "output_type": "execute_result"
    },
    {
     "data": {
      "image/png": "[encoded data removed]",
      "text/plain": [
       "<Figure size 432x288 with 1 Axes>"
      ]
     },
     "metadata": {
      "needs_background": "light"
     },
     "output_type": "display_data"
    }
   ],
   "source": [
    "#the dataset has no nan values,so we can plot some plot to visualize the dataset\n",
    "plt.scatter(df.DEATH_EVENT,df.age)\n",
    "plt.xlabel('age')\n",
    "plt.ylabel('DEATH_EVENT')"
   ]
  },
  {
   "cell_type": "code",
   "execution_count": 6,
   "metadata": {},
   "outputs": [
    {
     "data": {
      "text/plain": [
       "Index(['age', 'anaemia', 'creatinine_phosphokinase', 'diabetes',\n",
       "       'ejection_fraction', 'high_blood_pressure', 'platelets',\n",
       "       'serum_creatinine', 'serum_sodium', 'sex', 'smoking', 'time',\n",
       "       'DEATH_EVENT'],\n",
       "      dtype='object')"
      ]
     },
     "execution_count": 6,
     "metadata": {},
     "output_type": "execute_result"
    }
   ],
   "source": [
    "df.columns"
   ]
  },
  {
   "cell_type": "code",
   "execution_count": 7,
   "metadata": {},
   "outputs": [
    {
     "data": {
      "text/plain": [
       "Text(0, 0.5, 'DEATH_EVENT')"
      ]
     },
     "execution_count": 7,
     "metadata": {},
     "output_type": "execute_result"
    },
    {
     "data": {
      "image/png": "[encoded data removed]",
      "text/plain": [
       "<Figure size 432x288 with 1 Axes>"
      ]
     },
     "metadata": {
      "needs_background": "light"
     },
     "output_type": "display_data"
    }
   ],
   "source": [
    "plt.scatter(df.DEATH_EVENT,df.anaemia,color='g')\n",
    "plt.xlabel('anaemia')\n",
    "plt.ylabel('DEATH_EVENT')"
   ]
  },
  {
   "cell_type": "code",
   "execution_count": 8,
   "metadata": {},
   "outputs": [
    {
     "data": {
      "text/plain": [
       "Text(0, 0.5, 'DEATH_EVENT')"
      ]
     },
     "execution_count": 8,
     "metadata": {},
     "output_type": "execute_result"
    },
    {
     "data": {
      "image/png": "[encoded data removed]",
      "text/plain": [
       "<Figure size 432x288 with 1 Axes>"
      ]
     },
     "metadata": {
      "needs_background": "light"
     },
     "output_type": "display_data"
    }
   ],
   "source": [
    "plt.scatter(df.DEATH_EVENT,df.high_blood_pressure,color='y')\n",
    "plt.xlabel('high_blood_pressure')\n",
    "plt.ylabel('DEATH_EVENT')"
   ]
  },
  {
   "cell_type": "code",
   "execution_count": 9,
   "metadata": {},
   "outputs": [
    {
     "data": {
      "text/plain": [
       "Text(0, 0.5, 'DEATH_EVENT')"
      ]
     },
     "execution_count": 9,
     "metadata": {},
     "output_type": "execute_result"
    },
    {
     "data": {
      "image/png": "[encoded data removed]",
      "text/plain": [
       "<Figure size 432x288 with 1 Axes>"
      ]
     },
     "metadata": {
      "needs_background": "light"
     },
     "output_type": "display_data"
    }
   ],
   "source": [
    "plt.scatter(df.DEATH_EVENT,df.platelets,color='grey')\n",
    "plt.xlabel('platelets')\n",
    "plt.ylabel('DEATH_EVENT')"
   ]
  },
  {
   "cell_type": "code",
   "execution_count": 10,
   "metadata": {},
   "outputs": [
    {
     "data": {
      "text/plain": [
       "Text(0, 0.5, 'DEATH_EVENT')"
      ]
     },
     "execution_count": 10,
     "metadata": {},
     "output_type": "execute_result"
    },
    {
     "data": {
      "image/png": "[encoded data removed]",
      "text/plain": [
       "<Figure size 432x288 with 1 Axes>"
      ]
     },
     "metadata": {
      "needs_background": "light"
     },
     "output_type": "display_data"
    }
   ],
   "source": [
    "plt.scatter(df.DEATH_EVENT,df.time,color='orange')\n",
    "plt.xlabel('time')\n",
    "plt.ylabel('DEATH_EVENT')"
   ]
  },
  {
   "cell_type": "code",
   "execution_count": 11,
   "metadata": {},
   "outputs": [
    {
     "data": {
      "text/plain": [
       "(array([37., 37., 39., 55., 46., 40., 19., 12.,  8.,  6.]),\n",
       " array([40. , 45.5, 51. , 56.5, 62. , 67.5, 73. , 78.5, 84. , 89.5, 95. ]),\n",
       " <BarContainer object of 10 artists>)"
      ]
     },
     "execution_count": 11,
     "metadata": {},
     "output_type": "execute_result"
    },
    {
     "data": {
      "image/png": "[encoded data removed]",
      "text/plain": [
       "<Figure size 432x288 with 1 Axes>"
      ]
     },
     "metadata": {
      "needs_background": "light"
     },
     "output_type": "display_data"
    }
   ],
   "source": [
    "#lets plot a histogram to see how it looks like\n",
    "plt.hist(df.age,rwidth=0.8)"
   ]
  },
  {
   "cell_type": "code",
   "execution_count": 12,
   "metadata": {},
   "outputs": [
    {
     "data": {
      "text/html": [
       "<div>\n",
       "<style scoped>\n",
       "    .dataframe tbody tr th:only-of-type {\n",
       "        vertical-align: middle;\n",
       "    }\n",
       "\n",
       "    .dataframe tbody tr th {\n",
       "        vertical-align: top;\n",
       "    }\n",
       "\n",
       "    .dataframe thead th {\n",
       "        text-align: right;\n",
       "    }\n",
       "</style>\n",
       "<table border=\"1\" class=\"dataframe\">\n",
       "  <thead>\n",
       "    <tr style=\"text-align: right;\">\n",
       "      <th></th>\n",
       "      <th>age</th>\n",
       "      <th>anaemia</th>\n",
       "      <th>creatinine_phosphokinase</th>\n",
       "      <th>diabetes</th>\n",
       "      <th>ejection_fraction</th>\n",
       "      <th>high_blood_pressure</th>\n",
       "      <th>platelets</th>\n",
       "      <th>serum_creatinine</th>\n",
       "      <th>serum_sodium</th>\n",
       "      <th>sex</th>\n",
       "      <th>smoking</th>\n",
       "      <th>time</th>\n",
       "      <th>DEATH_EVENT</th>\n",
       "    </tr>\n",
       "  </thead>\n",
       "  <tbody>\n",
       "    <tr>\n",
       "      <th>0</th>\n",
       "      <td>75.0</td>\n",
       "      <td>0</td>\n",
       "      <td>582</td>\n",
       "      <td>0</td>\n",
       "      <td>20</td>\n",
       "      <td>1</td>\n",
       "      <td>265000.00</td>\n",
       "      <td>1.9</td>\n",
       "      <td>130</td>\n",
       "      <td>1</td>\n",
       "      <td>0</td>\n",
       "      <td>4</td>\n",
       "      <td>1</td>\n",
       "    </tr>\n",
       "    <tr>\n",
       "      <th>1</th>\n",
       "      <td>55.0</td>\n",
       "      <td>0</td>\n",
       "      <td>7861</td>\n",
       "      <td>0</td>\n",
       "      <td>38</td>\n",
       "      <td>0</td>\n",
       "      <td>263358.03</td>\n",
       "      <td>1.1</td>\n",
       "      <td>136</td>\n",
       "      <td>1</td>\n",
       "      <td>0</td>\n",
       "      <td>6</td>\n",
       "      <td>1</td>\n",
       "    </tr>\n",
       "    <tr>\n",
       "      <th>2</th>\n",
       "      <td>65.0</td>\n",
       "      <td>0</td>\n",
       "      <td>146</td>\n",
       "      <td>0</td>\n",
       "      <td>20</td>\n",
       "      <td>0</td>\n",
       "      <td>162000.00</td>\n",
       "      <td>1.3</td>\n",
       "      <td>129</td>\n",
       "      <td>1</td>\n",
       "      <td>1</td>\n",
       "      <td>7</td>\n",
       "      <td>1</td>\n",
       "    </tr>\n",
       "  </tbody>\n",
       "</table>\n",
       "</div>"
      ],
      "text/plain": [
       "    age  anaemia  creatinine_phosphokinase  diabetes  ejection_fraction  \\\n",
       "0  75.0        0                       582         0                 20   \n",
       "1  55.0        0                      7861         0                 38   \n",
       "2  65.0        0                       146         0                 20   \n",
       "\n",
       "   high_blood_pressure  platelets  serum_creatinine  serum_sodium  sex  \\\n",
       "0                    1  265000.00               1.9           130    1   \n",
       "1                    0  263358.03               1.1           136    1   \n",
       "2                    0  162000.00               1.3           129    1   \n",
       "\n",
       "   smoking  time  DEATH_EVENT  \n",
       "0        0     4            1  \n",
       "1        0     6            1  \n",
       "2        1     7            1  "
      ]
     },
     "execution_count": 12,
     "metadata": {},
     "output_type": "execute_result"
    }
   ],
   "source": [
    "#next we handle outliers\n",
    "df.head(3)"
   ]
  },
  {
   "cell_type": "code",
   "execution_count": 13,
   "metadata": {},
   "outputs": [],
   "source": [
    "#creating new columns to help in outlier detection and removal\n",
    "df['time2']=df.time**2\n",
    "df['creatinine_phosphokinase2']=df.creatinine_phosphokinase**2\n",
    "df['serum_creatinine2']=df.serum_creatinine**2\n",
    "df['serum_sodium2']=df.serum_sodium**2\n",
    "df['ejection_fraction2']=df.ejection_fraction**2"
   ]
  },
  {
   "cell_type": "code",
   "execution_count": 14,
   "metadata": {},
   "outputs": [
    {
     "data": {
      "text/plain": [
       "age                          float64\n",
       "anaemia                        int64\n",
       "creatinine_phosphokinase       int64\n",
       "diabetes                       int64\n",
       "ejection_fraction              int64\n",
       "high_blood_pressure            int64\n",
       "platelets                    float64\n",
       "serum_creatinine             float64\n",
       "serum_sodium                   int64\n",
       "sex                            int64\n",
       "smoking                        int64\n",
       "time                           int64\n",
       "DEATH_EVENT                    int64\n",
       "time2                          int64\n",
       "creatinine_phosphokinase2      int64\n",
       "serum_creatinine2            float64\n",
       "serum_sodium2                  int64\n",
       "ejection_fraction2             int64\n",
       "dtype: object"
      ]
     },
     "execution_count": 14,
     "metadata": {},
     "output_type": "execute_result"
    }
   ],
   "source": [
    "df.dtypes"
   ]
  },
  {
   "cell_type": "code",
   "execution_count": 15,
   "metadata": {},
   "outputs": [
    {
     "data": {
      "text/html": [
       "<div>\n",
       "<style scoped>\n",
       "    .dataframe tbody tr th:only-of-type {\n",
       "        vertical-align: middle;\n",
       "    }\n",
       "\n",
       "    .dataframe tbody tr th {\n",
       "        vertical-align: top;\n",
       "    }\n",
       "\n",
       "    .dataframe thead th {\n",
       "        text-align: right;\n",
       "    }\n",
       "</style>\n",
       "<table border=\"1\" class=\"dataframe\">\n",
       "  <thead>\n",
       "    <tr style=\"text-align: right;\">\n",
       "      <th></th>\n",
       "      <th>age</th>\n",
       "      <th>anaemia</th>\n",
       "      <th>creatinine_phosphokinase</th>\n",
       "      <th>diabetes</th>\n",
       "      <th>ejection_fraction</th>\n",
       "      <th>high_blood_pressure</th>\n",
       "      <th>platelets</th>\n",
       "      <th>serum_creatinine</th>\n",
       "      <th>serum_sodium</th>\n",
       "      <th>sex</th>\n",
       "      <th>smoking</th>\n",
       "      <th>time</th>\n",
       "      <th>DEATH_EVENT</th>\n",
       "      <th>time2</th>\n",
       "      <th>creatinine_phosphokinase2</th>\n",
       "      <th>serum_creatinine2</th>\n",
       "      <th>serum_sodium2</th>\n",
       "      <th>ejection_fraction2</th>\n",
       "    </tr>\n",
       "  </thead>\n",
       "  <tbody>\n",
       "    <tr>\n",
       "      <th>0</th>\n",
       "      <td>75.0</td>\n",
       "      <td>0</td>\n",
       "      <td>582</td>\n",
       "      <td>0</td>\n",
       "      <td>20</td>\n",
       "      <td>1</td>\n",
       "      <td>265000.00</td>\n",
       "      <td>1.9</td>\n",
       "      <td>130</td>\n",
       "      <td>1</td>\n",
       "      <td>0</td>\n",
       "      <td>4</td>\n",
       "      <td>1</td>\n",
       "      <td>16</td>\n",
       "      <td>338724</td>\n",
       "      <td>3.61</td>\n",
       "      <td>16900</td>\n",
       "      <td>400</td>\n",
       "    </tr>\n",
       "    <tr>\n",
       "      <th>1</th>\n",
       "      <td>55.0</td>\n",
       "      <td>0</td>\n",
       "      <td>7861</td>\n",
       "      <td>0</td>\n",
       "      <td>38</td>\n",
       "      <td>0</td>\n",
       "      <td>263358.03</td>\n",
       "      <td>1.1</td>\n",
       "      <td>136</td>\n",
       "      <td>1</td>\n",
       "      <td>0</td>\n",
       "      <td>6</td>\n",
       "      <td>1</td>\n",
       "      <td>36</td>\n",
       "      <td>61795321</td>\n",
       "      <td>1.21</td>\n",
       "      <td>18496</td>\n",
       "      <td>1444</td>\n",
       "    </tr>\n",
       "    <tr>\n",
       "      <th>2</th>\n",
       "      <td>65.0</td>\n",
       "      <td>0</td>\n",
       "      <td>146</td>\n",
       "      <td>0</td>\n",
       "      <td>20</td>\n",
       "      <td>0</td>\n",
       "      <td>162000.00</td>\n",
       "      <td>1.3</td>\n",
       "      <td>129</td>\n",
       "      <td>1</td>\n",
       "      <td>1</td>\n",
       "      <td>7</td>\n",
       "      <td>1</td>\n",
       "      <td>49</td>\n",
       "      <td>21316</td>\n",
       "      <td>1.69</td>\n",
       "      <td>16641</td>\n",
       "      <td>400</td>\n",
       "    </tr>\n",
       "    <tr>\n",
       "      <th>3</th>\n",
       "      <td>50.0</td>\n",
       "      <td>1</td>\n",
       "      <td>111</td>\n",
       "      <td>0</td>\n",
       "      <td>20</td>\n",
       "      <td>0</td>\n",
       "      <td>210000.00</td>\n",
       "      <td>1.9</td>\n",
       "      <td>137</td>\n",
       "      <td>1</td>\n",
       "      <td>0</td>\n",
       "      <td>7</td>\n",
       "      <td>1</td>\n",
       "      <td>49</td>\n",
       "      <td>12321</td>\n",
       "      <td>3.61</td>\n",
       "      <td>18769</td>\n",
       "      <td>400</td>\n",
       "    </tr>\n",
       "    <tr>\n",
       "      <th>4</th>\n",
       "      <td>65.0</td>\n",
       "      <td>1</td>\n",
       "      <td>160</td>\n",
       "      <td>1</td>\n",
       "      <td>20</td>\n",
       "      <td>0</td>\n",
       "      <td>327000.00</td>\n",
       "      <td>2.7</td>\n",
       "      <td>116</td>\n",
       "      <td>0</td>\n",
       "      <td>0</td>\n",
       "      <td>8</td>\n",
       "      <td>1</td>\n",
       "      <td>64</td>\n",
       "      <td>25600</td>\n",
       "      <td>7.29</td>\n",
       "      <td>13456</td>\n",
       "      <td>400</td>\n",
       "    </tr>\n",
       "  </tbody>\n",
       "</table>\n",
       "</div>"
      ],
      "text/plain": [
       "    age  anaemia  creatinine_phosphokinase  diabetes  ejection_fraction  \\\n",
       "0  75.0        0                       582         0                 20   \n",
       "1  55.0        0                      7861         0                 38   \n",
       "2  65.0        0                       146         0                 20   \n",
       "3  50.0        1                       111         0                 20   \n",
       "4  65.0        1                       160         1                 20   \n",
       "\n",
       "   high_blood_pressure  platelets  serum_creatinine  serum_sodium  sex  \\\n",
       "0                    1  265000.00               1.9           130    1   \n",
       "1                    0  263358.03               1.1           136    1   \n",
       "2                    0  162000.00               1.3           129    1   \n",
       "3                    0  210000.00               1.9           137    1   \n",
       "4                    0  327000.00               2.7           116    0   \n",
       "\n",
       "   smoking  time  DEATH_EVENT  time2  creatinine_phosphokinase2  \\\n",
       "0        0     4            1     16                     338724   \n",
       "1        0     6            1     36                   61795321   \n",
       "2        1     7            1     49                      21316   \n",
       "3        0     7            1     49                      12321   \n",
       "4        0     8            1     64                      25600   \n",
       "\n",
       "   serum_creatinine2  serum_sodium2  ejection_fraction2  \n",
       "0               3.61          16900                 400  \n",
       "1               1.21          18496                1444  \n",
       "2               1.69          16641                 400  \n",
       "3               3.61          18769                 400  \n",
       "4               7.29          13456                 400  "
      ]
     },
     "execution_count": 15,
     "metadata": {},
     "output_type": "execute_result"
    }
   ],
   "source": [
    "df.head()"
   ]
  },
  {
   "cell_type": "code",
   "execution_count": 16,
   "metadata": {},
   "outputs": [
    {
     "data": {
      "text/plain": [
       "(299, 18)"
      ]
     },
     "execution_count": 16,
     "metadata": {},
     "output_type": "execute_result"
    }
   ],
   "source": [
    "df.shape"
   ]
  },
  {
   "cell_type": "code",
   "execution_count": 17,
   "metadata": {},
   "outputs": [
    {
     "data": {
      "text/plain": [
       "(212500.0, 303500.0)"
      ]
     },
     "execution_count": 17,
     "metadata": {},
     "output_type": "execute_result"
    }
   ],
   "source": [
    "#we now gonna use the IQR to detect and remove some of outliers\n",
    "Q1=df.platelets.quantile(0.25)\n",
    "Q3=df.platelets.quantile(0.75)\n",
    "Q1,Q3"
   ]
  },
  {
   "cell_type": "code",
   "execution_count": 18,
   "metadata": {},
   "outputs": [
    {
     "data": {
      "text/plain": [
       "(76000.0, 440000.0)"
      ]
     },
     "execution_count": 18,
     "metadata": {},
     "output_type": "execute_result"
    }
   ],
   "source": [
    "IQR=Q3-Q1\n",
    "ll1=Q1-IQR*1.5\n",
    "ul1=Q3+IQR*1.5\n",
    "ll1,ul1"
   ]
  },
  {
   "cell_type": "code",
   "execution_count": 19,
   "metadata": {},
   "outputs": [
    {
     "data": {
      "text/plain": [
       "(278, 18)"
      ]
     },
     "execution_count": 19,
     "metadata": {},
     "output_type": "execute_result"
    }
   ],
   "source": [
    "df[(df.platelets<ll1) | (df.platelets>ul1)]\n",
    "df1=df[(df.platelets>ll1) & (df.platelets<ul1)]\n",
    "df1.shape"
   ]
  },
  {
   "cell_type": "code",
   "execution_count": 20,
   "metadata": {},
   "outputs": [
    {
     "data": {
      "text/plain": [
       "(49.0, 66564.0)"
      ]
     },
     "execution_count": 20,
     "metadata": {},
     "output_type": "execute_result"
    }
   ],
   "source": [
    "ll2=df1.time2.quantile(0.01)\n",
    "ul2=df1.time2.quantile(0.98)\n",
    "ll2,ul2"
   ]
  },
  {
   "cell_type": "code",
   "execution_count": 21,
   "metadata": {},
   "outputs": [
    {
     "data": {
      "text/plain": [
       "(267, 18)"
      ]
     },
     "execution_count": 21,
     "metadata": {},
     "output_type": "execute_result"
    }
   ],
   "source": [
    "df1[(df1.time2<ll2) | (df1.time2>ul2)]\n",
    "df2=df1[(df1.time2>ll2) & (df1.time2<ul2)]\n",
    "df2.shape"
   ]
  },
  {
   "cell_type": "code",
   "execution_count": 22,
   "metadata": {},
   "outputs": [
    {
     "data": {
      "text/html": [
       "<div>\n",
       "<style scoped>\n",
       "    .dataframe tbody tr th:only-of-type {\n",
       "        vertical-align: middle;\n",
       "    }\n",
       "\n",
       "    .dataframe tbody tr th {\n",
       "        vertical-align: top;\n",
       "    }\n",
       "\n",
       "    .dataframe thead th {\n",
       "        text-align: right;\n",
       "    }\n",
       "</style>\n",
       "<table border=\"1\" class=\"dataframe\">\n",
       "  <thead>\n",
       "    <tr style=\"text-align: right;\">\n",
       "      <th></th>\n",
       "      <th>age</th>\n",
       "      <th>anaemia</th>\n",
       "      <th>creatinine_phosphokinase</th>\n",
       "      <th>diabetes</th>\n",
       "      <th>ejection_fraction</th>\n",
       "      <th>high_blood_pressure</th>\n",
       "      <th>platelets</th>\n",
       "      <th>serum_creatinine</th>\n",
       "      <th>serum_sodium</th>\n",
       "      <th>sex</th>\n",
       "      <th>smoking</th>\n",
       "      <th>time</th>\n",
       "      <th>DEATH_EVENT</th>\n",
       "      <th>time2</th>\n",
       "      <th>creatinine_phosphokinase2</th>\n",
       "      <th>serum_creatinine2</th>\n",
       "      <th>serum_sodium2</th>\n",
       "      <th>ejection_fraction2</th>\n",
       "    </tr>\n",
       "  </thead>\n",
       "  <tbody>\n",
       "    <tr>\n",
       "      <th>4</th>\n",
       "      <td>65.0</td>\n",
       "      <td>1</td>\n",
       "      <td>160</td>\n",
       "      <td>1</td>\n",
       "      <td>20</td>\n",
       "      <td>0</td>\n",
       "      <td>327000.0</td>\n",
       "      <td>2.7</td>\n",
       "      <td>116</td>\n",
       "      <td>0</td>\n",
       "      <td>0</td>\n",
       "      <td>8</td>\n",
       "      <td>1</td>\n",
       "      <td>64</td>\n",
       "      <td>25600</td>\n",
       "      <td>7.29</td>\n",
       "      <td>13456</td>\n",
       "      <td>400</td>\n",
       "    </tr>\n",
       "    <tr>\n",
       "      <th>5</th>\n",
       "      <td>90.0</td>\n",
       "      <td>1</td>\n",
       "      <td>47</td>\n",
       "      <td>0</td>\n",
       "      <td>40</td>\n",
       "      <td>1</td>\n",
       "      <td>204000.0</td>\n",
       "      <td>2.1</td>\n",
       "      <td>132</td>\n",
       "      <td>1</td>\n",
       "      <td>1</td>\n",
       "      <td>8</td>\n",
       "      <td>1</td>\n",
       "      <td>64</td>\n",
       "      <td>2209</td>\n",
       "      <td>4.41</td>\n",
       "      <td>17424</td>\n",
       "      <td>1600</td>\n",
       "    </tr>\n",
       "  </tbody>\n",
       "</table>\n",
       "</div>"
      ],
      "text/plain": [
       "    age  anaemia  creatinine_phosphokinase  diabetes  ejection_fraction  \\\n",
       "4  65.0        1                       160         1                 20   \n",
       "5  90.0        1                        47         0                 40   \n",
       "\n",
       "   high_blood_pressure  platelets  serum_creatinine  serum_sodium  sex  \\\n",
       "4                    0   327000.0               2.7           116    0   \n",
       "5                    1   204000.0               2.1           132    1   \n",
       "\n",
       "   smoking  time  DEATH_EVENT  time2  creatinine_phosphokinase2  \\\n",
       "4        0     8            1     64                      25600   \n",
       "5        1     8            1     64                       2209   \n",
       "\n",
       "   serum_creatinine2  serum_sodium2  ejection_fraction2  \n",
       "4               7.29          13456                 400  \n",
       "5               4.41          17424                1600  "
      ]
     },
     "execution_count": 22,
     "metadata": {},
     "output_type": "execute_result"
    }
   ],
   "source": [
    "df2.head(2)"
   ]
  },
  {
   "cell_type": "code",
   "execution_count": 23,
   "metadata": {},
   "outputs": [
    {
     "data": {
      "text/plain": [
       "(2209.0, 13183100.800000055)"
      ]
     },
     "execution_count": 23,
     "metadata": {},
     "output_type": "execute_result"
    }
   ],
   "source": [
    "ll3=df2.creatinine_phosphokinase2.quantile(0.01)\n",
    "ul3=df2.creatinine_phosphokinase2.quantile(0.98)\n",
    "ll3,ul3"
   ]
  },
  {
   "cell_type": "code",
   "execution_count": 24,
   "metadata": {},
   "outputs": [
    {
     "data": {
      "text/plain": [
       "(256, 18)"
      ]
     },
     "execution_count": 24,
     "metadata": {},
     "output_type": "execute_result"
    }
   ],
   "source": [
    "df2[(df2.creatinine_phosphokinase2<ll3) | (df2.creatinine_phosphokinase2>ul3)]\n",
    "df3=df2[(df2.creatinine_phosphokinase2>ll3) & (df2.creatinine_phosphokinase2<ul3)]\n",
    "df3.shape"
   ]
  },
  {
   "cell_type": "code",
   "execution_count": 25,
   "metadata": {},
   "outputs": [
    {
     "data": {
      "text/plain": [
       "(0.36, 19.024000000000022)"
      ]
     },
     "execution_count": 25,
     "metadata": {},
     "output_type": "execute_result"
    }
   ],
   "source": [
    "ll4=df3.serum_creatinine2.quantile(0.01)\n",
    "ul4=df3.serum_creatinine2.quantile(0.98)\n",
    "ll4,ul4"
   ]
  },
  {
   "cell_type": "code",
   "execution_count": 26,
   "metadata": {},
   "outputs": [
    {
     "data": {
      "text/plain": [
       "(246, 18)"
      ]
     },
     "execution_count": 26,
     "metadata": {},
     "output_type": "execute_result"
    }
   ],
   "source": [
    "df3[(df3.serum_creatinine2<ll4) | (df3.serum_creatinine2>ul4)]\n",
    "df4=df3[(df3.serum_creatinine2>ll4) & (df3.serum_creatinine2<ul4)]\n",
    "df4.shape"
   ]
  },
  {
   "cell_type": "code",
   "execution_count": 27,
   "metadata": {},
   "outputs": [
    {
     "data": {
      "text/html": [
       "<div>\n",
       "<style scoped>\n",
       "    .dataframe tbody tr th:only-of-type {\n",
       "        vertical-align: middle;\n",
       "    }\n",
       "\n",
       "    .dataframe tbody tr th {\n",
       "        vertical-align: top;\n",
       "    }\n",
       "\n",
       "    .dataframe thead th {\n",
       "        text-align: right;\n",
       "    }\n",
       "</style>\n",
       "<table border=\"1\" class=\"dataframe\">\n",
       "  <thead>\n",
       "    <tr style=\"text-align: right;\">\n",
       "      <th></th>\n",
       "      <th>age</th>\n",
       "      <th>anaemia</th>\n",
       "      <th>creatinine_phosphokinase</th>\n",
       "      <th>diabetes</th>\n",
       "      <th>ejection_fraction</th>\n",
       "      <th>high_blood_pressure</th>\n",
       "      <th>platelets</th>\n",
       "      <th>serum_creatinine</th>\n",
       "      <th>serum_sodium</th>\n",
       "      <th>sex</th>\n",
       "      <th>smoking</th>\n",
       "      <th>time</th>\n",
       "      <th>DEATH_EVENT</th>\n",
       "      <th>time2</th>\n",
       "      <th>creatinine_phosphokinase2</th>\n",
       "      <th>serum_creatinine2</th>\n",
       "      <th>serum_sodium2</th>\n",
       "      <th>ejection_fraction2</th>\n",
       "    </tr>\n",
       "  </thead>\n",
       "  <tbody>\n",
       "    <tr>\n",
       "      <th>229</th>\n",
       "      <td>72.000</td>\n",
       "      <td>0</td>\n",
       "      <td>211</td>\n",
       "      <td>0</td>\n",
       "      <td>25</td>\n",
       "      <td>0</td>\n",
       "      <td>274000.0</td>\n",
       "      <td>1.2</td>\n",
       "      <td>134</td>\n",
       "      <td>0</td>\n",
       "      <td>0</td>\n",
       "      <td>207</td>\n",
       "      <td>0</td>\n",
       "      <td>42849</td>\n",
       "      <td>44521</td>\n",
       "      <td>1.44</td>\n",
       "      <td>17956</td>\n",
       "      <td>625</td>\n",
       "    </tr>\n",
       "    <tr>\n",
       "      <th>188</th>\n",
       "      <td>60.667</td>\n",
       "      <td>1</td>\n",
       "      <td>151</td>\n",
       "      <td>1</td>\n",
       "      <td>40</td>\n",
       "      <td>1</td>\n",
       "      <td>201000.0</td>\n",
       "      <td>1.0</td>\n",
       "      <td>136</td>\n",
       "      <td>0</td>\n",
       "      <td>0</td>\n",
       "      <td>172</td>\n",
       "      <td>0</td>\n",
       "      <td>29584</td>\n",
       "      <td>22801</td>\n",
       "      <td>1.00</td>\n",
       "      <td>18496</td>\n",
       "      <td>1600</td>\n",
       "    </tr>\n",
       "  </tbody>\n",
       "</table>\n",
       "</div>"
      ],
      "text/plain": [
       "        age  anaemia  creatinine_phosphokinase  diabetes  ejection_fraction  \\\n",
       "229  72.000        0                       211         0                 25   \n",
       "188  60.667        1                       151         1                 40   \n",
       "\n",
       "     high_blood_pressure  platelets  serum_creatinine  serum_sodium  sex  \\\n",
       "229                    0   274000.0               1.2           134    0   \n",
       "188                    1   201000.0               1.0           136    0   \n",
       "\n",
       "     smoking  time  DEATH_EVENT  time2  creatinine_phosphokinase2  \\\n",
       "229        0   207            0  42849                      44521   \n",
       "188        0   172            0  29584                      22801   \n",
       "\n",
       "     serum_creatinine2  serum_sodium2  ejection_fraction2  \n",
       "229               1.44          17956                 625  \n",
       "188               1.00          18496                1600  "
      ]
     },
     "execution_count": 27,
     "metadata": {},
     "output_type": "execute_result"
    }
   ],
   "source": [
    "df4.sample(2)"
   ]
  },
  {
   "cell_type": "code",
   "execution_count": 28,
   "metadata": {},
   "outputs": [
    {
     "data": {
      "text/plain": [
       "(14971.75, 21025.0)"
      ]
     },
     "execution_count": 28,
     "metadata": {},
     "output_type": "execute_result"
    }
   ],
   "source": [
    "ll5=df4.serum_sodium2.quantile(0.01)\n",
    "ul5=df4.serum_sodium2.quantile(0.98)\n",
    "ll5,ul5"
   ]
  },
  {
   "cell_type": "code",
   "execution_count": 29,
   "metadata": {},
   "outputs": [
    {
     "data": {
      "text/plain": [
       "(233, 18)"
      ]
     },
     "execution_count": 29,
     "metadata": {},
     "output_type": "execute_result"
    }
   ],
   "source": [
    "df4[(df4.serum_sodium2<ll5) | (df4.serum_sodium2>ul5)]\n",
    "df5=df4[(df4.serum_sodium2>ll5) & (df4.serum_sodium2<ul5)]\n",
    "df5.shape"
   ]
  },
  {
   "cell_type": "code",
   "execution_count": 30,
   "metadata": {},
   "outputs": [
    {
     "data": {
      "text/plain": [
       "(245.47999999999996, 3600.0)"
      ]
     },
     "execution_count": 30,
     "metadata": {},
     "output_type": "execute_result"
    }
   ],
   "source": [
    "ll6=df5.ejection_fraction2.quantile(0.01)\n",
    "ul6=df5.ejection_fraction2.quantile(0.98)\n",
    "ll6,ul6"
   ]
  },
  {
   "cell_type": "code",
   "execution_count": 31,
   "metadata": {},
   "outputs": [
    {
     "data": {
      "text/plain": [
       "(227, 18)"
      ]
     },
     "execution_count": 31,
     "metadata": {},
     "output_type": "execute_result"
    }
   ],
   "source": [
    "df5[(df5.ejection_fraction2<ll6) | (df5.ejection_fraction2>ul6)]\n",
    "df6=df5[(df5.ejection_fraction2>=ll6) & (df5.ejection_fraction2<=ul6)]\n",
    "df6.shape"
   ]
  },
  {
   "cell_type": "code",
   "execution_count": 32,
   "metadata": {},
   "outputs": [
    {
     "data": {
      "text/html": [
       "<div>\n",
       "<style scoped>\n",
       "    .dataframe tbody tr th:only-of-type {\n",
       "        vertical-align: middle;\n",
       "    }\n",
       "\n",
       "    .dataframe tbody tr th {\n",
       "        vertical-align: top;\n",
       "    }\n",
       "\n",
       "    .dataframe thead th {\n",
       "        text-align: right;\n",
       "    }\n",
       "</style>\n",
       "<table border=\"1\" class=\"dataframe\">\n",
       "  <thead>\n",
       "    <tr style=\"text-align: right;\">\n",
       "      <th></th>\n",
       "      <th>age</th>\n",
       "      <th>anaemia</th>\n",
       "      <th>creatinine_phosphokinase</th>\n",
       "      <th>diabetes</th>\n",
       "      <th>ejection_fraction</th>\n",
       "      <th>high_blood_pressure</th>\n",
       "      <th>platelets</th>\n",
       "      <th>serum_creatinine</th>\n",
       "      <th>serum_sodium</th>\n",
       "      <th>sex</th>\n",
       "      <th>smoking</th>\n",
       "      <th>time</th>\n",
       "      <th>DEATH_EVENT</th>\n",
       "    </tr>\n",
       "  </thead>\n",
       "  <tbody>\n",
       "    <tr>\n",
       "      <th>10</th>\n",
       "      <td>75.0</td>\n",
       "      <td>1</td>\n",
       "      <td>81</td>\n",
       "      <td>0</td>\n",
       "      <td>38</td>\n",
       "      <td>1</td>\n",
       "      <td>368000.0</td>\n",
       "      <td>4.0</td>\n",
       "      <td>131</td>\n",
       "      <td>1</td>\n",
       "      <td>1</td>\n",
       "      <td>10</td>\n",
       "      <td>1</td>\n",
       "    </tr>\n",
       "    <tr>\n",
       "      <th>11</th>\n",
       "      <td>62.0</td>\n",
       "      <td>0</td>\n",
       "      <td>231</td>\n",
       "      <td>0</td>\n",
       "      <td>25</td>\n",
       "      <td>1</td>\n",
       "      <td>253000.0</td>\n",
       "      <td>0.9</td>\n",
       "      <td>140</td>\n",
       "      <td>1</td>\n",
       "      <td>1</td>\n",
       "      <td>10</td>\n",
       "      <td>1</td>\n",
       "    </tr>\n",
       "    <tr>\n",
       "      <th>12</th>\n",
       "      <td>45.0</td>\n",
       "      <td>1</td>\n",
       "      <td>981</td>\n",
       "      <td>0</td>\n",
       "      <td>30</td>\n",
       "      <td>0</td>\n",
       "      <td>136000.0</td>\n",
       "      <td>1.1</td>\n",
       "      <td>137</td>\n",
       "      <td>1</td>\n",
       "      <td>0</td>\n",
       "      <td>11</td>\n",
       "      <td>1</td>\n",
       "    </tr>\n",
       "    <tr>\n",
       "      <th>13</th>\n",
       "      <td>50.0</td>\n",
       "      <td>1</td>\n",
       "      <td>168</td>\n",
       "      <td>0</td>\n",
       "      <td>38</td>\n",
       "      <td>1</td>\n",
       "      <td>276000.0</td>\n",
       "      <td>1.1</td>\n",
       "      <td>137</td>\n",
       "      <td>1</td>\n",
       "      <td>0</td>\n",
       "      <td>11</td>\n",
       "      <td>1</td>\n",
       "    </tr>\n",
       "    <tr>\n",
       "      <th>14</th>\n",
       "      <td>49.0</td>\n",
       "      <td>1</td>\n",
       "      <td>80</td>\n",
       "      <td>0</td>\n",
       "      <td>30</td>\n",
       "      <td>1</td>\n",
       "      <td>427000.0</td>\n",
       "      <td>1.0</td>\n",
       "      <td>138</td>\n",
       "      <td>0</td>\n",
       "      <td>0</td>\n",
       "      <td>12</td>\n",
       "      <td>0</td>\n",
       "    </tr>\n",
       "  </tbody>\n",
       "</table>\n",
       "</div>"
      ],
      "text/plain": [
       "     age  anaemia  creatinine_phosphokinase  diabetes  ejection_fraction  \\\n",
       "10  75.0        1                        81         0                 38   \n",
       "11  62.0        0                       231         0                 25   \n",
       "12  45.0        1                       981         0                 30   \n",
       "13  50.0        1                       168         0                 38   \n",
       "14  49.0        1                        80         0                 30   \n",
       "\n",
       "    high_blood_pressure  platelets  serum_creatinine  serum_sodium  sex  \\\n",
       "10                    1   368000.0               4.0           131    1   \n",
       "11                    1   253000.0               0.9           140    1   \n",
       "12                    0   136000.0               1.1           137    1   \n",
       "13                    1   276000.0               1.1           137    1   \n",
       "14                    1   427000.0               1.0           138    0   \n",
       "\n",
       "    smoking  time  DEATH_EVENT  \n",
       "10        1    10            1  \n",
       "11        1    10            1  \n",
       "12        0    11            1  \n",
       "13        0    11            1  \n",
       "14        0    12            0  "
      ]
     },
     "execution_count": 32,
     "metadata": {},
     "output_type": "execute_result"
    }
   ],
   "source": [
    "#droping some unneccesary columns\n",
    "df7=df6.drop(['time2','creatinine_phosphokinase2','serum_creatinine2','serum_sodium2','ejection_fraction2'],axis='columns')\n",
    "df7.head()"
   ]
  },
  {
   "cell_type": "code",
   "execution_count": 33,
   "metadata": {},
   "outputs": [
    {
     "data": {
      "text/plain": [
       "array([ 10,  11,  12,  14,  15,  16,  20,  22,  23,  24,  26,  27,  28,\n",
       "        29,  30,  31,  32,  33,  35,  38,  42,  43,  44,  45,  54,  55,\n",
       "        59,  60,  64,  65,  66,  68,  71,  72,  73,  74,  75,  76,  77,\n",
       "        78,  79,  80,  82,  83,  85,  86,  87,  88,  90,  91,  94,  95,\n",
       "        96,  97, 100, 104, 106, 107, 108, 109, 110, 111, 112, 113, 115,\n",
       "       118, 119, 120, 121, 129, 130, 134, 140, 145, 146, 147, 148, 150,\n",
       "       154, 162, 170, 171, 172, 174, 175, 180, 185, 186, 187, 188, 193,\n",
       "       194, 195, 196, 197, 198, 201, 205, 206, 207, 208, 209, 210, 211,\n",
       "       212, 213, 214, 215, 216, 220, 230, 231, 233, 235, 237, 240, 241,\n",
       "       244, 245, 246, 247, 250, 256, 257], dtype=int64)"
      ]
     },
     "execution_count": 33,
     "metadata": {},
     "output_type": "execute_result"
    }
   ],
   "source": [
    "df7.time.unique()"
   ]
  },
  {
   "cell_type": "code",
   "execution_count": 34,
   "metadata": {},
   "outputs": [
    {
     "data": {
      "text/html": [
       "<div>\n",
       "<style scoped>\n",
       "    .dataframe tbody tr th:only-of-type {\n",
       "        vertical-align: middle;\n",
       "    }\n",
       "\n",
       "    .dataframe tbody tr th {\n",
       "        vertical-align: top;\n",
       "    }\n",
       "\n",
       "    .dataframe thead th {\n",
       "        text-align: right;\n",
       "    }\n",
       "</style>\n",
       "<table border=\"1\" class=\"dataframe\">\n",
       "  <thead>\n",
       "    <tr style=\"text-align: right;\">\n",
       "      <th></th>\n",
       "      <th>age</th>\n",
       "      <th>anaemia</th>\n",
       "      <th>creatinine_phosphokinase</th>\n",
       "      <th>diabetes</th>\n",
       "      <th>ejection_fraction</th>\n",
       "      <th>high_blood_pressure</th>\n",
       "      <th>platelets</th>\n",
       "      <th>serum_creatinine</th>\n",
       "      <th>serum_sodium</th>\n",
       "      <th>sex</th>\n",
       "      <th>smoking</th>\n",
       "      <th>DEATH_EVENT</th>\n",
       "    </tr>\n",
       "  </thead>\n",
       "  <tbody>\n",
       "    <tr>\n",
       "      <th>289</th>\n",
       "      <td>90.0</td>\n",
       "      <td>1</td>\n",
       "      <td>337</td>\n",
       "      <td>0</td>\n",
       "      <td>38</td>\n",
       "      <td>0</td>\n",
       "      <td>390000.00</td>\n",
       "      <td>0.90</td>\n",
       "      <td>144</td>\n",
       "      <td>0</td>\n",
       "      <td>0</td>\n",
       "      <td>0</td>\n",
       "    </tr>\n",
       "    <tr>\n",
       "      <th>239</th>\n",
       "      <td>55.0</td>\n",
       "      <td>1</td>\n",
       "      <td>180</td>\n",
       "      <td>0</td>\n",
       "      <td>45</td>\n",
       "      <td>0</td>\n",
       "      <td>263358.03</td>\n",
       "      <td>1.18</td>\n",
       "      <td>137</td>\n",
       "      <td>1</td>\n",
       "      <td>1</td>\n",
       "      <td>0</td>\n",
       "    </tr>\n",
       "    <tr>\n",
       "      <th>227</th>\n",
       "      <td>55.0</td>\n",
       "      <td>1</td>\n",
       "      <td>2794</td>\n",
       "      <td>0</td>\n",
       "      <td>35</td>\n",
       "      <td>1</td>\n",
       "      <td>141000.00</td>\n",
       "      <td>1.00</td>\n",
       "      <td>140</td>\n",
       "      <td>1</td>\n",
       "      <td>0</td>\n",
       "      <td>0</td>\n",
       "    </tr>\n",
       "  </tbody>\n",
       "</table>\n",
       "</div>"
      ],
      "text/plain": [
       "      age  anaemia  creatinine_phosphokinase  diabetes  ejection_fraction  \\\n",
       "289  90.0        1                       337         0                 38   \n",
       "239  55.0        1                       180         0                 45   \n",
       "227  55.0        1                      2794         0                 35   \n",
       "\n",
       "     high_blood_pressure  platelets  serum_creatinine  serum_sodium  sex  \\\n",
       "289                    0  390000.00              0.90           144    0   \n",
       "239                    0  263358.03              1.18           137    1   \n",
       "227                    1  141000.00              1.00           140    1   \n",
       "\n",
       "     smoking  DEATH_EVENT  \n",
       "289        0            0  \n",
       "239        1            0  \n",
       "227        0            0  "
      ]
     },
     "execution_count": 34,
     "metadata": {},
     "output_type": "execute_result"
    }
   ],
   "source": [
    "##i am gonna drop this time column too,it will count less in my model training\n",
    "df8=df7.drop('time',axis=1)\n",
    "df8.sample(3)"
   ]
  },
  {
   "cell_type": "code",
   "execution_count": 35,
   "metadata": {},
   "outputs": [
    {
     "data": {
      "text/plain": [
       "(array([ 8., 11., 21., 40., 56., 34., 28., 13., 10.,  6.]),\n",
       " array([105000., 137200., 169400., 201600., 233800., 266000., 298200.,\n",
       "        330400., 362600., 394800., 427000.]),\n",
       " <BarContainer object of 10 artists>)"
      ]
     },
     "execution_count": 35,
     "metadata": {},
     "output_type": "execute_result"
    },
    {
     "data": {
      "image/png": "[encoded data removed]",
      "text/plain": [
       "<Figure size 432x288 with 1 Axes>"
      ]
     },
     "metadata": {
      "needs_background": "light"
     },
     "output_type": "display_data"
    }
   ],
   "source": [
    "plt.hist(df8.platelets,rwidth=0.8)"
   ]
  },
  {
   "cell_type": "code",
   "execution_count": 36,
   "metadata": {},
   "outputs": [
    {
     "data": {
      "text/plain": [
       "(array([ 2.,  2.,  3.,  9., 17., 44., 63., 30., 41., 16.]),\n",
       " array([124., 126., 128., 130., 132., 134., 136., 138., 140., 142., 144.]),\n",
       " <BarContainer object of 10 artists>)"
      ]
     },
     "execution_count": 36,
     "metadata": {},
     "output_type": "execute_result"
    },
    {
     "data": {
      "image/png": "[encoded data removed]",
      "text/plain": [
       "<Figure size 432x288 with 1 Axes>"
      ]
     },
     "metadata": {
      "needs_background": "light"
     },
     "output_type": "display_data"
    }
   ],
   "source": [
    "plt.hist(df8.serum_sodium,rwidth=0.8)"
   ]
  },
  {
   "cell_type": "code",
   "execution_count": 37,
   "metadata": {},
   "outputs": [
    {
     "data": {
      "text/plain": [
       "(array([132.,  49.,  17.,  10.,   5.,   3.,   4.,   1.,   3.,   3.]),\n",
       " array([  52. ,  326.2,  600.4,  874.6, 1148.8, 1423. , 1697.2, 1971.4,\n",
       "        2245.6, 2519.8, 2794. ]),\n",
       " <BarContainer object of 10 artists>)"
      ]
     },
     "execution_count": 37,
     "metadata": {},
     "output_type": "execute_result"
    },
    {
     "data": {
      "image/png": "[encoded data removed]",
      "text/plain": [
       "<Figure size 432x288 with 1 Axes>"
      ]
     },
     "metadata": {
      "needs_background": "light"
     },
     "output_type": "display_data"
    }
   ],
   "source": [
    "plt.hist(df8.creatinine_phosphokinase,rwidth=0.8)"
   ]
  },
  {
   "cell_type": "code",
   "execution_count": 38,
   "metadata": {},
   "outputs": [
    {
     "data": {
      "text/plain": [
       "(array([13., 32.,  0., 28., 67., 32., 15., 15.,  1., 24.]),\n",
       " array([17. , 21.3, 25.6, 29.9, 34.2, 38.5, 42.8, 47.1, 51.4, 55.7, 60. ]),\n",
       " <BarContainer object of 10 artists>)"
      ]
     },
     "execution_count": 38,
     "metadata": {},
     "output_type": "execute_result"
    },
    {
     "data": {
      "image/png": "[encoded data removed]",
      "text/plain": [
       "<Figure size 432x288 with 1 Axes>"
      ]
     },
     "metadata": {
      "needs_background": "light"
     },
     "output_type": "display_data"
    }
   ],
   "source": [
    "plt.hist(df8.ejection_fraction,rwidth=0.8)"
   ]
  },
  {
   "cell_type": "code",
   "execution_count": 39,
   "metadata": {},
   "outputs": [
    {
     "data": {
      "text/plain": [
       "(array([ 8., 11., 21., 40., 56., 34., 28., 13., 10.,  6.]),\n",
       " array([105000., 137200., 169400., 201600., 233800., 266000., 298200.,\n",
       "        330400., 362600., 394800., 427000.]),\n",
       " <BarContainer object of 10 artists>)"
      ]
     },
     "execution_count": 39,
     "metadata": {},
     "output_type": "execute_result"
    },
    {
     "data": {
      "image/png": "[encoded data removed]",
      "text/plain": [
       "<Figure size 432x288 with 1 Axes>"
      ]
     },
     "metadata": {
      "needs_background": "light"
     },
     "output_type": "display_data"
    }
   ],
   "source": [
    "plt.hist(df8.platelets,rwidth=0.8,color='orange')"
   ]
  },
  {
   "cell_type": "code",
   "execution_count": 40,
   "metadata": {},
   "outputs": [],
   "source": [
    "#my histograms are kinda having a normal distribution pattern which is pretty cool\n",
    "#next...preparing the training and testing dataset"
   ]
  },
  {
   "cell_type": "code",
   "execution_count": 41,
   "metadata": {},
   "outputs": [
    {
     "data": {
      "text/html": [
       "<div>\n",
       "<style scoped>\n",
       "    .dataframe tbody tr th:only-of-type {\n",
       "        vertical-align: middle;\n",
       "    }\n",
       "\n",
       "    .dataframe tbody tr th {\n",
       "        vertical-align: top;\n",
       "    }\n",
       "\n",
       "    .dataframe thead th {\n",
       "        text-align: right;\n",
       "    }\n",
       "</style>\n",
       "<table border=\"1\" class=\"dataframe\">\n",
       "  <thead>\n",
       "    <tr style=\"text-align: right;\">\n",
       "      <th></th>\n",
       "      <th>age</th>\n",
       "      <th>anaemia</th>\n",
       "      <th>creatinine_phosphokinase</th>\n",
       "      <th>diabetes</th>\n",
       "      <th>ejection_fraction</th>\n",
       "      <th>high_blood_pressure</th>\n",
       "      <th>platelets</th>\n",
       "      <th>serum_creatinine</th>\n",
       "      <th>serum_sodium</th>\n",
       "      <th>sex</th>\n",
       "      <th>smoking</th>\n",
       "      <th>DEATH_EVENT</th>\n",
       "    </tr>\n",
       "  </thead>\n",
       "  <tbody>\n",
       "    <tr>\n",
       "      <th>10</th>\n",
       "      <td>75.0</td>\n",
       "      <td>1</td>\n",
       "      <td>81</td>\n",
       "      <td>0</td>\n",
       "      <td>38</td>\n",
       "      <td>1</td>\n",
       "      <td>368000.0</td>\n",
       "      <td>4.0</td>\n",
       "      <td>131</td>\n",
       "      <td>1</td>\n",
       "      <td>1</td>\n",
       "      <td>1</td>\n",
       "    </tr>\n",
       "    <tr>\n",
       "      <th>11</th>\n",
       "      <td>62.0</td>\n",
       "      <td>0</td>\n",
       "      <td>231</td>\n",
       "      <td>0</td>\n",
       "      <td>25</td>\n",
       "      <td>1</td>\n",
       "      <td>253000.0</td>\n",
       "      <td>0.9</td>\n",
       "      <td>140</td>\n",
       "      <td>1</td>\n",
       "      <td>1</td>\n",
       "      <td>1</td>\n",
       "    </tr>\n",
       "    <tr>\n",
       "      <th>12</th>\n",
       "      <td>45.0</td>\n",
       "      <td>1</td>\n",
       "      <td>981</td>\n",
       "      <td>0</td>\n",
       "      <td>30</td>\n",
       "      <td>0</td>\n",
       "      <td>136000.0</td>\n",
       "      <td>1.1</td>\n",
       "      <td>137</td>\n",
       "      <td>1</td>\n",
       "      <td>0</td>\n",
       "      <td>1</td>\n",
       "    </tr>\n",
       "    <tr>\n",
       "      <th>13</th>\n",
       "      <td>50.0</td>\n",
       "      <td>1</td>\n",
       "      <td>168</td>\n",
       "      <td>0</td>\n",
       "      <td>38</td>\n",
       "      <td>1</td>\n",
       "      <td>276000.0</td>\n",
       "      <td>1.1</td>\n",
       "      <td>137</td>\n",
       "      <td>1</td>\n",
       "      <td>0</td>\n",
       "      <td>1</td>\n",
       "    </tr>\n",
       "    <tr>\n",
       "      <th>14</th>\n",
       "      <td>49.0</td>\n",
       "      <td>1</td>\n",
       "      <td>80</td>\n",
       "      <td>0</td>\n",
       "      <td>30</td>\n",
       "      <td>1</td>\n",
       "      <td>427000.0</td>\n",
       "      <td>1.0</td>\n",
       "      <td>138</td>\n",
       "      <td>0</td>\n",
       "      <td>0</td>\n",
       "      <td>0</td>\n",
       "    </tr>\n",
       "  </tbody>\n",
       "</table>\n",
       "</div>"
      ],
      "text/plain": [
       "     age  anaemia  creatinine_phosphokinase  diabetes  ejection_fraction  \\\n",
       "10  75.0        1                        81         0                 38   \n",
       "11  62.0        0                       231         0                 25   \n",
       "12  45.0        1                       981         0                 30   \n",
       "13  50.0        1                       168         0                 38   \n",
       "14  49.0        1                        80         0                 30   \n",
       "\n",
       "    high_blood_pressure  platelets  serum_creatinine  serum_sodium  sex  \\\n",
       "10                    1   368000.0               4.0           131    1   \n",
       "11                    1   253000.0               0.9           140    1   \n",
       "12                    0   136000.0               1.1           137    1   \n",
       "13                    1   276000.0               1.1           137    1   \n",
       "14                    1   427000.0               1.0           138    0   \n",
       "\n",
       "    smoking  DEATH_EVENT  \n",
       "10        1            1  \n",
       "11        1            1  \n",
       "12        0            1  \n",
       "13        0            1  \n",
       "14        0            0  "
      ]
     },
     "execution_count": 41,
     "metadata": {},
     "output_type": "execute_result"
    }
   ],
   "source": [
    "df8.head()"
   ]
  },
  {
   "cell_type": "code",
   "execution_count": 42,
   "metadata": {},
   "outputs": [
    {
     "data": {
      "text/html": [
       "<div>\n",
       "<style scoped>\n",
       "    .dataframe tbody tr th:only-of-type {\n",
       "        vertical-align: middle;\n",
       "    }\n",
       "\n",
       "    .dataframe tbody tr th {\n",
       "        vertical-align: top;\n",
       "    }\n",
       "\n",
       "    .dataframe thead th {\n",
       "        text-align: right;\n",
       "    }\n",
       "</style>\n",
       "<table border=\"1\" class=\"dataframe\">\n",
       "  <thead>\n",
       "    <tr style=\"text-align: right;\">\n",
       "      <th></th>\n",
       "      <th>age</th>\n",
       "      <th>anaemia</th>\n",
       "      <th>creatinine_phosphokinase</th>\n",
       "      <th>diabetes</th>\n",
       "      <th>ejection_fraction</th>\n",
       "      <th>high_blood_pressure</th>\n",
       "      <th>platelets</th>\n",
       "      <th>serum_creatinine</th>\n",
       "      <th>serum_sodium</th>\n",
       "      <th>sex</th>\n",
       "      <th>smoking</th>\n",
       "    </tr>\n",
       "  </thead>\n",
       "  <tbody>\n",
       "    <tr>\n",
       "      <th>10</th>\n",
       "      <td>75.0</td>\n",
       "      <td>1</td>\n",
       "      <td>81</td>\n",
       "      <td>0</td>\n",
       "      <td>38</td>\n",
       "      <td>1</td>\n",
       "      <td>368000.0</td>\n",
       "      <td>4.0</td>\n",
       "      <td>131</td>\n",
       "      <td>1</td>\n",
       "      <td>1</td>\n",
       "    </tr>\n",
       "    <tr>\n",
       "      <th>11</th>\n",
       "      <td>62.0</td>\n",
       "      <td>0</td>\n",
       "      <td>231</td>\n",
       "      <td>0</td>\n",
       "      <td>25</td>\n",
       "      <td>1</td>\n",
       "      <td>253000.0</td>\n",
       "      <td>0.9</td>\n",
       "      <td>140</td>\n",
       "      <td>1</td>\n",
       "      <td>1</td>\n",
       "    </tr>\n",
       "    <tr>\n",
       "      <th>12</th>\n",
       "      <td>45.0</td>\n",
       "      <td>1</td>\n",
       "      <td>981</td>\n",
       "      <td>0</td>\n",
       "      <td>30</td>\n",
       "      <td>0</td>\n",
       "      <td>136000.0</td>\n",
       "      <td>1.1</td>\n",
       "      <td>137</td>\n",
       "      <td>1</td>\n",
       "      <td>0</td>\n",
       "    </tr>\n",
       "    <tr>\n",
       "      <th>13</th>\n",
       "      <td>50.0</td>\n",
       "      <td>1</td>\n",
       "      <td>168</td>\n",
       "      <td>0</td>\n",
       "      <td>38</td>\n",
       "      <td>1</td>\n",
       "      <td>276000.0</td>\n",
       "      <td>1.1</td>\n",
       "      <td>137</td>\n",
       "      <td>1</td>\n",
       "      <td>0</td>\n",
       "    </tr>\n",
       "    <tr>\n",
       "      <th>14</th>\n",
       "      <td>49.0</td>\n",
       "      <td>1</td>\n",
       "      <td>80</td>\n",
       "      <td>0</td>\n",
       "      <td>30</td>\n",
       "      <td>1</td>\n",
       "      <td>427000.0</td>\n",
       "      <td>1.0</td>\n",
       "      <td>138</td>\n",
       "      <td>0</td>\n",
       "      <td>0</td>\n",
       "    </tr>\n",
       "  </tbody>\n",
       "</table>\n",
       "</div>"
      ],
      "text/plain": [
       "     age  anaemia  creatinine_phosphokinase  diabetes  ejection_fraction  \\\n",
       "10  75.0        1                        81         0                 38   \n",
       "11  62.0        0                       231         0                 25   \n",
       "12  45.0        1                       981         0                 30   \n",
       "13  50.0        1                       168         0                 38   \n",
       "14  49.0        1                        80         0                 30   \n",
       "\n",
       "    high_blood_pressure  platelets  serum_creatinine  serum_sodium  sex  \\\n",
       "10                    1   368000.0               4.0           131    1   \n",
       "11                    1   253000.0               0.9           140    1   \n",
       "12                    0   136000.0               1.1           137    1   \n",
       "13                    1   276000.0               1.1           137    1   \n",
       "14                    1   427000.0               1.0           138    0   \n",
       "\n",
       "    smoking  \n",
       "10        1  \n",
       "11        1  \n",
       "12        0  \n",
       "13        0  \n",
       "14        0  "
      ]
     },
     "execution_count": 42,
     "metadata": {},
     "output_type": "execute_result"
    }
   ],
   "source": [
    "X=df8.drop('DEATH_EVENT',axis='columns')\n",
    "X.head()"
   ]
  },
  {
   "cell_type": "code",
   "execution_count": 43,
   "metadata": {},
   "outputs": [
    {
     "data": {
      "text/plain": [
       "10    1\n",
       "11    1\n",
       "12    1\n",
       "13    1\n",
       "14    0\n",
       "Name: DEATH_EVENT, dtype: int64"
      ]
     },
     "execution_count": 43,
     "metadata": {},
     "output_type": "execute_result"
    }
   ],
   "source": [
    "y=df8.DEATH_EVENT\n",
    "y.head()"
   ]
  },
  {
   "cell_type": "code",
   "execution_count": 44,
   "metadata": {},
   "outputs": [],
   "source": [
    "from sklearn.model_selection import train_test_split\n",
    "X_train,X_test,y_train,y_test=train_test_split(X,y,test_size=0.2,random_state=10)"
   ]
  },
  {
   "cell_type": "code",
   "execution_count": 45,
   "metadata": {},
   "outputs": [
    {
     "data": {
      "text/plain": [
       "181"
      ]
     },
     "execution_count": 45,
     "metadata": {},
     "output_type": "execute_result"
    }
   ],
   "source": [
    "len(X_train)"
   ]
  },
  {
   "cell_type": "code",
   "execution_count": 46,
   "metadata": {},
   "outputs": [
    {
     "data": {
      "text/plain": [
       "46"
      ]
     },
     "execution_count": 46,
     "metadata": {},
     "output_type": "execute_result"
    }
   ],
   "source": [
    "len(X_test)"
   ]
  },
  {
   "cell_type": "code",
   "execution_count": 47,
   "metadata": {},
   "outputs": [],
   "source": [
    "#using gridsearchcv to determine the best algorithm to train my model\n",
    "from sklearn.linear_model import Lasso\n",
    "from sklearn.linear_model import LinearRegression\n",
    "from sklearn.linear_model import LogisticRegression\n",
    "from sklearn.tree import DecisionTreeRegressor\n",
    "from sklearn.svm import SVC\n",
    "from sklearn.ensemble import RandomForestClassifier\n",
    "from sklearn.naive_bayes import GaussianNB\n",
    "\n",
    "from sklearn.model_selection import cross_val_score\n",
    "from sklearn.model_selection import GridSearchCV\n",
    "from sklearn.model_selection import ShuffleSplit"
   ]
  },
  {
   "cell_type": "code",
   "execution_count": 48,
   "metadata": {},
   "outputs": [],
   "source": [
    "cv=ShuffleSplit(n_splits=5,test_size=0.2,random_state=0)\n",
    "def find_best_model_using_gridsearchcv(X,y):\n",
    "    models={\n",
    "        'linear_regression':{\n",
    "            'model':LinearRegression(),\n",
    "            'params':{\n",
    "                'normalize':[True,False]\n",
    "            }\n",
    "        },\n",
    "        'lasso':{\n",
    "            'model':Lasso(),\n",
    "            'params':{\n",
    "                'alpha':[1,2],\n",
    "                'selection':['random','cyclic']\n",
    "            }\n",
    "        },\n",
    "        'decision_tree':{\n",
    "            'model':DecisionTreeRegressor(),\n",
    "            'params':{\n",
    "                'criterion':['mse','friedman_mse'],\n",
    "                'splitter':['best','random']\n",
    "            }\n",
    "        },\n",
    "        'svm':{\n",
    "            'model':SVC(),\n",
    "            'params':{\n",
    "                'C':[1,2,3],\n",
    "                'kernel':['linear','rbf']\n",
    "            }\n",
    "        },\n",
    "        'random_forest':{\n",
    "            'model':RandomForestClassifier(),\n",
    "            'params':{\n",
    "                \n",
    "            }\n",
    "        },\n",
    "        'logistic_regression':{\n",
    "            'model':LogisticRegression(),\n",
    "            'params':{}\n",
    "        }\n",
    "    }\n",
    "#this is what we call hyper parameter tunning\n",
    "\n",
    "    my_scores=[]\n",
    "    cv=ShuffleSplit(n_splits=5,test_size=0.2,random_state=0)\n",
    "    for model_name,config in models.items():\n",
    "        gs=GridSearchCV(config['model'],config['params'],cv=cv,return_train_score=False)\n",
    "        gs.fit(X,y)\n",
    "        my_scores.append({\n",
    "            'model':model_name,\n",
    "            'best_score':gs.best_score_,\n",
    "            'best_params':gs.best_params_\n",
    "        })\n",
    "    return pd.DataFrame(my_scores,columns=['model','best_score','best_params'])\n"
   ]
  },
  {
   "cell_type": "code",
   "execution_count": 49,
   "metadata": {},
   "outputs": [
    {
     "name": "stderr",
     "output_type": "stream",
     "text": [
      "C:\\Users\\sojore\\anaconda3\\lib\\site-packages\\sklearn\\linear_model\\_logistic.py:762: ConvergenceWarning: lbfgs failed to converge (status=1):\n",
      "STOP: TOTAL NO. of ITERATIONS REACHED LIMIT.\n",
      "\n",
      "Increase the number of iterations (max_iter) or scale the data as shown in:\n",
      "    https://scikit-learn.org/stable/modules/preprocessing.html\n",
      "Please also refer to the documentation for alternative solver options:\n",
      "    https://scikit-learn.org/stable/modules/linear_model.html#logistic-regression\n",
      "  n_iter_i = _check_optimize_result(\n"
     ]
    },
    {
     "data": {
      "text/html": [
       "<div>\n",
       "<style scoped>\n",
       "    .dataframe tbody tr th:only-of-type {\n",
       "        vertical-align: middle;\n",
       "    }\n",
       "\n",
       "    .dataframe tbody tr th {\n",
       "        vertical-align: top;\n",
       "    }\n",
       "\n",
       "    .dataframe thead th {\n",
       "        text-align: right;\n",
       "    }\n",
       "</style>\n",
       "<table border=\"1\" class=\"dataframe\">\n",
       "  <thead>\n",
       "    <tr style=\"text-align: right;\">\n",
       "      <th></th>\n",
       "      <th>model</th>\n",
       "      <th>best_score</th>\n",
       "      <th>best_params</th>\n",
       "    </tr>\n",
       "  </thead>\n",
       "  <tbody>\n",
       "    <tr>\n",
       "      <th>0</th>\n",
       "      <td>linear_regression</td>\n",
       "      <td>0.069670</td>\n",
       "      <td>{'normalize': True}</td>\n",
       "    </tr>\n",
       "    <tr>\n",
       "      <th>1</th>\n",
       "      <td>lasso</td>\n",
       "      <td>-0.035525</td>\n",
       "      <td>{'alpha': 1, 'selection': 'cyclic'}</td>\n",
       "    </tr>\n",
       "    <tr>\n",
       "      <th>2</th>\n",
       "      <td>decision_tree</td>\n",
       "      <td>-0.565392</td>\n",
       "      <td>{'criterion': 'mse', 'splitter': 'best'}</td>\n",
       "    </tr>\n",
       "    <tr>\n",
       "      <th>3</th>\n",
       "      <td>svm</td>\n",
       "      <td>0.756757</td>\n",
       "      <td>{'C': 1, 'kernel': 'linear'}</td>\n",
       "    </tr>\n",
       "    <tr>\n",
       "      <th>4</th>\n",
       "      <td>random_forest</td>\n",
       "      <td>0.713514</td>\n",
       "      <td>{}</td>\n",
       "    </tr>\n",
       "    <tr>\n",
       "      <th>5</th>\n",
       "      <td>logistic_regression</td>\n",
       "      <td>0.805405</td>\n",
       "      <td>{}</td>\n",
       "    </tr>\n",
       "  </tbody>\n",
       "</table>\n",
       "</div>"
      ],
      "text/plain": [
       "                 model  best_score                               best_params\n",
       "0    linear_regression    0.069670                       {'normalize': True}\n",
       "1                lasso   -0.035525       {'alpha': 1, 'selection': 'cyclic'}\n",
       "2        decision_tree   -0.565392  {'criterion': 'mse', 'splitter': 'best'}\n",
       "3                  svm    0.756757              {'C': 1, 'kernel': 'linear'}\n",
       "4        random_forest    0.713514                                        {}\n",
       "5  logistic_regression    0.805405                                        {}"
      ]
     },
     "execution_count": 49,
     "metadata": {},
     "output_type": "execute_result"
    }
   ],
   "source": [
    "find_best_model_using_gridsearchcv(X_train,y_train)"
   ]
  },
  {
   "cell_type": "code",
   "execution_count": 50,
   "metadata": {},
   "outputs": [
    {
     "data": {
      "text/plain": [
       "LinearRegression()"
      ]
     },
     "execution_count": 50,
     "metadata": {},
     "output_type": "execute_result"
    }
   ],
   "source": [
    "#from the above its clear that logistic_regression is the algorithm to go with\n",
    "model1=LinearRegression()\n",
    "model1.fit(X_train,y_train)"
   ]
  },
  {
   "cell_type": "code",
   "execution_count": 51,
   "metadata": {},
   "outputs": [
    {
     "data": {
      "text/plain": [
       "array([ 0.4508146 ,  0.34337408,  0.21124427,  0.6188548 ,  0.17661234,\n",
       "        0.25494182, -0.10073305,  0.17666058,  0.29253705, -0.05580819])"
      ]
     },
     "execution_count": 51,
     "metadata": {},
     "output_type": "execute_result"
    }
   ],
   "source": [
    "y_predicted=model1.predict(X_test)\n",
    "y_predicted[:10]"
   ]
  },
  {
   "cell_type": "code",
   "execution_count": 62,
   "metadata": {},
   "outputs": [
    {
     "data": {
      "text/plain": [
       "121    0\n",
       "42     1\n",
       "108    0\n",
       "98     0\n",
       "111    0\n",
       "196    0\n",
       "259    0\n",
       "90     0\n",
       "99     0\n",
       "284    0\n",
       "Name: DEATH_EVENT, dtype: int64"
      ]
     },
     "execution_count": 62,
     "metadata": {},
     "output_type": "execute_result"
    }
   ],
   "source": [
    "y_test[:10]"
   ]
  },
  {
   "cell_type": "code",
   "execution_count": 52,
   "metadata": {},
   "outputs": [],
   "source": [
    "##import important libraries\n",
    "import tensorflow as tf\n",
    "from tensorflow.keras import layers\n",
    "from tensorflow import keras\n",
    "from tensorflow.keras.models import Sequential"
   ]
  },
  {
   "cell_type": "code",
   "execution_count": 53,
   "metadata": {},
   "outputs": [
    {
     "data": {
      "text/plain": [
       "(181, 11)"
      ]
     },
     "execution_count": 53,
     "metadata": {},
     "output_type": "execute_result"
    }
   ],
   "source": [
    "X_train.shape"
   ]
  },
  {
   "cell_type": "code",
   "execution_count": 54,
   "metadata": {},
   "outputs": [
    {
     "data": {
      "text/plain": [
       "(46, 11)"
      ]
     },
     "execution_count": 54,
     "metadata": {},
     "output_type": "execute_result"
    }
   ],
   "source": [
    "X_test.shape"
   ]
  },
  {
   "cell_type": "markdown",
   "metadata": {},
   "source": [
    "Using Artificial NEural NEtwork to create my model"
   ]
  },
  {
   "cell_type": "code",
   "execution_count": 55,
   "metadata": {},
   "outputs": [
    {
     "name": "stdout",
     "output_type": "stream",
     "text": [
      "Epoch 1/100\n",
      "23/23 [==============================] - 7s 10ms/step - loss: 14379.8955 - accuracy: 0.7127\n",
      "Epoch 2/100\n",
      "23/23 [==============================] - 0s 5ms/step - loss: 4190.4395 - accuracy: 0.7072\n",
      "Epoch 3/100\n",
      "23/23 [==============================] - 0s 9ms/step - loss: 731.6199 - accuracy: 0.4751\n",
      "Epoch 4/100\n",
      "23/23 [==============================] - 0s 7ms/step - loss: 71.9507 - accuracy: 0.6298\n",
      "Epoch 5/100\n",
      "23/23 [==============================] - 0s 6ms/step - loss: 225.0449 - accuracy: 0.5746\n",
      "Epoch 6/100\n",
      "23/23 [==============================] - 0s 4ms/step - loss: 79.4950 - accuracy: 0.6188\n",
      "Epoch 7/100\n",
      "23/23 [==============================] - 0s 6ms/step - loss: 87.5092 - accuracy: 0.6022\n",
      "Epoch 8/100\n",
      "23/23 [==============================] - 0s 7ms/step - loss: 113.5903 - accuracy: 0.6243\n",
      "Epoch 9/100\n",
      "23/23 [==============================] - 0s 5ms/step - loss: 104.4117 - accuracy: 0.5912\n",
      "Epoch 10/100\n",
      "23/23 [==============================] - 0s 7ms/step - loss: 107.4649 - accuracy: 0.6354\n",
      "Epoch 11/100\n",
      "23/23 [==============================] - 0s 6ms/step - loss: 74.9088 - accuracy: 0.6243\n",
      "Epoch 12/100\n",
      "23/23 [==============================] - 0s 10ms/step - loss: 61.7452 - accuracy: 0.5580\n",
      "Epoch 13/100\n",
      "23/23 [==============================] - 0s 6ms/step - loss: 146.3908 - accuracy: 0.5856\n",
      "Epoch 14/100\n",
      "23/23 [==============================] - 0s 11ms/step - loss: 134.7012 - accuracy: 0.5691\n",
      "Epoch 15/100\n",
      "23/23 [==============================] - 0s 11ms/step - loss: 168.1440 - accuracy: 0.5691\n",
      "Epoch 16/100\n",
      "23/23 [==============================] - 0s 9ms/step - loss: 208.1157 - accuracy: 0.5691\n",
      "Epoch 17/100\n",
      "23/23 [==============================] - 0s 6ms/step - loss: 85.5040 - accuracy: 0.6354\n",
      "Epoch 18/100\n",
      "23/23 [==============================] - 0s 5ms/step - loss: 151.1876 - accuracy: 0.5359\n",
      "Epoch 19/100\n",
      "23/23 [==============================] - 0s 7ms/step - loss: 53.9398 - accuracy: 0.6575\n",
      "Epoch 20/100\n",
      "23/23 [==============================] - 0s 6ms/step - loss: 171.3211 - accuracy: 0.5580\n",
      "Epoch 21/100\n",
      "23/23 [==============================] - 0s 6ms/step - loss: 129.7993 - accuracy: 0.6464\n",
      "Epoch 22/100\n",
      "23/23 [==============================] - 0s 6ms/step - loss: 56.1168 - accuracy: 0.6133\n",
      "Epoch 23/100\n",
      "23/23 [==============================] - 0s 5ms/step - loss: 54.9241 - accuracy: 0.5635\n",
      "Epoch 24/100\n",
      "23/23 [==============================] - 0s 8ms/step - loss: 123.5011 - accuracy: 0.5801\n",
      "Epoch 25/100\n",
      "23/23 [==============================] - 0s 5ms/step - loss: 48.2734 - accuracy: 0.6243\n",
      "Epoch 26/100\n",
      "23/23 [==============================] - ETA: 0s - loss: 70.3392 - accuracy: 0.535 - 0s 6ms/step - loss: 65.6856 - accuracy: 0.5635\n",
      "Epoch 27/100\n",
      "23/23 [==============================] - 0s 9ms/step - loss: 90.7435 - accuracy: 0.5635\n",
      "Epoch 28/100\n",
      "23/23 [==============================] - 0s 7ms/step - loss: 144.3179 - accuracy: 0.6133\n",
      "Epoch 29/100\n",
      "23/23 [==============================] - 0s 8ms/step - loss: 206.1380 - accuracy: 0.5249\n",
      "Epoch 30/100\n",
      "23/23 [==============================] - 0s 14ms/step - loss: 44.4646 - accuracy: 0.6188\n",
      "Epoch 31/100\n",
      "23/23 [==============================] - 0s 13ms/step - loss: 51.1930 - accuracy: 0.6188\n",
      "Epoch 32/100\n",
      "23/23 [==============================] - 0s 7ms/step - loss: 72.4647 - accuracy: 0.6409\n",
      "Epoch 33/100\n",
      "23/23 [==============================] - 0s 10ms/step - loss: 160.0285 - accuracy: 0.6077\n",
      "Epoch 34/100\n",
      "23/23 [==============================] - 0s 6ms/step - loss: 222.4175 - accuracy: 0.5912\n",
      "Epoch 35/100\n",
      "23/23 [==============================] - 0s 4ms/step - loss: 57.2692 - accuracy: 0.5967\n",
      "Epoch 36/100\n",
      "23/23 [==============================] - 0s 10ms/step - loss: 92.6344 - accuracy: 0.5746\n",
      "Epoch 37/100\n",
      "23/23 [==============================] - 0s 7ms/step - loss: 178.7768 - accuracy: 0.6077\n",
      "Epoch 38/100\n",
      "23/23 [==============================] - 0s 12ms/step - loss: 91.7144 - accuracy: 0.6575: 0s - loss: 111.8023 - accuracy: 0.6\n",
      "Epoch 39/100\n",
      "23/23 [==============================] - 0s 11ms/step - loss: 65.2277 - accuracy: 0.5801\n",
      "Epoch 40/100\n",
      "23/23 [==============================] - 0s 7ms/step - loss: 52.2179 - accuracy: 0.5746\n",
      "Epoch 41/100\n",
      "23/23 [==============================] - 0s 15ms/step - loss: 68.9670 - accuracy: 0.6022\n",
      "Epoch 42/100\n",
      "23/23 [==============================] - 0s 16ms/step - loss: 128.9368 - accuracy: 0.6298\n",
      "Epoch 43/100\n",
      "23/23 [==============================] - 0s 5ms/step - loss: 70.6987 - accuracy: 0.5801\n",
      "Epoch 44/100\n",
      "23/23 [==============================] - 0s 8ms/step - loss: 130.8145 - accuracy: 0.5470\n",
      "Epoch 45/100\n",
      "23/23 [==============================] - 0s 7ms/step - loss: 88.2719 - accuracy: 0.6243\n",
      "Epoch 46/100\n",
      "23/23 [==============================] - 0s 12ms/step - loss: 58.3569 - accuracy: 0.5580\n",
      "Epoch 47/100\n",
      "23/23 [==============================] - 0s 10ms/step - loss: 51.0502 - accuracy: 0.5912: 0s - loss: 49.6349 - accuracy: 0.60\n",
      "Epoch 48/100\n",
      "23/23 [==============================] - 0s 9ms/step - loss: 50.1019 - accuracy: 0.6077\n",
      "Epoch 49/100\n",
      "23/23 [==============================] - 0s 13ms/step - loss: 25.0006 - accuracy: 0.6409\n",
      "Epoch 50/100\n",
      "23/23 [==============================] - 0s 6ms/step - loss: 66.2035 - accuracy: 0.5967\n",
      "Epoch 51/100\n",
      "23/23 [==============================] - 0s 14ms/step - loss: 126.2810 - accuracy: 0.5801\n",
      "Epoch 52/100\n",
      "23/23 [==============================] - 0s 5ms/step - loss: 134.7626 - accuracy: 0.5746\n",
      "Epoch 53/100\n",
      "23/23 [==============================] - 0s 6ms/step - loss: 161.0141 - accuracy: 0.6188\n",
      "Epoch 54/100\n",
      "23/23 [==============================] - 0s 6ms/step - loss: 170.7030 - accuracy: 0.5304\n",
      "Epoch 55/100\n",
      "23/23 [==============================] - 0s 3ms/step - loss: 78.1209 - accuracy: 0.5691\n",
      "Epoch 56/100\n",
      "23/23 [==============================] - 0s 16ms/step - loss: 153.0907 - accuracy: 0.5635\n",
      "Epoch 57/100\n",
      "23/23 [==============================] - 0s 5ms/step - loss: 276.3494 - accuracy: 0.5580\n",
      "Epoch 58/100\n",
      "23/23 [==============================] - 0s 5ms/step - loss: 153.7035 - accuracy: 0.6133\n",
      "Epoch 59/100\n",
      "23/23 [==============================] - 0s 6ms/step - loss: 64.3111 - accuracy: 0.5635\n",
      "Epoch 60/100\n",
      "23/23 [==============================] - 0s 4ms/step - loss: 100.1574 - accuracy: 0.6133\n",
      "Epoch 61/100\n",
      "23/23 [==============================] - 0s 6ms/step - loss: 81.3228 - accuracy: 0.6298\n",
      "Epoch 62/100\n",
      "23/23 [==============================] - 0s 5ms/step - loss: 138.8825 - accuracy: 0.6022\n",
      "Epoch 63/100\n",
      "23/23 [==============================] - 0s 6ms/step - loss: 225.5300 - accuracy: 0.5746\n",
      "Epoch 64/100\n",
      "23/23 [==============================] - 0s 4ms/step - loss: 85.4290 - accuracy: 0.5746\n",
      "Epoch 65/100\n",
      "23/23 [==============================] - 0s 9ms/step - loss: 60.2627 - accuracy: 0.5801\n",
      "Epoch 66/100\n",
      "23/23 [==============================] - 0s 5ms/step - loss: 45.9614 - accuracy: 0.6243\n",
      "Epoch 67/100\n",
      "23/23 [==============================] - 0s 6ms/step - loss: 69.2254 - accuracy: 0.6022\n",
      "Epoch 68/100\n",
      "23/23 [==============================] - 0s 6ms/step - loss: 79.4916 - accuracy: 0.5414\n",
      "Epoch 69/100\n",
      "23/23 [==============================] - 0s 6ms/step - loss: 39.2331 - accuracy: 0.5967\n",
      "Epoch 70/100\n",
      "23/23 [==============================] - 0s 4ms/step - loss: 78.6034 - accuracy: 0.5912\n",
      "Epoch 71/100\n",
      "23/23 [==============================] - 0s 3ms/step - loss: 85.5774 - accuracy: 0.5912\n",
      "Epoch 72/100\n",
      "23/23 [==============================] - 0s 5ms/step - loss: 258.9519 - accuracy: 0.6575\n",
      "Epoch 73/100\n",
      "23/23 [==============================] - 0s 9ms/step - loss: 161.9420 - accuracy: 0.5912\n",
      "Epoch 74/100\n",
      "23/23 [==============================] - 0s 4ms/step - loss: 83.0879 - accuracy: 0.5856\n",
      "Epoch 75/100\n",
      "23/23 [==============================] - 0s 5ms/step - loss: 96.6546 - accuracy: 0.5912\n",
      "Epoch 76/100\n",
      "23/23 [==============================] - 0s 5ms/step - loss: 161.5571 - accuracy: 0.5856\n",
      "Epoch 77/100\n",
      "23/23 [==============================] - 0s 5ms/step - loss: 72.4293 - accuracy: 0.5967\n",
      "Epoch 78/100\n",
      "23/23 [==============================] - 0s 7ms/step - loss: 67.5876 - accuracy: 0.6188A: 0s - loss: 133.0425 - accuracy: 0.\n",
      "Epoch 79/100\n",
      "23/23 [==============================] - 0s 6ms/step - loss: 67.2151 - accuracy: 0.6519\n",
      "Epoch 80/100\n"
     ]
    },
    {
     "name": "stdout",
     "output_type": "stream",
     "text": [
      "23/23 [==============================] - 0s 4ms/step - loss: 68.6472 - accuracy: 0.6077\n",
      "Epoch 81/100\n",
      "23/23 [==============================] - 0s 7ms/step - loss: 77.9619 - accuracy: 0.6298\n",
      "Epoch 82/100\n",
      "23/23 [==============================] - 0s 5ms/step - loss: 42.4873 - accuracy: 0.5746\n",
      "Epoch 83/100\n",
      "23/23 [==============================] - 0s 10ms/step - loss: 78.8643 - accuracy: 0.6133\n",
      "Epoch 84/100\n",
      "23/23 [==============================] - 0s 6ms/step - loss: 112.5662 - accuracy: 0.5967\n",
      "Epoch 85/100\n",
      "23/23 [==============================] - 0s 7ms/step - loss: 65.0229 - accuracy: 0.5525\n",
      "Epoch 86/100\n",
      "23/23 [==============================] - 0s 10ms/step - loss: 281.7363 - accuracy: 0.5470\n",
      "Epoch 87/100\n",
      "23/23 [==============================] - 0s 6ms/step - loss: 186.6704 - accuracy: 0.5801\n",
      "Epoch 88/100\n",
      "23/23 [==============================] - 0s 4ms/step - loss: 199.3308 - accuracy: 0.5691\n",
      "Epoch 89/100\n",
      "23/23 [==============================] - 0s 6ms/step - loss: 272.5481 - accuracy: 0.5414\n",
      "Epoch 90/100\n",
      "23/23 [==============================] - 0s 7ms/step - loss: 144.7277 - accuracy: 0.5525: 0s - loss: 149.1386 - accuracy: 0.55\n",
      "Epoch 91/100\n",
      "23/23 [==============================] - 0s 5ms/step - loss: 59.4497 - accuracy: 0.5801\n",
      "Epoch 92/100\n",
      "23/23 [==============================] - 0s 6ms/step - loss: 103.9256 - accuracy: 0.5801\n",
      "Epoch 93/100\n",
      "23/23 [==============================] - 0s 4ms/step - loss: 70.4957 - accuracy: 0.6409\n",
      "Epoch 94/100\n",
      "23/23 [==============================] - 0s 6ms/step - loss: 75.7968 - accuracy: 0.6298\n",
      "Epoch 95/100\n",
      "23/23 [==============================] - ETA: 0s - loss: 111.4754 - accuracy: 0.51 - 0s 8ms/step - loss: 106.8033 - accuracy: 0.5138\n",
      "Epoch 96/100\n",
      "23/23 [==============================] - 0s 5ms/step - loss: 130.7339 - accuracy: 0.6519\n",
      "Epoch 97/100\n",
      "23/23 [==============================] - 0s 8ms/step - loss: 81.7651 - accuracy: 0.6354\n",
      "Epoch 98/100\n",
      "23/23 [==============================] - 0s 5ms/step - loss: 114.0638 - accuracy: 0.5856\n",
      "Epoch 99/100\n",
      "23/23 [==============================] - 0s 9ms/step - loss: 86.5620 - accuracy: 0.6354\n",
      "Epoch 100/100\n",
      "23/23 [==============================] - 0s 6ms/step - loss: 87.6162 - accuracy: 0.5746\n"
     ]
    },
    {
     "data": {
      "text/plain": [
       "<tensorflow.python.keras.callbacks.History at 0x1d81bb1db50>"
      ]
     },
     "execution_count": 55,
     "metadata": {},
     "output_type": "execute_result"
    }
   ],
   "source": [
    "##using artificial neural network to do e above tasks\n",
    "model=keras.Sequential([\n",
    "    keras.layers.Dense(11,input_dim=11,activation='relu'),\n",
    "    keras.layers.Dense(7,activation='relu'),\n",
    "    keras.layers.Dense(3,activation='relu'),\n",
    "    keras.layers.Dense(1,activation='sigmoid')\n",
    "])\n",
    "model.compile(\n",
    "    loss='binary_crossentropy',\n",
    "    optimizer='adam',\n",
    "    metrics=['accuracy']\n",
    ")\n",
    "model.fit(X_train,y_train,epochs=100,batch_size=8)"
   ]
  },
  {
   "cell_type": "code",
   "execution_count": 56,
   "metadata": {},
   "outputs": [
    {
     "name": "stdout",
     "output_type": "stream",
     "text": [
      "2/2 [==============================] - 130s 444ms/step - loss: 19.4553 - accuracy: 0.7609\n"
     ]
    },
    {
     "data": {
      "text/plain": [
       "[19.455293655395508, 0.760869562625885]"
      ]
     },
     "execution_count": 56,
     "metadata": {},
     "output_type": "execute_result"
    }
   ],
   "source": [
    "##my model is doing fairly good on the train dataset\n",
    "#we now gonna test our model on the test dataset\n",
    "model.evaluate(X_test,y_test)"
   ]
  },
  {
   "cell_type": "code",
   "execution_count": 57,
   "metadata": {},
   "outputs": [
    {
     "name": "stdout",
     "output_type": "stream",
     "text": [
      "[1.05049685e-22 4.34573001e-35 0.00000000e+00 1.04923902e-30\n",
      " 5.91405126e-25 2.45611949e-37 2.26981617e-29 2.47425337e-27\n",
      " 1.32476789e-25 9.57643146e-28]\n",
      "[0. 0. 0. 0. 0. 0. 0. 0. 0. 0.]\n"
     ]
    }
   ],
   "source": [
    "y_pred=model.predict(X_test).reshape(-1)\n",
    "print(y_pred[:10])\n",
    "\n",
    "y_pred=np.round(y_pred)\n",
    "print(y_pred[:10])"
   ]
  },
  {
   "cell_type": "code",
   "execution_count": 58,
   "metadata": {},
   "outputs": [
    {
     "data": {
      "text/plain": [
       "121    0\n",
       "42     1\n",
       "108    0\n",
       "98     0\n",
       "111    0\n",
       "196    0\n",
       "259    0\n",
       "90     0\n",
       "99     0\n",
       "284    0\n",
       "Name: DEATH_EVENT, dtype: int64"
      ]
     },
     "execution_count": 58,
     "metadata": {},
     "output_type": "execute_result"
    }
   ],
   "source": [
    "y_test[:10]"
   ]
  },
  {
   "cell_type": "code",
   "execution_count": 59,
   "metadata": {},
   "outputs": [
    {
     "name": "stdout",
     "output_type": "stream",
     "text": [
      "              precision    recall  f1-score   support\n",
      "\n",
      "           0       0.76      1.00      0.86        35\n",
      "           1       0.00      0.00      0.00        11\n",
      "\n",
      "    accuracy                           0.76        46\n",
      "   macro avg       0.38      0.50      0.43        46\n",
      "weighted avg       0.58      0.76      0.66        46\n",
      "\n"
     ]
    },
    {
     "name": "stderr",
     "output_type": "stream",
     "text": [
      "C:\\Users\\sojore\\anaconda3\\lib\\site-packages\\sklearn\\metrics\\_classification.py:1221: UndefinedMetricWarning: Precision and F-score are ill-defined and being set to 0.0 in labels with no predicted samples. Use `zero_division` parameter to control this behavior.\n",
      "  _warn_prf(average, modifier, msg_start, len(result))\n"
     ]
    }
   ],
   "source": [
    "##now we print the classification report\n",
    "from sklearn.metrics import confusion_matrix,classification_report\n",
    "print(classification_report(y_test,y_pred))"
   ]
  },
  {
   "cell_type": "code",
   "execution_count": null,
   "metadata": {},
   "outputs": [],
   "source": [
    "###using dropout layers to try improve the performance of our ANN model"
   ]
  },
  {
   "cell_type": "code",
   "execution_count": 60,
   "metadata": {},
   "outputs": [
    {
     "name": "stdout",
     "output_type": "stream",
     "text": [
      "Epoch 1/100\n",
      "23/23 [==============================] - 15s 9ms/step - loss: 23438.2949 - accuracy: 0.6906\n",
      "Epoch 2/100\n",
      "23/23 [==============================] - 0s 4ms/step - loss: 20748.0820 - accuracy: 0.6298\n",
      "Epoch 3/100\n",
      "23/23 [==============================] - 0s 7ms/step - loss: 14599.6309 - accuracy: 0.7017\n",
      "Epoch 4/100\n",
      "23/23 [==============================] - 0s 4ms/step - loss: 17842.5176 - accuracy: 0.6298\n",
      "Epoch 5/100\n",
      "23/23 [==============================] - 0s 5ms/step - loss: 17960.3086 - accuracy: 0.6630\n",
      "Epoch 6/100\n",
      "23/23 [==============================] - 0s 5ms/step - loss: 12637.9971 - accuracy: 0.7072\n",
      "Epoch 7/100\n",
      "23/23 [==============================] - 0s 4ms/step - loss: 14065.3096 - accuracy: 0.6685\n",
      "Epoch 8/100\n",
      "23/23 [==============================] - 0s 4ms/step - loss: 11728.6543 - accuracy: 0.6188\n",
      "Epoch 9/100\n",
      "23/23 [==============================] - 0s 4ms/step - loss: 6378.2651 - accuracy: 0.6851\n",
      "Epoch 10/100\n",
      "23/23 [==============================] - 0s 11ms/step - loss: 9519.2041 - accuracy: 0.6022\n",
      "Epoch 11/100\n",
      "23/23 [==============================] - ETA: 0s - loss: 12308.3711 - accuracy: 0.65 - 0s 6ms/step - loss: 11332.5420 - accuracy: 0.6575\n",
      "Epoch 12/100\n",
      "23/23 [==============================] - 0s 5ms/step - loss: 9241.0010 - accuracy: 0.6354\n",
      "Epoch 13/100\n",
      "23/23 [==============================] - 0s 7ms/step - loss: 6141.9683 - accuracy: 0.6685\n",
      "Epoch 14/100\n",
      "23/23 [==============================] - 0s 7ms/step - loss: 4046.5051 - accuracy: 0.6464\n",
      "Epoch 15/100\n",
      "23/23 [==============================] - 0s 6ms/step - loss: 8818.8740 - accuracy: 0.5801 0s - loss: 9721.0156 - accuracy: 0.58\n",
      "Epoch 16/100\n",
      "23/23 [==============================] - 0s 5ms/step - loss: 4792.6519 - accuracy: 0.6851\n",
      "Epoch 17/100\n",
      "23/23 [==============================] - 0s 6ms/step - loss: 3357.3181 - accuracy: 0.6133\n",
      "Epoch 18/100\n",
      "23/23 [==============================] - ETA: 0s - loss: 4533.9775 - accuracy: 0.668 - 0s 6ms/step - loss: 4245.4336 - accuracy: 0.6796\n",
      "Epoch 19/100\n",
      "23/23 [==============================] - 0s 5ms/step - loss: 3407.6875 - accuracy: 0.6740\n",
      "Epoch 20/100\n",
      "23/23 [==============================] - 0s 8ms/step - loss: 4334.1812 - accuracy: 0.6630\n",
      "Epoch 21/100\n",
      "23/23 [==============================] - 0s 7ms/step - loss: 4067.5034 - accuracy: 0.6685\n",
      "Epoch 22/100\n",
      "23/23 [==============================] - 0s 4ms/step - loss: 3708.2256 - accuracy: 0.6133\n",
      "Epoch 23/100\n",
      "23/23 [==============================] - 0s 8ms/step - loss: 3151.6543 - accuracy: 0.6409\n",
      "Epoch 24/100\n",
      "23/23 [==============================] - 0s 5ms/step - loss: 3599.6226 - accuracy: 0.6519\n",
      "Epoch 25/100\n",
      "23/23 [==============================] - 0s 6ms/step - loss: 1637.7417 - accuracy: 0.6464\n",
      "Epoch 26/100\n",
      "23/23 [==============================] - 0s 6ms/step - loss: 2095.3677 - accuracy: 0.6575\n",
      "Epoch 27/100\n",
      "23/23 [==============================] - 0s 6ms/step - loss: 1539.3262 - accuracy: 0.6575\n",
      "Epoch 28/100\n",
      "23/23 [==============================] - 0s 6ms/step - loss: 1390.5563 - accuracy: 0.7017\n",
      "Epoch 29/100\n",
      "23/23 [==============================] - 0s 10ms/step - loss: 2419.8958 - accuracy: 0.6796\n",
      "Epoch 30/100\n",
      "23/23 [==============================] - 0s 7ms/step - loss: 2312.5847 - accuracy: 0.6630\n",
      "Epoch 31/100\n",
      "23/23 [==============================] - 0s 4ms/step - loss: 1893.8468 - accuracy: 0.6519\n",
      "Epoch 32/100\n",
      "23/23 [==============================] - 0s 7ms/step - loss: 2596.7981 - accuracy: 0.6685\n",
      "Epoch 33/100\n",
      "23/23 [==============================] - 0s 5ms/step - loss: 2083.2925 - accuracy: 0.6575\n",
      "Epoch 34/100\n",
      "23/23 [==============================] - 0s 6ms/step - loss: 2672.9961 - accuracy: 0.6685\n",
      "Epoch 35/100\n",
      "23/23 [==============================] - 0s 5ms/step - loss: 1889.7388 - accuracy: 0.6575\n",
      "Epoch 36/100\n",
      "23/23 [==============================] - 0s 5ms/step - loss: 1386.5028 - accuracy: 0.6685 0s - loss: 1646.5363 - accuracy: 0.60\n",
      "Epoch 37/100\n",
      "23/23 [==============================] - 0s 4ms/step - loss: 932.2928 - accuracy: 0.6630\n",
      "Epoch 38/100\n",
      "23/23 [==============================] - 0s 5ms/step - loss: 1058.9418 - accuracy: 0.6796\n",
      "Epoch 39/100\n",
      "23/23 [==============================] - 0s 5ms/step - loss: 963.8986 - accuracy: 0.6630\n",
      "Epoch 40/100\n",
      "23/23 [==============================] - 0s 8ms/step - loss: 1097.2092 - accuracy: 0.6740\n",
      "Epoch 41/100\n",
      "23/23 [==============================] - 0s 4ms/step - loss: 1057.5494 - accuracy: 0.6740\n",
      "Epoch 42/100\n",
      "23/23 [==============================] - 0s 8ms/step - loss: 938.0646 - accuracy: 0.6630\n",
      "Epoch 43/100\n",
      "23/23 [==============================] - 0s 11ms/step - loss: 797.0999 - accuracy: 0.6961\n",
      "Epoch 44/100\n",
      "23/23 [==============================] - 0s 10ms/step - loss: 660.8291 - accuracy: 0.6740\n",
      "Epoch 45/100\n",
      "23/23 [==============================] - 0s 10ms/step - loss: 829.5577 - accuracy: 0.6796\n",
      "Epoch 46/100\n",
      "23/23 [==============================] - 0s 10ms/step - loss: 1204.9862 - accuracy: 0.6575\n",
      "Epoch 47/100\n",
      "23/23 [==============================] - 0s 5ms/step - loss: 815.6823 - accuracy: 0.6851\n",
      "Epoch 48/100\n",
      "23/23 [==============================] - 0s 10ms/step - loss: 1242.5894 - accuracy: 0.6464\n",
      "Epoch 49/100\n",
      "23/23 [==============================] - 0s 6ms/step - loss: 1224.8018 - accuracy: 0.6851\n",
      "Epoch 50/100\n",
      "23/23 [==============================] - 0s 6ms/step - loss: 565.5767 - accuracy: 0.7017\n",
      "Epoch 51/100\n",
      "23/23 [==============================] - 0s 7ms/step - loss: 554.3077 - accuracy: 0.6575\n",
      "Epoch 52/100\n",
      "23/23 [==============================] - 0s 6ms/step - loss: 646.5754 - accuracy: 0.6740\n",
      "Epoch 53/100\n",
      "23/23 [==============================] - 0s 10ms/step - loss: 720.1727 - accuracy: 0.6519\n",
      "Epoch 54/100\n",
      "23/23 [==============================] - 0s 8ms/step - loss: 587.7955 - accuracy: 0.7017\n",
      "Epoch 55/100\n",
      "23/23 [==============================] - 0s 8ms/step - loss: 354.9112 - accuracy: 0.6354\n",
      "Epoch 56/100\n",
      "23/23 [==============================] - 0s 8ms/step - loss: 934.9557 - accuracy: 0.6575\n",
      "Epoch 57/100\n",
      "23/23 [==============================] - 0s 7ms/step - loss: 586.1215 - accuracy: 0.6740\n",
      "Epoch 58/100\n",
      "23/23 [==============================] - 0s 5ms/step - loss: 375.7351 - accuracy: 0.6906\n",
      "Epoch 59/100\n",
      "23/23 [==============================] - 0s 5ms/step - loss: 367.9462 - accuracy: 0.6630\n",
      "Epoch 60/100\n",
      "23/23 [==============================] - 0s 6ms/step - loss: 401.8099 - accuracy: 0.6464\n",
      "Epoch 61/100\n",
      "23/23 [==============================] - 0s 11ms/step - loss: 636.8519 - accuracy: 0.6630\n",
      "Epoch 62/100\n",
      "23/23 [==============================] - 0s 8ms/step - loss: 422.0223 - accuracy: 0.6464\n",
      "Epoch 63/100\n",
      "23/23 [==============================] - 0s 6ms/step - loss: 291.1732 - accuracy: 0.6464\n",
      "Epoch 64/100\n",
      "23/23 [==============================] - 0s 7ms/step - loss: 554.0093 - accuracy: 0.6519\n",
      "Epoch 65/100\n",
      "23/23 [==============================] - ETA: 0s - loss: 92.0912 - accuracy: 0.726 - 0s 9ms/step - loss: 214.3535 - accuracy: 0.7127\n",
      "Epoch 66/100\n",
      "23/23 [==============================] - 0s 11ms/step - loss: 278.2718 - accuracy: 0.6906\n",
      "Epoch 67/100\n",
      "23/23 [==============================] - 0s 8ms/step - loss: 144.9347 - accuracy: 0.6961\n",
      "Epoch 68/100\n",
      "23/23 [==============================] - 0s 5ms/step - loss: 339.8173 - accuracy: 0.6685\n",
      "Epoch 69/100\n",
      "23/23 [==============================] - 0s 5ms/step - loss: 216.0285 - accuracy: 0.6575\n",
      "Epoch 70/100\n",
      "23/23 [==============================] - 0s 7ms/step - loss: 348.7236 - accuracy: 0.6298\n",
      "Epoch 71/100\n",
      "23/23 [==============================] - 0s 4ms/step - loss: 185.0349 - accuracy: 0.6630\n",
      "Epoch 72/100\n",
      "23/23 [==============================] - 0s 7ms/step - loss: 135.5328 - accuracy: 0.6961\n",
      "Epoch 73/100\n",
      "23/23 [==============================] - 0s 5ms/step - loss: 193.9418 - accuracy: 0.6740\n",
      "Epoch 74/100\n",
      "23/23 [==============================] - 0s 5ms/step - loss: 178.2055 - accuracy: 0.6630: 0s - loss: 201.5349 - accuracy: 0.65\n",
      "Epoch 75/100\n",
      "23/23 [==============================] - 0s 7ms/step - loss: 186.4276 - accuracy: 0.6961\n",
      "Epoch 76/100\n",
      "23/23 [==============================] - 0s 6ms/step - loss: 141.1218 - accuracy: 0.6740\n",
      "Epoch 77/100\n",
      "23/23 [==============================] - 0s 8ms/step - loss: 85.9073 - accuracy: 0.6519\n",
      "Epoch 78/100\n"
     ]
    },
    {
     "name": "stdout",
     "output_type": "stream",
     "text": [
      "23/23 [==============================] - 0s 5ms/step - loss: 109.7213 - accuracy: 0.6906\n",
      "Epoch 79/100\n",
      "23/23 [==============================] - 0s 8ms/step - loss: 40.4998 - accuracy: 0.6575\n",
      "Epoch 80/100\n",
      "23/23 [==============================] - 0s 5ms/step - loss: 128.2896 - accuracy: 0.6298\n",
      "Epoch 81/100\n",
      "23/23 [==============================] - 0s 7ms/step - loss: 88.2297 - accuracy: 0.6630\n",
      "Epoch 82/100\n",
      "23/23 [==============================] - 0s 7ms/step - loss: 39.9132 - accuracy: 0.6961\n",
      "Epoch 83/100\n",
      "23/23 [==============================] - 0s 7ms/step - loss: 51.5099 - accuracy: 0.7072\n",
      "Epoch 84/100\n",
      "23/23 [==============================] - 0s 7ms/step - loss: 92.2692 - accuracy: 0.6575\n",
      "Epoch 85/100\n",
      "23/23 [==============================] - 0s 8ms/step - loss: 79.0587 - accuracy: 0.6851\n",
      "Epoch 86/100\n",
      "23/23 [==============================] - 0s 6ms/step - loss: 44.1557 - accuracy: 0.6851\n",
      "Epoch 87/100\n",
      "23/23 [==============================] - 0s 6ms/step - loss: 67.6029 - accuracy: 0.6796\n",
      "Epoch 88/100\n",
      "23/23 [==============================] - 0s 5ms/step - loss: 77.0382 - accuracy: 0.6464\n",
      "Epoch 89/100\n",
      "23/23 [==============================] - 0s 10ms/step - loss: 89.3518 - accuracy: 0.6630\n",
      "Epoch 90/100\n",
      "23/23 [==============================] - 0s 8ms/step - loss: 77.4298 - accuracy: 0.6575A: 0s - loss: 60.3505 - accuracy: 0.647\n",
      "Epoch 91/100\n",
      "23/23 [==============================] - 0s 8ms/step - loss: 49.1599 - accuracy: 0.6740\n",
      "Epoch 92/100\n",
      "23/23 [==============================] - 0s 8ms/step - loss: 62.2334 - accuracy: 0.6906\n",
      "Epoch 93/100\n",
      "23/23 [==============================] - 0s 5ms/step - loss: 74.9698 - accuracy: 0.6740\n",
      "Epoch 94/100\n",
      "23/23 [==============================] - ETA: 0s - loss: 31.3458 - accuracy: 0.687 - 0s 11ms/step - loss: 29.2371 - accuracy: 0.6851\n",
      "Epoch 95/100\n",
      "23/23 [==============================] - 0s 5ms/step - loss: 59.1249 - accuracy: 0.6851\n",
      "Epoch 96/100\n",
      "23/23 [==============================] - ETA: 0s - loss: 56.5320 - accuracy: 0.664 - 0s 7ms/step - loss: 63.7365 - accuracy: 0.6575\n",
      "Epoch 97/100\n",
      "23/23 [==============================] - 0s 6ms/step - loss: 20.2451 - accuracy: 0.7072\n",
      "Epoch 98/100\n",
      "23/23 [==============================] - 0s 7ms/step - loss: 10.0859 - accuracy: 0.7127\n",
      "Epoch 99/100\n",
      "23/23 [==============================] - 0s 5ms/step - loss: 9.8629 - accuracy: 0.6575\n",
      "Epoch 100/100\n",
      "23/23 [==============================] - 0s 10ms/step - loss: 14.2714 - accuracy: 0.6575\n"
     ]
    },
    {
     "data": {
      "text/plain": [
       "<tensorflow.python.keras.callbacks.History at 0x1d81d167f10>"
      ]
     },
     "execution_count": 60,
     "metadata": {},
     "output_type": "execute_result"
    }
   ],
   "source": [
    "modeld=keras.Sequential([\n",
    "    keras.layers.Dense(11,input_dim=11,activation='relu'),\n",
    "    keras.layers.Dropout(0.5),#this layer will drop 50% of the neurons-----the good practice is we put dropout layer after each\n",
    "    #hidden layer\n",
    "    keras.layers.Dense(7,activation='relu'),\n",
    "    keras.layers.Dropout(0.5),\n",
    "    keras.layers.Dense(5,activation='relu'),\n",
    "    keras.layers.Dropout(0.5),\n",
    "    keras.layers.Dense(1,activation='sigmoid')\n",
    "])\n",
    "modeld.compile(\n",
    "    loss='binary_crossentropy',\n",
    "    optimizer='adam',\n",
    "    metrics=['accuracy']\n",
    ")\n",
    "modeld.fit(X_train,y_train,epochs=100,batch_size=8)"
   ]
  },
  {
   "cell_type": "code",
   "execution_count": 61,
   "metadata": {},
   "outputs": [
    {
     "name": "stdout",
     "output_type": "stream",
     "text": [
      "2/2 [==============================] - 7s 16ms/step - loss: 0.6611 - accuracy: 0.7609\n"
     ]
    },
    {
     "data": {
      "text/plain": [
       "[0.6610895395278931, 0.760869562625885]"
      ]
     },
     "execution_count": 61,
     "metadata": {},
     "output_type": "execute_result"
    }
   ],
   "source": [
    "modeld.evaluate(X_test,y_test)"
   ]
  },
  {
   "cell_type": "code",
   "execution_count": 63,
   "metadata": {},
   "outputs": [],
   "source": [
    "##this model can be exported into a pickle file "
   ]
  },
  {
   "cell_type": "code",
   "execution_count": null,
   "metadata": {},
   "outputs": [],
   "source": []
  }
 ],
 "metadata": {
  "kernelspec": {
   "display_name": "Python 3",
   "language": "python",
   "name": "python3"
  },
  "language_info": {
   "codemirror_mode": {
    "name": "ipython",
    "version": 3
   },
   "file_extension": ".py",
   "mimetype": "text/x-python",
   "name": "python",
   "nbconvert_exporter": "python",
   "pygments_lexer": "ipython3",
   "version": "3.8.5"
  }
 },
 "nbformat": 4,
 "nbformat_minor": 4
}
