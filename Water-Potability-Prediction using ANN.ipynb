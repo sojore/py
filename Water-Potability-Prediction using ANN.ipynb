{
 "cells": [
  {
   "cell_type": "markdown",
   "metadata": {},
   "source": [
    "creating a model usefull for predicting water potability using deep learning(Artificial Neural Network)"
   ]
  },
  {
   "cell_type": "code",
   "execution_count": 1,
   "metadata": {},
   "outputs": [],
   "source": [
    "#import libraries\n",
    "import pandas as pd\n",
    "import numpy as np\n",
    "import matplotlib\n",
    "import matplotlib.pyplot as plt\n",
    "matplotlib.rcParams['figure.figsize']=(15,10)\n",
    "%matplotlib inline"
   ]
  },
  {
   "cell_type": "code",
   "execution_count": 2,
   "metadata": {},
   "outputs": [
    {
     "data": {
      "text/html": [
       "<div>\n",
       "<style scoped>\n",
       "    .dataframe tbody tr th:only-of-type {\n",
       "        vertical-align: middle;\n",
       "    }\n",
       "\n",
       "    .dataframe tbody tr th {\n",
       "        vertical-align: top;\n",
       "    }\n",
       "\n",
       "    .dataframe thead th {\n",
       "        text-align: right;\n",
       "    }\n",
       "</style>\n",
       "<table border=\"1\" class=\"dataframe\">\n",
       "  <thead>\n",
       "    <tr style=\"text-align: right;\">\n",
       "      <th></th>\n",
       "      <th>ph</th>\n",
       "      <th>Hardness</th>\n",
       "      <th>Solids</th>\n",
       "      <th>Chloramines</th>\n",
       "      <th>Sulfate</th>\n",
       "      <th>Conductivity</th>\n",
       "      <th>Organic_carbon</th>\n",
       "      <th>Trihalomethanes</th>\n",
       "      <th>Turbidity</th>\n",
       "      <th>Potability</th>\n",
       "    </tr>\n",
       "  </thead>\n",
       "  <tbody>\n",
       "    <tr>\n",
       "      <th>0</th>\n",
       "      <td>NaN</td>\n",
       "      <td>204.890455</td>\n",
       "      <td>20791.318981</td>\n",
       "      <td>7.300212</td>\n",
       "      <td>368.516441</td>\n",
       "      <td>564.308654</td>\n",
       "      <td>10.379783</td>\n",
       "      <td>86.990970</td>\n",
       "      <td>2.963135</td>\n",
       "      <td>0</td>\n",
       "    </tr>\n",
       "    <tr>\n",
       "      <th>1</th>\n",
       "      <td>3.716080</td>\n",
       "      <td>129.422921</td>\n",
       "      <td>18630.057858</td>\n",
       "      <td>6.635246</td>\n",
       "      <td>NaN</td>\n",
       "      <td>592.885359</td>\n",
       "      <td>15.180013</td>\n",
       "      <td>56.329076</td>\n",
       "      <td>4.500656</td>\n",
       "      <td>0</td>\n",
       "    </tr>\n",
       "    <tr>\n",
       "      <th>2</th>\n",
       "      <td>8.099124</td>\n",
       "      <td>224.236259</td>\n",
       "      <td>19909.541732</td>\n",
       "      <td>9.275884</td>\n",
       "      <td>NaN</td>\n",
       "      <td>418.606213</td>\n",
       "      <td>16.868637</td>\n",
       "      <td>66.420093</td>\n",
       "      <td>3.055934</td>\n",
       "      <td>0</td>\n",
       "    </tr>\n",
       "    <tr>\n",
       "      <th>3</th>\n",
       "      <td>8.316766</td>\n",
       "      <td>214.373394</td>\n",
       "      <td>22018.417441</td>\n",
       "      <td>8.059332</td>\n",
       "      <td>356.886136</td>\n",
       "      <td>363.266516</td>\n",
       "      <td>18.436524</td>\n",
       "      <td>100.341674</td>\n",
       "      <td>4.628771</td>\n",
       "      <td>0</td>\n",
       "    </tr>\n",
       "    <tr>\n",
       "      <th>4</th>\n",
       "      <td>9.092223</td>\n",
       "      <td>181.101509</td>\n",
       "      <td>17978.986339</td>\n",
       "      <td>6.546600</td>\n",
       "      <td>310.135738</td>\n",
       "      <td>398.410813</td>\n",
       "      <td>11.558279</td>\n",
       "      <td>31.997993</td>\n",
       "      <td>4.075075</td>\n",
       "      <td>0</td>\n",
       "    </tr>\n",
       "  </tbody>\n",
       "</table>\n",
       "</div>"
      ],
      "text/plain": [
       "         ph    Hardness        Solids  Chloramines     Sulfate  Conductivity  \\\n",
       "0       NaN  204.890455  20791.318981     7.300212  368.516441    564.308654   \n",
       "1  3.716080  129.422921  18630.057858     6.635246         NaN    592.885359   \n",
       "2  8.099124  224.236259  19909.541732     9.275884         NaN    418.606213   \n",
       "3  8.316766  214.373394  22018.417441     8.059332  356.886136    363.266516   \n",
       "4  9.092223  181.101509  17978.986339     6.546600  310.135738    398.410813   \n",
       "\n",
       "   Organic_carbon  Trihalomethanes  Turbidity  Potability  \n",
       "0       10.379783        86.990970   2.963135           0  \n",
       "1       15.180013        56.329076   4.500656           0  \n",
       "2       16.868637        66.420093   3.055934           0  \n",
       "3       18.436524       100.341674   4.628771           0  \n",
       "4       11.558279        31.997993   4.075075           0  "
      ]
     },
     "execution_count": 2,
     "metadata": {},
     "output_type": "execute_result"
    }
   ],
   "source": [
    "#loading the dataset\n",
    "df=pd.read_csv('C:\\\\Users\\sojore\\Documents\\water-potability\\water_potability.csv')\n",
    "df.head()"
   ]
  },
  {
   "cell_type": "code",
   "execution_count": 3,
   "metadata": {},
   "outputs": [
    {
     "data": {
      "text/plain": [
       "(3276, 10)"
      ]
     },
     "execution_count": 3,
     "metadata": {},
     "output_type": "execute_result"
    }
   ],
   "source": [
    "df.shape"
   ]
  },
  {
   "cell_type": "code",
   "execution_count": 4,
   "metadata": {},
   "outputs": [
    {
     "data": {
      "text/plain": [
       "ph\n",
       "0.000000    1\n",
       "0.227499    1\n",
       "0.975578    1\n",
       "0.989912    1\n",
       "1.431782    1\n",
       "Name: ph, dtype: int64"
      ]
     },
     "execution_count": 4,
     "metadata": {},
     "output_type": "execute_result"
    }
   ],
   "source": [
    "#exploring the dataset\n",
    "df.groupby('ph')['ph'].agg('count').head()"
   ]
  },
  {
   "cell_type": "code",
   "execution_count": 5,
   "metadata": {},
   "outputs": [
    {
     "data": {
      "text/plain": [
       "array([       nan, 3.71608008, 8.09912419, ..., 9.41951032, 5.12676292,\n",
       "       7.87467136])"
      ]
     },
     "execution_count": 5,
     "metadata": {},
     "output_type": "execute_result"
    }
   ],
   "source": [
    "df.ph.unique()"
   ]
  },
  {
   "cell_type": "code",
   "execution_count": 6,
   "metadata": {},
   "outputs": [
    {
     "data": {
      "text/plain": [
       "ph                 491\n",
       "Hardness             0\n",
       "Solids               0\n",
       "Chloramines          0\n",
       "Sulfate            781\n",
       "Conductivity         0\n",
       "Organic_carbon       0\n",
       "Trihalomethanes    162\n",
       "Turbidity            0\n",
       "Potability           0\n",
       "dtype: int64"
      ]
     },
     "execution_count": 6,
     "metadata": {},
     "output_type": "execute_result"
    }
   ],
   "source": [
    "#handlimg missing values\n",
    "df.isna().sum()"
   ]
  },
  {
   "cell_type": "code",
   "execution_count": 7,
   "metadata": {},
   "outputs": [
    {
     "data": {
      "text/plain": [
       "7.080794504276821"
      ]
     },
     "execution_count": 7,
     "metadata": {},
     "output_type": "execute_result"
    }
   ],
   "source": [
    "#replacing the missing values with mean,mode or median of the data\n",
    "df.ph.mean()"
   ]
  },
  {
   "cell_type": "code",
   "execution_count": 8,
   "metadata": {},
   "outputs": [],
   "source": [
    "df.ph=df.ph.fillna(df.ph.mean())"
   ]
  },
  {
   "cell_type": "code",
   "execution_count": 9,
   "metadata": {},
   "outputs": [
    {
     "data": {
      "text/plain": [
       "Index(['ph', 'Hardness', 'Solids', 'Chloramines', 'Sulfate', 'Conductivity',\n",
       "       'Organic_carbon', 'Trihalomethanes', 'Turbidity', 'Potability'],\n",
       "      dtype='object')"
      ]
     },
     "execution_count": 9,
     "metadata": {},
     "output_type": "execute_result"
    }
   ],
   "source": [
    "df.columns"
   ]
  },
  {
   "cell_type": "code",
   "execution_count": 10,
   "metadata": {},
   "outputs": [
    {
     "data": {
      "text/plain": [
       "333.073545745888"
      ]
     },
     "execution_count": 10,
     "metadata": {},
     "output_type": "execute_result"
    }
   ],
   "source": [
    "df.Sulfate.median()"
   ]
  },
  {
   "cell_type": "code",
   "execution_count": 11,
   "metadata": {},
   "outputs": [
    {
     "data": {
      "text/plain": [
       "False"
      ]
     },
     "execution_count": 11,
     "metadata": {},
     "output_type": "execute_result"
    }
   ],
   "source": [
    "df.Sulfate=df.Sulfate.fillna(df.Sulfate.median())\n",
    "df.Sulfate.isna().any()"
   ]
  },
  {
   "cell_type": "code",
   "execution_count": 12,
   "metadata": {},
   "outputs": [
    {
     "data": {
      "text/plain": [
       "66.39629294676803"
      ]
     },
     "execution_count": 12,
     "metadata": {},
     "output_type": "execute_result"
    }
   ],
   "source": [
    "df.Trihalomethanes.mean()"
   ]
  },
  {
   "cell_type": "code",
   "execution_count": 13,
   "metadata": {},
   "outputs": [
    {
     "data": {
      "text/plain": [
       "0"
      ]
     },
     "execution_count": 13,
     "metadata": {},
     "output_type": "execute_result"
    }
   ],
   "source": [
    "df.Trihalomethanes=df.Trihalomethanes.fillna(df.Trihalomethanes.mean())\n",
    "df.Trihalomethanes.isna().sum()"
   ]
  },
  {
   "cell_type": "code",
   "execution_count": 14,
   "metadata": {},
   "outputs": [
    {
     "data": {
      "text/plain": [
       "ph                 False\n",
       "Hardness           False\n",
       "Solids             False\n",
       "Chloramines        False\n",
       "Sulfate            False\n",
       "Conductivity       False\n",
       "Organic_carbon     False\n",
       "Trihalomethanes    False\n",
       "Turbidity          False\n",
       "Potability         False\n",
       "dtype: bool"
      ]
     },
     "execution_count": 14,
     "metadata": {},
     "output_type": "execute_result"
    }
   ],
   "source": [
    "df.isnull().any()"
   ]
  },
  {
   "cell_type": "code",
   "execution_count": 15,
   "metadata": {},
   "outputs": [
    {
     "data": {
      "text/plain": [
       "ph                 float64\n",
       "Hardness           float64\n",
       "Solids             float64\n",
       "Chloramines        float64\n",
       "Sulfate            float64\n",
       "Conductivity       float64\n",
       "Organic_carbon     float64\n",
       "Trihalomethanes    float64\n",
       "Turbidity          float64\n",
       "Potability           int64\n",
       "dtype: object"
      ]
     },
     "execution_count": 15,
     "metadata": {},
     "output_type": "execute_result"
    }
   ],
   "source": [
    "#no more missing values\n",
    "#checking the dataset dtypes\n",
    "df.dtypes"
   ]
  },
  {
   "cell_type": "code",
   "execution_count": 16,
   "metadata": {},
   "outputs": [
    {
     "data": {
      "text/html": [
       "<div>\n",
       "<style scoped>\n",
       "    .dataframe tbody tr th:only-of-type {\n",
       "        vertical-align: middle;\n",
       "    }\n",
       "\n",
       "    .dataframe tbody tr th {\n",
       "        vertical-align: top;\n",
       "    }\n",
       "\n",
       "    .dataframe thead th {\n",
       "        text-align: right;\n",
       "    }\n",
       "</style>\n",
       "<table border=\"1\" class=\"dataframe\">\n",
       "  <thead>\n",
       "    <tr style=\"text-align: right;\">\n",
       "      <th></th>\n",
       "      <th>ph</th>\n",
       "      <th>Hardness</th>\n",
       "      <th>Solids</th>\n",
       "      <th>Chloramines</th>\n",
       "      <th>Sulfate</th>\n",
       "      <th>Conductivity</th>\n",
       "      <th>Organic_carbon</th>\n",
       "      <th>Trihalomethanes</th>\n",
       "      <th>Turbidity</th>\n",
       "      <th>Potability</th>\n",
       "    </tr>\n",
       "  </thead>\n",
       "  <tbody>\n",
       "    <tr>\n",
       "      <th>0</th>\n",
       "      <td>7.080795</td>\n",
       "      <td>204.890455</td>\n",
       "      <td>20791.318981</td>\n",
       "      <td>7.300212</td>\n",
       "      <td>368.516441</td>\n",
       "      <td>564.308654</td>\n",
       "      <td>10.379783</td>\n",
       "      <td>86.990970</td>\n",
       "      <td>2.963135</td>\n",
       "      <td>0</td>\n",
       "    </tr>\n",
       "    <tr>\n",
       "      <th>1</th>\n",
       "      <td>3.716080</td>\n",
       "      <td>129.422921</td>\n",
       "      <td>18630.057858</td>\n",
       "      <td>6.635246</td>\n",
       "      <td>333.073546</td>\n",
       "      <td>592.885359</td>\n",
       "      <td>15.180013</td>\n",
       "      <td>56.329076</td>\n",
       "      <td>4.500656</td>\n",
       "      <td>0</td>\n",
       "    </tr>\n",
       "    <tr>\n",
       "      <th>2</th>\n",
       "      <td>8.099124</td>\n",
       "      <td>224.236259</td>\n",
       "      <td>19909.541732</td>\n",
       "      <td>9.275884</td>\n",
       "      <td>333.073546</td>\n",
       "      <td>418.606213</td>\n",
       "      <td>16.868637</td>\n",
       "      <td>66.420093</td>\n",
       "      <td>3.055934</td>\n",
       "      <td>0</td>\n",
       "    </tr>\n",
       "    <tr>\n",
       "      <th>3</th>\n",
       "      <td>8.316766</td>\n",
       "      <td>214.373394</td>\n",
       "      <td>22018.417441</td>\n",
       "      <td>8.059332</td>\n",
       "      <td>356.886136</td>\n",
       "      <td>363.266516</td>\n",
       "      <td>18.436524</td>\n",
       "      <td>100.341674</td>\n",
       "      <td>4.628771</td>\n",
       "      <td>0</td>\n",
       "    </tr>\n",
       "    <tr>\n",
       "      <th>4</th>\n",
       "      <td>9.092223</td>\n",
       "      <td>181.101509</td>\n",
       "      <td>17978.986339</td>\n",
       "      <td>6.546600</td>\n",
       "      <td>310.135738</td>\n",
       "      <td>398.410813</td>\n",
       "      <td>11.558279</td>\n",
       "      <td>31.997993</td>\n",
       "      <td>4.075075</td>\n",
       "      <td>0</td>\n",
       "    </tr>\n",
       "  </tbody>\n",
       "</table>\n",
       "</div>"
      ],
      "text/plain": [
       "         ph    Hardness        Solids  Chloramines     Sulfate  Conductivity  \\\n",
       "0  7.080795  204.890455  20791.318981     7.300212  368.516441    564.308654   \n",
       "1  3.716080  129.422921  18630.057858     6.635246  333.073546    592.885359   \n",
       "2  8.099124  224.236259  19909.541732     9.275884  333.073546    418.606213   \n",
       "3  8.316766  214.373394  22018.417441     8.059332  356.886136    363.266516   \n",
       "4  9.092223  181.101509  17978.986339     6.546600  310.135738    398.410813   \n",
       "\n",
       "   Organic_carbon  Trihalomethanes  Turbidity  Potability  \n",
       "0       10.379783        86.990970   2.963135           0  \n",
       "1       15.180013        56.329076   4.500656           0  \n",
       "2       16.868637        66.420093   3.055934           0  \n",
       "3       18.436524       100.341674   4.628771           0  \n",
       "4       11.558279        31.997993   4.075075           0  "
      ]
     },
     "execution_count": 16,
     "metadata": {},
     "output_type": "execute_result"
    }
   ],
   "source": [
    "df.head()"
   ]
  },
  {
   "cell_type": "code",
   "execution_count": 17,
   "metadata": {},
   "outputs": [
    {
     "data": {
      "text/plain": [
       "Text(0, 0.5, 'count')"
      ]
     },
     "execution_count": 17,
     "metadata": {},
     "output_type": "execute_result"
    },
    {
     "data": {
      "image/png": "[encoded data removed]",
      "text/plain": [
       "<Figure size 432x288 with 1 Axes>"
      ]
     },
     "metadata": {
      "needs_background": "light"
     },
     "output_type": "display_data"
    }
   ],
   "source": [
    "#ploting some charts\n",
    "plt.hist(df.ph,rwidth=0.8)\n",
    "plt.xlabel('ph')\n",
    "plt.ylabel('count')"
   ]
  },
  {
   "cell_type": "code",
   "execution_count": 18,
   "metadata": {},
   "outputs": [],
   "source": [
    "##we gonna be handling the outliers so that we attain a normal distribution as above"
   ]
  },
  {
   "cell_type": "code",
   "execution_count": 19,
   "metadata": {},
   "outputs": [
    {
     "data": {
      "text/plain": [
       "Index(['ph', 'Hardness', 'Solids', 'Chloramines', 'Sulfate', 'Conductivity',\n",
       "       'Organic_carbon', 'Trihalomethanes', 'Turbidity', 'Potability'],\n",
       "      dtype='object')"
      ]
     },
     "execution_count": 19,
     "metadata": {},
     "output_type": "execute_result"
    }
   ],
   "source": [
    "df.columns"
   ]
  },
  {
   "cell_type": "code",
   "execution_count": 20,
   "metadata": {},
   "outputs": [
    {
     "data": {
      "text/plain": [
       "Text(0, 0.5, 'count')"
      ]
     },
     "execution_count": 20,
     "metadata": {},
     "output_type": "execute_result"
    },
    {
     "data": {
      "image/png": "[encoded data removed]",
      "text/plain": [
       "<Figure size 432x288 with 1 Axes>"
      ]
     },
     "metadata": {
      "needs_background": "light"
     },
     "output_type": "display_data"
    }
   ],
   "source": [
    "plt.hist(df.Hardness,rwidth=0.8,color='green')\n",
    "plt.xlabel('Hardness')\n",
    "plt.ylabel('count')"
   ]
  },
  {
   "cell_type": "code",
   "execution_count": 21,
   "metadata": {},
   "outputs": [
    {
     "data": {
      "text/plain": [
       "Text(0, 0.5, 'count')"
      ]
     },
     "execution_count": 21,
     "metadata": {},
     "output_type": "execute_result"
    },
    {
     "data": {
      "image/png": "[encoded data removed]",
      "text/plain": [
       "<Figure size 432x288 with 1 Axes>"
      ]
     },
     "metadata": {
      "needs_background": "light"
     },
     "output_type": "display_data"
    }
   ],
   "source": [
    "plt.hist(df.Solids,rwidth=0.8,color='orange')\n",
    "plt.xlabel('Solids')\n",
    "plt.ylabel('count')"
   ]
  },
  {
   "cell_type": "code",
   "execution_count": 22,
   "metadata": {},
   "outputs": [
    {
     "data": {
      "text/plain": [
       "Text(0, 0.5, 'count')"
      ]
     },
     "execution_count": 22,
     "metadata": {},
     "output_type": "execute_result"
    },
    {
     "data": {
      "image/png": "[encoded data removed]",
      "text/plain": [
       "<Figure size 432x288 with 1 Axes>"
      ]
     },
     "metadata": {
      "needs_background": "light"
     },
     "output_type": "display_data"
    }
   ],
   "source": [
    "plt.hist(df.Chloramines,rwidth=0.8,color='yellow')\n",
    "plt.xlabel('Chloramines')\n",
    "plt.ylabel('count')"
   ]
  },
  {
   "cell_type": "code",
   "execution_count": 23,
   "metadata": {},
   "outputs": [
    {
     "data": {
      "text/plain": [
       "Text(0, 0.5, 'count')"
      ]
     },
     "execution_count": 23,
     "metadata": {},
     "output_type": "execute_result"
    },
    {
     "data": {
      "image/png": "[encoded data removed]",
      "text/plain": [
       "<Figure size 432x288 with 1 Axes>"
      ]
     },
     "metadata": {
      "needs_background": "light"
     },
     "output_type": "display_data"
    }
   ],
   "source": [
    "plt.hist(df.Sulfate,rwidth=0.8,color='black')\n",
    "plt.xlabel('Sulfate')\n",
    "plt.ylabel('count')"
   ]
  },
  {
   "cell_type": "code",
   "execution_count": 24,
   "metadata": {},
   "outputs": [
    {
     "data": {
      "text/plain": [
       "Text(0, 0.5, 'count')"
      ]
     },
     "execution_count": 24,
     "metadata": {},
     "output_type": "execute_result"
    },
    {
     "data": {
      "image/png": "[encoded data removed]",
      "text/plain": [
       "<Figure size 432x288 with 1 Axes>"
      ]
     },
     "metadata": {
      "needs_background": "light"
     },
     "output_type": "display_data"
    }
   ],
   "source": [
    "plt.hist(df.Conductivity,rwidth=0.8,color='grey')\n",
    "plt.xlabel('Conductivity')\n",
    "plt.ylabel('count')"
   ]
  },
  {
   "cell_type": "code",
   "execution_count": 25,
   "metadata": {},
   "outputs": [
    {
     "data": {
      "text/plain": [
       "Text(0, 0.5, 'count')"
      ]
     },
     "execution_count": 25,
     "metadata": {},
     "output_type": "execute_result"
    },
    {
     "data": {
      "image/png": "[encoded data removed]",
      "text/plain": [
       "<Figure size 432x288 with 1 Axes>"
      ]
     },
     "metadata": {
      "needs_background": "light"
     },
     "output_type": "display_data"
    }
   ],
   "source": [
    "plt.hist(df.Organic_carbon,rwidth=0.8,color='green')\n",
    "plt.xlabel('Organic_carbon')\n",
    "plt.ylabel('count')"
   ]
  },
  {
   "cell_type": "code",
   "execution_count": 26,
   "metadata": {},
   "outputs": [
    {
     "data": {
      "text/plain": [
       "Text(0, 0.5, 'count')"
      ]
     },
     "execution_count": 26,
     "metadata": {},
     "output_type": "execute_result"
    },
    {
     "data": {
      "image/png": "[encoded data removed]",
      "text/plain": [
       "<Figure size 432x288 with 1 Axes>"
      ]
     },
     "metadata": {
      "needs_background": "light"
     },
     "output_type": "display_data"
    }
   ],
   "source": [
    "plt.hist(df.Trihalomethanes,rwidth=0.8,color='green')\n",
    "plt.xlabel('Trihalomethanes')\n",
    "plt.ylabel('count')"
   ]
  },
  {
   "cell_type": "code",
   "execution_count": 27,
   "metadata": {},
   "outputs": [
    {
     "data": {
      "text/plain": [
       "Text(0, 0.5, 'count')"
      ]
     },
     "execution_count": 27,
     "metadata": {},
     "output_type": "execute_result"
    },
    {
     "data": {
      "image/png": "[encoded data removed]",
      "text/plain": [
       "<Figure size 432x288 with 1 Axes>"
      ]
     },
     "metadata": {
      "needs_background": "light"
     },
     "output_type": "display_data"
    }
   ],
   "source": [
    "plt.hist(df.Turbidity,rwidth=0.8,color='blue')\n",
    "plt.xlabel('Turbidity')\n",
    "plt.ylabel('count')"
   ]
  },
  {
   "cell_type": "code",
   "execution_count": 28,
   "metadata": {},
   "outputs": [],
   "source": [
    "#my data seems to be having a normal distribution which is pretty cool,now we gonna try filter some outliers using the \n",
    "#quantile function"
   ]
  },
  {
   "cell_type": "code",
   "execution_count": 29,
   "metadata": {},
   "outputs": [
    {
     "data": {
      "text/html": [
       "<div>\n",
       "<style scoped>\n",
       "    .dataframe tbody tr th:only-of-type {\n",
       "        vertical-align: middle;\n",
       "    }\n",
       "\n",
       "    .dataframe tbody tr th {\n",
       "        vertical-align: top;\n",
       "    }\n",
       "\n",
       "    .dataframe thead th {\n",
       "        text-align: right;\n",
       "    }\n",
       "</style>\n",
       "<table border=\"1\" class=\"dataframe\">\n",
       "  <thead>\n",
       "    <tr style=\"text-align: right;\">\n",
       "      <th></th>\n",
       "      <th>ph</th>\n",
       "      <th>Hardness</th>\n",
       "      <th>Solids</th>\n",
       "      <th>Chloramines</th>\n",
       "      <th>Sulfate</th>\n",
       "      <th>Conductivity</th>\n",
       "      <th>Organic_carbon</th>\n",
       "      <th>Trihalomethanes</th>\n",
       "      <th>Turbidity</th>\n",
       "      <th>Potability</th>\n",
       "    </tr>\n",
       "  </thead>\n",
       "  <tbody>\n",
       "    <tr>\n",
       "      <th>1942</th>\n",
       "      <td>6.504113</td>\n",
       "      <td>171.722555</td>\n",
       "      <td>20852.764496</td>\n",
       "      <td>7.704990</td>\n",
       "      <td>282.105545</td>\n",
       "      <td>359.460950</td>\n",
       "      <td>13.475273</td>\n",
       "      <td>83.622260</td>\n",
       "      <td>5.396623</td>\n",
       "      <td>1</td>\n",
       "    </tr>\n",
       "    <tr>\n",
       "      <th>1724</th>\n",
       "      <td>7.595229</td>\n",
       "      <td>188.373282</td>\n",
       "      <td>32869.474408</td>\n",
       "      <td>6.745588</td>\n",
       "      <td>365.208692</td>\n",
       "      <td>326.627131</td>\n",
       "      <td>13.883329</td>\n",
       "      <td>73.438220</td>\n",
       "      <td>3.497604</td>\n",
       "      <td>0</td>\n",
       "    </tr>\n",
       "    <tr>\n",
       "      <th>2282</th>\n",
       "      <td>10.524602</td>\n",
       "      <td>256.172323</td>\n",
       "      <td>31965.364041</td>\n",
       "      <td>5.007003</td>\n",
       "      <td>288.565983</td>\n",
       "      <td>505.361417</td>\n",
       "      <td>12.536626</td>\n",
       "      <td>75.343364</td>\n",
       "      <td>4.340987</td>\n",
       "      <td>0</td>\n",
       "    </tr>\n",
       "    <tr>\n",
       "      <th>1858</th>\n",
       "      <td>7.080795</td>\n",
       "      <td>115.392979</td>\n",
       "      <td>46077.358485</td>\n",
       "      <td>5.289307</td>\n",
       "      <td>437.592300</td>\n",
       "      <td>422.017356</td>\n",
       "      <td>10.809632</td>\n",
       "      <td>53.617035</td>\n",
       "      <td>4.212511</td>\n",
       "      <td>0</td>\n",
       "    </tr>\n",
       "    <tr>\n",
       "      <th>723</th>\n",
       "      <td>10.137932</td>\n",
       "      <td>242.005716</td>\n",
       "      <td>15088.827653</td>\n",
       "      <td>8.677789</td>\n",
       "      <td>333.073546</td>\n",
       "      <td>596.346346</td>\n",
       "      <td>14.971199</td>\n",
       "      <td>62.365824</td>\n",
       "      <td>3.872018</td>\n",
       "      <td>1</td>\n",
       "    </tr>\n",
       "  </tbody>\n",
       "</table>\n",
       "</div>"
      ],
      "text/plain": [
       "             ph    Hardness        Solids  Chloramines     Sulfate  \\\n",
       "1942   6.504113  171.722555  20852.764496     7.704990  282.105545   \n",
       "1724   7.595229  188.373282  32869.474408     6.745588  365.208692   \n",
       "2282  10.524602  256.172323  31965.364041     5.007003  288.565983   \n",
       "1858   7.080795  115.392979  46077.358485     5.289307  437.592300   \n",
       "723   10.137932  242.005716  15088.827653     8.677789  333.073546   \n",
       "\n",
       "      Conductivity  Organic_carbon  Trihalomethanes  Turbidity  Potability  \n",
       "1942    359.460950       13.475273        83.622260   5.396623           1  \n",
       "1724    326.627131       13.883329        73.438220   3.497604           0  \n",
       "2282    505.361417       12.536626        75.343364   4.340987           0  \n",
       "1858    422.017356       10.809632        53.617035   4.212511           0  \n",
       "723     596.346346       14.971199        62.365824   3.872018           1  "
      ]
     },
     "execution_count": 29,
     "metadata": {},
     "output_type": "execute_result"
    }
   ],
   "source": [
    "df1=df.copy()\n",
    "df1.sample(5)"
   ]
  },
  {
   "cell_type": "code",
   "execution_count": 30,
   "metadata": {},
   "outputs": [
    {
     "data": {
      "text/plain": [
       "(1.1114262818916294, 12.920071468912216)"
      ]
     },
     "execution_count": 30,
     "metadata": {},
     "output_type": "execute_result"
    }
   ],
   "source": [
    "ll1=df1.ph.quantile(0.001)\n",
    "ul1=df1.ph.quantile(0.999)\n",
    "ll1,ul1"
   ]
  },
  {
   "cell_type": "code",
   "execution_count": 31,
   "metadata": {},
   "outputs": [
    {
     "data": {
      "text/plain": [
       "(3268, 10)"
      ]
     },
     "execution_count": 31,
     "metadata": {},
     "output_type": "execute_result"
    }
   ],
   "source": [
    "df1[(df1.ph<ll1) | (df1.ph>ul1)]\n",
    "df2=df1[(df1.ph>=ll1) & (df1.ph<=ul1)]\n",
    "df2.shape"
   ]
  },
  {
   "cell_type": "code",
   "execution_count": 32,
   "metadata": {},
   "outputs": [
    {
     "data": {
      "text/plain": [
       "(94.28387795829323, 308.10756798012073)"
      ]
     },
     "execution_count": 32,
     "metadata": {},
     "output_type": "execute_result"
    }
   ],
   "source": [
    "ll2=df2.Hardness.quantile(0.001)\n",
    "ul2=df2.Hardness.quantile(0.999)\n",
    "ll2,ul2"
   ]
  },
  {
   "cell_type": "code",
   "execution_count": 33,
   "metadata": {},
   "outputs": [
    {
     "data": {
      "text/plain": [
       "(3260, 10)"
      ]
     },
     "execution_count": 33,
     "metadata": {},
     "output_type": "execute_result"
    }
   ],
   "source": [
    "df2[(df2.Hardness<ll2) | (df2.Hardness>ul2)]\n",
    "df3=df2[(df2.Hardness>=ll2) & (df2.Hardness<=ul2)]\n",
    "df3.shape"
   ]
  },
  {
   "cell_type": "code",
   "execution_count": 34,
   "metadata": {},
   "outputs": [
    {
     "data": {
      "text/plain": [
       "(1357.1346517750612, 56343.41668866223)"
      ]
     },
     "execution_count": 34,
     "metadata": {},
     "output_type": "execute_result"
    }
   ],
   "source": [
    "ll3=df3.Solids.quantile(0.001)\n",
    "ul3=df3.Solids.quantile(0.999)\n",
    "ll3,ul3"
   ]
  },
  {
   "cell_type": "code",
   "execution_count": 35,
   "metadata": {},
   "outputs": [
    {
     "data": {
      "text/plain": [
       "(3252, 10)"
      ]
     },
     "execution_count": 35,
     "metadata": {},
     "output_type": "execute_result"
    }
   ],
   "source": [
    "df3[(df3.Solids<ll3) | (df3.Solids>ul3)]\n",
    "df4=df3[(df3.Solids>=ll3) & (df3.Solids<=ul3)]\n",
    "df4.shape"
   ]
  },
  {
   "cell_type": "code",
   "execution_count": 36,
   "metadata": {},
   "outputs": [
    {
     "data": {
      "text/plain": [
       "(1.7432985767280988, 12.646719988871938)"
      ]
     },
     "execution_count": 36,
     "metadata": {},
     "output_type": "execute_result"
    }
   ],
   "source": [
    "ll4=df4.Chloramines.quantile(0.001)\n",
    "ul4=df4.Chloramines.quantile(0.999)\n",
    "ll4,ul4"
   ]
  },
  {
   "cell_type": "code",
   "execution_count": 37,
   "metadata": {},
   "outputs": [
    {
     "data": {
      "text/plain": [
       "(3244, 10)"
      ]
     },
     "execution_count": 37,
     "metadata": {},
     "output_type": "execute_result"
    }
   ],
   "source": [
    "df4[(df4.Chloramines<ll4) | (df4.Chloramines>ul4)]\n",
    "df5=df4[(df4.Chloramines>=ll4) & (df4.Chloramines<=ul4)]\n",
    "df5.shape"
   ]
  },
  {
   "cell_type": "code",
   "execution_count": 38,
   "metadata": {},
   "outputs": [
    {
     "data": {
      "text/plain": [
       "(204.04972925101737, 461.8989985508091)"
      ]
     },
     "execution_count": 38,
     "metadata": {},
     "output_type": "execute_result"
    }
   ],
   "source": [
    "ll5=df5.Sulfate.quantile(0.001)\n",
    "ul5=df5.Sulfate.quantile(0.999)\n",
    "ll5,ul5"
   ]
  },
  {
   "cell_type": "code",
   "execution_count": 39,
   "metadata": {},
   "outputs": [
    {
     "data": {
      "text/plain": [
       "(3236, 10)"
      ]
     },
     "execution_count": 39,
     "metadata": {},
     "output_type": "execute_result"
    }
   ],
   "source": [
    "df5[(df5.Sulfate<ll5) | (df5.Sulfate>ul5)]\n",
    "df6=df5[(df5.Sulfate>=ll5) & (df5.Sulfate<=ul5)]\n",
    "df6.shape"
   ]
  },
  {
   "cell_type": "code",
   "execution_count": 40,
   "metadata": {},
   "outputs": [
    {
     "data": {
      "text/plain": [
       "(220.94332377369548, 674.0001538692661)"
      ]
     },
     "execution_count": 40,
     "metadata": {},
     "output_type": "execute_result"
    }
   ],
   "source": [
    "ll6=df6.Conductivity.quantile(0.001)\n",
    "ul6=df6.Conductivity.quantile(0.999)\n",
    "ll6,ul6"
   ]
  },
  {
   "cell_type": "code",
   "execution_count": 41,
   "metadata": {},
   "outputs": [
    {
     "data": {
      "text/plain": [
       "(3228, 10)"
      ]
     },
     "execution_count": 41,
     "metadata": {},
     "output_type": "execute_result"
    }
   ],
   "source": [
    "df6[(df6.Conductivity<ll6) | (df6.Conductivity>ul6)]\n",
    "df7=df6[(df6.Conductivity>=ll6) & (df6.Conductivity<=ul6)]\n",
    "df7.shape"
   ]
  },
  {
   "cell_type": "code",
   "execution_count": 42,
   "metadata": {},
   "outputs": [
    {
     "data": {
      "text/plain": [
       "(4.5612906701182085, 23.94453967327361)"
      ]
     },
     "execution_count": 42,
     "metadata": {},
     "output_type": "execute_result"
    }
   ],
   "source": [
    "ll7=df7.Organic_carbon.quantile(0.001)\n",
    "ul7=df7.Organic_carbon.quantile(0.999)\n",
    "ll7,ul7"
   ]
  },
  {
   "cell_type": "code",
   "execution_count": 43,
   "metadata": {},
   "outputs": [
    {
     "data": {
      "text/plain": [
       "(3220, 10)"
      ]
     },
     "execution_count": 43,
     "metadata": {},
     "output_type": "execute_result"
    }
   ],
   "source": [
    "df7[(df7.Organic_carbon<ll7) | (df7.Organic_carbon>ul7)]\n",
    "df8=df7[(df7.Organic_carbon>=ll7) & (df7.Organic_carbon<=ul7)]\n",
    "df8.shape"
   ]
  },
  {
   "cell_type": "code",
   "execution_count": 44,
   "metadata": {},
   "outputs": [
    {
     "data": {
      "text/plain": [
       "(14.636997108633313, 115.73392547167587)"
      ]
     },
     "execution_count": 44,
     "metadata": {},
     "output_type": "execute_result"
    }
   ],
   "source": [
    "ll8=df8.Trihalomethanes.quantile(0.001)\n",
    "ul8=df8.Trihalomethanes.quantile(0.999)\n",
    "ll8,ul8"
   ]
  },
  {
   "cell_type": "code",
   "execution_count": 45,
   "metadata": {},
   "outputs": [
    {
     "data": {
      "text/plain": [
       "(3212, 10)"
      ]
     },
     "execution_count": 45,
     "metadata": {},
     "output_type": "execute_result"
    }
   ],
   "source": [
    "df8[(df8.Trihalomethanes<ll8) | (df8.Trihalomethanes>ul8)]\n",
    "df9=df8[(df8.Trihalomethanes>=ll8) & (df8.Trihalomethanes<=ul8)]\n",
    "df9.shape"
   ]
  },
  {
   "cell_type": "code",
   "execution_count": 46,
   "metadata": {},
   "outputs": [
    {
     "data": {
      "text/plain": [
       "(1.6453730128575634, 6.382467564005948)"
      ]
     },
     "execution_count": 46,
     "metadata": {},
     "output_type": "execute_result"
    }
   ],
   "source": [
    "ll9=df9.Turbidity.quantile(0.001)\n",
    "ul9=df9.Turbidity.quantile(0.999)\n",
    "ll9,ul9"
   ]
  },
  {
   "cell_type": "code",
   "execution_count": 47,
   "metadata": {},
   "outputs": [
    {
     "data": {
      "text/plain": [
       "(3204, 10)"
      ]
     },
     "execution_count": 47,
     "metadata": {},
     "output_type": "execute_result"
    }
   ],
   "source": [
    "df9[(df9.Turbidity<ll9) | (df9.Turbidity>ul9)]\n",
    "df10=df9[(df9.Turbidity>=ll9) & (df9.Turbidity<=ul9)]\n",
    "df10.shape"
   ]
  },
  {
   "cell_type": "code",
   "execution_count": 48,
   "metadata": {},
   "outputs": [
    {
     "data": {
      "text/html": [
       "<div>\n",
       "<style scoped>\n",
       "    .dataframe tbody tr th:only-of-type {\n",
       "        vertical-align: middle;\n",
       "    }\n",
       "\n",
       "    .dataframe tbody tr th {\n",
       "        vertical-align: top;\n",
       "    }\n",
       "\n",
       "    .dataframe thead th {\n",
       "        text-align: right;\n",
       "    }\n",
       "</style>\n",
       "<table border=\"1\" class=\"dataframe\">\n",
       "  <thead>\n",
       "    <tr style=\"text-align: right;\">\n",
       "      <th></th>\n",
       "      <th>ph</th>\n",
       "      <th>Hardness</th>\n",
       "      <th>Solids</th>\n",
       "      <th>Chloramines</th>\n",
       "      <th>Sulfate</th>\n",
       "      <th>Conductivity</th>\n",
       "      <th>Organic_carbon</th>\n",
       "      <th>Trihalomethanes</th>\n",
       "      <th>Turbidity</th>\n",
       "      <th>Potability</th>\n",
       "    </tr>\n",
       "  </thead>\n",
       "  <tbody>\n",
       "    <tr>\n",
       "      <th>374</th>\n",
       "      <td>8.882684</td>\n",
       "      <td>135.523062</td>\n",
       "      <td>4857.253807</td>\n",
       "      <td>5.209779</td>\n",
       "      <td>333.073546</td>\n",
       "      <td>532.336659</td>\n",
       "      <td>20.296274</td>\n",
       "      <td>20.337753</td>\n",
       "      <td>3.827921</td>\n",
       "      <td>1</td>\n",
       "    </tr>\n",
       "    <tr>\n",
       "      <th>1444</th>\n",
       "      <td>6.848033</td>\n",
       "      <td>165.815326</td>\n",
       "      <td>6068.454885</td>\n",
       "      <td>6.132132</td>\n",
       "      <td>373.206834</td>\n",
       "      <td>442.786267</td>\n",
       "      <td>11.118171</td>\n",
       "      <td>64.027600</td>\n",
       "      <td>4.257038</td>\n",
       "      <td>0</td>\n",
       "    </tr>\n",
       "    <tr>\n",
       "      <th>1079</th>\n",
       "      <td>6.744799</td>\n",
       "      <td>204.084318</td>\n",
       "      <td>20215.697517</td>\n",
       "      <td>6.125252</td>\n",
       "      <td>304.527937</td>\n",
       "      <td>544.339317</td>\n",
       "      <td>12.014243</td>\n",
       "      <td>72.608076</td>\n",
       "      <td>4.868543</td>\n",
       "      <td>1</td>\n",
       "    </tr>\n",
       "    <tr>\n",
       "      <th>953</th>\n",
       "      <td>6.583065</td>\n",
       "      <td>163.361604</td>\n",
       "      <td>17977.693938</td>\n",
       "      <td>6.542088</td>\n",
       "      <td>333.073546</td>\n",
       "      <td>383.124504</td>\n",
       "      <td>18.094544</td>\n",
       "      <td>44.136469</td>\n",
       "      <td>3.772859</td>\n",
       "      <td>0</td>\n",
       "    </tr>\n",
       "    <tr>\n",
       "      <th>2545</th>\n",
       "      <td>7.080795</td>\n",
       "      <td>199.942222</td>\n",
       "      <td>25973.326631</td>\n",
       "      <td>6.490994</td>\n",
       "      <td>336.040741</td>\n",
       "      <td>344.970363</td>\n",
       "      <td>12.640414</td>\n",
       "      <td>46.854524</td>\n",
       "      <td>3.151768</td>\n",
       "      <td>0</td>\n",
       "    </tr>\n",
       "  </tbody>\n",
       "</table>\n",
       "</div>"
      ],
      "text/plain": [
       "            ph    Hardness        Solids  Chloramines     Sulfate  \\\n",
       "374   8.882684  135.523062   4857.253807     5.209779  333.073546   \n",
       "1444  6.848033  165.815326   6068.454885     6.132132  373.206834   \n",
       "1079  6.744799  204.084318  20215.697517     6.125252  304.527937   \n",
       "953   6.583065  163.361604  17977.693938     6.542088  333.073546   \n",
       "2545  7.080795  199.942222  25973.326631     6.490994  336.040741   \n",
       "\n",
       "      Conductivity  Organic_carbon  Trihalomethanes  Turbidity  Potability  \n",
       "374     532.336659       20.296274        20.337753   3.827921           1  \n",
       "1444    442.786267       11.118171        64.027600   4.257038           0  \n",
       "1079    544.339317       12.014243        72.608076   4.868543           1  \n",
       "953     383.124504       18.094544        44.136469   3.772859           0  \n",
       "2545    344.970363       12.640414        46.854524   3.151768           0  "
      ]
     },
     "execution_count": 48,
     "metadata": {},
     "output_type": "execute_result"
    }
   ],
   "source": [
    "df10.sample(5)"
   ]
  },
  {
   "cell_type": "code",
   "execution_count": 49,
   "metadata": {},
   "outputs": [
    {
     "data": {
      "text/plain": [
       "Text(0, 0.5, 'count')"
      ]
     },
     "execution_count": 49,
     "metadata": {},
     "output_type": "execute_result"
    },
    {
     "data": {
      "image/png": "[encoded data removed]",
      "text/plain": [
       "<Figure size 432x288 with 1 Axes>"
      ]
     },
     "metadata": {
      "needs_background": "light"
     },
     "output_type": "display_data"
    }
   ],
   "source": [
    "plt.hist(df10.Solids,rwidth=0.8)\n",
    "plt.xlabel('Solids')\n",
    "plt.ylabel('count')"
   ]
  },
  {
   "cell_type": "code",
   "execution_count": 50,
   "metadata": {},
   "outputs": [
    {
     "data": {
      "text/plain": [
       "(3204, 9)"
      ]
     },
     "execution_count": 50,
     "metadata": {},
     "output_type": "execute_result"
    }
   ],
   "source": [
    "X=df10.drop('Potability',axis='columns')\n",
    "X.shape"
   ]
  },
  {
   "cell_type": "code",
   "execution_count": 51,
   "metadata": {},
   "outputs": [
    {
     "data": {
      "text/plain": [
       "0    0\n",
       "1    0\n",
       "2    0\n",
       "3    0\n",
       "4    0\n",
       "Name: Potability, dtype: int64"
      ]
     },
     "execution_count": 51,
     "metadata": {},
     "output_type": "execute_result"
    }
   ],
   "source": [
    "y=df10.Potability\n",
    "y.head()"
   ]
  },
  {
   "cell_type": "code",
   "execution_count": 52,
   "metadata": {},
   "outputs": [],
   "source": [
    "#my data looks pretty cool,so we can prepare the training and testing dataset\n",
    "from sklearn.model_selection import train_test_split\n",
    "X_train,X_test,y_train,y_test=train_test_split(X,y,test_size=0.2,random_state=10)"
   ]
  },
  {
   "cell_type": "code",
   "execution_count": 53,
   "metadata": {},
   "outputs": [
    {
     "data": {
      "text/plain": [
       "(2563, 9)"
      ]
     },
     "execution_count": 53,
     "metadata": {},
     "output_type": "execute_result"
    }
   ],
   "source": [
    "X_train.shape"
   ]
  },
  {
   "cell_type": "code",
   "execution_count": 54,
   "metadata": {},
   "outputs": [
    {
     "data": {
      "text/plain": [
       "641"
      ]
     },
     "execution_count": 54,
     "metadata": {},
     "output_type": "execute_result"
    }
   ],
   "source": [
    "len(X_test)"
   ]
  },
  {
   "cell_type": "code",
   "execution_count": 55,
   "metadata": {},
   "outputs": [],
   "source": [
    "#using ANN to create a prediction model for water potability"
   ]
  },
  {
   "cell_type": "code",
   "execution_count": 56,
   "metadata": {},
   "outputs": [],
   "source": [
    "import tensorflow as tf\n",
    "from tensorflow import keras\n",
    "from tensorflow.keras import layers\n",
    "from tensorflow.keras.models import Sequential"
   ]
  },
  {
   "cell_type": "code",
   "execution_count": 57,
   "metadata": {},
   "outputs": [
    {
     "name": "stdout",
     "output_type": "stream",
     "text": [
      "Epoch 1/100\n",
      "321/321 [==============================] - 10s 4ms/step - loss: 559.2151 - accuracy: 0.5400\n",
      "Epoch 2/100\n",
      "321/321 [==============================] - 2s 5ms/step - loss: 119.8976 - accuracy: 0.5868\n",
      "Epoch 3/100\n",
      "321/321 [==============================] - 1s 5ms/step - loss: 44.4378 - accuracy: 0.5934A: 0s - loss: 48.2744 \n",
      "Epoch 4/100\n",
      "321/321 [==============================] - 2s 5ms/step - loss: 12.3834 - accuracy: 0.5989\n",
      "Epoch 5/100\n",
      "321/321 [==============================] - 2s 6ms/step - loss: 10.2208 - accuracy: 0.5895A: 0s - loss: 10.1132 - accu\n",
      "Epoch 6/100\n",
      "321/321 [==============================] - 2s 6ms/step - loss: 5.2654 - accuracy: 0.5903\n",
      "Epoch 7/100\n",
      "321/321 [==============================] - 2s 7ms/step - loss: 1.9218 - accuracy: 0.5985\n",
      "Epoch 8/100\n",
      "321/321 [==============================] - 2s 7ms/step - loss: 2.0765 - accuracy: 0.5981\n",
      "Epoch 9/100\n",
      "321/321 [==============================] - 2s 5ms/step - loss: 1.1646 - accuracy: 0.5966\n",
      "Epoch 10/100\n",
      "321/321 [==============================] - 2s 6ms/step - loss: 0.9330 - accuracy: 0.5970\n",
      "Epoch 11/100\n",
      "321/321 [==============================] - 2s 5ms/step - loss: 0.9172 - accuracy: 0.6005\n",
      "Epoch 12/100\n",
      "321/321 [==============================] - 2s 5ms/step - loss: 0.9482 - accuracy: 0.6048\n",
      "Epoch 13/100\n",
      "321/321 [==============================] - 2s 5ms/step - loss: 0.7466 - accuracy: 0.6032\n",
      "Epoch 14/100\n",
      "321/321 [==============================] - 2s 6ms/step - loss: 0.7794 - accuracy: 0.6048\n",
      "Epoch 15/100\n",
      "321/321 [==============================] - 2s 8ms/step - loss: 0.7473 - accuracy: 0.6028: 0s - loss: 0.7537 - accu\n",
      "Epoch 16/100\n",
      "321/321 [==============================] - 2s 7ms/step - loss: 0.6947 - accuracy: 0.6052\n",
      "Epoch 17/100\n",
      "321/321 [==============================] - 2s 7ms/step - loss: 0.7119 - accuracy: 0.6032: 0s - loss:\n",
      "Epoch 18/100\n",
      "321/321 [==============================] - 1s 4ms/step - loss: 0.6993 - accuracy: 0.6024\n",
      "Epoch 19/100\n",
      "321/321 [==============================] - 2s 5ms/step - loss: 0.6867 - accuracy: 0.6075\n",
      "Epoch 20/100\n",
      "321/321 [==============================] - 2s 5ms/step - loss: 0.6801 - accuracy: 0.6067\n",
      "Epoch 21/100\n",
      "321/321 [==============================] - 2s 5ms/step - loss: 0.6836 - accuracy: 0.6067\n",
      "Epoch 22/100\n",
      "321/321 [==============================] - 2s 5ms/step - loss: 0.6772 - accuracy: 0.6122: 0s - loss: 0.6759 - ac\n",
      "Epoch 23/100\n",
      "321/321 [==============================] - 2s 5ms/step - loss: 0.6734 - accuracy: 0.6130\n",
      "Epoch 24/100\n",
      "321/321 [==============================] - 2s 7ms/step - loss: 0.6810 - accuracy: 0.6059\n",
      "Epoch 25/100\n",
      "321/321 [==============================] - 2s 6ms/step - loss: 0.6751 - accuracy: 0.6102: 0s - loss: 0.6743 - accuracy\n",
      "Epoch 26/100\n",
      "321/321 [==============================] - 2s 7ms/step - loss: 0.6724 - accuracy: 0.6130\n",
      "Epoch 27/100\n",
      "321/321 [==============================] - 2s 5ms/step - loss: 0.6689 - accuracy: 0.6153\n",
      "Epoch 28/100\n",
      "321/321 [==============================] - 1s 4ms/step - loss: 0.6737 - accuracy: 0.6145\n",
      "Epoch 29/100\n",
      "321/321 [==============================] - 2s 5ms/step - loss: 0.6697 - accuracy: 0.6161\n",
      "Epoch 30/100\n",
      "321/321 [==============================] - 2s 6ms/step - loss: 0.6701 - accuracy: 0.6133: 1s - loss: 0.6844 - accu - ETA: 0s - l\n",
      "Epoch 31/100\n",
      "321/321 [==============================] - 2s 5ms/step - loss: 0.6707 - accuracy: 0.6122\n",
      "Epoch 32/100\n",
      "321/321 [==============================] - 2s 7ms/step - loss: 0.6689 - accuracy: 0.6141\n",
      "Epoch 33/100\n",
      "321/321 [==============================] - ETA: 0s - loss: 0.6679 - accuracy: 0.61 - 2s 6ms/step - loss: 0.6683 - accuracy: 0.6133\n",
      "Epoch 34/100\n",
      "321/321 [==============================] - 2s 6ms/step - loss: 0.6679 - accuracy: 0.6141\n",
      "Epoch 35/100\n",
      "321/321 [==============================] - 2s 5ms/step - loss: 0.6671 - accuracy: 0.6122\n",
      "Epoch 36/100\n",
      "321/321 [==============================] - 2s 5ms/step - loss: 0.6679 - accuracy: 0.6133\n",
      "Epoch 37/100\n",
      "321/321 [==============================] - 2s 6ms/step - loss: 0.6668 - accuracy: 0.6141\n",
      "Epoch 38/100\n",
      "321/321 [==============================] - 2s 5ms/step - loss: 0.6673 - accuracy: 0.6145\n",
      "Epoch 39/100\n",
      "321/321 [==============================] - 1s 4ms/step - loss: 0.6673 - accuracy: 0.6145\n",
      "Epoch 40/100\n",
      "321/321 [==============================] - 2s 6ms/step - loss: 0.6672 - accuracy: 0.6145: \n",
      "Epoch 41/100\n",
      "321/321 [==============================] - 2s 6ms/step - loss: 0.6676 - accuracy: 0.6137\n",
      "Epoch 42/100\n",
      "321/321 [==============================] - 2s 7ms/step - loss: 0.6663 - accuracy: 0.6145: 0s - loss:\n",
      "Epoch 43/100\n",
      "321/321 [==============================] - 2s 7ms/step - loss: 0.6671 - accuracy: 0.6145\n",
      "Epoch 44/100\n",
      "321/321 [==============================] - 2s 6ms/step - loss: 0.6671 - accuracy: 0.6145: 0s - loss: 0.6657 - accuracy: \n",
      "Epoch 45/100\n",
      "321/321 [==============================] - 2s 6ms/step - loss: 0.6668 - accuracy: 0.6149\n",
      "Epoch 46/100\n",
      "321/321 [==============================] - 2s 6ms/step - loss: 0.6666 - accuracy: 0.6145\n",
      "Epoch 47/100\n",
      "321/321 [==============================] - 2s 6ms/step - loss: 0.6671 - accuracy: 0.6145\n",
      "Epoch 48/100\n",
      "321/321 [==============================] - 2s 7ms/step - loss: 0.6668 - accuracy: 0.6145\n",
      "Epoch 49/100\n",
      "321/321 [==============================] - 2s 6ms/step - loss: 0.6668 - accuracy: 0.6145\n",
      "Epoch 50/100\n",
      "321/321 [==============================] - 2s 6ms/step - loss: 0.6668 - accuracy: 0.6145\n",
      "Epoch 51/100\n",
      "321/321 [==============================] - 2s 5ms/step - loss: 0.6667 - accuracy: 0.6145\n",
      "Epoch 52/100\n",
      "321/321 [==============================] - 2s 5ms/step - loss: 0.6668 - accuracy: 0.6145: 0s - loss: 0.6687 \n",
      "Epoch 53/100\n",
      "321/321 [==============================] - 1s 5ms/step - loss: 0.6668 - accuracy: 0.6145\n",
      "Epoch 54/100\n",
      "321/321 [==============================] - 1s 4ms/step - loss: 0.6667 - accuracy: 0.6145: 0s - l\n",
      "Epoch 55/100\n",
      "321/321 [==============================] - 2s 6ms/step - loss: 0.6668 - accuracy: 0.6145\n",
      "Epoch 56/100\n",
      "321/321 [==============================] - 2s 5ms/step - loss: 0.6668 - accuracy: 0.6145\n",
      "Epoch 57/100\n",
      "321/321 [==============================] - 2s 6ms/step - loss: 0.6668 - accuracy: 0.6145\n",
      "Epoch 58/100\n",
      "321/321 [==============================] - 2s 5ms/step - loss: 0.6667 - accuracy: 0.6145\n",
      "Epoch 59/100\n",
      "321/321 [==============================] - 2s 6ms/step - loss: 0.6668 - accuracy: 0.6145: 0s - loss: 0.6661 \n",
      "Epoch 60/100\n",
      "321/321 [==============================] - 2s 5ms/step - loss: 0.6668 - accuracy: 0.6145\n",
      "Epoch 61/100\n",
      "321/321 [==============================] - 1s 4ms/step - loss: 0.6668 - accuracy: 0.6145\n",
      "Epoch 62/100\n",
      "321/321 [==============================] - 2s 5ms/step - loss: 0.6667 - accuracy: 0.6145 - ETA: 0s - loss: 0.6656 - accuracy\n",
      "Epoch 63/100\n",
      "321/321 [==============================] - 2s 6ms/step - loss: 0.6668 - accuracy: 0.6145\n",
      "Epoch 64/100\n",
      "321/321 [==============================] - 2s 5ms/step - loss: 0.6668 - accuracy: 0.6145\n",
      "Epoch 65/100\n",
      "321/321 [==============================] - 2s 6ms/step - loss: 0.6668 - accuracy: 0.6145\n",
      "Epoch 66/100\n",
      "321/321 [==============================] - 2s 5ms/step - loss: 0.6668 - accuracy: 0.6145\n",
      "Epoch 67/100\n",
      "321/321 [==============================] - 2s 6ms/step - loss: 0.6668 - accuracy: 0.6145\n",
      "Epoch 68/100\n",
      "321/321 [==============================] - 2s 7ms/step - loss: 0.6668 - accuracy: 0.6145\n",
      "Epoch 69/100\n",
      "321/321 [==============================] - 2s 5ms/step - loss: 0.6668 - accuracy: 0.6145\n",
      "Epoch 70/100\n",
      "321/321 [==============================] - 1s 5ms/step - loss: 0.6668 - accuracy: 0.6145\n",
      "Epoch 71/100\n",
      "321/321 [==============================] - 2s 6ms/step - loss: 0.6667 - accuracy: 0.6145\n",
      "Epoch 72/100\n",
      "321/321 [==============================] - 2s 5ms/step - loss: 0.6668 - accuracy: 0.6145\n",
      "Epoch 73/100\n",
      "321/321 [==============================] - 2s 5ms/step - loss: 0.6668 - accuracy: 0.6145\n",
      "Epoch 74/100\n",
      "321/321 [==============================] - 2s 5ms/step - loss: 0.6668 - accuracy: 0.6145: 0s - loss: 0.6675 \n",
      "Epoch 75/100\n",
      "321/321 [==============================] - 2s 6ms/step - loss: 0.6668 - accuracy: 0.6145\n",
      "Epoch 76/100\n",
      "321/321 [==============================] - 2s 7ms/step - loss: 0.6668 - accuracy: 0.6145\n",
      "Epoch 77/100\n"
     ]
    },
    {
     "name": "stdout",
     "output_type": "stream",
     "text": [
      "321/321 [==============================] - 2s 7ms/step - loss: 0.6668 - accuracy: 0.6145\n",
      "Epoch 78/100\n",
      "321/321 [==============================] - 2s 7ms/step - loss: 0.6668 - accuracy: 0.6145\n",
      "Epoch 79/100\n",
      "321/321 [==============================] - 2s 6ms/step - loss: 0.6668 - accuracy: 0.6145\n",
      "Epoch 80/100\n",
      "321/321 [==============================] - 2s 5ms/step - loss: 0.6668 - accuracy: 0.6145\n",
      "Epoch 81/100\n",
      "321/321 [==============================] - 2s 7ms/step - loss: 0.6668 - accuracy: 0.6145\n",
      "Epoch 82/100\n",
      "321/321 [==============================] - 1s 4ms/step - loss: 0.6667 - accuracy: 0.6145\n",
      "Epoch 83/100\n",
      "321/321 [==============================] - 1s 4ms/step - loss: 0.6667 - accuracy: 0.6145\n",
      "Epoch 84/100\n",
      "321/321 [==============================] - 2s 5ms/step - loss: 0.6667 - accuracy: 0.6145\n",
      "Epoch 85/100\n",
      "321/321 [==============================] - 2s 5ms/step - loss: 0.6668 - accuracy: 0.6145\n",
      "Epoch 86/100\n",
      "321/321 [==============================] - 1s 4ms/step - loss: 0.6667 - accuracy: 0.6145\n",
      "Epoch 87/100\n",
      "321/321 [==============================] - 2s 5ms/step - loss: 0.6749 - accuracy: 0.6145\n",
      "Epoch 88/100\n",
      "321/321 [==============================] - 1s 4ms/step - loss: 0.6670 - accuracy: 0.6145\n",
      "Epoch 89/100\n",
      "321/321 [==============================] - 2s 5ms/step - loss: 0.6667 - accuracy: 0.6145\n",
      "Epoch 90/100\n",
      "321/321 [==============================] - 2s 5ms/step - loss: 0.6668 - accuracy: 0.6145\n",
      "Epoch 91/100\n",
      "321/321 [==============================] - 1s 4ms/step - loss: 0.6668 - accuracy: 0.6145\n",
      "Epoch 92/100\n",
      "321/321 [==============================] - 1s 4ms/step - loss: 0.6668 - accuracy: 0.6145\n",
      "Epoch 93/100\n",
      "321/321 [==============================] - 1s 4ms/step - loss: 0.6666 - accuracy: 0.6145\n",
      "Epoch 94/100\n",
      "321/321 [==============================] - 2s 5ms/step - loss: 0.6670 - accuracy: 0.6145\n",
      "Epoch 95/100\n",
      "321/321 [==============================] - 2s 5ms/step - loss: 0.6668 - accuracy: 0.6145\n",
      "Epoch 96/100\n",
      "321/321 [==============================] - 2s 5ms/step - loss: 0.6668 - accuracy: 0.6145: 0s - loss: 0.6680 - accuracy: 0.\n",
      "Epoch 97/100\n",
      "321/321 [==============================] - 2s 6ms/step - loss: 0.6668 - accuracy: 0.6145\n",
      "Epoch 98/100\n",
      "321/321 [==============================] - 2s 5ms/step - loss: 0.6667 - accuracy: 0.6145\n",
      "Epoch 99/100\n",
      "321/321 [==============================] - 1s 4ms/step - loss: 0.6668 - accuracy: 0.6145\n",
      "Epoch 100/100\n",
      "321/321 [==============================] - 1s 3ms/step - loss: 0.6668 - accuracy: 0.6145\n"
     ]
    },
    {
     "data": {
      "text/plain": [
       "<tensorflow.python.keras.callbacks.History at 0x1be29a394c0>"
      ]
     },
     "execution_count": 57,
     "metadata": {},
     "output_type": "execute_result"
    }
   ],
   "source": [
    "model=keras.Sequential([\n",
    "    keras.layers.Dense(9,input_dim=9,activation='relu'),\n",
    "    keras.layers.Dropout(0.5),#this layer will drop 50% of the neurons-----the good practice is we put dropout layer after each\n",
    "    #hidden layer\n",
    "    keras.layers.Dense(7,activation='relu'),\n",
    "    keras.layers.Dropout(0.5),\n",
    "    keras.layers.Dense(5,activation='relu'),\n",
    "    keras.layers.Dropout(0.5),\n",
    "    keras.layers.Dense(1,activation='sigmoid')\n",
    "])\n",
    "model.compile(\n",
    "    loss='binary_crossentropy',\n",
    "    optimizer='adam',\n",
    "    metrics=['accuracy']\n",
    ")\n",
    "model.fit(X_train,y_train,epochs=100,batch_size=8)"
   ]
  },
  {
   "cell_type": "code",
   "execution_count": 58,
   "metadata": {},
   "outputs": [
    {
     "name": "stdout",
     "output_type": "stream",
     "text": [
      "21/21 [==============================] - 1s 6ms/step - loss: 0.6666 - accuracy: 0.6147\n"
     ]
    },
    {
     "data": {
      "text/plain": [
       "[0.6666163206100464, 0.614664614200592]"
      ]
     },
     "execution_count": 58,
     "metadata": {},
     "output_type": "execute_result"
    }
   ],
   "source": [
    "#testing my model on the test dataset\n",
    "model.evaluate(X_test,y_test)"
   ]
  },
  {
   "cell_type": "code",
   "execution_count": 59,
   "metadata": {},
   "outputs": [],
   "source": [
    "#my model is kinda doing pretty okay,so i can do prediction"
   ]
  },
  {
   "cell_type": "code",
   "execution_count": 60,
   "metadata": {},
   "outputs": [
    {
     "data": {
      "text/plain": [
       "array([0., 0., 0., 0., 0., 0., 0., 0., 0., 0.], dtype=float32)"
      ]
     },
     "execution_count": 60,
     "metadata": {},
     "output_type": "execute_result"
    }
   ],
   "source": [
    "y_pred=model.predict(X_test).reshape(-1)\n",
    "y_pred=np.round(y_pred)\n",
    "y_pred[:10]"
   ]
  },
  {
   "cell_type": "code",
   "execution_count": 61,
   "metadata": {},
   "outputs": [
    {
     "data": {
      "text/plain": [
       "1005    0\n",
       "906     0\n",
       "176     0\n",
       "2708    0\n",
       "3053    0\n",
       "1968    1\n",
       "1929    1\n",
       "3203    1\n",
       "1263    0\n",
       "2900    0\n",
       "Name: Potability, dtype: int64"
      ]
     },
     "execution_count": 61,
     "metadata": {},
     "output_type": "execute_result"
    }
   ],
   "source": [
    "y_test[:10]"
   ]
  },
  {
   "cell_type": "code",
   "execution_count": 62,
   "metadata": {},
   "outputs": [
    {
     "name": "stdout",
     "output_type": "stream",
     "text": [
      "              precision    recall  f1-score   support\n",
      "\n",
      "           0       0.61      1.00      0.76       394\n",
      "           1       0.00      0.00      0.00       247\n",
      "\n",
      "    accuracy                           0.61       641\n",
      "   macro avg       0.31      0.50      0.38       641\n",
      "weighted avg       0.38      0.61      0.47       641\n",
      "\n"
     ]
    },
    {
     "name": "stderr",
     "output_type": "stream",
     "text": [
      "C:\\Users\\sojore\\anaconda3\\lib\\site-packages\\sklearn\\metrics\\_classification.py:1221: UndefinedMetricWarning: Precision and F-score are ill-defined and being set to 0.0 in labels with no predicted samples. Use `zero_division` parameter to control this behavior.\n",
      "  _warn_prf(average, modifier, msg_start, len(result))\n"
     ]
    }
   ],
   "source": [
    "y_pred=model.predict(X_test).reshape(-1)\n",
    "y_pred=np.round(y_pred)\n",
    "\n",
    "from sklearn.metrics import confusion_matrix,classification_report\n",
    "print(classification_report(y_test,y_pred))"
   ]
  },
  {
   "cell_type": "code",
   "execution_count": 63,
   "metadata": {},
   "outputs": [],
   "source": [
    "##using machine learning algorithms to build a model,\n",
    "#i will compare its perfomance to the ANN model"
   ]
  },
  {
   "cell_type": "code",
   "execution_count": 64,
   "metadata": {},
   "outputs": [],
   "source": [
    "##creating a machine learning model\n",
    "from sklearn.linear_model import LinearRegression\n",
    "from sklearn.linear_model import LogisticRegression\n",
    "from sklearn.linear_model import Lasso\n",
    "from sklearn.tree import DecisionTreeRegressor\n",
    "from sklearn.svm import SVC\n",
    "from sklearn.ensemble import RandomForestClassifier\n",
    "\n",
    "from sklearn.model_selection import cross_val_score\n",
    "from sklearn.model_selection import GridSearchCV\n",
    "from sklearn.model_selection import ShuffleSplit"
   ]
  },
  {
   "cell_type": "code",
   "execution_count": 65,
   "metadata": {},
   "outputs": [],
   "source": [
    "cv=ShuffleSplit(n_splits=5,test_size=0.2,random_state=0)\n",
    "def find_best_model_using_gridsearchcv(X,y):\n",
    "    models={\n",
    "        'linear_regression':{\n",
    "            'model':LinearRegression(),\n",
    "            'params':{\n",
    "                'normalize':[True,False]\n",
    "            }\n",
    "        },\n",
    "        'lasso':{\n",
    "            'model':Lasso(),\n",
    "            'params':{\n",
    "                'alpha':[1,2],\n",
    "                'selection':['random','cyclic']\n",
    "            }\n",
    "        },\n",
    "        'decision_tree':{\n",
    "            'model':DecisionTreeRegressor(),\n",
    "            'params':{\n",
    "                'criterion':['mse','friedman_mse'],\n",
    "                'splitter':['best','random']\n",
    "            }\n",
    "        },\n",
    "        'svm':{\n",
    "            'model':SVC(),\n",
    "            'params':{\n",
    "                'C':[1,2,3],\n",
    "                'kernel':['linear','rbf']\n",
    "            }\n",
    "        },\n",
    "        'random_forest':{\n",
    "            'model':RandomForestClassifier(),\n",
    "            'params':{\n",
    "                \n",
    "            }\n",
    "        },\n",
    "        'logistic_regression':{\n",
    "            'model':LogisticRegression(),\n",
    "            'params':{}\n",
    "        }\n",
    "    }\n",
    "#this is what we call hyper parameter tunning\n",
    "\n",
    "    my_scores=[]\n",
    "    cv=ShuffleSplit(n_splits=5,test_size=0.2,random_state=0)\n",
    "    for model_name,config in models.items():\n",
    "        gs=GridSearchCV(config['model'],config['params'],cv=cv,return_train_score=False)\n",
    "        gs.fit(X,y)\n",
    "        my_scores.append({\n",
    "            'model':model_name,\n",
    "            'best_score':gs.best_score_,\n",
    "            'best_params':gs.best_params_\n",
    "        })\n",
    "    return pd.DataFrame(my_scores,columns=['model','best_score','best_params'])\n"
   ]
  },
  {
   "cell_type": "code",
   "execution_count": 67,
   "metadata": {},
   "outputs": [
    {
     "data": {
      "text/html": [
       "<div>\n",
       "<style scoped>\n",
       "    .dataframe tbody tr th:only-of-type {\n",
       "        vertical-align: middle;\n",
       "    }\n",
       "\n",
       "    .dataframe tbody tr th {\n",
       "        vertical-align: top;\n",
       "    }\n",
       "\n",
       "    .dataframe thead th {\n",
       "        text-align: right;\n",
       "    }\n",
       "</style>\n",
       "<table border=\"1\" class=\"dataframe\">\n",
       "  <thead>\n",
       "    <tr style=\"text-align: right;\">\n",
       "      <th></th>\n",
       "      <th>model</th>\n",
       "      <th>best_score</th>\n",
       "      <th>best_params</th>\n",
       "    </tr>\n",
       "  </thead>\n",
       "  <tbody>\n",
       "    <tr>\n",
       "      <th>0</th>\n",
       "      <td>linear_regression</td>\n",
       "      <td>-0.007070</td>\n",
       "      <td>{'normalize': True}</td>\n",
       "    </tr>\n",
       "    <tr>\n",
       "      <th>1</th>\n",
       "      <td>lasso</td>\n",
       "      <td>-0.001559</td>\n",
       "      <td>{'alpha': 1, 'selection': 'random'}</td>\n",
       "    </tr>\n",
       "    <tr>\n",
       "      <th>2</th>\n",
       "      <td>decision_tree</td>\n",
       "      <td>-0.739868</td>\n",
       "      <td>{'criterion': 'friedman_mse', 'splitter': 'ran...</td>\n",
       "    </tr>\n",
       "    <tr>\n",
       "      <th>3</th>\n",
       "      <td>svm</td>\n",
       "      <td>0.593372</td>\n",
       "      <td>{'C': 1, 'kernel': 'rbf'}</td>\n",
       "    </tr>\n",
       "    <tr>\n",
       "      <th>4</th>\n",
       "      <td>random_forest</td>\n",
       "      <td>0.650682</td>\n",
       "      <td>{}</td>\n",
       "    </tr>\n",
       "    <tr>\n",
       "      <th>5</th>\n",
       "      <td>logistic_regression</td>\n",
       "      <td>0.593372</td>\n",
       "      <td>{}</td>\n",
       "    </tr>\n",
       "  </tbody>\n",
       "</table>\n",
       "</div>"
      ],
      "text/plain": [
       "                 model  best_score  \\\n",
       "0    linear_regression   -0.007070   \n",
       "1                lasso   -0.001559   \n",
       "2        decision_tree   -0.739868   \n",
       "3                  svm    0.593372   \n",
       "4        random_forest    0.650682   \n",
       "5  logistic_regression    0.593372   \n",
       "\n",
       "                                         best_params  \n",
       "0                                {'normalize': True}  \n",
       "1                {'alpha': 1, 'selection': 'random'}  \n",
       "2  {'criterion': 'friedman_mse', 'splitter': 'ran...  \n",
       "3                          {'C': 1, 'kernel': 'rbf'}  \n",
       "4                                                 {}  \n",
       "5                                                 {}  "
      ]
     },
     "execution_count": 67,
     "metadata": {},
     "output_type": "execute_result"
    }
   ],
   "source": [
    "find_best_model_using_gridsearchcv(X_train,y_train)"
   ]
  },
  {
   "cell_type": "code",
   "execution_count": 68,
   "metadata": {},
   "outputs": [
    {
     "data": {
      "text/plain": [
       "RandomForestClassifier()"
      ]
     },
     "execution_count": 68,
     "metadata": {},
     "output_type": "execute_result"
    }
   ],
   "source": [
    "model1=RandomForestClassifier()\n",
    "model1.fit(X_train,y_train)"
   ]
  },
  {
   "cell_type": "code",
   "execution_count": 69,
   "metadata": {},
   "outputs": [
    {
     "data": {
      "text/plain": [
       "array([0, 0, 0, 1, 0, 0, 0, 1, 0, 0], dtype=int64)"
      ]
     },
     "execution_count": 69,
     "metadata": {},
     "output_type": "execute_result"
    }
   ],
   "source": [
    "y_prediction=model1.predict(X_test)\n",
    "y_prediction[:10]"
   ]
  },
  {
   "cell_type": "code",
   "execution_count": 70,
   "metadata": {},
   "outputs": [
    {
     "data": {
      "text/plain": [
       "1005    0\n",
       "906     0\n",
       "176     0\n",
       "2708    0\n",
       "3053    0\n",
       "1968    1\n",
       "1929    1\n",
       "3203    1\n",
       "1263    0\n",
       "2900    0\n",
       "Name: Potability, dtype: int64"
      ]
     },
     "execution_count": 70,
     "metadata": {},
     "output_type": "execute_result"
    }
   ],
   "source": [
    "y_test[:10]"
   ]
  },
  {
   "cell_type": "code",
   "execution_count": 72,
   "metadata": {},
   "outputs": [
    {
     "data": {
      "text/plain": [
       "Text(159.0, 0.5, 'Truth')"
      ]
     },
     "execution_count": 72,
     "metadata": {},
     "output_type": "execute_result"
    },
    {
     "data": {
      "image/png": "[encoded data removed]",
      "text/plain": [
       "<Figure size 1440x720 with 2 Axes>"
      ]
     },
     "metadata": {
      "needs_background": "light"
     },
     "output_type": "display_data"
    }
   ],
   "source": [
    "#next i will create a heatmap for a better visualization of the predicted results\n",
    "from sklearn.metrics import confusion_matrix,classification_report\n",
    "import seaborn as sn\n",
    "cm=confusion_matrix(y_test,y_prediction)\n",
    "plt.figure(figsize=(20,10))\n",
    "sn.heatmap(cm,annot=True)\n",
    "plt.xlabel('Predicted')\n",
    "plt.ylabel('Truth')"
   ]
  },
  {
   "cell_type": "code",
   "execution_count": 74,
   "metadata": {},
   "outputs": [
    {
     "name": "stdout",
     "output_type": "stream",
     "text": [
      "Classification Report: \n",
      "               precision    recall  f1-score   support\n",
      "\n",
      "           0       0.68      0.90      0.77       394\n",
      "           1       0.66      0.32      0.43       247\n",
      "\n",
      "    accuracy                           0.67       641\n",
      "   macro avg       0.67      0.61      0.60       641\n",
      "weighted avg       0.67      0.67      0.64       641\n",
      "\n"
     ]
    }
   ],
   "source": [
    "#my model is doing pretty good on doing the predictions\n",
    "#next i can print a classification report\n",
    "print('Classification Report: \\n',classification_report(y_test,y_prediction))"
   ]
  },
  {
   "cell_type": "code",
   "execution_count": null,
   "metadata": {},
   "outputs": [],
   "source": []
  }
 ],
 "metadata": {
  "kernelspec": {
   "display_name": "Python 3",
   "language": "python",
   "name": "python3"
  },
  "language_info": {
   "codemirror_mode": {
    "name": "ipython",
    "version": 3
   },
   "file_extension": ".py",
   "mimetype": "text/x-python",
   "name": "python",
   "nbconvert_exporter": "python",
   "pygments_lexer": "ipython3",
   "version": "3.8.5"
  }
 },
 "nbformat": 4,
 "nbformat_minor": 4
}
