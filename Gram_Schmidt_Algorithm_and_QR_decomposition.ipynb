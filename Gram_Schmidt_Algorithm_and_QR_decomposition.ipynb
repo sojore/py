{
  "nbformat": 4,
  "nbformat_minor": 0,
  "metadata": {
    "colab": {
      "name": "Gram-Schmidt Algorithm and QR decomposition.ipynb",
      "provenance": []
    },
    "kernelspec": {
      "name": "python3",
      "display_name": "Python 3"
    },
    "language_info": {
      "name": "python"
    }
  },
  "cells": [
    {
      "cell_type": "code",
      "execution_count": 1,
      "metadata": {
        "colab": {
          "base_uri": "https://localhost:8080/"
        },
        "id": "nxENl1bUFlDT",
        "outputId": "560c4cf9-d778-4eb8-f061-1f57a367adf8"
      },
      "outputs": [
        {
          "output_type": "stream",
          "name": "stdout",
          "text": [
            "The calculated norm value of matrix A [[0.91818594 0.20308071 0.25312483 0.02286723]\n",
            " [0.56250224 0.45649927 0.87335268 0.95542517]\n",
            " [0.91236559 0.70778487 0.28131133 0.11745314]] is = 2.1390620600374155 and with a  dimension(s) of 2\n"
          ]
        }
      ],
      "source": [
        "import numpy as np\n",
        "\n",
        "#function to generate random matrix A\n",
        "A=np.random.random((3,4))\n",
        "\n",
        "#function for calculating the frobenious norm of matrix A\n",
        "norm_val = np.linalg.norm(A)\n",
        "\n",
        "print(f'The calculated norm value of matrix A {A} is = {norm_val} and with a  dimension(s) of {A.ndim}')"
      ]
    },
    {
      "cell_type": "code",
      "source": [
        "#implementing the Gram-Schmidt Algorithm \n",
        "#this function will be printing  appropriate messages for Gram-Schmidt algorithm applicability on columns of the matrix A\n",
        "#and then we use the same function to generate the matrix Q from A\n",
        "import numpy as np\n",
        "def gram_schmidt_algorithm(A):\n",
        "  matrix_Q = []\n",
        "  for i in range(len(A)):\n",
        "    \n",
        "    #this perfoms the normalization approach\n",
        "    matrix_Q_orth = A[i]\n",
        "    for j in range(len(matrix_Q)):\n",
        "      matrix_Q_orth = matrix_Q_orth - (matrix_Q[j] @ A[i])*matrix_Q[j]\n",
        "      if np.sqrt(sum(matrix_Q_orth**2)) <= 1e-10: #here we will be checking for linearly independence \n",
        "        print('The given vector is linearly dependent.')\n",
        "        return matrix_Q\n",
        "    # performing the Gram-Schmidt orthogonalization\n",
        "    else:\n",
        "      matrix_Q_orth = matrix_Q_orth / np.sqrt(sum(matrix_Q_orth**2))\n",
        "      matrix_Q.append(matrix_Q_orth)\n",
        "\n",
        "  print('The given vector is linearly independent.')\n",
        "  return matrix_Q\n"
      ],
      "metadata": {
        "id": "3dIE1byCKOm-"
      },
      "execution_count": 2,
      "outputs": []
    },
    {
      "cell_type": "code",
      "source": [
        "Q = gram_schmidt_algorithm(A)"
      ],
      "metadata": {
        "colab": {
          "base_uri": "https://localhost:8080/"
        },
        "id": "xCWN0gQVMLUr",
        "outputId": "50499337-97a0-4eb5-e387-e028acc7ee8d"
      },
      "execution_count": 3,
      "outputs": [
        {
          "output_type": "stream",
          "name": "stdout",
          "text": [
            "The given vector is linearly independent.\n"
          ]
        }
      ]
    },
    {
      "cell_type": "code",
      "source": [
        "# printing  appropriate messages for Gram-Schmidt algorithm applicability on columns of the matrix Q\n",
        "if (sum(Q[0]**2))**0.5<=0:\n",
        "  print(f'The Gram-Schmidt algorithm is not applicable on the matrix A from the first columns of A')\n",
        "else:\n",
        "  print(f'The Gram-Schmidt algorithm  is applicable from the first column of A')"
      ],
      "metadata": {
        "colab": {
          "base_uri": "https://localhost:8080/"
        },
        "id": "c2_cbNrjMZH-",
        "outputId": "4674dba8-3c57-4921-8789-499b23f72db5"
      },
      "execution_count": 4,
      "outputs": [
        {
          "output_type": "stream",
          "name": "stdout",
          "text": [
            "The Gram-Schmidt algorithm  is applicable from the first column of A\n"
          ]
        }
      ]
    },
    {
      "cell_type": "code",
      "source": [
        "if Q[0] @ Q[1]<=0:\n",
        "  print(f'The Gram-Schmidt algorithm is not applicable on the matrix A from the inner columns of A')\n",
        "else:\n",
        "  print(f'The Gram-Schmidt algorithm  is applicable from the inner columns of A')"
      ],
      "metadata": {
        "colab": {
          "base_uri": "https://localhost:8080/"
        },
        "id": "o7DtVMskQipJ",
        "outputId": "65e9fd15-7572-4628-8767-4b2eb37e629c"
      },
      "execution_count": 5,
      "outputs": [
        {
          "output_type": "stream",
          "name": "stdout",
          "text": [
            "The Gram-Schmidt algorithm is not applicable on the matrix A from the inner columns of A\n"
          ]
        }
      ]
    },
    {
      "cell_type": "code",
      "source": [
        "if (sum(Q[2]**2))**0.5<=0:\n",
        "  print(f'The Gram-Schmidt algorithm is not applicable on the matrix A from the last columns of A')\n",
        "else:\n",
        "  print(f'The Gram-Schmidt algorithm  is applicable from the last columns of A')"
      ],
      "metadata": {
        "colab": {
          "base_uri": "https://localhost:8080/"
        },
        "id": "nCUisUZvZ8Dg",
        "outputId": "b639c3de-b917-45a6-deb2-a04f6af6bb55"
      },
      "execution_count": 6,
      "outputs": [
        {
          "output_type": "stream",
          "name": "stdout",
          "text": [
            "The Gram-Schmidt algorithm  is applicable from the last columns of A\n"
          ]
        }
      ]
    },
    {
      "cell_type": "code",
      "source": [
        "#printing the matrix Q from A\n",
        "print(f'The matrix Q produced by gram_schmidt_algorithm from A is{Q} ')"
      ],
      "metadata": {
        "colab": {
          "base_uri": "https://localhost:8080/"
        },
        "id": "-wn5ynxSaG0a",
        "outputId": "5ec2f32e-e775-431e-8e2f-e5b11ec68a54"
      },
      "execution_count": 7,
      "outputs": [
        {
          "output_type": "stream",
          "name": "stdout",
          "text": [
            "The matrix Q produced by gram_schmidt_algorithm from A is[array([0.94258363, 0.20847689, 0.25985077, 0.02347485]), array([-0.21871274,  0.22882737,  0.53927342,  0.78037616]), array([-0.1391905 ,  0.94840087, -0.24248765, -0.14953771])] \n"
          ]
        }
      ]
    },
    {
      "cell_type": "code",
      "source": [
        "def QR_decomposition(A):\n",
        "  Matrix_Q_transpose = np.array(gram_schmidt_algorithm(A.T))\n",
        "  tranposed_matrix = Matrix_Q_transpose @ A\n",
        "  Matrix_Q = Matrix_Q_transpose.T\n",
        "  return Matrix_Q, tranposed_matrix\n",
        "\n",
        "Matrix_Q, tranposed_matrix = QR_decomposition(A)\n",
        "print(f'From QR_decomposition the matrix Q is {Matrix_Q} and matrix R is {tranposed_matrix} ')"
      ],
      "metadata": {
        "colab": {
          "base_uri": "https://localhost:8080/"
        },
        "id": "ZJv0SSyBdK4O",
        "outputId": "2229de33-f1da-46bd-aa3c-6c8142a149d5"
      },
      "execution_count": 8,
      "outputs": [
        {
          "output_type": "stream",
          "name": "stdout",
          "text": [
            "The given vector is linearly dependent.\n",
            "From QR_decomposition the matrix Q is [[ 0.65057668 -0.75872209  0.03302687]\n",
            " [ 0.39855853  0.37812146  0.83556882]\n",
            " [ 0.64645269  0.53043845 -0.54839217]] and matrix R is [[ 1.41134162e+00  7.71610688e-01  6.94613738e-01  4.71597638e-01]\n",
            " [-8.79880583e-17  3.93966657e-01  2.87400334e-01  4.06218557e-01]\n",
            " [-3.63619779e-17 -6.11742778e-17  5.83837266e-01  7.34668334e-01]] \n"
          ]
        }
      ]
    },
    {
      "cell_type": "code",
      "source": [
        ""
      ],
      "metadata": {
        "id": "mH4ikr-_hC79"
      },
      "execution_count": 8,
      "outputs": []
    }
  ]
}